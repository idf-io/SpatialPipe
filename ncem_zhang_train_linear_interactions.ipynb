{
 "cells": [
  {
   "cell_type": "code",
   "execution_count": 1,
   "metadata": {},
   "outputs": [
    {
     "name": "stderr",
     "output_type": "stream",
     "text": [
      "2023-01-24 16:34:04.461191: I tensorflow/core/platform/cpu_feature_guard.cc:193] This TensorFlow binary is optimized with oneAPI Deep Neural Network Library (oneDNN) to use the following CPU instructions in performance-critical operations:  AVX2 AVX512F AVX512_VNNI FMA\n",
      "To enable them in other operations, rebuild TensorFlow with the appropriate compiler flags.\n",
      "2023-01-24 16:34:04.653361: I tensorflow/core/util/port.cc:104] oneDNN custom operations are on. You may see slightly different numerical results due to floating-point round-off errors from different computation orders. To turn them off, set the environment variable `TF_ENABLE_ONEDNN_OPTS=0`.\n",
      "2023-01-24 16:34:05.389457: W tensorflow/compiler/xla/stream_executor/platform/default/dso_loader.cc:64] Could not load dynamic library 'libnvinfer.so.7'; dlerror: libnvinfer.so.7: cannot open shared object file: No such file or directory\n",
      "2023-01-24 16:34:05.389505: W tensorflow/compiler/xla/stream_executor/platform/default/dso_loader.cc:64] Could not load dynamic library 'libnvinfer_plugin.so.7'; dlerror: libnvinfer_plugin.so.7: cannot open shared object file: No such file or directory\n",
      "2023-01-24 16:34:05.389509: W tensorflow/compiler/tf2tensorrt/utils/py_utils.cc:38] TF-TRT Warning: Cannot dlopen some TensorRT libraries. If you would like to use Nvidia GPU with TensorRT, please make sure the missing libraries mentioned above are installed properly.\n"
     ]
    }
   ],
   "source": [
    "%load_ext autoreload\n",
    "%autoreload 2\n",
    "\n",
    "import ncem\n",
    "import numpy as np\n",
    "import seaborn as sns\n",
    "\n",
    "from scipy.stats import ttest_rel, ttest_ind\n",
    "\n",
    "sns.set_palette(\"colorblind\")\n",
    "\n",
    "# paths\n",
    "data_path_base =\"./input-data/raw-data/\"\n",
    "out_path = \"./output-data/Zhang-2020\"\n",
    "fn_out_cv = out_path + \"/results/\""
   ]
  },
  {
   "attachments": {},
   "cell_type": "markdown",
   "metadata": {},
   "source": [
    "# Dataset specific inputs"
   ]
  },
  {
   "cell_type": "code",
   "execution_count": 2,
   "metadata": {},
   "outputs": [],
   "source": [
    "data_set = 'zhang'\n",
    "data_path = data_path_base + 'Zhang-2020/processed_data/'\n",
    "log_transform = False\n",
    "use_domain = True\n",
    "scale_node_size=False\n",
    "merge_node_types_predefined = True\n",
    "covar_selection = []\n",
    "output_layer='linear'\n"
   ]
  },
  {
   "cell_type": "markdown",
   "metadata": {},
   "source": [
    "# Manual inputs"
   ]
  },
  {
   "cell_type": "code",
   "execution_count": 3,
   "metadata": {},
   "outputs": [],
   "source": [
    "model_class = 'interactions'\n",
    "optimizer = 'adam'\n",
    "domain_type = 'patient'\n",
    "\n",
    "learning_rate = 0.05\n",
    "l1 = 0.\n",
    "l2 = 0.\n",
    "\n",
    "batch_size = 64\n",
    "radius = 100\n",
    "n_eval_nodes = 10\n",
    "\n",
    "gs_id = f\"tutorial_{model_class}_{radius}_{data_set}_{domain_type}\"\n",
    "\n"
   ]
  },
  {
   "attachments": {},
   "cell_type": "markdown",
   "metadata": {},
   "source": [
    "# Model and training\n"
   ]
  },
  {
   "cell_type": "code",
   "execution_count": 4,
   "metadata": {},
   "outputs": [],
   "source": [
    "ncv = 3\n",
    "epochs = 2000 if \"tutorial\" not in gs_id else 10 \n",
    "epochs_warmup = 0\n",
    "max_steps_per_epoch = 20\n",
    "patience = 100\n",
    "lr_schedule_min_lr = 1e-10\n",
    "lr_schedule_factor = 0.5\n",
    "lr_schedule_patience = 50\n",
    "val_bs = 16\n",
    "max_val_steps_per_epoch = 10\n",
    "shuffle_buffer_size = None\n",
    "\n",
    "feature_space_id = \"standard\"\n",
    "cond_feature_space_id = \"type\"\n",
    "\n",
    "use_covar_node_label = False\n",
    "use_covar_node_position = False\n",
    "use_covar_graph_covar = False"
   ]
  },
  {
   "cell_type": "code",
   "execution_count": 5,
   "metadata": {},
   "outputs": [],
   "source": [
    "trainer = ncem.train.TrainModelInteractions()"
   ]
  },
  {
   "cell_type": "code",
   "execution_count": 6,
   "metadata": {},
   "outputs": [],
   "source": [
    "trainer.init_estim(log_transform=log_transform)"
   ]
  },
  {
   "cell_type": "code",
   "execution_count": 7,
   "metadata": {},
   "outputs": [
    {
     "name": "stderr",
     "output_type": "stream",
     "text": [
      "/home/ifichtner/mambaforge/envs/squidpyTF/lib/python3.8/site-packages/tqdm/auto.py:22: TqdmWarning: IProgress not found. Please update jupyter and ipywidgets. See https://ipywidgets.readthedocs.io/en/stable/user_install.html\n",
      "  from .autonotebook import tqdm as notebook_tqdm\n"
     ]
    },
    {
     "name": "stdout",
     "output_type": "stream",
     "text": [
      "Loading data from raw files\n",
      "registering celldata\n"
     ]
    },
    {
     "ename": "KeyError",
     "evalue": "'slice_id'",
     "output_type": "error",
     "traceback": [
      "\u001b[0;31m---------------------------------------------------------------------------\u001b[0m",
      "\u001b[0;31mKeyError\u001b[0m                                  Traceback (most recent call last)",
      "File \u001b[0;32m~/mambaforge/envs/squidpyTF/lib/python3.8/site-packages/pandas/core/indexes/base.py:3802\u001b[0m, in \u001b[0;36mIndex.get_loc\u001b[0;34m(self, key, method, tolerance)\u001b[0m\n\u001b[1;32m   3801\u001b[0m \u001b[39mtry\u001b[39;00m:\n\u001b[0;32m-> 3802\u001b[0m     \u001b[39mreturn\u001b[39;00m \u001b[39mself\u001b[39;49m\u001b[39m.\u001b[39;49m_engine\u001b[39m.\u001b[39;49mget_loc(casted_key)\n\u001b[1;32m   3803\u001b[0m \u001b[39mexcept\u001b[39;00m \u001b[39mKeyError\u001b[39;00m \u001b[39mas\u001b[39;00m err:\n",
      "File \u001b[0;32m~/mambaforge/envs/squidpyTF/lib/python3.8/site-packages/pandas/_libs/index.pyx:138\u001b[0m, in \u001b[0;36mpandas._libs.index.IndexEngine.get_loc\u001b[0;34m()\u001b[0m\n",
      "File \u001b[0;32m~/mambaforge/envs/squidpyTF/lib/python3.8/site-packages/pandas/_libs/index.pyx:165\u001b[0m, in \u001b[0;36mpandas._libs.index.IndexEngine.get_loc\u001b[0;34m()\u001b[0m\n",
      "File \u001b[0;32mpandas/_libs/hashtable_class_helper.pxi:5745\u001b[0m, in \u001b[0;36mpandas._libs.hashtable.PyObjectHashTable.get_item\u001b[0;34m()\u001b[0m\n",
      "File \u001b[0;32mpandas/_libs/hashtable_class_helper.pxi:5753\u001b[0m, in \u001b[0;36mpandas._libs.hashtable.PyObjectHashTable.get_item\u001b[0;34m()\u001b[0m\n",
      "\u001b[0;31mKeyError\u001b[0m: 'slice_id'",
      "\nThe above exception was the direct cause of the following exception:\n",
      "\u001b[0;31mKeyError\u001b[0m                                  Traceback (most recent call last)",
      "Cell \u001b[0;32mIn[7], line 4\u001b[0m\n\u001b[1;32m      1\u001b[0m trainer \u001b[39m=\u001b[39m ncem\u001b[39m.\u001b[39mtrain\u001b[39m.\u001b[39mTrainModelInteractions()\n\u001b[1;32m      2\u001b[0m trainer\u001b[39m.\u001b[39minit_estim(log_transform\u001b[39m=\u001b[39mlog_transform)\n\u001b[0;32m----> 4\u001b[0m trainer\u001b[39m.\u001b[39;49mestimator\u001b[39m.\u001b[39;49mget_data(\n\u001b[1;32m      5\u001b[0m     data_origin\u001b[39m=\u001b[39;49mdata_set,\n\u001b[1;32m      6\u001b[0m     data_path\u001b[39m=\u001b[39;49mdata_path,\n\u001b[1;32m      7\u001b[0m     radius\u001b[39m=\u001b[39;49mradius,\n\u001b[1;32m      8\u001b[0m     graph_covar_selection\u001b[39m=\u001b[39;49mcovar_selection,\n\u001b[1;32m      9\u001b[0m     node_label_space_id\u001b[39m=\u001b[39;49mcond_feature_space_id,\n\u001b[1;32m     10\u001b[0m     node_feature_space_id\u001b[39m=\u001b[39;49mfeature_space_id,\n\u001b[1;32m     11\u001b[0m     \u001b[39m# feature_transformation=transformation_dict[transform_key],\u001b[39;49;00m\n\u001b[1;32m     12\u001b[0m     use_covar_node_position\u001b[39m=\u001b[39;49muse_covar_node_position,\n\u001b[1;32m     13\u001b[0m     use_covar_node_label\u001b[39m=\u001b[39;49muse_covar_node_label,\n\u001b[1;32m     14\u001b[0m     use_covar_graph_covar\u001b[39m=\u001b[39;49muse_covar_graph_covar,\n\u001b[1;32m     15\u001b[0m     \u001b[39m# hold_out_covariate=hold_out_covariate,\u001b[39;49;00m\n\u001b[1;32m     16\u001b[0m     domain_type\u001b[39m=\u001b[39;49mdomain_type,\n\u001b[1;32m     17\u001b[0m     \u001b[39m# merge_node_types_predefined=merge_node_types_predefined,\u001b[39;49;00m\n\u001b[1;32m     18\u001b[0m )\n",
      "File \u001b[0;32m~/mambaforge/envs/squidpyTF/lib/python3.8/site-packages/ncem/estimators/base_estimator.py:294\u001b[0m, in \u001b[0;36mEstimator.get_data\u001b[0;34m(self, data_origin, data_path, radius, n_rings, graph_covar_selection, node_label_space_id, node_feature_space_id, use_covar_node_position, use_covar_node_label, use_covar_graph_covar, domain_type, robustness, robustness_seed, n_top_genes, segmentation_robustness, resimulate_nodes, resimulate_nodes_w_depdency, resimulate_nodes_sparsity_rate)\u001b[0m\n\u001b[1;32m    292\u001b[0m     graph_covar_selection \u001b[39m=\u001b[39m []\n\u001b[1;32m    293\u001b[0m labels_to_load \u001b[39m=\u001b[39m graph_covar_selection\n\u001b[0;32m--> 294\u001b[0m \u001b[39mself\u001b[39;49m\u001b[39m.\u001b[39;49m_load_data(\n\u001b[1;32m    295\u001b[0m     data_origin\u001b[39m=\u001b[39;49mdata_origin,\n\u001b[1;32m    296\u001b[0m     data_path\u001b[39m=\u001b[39;49mdata_path,\n\u001b[1;32m    297\u001b[0m     radius\u001b[39m=\u001b[39;49mradius,\n\u001b[1;32m    298\u001b[0m     n_rings\u001b[39m=\u001b[39;49mn_rings,\n\u001b[1;32m    299\u001b[0m     label_selection\u001b[39m=\u001b[39;49mlabels_to_load,\n\u001b[1;32m    300\u001b[0m     n_top_genes\u001b[39m=\u001b[39;49mn_top_genes\n\u001b[1;32m    301\u001b[0m )\n\u001b[1;32m    302\u001b[0m \u001b[39mif\u001b[39;00m robustness:\n\u001b[1;32m    303\u001b[0m     np\u001b[39m.\u001b[39mrandom\u001b[39m.\u001b[39mseed(robustness_seed)\n",
      "File \u001b[0;32m~/mambaforge/envs/squidpyTF/lib/python3.8/site-packages/ncem/estimators/base_estimator.py:223\u001b[0m, in \u001b[0;36mEstimator._load_data\u001b[0;34m(self, data_origin, data_path, radius, n_rings, label_selection, n_top_genes)\u001b[0m\n\u001b[1;32m    219\u001b[0m     \u001b[39mfrom\u001b[39;00m \u001b[39mncem\u001b[39;00m\u001b[39m.\u001b[39;00m\u001b[39mdata\u001b[39;00m \u001b[39mimport\u001b[39;00m DataLoaderSalasIss \u001b[39mas\u001b[39;00m DataLoader\n\u001b[1;32m    221\u001b[0m     \u001b[39mself\u001b[39m\u001b[39m.\u001b[39mundefined_node_types \u001b[39m=\u001b[39m \u001b[39mNone\u001b[39;00m\n\u001b[0;32m--> 223\u001b[0m \u001b[39mself\u001b[39m\u001b[39m.\u001b[39mdata \u001b[39m=\u001b[39m DataLoader(\n\u001b[1;32m    224\u001b[0m     data_path, radius\u001b[39m=\u001b[39;49mradius, coord_type\u001b[39m=\u001b[39;49mcoord_type, n_rings\u001b[39m=\u001b[39;49mn_rings, label_selection\u001b[39m=\u001b[39;49mlabel_selection,\n\u001b[1;32m    225\u001b[0m     n_top_genes\u001b[39m=\u001b[39;49mn_top_genes\n\u001b[1;32m    226\u001b[0m )\n",
      "File \u001b[0;32m~/mambaforge/envs/squidpyTF/lib/python3.8/site-packages/ncem/data.py:1721\u001b[0m, in \u001b[0;36mDataLoader.__init__\u001b[0;34m(self, data_path, radius, coord_type, n_rings, label_selection, n_top_genes)\u001b[0m\n\u001b[1;32m   1718\u001b[0m \u001b[39mself\u001b[39m\u001b[39m.\u001b[39mdata_path \u001b[39m=\u001b[39m data_path\n\u001b[1;32m   1720\u001b[0m \u001b[39mprint\u001b[39m(\u001b[39m\"\u001b[39m\u001b[39mLoading data from raw files\u001b[39m\u001b[39m\"\u001b[39m)\n\u001b[0;32m-> 1721\u001b[0m \u001b[39mself\u001b[39;49m\u001b[39m.\u001b[39;49mregister_celldata(n_top_genes\u001b[39m=\u001b[39;49mn_top_genes)\n\u001b[1;32m   1722\u001b[0m \u001b[39mself\u001b[39m\u001b[39m.\u001b[39mregister_img_celldata()\n\u001b[1;32m   1723\u001b[0m \u001b[39mself\u001b[39m\u001b[39m.\u001b[39mregister_graph_features(label_selection\u001b[39m=\u001b[39mlabel_selection)\n",
      "File \u001b[0;32m~/mambaforge/envs/squidpyTF/lib/python3.8/site-packages/ncem/data.py:1752\u001b[0m, in \u001b[0;36mDataLoader.register_celldata\u001b[0;34m(self, n_top_genes)\u001b[0m\n\u001b[1;32m   1750\u001b[0m \u001b[39m\u001b[39m\u001b[39m\"\"\"Load AnnData object of complete dataset.\"\"\"\u001b[39;00m\n\u001b[1;32m   1751\u001b[0m \u001b[39mprint\u001b[39m(\u001b[39m\"\u001b[39m\u001b[39mregistering celldata\u001b[39m\u001b[39m\"\u001b[39m)\n\u001b[0;32m-> 1752\u001b[0m \u001b[39mself\u001b[39;49m\u001b[39m.\u001b[39;49m_register_celldata(n_top_genes\u001b[39m=\u001b[39;49mn_top_genes)\n\u001b[1;32m   1753\u001b[0m \u001b[39massert\u001b[39;00m \u001b[39mself\u001b[39m\u001b[39m.\u001b[39mcelldata \u001b[39mis\u001b[39;00m \u001b[39mnot\u001b[39;00m \u001b[39mNone\u001b[39;00m, \u001b[39m\"\u001b[39m\u001b[39mcelldata was not loaded\u001b[39m\u001b[39m\"\u001b[39m\n",
      "File \u001b[0;32m~/mambaforge/envs/squidpyTF/lib/python3.8/site-packages/ncem/data.py:2075\u001b[0m, in \u001b[0;36mDataLoaderZhang._register_celldata\u001b[0;34m(self, n_top_genes)\u001b[0m\n\u001b[1;32m   2072\u001b[0m celldata \u001b[39m=\u001b[39m read_h5ad(\u001b[39mself\u001b[39m\u001b[39m.\u001b[39mdata_path \u001b[39m+\u001b[39m metadata[\u001b[39m\"\u001b[39m\u001b[39mfn\u001b[39m\u001b[39m\"\u001b[39m])\u001b[39m.\u001b[39mcopy()\n\u001b[1;32m   2074\u001b[0m celldata\u001b[39m.\u001b[39muns[\u001b[39m\"\u001b[39m\u001b[39mmetadata\u001b[39m\u001b[39m\"\u001b[39m] \u001b[39m=\u001b[39m metadata\n\u001b[0;32m-> 2075\u001b[0m celldata\u001b[39m.\u001b[39muns[\u001b[39m\"\u001b[39m\u001b[39mimg_keys\u001b[39m\u001b[39m\"\u001b[39m] \u001b[39m=\u001b[39m \u001b[39mlist\u001b[39m(np\u001b[39m.\u001b[39munique(celldata\u001b[39m.\u001b[39;49mobs[metadata[\u001b[39m\"\u001b[39;49m\u001b[39mimage_col\u001b[39;49m\u001b[39m\"\u001b[39;49m]]))\n\u001b[1;32m   2077\u001b[0m img_to_patient_dict \u001b[39m=\u001b[39m {\n\u001b[1;32m   2078\u001b[0m     \u001b[39mstr\u001b[39m(x): celldata\u001b[39m.\u001b[39mobs[metadata[\u001b[39m\"\u001b[39m\u001b[39mpatient_col\u001b[39m\u001b[39m\"\u001b[39m]]\u001b[39m.\u001b[39mvalues[i]\u001b[39m.\u001b[39msplit(\u001b[39m\"\u001b[39m\u001b[39m_\u001b[39m\u001b[39m\"\u001b[39m)[\u001b[39m0\u001b[39m]\n\u001b[1;32m   2079\u001b[0m     \u001b[39mfor\u001b[39;00m i, x \u001b[39min\u001b[39;00m \u001b[39menumerate\u001b[39m(celldata\u001b[39m.\u001b[39mobs[metadata[\u001b[39m\"\u001b[39m\u001b[39mimage_col\u001b[39m\u001b[39m\"\u001b[39m]]\u001b[39m.\u001b[39mvalues)\n\u001b[1;32m   2080\u001b[0m }\n\u001b[1;32m   2082\u001b[0m celldata\u001b[39m.\u001b[39muns[\u001b[39m\"\u001b[39m\u001b[39mimg_to_patient_dict\u001b[39m\u001b[39m\"\u001b[39m] \u001b[39m=\u001b[39m img_to_patient_dict\n",
      "File \u001b[0;32m~/mambaforge/envs/squidpyTF/lib/python3.8/site-packages/pandas/core/frame.py:3807\u001b[0m, in \u001b[0;36mDataFrame.__getitem__\u001b[0;34m(self, key)\u001b[0m\n\u001b[1;32m   3805\u001b[0m \u001b[39mif\u001b[39;00m \u001b[39mself\u001b[39m\u001b[39m.\u001b[39mcolumns\u001b[39m.\u001b[39mnlevels \u001b[39m>\u001b[39m \u001b[39m1\u001b[39m:\n\u001b[1;32m   3806\u001b[0m     \u001b[39mreturn\u001b[39;00m \u001b[39mself\u001b[39m\u001b[39m.\u001b[39m_getitem_multilevel(key)\n\u001b[0;32m-> 3807\u001b[0m indexer \u001b[39m=\u001b[39m \u001b[39mself\u001b[39;49m\u001b[39m.\u001b[39;49mcolumns\u001b[39m.\u001b[39;49mget_loc(key)\n\u001b[1;32m   3808\u001b[0m \u001b[39mif\u001b[39;00m is_integer(indexer):\n\u001b[1;32m   3809\u001b[0m     indexer \u001b[39m=\u001b[39m [indexer]\n",
      "File \u001b[0;32m~/mambaforge/envs/squidpyTF/lib/python3.8/site-packages/pandas/core/indexes/base.py:3804\u001b[0m, in \u001b[0;36mIndex.get_loc\u001b[0;34m(self, key, method, tolerance)\u001b[0m\n\u001b[1;32m   3802\u001b[0m     \u001b[39mreturn\u001b[39;00m \u001b[39mself\u001b[39m\u001b[39m.\u001b[39m_engine\u001b[39m.\u001b[39mget_loc(casted_key)\n\u001b[1;32m   3803\u001b[0m \u001b[39mexcept\u001b[39;00m \u001b[39mKeyError\u001b[39;00m \u001b[39mas\u001b[39;00m err:\n\u001b[0;32m-> 3804\u001b[0m     \u001b[39mraise\u001b[39;00m \u001b[39mKeyError\u001b[39;00m(key) \u001b[39mfrom\u001b[39;00m \u001b[39merr\u001b[39;00m\n\u001b[1;32m   3805\u001b[0m \u001b[39mexcept\u001b[39;00m \u001b[39mTypeError\u001b[39;00m:\n\u001b[1;32m   3806\u001b[0m     \u001b[39m# If we have a listlike key, _check_indexing_error will raise\u001b[39;00m\n\u001b[1;32m   3807\u001b[0m     \u001b[39m#  InvalidIndexError. Otherwise we fall through and re-raise\u001b[39;00m\n\u001b[1;32m   3808\u001b[0m     \u001b[39m#  the TypeError.\u001b[39;00m\n\u001b[1;32m   3809\u001b[0m     \u001b[39mself\u001b[39m\u001b[39m.\u001b[39m_check_indexing_error(key)\n",
      "\u001b[0;31mKeyError\u001b[0m: 'slice_id'"
     ]
    }
   ],
   "source": [
    "trainer = ncem.train.TrainModelInteractions()\n",
    "trainer.init_estim(log_transform=log_transform)\n",
    "\n",
    "trainer.estimator.get_data(\n",
    "    data_origin=data_set,\n",
    "    data_path=data_path,\n",
    "    radius=radius,\n",
    "    graph_covar_selection=covar_selection,\n",
    "    node_label_space_id=cond_feature_space_id,\n",
    "    node_feature_space_id=feature_space_id,\n",
    "    # feature_transformation=transformation_dict[transform_key],\n",
    "    use_covar_node_position=use_covar_node_position,\n",
    "    use_covar_node_label=use_covar_node_label,\n",
    "    use_covar_graph_covar=use_covar_graph_covar,\n",
    "    # hold_out_covariate=hold_out_covariate,\n",
    "    domain_type=domain_type,\n",
    "    # merge_node_types_predefined=merge_node_types_predefined,\n",
    ")"
   ]
  }
 ],
 "metadata": {
  "kernelspec": {
   "display_name": "squidpyTF",
   "language": "python",
   "name": "python3"
  },
  "language_info": {
   "codemirror_mode": {
    "name": "ipython",
    "version": 3
   },
   "file_extension": ".py",
   "mimetype": "text/x-python",
   "name": "python",
   "nbconvert_exporter": "python",
   "pygments_lexer": "ipython3",
   "version": "3.8.15"
  },
  "orig_nbformat": 4,
  "vscode": {
   "interpreter": {
    "hash": "97543237a6bcd86b2473d592fc25336dd1965b4a1315473dfbc595ecc291a458"
   }
  }
 },
 "nbformat": 4,
 "nbformat_minor": 2
}
