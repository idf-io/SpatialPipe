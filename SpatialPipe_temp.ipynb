{
 "cells": [
  {
   "cell_type": "markdown",
   "id": "4726cddb",
   "metadata": {},
   "source": [
    "# Import modules and notebook settings"
   ]
  },
  {
   "cell_type": "code",
   "execution_count": null,
   "id": "dabeb298",
   "metadata": {},
   "outputs": [],
   "source": [
    "# Keep modules updated if they change within the session\n",
    "%load_ext autoreload\n",
    "%autoreload 2\n",
    "\n",
    "# Load modules\n",
    "import os\n",
    "import numpy as np\n",
    "import pandas as pd\n",
    "from matplotlib import pyplot as plt\n",
    "import squidpy as sq\n",
    "import anndata as ad\n",
    "import scanpy as sc\n",
    "\n",
    "# Settings\n",
    "import warnings\n",
    "warnings.filterwarnings('ignore')\n",
    "#sc.settings.set_figure_params(dpi=80)\n",
    "\n",
    "# Print versions\n",
    "sc.logging.print_header()\n",
    "print(f\"squidpy=={sq.__version__}\")"
   ]
  },
  {
   "cell_type": "markdown",
   "id": "f3822dcf",
   "metadata": {},
   "source": [
    "# Create AnnData object"
   ]
  },
  {
   "cell_type": "markdown",
   "id": "51638cd5",
   "metadata": {},
   "source": [
    "### Current required structure for seamless functionality:\n",
    " \n",
    " - **Root folder** (e.g. Hartmann-2021)\n",
    "     - **metadata.xlsx**\n",
    "     - **experiment_folder/**        *(e.g. scMEP_MIBI_singlecell)*\n",
    "         - **main_matrix.csv**        nested matrix with columns = ['point', 'cell_id', $markers ... , 'center_rowcoord', 'center_colcoord', 'cell_size', 'donor', 'category', 'Cluster', 'library_id']         (e.g. scMEP_MIBI_singlecell.csv)\n",
    "         - **image_folder/**        *(e.g. scMEP_MIBI_colon_images)*\n",
    "             - **donor_folders/**        1 folder per donor/sample; ==obs['donor'] !!!\n",
    "                 - **point/FOV folders**        1 folder per point/FOV; == 'librarary_id'; names must not repeat across donors!; requires['cell_id', 'center_rowcoord', 'center_colcord', 'point', 'donor', 'library_id] *(e.g. Poin21, ..., Point32)*\n",
    "                - image_files.tif        == markers/features/channels; names can repeat across donord; *(e.g. 147_vimentin.tif)*\n",
    "         - **segmentation_folder/**        *(e.g. segmentation)*\n",
    "              - **segmentation_files.tif**        requires obs['cell_id', 'point', 'donor', 'library_id']; *(e.g. Point1_Label_Map.tif)*"
   ]
  },
  {
   "cell_type": "markdown",
   "id": "3bdeff67",
   "metadata": {},
   "source": [
    "### Prepare the data"
   ]
  },
  {
   "cell_type": "code",
   "execution_count": null,
   "id": "4159b67d",
   "metadata": {},
   "outputs": [],
   "source": [
    "# Annotations come in a single matrix\n",
    "data_unformatted = pd.read_csv(\"input-data/raw-data/Hartmann-2021/scMEP_MIBI_singlecell/scMEP_MIBI_singlecell.csv\")\n",
    "data_unformatted = data_unformatted.dropna(axis=0)\n",
    "\n",
    "# Some manual matrix formatting\n",
    "data_unformatted['library_id'] = 'Point' + data_unformatted['point'].astype(str)\n",
    "data_unformatted['new_index'] = data_unformatted['library_id'].astype(str) + '_' + data_unformatted['cell_id'].astype(str)\n",
    "data_unformatted = data_unformatted.set_index(pd.Index(data_unformatted['new_index'].to_numpy()))\n",
    "data_unformatted = data_unformatted.drop('new_index', axis=1)\n",
    "\n",
    "# Subset and format to adjust to AnnData format\n",
    "counts = data_unformatted.iloc[:, 3:39]\n",
    "\n",
    "## Due to AnnData bugs (2022-12-05) we need to either supply a numpy.array or recently created pandas.DataFrame\n",
    "X = pd.DataFrame(\n",
    "        counts.to_numpy(),\n",
    "        columns = list(counts.columns),\n",
    "        index = list(counts.index)\n",
    ")\n",
    "obs = data_unformatted.iloc[:, np.r_[0:3, 39:len(data_unformatted.columns)]]\n",
    "\n",
    "# adata. obsm: Spatial location of spots\n",
    "obsm = {\n",
    "    'spatial': data_unformatted.loc[:, ['center_colcoord', 'center_rowcoord']].to_numpy()\n",
    "}\n",
    "\n",
    "# adata.uns: Metadata\n",
    "sample_info = pd.read_excel(\n",
    "    \"input-data/raw-data/Hartmann-2021/scMEP_sample_description.xlsx\",\n",
    ").to_dict(orient='list')\n",
    "\n",
    "uns = {\n",
    "    'sample_info': sample_info,\n",
    "    'Cluster_colors': [\n",
    "        '#1f77b4',\n",
    "        '#ff7f0e',\n",
    "        '#2ca02c',\n",
    "        '#d62728',\n",
    "        '#9467bd',\n",
    "        '#8c564b',\n",
    "        '#e377c2',\n",
    "        '#7f7f7f'\n",
    "      ]\n",
    "}\n"
   ]
  },
  {
   "cell_type": "markdown",
   "id": "d44706ec",
   "metadata": {},
   "source": [
    "### Create the object"
   ]
  },
  {
   "cell_type": "code",
   "execution_count": null,
   "id": "3fc36756",
   "metadata": {
    "scrolled": true
   },
   "outputs": [],
   "source": [
    "# Create AnnData object\n",
    "adata = ad.AnnData(\n",
    "    X = X, \n",
    "    obs = obs, \n",
    "    obsm = obsm,\n",
    "    uns = uns\n",
    ")"
   ]
  },
  {
   "cell_type": "markdown",
   "id": "4aa8a944",
   "metadata": {},
   "source": [
    "### View"
   ]
  },
  {
   "cell_type": "code",
   "execution_count": null,
   "id": "218e21d5",
   "metadata": {},
   "outputs": [],
   "source": [
    "adata.to_df()"
   ]
  },
  {
   "cell_type": "code",
   "execution_count": null,
   "id": "532b6cdc",
   "metadata": {},
   "outputs": [],
   "source": [
    "adata.obs"
   ]
  },
  {
   "cell_type": "code",
   "execution_count": null,
   "id": "f1dd2b27",
   "metadata": {
    "scrolled": true
   },
   "outputs": [],
   "source": [
    "adata.obsm"
   ]
  },
  {
   "cell_type": "code",
   "execution_count": null,
   "id": "9d63e198",
   "metadata": {},
   "outputs": [],
   "source": [
    "adata.uns.keys()"
   ]
  },
  {
   "cell_type": "markdown",
   "id": "ea327d87",
   "metadata": {},
   "source": [
    "# Integrate image and segmentation mask data"
   ]
  },
  {
   "cell_type": "markdown",
   "id": "5250b9bf",
   "metadata": {},
   "source": [
    "### User input\n",
    "\n",
    "*Previous to **commit e03e83d38317f2ca379851badd8b0f6896474f94**, the input was based on a single sample folder, containing one folder per point/FOV, containing all the image files (.tiff) of each channel*"
   ]
  },
  {
   "cell_type": "code",
   "execution_count": null,
   "id": "1e10ffec",
   "metadata": {},
   "outputs": [],
   "source": [
    "# The user must choose 3 fluorophore channels to use as RGB raster format\n",
    "user_input_channels = ['145_CD45', '174_CK', '113_vimentin']\n",
    "image_dir = \"input-data/raw-data/Hartmann-2021/scMEP_MIBI_singlecell/scMEP_MIBI_colon_images/90de_tumor/\"\n",
    "segmentation_dir = \"input-data/raw-data/Hartmann-2021/scMEP_MIBI_singlecell/segmentation/\""
   ]
  },
  {
   "cell_type": "markdown",
   "id": "424fbf63",
   "metadata": {},
   "source": [
    "### Algorithm initiation and adding images\n",
    "\n",
    " - This algorithm processes both images and segmentation masks separately\n",
    " - It also checks that the file names are correctly attributed based on `obs['library_id']`"
   ]
  },
  {
   "cell_type": "code",
   "execution_count": null,
   "id": "2954c7b1",
   "metadata": {},
   "outputs": [],
   "source": [
    "image_dir = 'input-data/raw-data/Hartmann-2021/scMEP_MIBI_singlecell/scMEP_MIBI_colon_images/'\n",
    "\n",
    "# Initialize the spatial dictionary\n",
    "spatial_dict = {}\n",
    "\n",
    "# Some variables\n",
    "library_ids = adata.obs['library_id'].unique()\n",
    "\n",
    "for donor in os.listdir(image_dir):\n",
    "\n",
    "    donor_path = os.path.join(image_dir, donor)\n",
    "\n",
    "    # Check if folder structure correct: layer 1\n",
    "    if not os.path.isdir(donor_path):\n",
    "        raise Exception('`image_dir` directory must only contain directories named after the donors.')\n",
    "    \n",
    "    # Check if folder names coincide with donor value in obs matrix\n",
    "    elif not all(np.in1d(donor, adata.obs['donor'].to_list())):\n",
    "        raise Exception('First layer folders are not named as in obs[\\'donor\\']')\n",
    "    \n",
    "    else:\n",
    "\n",
    "        # Define points/FOV\n",
    "        points = sorted(os.listdir(donor_path))\n",
    "\n",
    "        # Check that point names are found in the `obs['library_id']`\n",
    "        if not all(np.in1d(points, library_ids)):\n",
    "            raise Exception(\"Image file names must be named equal to library_ids\")\n",
    "\n",
    "\n",
    "\n",
    "\n",
    "        # Add images\n",
    "        \n",
    "        for point in points:\n",
    "    \n",
    "            # Init dict layer 1: 'library_id' = {images, scalefactors}\n",
    "            spatial_dict[point] = {}\n",
    "\n",
    "            # Init dict layer 2: 'images' = {hires, segmentation}\n",
    "            spatial_dict[point]['images'] = {}\n",
    "    \n",
    "            # Fill 'image' key in layer 2\n",
    "            # 3 channel images as RGB raster \n",
    "            # Read .tif data as array\n",
    "            # Can also be done with scipy or python image library PIL\n",
    "            channel_arr = np.array(\n",
    "                [\n",
    "                    plt.imread(os.path.join(donor_path, point, user_input_channels[0]) + \".tif\"),\n",
    "                    plt.imread(os.path.join(donor_path, point, user_input_channels[1]) + \".tif\"),\n",
    "                    plt.imread(os.path.join(donor_path, point, user_input_channels[2]) + \".tif\")\n",
    "                ]\n",
    "            ).transpose(1, 2, 0)\n",
    "    \n",
    "            spatial_dict[point]['images']['hires'] = channel_arr\n",
    "    \n",
    "            # Fill 'scalefactors' key in layer 1\n",
    "            spatial_dict[point]['scalefactors'] = {\n",
    "                'spot_diameter_fullres': 15,\n",
    "                'tissue_hires_scalef': 1,\n",
    "            }"
   ]
  },
  {
   "cell_type": "markdown",
   "id": "4a0f05bf",
   "metadata": {},
   "source": [
    "### Add segmentation data\n",
    "\n",
    "- This algorithm processes both images and segmentation masks separately\n",
    "- Checks the validity of the segmentation files by trying to attribute the their names to the corresponding image file names by string content.\n",
    "\n",
    "- In the future maybe integrate two alterntive paths:\n",
    "    - argument indicating a dictionary of file links\n",
    "    - argument indicating the file name changes/presuffixes that apply to the image file name to arrive at the segmentation file name"
   ]
  },
  {
   "cell_type": "code",
   "execution_count": null,
   "id": "4c37d524",
   "metadata": {},
   "outputs": [],
   "source": [
    "# Check if segmentation file names contain the library_id\n",
    "seg_files = sorted(os.listdir(segmentation_dir))\n",
    "\n",
    "## Initiate segmentation-file-name to library_id dict\n",
    "dict_seg_lib_id = {}\n",
    "\n",
    "for seg_file in seg_files:\n",
    "\n",
    "    seg_id = seg_file[:-15] ### !!! Can be improved via e.g. regular expressions\n",
    "\n",
    "    if seg_id in set(library_ids):\n",
    "        dict_seg_lib_id[seg_file] = seg_id\n",
    "\n",
    "    else:\n",
    "        raise Exception('All segmentation files must contain the of an image file which are based on obs[\\'library_id\\']')\n",
    "\n",
    "\n",
    "# Add segmentation information\n",
    "for key, value in dict_seg_lib_id.items():\n",
    "\n",
    "    # Fill 'segmentation' key in layer 2\n",
    "    spatial_dict[value]['images']['segmentation'] = plt.imread(segmentation_dir + key)\n",
    "    \n",
    "    # Add 'tissue_segmentation_scalef' key in layer 1\n",
    "    spatial_dict[value]['scalefactors']['tissue_segmentation_scalef'] = 1"
   ]
  },
  {
   "cell_type": "markdown",
   "id": "7259b6d0",
   "metadata": {},
   "source": [
    "### Final integration"
   ]
  },
  {
   "cell_type": "code",
   "execution_count": null,
   "id": "855dc3d3",
   "metadata": {},
   "outputs": [],
   "source": [
    "# Integrate spatial dictionary into adata\n",
    "adata.uns['spatial'] = spatial_dict"
   ]
  },
  {
   "cell_type": "code",
   "execution_count": null,
   "id": "d77cc8e3",
   "metadata": {},
   "outputs": [],
   "source": [
    "sq.pl.spatial_scatter(adata, color=[None], library_key='library_id', library_id=['Point1', 'Point21', 'Point41', 'Point45'])"
   ]
  },
  {
   "cell_type": "markdown",
   "id": "b4cb9128",
   "metadata": {},
   "source": [
    "# Visualize"
   ]
  },
  {
   "cell_type": "code",
   "execution_count": null,
   "id": "2b0eaad1",
   "metadata": {
    "scrolled": true
   },
   "outputs": [],
   "source": [
    "sq.pl.spatial_scatter(adata, color=['Cluster'], library_key='library_id', library_id=['Point8'])"
   ]
  },
  {
   "cell_type": "markdown",
   "id": "ff59e362",
   "metadata": {},
   "source": [
    "### Segmentation mask"
   ]
  },
  {
   "cell_type": "code",
   "execution_count": null,
   "id": "4ccc1ed9",
   "metadata": {},
   "outputs": [],
   "source": [
    "sq.pl.spatial_segment(adata, library_key='library_id', library_id=['Point8', 'Point16'], seg_cell_id='cell_id', color='Cluster')"
   ]
  },
  {
   "cell_type": "markdown",
   "id": "79dfb63c",
   "metadata": {},
   "source": [
    "### Expression under mask"
   ]
  },
  {
   "cell_type": "code",
   "execution_count": null,
   "id": "d9610586",
   "metadata": {},
   "outputs": [],
   "source": [
    "sq.pl.spatial_segment(\n",
    "    adata,\n",
    "    color='CD45', # Immune cell marker (differentiated)\n",
    "    library_key='library_id',\n",
    "    library_id=['Point8', 'Point16'],\n",
    "    seg_cell_id='cell_id',\n",
    "    cmap='inferno',\n",
    "    scalebar_dx=2.0,\n",
    "    scalebar_kwargs={'scale_loc': 'bottom', 'location': 'lower right'}\n",
    ")"
   ]
  },
  {
   "cell_type": "markdown",
   "id": "1038b9fe",
   "metadata": {},
   "source": [
    "# Expression of some specific markers"
   ]
  },
  {
   "cell_type": "code",
   "execution_count": null,
   "id": "cdc59cb7",
   "metadata": {},
   "outputs": [],
   "source": [
    "sq.pl.spatial_scatter(\n",
    "    adata,\n",
    "    color=[None,\n",
    "           'CD45', # Hematopoietic cells (differentiated)\n",
    "           'GLUT1', # Glucose transporter\n",
    "           'CD98', # Amino acid transporter, auth: found polarized towards tumour-immune border\n",
    "           'ASCT2', # -||-\n",
    "           'PD1', # Immune activation marker\n",
    "           'CD39', # -||-\n",
    "           'CK', # Cancer marker\n",
    "           ],\n",
    "    library_key='library_id',\n",
    "    library_id='Point1')"
   ]
  },
  {
   "cell_type": "markdown",
   "id": "3519c638",
   "metadata": {},
   "source": [
    "# Create spatial connectivity graph"
   ]
  },
  {
   "cell_type": "code",
   "execution_count": null,
   "id": "e8c8b556",
   "metadata": {},
   "outputs": [],
   "source": [
    "sq.gr.spatial_neighbors(adata, n_neighs=10, coord_type='generic')"
   ]
  },
  {
   "cell_type": "markdown",
   "id": "8b022e48",
   "metadata": {},
   "source": [
    "# Save adata object"
   ]
  },
  {
   "cell_type": "code",
   "execution_count": null,
   "id": "8c4775e1",
   "metadata": {},
   "outputs": [],
   "source": [
    "adata.write('output-data/Hartmann-2021/hartmann.h5ad', compression='gzip')"
   ]
  },
  {
   "cell_type": "markdown",
   "id": "36cb8d40",
   "metadata": {},
   "source": [
    "# NCEM\n",
    "\n",
    "Output:\n",
    " - Coupling analysis: DEGs\n",
    " - Coupling analysis circular: DEGs or magnitude\n",
    " - Sender effect on receiving cell\n",
    " - Sender-receiver vulcano plot\n",
    " - **Sender similarity analysis**\n",
    "\n",
    "Not functioning:\n",
    " - Grid searches over neighbourhood sizes + Length scales of dependencies for different target cell-types\n",
    " - (Squidpy CellPhoneDB)\n",
    "\n",
    "Outlook:\n",
    "- Future custom loader\n"
   ]
  },
  {
   "cell_type": "code",
   "execution_count": null,
   "id": "0cc8f69a",
   "metadata": {},
   "outputs": [],
   "source": [
    "import ncem"
   ]
  },
  {
   "cell_type": "markdown",
   "id": "167bd899",
   "metadata": {},
   "source": [
    "### 0. Loading the data with the predefined data loader"
   ]
  },
  {
   "cell_type": "code",
   "execution_count": null,
   "id": "61651921",
   "metadata": {},
   "outputs": [],
   "source": [
    "interpreter = ncem.interpretation.interpreter.InterpreterInteraction()\n",
    "interpreter.get_data(\n",
    "    data_origin='hartmann', # Reference to specfic DataLoader (see notes in Dropbox paper)\n",
    "    data_path='input-data/raw-data/Hartmann-2021/',\n",
    "    radius=35,\n",
    "    node_label_space_id='type',\n",
    "    node_feature_space_id='standard',\n",
    ")\n",
    "print('\\n Celldata metadata:', interpreter.data.celldata.uns['metadata'])"
   ]
  },
  {
   "cell_type": "code",
   "execution_count": null,
   "id": "1589e7ab",
   "metadata": {},
   "outputs": [],
   "source": [
    "# node degrees for different radii\n",
    "interpreter.data.plot_degree_vs_dist(\n",
    "    max_distances=[0, 10, 50, 200, 1000],\n",
    "    lateral_resolution=400/1024, # Physical cell resolution\n",
    ")"
   ]
  },
  {
   "cell_type": "markdown",
   "id": "69794a34-de47-4aa9-a6e8-3ee2fe4997ee",
   "metadata": {},
   "source": [
    "### 2. Extracting sender-receiver effects with NCEM"
   ]
  },
  {
   "cell_type": "code",
   "execution_count": null,
   "id": "cc924066-8ba7-4610-a4a0-e49a8f20afd3",
   "metadata": {},
   "outputs": [],
   "source": [
    "# splitting data into test and validation sets, can be ignored for non sender-receiver focused analysis\n",
    "interpreter.split_data_node(0.1, 0.1)\n",
    "interpreter.n_eval_nodes_per_graph = 10\n",
    "interpreter.cell_names = list(interpreter.data.celldata.uns['node_type_names'].values())"
   ]
  },
  {
   "cell_type": "code",
   "execution_count": null,
   "id": "6e85c1c0-1e58-4911-9f9e-2a6d3e382c7d",
   "metadata": {},
   "outputs": [],
   "source": [
    "interpreter.get_sender_receiver_effects()"
   ]
  },
  {
   "cell_type": "markdown",
   "id": "af510097-246c-46b4-be70-87f06549b358",
   "metadata": {},
   "source": [
    "### Type coupling analysis\n",
    "\n",
    "Heatmap color is proportional to the number of differentially expressed genes at a FDR-corrected p-value threshold of 0.05 for each pair of sender and receiver cell types. "
   ]
  },
  {
   "cell_type": "code",
   "execution_count": null,
   "id": "92c97384-d210-4348-a06f-8b3b98e5dada",
   "metadata": {},
   "outputs": [],
   "source": [
    "interpreter.type_coupling_analysis(figsize=(6.5, 5.5))"
   ]
  },
  {
   "cell_type": "markdown",
   "id": "d23d24cd-a529-433f-b7fa-d4579e07675f",
   "metadata": {},
   "source": [
    "Edge width proportional to the number of differentially expressed genes at a FDR-corrected p-value threshold of 0.05 for each pair of sender and receiver cell types. Only edges with eat least 24 differentially expressed genes are shown.\n",
    "\n",
    "\n",
    "**Arrow thickness:** strength of directional dependencies between cell types as the magnitude of the corresponding coefficient vector"
   ]
  },
  {
   "cell_type": "code",
   "execution_count": null,
   "id": "465fc21d-3c7f-4bbd-8354-b2c8a6da45e0",
   "metadata": {},
   "outputs": [],
   "source": [
    "interpreter.type_coupling_analysis_circular(\n",
    "    edge_attr='magnitude', # IDF: Alternatives should be: [\"magnitude\", 'de_genes', 'de_genes_abs']\n",
    "    edge_width_scale=3.5,\n",
    "    de_genes_threshold=24,\n",
    "    figsize=(9,9),\n",
    "    text_space=1.35\n",
    ")"
   ]
  },
  {
   "cell_type": "markdown",
   "id": "993c685a",
   "metadata": {},
   "source": [
    "### IDF: edge thickness = #(DEGs) to relate to the coupling analysis heatmap"
   ]
  },
  {
   "cell_type": "code",
   "execution_count": null,
   "id": "c396a394",
   "metadata": {},
   "outputs": [],
   "source": [
    "interpreter.type_coupling_analysis_circular(\n",
    "    edge_attr='de_genes',\n",
    "    edge_width_scale=3.5,\n",
    "    de_genes_threshold=1,\n",
    "    figsize=(9,9),\n",
    "    text_space=1.35\n",
    ")"
   ]
  },
  {
   "cell_type": "markdown",
   "id": "37811450-e104-4bf8-82ae-a4755fea7cc8",
   "metadata": {},
   "source": [
    "### 3. Directional sender effects for Epithelial cells and CD8 T cells\n",
    "\n",
    "We dissected these couplings based on the gene-wise effects of all senders on one receiver type for CD8T cells and Epithelial cells which contextualizes differential expression results of the CD8T cell–Epithelial cell axis.\n",
    "\n",
    "NCEM correctly identifies genes and proteins that play roles in T-cell activation, regulation of T-cell antigen receptor signalling and immune response."
   ]
  },
  {
   "cell_type": "markdown",
   "id": "768fa05b-4002-4035-82a4-8fe61f9d2161",
   "metadata": {},
   "source": [
    "### a) Sender effects on CD8 T cells \n",
    "\n",
    "“Sender effect” analysis heatmap for CD8 T cells. Shown is the estimated log fold change that the sender cell type on the x-axis induces in the gene on the y axis in receiving CD8 T cells."
   ]
  },
  {
   "cell_type": "code",
   "execution_count": null,
   "id": "b92a038e-848e-40b5-bf63-95a4ed397908",
   "metadata": {},
   "outputs": [],
   "source": [
    "interpreter.sender_effect(\n",
    "    receiver='CD8 T cells', \n",
    "    gene_subset=['CD8A', 'CD4', 'PTPRC', 'ENTPD1', 'PDCD1', 'CD247'], \n",
    "    figsize=(4,5)\n",
    ")"
   ]
  },
  {
   "cell_type": "markdown",
   "id": "9504aefe-86fc-43c7-8cfe-0a7dacdb14e5",
   "metadata": {},
   "source": [
    "### b) Sender effects on Epithelial cells\n",
    "\n",
    "“Sender effect” analysis heatmap for Epithelial cells. Shown is the estimated log fold change that the sender cell type on the y-axis induces in the gene on the x axis in receiving Epithelial cells."
   ]
  },
  {
   "cell_type": "code",
   "execution_count": null,
   "id": "7377e071-eb7d-49d1-bcbb-983de19a284a",
   "metadata": {},
   "outputs": [],
   "source": [
    "interpreter.sender_effect(\n",
    "    receiver='Epithelial', \n",
    "    gene_subset=['CD8A', 'CD4', 'PTPRC', 'ENTPD1', 'PDCD1', 'CD247'], \n",
    "    figsize=(4,5)\n",
    ")"
   ]
  },
  {
   "cell_type": "markdown",
   "id": "24ef43eb-3d18-494d-84db-bc79f60fdeaa",
   "metadata": {},
   "source": [
    "### c) Directional effect for sender-receiver axis for CD8 T cells on Epithelial cells \n",
    "\n",
    "This analysis contextualizes differential expression results of the CD8 Tcell – Epithelial cell axis."
   ]
  },
  {
   "cell_type": "markdown",
   "id": "841495ae-4baa-4985-b6ce-97aa7cdf1900",
   "metadata": {},
   "source": [
    "Volcano plot of differentially expressed genes of Epithelial cells in the neighborhood of CD8 T cells."
   ]
  },
  {
   "cell_type": "code",
   "execution_count": null,
   "id": "c56a9652-7529-466e-9625-7a96cfc2adb1",
   "metadata": {},
   "outputs": [],
   "source": [
    "interpreter.sender_receiver_effect_vulcanoplot(\n",
    "    sender='CD8 T cells', \n",
    "    receiver='Epithelial',\n",
    "    fold_change_threshold=0.04,\n",
    "    figsize=(3,5)\n",
    ")"
   ]
  },
  {
   "cell_type": "code",
   "execution_count": null,
   "id": "bbcb02f2-cda0-4f3a-b355-4d57f79dcd03",
   "metadata": {},
   "outputs": [],
   "source": [
    "# low fold change\n",
    "interpreter.sender_receiver_values(\n",
    "    sender='CD8 T cells', \n",
    "    receiver='Epithelial'\n",
    ").sort_values(by='fold change').head(5)"
   ]
  },
  {
   "cell_type": "code",
   "execution_count": null,
   "id": "0c343d39-e1cc-44c5-bca3-3592dacedbbe",
   "metadata": {},
   "outputs": [],
   "source": [
    "# high fold change\n",
    "interpreter.sender_receiver_values(\n",
    "    sender='CD8 T cells', \n",
    "    receiver='Epithelial'\n",
    ").sort_values(by='fold change', ascending=False).head(5)"
   ]
  },
  {
   "cell_type": "markdown",
   "id": "7a578bc2-15b3-4c8e-b16e-6e6c90056ad1",
   "metadata": {},
   "source": [
    "### 4. Sender similarity analysis for Epithelial cells\n",
    "\n",
    "“Sender similarity analysis” of all sender cell types with respect to Epithelial cell receivers. Shown is a clustered heatmap of Pearson correlation coefficients of the coefficient vectors of each sender type that corresponds to Epithelial cell receivers.\n",
    "\n",
    "T cell clusters and other immune cells had a similar effect on Epithelial cells in a “sender similarity analysis”, in which we correlated the coefficient vectors of sender cell types that correspond to Epithelial cell receivers, which demonstrates conservation of cell type identity in the sender profile."
   ]
  },
  {
   "cell_type": "code",
   "execution_count": null,
   "id": "435c46ad-6b0a-42cb-a216-ee3f566e86b1",
   "metadata": {},
   "outputs": [],
   "source": [
    "interpreter.sender_similarity_analysis(receiver='Epithelial')"
   ]
  }
 ],
 "metadata": {
  "kernelspec": {
   "display_name": "Python 3.8.13 ('squidpy')",
   "language": "python",
   "name": "python3"
  },
  "language_info": {
   "codemirror_mode": {
    "name": "ipython",
    "version": 3
   },
   "file_extension": ".py",
   "mimetype": "text/x-python",
   "name": "python",
   "nbconvert_exporter": "python",
   "pygments_lexer": "ipython3",
   "version": "3.8.13"
  },
  "vscode": {
   "interpreter": {
    "hash": "2e39c8a40d42eae042641a738ded6b413d4e05f0b120f0afff19bbba98bb2295"
   }
  }
 },
 "nbformat": 4,
 "nbformat_minor": 5
}
