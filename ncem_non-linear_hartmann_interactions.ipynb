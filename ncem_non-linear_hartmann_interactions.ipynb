{
 "cells": [
  {
   "cell_type": "code",
   "execution_count": 1,
   "metadata": {},
   "outputs": [
    {
     "name": "stderr",
     "output_type": "stream",
     "text": [
      "2023-01-24 01:45:24.203404: I tensorflow/core/platform/cpu_feature_guard.cc:193] This TensorFlow binary is optimized with oneAPI Deep Neural Network Library (oneDNN) to use the following CPU instructions in performance-critical operations:  AVX2 AVX512F AVX512_VNNI FMA\n",
      "To enable them in other operations, rebuild TensorFlow with the appropriate compiler flags.\n",
      "2023-01-24 01:45:24.300428: I tensorflow/core/util/port.cc:104] oneDNN custom operations are on. You may see slightly different numerical results due to floating-point round-off errors from different computation orders. To turn them off, set the environment variable `TF_ENABLE_ONEDNN_OPTS=0`.\n",
      "2023-01-24 01:45:24.704363: W tensorflow/compiler/xla/stream_executor/platform/default/dso_loader.cc:64] Could not load dynamic library 'libnvinfer.so.7'; dlerror: libnvinfer.so.7: cannot open shared object file: No such file or directory\n",
      "2023-01-24 01:45:24.704411: W tensorflow/compiler/xla/stream_executor/platform/default/dso_loader.cc:64] Could not load dynamic library 'libnvinfer_plugin.so.7'; dlerror: libnvinfer_plugin.so.7: cannot open shared object file: No such file or directory\n",
      "2023-01-24 01:45:24.704415: W tensorflow/compiler/tf2tensorrt/utils/py_utils.cc:38] TF-TRT Warning: Cannot dlopen some TensorRT libraries. If you would like to use Nvidia GPU with TensorRT, please make sure the missing libraries mentioned above are installed properly.\n"
     ]
    }
   ],
   "source": [
    "%load_ext autoreload\n",
    "%autoreload 2\n",
    "\n",
    "import ncem\n",
    "import numpy as np\n",
    "import seaborn as sns\n",
    "import tensorflow as tf\n",
    "\n",
    "\n",
    "\n",
    "from scipy.stats import ttest_rel, ttest_ind\n",
    "\n",
    "sns.set_palette(\"colorblind\")\n",
    "\n",
    "# paths\n",
    "data_path_base =\"./input-data/raw-data/\"\n",
    "out_path = \"./output-data/Hartmann-2021/\"\n",
    "fn_out_cv = out_path + \"/results/\""
   ]
  },
  {
   "attachments": {},
   "cell_type": "markdown",
   "metadata": {},
   "source": [
    "## If errors occur with CUDA\n",
    "\n",
    "- If `InternalError: libdevice not found at ./libdevice.10.bc [Op:__inference_one_e_step_2806]`\n",
    "    - Include in shell $PATH:\n",
    "        `export XLA_FLAGS=--xla_gpu_cuda_data_dir=/usr/lib/cuda`\n"
   ]
  },
  {
   "cell_type": "code",
   "execution_count": 2,
   "metadata": {},
   "outputs": [
    {
     "name": "stderr",
     "output_type": "stream",
     "text": [
      "2023-01-24 01:45:26.290928: I tensorflow/compiler/xla/stream_executor/cuda/cuda_gpu_executor.cc:981] successful NUMA node read from SysFS had negative value (-1), but there must be at least one NUMA node, so returning NUMA node zero\n",
      "2023-01-24 01:45:26.296724: I tensorflow/compiler/xla/stream_executor/cuda/cuda_gpu_executor.cc:981] successful NUMA node read from SysFS had negative value (-1), but there must be at least one NUMA node, so returning NUMA node zero\n",
      "2023-01-24 01:45:26.296853: I tensorflow/compiler/xla/stream_executor/cuda/cuda_gpu_executor.cc:981] successful NUMA node read from SysFS had negative value (-1), but there must be at least one NUMA node, so returning NUMA node zero\n"
     ]
    }
   ],
   "source": [
    "# - if `\"Attempting to perform BLAS operation using StreamExecutor without BLAS support`\n",
    "#   try setting a dedicate amount of GPU vram:\n",
    "gpus = tf.config.experimental.list_physical_devices('GPU')\n",
    "if gpus:\n",
    "    try:\n",
    "        tf.config.experimental.set_virtual_device_configuration(gpus[0],[tf.config.experimental.VirtualDeviceConfiguration(memory_limit=1000)]) # 1500 [MB]\n",
    "    except RuntimeError as e:\n",
    "        print('ERROR')"
   ]
  },
  {
   "attachments": {},
   "cell_type": "markdown",
   "metadata": {},
   "source": [
    "# Dataset specific inputs"
   ]
  },
  {
   "cell_type": "code",
   "execution_count": 3,
   "metadata": {},
   "outputs": [],
   "source": [
    "data_set = 'hartmann'\n",
    "data_path = data_path_base + '/Hartmann-2021/'\n",
    "log_transform = False\n",
    "use_domain = True\n",
    "scale_node_size=False\n",
    "merge_node_types_predefined = True\n",
    "covar_selection = []\n",
    "output_layer='linear'\n"
   ]
  },
  {
   "cell_type": "markdown",
   "metadata": {},
   "source": [
    "# Manual inputs"
   ]
  },
  {
   "cell_type": "code",
   "execution_count": 4,
   "metadata": {},
   "outputs": [],
   "source": [
    "model_class = 'interactions'\n",
    "optimizer = 'adam'\n",
    "domain_type = 'patient'\n",
    "\n",
    "learning_rate = 0.05\n",
    "l1 = 0.\n",
    "l2 = 0.\n",
    "\n",
    "batch_size = 58\n",
    "radius = 10\n",
    "n_eval_nodes = 10\n",
    "\n",
    "gs_id = f\"tutorial_{model_class}_{radius}_{data_set}_{domain_type}\"\n",
    "\n"
   ]
  },
  {
   "attachments": {},
   "cell_type": "markdown",
   "metadata": {},
   "source": [
    "# Model and training\n"
   ]
  },
  {
   "cell_type": "code",
   "execution_count": 5,
   "metadata": {},
   "outputs": [],
   "source": [
    "ncv = 3\n",
    "epochs = 2000 if \"tutorial\" not in gs_id else 10 \n",
    "epochs_warmup = 0\n",
    "max_steps_per_epoch = 20\n",
    "patience = 100\n",
    "lr_schedule_min_lr = 1e-10\n",
    "lr_schedule_factor = 0.5\n",
    "lr_schedule_patience = 50\n",
    "val_bs = 16\n",
    "max_val_steps_per_epoch = 10\n",
    "shuffle_buffer_size = None\n",
    "\n",
    "feature_space_id = \"standard\"\n",
    "cond_feature_space_id = \"type\"\n",
    "\n",
    "use_covar_node_label = False\n",
    "use_covar_node_position = False\n",
    "use_covar_graph_covar = False"
   ]
  },
  {
   "cell_type": "code",
   "execution_count": 6,
   "metadata": {},
   "outputs": [
    {
     "name": "stderr",
     "output_type": "stream",
     "text": [
      "/home/ifichtner/mambaforge/envs/squidpyTF/lib/python3.8/site-packages/tqdm/auto.py:22: TqdmWarning: IProgress not found. Please update jupyter and ipywidgets. See https://ipywidgets.readthedocs.io/en/stable/user_install.html\n",
      "  from .autonotebook import tqdm as notebook_tqdm\n"
     ]
    },
    {
     "name": "stdout",
     "output_type": "stream",
     "text": [
      "Loading data from raw files\n",
      "registering celldata\n"
     ]
    },
    {
     "name": "stderr",
     "output_type": "stream",
     "text": [
      "/home/ifichtner/mambaforge/envs/squidpyTF/lib/python3.8/site-packages/ncem/data.py:2389: FutureWarning: X.dtype being converted to np.float32 from float64. In the next version of anndata (0.9) conversion will not be automatic. Pass dtype explicitly to avoid this warning. Pass `AnnData(X, dtype=X.dtype, ...)` to get the future behavour.\n",
      "  celldata = AnnData(\n",
      "/home/ifichtner/mambaforge/envs/squidpyTF/lib/python3.8/site-packages/anndata/_core/anndata.py:121: ImplicitModificationWarning: Transforming to str index.\n",
      "  warnings.warn(\"Transforming to str index.\", ImplicitModificationWarning)\n"
     ]
    },
    {
     "name": "stdout",
     "output_type": "stream",
     "text": [
      "collecting image-wise celldata\n",
      "adding graph-level covariates\n"
     ]
    },
    {
     "name": "stderr",
     "output_type": "stream",
     "text": [
      "100%|██████████| 58/58 [00:00<00:00, 59.08it/s]"
     ]
    },
    {
     "name": "stdout",
     "output_type": "stream",
     "text": [
      "Loaded 58 images with complete data from 4 patients over 63747 cells with 36 cell features and 8 distinct celltypes.\n",
      "Mean of mean node degree per images across images: 0.000688\n"
     ]
    },
    {
     "name": "stderr",
     "output_type": "stream",
     "text": [
      "\n"
     ]
    }
   ],
   "source": [
    "trainer = ncem.train.TrainModelInteractions()\n",
    "trainer.init_estim(log_transform=log_transform)\n",
    "\n",
    "trainer.estimator.get_data(\n",
    "    data_origin=data_set,\n",
    "    data_path=data_path,\n",
    "    radius=radius,\n",
    "    graph_covar_selection=covar_selection,\n",
    "    node_label_space_id=cond_feature_space_id,\n",
    "    node_feature_space_id=feature_space_id,\n",
    "    # feature_transformation=transformation_dict[transform_key],\n",
    "    use_covar_node_position=use_covar_node_position,\n",
    "    use_covar_node_label=use_covar_node_label,\n",
    "    use_covar_graph_covar=use_covar_graph_covar,\n",
    "    # hold_out_covariate=hold_out_covariate,\n",
    "    domain_type=domain_type,\n",
    "    # merge_node_types_predefined=merge_node_types_predefined,\n",
    ")"
   ]
  },
  {
   "cell_type": "code",
   "execution_count": 7,
   "metadata": {},
   "outputs": [
    {
     "name": "stdout",
     "output_type": "stream",
     "text": [
      "Using split method: node. \n",
      " Train-test-validation split is based on total number of nodes per patients over all images.\n",
      "\n",
      "Excluded 0 cells with the following unannotated cell type: [None] \n",
      "\n",
      "Whole dataset: 63747 cells out of 58 images from 4 patients.\n",
      "Test dataset: 6376 cells out of 58 images from 4 patients.\n",
      "Training dataset: 51930 cells out of 58 images from 4 patients.\n",
      "Validation dataset: 5738 cells out of 58 images from 4 patients. \n",
      "\n"
     ]
    }
   ],
   "source": [
    "trainer.estimator.split_data_node(\n",
    "    validation_split=0.1,\n",
    "    test_split=0.1,\n",
    "    seed=0\n",
    ")"
   ]
  },
  {
   "cell_type": "code",
   "execution_count": 8,
   "metadata": {},
   "outputs": [
    {
     "name": "stdout",
     "output_type": "stream",
     "text": [
      "Model: \"interaction_linear_model\"\n",
      "__________________________________________________________________________________________________\n",
      " Layer (type)                   Output Shape         Param #     Connected to                     \n",
      "==================================================================================================\n",
      " input_da_group (InputLayer)    [(None, 4)]          0           []                               \n",
      "                                                                                                  \n",
      " tf.cast (TFOpLambda)           (None, 4)            0           ['input_da_group[0][0]']         \n",
      "                                                                                                  \n",
      " tf.expand_dims (TFOpLambda)    (None, 1, 4)         0           ['tf.cast[0][0]']                \n",
      "                                                                                                  \n",
      " interaction (InputLayer)       [(None, 10, 64)]     0           []                               \n",
      "                                                                                                  \n",
      " categorical_predictor (InputLa  [(None, 10, 0)]     0           []                               \n",
      " yer)                                                                                             \n",
      "                                                                                                  \n",
      " tf.tile (TFOpLambda)           (None, 10, 4)        0           ['tf.expand_dims[0][0]']         \n",
      "                                                                                                  \n",
      " target (InputLayer)            [(None, 10, 8)]      0           []                               \n",
      "                                                                                                  \n",
      " denseinteraction (DenseInterac  (None, 10, 64)      0           ['interaction[0][0]']            \n",
      " tions)                                                                                           \n",
      "                                                                                                  \n",
      " tf.concat (TFOpLambda)         (None, 10, 4)        0           ['categorical_predictor[0][0]',  \n",
      "                                                                  'tf.tile[0][0]']                \n",
      "                                                                                                  \n",
      " tf.concat_1 (TFOpLambda)       (None, 10, 76)       0           ['target[0][0]',                 \n",
      "                                                                  'denseinteraction[0][0]',       \n",
      "                                                                  'tf.concat[0][0]']              \n",
      "                                                                                                  \n",
      " tf.reshape (TFOpLambda)        (None, 76)           0           ['tf.concat_1[0][0]']            \n",
      "                                                                                                  \n",
      " LinearLayer (Dense)            (None, 36)           2772        ['tf.reshape[0][0]']             \n",
      "                                                                                                  \n",
      " tf.reshape_1 (TFOpLambda)      (None, 10, 36)       0           ['LinearLayer[0][0]']            \n",
      "                                                                                                  \n",
      " node_size_reconstruct (InputLa  [(None, 10, 1)]     0           []                               \n",
      " yer)                                                                                             \n",
      "                                                                                                  \n",
      " LinearOutput (LinearOutput)    [(None, 10, 36),     36          ['tf.reshape_1[0][0]',           \n",
      "                                 (None, 10, 36)]                  'node_size_reconstruct[0][0]']  \n",
      "                                                                                                  \n",
      " reconstruction (Concatenate)   (None, 10, 72)       0           ['LinearOutput[0][0]',           \n",
      "                                                                  'LinearOutput[0][1]']           \n",
      "                                                                                                  \n",
      "==================================================================================================\n",
      "Total params: 2,808\n",
      "Trainable params: 2,808\n",
      "Non-trainable params: 0\n",
      "__________________________________________________________________________________________________\n"
     ]
    },
    {
     "name": "stderr",
     "output_type": "stream",
     "text": [
      "2023-01-24 01:45:31.039383: I tensorflow/core/platform/cpu_feature_guard.cc:193] This TensorFlow binary is optimized with oneAPI Deep Neural Network Library (oneDNN) to use the following CPU instructions in performance-critical operations:  AVX2 AVX512F AVX512_VNNI FMA\n",
      "To enable them in other operations, rebuild TensorFlow with the appropriate compiler flags.\n",
      "2023-01-24 01:45:31.041009: I tensorflow/compiler/xla/stream_executor/cuda/cuda_gpu_executor.cc:981] successful NUMA node read from SysFS had negative value (-1), but there must be at least one NUMA node, so returning NUMA node zero\n",
      "2023-01-24 01:45:31.041402: I tensorflow/compiler/xla/stream_executor/cuda/cuda_gpu_executor.cc:981] successful NUMA node read from SysFS had negative value (-1), but there must be at least one NUMA node, so returning NUMA node zero\n",
      "2023-01-24 01:45:31.041475: I tensorflow/compiler/xla/stream_executor/cuda/cuda_gpu_executor.cc:981] successful NUMA node read from SysFS had negative value (-1), but there must be at least one NUMA node, so returning NUMA node zero\n",
      "2023-01-24 01:45:31.373333: I tensorflow/compiler/xla/stream_executor/cuda/cuda_gpu_executor.cc:981] successful NUMA node read from SysFS had negative value (-1), but there must be at least one NUMA node, so returning NUMA node zero\n",
      "2023-01-24 01:45:31.373519: I tensorflow/compiler/xla/stream_executor/cuda/cuda_gpu_executor.cc:981] successful NUMA node read from SysFS had negative value (-1), but there must be at least one NUMA node, so returning NUMA node zero\n",
      "2023-01-24 01:45:31.373634: I tensorflow/compiler/xla/stream_executor/cuda/cuda_gpu_executor.cc:981] successful NUMA node read from SysFS had negative value (-1), but there must be at least one NUMA node, so returning NUMA node zero\n",
      "2023-01-24 01:45:31.373734: I tensorflow/core/common_runtime/gpu/gpu_device.cc:1613] Created device /job:localhost/replica:0/task:0/device:GPU:0 with 1000 MB memory:  -> device: 0, name: NVIDIA GeForce RTX 3050 Laptop GPU, pci bus id: 0000:01:00.0, compute capability: 8.6\n"
     ]
    }
   ],
   "source": [
    "trainer.estimator.init_model(\n",
    "    optimizer=optimizer,\n",
    "    learning_rate=learning_rate,\n",
    "    n_eval_nodes_per_graph=n_eval_nodes,\n",
    "\n",
    "    l2_coef=l2,\n",
    "    l1_coef=l1,\n",
    "    use_interactions=True,\n",
    "    use_domain=use_domain,\n",
    "    scale_node_size=scale_node_size,\n",
    "    output_layer=output_layer,\n",
    ")\n",
    "trainer.estimator.model.training_model.summary()"
   ]
  },
  {
   "cell_type": "code",
   "execution_count": 9,
   "metadata": {},
   "outputs": [
    {
     "name": "stdout",
     "output_type": "stream",
     "text": [
      "Epoch 1/10\n",
      "WARNING:tensorflow:From /home/ifichtner/mambaforge/envs/squidpyTF/lib/python3.8/site-packages/tensorflow/python/autograph/pyct/static_analysis/liveness.py:83: Analyzer.lamba_check (from tensorflow.python.autograph.pyct.static_analysis.liveness) is deprecated and will be removed after 2023-09-23.\n",
      "Instructions for updating:\n",
      "Lambda fuctions will be no more assumed to be used in the statement where they are used, or at least in the same block. https://github.com/tensorflow/tensorflow/issues/56089\n"
     ]
    },
    {
     "name": "stderr",
     "output_type": "stream",
     "text": [
      "WARNING:tensorflow:From /home/ifichtner/mambaforge/envs/squidpyTF/lib/python3.8/site-packages/tensorflow/python/autograph/pyct/static_analysis/liveness.py:83: Analyzer.lamba_check (from tensorflow.python.autograph.pyct.static_analysis.liveness) is deprecated and will be removed after 2023-09-23.\n",
      "Instructions for updating:\n",
      "Lambda fuctions will be no more assumed to be used in the statement where they are used, or at least in the same block. https://github.com/tensorflow/tensorflow/issues/56089\n",
      "2023-01-24 01:45:32.916848: I tensorflow/compiler/xla/stream_executor/cuda/cuda_blas.cc:630] TensorFloat-32 will be used for the matrix multiplication. This will only be logged once.\n",
      "2023-01-24 01:45:32.925249: I tensorflow/compiler/xla/service/service.cc:173] XLA service 0x7f91ac015bf0 initialized for platform CUDA (this does not guarantee that XLA will be used). Devices:\n",
      "2023-01-24 01:45:32.925283: I tensorflow/compiler/xla/service/service.cc:181]   StreamExecutor device (0): NVIDIA GeForce RTX 3050 Laptop GPU, Compute Capability 8.6\n",
      "2023-01-24 01:45:32.931831: I tensorflow/compiler/mlir/tensorflow/utils/dump_mlir_util.cc:268] disabling MLIR crash reproducer, set env var `MLIR_CRASH_REPRODUCER_DIRECTORY` to enable.\n",
      "2023-01-24 01:45:33.042872: I tensorflow/compiler/jit/xla_compilation_cache.cc:477] Compiled cluster using XLA!  This line is logged at most once for the lifetime of the process.\n"
     ]
    },
    {
     "name": "stdout",
     "output_type": "stream",
     "text": [
      "1/1 - 2s - loss: 37.5784 - custom_mae: 0.4164 - custom_mean_sd: 1.0000 - custom_mse: 0.2498 - custom_mse_scaled: 0.2498 - gaussian_reconstruction_loss: 37.5784 - r_squared: -2.0198e+00 - r_squared_linreg: 3.5917e-04 - val_loss: 34.1795 - val_custom_mae: 0.3031 - val_custom_mean_sd: 0.9512 - val_custom_mse: 0.1457 - val_custom_mse_scaled: 0.1610 - val_gaussian_reconstruction_loss: 34.1795 - val_r_squared: -8.3769e-01 - val_r_squared_linreg: 0.0428 - lr: 0.0500 - 2s/epoch - 2s/step\n",
      "Epoch 2/10\n",
      "1/1 - 0s - loss: 34.3184 - custom_mae: 0.3123 - custom_mean_sd: 0.9512 - custom_mse: 0.1526 - custom_mse_scaled: 0.1687 - gaussian_reconstruction_loss: 34.3184 - r_squared: -8.7881e-01 - r_squared_linreg: 0.0449 - val_loss: 31.4373 - val_custom_mae: 0.2314 - val_custom_mean_sd: 0.9048 - val_custom_mse: 0.0890 - val_custom_mse_scaled: 0.1086 - val_gaussian_reconstruction_loss: 31.4373 - val_r_squared: -1.1943e-01 - val_r_squared_linreg: 0.1593 - lr: 0.0500 - 360ms/epoch - 360ms/step\n",
      "Epoch 3/10\n",
      "1/1 - 0s - loss: 31.5229 - custom_mae: 0.2367 - custom_mean_sd: 0.9048 - custom_mse: 0.0929 - custom_mse_scaled: 0.1134 - gaussian_reconstruction_loss: 31.5229 - r_squared: -1.3091e-01 - r_squared_linreg: 0.1613 - val_loss: 29.1287 - val_custom_mae: 0.1890 - val_custom_mean_sd: 0.8607 - val_custom_mse: 0.0596 - val_custom_mse_scaled: 0.0805 - val_gaussian_reconstruction_loss: 29.1287 - val_r_squared: 0.2469 - val_r_squared_linreg: 0.3100 - lr: 0.0500 - 368ms/epoch - 368ms/step\n",
      "Epoch 4/10\n",
      "1/1 - 0s - loss: 29.1745 - custom_mae: 0.1911 - custom_mean_sd: 0.8607 - custom_mse: 0.0615 - custom_mse_scaled: 0.0830 - gaussian_reconstruction_loss: 29.1745 - r_squared: 0.2557 - r_squared_linreg: 0.3131 - val_loss: 27.1649 - val_custom_mae: 0.1707 - val_custom_mean_sd: 0.8186 - val_custom_mse: 0.0480 - val_custom_mse_scaled: 0.0717 - val_gaussian_reconstruction_loss: 27.1649 - val_r_squared: 0.3794 - val_r_squared_linreg: 0.4470 - lr: 0.0500 - 361ms/epoch - 361ms/step\n",
      "Epoch 5/10\n",
      "1/1 - 0s - loss: 27.1710 - custom_mae: 0.1703 - custom_mean_sd: 0.8186 - custom_mse: 0.0483 - custom_mse_scaled: 0.0720 - gaussian_reconstruction_loss: 27.1710 - r_squared: 0.4106 - r_squared_linreg: 0.4527 - val_loss: 25.4879 - val_custom_mae: 0.1688 - val_custom_mean_sd: 0.7785 - val_custom_mse: 0.0479 - val_custom_mse_scaled: 0.0790 - val_gaussian_reconstruction_loss: 25.4879 - val_r_squared: 0.3924 - val_r_squared_linreg: 0.5369 - lr: 0.0500 - 364ms/epoch - 364ms/step\n",
      "Epoch 6/10\n",
      "1/1 - 0s - loss: 25.4805 - custom_mae: 0.1688 - custom_mean_sd: 0.7785 - custom_mse: 0.0476 - custom_mse_scaled: 0.0786 - gaussian_reconstruction_loss: 25.4805 - r_squared: 0.4182 - r_squared_linreg: 0.5427 - val_loss: 23.8373 - val_custom_mae: 0.1698 - val_custom_mean_sd: 0.7403 - val_custom_mse: 0.0481 - val_custom_mse_scaled: 0.0879 - val_gaussian_reconstruction_loss: 23.8373 - val_r_squared: 0.3996 - val_r_squared_linreg: 0.5913 - lr: 0.0500 - 374ms/epoch - 374ms/step\n",
      "Epoch 7/10\n",
      "1/1 - 0s - loss: 23.8166 - custom_mae: 0.1682 - custom_mean_sd: 0.7403 - custom_mse: 0.0475 - custom_mse_scaled: 0.0867 - gaussian_reconstruction_loss: 23.8166 - r_squared: 0.4264 - r_squared_linreg: 0.6052 - val_loss: 22.1529 - val_custom_mae: 0.1671 - val_custom_mean_sd: 0.7039 - val_custom_mse: 0.0470 - val_custom_mse_scaled: 0.0950 - val_gaussian_reconstruction_loss: 22.1529 - val_r_squared: 0.4122 - val_r_squared_linreg: 0.6320 - lr: 0.0500 - 361ms/epoch - 361ms/step\n",
      "Epoch 8/10\n",
      "1/1 - 0s - loss: 22.1241 - custom_mae: 0.1657 - custom_mean_sd: 0.7039 - custom_mse: 0.0462 - custom_mse_scaled: 0.0934 - gaussian_reconstruction_loss: 22.1241 - r_squared: 0.4317 - r_squared_linreg: 0.6376 - val_loss: 20.4306 - val_custom_mae: 0.1624 - val_custom_mean_sd: 0.6694 - val_custom_mse: 0.0448 - val_custom_mse_scaled: 0.0999 - val_gaussian_reconstruction_loss: 20.4306 - val_r_squared: 0.4348 - val_r_squared_linreg: 0.6456 - lr: 0.0500 - 377ms/epoch - 377ms/step\n",
      "Epoch 9/10\n",
      "1/1 - 0s - loss: 20.3823 - custom_mae: 0.1605 - custom_mean_sd: 0.6694 - custom_mse: 0.0436 - custom_mse_scaled: 0.0973 - gaussian_reconstruction_loss: 20.3823 - r_squared: 0.4610 - r_squared_linreg: 0.6530 - val_loss: 18.6511 - val_custom_mae: 0.1541 - val_custom_mean_sd: 0.6365 - val_custom_mse: 0.0412 - val_custom_mse_scaled: 0.1017 - val_gaussian_reconstruction_loss: 18.6511 - val_r_squared: 0.4726 - val_r_squared_linreg: 0.6508 - lr: 0.0500 - 367ms/epoch - 367ms/step\n",
      "Epoch 10/10\n",
      "1/1 - 0s - loss: 18.5603 - custom_mae: 0.1491 - custom_mean_sd: 0.6365 - custom_mse: 0.0392 - custom_mse_scaled: 0.0967 - gaussian_reconstruction_loss: 18.5603 - r_squared: 0.5265 - r_squared_linreg: 0.6569 - val_loss: 16.7672 - val_custom_mae: 0.1428 - val_custom_mean_sd: 0.6053 - val_custom_mse: 0.0358 - val_custom_mse_scaled: 0.0977 - val_gaussian_reconstruction_loss: 16.7672 - val_r_squared: 0.5493 - val_r_squared_linreg: 0.6474 - lr: 0.0500 - 357ms/epoch - 357ms/step\n"
     ]
    }
   ],
   "source": [
    "trainer.estimator.train(\n",
    "    epochs=epochs,\n",
    "    epochs_warmup=epochs_warmup,\n",
    "    batch_size=batch_size,\n",
    "    max_steps_per_epoch=max_steps_per_epoch,\n",
    "    validation_batch_size=val_bs,\n",
    "    max_validation_steps=max_val_steps_per_epoch,\n",
    "    patience=patience,\n",
    "    lr_schedule_min_lr=lr_schedule_min_lr,\n",
    "    lr_schedule_factor=lr_schedule_factor,\n",
    "    lr_schedule_patience=lr_schedule_patience,\n",
    "    monitor_partition=\"val\",\n",
    "    monitor_metric=\"loss\",\n",
    "    shuffle_buffer_size=shuffle_buffer_size,\n",
    "    early_stopping=True,\n",
    "    reduce_lr_plateau=True,\n",
    ")"
   ]
  },
  {
   "cell_type": "code",
   "execution_count": 10,
   "metadata": {},
   "outputs": [],
   "source": [
    "evaluation_test = trainer.estimator.evaluate_any(\n",
    "    img_keys=trainer.estimator.img_keys_test,\n",
    "    node_idx=trainer.estimator.nodes_idx_test\n",
    ")"
   ]
  },
  {
   "cell_type": "code",
   "execution_count": 11,
   "metadata": {},
   "outputs": [
    {
     "name": "stdout",
     "output_type": "stream",
     "text": [
      "Evaluation for CD11c Myeloid with 1199 cells\n",
      "{'loss': 16.550827026367188, 'custom_mae': 0.13638442754745483, 'custom_mean_sd': 0.6053009629249573, 'custom_mse': 0.03140474483370781, 'custom_mse_scaled': 0.08567404747009277, 'gaussian_reconstruction_loss': 16.550830841064453, 'r_squared': 0.6119348406791687, 'r_squared_linreg': 0.7327884435653687}\n",
      "Evaluation for CD4 T cells with 14983 cells\n",
      "{'loss': 16.43077850341797, 'custom_mae': 0.13329735398292542, 'custom_mean_sd': 0.6052987575531006, 'custom_mse': 0.028939399868249893, 'custom_mse_scaled': 0.07900457084178925, 'gaussian_reconstruction_loss': 16.43077850341797, 'r_squared': 0.6307323575019836, 'r_squared_linreg': 0.7424430847167969}\n",
      "Evaluation for CD68 Myeloid with 3452 cells\n",
      "{'loss': 16.858522415161133, 'custom_mae': 0.1511072963476181, 'custom_mean_sd': 0.6053009629249573, 'custom_mse': 0.03766746073961258, 'custom_mse_scaled': 0.10276762396097183, 'gaussian_reconstruction_loss': 16.858509063720703, 'r_squared': 0.4816913902759552, 'r_squared_linreg': 0.6624821424484253}\n",
      "Evaluation for CD8 T cells with 8354 cells\n",
      "{'loss': 16.3873348236084, 'custom_mae': 0.12898389995098114, 'custom_mean_sd': 0.6053082346916199, 'custom_mse': 0.028062403202056885, 'custom_mse_scaled': 0.07659125328063965, 'gaussian_reconstruction_loss': 16.3873291015625, 'r_squared': 0.6168201565742493, 'r_squared_linreg': 0.7362136244773865}\n",
      "Evaluation for Endothelial with 2027 cells\n",
      "{'loss': 17.00506019592285, 'custom_mae': 0.15572668612003326, 'custom_mean_sd': 0.6053009629249573, 'custom_mse': 0.040643543004989624, 'custom_mse_scaled': 0.11090931296348572, 'gaussian_reconstruction_loss': 17.00506591796875, 'r_squared': 0.4408503472805023, 'r_squared_linreg': 0.6032803058624268}\n",
      "Evaluation for Epithelial with 12668 cells\n",
      "{'loss': 16.60028076171875, 'custom_mae': 0.13319694995880127, 'custom_mean_sd': 0.6053012013435364, 'custom_mse': 0.03239935263991356, 'custom_mse_scaled': 0.08842170983552933, 'gaussian_reconstruction_loss': 16.600290298461914, 'r_squared': 0.5778456926345825, 'r_squared_linreg': 0.7109631299972534}\n",
      "Evaluation for Fibroblast with 3768 cells\n",
      "{'loss': 16.712860107421875, 'custom_mae': 0.1410353034734726, 'custom_mean_sd': 0.6053009629249573, 'custom_mse': 0.03467809036374092, 'custom_mse_scaled': 0.0946759432554245, 'gaussian_reconstruction_loss': 16.712858200073242, 'r_squared': 0.5345680117607117, 'r_squared_linreg': 0.6769022345542908}\n",
      "Evaluation for Other immune cells with 17296 cells\n",
      "{'loss': 16.662338256835938, 'custom_mae': 0.13397860527038574, 'custom_mean_sd': 0.6052973866462708, 'custom_mse': 0.03364788368344307, 'custom_mse_scaled': 0.09186918288469315, 'gaussian_reconstruction_loss': 16.662342071533203, 'r_squared': 0.5094552040100098, 'r_squared_linreg': 0.6761434674263}\n"
     ]
    }
   ],
   "source": [
    "split_per_node_type, evaluation_per_node_type = trainer.estimator.evaluate_per_node_type()"
   ]
  },
  {
   "cell_type": "code",
   "execution_count": 12,
   "metadata": {},
   "outputs": [
    {
     "data": {
      "text/plain": [
       "{'loss': 16.712860107421875,\n",
       " 'custom_mae': 0.1410353034734726,\n",
       " 'custom_mean_sd': 0.6053009629249573,\n",
       " 'custom_mse': 0.03467809036374092,\n",
       " 'custom_mse_scaled': 0.0946759432554245,\n",
       " 'gaussian_reconstruction_loss': 16.712858200073242,\n",
       " 'r_squared': 0.5345680117607117,\n",
       " 'r_squared_linreg': 0.6769022345542908}"
      ]
     },
     "execution_count": 12,
     "metadata": {},
     "output_type": "execute_result"
    }
   ],
   "source": [
    "evaluation_per_node_type['Fibroblast']"
   ]
  }
 ],
 "metadata": {
  "kernelspec": {
   "display_name": "squidpyTF",
   "language": "python",
   "name": "python3"
  },
  "language_info": {
   "codemirror_mode": {
    "name": "ipython",
    "version": 3
   },
   "file_extension": ".py",
   "mimetype": "text/x-python",
   "name": "python",
   "nbconvert_exporter": "python",
   "pygments_lexer": "ipython3",
   "version": "3.8.15 | packaged by conda-forge | (default, Nov 22 2022, 08:49:35) \n[GCC 10.4.0]"
  },
  "orig_nbformat": 4,
  "vscode": {
   "interpreter": {
    "hash": "97543237a6bcd86b2473d592fc25336dd1965b4a1315473dfbc595ecc291a458"
   }
  }
 },
 "nbformat": 4,
 "nbformat_minor": 2
}
