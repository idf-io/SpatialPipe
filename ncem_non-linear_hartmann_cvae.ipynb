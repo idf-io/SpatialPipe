{
 "cells": [
  {
   "cell_type": "code",
   "execution_count": 1,
   "metadata": {},
   "outputs": [
    {
     "name": "stderr",
     "output_type": "stream",
     "text": [
      "2023-01-24 01:01:17.129612: I tensorflow/core/platform/cpu_feature_guard.cc:193] This TensorFlow binary is optimized with oneAPI Deep Neural Network Library (oneDNN) to use the following CPU instructions in performance-critical operations:  AVX2 AVX512F AVX512_VNNI FMA\n",
      "To enable them in other operations, rebuild TensorFlow with the appropriate compiler flags.\n",
      "2023-01-24 01:01:17.226583: I tensorflow/core/util/port.cc:104] oneDNN custom operations are on. You may see slightly different numerical results due to floating-point round-off errors from different computation orders. To turn them off, set the environment variable `TF_ENABLE_ONEDNN_OPTS=0`.\n",
      "2023-01-24 01:01:17.598706: W tensorflow/compiler/xla/stream_executor/platform/default/dso_loader.cc:64] Could not load dynamic library 'libnvinfer.so.7'; dlerror: libnvinfer.so.7: cannot open shared object file: No such file or directory\n",
      "2023-01-24 01:01:17.598752: W tensorflow/compiler/xla/stream_executor/platform/default/dso_loader.cc:64] Could not load dynamic library 'libnvinfer_plugin.so.7'; dlerror: libnvinfer_plugin.so.7: cannot open shared object file: No such file or directory\n",
      "2023-01-24 01:01:17.598755: W tensorflow/compiler/tf2tensorrt/utils/py_utils.cc:38] TF-TRT Warning: Cannot dlopen some TensorRT libraries. If you would like to use Nvidia GPU with TensorRT, please make sure the missing libraries mentioned above are installed properly.\n"
     ]
    }
   ],
   "source": [
    "%load_ext autoreload\n",
    "%autoreload 2\n",
    "\n",
    "import ncem\n",
    "import numpy as np\n",
    "import seaborn as sns\n",
    "import tensorflow as tf\n",
    "\n",
    "\n",
    "\n",
    "from scipy.stats import ttest_rel, ttest_ind\n",
    "\n",
    "sns.set_palette(\"colorblind\")\n",
    "\n",
    "# paths\n",
    "data_path_base =\"./input-data/raw-data/\"\n",
    "out_path = \"./output-data/Hartmann-2021/\"\n",
    "fn_out_cv = out_path + \"/results/\""
   ]
  },
  {
   "attachments": {},
   "cell_type": "markdown",
   "metadata": {},
   "source": [
    "## If errors occur with CUDA\n",
    "\n",
    "- If `InternalError: libdevice not found at ./libdevice.10.bc [Op:__inference_one_e_step_2806]`\n",
    "    - Include in shell $PATH:\n",
    "        `export XLA_FLAGS=--xla_gpu_cuda_data_dir=/usr/lib/cuda`\n"
   ]
  },
  {
   "cell_type": "code",
   "execution_count": 2,
   "metadata": {},
   "outputs": [
    {
     "name": "stderr",
     "output_type": "stream",
     "text": [
      "2023-01-24 01:01:19.004372: I tensorflow/compiler/xla/stream_executor/cuda/cuda_gpu_executor.cc:981] successful NUMA node read from SysFS had negative value (-1), but there must be at least one NUMA node, so returning NUMA node zero\n",
      "2023-01-24 01:01:19.012630: I tensorflow/compiler/xla/stream_executor/cuda/cuda_gpu_executor.cc:981] successful NUMA node read from SysFS had negative value (-1), but there must be at least one NUMA node, so returning NUMA node zero\n",
      "2023-01-24 01:01:19.012744: I tensorflow/compiler/xla/stream_executor/cuda/cuda_gpu_executor.cc:981] successful NUMA node read from SysFS had negative value (-1), but there must be at least one NUMA node, so returning NUMA node zero\n"
     ]
    }
   ],
   "source": [
    "# - if `\"Attempting to perform BLAS operation using StreamExecutor without BLAS support`\n",
    "    # - try setting a dedicate amount of GPU vram:\n",
    "gpus = tf.config.experimental.list_physical_devices('GPU')\n",
    "if gpus:\n",
    "    try:\n",
    "        tf.config.experimental.set_virtual_device_configuration(gpus[0],[tf.config.experimental.VirtualDeviceConfiguration(memory_limit=500)]) # 1500 [MB]\n",
    "    except RuntimeError as e:\n",
    "        print('ERROR')"
   ]
  },
  {
   "attachments": {},
   "cell_type": "markdown",
   "metadata": {},
   "source": [
    "# Dataset specific inputs"
   ]
  },
  {
   "cell_type": "code",
   "execution_count": 3,
   "metadata": {},
   "outputs": [],
   "source": [
    "data_set = 'hartmann'\n",
    "data_path = data_path_base + '/Hartmann-2021/'\n",
    "log_transform = False\n",
    "use_domain = True\n",
    "scale_node_size=False\n",
    "merge_node_types_predefined = True\n",
    "covar_selection = []\n",
    "output_layer='gaussian'\n"
   ]
  },
  {
   "cell_type": "markdown",
   "metadata": {},
   "source": [
    "# Manual inputs"
   ]
  },
  {
   "cell_type": "code",
   "execution_count": 4,
   "metadata": {},
   "outputs": [],
   "source": [
    "model_class = 'cvae'\n",
    "optimizer = 'adam'\n",
    "domain_type = 'patient'\n",
    "\n",
    "learning_rate = 0.05\n",
    "l1 = 0.\n",
    "l2 = 0.\n",
    "\n",
    "batch_size = 58\n",
    "radius = 10\n",
    "n_eval_nodes = 10\n",
    "\n",
    "gs_id = f\"tutorial_{model_class}_{radius}_{data_set}_{domain_type}\"\n",
    "\n"
   ]
  },
  {
   "attachments": {},
   "cell_type": "markdown",
   "metadata": {},
   "source": [
    "# Model and training\n"
   ]
  },
  {
   "cell_type": "code",
   "execution_count": 5,
   "metadata": {},
   "outputs": [],
   "source": [
    "ncv = 3\n",
    "epochs = 2000 if \"tutorial\" not in gs_id else 10 \n",
    "epochs_warmup = 0\n",
    "max_steps_per_epoch = 20\n",
    "patience = 100\n",
    "lr_schedule_min_lr = 1e-10\n",
    "lr_schedule_factor = 0.5\n",
    "lr_schedule_patience = 50\n",
    "val_bs = 16\n",
    "max_val_steps_per_epoch = 10\n",
    "shuffle_buffer_size = None\n",
    "decoder_epochs=1000\n",
    "decoder_patience=20\n",
    "\n",
    "feature_space_id = \"standard\"\n",
    "cond_feature_space_id = \"type\"\n",
    "\n",
    "use_covar_node_label = False\n",
    "use_covar_node_position = False\n",
    "use_covar_graph_covar = False"
   ]
  },
  {
   "cell_type": "code",
   "execution_count": 6,
   "metadata": {},
   "outputs": [
    {
     "name": "stderr",
     "output_type": "stream",
     "text": [
      "/home/ifichtner/mambaforge/envs/squidpyTF/lib/python3.8/site-packages/tqdm/auto.py:22: TqdmWarning: IProgress not found. Please update jupyter and ipywidgets. See https://ipywidgets.readthedocs.io/en/stable/user_install.html\n",
      "  from .autonotebook import tqdm as notebook_tqdm\n"
     ]
    },
    {
     "name": "stdout",
     "output_type": "stream",
     "text": [
      "Loading data from raw files\n",
      "registering celldata\n"
     ]
    },
    {
     "name": "stderr",
     "output_type": "stream",
     "text": [
      "/home/ifichtner/mambaforge/envs/squidpyTF/lib/python3.8/site-packages/ncem/data.py:2389: FutureWarning: X.dtype being converted to np.float32 from float64. In the next version of anndata (0.9) conversion will not be automatic. Pass dtype explicitly to avoid this warning. Pass `AnnData(X, dtype=X.dtype, ...)` to get the future behavour.\n",
      "  celldata = AnnData(\n",
      "/home/ifichtner/mambaforge/envs/squidpyTF/lib/python3.8/site-packages/anndata/_core/anndata.py:121: ImplicitModificationWarning: Transforming to str index.\n",
      "  warnings.warn(\"Transforming to str index.\", ImplicitModificationWarning)\n"
     ]
    },
    {
     "name": "stdout",
     "output_type": "stream",
     "text": [
      "collecting image-wise celldata\n",
      "adding graph-level covariates\n"
     ]
    },
    {
     "name": "stderr",
     "output_type": "stream",
     "text": [
      "100%|██████████| 58/58 [00:00<00:00, 59.08it/s]"
     ]
    },
    {
     "name": "stdout",
     "output_type": "stream",
     "text": [
      "Loaded 58 images with complete data from 4 patients over 63747 cells with 36 cell features and 8 distinct celltypes.\n",
      "Mean of mean node degree per images across images: 0.000688\n"
     ]
    },
    {
     "name": "stderr",
     "output_type": "stream",
     "text": [
      "\n"
     ]
    }
   ],
   "source": [
    "trainer = ncem.train.TrainModelCVAE()\n",
    "trainer.init_estim(log_transform=log_transform)\n",
    "\n",
    "trainer.estimator.get_data(\n",
    "    data_origin=data_set,\n",
    "    data_path=data_path,\n",
    "    radius=radius,\n",
    "    graph_covar_selection=covar_selection,\n",
    "    node_label_space_id=cond_feature_space_id,\n",
    "    node_feature_space_id=feature_space_id,\n",
    "    use_covar_node_position=use_covar_node_position,\n",
    "    use_covar_node_label=use_covar_node_label,\n",
    "    use_covar_graph_covar=use_covar_graph_covar,\n",
    "    domain_type=domain_type,\n",
    ")"
   ]
  },
  {
   "cell_type": "code",
   "execution_count": 7,
   "metadata": {},
   "outputs": [
    {
     "name": "stdout",
     "output_type": "stream",
     "text": [
      "Using split method: node. \n",
      " Train-test-validation split is based on total number of nodes per patients over all images.\n",
      "\n",
      "Excluded 0 cells with the following unannotated cell type: [None] \n",
      "\n",
      "Whole dataset: 63747 cells out of 58 images from 4 patients.\n",
      "Test dataset: 6376 cells out of 58 images from 4 patients.\n",
      "Training dataset: 51930 cells out of 58 images from 4 patients.\n",
      "Validation dataset: 5738 cells out of 58 images from 4 patients. \n",
      "\n"
     ]
    }
   ],
   "source": [
    "trainer.estimator.split_data_node(\n",
    "    validation_split=0.1,\n",
    "    test_split=0.1,\n",
    "    seed=0\n",
    ")"
   ]
  },
  {
   "cell_type": "code",
   "execution_count": 8,
   "metadata": {},
   "outputs": [
    {
     "name": "stderr",
     "output_type": "stream",
     "text": [
      "2023-01-24 01:01:23.752578: I tensorflow/core/platform/cpu_feature_guard.cc:193] This TensorFlow binary is optimized with oneAPI Deep Neural Network Library (oneDNN) to use the following CPU instructions in performance-critical operations:  AVX2 AVX512F AVX512_VNNI FMA\n",
      "To enable them in other operations, rebuild TensorFlow with the appropriate compiler flags.\n",
      "2023-01-24 01:01:23.753386: I tensorflow/compiler/xla/stream_executor/cuda/cuda_gpu_executor.cc:981] successful NUMA node read from SysFS had negative value (-1), but there must be at least one NUMA node, so returning NUMA node zero\n",
      "2023-01-24 01:01:23.753549: I tensorflow/compiler/xla/stream_executor/cuda/cuda_gpu_executor.cc:981] successful NUMA node read from SysFS had negative value (-1), but there must be at least one NUMA node, so returning NUMA node zero\n",
      "2023-01-24 01:01:23.753625: I tensorflow/compiler/xla/stream_executor/cuda/cuda_gpu_executor.cc:981] successful NUMA node read from SysFS had negative value (-1), but there must be at least one NUMA node, so returning NUMA node zero\n",
      "2023-01-24 01:01:24.090482: I tensorflow/compiler/xla/stream_executor/cuda/cuda_gpu_executor.cc:981] successful NUMA node read from SysFS had negative value (-1), but there must be at least one NUMA node, so returning NUMA node zero\n",
      "2023-01-24 01:01:24.090681: I tensorflow/compiler/xla/stream_executor/cuda/cuda_gpu_executor.cc:981] successful NUMA node read from SysFS had negative value (-1), but there must be at least one NUMA node, so returning NUMA node zero\n",
      "2023-01-24 01:01:24.090764: I tensorflow/compiler/xla/stream_executor/cuda/cuda_gpu_executor.cc:981] successful NUMA node read from SysFS had negative value (-1), but there must be at least one NUMA node, so returning NUMA node zero\n",
      "2023-01-24 01:01:24.090839: I tensorflow/core/common_runtime/gpu/gpu_device.cc:1613] Created device /job:localhost/replica:0/task:0/device:GPU:0 with 500 MB memory:  -> device: 0, name: NVIDIA GeForce RTX 3050 Laptop GPU, pci bus id: 0000:01:00.0, compute capability: 8.6\n"
     ]
    },
    {
     "name": "stdout",
     "output_type": "stream",
     "text": [
      "Model: \"cvae\"\n",
      "__________________________________________________________________________________________________\n",
      " Layer (type)                   Output Shape         Param #     Connected to                     \n",
      "==================================================================================================\n",
      " input_da_group (InputLayer)    [(None, 4)]          0           []                               \n",
      "                                                                                                  \n",
      " tf.cast (TFOpLambda)           (None, 4)            0           ['input_da_group[0][0]']         \n",
      "                                                                                                  \n",
      " tf.expand_dims (TFOpLambda)    (None, 1, 4)         0           ['tf.cast[0][0]']                \n",
      "                                                                                                  \n",
      " categorical_predictor (InputLa  [(None, 10, 0)]     0           []                               \n",
      " yer)                                                                                             \n",
      "                                                                                                  \n",
      " tf.tile (TFOpLambda)           (None, 10, 4)        0           ['tf.expand_dims[0][0]']         \n",
      "                                                                                                  \n",
      " node_features (InputLayer)     [(None, 10, 36)]     0           []                               \n",
      "                                                                                                  \n",
      " tf.concat (TFOpLambda)         (None, 10, 4)        0           ['categorical_predictor[0][0]',  \n",
      "                                                                  'tf.tile[0][0]']                \n",
      "                                                                                                  \n",
      " encoder (Encoder)              ((None, 10),         7828        ['node_features[0][0]',          \n",
      "                                 (None, 10),                      'tf.concat[0][0]']              \n",
      "                                 (None, 10))                                                      \n",
      "                                                                                                  \n",
      " decoder (Decoder)              (None, 10, 128)      1920        ['encoder[0][0]',                \n",
      "                                                                  'tf.concat[0][0]']              \n",
      "                                                                                                  \n",
      " node_size_reconstruct (InputLa  [(None, 10, 1)]     0           []                               \n",
      " yer)                                                                                             \n",
      "                                                                                                  \n",
      " GaussianOutput_decoder (Gaussi  [(None, 10, 36),    4680        ['decoder[0][0]',                \n",
      " anOutput)                       (None, 10, 36)]                  'node_size_reconstruct[0][0]']  \n",
      "                                                                                                  \n",
      " reconstruction (Concatenate)   (None, 10, 72)       0           ['GaussianOutput_decoder[0][0]', \n",
      "                                                                  'GaussianOutput_decoder[0][1]'] \n",
      "                                                                                                  \n",
      " bottleneck (Concatenate)       (None, 30)           0           ['encoder[0][0]',                \n",
      "                                                                  'encoder[0][1]',                \n",
      "                                                                  'encoder[0][2]']                \n",
      "                                                                                                  \n",
      " tf.math.subtract (TFOpLambda)  (None, 10)           0           ['encoder[0][0]',                \n",
      "                                                                  'encoder[0][1]']                \n",
      "                                                                                                  \n",
      " tf.math.negative (TFOpLambda)  (None, 10)           0           ['encoder[0][2]']                \n",
      "                                                                                                  \n",
      " tf.math.subtract_2 (TFOpLambda  (None, 10, 36)      0           ['GaussianOutput_decoder[0][0]', \n",
      " )                                                                'node_features[0][0]']          \n",
      "                                                                                                  \n",
      " tf.math.square (TFOpLambda)    (None, 10)           0           ['tf.math.subtract[0][0]']       \n",
      "                                                                                                  \n",
      " tf.math.exp (TFOpLambda)       (None, 10)           0           ['tf.math.negative[0][0]']       \n",
      "                                                                                                  \n",
      " tf.math.square_2 (TFOpLambda)  (None, 10, 36)       0           ['tf.math.subtract_2[0][0]']     \n",
      "                                                                                                  \n",
      " tf.math.multiply (TFOpLambda)  (None, 10)           0           ['tf.math.square[0][0]',         \n",
      "                                                                  'tf.math.exp[0][0]']            \n",
      "                                                                                                  \n",
      " tf.math.multiply_3 (TFOpLambda  (None, 10, 36)      0           ['GaussianOutput_decoder[0][1]'] \n",
      " )                                                                                                \n",
      "                                                                                                  \n",
      " tf.math.multiply_4 (TFOpLambda  (None, 10, 36)      0           ['tf.math.square_2[0][0]']       \n",
      " )                                                                                                \n",
      "                                                                                                  \n",
      " tf.math.square_3 (TFOpLambda)  (None, 10, 36)       0           ['GaussianOutput_decoder[0][1]'] \n",
      "                                                                                                  \n",
      " tf.__operators__.add (TFOpLamb  (None, 10)          0           ['tf.math.multiply[0][0]',       \n",
      " da)                                                              'encoder[0][2]']                \n",
      "                                                                                                  \n",
      " tf.math.square_1 (TFOpLambda)  (None, 10)           0           ['encoder[0][0]']                \n",
      "                                                                                                  \n",
      " tf.math.log (TFOpLambda)       (None, 10, 36)       0           ['tf.math.multiply_3[0][0]']     \n",
      "                                                                                                  \n",
      " tf.math.truediv (TFOpLambda)   (None, 10, 36)       0           ['tf.math.multiply_4[0][0]',     \n",
      "                                                                  'tf.math.square_3[0][0]']       \n",
      "                                                                                                  \n",
      " tf.__operators__.add_1 (TFOpLa  (None, 10)          0           ['tf.__operators__.add[0][0]']   \n",
      " mbda)                                                                                            \n",
      "                                                                                                  \n",
      " tf.__operators__.add_2 (TFOpLa  (None, 10)          0           ['tf.math.square_1[0][0]']       \n",
      " mbda)                                                                                            \n",
      "                                                                                                  \n",
      " tf.__operators__.add_3 (TFOpLa  (None, 10, 36)      0           ['tf.math.log[0][0]',            \n",
      " mbda)                                                            'tf.math.truediv[0][0]']        \n",
      "                                                                                                  \n",
      " tf.math.reduce_mean (TFOpLambd  ()                  0           ['tf.__operators__.add_1[0][0]'] \n",
      " a)                                                                                               \n",
      "                                                                                                  \n",
      " tf.math.reduce_mean_1 (TFOpLam  ()                  0           ['tf.__operators__.add_2[0][0]'] \n",
      " bda)                                                                                             \n",
      "                                                                                                  \n",
      " tf.math.reduce_sum (TFOpLambda  (None, 10)          0           ['tf.__operators__.add_3[0][0]'] \n",
      " )                                                                                                \n",
      "                                                                                                  \n",
      " tf.math.multiply_1 (TFOpLambda  ()                  0           ['tf.math.reduce_mean[0][0]']    \n",
      " )                                                                                                \n",
      "                                                                                                  \n",
      " tf.math.multiply_2 (TFOpLambda  ()                  0           ['tf.math.reduce_mean_1[0][0]']  \n",
      " )                                                                                                \n",
      "                                                                                                  \n",
      " tf.math.reduce_mean_2 (TFOpLam  ()                  0           ['tf.math.reduce_sum[0][0]']     \n",
      " bda)                                                                                             \n",
      "                                                                                                  \n",
      " tf.math.subtract_1 (TFOpLambda  ()                  0           ['tf.math.multiply_1[0][0]',     \n",
      " )                                                                'tf.math.multiply_2[0][0]']     \n",
      "                                                                                                  \n",
      " tf.__operators__.add_4 (TFOpLa  ()                  0           ['tf.math.reduce_mean_2[0][0]',  \n",
      " mbda)                                                            'tf.math.subtract_1[0][0]']     \n",
      "                                                                                                  \n",
      " add_metric (AddMetric)         ()                   0           ['tf.__operators__.add_4[0][0]'] \n",
      "                                                                                                  \n",
      "==================================================================================================\n",
      "Total params: 14,428\n",
      "Trainable params: 14,428\n",
      "Non-trainable params: 0\n",
      "__________________________________________________________________________________________________\n"
     ]
    }
   ],
   "source": [
    "trainer.estimator.init_model(\n",
    "    optimizer=optimizer,\n",
    "    learning_rate=learning_rate,\n",
    "    n_eval_nodes_per_graph=n_eval_nodes,\n",
    "\n",
    "    l1_coef=l1,\n",
    "    l2_coef=l2,\n",
    "    use_domain=use_domain,\n",
    "    use_batch_norm=False,\n",
    "    scale_node_size=scale_node_size,\n",
    "    output_layer=output_layer,\n",
    "\n",
    "    latent_dim=10,\n",
    "    dropout_rate=0.1,\n",
    "    intermediate_dim_enc=128,\n",
    "    intermediate_dim_dec=128,\n",
    "    depth_enc=1,\n",
    "    depth_dec=1,\n",
    ")\n",
    "trainer.estimator.model.training_model.summary()"
   ]
  },
  {
   "cell_type": "code",
   "execution_count": 9,
   "metadata": {},
   "outputs": [
    {
     "name": "stdout",
     "output_type": "stream",
     "text": [
      "Epoch 1/10\n",
      "WARNING:tensorflow:From /home/ifichtner/mambaforge/envs/squidpyTF/lib/python3.8/site-packages/tensorflow/python/autograph/pyct/static_analysis/liveness.py:83: Analyzer.lamba_check (from tensorflow.python.autograph.pyct.static_analysis.liveness) is deprecated and will be removed after 2023-09-23.\n",
      "Instructions for updating:\n",
      "Lambda fuctions will be no more assumed to be used in the statement where they are used, or at least in the same block. https://github.com/tensorflow/tensorflow/issues/56089\n"
     ]
    },
    {
     "name": "stderr",
     "output_type": "stream",
     "text": [
      "WARNING:tensorflow:From /home/ifichtner/mambaforge/envs/squidpyTF/lib/python3.8/site-packages/tensorflow/python/autograph/pyct/static_analysis/liveness.py:83: Analyzer.lamba_check (from tensorflow.python.autograph.pyct.static_analysis.liveness) is deprecated and will be removed after 2023-09-23.\n",
      "Instructions for updating:\n",
      "Lambda fuctions will be no more assumed to be used in the statement where they are used, or at least in the same block. https://github.com/tensorflow/tensorflow/issues/56089\n",
      "2023-01-24 01:01:26.493192: I tensorflow/compiler/xla/stream_executor/cuda/cuda_blas.cc:630] TensorFloat-32 will be used for the matrix multiplication. This will only be logged once.\n",
      "2023-01-24 01:01:26.497497: I tensorflow/compiler/xla/service/service.cc:173] XLA service 0x561477ab8260 initialized for platform CUDA (this does not guarantee that XLA will be used). Devices:\n",
      "2023-01-24 01:01:26.497516: I tensorflow/compiler/xla/service/service.cc:181]   StreamExecutor device (0): NVIDIA GeForce RTX 3050 Laptop GPU, Compute Capability 8.6\n",
      "2023-01-24 01:01:26.502156: I tensorflow/compiler/mlir/tensorflow/utils/dump_mlir_util.cc:268] disabling MLIR crash reproducer, set env var `MLIR_CRASH_REPRODUCER_DIRECTORY` to enable.\n",
      "2023-01-24 01:01:26.600346: I tensorflow/compiler/jit/xla_compilation_cache.cc:477] Compiled cluster using XLA!  This line is logged at most once for the lifetime of the process.\n"
     ]
    },
    {
     "name": "stdout",
     "output_type": "stream",
     "text": [
      "1/1 - 3s - loss: 41.4637 - reconstruction_loss: 41.4549 - bottleneck_loss: 0.0088 - reconstruction_custom_mae: 0.5458 - reconstruction_custom_mean_sd: 1.0000 - reconstruction_custom_mse: 0.4652 - reconstruction_custom_mse_scaled: 0.4652 - reconstruction_gaussian_reconstruction_loss: 41.4549 - reconstruction_r_squared: -4.6231e+00 - reconstruction_r_squared_linreg: 8.6166e-04 - bottleneck_custom_kl: 0.8810 - elbo: 41.5430 - val_loss: 77.2826 - val_reconstruction_loss: 76.8920 - val_bottleneck_loss: 0.3906 - val_reconstruction_custom_mae: 1.3017 - val_reconstruction_custom_mean_sd: 0.9568 - val_reconstruction_custom_mse: 2.3189 - val_reconstruction_custom_mse_scaled: 2.5228 - val_reconstruction_gaussian_reconstruction_loss: 76.8920 - val_reconstruction_r_squared: -2.8670e+01 - val_reconstruction_r_squared_linreg: 0.1542 - val_bottleneck_custom_kl: 39.0605 - val_elbo: 80.7981 - lr: 0.0500 - 3s/epoch - 3s/step\n",
      "Epoch 2/10\n",
      "1/1 - 0s - loss: 81.0108 - reconstruction_loss: 80.5984 - bottleneck_loss: 0.4124 - reconstruction_custom_mae: 1.3516 - reconstruction_custom_mean_sd: 0.9568 - reconstruction_custom_mse: 2.5079 - reconstruction_custom_mse_scaled: 2.7287 - reconstruction_gaussian_reconstruction_loss: 80.5984 - reconstruction_r_squared: -2.9868e+01 - reconstruction_r_squared_linreg: 0.1384 - bottleneck_custom_kl: 41.2419 - elbo: 84.7225 - val_loss: 83.2105 - val_reconstruction_loss: 82.5974 - val_bottleneck_loss: 0.6132 - val_reconstruction_custom_mae: 1.4176 - val_reconstruction_custom_mean_sd: 0.9582 - val_reconstruction_custom_mse: 2.6222 - val_reconstruction_custom_mse_scaled: 2.8385 - val_reconstruction_gaussian_reconstruction_loss: 82.5974 - val_reconstruction_r_squared: -3.1745e+01 - val_reconstruction_r_squared_linreg: 0.1836 - val_bottleneck_custom_kl: 61.3168 - val_elbo: 88.7290 - lr: 0.0500 - 56ms/epoch - 56ms/step\n",
      "Epoch 3/10\n",
      "1/1 - 0s - loss: 84.8730 - reconstruction_loss: 84.2252 - bottleneck_loss: 0.6478 - reconstruction_custom_mae: 1.4219 - reconstruction_custom_mean_sd: 0.9582 - reconstruction_custom_mse: 2.7024 - reconstruction_custom_mse_scaled: 2.9289 - reconstruction_gaussian_reconstruction_loss: 84.2252 - reconstruction_r_squared: -3.1912e+01 - reconstruction_r_squared_linreg: 0.1671 - bottleneck_custom_kl: 64.7761 - elbo: 90.7028 - val_loss: 83.8969 - val_reconstruction_loss: 82.2053 - val_bottleneck_loss: 1.6916 - val_reconstruction_custom_mae: 1.4016 - val_reconstruction_custom_mean_sd: 0.9761 - val_reconstruction_custom_mse: 2.7035 - val_reconstruction_custom_mse_scaled: 2.7818 - val_reconstruction_gaussian_reconstruction_loss: 82.2053 - val_reconstruction_r_squared: -3.3437e+01 - val_reconstruction_r_squared_linreg: 0.0093 - val_bottleneck_custom_kl: 169.1619 - val_elbo: 99.1215 - lr: 0.0500 - 54ms/epoch - 54ms/step\n",
      "Epoch 4/10\n",
      "1/1 - 0s - loss: 85.9641 - reconstruction_loss: 84.0214 - bottleneck_loss: 1.9427 - reconstruction_custom_mae: 1.4136 - reconstruction_custom_mean_sd: 0.9761 - reconstruction_custom_mse: 2.7931 - reconstruction_custom_mse_scaled: 2.8827 - reconstruction_gaussian_reconstruction_loss: 84.0214 - reconstruction_r_squared: -3.2785e+01 - reconstruction_r_squared_linreg: 0.0069 - bottleneck_custom_kl: 194.2703 - elbo: 103.4485 - val_loss: 95.3468 - val_reconstruction_loss: 59.9304 - val_bottleneck_loss: 35.4164 - val_reconstruction_custom_mae: 0.9619 - val_reconstruction_custom_mean_sd: 1.0018 - val_reconstruction_custom_mse: 1.4476 - val_reconstruction_custom_mse_scaled: 1.4941 - val_reconstruction_gaussian_reconstruction_loss: 59.9304 - val_reconstruction_r_squared: -1.7335e+01 - val_reconstruction_r_squared_linreg: 2.2466e-04 - val_bottleneck_custom_kl: 3541.6438 - val_elbo: 414.0947 - lr: 0.0500 - 53ms/epoch - 53ms/step\n",
      "Epoch 5/10\n",
      "1/1 - 0s - loss: 104.5105 - reconstruction_loss: 63.5103 - bottleneck_loss: 41.0003 - reconstruction_custom_mae: 1.0177 - reconstruction_custom_mean_sd: 1.0018 - reconstruction_custom_mse: 1.6383 - reconstruction_custom_mse_scaled: 1.6930 - reconstruction_gaussian_reconstruction_loss: 63.5103 - reconstruction_r_squared: -1.9135e+01 - reconstruction_r_squared_linreg: 1.9793e-05 - bottleneck_custom_kl: 4100.0249 - elbo: 473.5128 - val_loss: 96.9168 - val_reconstruction_loss: 95.3763 - val_bottleneck_loss: 1.5405 - val_reconstruction_custom_mae: 1.6588 - val_reconstruction_custom_mean_sd: 1.0298 - val_reconstruction_custom_mse: 3.5788 - val_reconstruction_custom_mse_scaled: 3.4093 - val_reconstruction_gaussian_reconstruction_loss: 95.3763 - val_reconstruction_r_squared: -4.4394e+01 - val_reconstruction_r_squared_linreg: 0.0763 - val_bottleneck_custom_kl: 154.0495 - val_elbo: 110.7813 - lr: 0.0500 - 52ms/epoch - 52ms/step\n",
      "Epoch 6/10\n",
      "1/1 - 0s - loss: 100.8118 - reconstruction_loss: 99.2616 - bottleneck_loss: 1.5502 - reconstruction_custom_mae: 1.6845 - reconstruction_custom_mean_sd: 1.0298 - reconstruction_custom_mse: 3.8005 - reconstruction_custom_mse_scaled: 3.6252 - reconstruction_gaussian_reconstruction_loss: 99.2616 - reconstruction_r_squared: -4.4812e+01 - reconstruction_r_squared_linreg: 0.0585 - bottleneck_custom_kl: 155.0217 - elbo: 114.7638 - val_loss: 69.4700 - val_reconstruction_loss: 68.2960 - val_bottleneck_loss: 1.1740 - val_reconstruction_custom_mae: 1.0967 - val_reconstruction_custom_mean_sd: 1.0636 - val_reconstruction_custom_mse: 1.9681 - val_reconstruction_custom_mse_scaled: 1.8409 - val_reconstruction_gaussian_reconstruction_loss: 68.2960 - val_reconstruction_r_squared: -2.3806e+01 - val_reconstruction_r_squared_linreg: 0.0075 - val_bottleneck_custom_kl: 117.4037 - val_elbo: 80.0363 - lr: 0.0500 - 53ms/epoch - 53ms/step\n",
      "Epoch 7/10\n",
      "1/1 - 0s - loss: 72.0651 - reconstruction_loss: 70.7296 - bottleneck_loss: 1.3355 - reconstruction_custom_mae: 1.1424 - reconstruction_custom_mean_sd: 1.0636 - reconstruction_custom_mse: 2.1205 - reconstruction_custom_mse_scaled: 1.9761 - reconstruction_gaussian_reconstruction_loss: 70.7296 - reconstruction_r_squared: -2.4700e+01 - reconstruction_r_squared_linreg: 0.0062 - bottleneck_custom_kl: 133.5504 - elbo: 84.0846 - val_loss: 58.4469 - val_reconstruction_loss: 55.5754 - val_bottleneck_loss: 2.8714 - val_reconstruction_custom_mae: 0.8770 - val_reconstruction_custom_mean_sd: 1.0971 - val_reconstruction_custom_mse: 1.2089 - val_reconstruction_custom_mse_scaled: 1.0727 - val_reconstruction_gaussian_reconstruction_loss: 55.5754 - val_reconstruction_r_squared: -1.4235e+01 - val_reconstruction_r_squared_linreg: 0.0100 - val_bottleneck_custom_kl: 287.1435 - val_elbo: 84.2898 - lr: 0.0500 - 55ms/epoch - 55ms/step\n",
      "Epoch 8/10\n",
      "1/1 - 0s - loss: 60.8125 - reconstruction_loss: 57.7569 - bottleneck_loss: 3.0556 - reconstruction_custom_mae: 0.9313 - reconstruction_custom_mean_sd: 1.0971 - reconstruction_custom_mse: 1.3574 - reconstruction_custom_mse_scaled: 1.1939 - reconstruction_gaussian_reconstruction_loss: 57.7569 - reconstruction_r_squared: -1.5479e+01 - reconstruction_r_squared_linreg: 0.0077 - bottleneck_custom_kl: 305.5559 - elbo: 88.3125 - val_loss: 56.2464 - val_reconstruction_loss: 53.9252 - val_bottleneck_loss: 2.3211 - val_reconstruction_custom_mae: 0.8421 - val_reconstruction_custom_mean_sd: 1.1279 - val_reconstruction_custom_mse: 1.1188 - val_reconstruction_custom_mse_scaled: 0.9257 - val_reconstruction_gaussian_reconstruction_loss: 53.9252 - val_reconstruction_r_squared: -1.3078e+01 - val_reconstruction_r_squared_linreg: 0.0239 - val_bottleneck_custom_kl: 232.1140 - val_elbo: 77.1366 - lr: 0.0500 - 54ms/epoch - 54ms/step\n",
      "Epoch 9/10\n",
      "1/1 - 0s - loss: 60.4685 - reconstruction_loss: 57.7783 - bottleneck_loss: 2.6902 - reconstruction_custom_mae: 0.9332 - reconstruction_custom_mean_sd: 1.1279 - reconstruction_custom_mse: 1.3814 - reconstruction_custom_mse_scaled: 1.1398 - reconstruction_gaussian_reconstruction_loss: 57.7783 - reconstruction_r_squared: -1.5831e+01 - reconstruction_r_squared_linreg: 0.0198 - bottleneck_custom_kl: 269.0198 - elbo: 84.6802 - val_loss: 49.6026 - val_reconstruction_loss: 47.5109 - val_bottleneck_loss: 2.0917 - val_reconstruction_custom_mae: 0.6444 - val_reconstruction_custom_mean_sd: 1.1562 - val_reconstruction_custom_mse: 0.6763 - val_reconstruction_custom_mse_scaled: 0.5195 - val_reconstruction_gaussian_reconstruction_loss: 47.5109 - val_reconstruction_r_squared: -7.6274e+00 - val_reconstruction_r_squared_linreg: 0.0392 - val_bottleneck_custom_kl: 209.1707 - val_elbo: 68.4280 - lr: 0.0500 - 58ms/epoch - 58ms/step\n",
      "Epoch 10/10\n",
      "1/1 - 0s - loss: 53.1399 - reconstruction_loss: 50.7345 - bottleneck_loss: 2.4054 - reconstruction_custom_mae: 0.7550 - reconstruction_custom_mean_sd: 1.1562 - reconstruction_custom_mse: 0.9073 - reconstruction_custom_mse_scaled: 0.6986 - reconstruction_gaussian_reconstruction_loss: 50.7345 - reconstruction_r_squared: -9.9748e+00 - reconstruction_r_squared_linreg: 0.0287 - bottleneck_custom_kl: 240.5375 - elbo: 74.7883 - val_loss: 48.8636 - val_reconstruction_loss: 47.6187 - val_bottleneck_loss: 1.2449 - val_reconstruction_custom_mae: 0.5776 - val_reconstruction_custom_mean_sd: 1.1806 - val_reconstruction_custom_mse: 0.5829 - val_reconstruction_custom_mse_scaled: 0.4836 - val_reconstruction_gaussian_reconstruction_loss: 47.6187 - val_reconstruction_r_squared: -6.3965e+00 - val_reconstruction_r_squared_linreg: 0.0387 - val_bottleneck_custom_kl: 124.4865 - val_elbo: 60.0674 - lr: 0.0500 - 54ms/epoch - 54ms/step\n"
     ]
    }
   ],
   "source": [
    "trainer.estimator.train(\n",
    "    epochs=epochs,\n",
    "    epochs_warmup=epochs_warmup, # Integer number of times to iterate over the training data arrays in warm up (without early stopping)\n",
    "    max_steps_per_epoch=max_steps_per_epoch,\n",
    "    batch_size=batch_size,\n",
    "    validation_batch_size=val_bs,\n",
    "    max_validation_steps=max_val_steps_per_epoch,\n",
    "    patience=patience, # Number of epochs with no improvement.\n",
    "    lr_schedule_min_lr=lr_schedule_min_lr,\n",
    "    lr_schedule_factor=lr_schedule_factor,\n",
    "    lr_schedule_patience=lr_schedule_patience,\n",
    "    monitor_partition=\"val\",\n",
    "    monitor_metric=\"loss\",\n",
    "    shuffle_buffer_size=shuffle_buffer_size,\n",
    "    early_stopping=True,\n",
    "    reduce_lr_plateau=True,\n",
    "    decoder_epochs=decoder_epochs,\n",
    "    decoder_patience=decoder_patience\n",
    ")"
   ]
  },
  {
   "cell_type": "code",
   "execution_count": 10,
   "metadata": {},
   "outputs": [],
   "source": [
    "evaluation_test = trainer.estimator.evaluate_any(\n",
    "    img_keys=trainer.estimator.img_keys_test,\n",
    "    node_idx=trainer.estimator.nodes_idx_test\n",
    ")"
   ]
  },
  {
   "cell_type": "code",
   "execution_count": 11,
   "metadata": {},
   "outputs": [
    {
     "name": "stdout",
     "output_type": "stream",
     "text": [
      "Evaluation for CD11c Myeloid with 1199 cells\n",
      "{'loss': 50.795108795166016, 'reconstruction_loss': 49.46112060546875, 'bottleneck_loss': 1.3339920043945312, 'reconstruction_custom_mae': 0.618635356426239, 'reconstruction_custom_mean_sd': 1.1805644035339355, 'reconstruction_custom_mse': 0.6972304582595825, 'reconstruction_custom_mse_scaled': 0.5860023498535156, 'reconstruction_gaussian_reconstruction_loss': 49.46112060546875, 'reconstruction_r_squared': -7.505324840545654, 'reconstruction_r_squared_linreg': 0.006172799970954657, 'bottleneck_custom_kl': 133.39918518066406, 'elbo': 62.801029205322266}\n",
      "Evaluation for CD4 T cells with 14983 cells\n",
      "{'loss': 49.7149658203125, 'reconstruction_loss': 48.35279083251953, 'bottleneck_loss': 1.3621814250946045, 'reconstruction_custom_mae': 0.5964818596839905, 'reconstruction_custom_mean_sd': 1.1805492639541626, 'reconstruction_custom_mse': 0.6357350945472717, 'reconstruction_custom_mse_scaled': 0.5244260430335999, 'reconstruction_gaussian_reconstruction_loss': 48.352787017822266, 'reconstruction_r_squared': -6.953362941741943, 'reconstruction_r_squared_linreg': 0.03704056888818741, 'bottleneck_custom_kl': 136.21803283691406, 'elbo': 61.97453308105469}\n",
      "Evaluation for CD68 Myeloid with 3452 cells\n",
      "{'loss': 50.1083984375, 'reconstruction_loss': 48.7624626159668, 'bottleneck_loss': 1.345956563949585, 'reconstruction_custom_mae': 0.6164556741714478, 'reconstruction_custom_mean_sd': 1.1805646419525146, 'reconstruction_custom_mse': 0.6600537896156311, 'reconstruction_custom_mse_scaled': 0.5471874475479126, 'reconstruction_gaussian_reconstruction_loss': 48.76246643066406, 'reconstruction_r_squared': -7.966485977172852, 'reconstruction_r_squared_linreg': 0.02084394171833992, 'bottleneck_custom_kl': 134.59561157226562, 'elbo': 62.2220458984375}\n",
      "Evaluation for CD8 T cells with 8354 cells\n",
      "{'loss': 49.88810348510742, 'reconstruction_loss': 48.50895690917969, 'bottleneck_loss': 1.37913978099823, 'reconstruction_custom_mae': 0.6043949127197266, 'reconstruction_custom_mean_sd': 1.1805551052093506, 'reconstruction_custom_mse': 0.6456508636474609, 'reconstruction_custom_mse_scaled': 0.5331040024757385, 'reconstruction_gaussian_reconstruction_loss': 48.50891876220703, 'reconstruction_r_squared': -7.5547380447387695, 'reconstruction_r_squared_linreg': 0.03173818439245224, 'bottleneck_custom_kl': 137.91403198242188, 'elbo': 62.30031204223633}\n",
      "Evaluation for Endothelial with 2027 cells\n",
      "{'loss': 49.18681716918945, 'reconstruction_loss': 47.87545394897461, 'bottleneck_loss': 1.3113597631454468, 'reconstruction_custom_mae': 0.5934239625930786, 'reconstruction_custom_mean_sd': 1.1805616617202759, 'reconstruction_custom_mse': 0.5990808010101318, 'reconstruction_custom_mse_scaled': 0.49790990352630615, 'reconstruction_gaussian_reconstruction_loss': 47.875450134277344, 'reconstruction_r_squared': -7.154674053192139, 'reconstruction_r_squared_linreg': 0.03582211956381798, 'bottleneck_custom_kl': 131.13592529296875, 'elbo': 60.98905944824219}\n",
      "Evaluation for Epithelial with 12668 cells\n",
      "{'loss': 48.30804443359375, 'reconstruction_loss': 47.00902557373047, 'bottleneck_loss': 1.299032211303711, 'reconstruction_custom_mae': 0.5576192736625671, 'reconstruction_custom_mean_sd': 1.1805506944656372, 'reconstruction_custom_mse': 0.5444695949554443, 'reconstruction_custom_mse_scaled': 0.44977355003356934, 'reconstruction_gaussian_reconstruction_loss': 47.009033203125, 'reconstruction_r_squared': -5.976987361907959, 'reconstruction_r_squared_linreg': 0.09225925803184509, 'bottleneck_custom_kl': 129.90321350097656, 'elbo': 59.99930953979492}\n",
      "Evaluation for Fibroblast with 3768 cells\n",
      "{'loss': 48.6131477355957, 'reconstruction_loss': 47.417274475097656, 'bottleneck_loss': 1.1958887577056885, 'reconstruction_custom_mae': 0.5758668184280396, 'reconstruction_custom_mean_sd': 1.180565357208252, 'reconstruction_custom_mse': 0.5665685534477234, 'reconstruction_custom_mse_scaled': 0.4724542498588562, 'reconstruction_gaussian_reconstruction_loss': 47.41725540161133, 'reconstruction_r_squared': -6.493439197540283, 'reconstruction_r_squared_linreg': 0.03642991557717323, 'bottleneck_custom_kl': 119.58879852294922, 'elbo': 59.37611389160156}\n",
      "Evaluation for Other immune cells with 17296 cells\n",
      "{'loss': 48.82157897949219, 'reconstruction_loss': 47.5848274230957, 'bottleneck_loss': 1.236793875694275, 'reconstruction_custom_mae': 0.5745813846588135, 'reconstruction_custom_mean_sd': 1.1805483102798462, 'reconstruction_custom_mse': 0.5790178775787354, 'reconstruction_custom_mse_scaled': 0.481761634349823, 'reconstruction_gaussian_reconstruction_loss': 47.58478546142578, 'reconstruction_r_squared': -7.123513221740723, 'reconstruction_r_squared_linreg': 0.035371117293834686, 'bottleneck_custom_kl': 123.67926025390625, 'elbo': 59.95274353027344}\n"
     ]
    }
   ],
   "source": [
    "split_per_node_type, evaluation_per_node_type = trainer.estimator.evaluate_per_node_type()"
   ]
  },
  {
   "cell_type": "code",
   "execution_count": 12,
   "metadata": {},
   "outputs": [
    {
     "data": {
      "text/plain": [
       "{'loss': 48.6131477355957,\n",
       " 'reconstruction_loss': 47.417274475097656,\n",
       " 'bottleneck_loss': 1.1958887577056885,\n",
       " 'reconstruction_custom_mae': 0.5758668184280396,\n",
       " 'reconstruction_custom_mean_sd': 1.180565357208252,\n",
       " 'reconstruction_custom_mse': 0.5665685534477234,\n",
       " 'reconstruction_custom_mse_scaled': 0.4724542498588562,\n",
       " 'reconstruction_gaussian_reconstruction_loss': 47.41725540161133,\n",
       " 'reconstruction_r_squared': -6.493439197540283,\n",
       " 'reconstruction_r_squared_linreg': 0.03642991557717323,\n",
       " 'bottleneck_custom_kl': 119.58879852294922,\n",
       " 'elbo': 59.37611389160156}"
      ]
     },
     "execution_count": 12,
     "metadata": {},
     "output_type": "execute_result"
    }
   ],
   "source": [
    "evaluation_per_node_type['Fibroblast']"
   ]
  }
 ],
 "metadata": {
  "kernelspec": {
   "display_name": "squidpyTF",
   "language": "python",
   "name": "python3"
  },
  "language_info": {
   "codemirror_mode": {
    "name": "ipython",
    "version": 3
   },
   "file_extension": ".py",
   "mimetype": "text/x-python",
   "name": "python",
   "nbconvert_exporter": "python",
   "pygments_lexer": "ipython3",
   "version": "3.8.15 | packaged by conda-forge | (default, Nov 22 2022, 08:49:35) \n[GCC 10.4.0]"
  },
  "orig_nbformat": 4,
  "vscode": {
   "interpreter": {
    "hash": "97543237a6bcd86b2473d592fc25336dd1965b4a1315473dfbc595ecc291a458"
   }
  }
 },
 "nbformat": 4,
 "nbformat_minor": 2
}
