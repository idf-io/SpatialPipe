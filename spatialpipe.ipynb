{
  "nbformat": 4,
  "nbformat_minor": 0,
  "metadata": {
    "colab": {
      "provenance": [],
      "authorship_tag": "ABX9TyOMsXl4e9n2FhjDjGoCxb7V",
      "include_colab_link": true
    },
    "kernelspec": {
      "name": "python3",
      "display_name": "Python 3"
    },
    "language_info": {
      "name": "python"
    }
  },
  "cells": [
    {
      "cell_type": "markdown",
      "metadata": {
        "id": "view-in-github",
        "colab_type": "text"
      },
      "source": [
        "<a href=\"https://colab.research.google.com/github/idf-io/SpatialPipe/blob/main/SpatialPipe.ipynb\" target=\"_parent\"><img src=\"https://colab.research.google.com/assets/colab-badge.svg\" alt=\"Open In Colab\"/></a>"
      ]
    },
    {
      "cell_type": "markdown",
      "source": [
        "#  SpatialPipe: Systematic standardization and framework integration of public spatial-omics datasets\n",
        "\n",
        "> Preprocessing pipeline implementation of some public spatial omics datasets which will be used for a shared project we have in collaboration with Omer Bayraktar group from Sanger institute at UK. There is of course some flexibility in defining the actual project, but the bottom-line is, the project is gonna be about low-level analysis of spatial omics data"
      ],
      "metadata": {
        "id": "s_8Kji0AuaJG"
      }
    },
    {
      "cell_type": "code",
      "execution_count": 1,
      "metadata": {
        "id": "shBah4YPtf5I"
      },
      "outputs": [],
      "source": [
        "import numpy as np\n",
        "from matplotlib import pyplot as plt"
      ]
    }
  ]
}