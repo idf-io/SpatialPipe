{
 "cells": [
  {
   "cell_type": "code",
   "execution_count": 2,
   "id": "ce6b7f21",
   "metadata": {},
   "outputs": [],
   "source": [
    "import squidpy as sq\n",
    "\n",
    "import numpy as np\n",
    "\n",
    "import matplotlib.pyplot as plt"
   ]
  },
  {
   "cell_type": "markdown",
   "id": "fd34aecd",
   "metadata": {},
   "source": [
    "# Read in VISIUM dataset"
   ]
  },
  {
   "cell_type": "code",
   "execution_count": 6,
   "id": "7378b8c5",
   "metadata": {
    "scrolled": true
   },
   "outputs": [
    {
     "data": {
      "application/vnd.jupyter.widget-view+json": {
       "model_id": "af3ab14cc3114fddab6cf92d58650a3f",
       "version_major": 2,
       "version_minor": 0
      },
      "text/plain": [
       "  0%|          | 0.00/242M [00:00<?, ?B/s]"
      ]
     },
     "metadata": {},
     "output_type": "display_data"
    },
    {
     "data": {
      "text/plain": [
       "AnnData object with n_obs × n_vars = 2800 × 16562\n",
       "    obs: 'in_tissue', 'array_row', 'array_col', 'n_genes_by_counts', 'log1p_n_genes_by_counts', 'total_counts', 'log1p_total_counts', 'pct_counts_in_top_50_genes', 'pct_counts_in_top_100_genes', 'pct_counts_in_top_200_genes', 'pct_counts_in_top_500_genes', 'total_counts_MT', 'log1p_total_counts_MT', 'pct_counts_MT', 'n_counts', 'leiden', 'cluster'\n",
       "    var: 'gene_ids', 'feature_types', 'genome', 'MT', 'n_cells_by_counts', 'mean_counts', 'log1p_mean_counts', 'pct_dropout_by_counts', 'total_counts', 'log1p_total_counts', 'n_cells', 'highly_variable', 'highly_variable_rank', 'means', 'variances', 'variances_norm'\n",
       "    uns: 'cluster_colors', 'hvg', 'leiden', 'leiden_colors', 'neighbors', 'pca', 'spatial', 'umap'\n",
       "    obsm: 'X_pca', 'X_umap', 'spatial'\n",
       "    varm: 'PCs'\n",
       "    obsp: 'connectivities', 'distances'"
      ]
     },
     "execution_count": 6,
     "metadata": {},
     "output_type": "execute_result"
    }
   ],
   "source": [
    "adata = sq.datasets.visium_fluo_adata()\n",
    "adata"
   ]
  },
  {
   "cell_type": "markdown",
   "id": "aed6a2cf",
   "metadata": {},
   "source": [
    "> IDF: Some visualization and data exploration"
   ]
  },
  {
   "cell_type": "code",
   "execution_count": 13,
   "id": "0e307a7e",
   "metadata": {
    "scrolled": true
   },
   "outputs": [
    {
     "data": {
      "text/html": [
       "<div>\n",
       "<style scoped>\n",
       "    .dataframe tbody tr th:only-of-type {\n",
       "        vertical-align: middle;\n",
       "    }\n",
       "\n",
       "    .dataframe tbody tr th {\n",
       "        vertical-align: top;\n",
       "    }\n",
       "\n",
       "    .dataframe thead th {\n",
       "        text-align: right;\n",
       "    }\n",
       "</style>\n",
       "<table border=\"1\" class=\"dataframe\">\n",
       "  <thead>\n",
       "    <tr style=\"text-align: right;\">\n",
       "      <th></th>\n",
       "      <th>in_tissue</th>\n",
       "      <th>array_row</th>\n",
       "      <th>array_col</th>\n",
       "      <th>n_genes_by_counts</th>\n",
       "      <th>log1p_n_genes_by_counts</th>\n",
       "      <th>total_counts</th>\n",
       "      <th>log1p_total_counts</th>\n",
       "      <th>pct_counts_in_top_50_genes</th>\n",
       "      <th>pct_counts_in_top_100_genes</th>\n",
       "      <th>pct_counts_in_top_200_genes</th>\n",
       "      <th>pct_counts_in_top_500_genes</th>\n",
       "      <th>total_counts_MT</th>\n",
       "      <th>log1p_total_counts_MT</th>\n",
       "      <th>pct_counts_MT</th>\n",
       "      <th>n_counts</th>\n",
       "      <th>leiden</th>\n",
       "      <th>cluster</th>\n",
       "    </tr>\n",
       "  </thead>\n",
       "  <tbody>\n",
       "    <tr>\n",
       "      <th>TGTACGCTATCAGCTT-1</th>\n",
       "      <td>1</td>\n",
       "      <td>0</td>\n",
       "      <td>84</td>\n",
       "      <td>2982</td>\n",
       "      <td>8.000685</td>\n",
       "      <td>5747.0</td>\n",
       "      <td>8.656608</td>\n",
       "      <td>16.913172</td>\n",
       "      <td>22.829302</td>\n",
       "      <td>31.164086</td>\n",
       "      <td>47.068035</td>\n",
       "      <td>0.0</td>\n",
       "      <td>0.0</td>\n",
       "      <td>0.0</td>\n",
       "      <td>5747.0</td>\n",
       "      <td>0</td>\n",
       "      <td>Cortex_1</td>\n",
       "    </tr>\n",
       "    <tr>\n",
       "      <th>TGTGATTCCAGCGCTT-1</th>\n",
       "      <td>1</td>\n",
       "      <td>0</td>\n",
       "      <td>86</td>\n",
       "      <td>3557</td>\n",
       "      <td>8.176954</td>\n",
       "      <td>7829.0</td>\n",
       "      <td>8.965717</td>\n",
       "      <td>18.878529</td>\n",
       "      <td>24.996807</td>\n",
       "      <td>33.299272</td>\n",
       "      <td>48.371440</td>\n",
       "      <td>0.0</td>\n",
       "      <td>0.0</td>\n",
       "      <td>0.0</td>\n",
       "      <td>7829.0</td>\n",
       "      <td>0</td>\n",
       "      <td>Cortex_1</td>\n",
       "    </tr>\n",
       "    <tr>\n",
       "      <th>GCCCATGGGTGCAATG-1</th>\n",
       "      <td>1</td>\n",
       "      <td>0</td>\n",
       "      <td>88</td>\n",
       "      <td>4373</td>\n",
       "      <td>8.383433</td>\n",
       "      <td>11185.0</td>\n",
       "      <td>9.322418</td>\n",
       "      <td>19.400983</td>\n",
       "      <td>24.953062</td>\n",
       "      <td>33.240948</td>\n",
       "      <td>47.358069</td>\n",
       "      <td>0.0</td>\n",
       "      <td>0.0</td>\n",
       "      <td>0.0</td>\n",
       "      <td>11185.0</td>\n",
       "      <td>0</td>\n",
       "      <td>Cortex_1</td>\n",
       "    </tr>\n",
       "    <tr>\n",
       "      <th>AGCGGTTGAGATGTAC-1</th>\n",
       "      <td>1</td>\n",
       "      <td>0</td>\n",
       "      <td>90</td>\n",
       "      <td>4069</td>\n",
       "      <td>8.311398</td>\n",
       "      <td>9955.0</td>\n",
       "      <td>9.205931</td>\n",
       "      <td>19.819186</td>\n",
       "      <td>25.725766</td>\n",
       "      <td>34.003014</td>\n",
       "      <td>48.347564</td>\n",
       "      <td>0.0</td>\n",
       "      <td>0.0</td>\n",
       "      <td>0.0</td>\n",
       "      <td>9955.0</td>\n",
       "      <td>0</td>\n",
       "      <td>Cortex_1</td>\n",
       "    </tr>\n",
       "    <tr>\n",
       "      <th>AAAGACATGAAGTTTA-1</th>\n",
       "      <td>1</td>\n",
       "      <td>0</td>\n",
       "      <td>92</td>\n",
       "      <td>4430</td>\n",
       "      <td>8.396381</td>\n",
       "      <td>11114.0</td>\n",
       "      <td>9.316051</td>\n",
       "      <td>21.873313</td>\n",
       "      <td>27.586827</td>\n",
       "      <td>35.306820</td>\n",
       "      <td>48.596365</td>\n",
       "      <td>0.0</td>\n",
       "      <td>0.0</td>\n",
       "      <td>0.0</td>\n",
       "      <td>11114.0</td>\n",
       "      <td>0</td>\n",
       "      <td>Cortex_1</td>\n",
       "    </tr>\n",
       "    <tr>\n",
       "      <th>...</th>\n",
       "      <td>...</td>\n",
       "      <td>...</td>\n",
       "      <td>...</td>\n",
       "      <td>...</td>\n",
       "      <td>...</td>\n",
       "      <td>...</td>\n",
       "      <td>...</td>\n",
       "      <td>...</td>\n",
       "      <td>...</td>\n",
       "      <td>...</td>\n",
       "      <td>...</td>\n",
       "      <td>...</td>\n",
       "      <td>...</td>\n",
       "      <td>...</td>\n",
       "      <td>...</td>\n",
       "      <td>...</td>\n",
       "      <td>...</td>\n",
       "    </tr>\n",
       "    <tr>\n",
       "      <th>CTTTATCCGACGCATG-1</th>\n",
       "      <td>1</td>\n",
       "      <td>77</td>\n",
       "      <td>59</td>\n",
       "      <td>5198</td>\n",
       "      <td>8.556222</td>\n",
       "      <td>13913.0</td>\n",
       "      <td>9.540650</td>\n",
       "      <td>18.651621</td>\n",
       "      <td>23.862575</td>\n",
       "      <td>31.006972</td>\n",
       "      <td>44.289513</td>\n",
       "      <td>0.0</td>\n",
       "      <td>0.0</td>\n",
       "      <td>0.0</td>\n",
       "      <td>13913.0</td>\n",
       "      <td>8</td>\n",
       "      <td>Cortex_5</td>\n",
       "    </tr>\n",
       "    <tr>\n",
       "      <th>TTCGTGCATGTTATAG-1</th>\n",
       "      <td>1</td>\n",
       "      <td>77</td>\n",
       "      <td>61</td>\n",
       "      <td>5123</td>\n",
       "      <td>8.541691</td>\n",
       "      <td>13271.0</td>\n",
       "      <td>9.493412</td>\n",
       "      <td>20.661593</td>\n",
       "      <td>25.732801</td>\n",
       "      <td>32.717956</td>\n",
       "      <td>45.738829</td>\n",
       "      <td>0.0</td>\n",
       "      <td>0.0</td>\n",
       "      <td>0.0</td>\n",
       "      <td>13271.0</td>\n",
       "      <td>8</td>\n",
       "      <td>Cortex_5</td>\n",
       "    </tr>\n",
       "    <tr>\n",
       "      <th>ATGTCATAATAAACGA-1</th>\n",
       "      <td>1</td>\n",
       "      <td>77</td>\n",
       "      <td>63</td>\n",
       "      <td>5550</td>\n",
       "      <td>8.621733</td>\n",
       "      <td>14797.0</td>\n",
       "      <td>9.602247</td>\n",
       "      <td>17.307562</td>\n",
       "      <td>22.436980</td>\n",
       "      <td>29.316753</td>\n",
       "      <td>42.319389</td>\n",
       "      <td>0.0</td>\n",
       "      <td>0.0</td>\n",
       "      <td>0.0</td>\n",
       "      <td>14797.0</td>\n",
       "      <td>8</td>\n",
       "      <td>Cortex_5</td>\n",
       "    </tr>\n",
       "    <tr>\n",
       "      <th>CTAAAGGATGAGATAC-1</th>\n",
       "      <td>1</td>\n",
       "      <td>77</td>\n",
       "      <td>65</td>\n",
       "      <td>4683</td>\n",
       "      <td>8.451908</td>\n",
       "      <td>11147.0</td>\n",
       "      <td>9.319016</td>\n",
       "      <td>17.933076</td>\n",
       "      <td>23.118328</td>\n",
       "      <td>30.277205</td>\n",
       "      <td>43.697856</td>\n",
       "      <td>0.0</td>\n",
       "      <td>0.0</td>\n",
       "      <td>0.0</td>\n",
       "      <td>11147.0</td>\n",
       "      <td>8</td>\n",
       "      <td>Cortex_5</td>\n",
       "    </tr>\n",
       "    <tr>\n",
       "      <th>GACAGAGGTCTTCAGT-1</th>\n",
       "      <td>1</td>\n",
       "      <td>77</td>\n",
       "      <td>67</td>\n",
       "      <td>4364</td>\n",
       "      <td>8.381373</td>\n",
       "      <td>10314.0</td>\n",
       "      <td>9.241354</td>\n",
       "      <td>25.324801</td>\n",
       "      <td>30.414970</td>\n",
       "      <td>37.318208</td>\n",
       "      <td>49.641264</td>\n",
       "      <td>0.0</td>\n",
       "      <td>0.0</td>\n",
       "      <td>0.0</td>\n",
       "      <td>10314.0</td>\n",
       "      <td>1</td>\n",
       "      <td>Cortex_2</td>\n",
       "    </tr>\n",
       "  </tbody>\n",
       "</table>\n",
       "<p>2800 rows × 17 columns</p>\n",
       "</div>"
      ],
      "text/plain": [
       "                    in_tissue  array_row  array_col  n_genes_by_counts  \\\n",
       "TGTACGCTATCAGCTT-1          1          0         84               2982   \n",
       "TGTGATTCCAGCGCTT-1          1          0         86               3557   \n",
       "GCCCATGGGTGCAATG-1          1          0         88               4373   \n",
       "AGCGGTTGAGATGTAC-1          1          0         90               4069   \n",
       "AAAGACATGAAGTTTA-1          1          0         92               4430   \n",
       "...                       ...        ...        ...                ...   \n",
       "CTTTATCCGACGCATG-1          1         77         59               5198   \n",
       "TTCGTGCATGTTATAG-1          1         77         61               5123   \n",
       "ATGTCATAATAAACGA-1          1         77         63               5550   \n",
       "CTAAAGGATGAGATAC-1          1         77         65               4683   \n",
       "GACAGAGGTCTTCAGT-1          1         77         67               4364   \n",
       "\n",
       "                    log1p_n_genes_by_counts  total_counts  log1p_total_counts  \\\n",
       "TGTACGCTATCAGCTT-1                 8.000685        5747.0            8.656608   \n",
       "TGTGATTCCAGCGCTT-1                 8.176954        7829.0            8.965717   \n",
       "GCCCATGGGTGCAATG-1                 8.383433       11185.0            9.322418   \n",
       "AGCGGTTGAGATGTAC-1                 8.311398        9955.0            9.205931   \n",
       "AAAGACATGAAGTTTA-1                 8.396381       11114.0            9.316051   \n",
       "...                                     ...           ...                 ...   \n",
       "CTTTATCCGACGCATG-1                 8.556222       13913.0            9.540650   \n",
       "TTCGTGCATGTTATAG-1                 8.541691       13271.0            9.493412   \n",
       "ATGTCATAATAAACGA-1                 8.621733       14797.0            9.602247   \n",
       "CTAAAGGATGAGATAC-1                 8.451908       11147.0            9.319016   \n",
       "GACAGAGGTCTTCAGT-1                 8.381373       10314.0            9.241354   \n",
       "\n",
       "                    pct_counts_in_top_50_genes  pct_counts_in_top_100_genes  \\\n",
       "TGTACGCTATCAGCTT-1                   16.913172                    22.829302   \n",
       "TGTGATTCCAGCGCTT-1                   18.878529                    24.996807   \n",
       "GCCCATGGGTGCAATG-1                   19.400983                    24.953062   \n",
       "AGCGGTTGAGATGTAC-1                   19.819186                    25.725766   \n",
       "AAAGACATGAAGTTTA-1                   21.873313                    27.586827   \n",
       "...                                        ...                          ...   \n",
       "CTTTATCCGACGCATG-1                   18.651621                    23.862575   \n",
       "TTCGTGCATGTTATAG-1                   20.661593                    25.732801   \n",
       "ATGTCATAATAAACGA-1                   17.307562                    22.436980   \n",
       "CTAAAGGATGAGATAC-1                   17.933076                    23.118328   \n",
       "GACAGAGGTCTTCAGT-1                   25.324801                    30.414970   \n",
       "\n",
       "                    pct_counts_in_top_200_genes  pct_counts_in_top_500_genes  \\\n",
       "TGTACGCTATCAGCTT-1                    31.164086                    47.068035   \n",
       "TGTGATTCCAGCGCTT-1                    33.299272                    48.371440   \n",
       "GCCCATGGGTGCAATG-1                    33.240948                    47.358069   \n",
       "AGCGGTTGAGATGTAC-1                    34.003014                    48.347564   \n",
       "AAAGACATGAAGTTTA-1                    35.306820                    48.596365   \n",
       "...                                         ...                          ...   \n",
       "CTTTATCCGACGCATG-1                    31.006972                    44.289513   \n",
       "TTCGTGCATGTTATAG-1                    32.717956                    45.738829   \n",
       "ATGTCATAATAAACGA-1                    29.316753                    42.319389   \n",
       "CTAAAGGATGAGATAC-1                    30.277205                    43.697856   \n",
       "GACAGAGGTCTTCAGT-1                    37.318208                    49.641264   \n",
       "\n",
       "                    total_counts_MT  log1p_total_counts_MT  pct_counts_MT  \\\n",
       "TGTACGCTATCAGCTT-1              0.0                    0.0            0.0   \n",
       "TGTGATTCCAGCGCTT-1              0.0                    0.0            0.0   \n",
       "GCCCATGGGTGCAATG-1              0.0                    0.0            0.0   \n",
       "AGCGGTTGAGATGTAC-1              0.0                    0.0            0.0   \n",
       "AAAGACATGAAGTTTA-1              0.0                    0.0            0.0   \n",
       "...                             ...                    ...            ...   \n",
       "CTTTATCCGACGCATG-1              0.0                    0.0            0.0   \n",
       "TTCGTGCATGTTATAG-1              0.0                    0.0            0.0   \n",
       "ATGTCATAATAAACGA-1              0.0                    0.0            0.0   \n",
       "CTAAAGGATGAGATAC-1              0.0                    0.0            0.0   \n",
       "GACAGAGGTCTTCAGT-1              0.0                    0.0            0.0   \n",
       "\n",
       "                    n_counts leiden   cluster  \n",
       "TGTACGCTATCAGCTT-1    5747.0      0  Cortex_1  \n",
       "TGTGATTCCAGCGCTT-1    7829.0      0  Cortex_1  \n",
       "GCCCATGGGTGCAATG-1   11185.0      0  Cortex_1  \n",
       "AGCGGTTGAGATGTAC-1    9955.0      0  Cortex_1  \n",
       "AAAGACATGAAGTTTA-1   11114.0      0  Cortex_1  \n",
       "...                      ...    ...       ...  \n",
       "CTTTATCCGACGCATG-1   13913.0      8  Cortex_5  \n",
       "TTCGTGCATGTTATAG-1   13271.0      8  Cortex_5  \n",
       "ATGTCATAATAAACGA-1   14797.0      8  Cortex_5  \n",
       "CTAAAGGATGAGATAC-1   11147.0      8  Cortex_5  \n",
       "GACAGAGGTCTTCAGT-1   10314.0      1  Cortex_2  \n",
       "\n",
       "[2800 rows x 17 columns]"
      ]
     },
     "execution_count": 13,
     "metadata": {},
     "output_type": "execute_result"
    }
   ],
   "source": [
    "adata.obs.sort_values(by=['array_row', 'array_col'])"
   ]
  },
  {
   "cell_type": "code",
   "execution_count": 24,
   "id": "051ebd7b",
   "metadata": {
    "scrolled": true
   },
   "outputs": [
    {
     "data": {
      "text/plain": [
       "([0, 1, 2, 3, 4, 5, 6, 7, 8, 9, 10, 11, 12, 13, 14],\n",
       " [Text(0, 0, 'Amygdala'),\n",
       "  Text(1, 0, 'Cortex_1'),\n",
       "  Text(2, 0, 'Cortex_2'),\n",
       "  Text(3, 0, 'Cortex_3'),\n",
       "  Text(4, 0, 'Cortex_4'),\n",
       "  Text(5, 0, 'Cortex_5'),\n",
       "  Text(6, 0, 'Dentate_gyrus'),\n",
       "  Text(7, 0, 'Fiber_tracts'),\n",
       "  Text(8, 0, 'Hippocampus'),\n",
       "  Text(9, 0, 'Hypothalamus_1'),\n",
       "  Text(10, 0, 'Hypothalamus_2'),\n",
       "  Text(11, 0, 'Lateral_ventricle'),\n",
       "  Text(12, 0, 'Striatum'),\n",
       "  Text(13, 0, 'Thalamus_1'),\n",
       "  Text(14, 0, 'Thalamus_2')])"
      ]
     },
     "execution_count": 24,
     "metadata": {},
     "output_type": "execute_result"
    },
    {
     "data": {
      "image/png": "[encoded data removed]",
      "text/plain": [
       "<Figure size 640x480 with 1 Axes>"
      ]
     },
     "metadata": {},
     "output_type": "display_data"
    }
   ],
   "source": [
    "plt.hist(adata.obs['cluster'].sort_values())\n",
    "plt.xticks(rotation=90)"
   ]
  },
  {
   "cell_type": "code",
   "execution_count": 27,
   "id": "c3d237fe",
   "metadata": {},
   "outputs": [
    {
     "data": {
      "text/html": [
       "<div>\n",
       "<style scoped>\n",
       "    .dataframe tbody tr th:only-of-type {\n",
       "        vertical-align: middle;\n",
       "    }\n",
       "\n",
       "    .dataframe tbody tr th {\n",
       "        vertical-align: top;\n",
       "    }\n",
       "\n",
       "    .dataframe thead th {\n",
       "        text-align: right;\n",
       "    }\n",
       "</style>\n",
       "<table border=\"1\" class=\"dataframe\">\n",
       "  <thead>\n",
       "    <tr style=\"text-align: right;\">\n",
       "      <th></th>\n",
       "      <th>gene_ids</th>\n",
       "      <th>feature_types</th>\n",
       "      <th>genome</th>\n",
       "      <th>MT</th>\n",
       "      <th>n_cells_by_counts</th>\n",
       "      <th>mean_counts</th>\n",
       "      <th>log1p_mean_counts</th>\n",
       "      <th>pct_dropout_by_counts</th>\n",
       "      <th>total_counts</th>\n",
       "      <th>log1p_total_counts</th>\n",
       "      <th>n_cells</th>\n",
       "      <th>highly_variable</th>\n",
       "      <th>highly_variable_rank</th>\n",
       "      <th>means</th>\n",
       "      <th>variances</th>\n",
       "      <th>variances_norm</th>\n",
       "    </tr>\n",
       "  </thead>\n",
       "  <tbody>\n",
       "    <tr>\n",
       "      <th>Xkr4</th>\n",
       "      <td>ENSMUSG00000051951</td>\n",
       "      <td>Gene Expression</td>\n",
       "      <td>mm10</td>\n",
       "      <td>False</td>\n",
       "      <td>103</td>\n",
       "      <td>0.038831</td>\n",
       "      <td>0.038097</td>\n",
       "      <td>96.330602</td>\n",
       "      <td>109.0</td>\n",
       "      <td>4.700480</td>\n",
       "      <td>103</td>\n",
       "      <td>False</td>\n",
       "      <td>NaN</td>\n",
       "      <td>0.038929</td>\n",
       "      <td>0.042428</td>\n",
       "      <td>0.977155</td>\n",
       "    </tr>\n",
       "    <tr>\n",
       "      <th>Gm19938</th>\n",
       "      <td>ENSMUSG00000102331</td>\n",
       "      <td>Gene Expression</td>\n",
       "      <td>mm10</td>\n",
       "      <td>False</td>\n",
       "      <td>173</td>\n",
       "      <td>0.071607</td>\n",
       "      <td>0.069159</td>\n",
       "      <td>93.836836</td>\n",
       "      <td>201.0</td>\n",
       "      <td>5.308268</td>\n",
       "      <td>173</td>\n",
       "      <td>True</td>\n",
       "      <td>2117.0</td>\n",
       "      <td>0.071786</td>\n",
       "      <td>0.089522</td>\n",
       "      <td>1.104345</td>\n",
       "    </tr>\n",
       "    <tr>\n",
       "      <th>Sox17</th>\n",
       "      <td>ENSMUSG00000025902</td>\n",
       "      <td>Gene Expression</td>\n",
       "      <td>mm10</td>\n",
       "      <td>False</td>\n",
       "      <td>205</td>\n",
       "      <td>0.080513</td>\n",
       "      <td>0.077436</td>\n",
       "      <td>92.696829</td>\n",
       "      <td>226.0</td>\n",
       "      <td>5.424950</td>\n",
       "      <td>205</td>\n",
       "      <td>True</td>\n",
       "      <td>3639.0</td>\n",
       "      <td>0.080714</td>\n",
       "      <td>0.093519</td>\n",
       "      <td>1.025226</td>\n",
       "    </tr>\n",
       "    <tr>\n",
       "      <th>Mrpl15</th>\n",
       "      <td>ENSMUSG00000033845</td>\n",
       "      <td>Gene Expression</td>\n",
       "      <td>mm10</td>\n",
       "      <td>False</td>\n",
       "      <td>1293</td>\n",
       "      <td>0.682223</td>\n",
       "      <td>0.520116</td>\n",
       "      <td>53.936587</td>\n",
       "      <td>1915.0</td>\n",
       "      <td>7.557995</td>\n",
       "      <td>1293</td>\n",
       "      <td>False</td>\n",
       "      <td>NaN</td>\n",
       "      <td>0.683929</td>\n",
       "      <td>0.830038</td>\n",
       "      <td>0.937183</td>\n",
       "    </tr>\n",
       "    <tr>\n",
       "      <th>Lypla1</th>\n",
       "      <td>ENSMUSG00000025903</td>\n",
       "      <td>Gene Expression</td>\n",
       "      <td>mm10</td>\n",
       "      <td>False</td>\n",
       "      <td>851</td>\n",
       "      <td>0.388315</td>\n",
       "      <td>0.328091</td>\n",
       "      <td>69.682936</td>\n",
       "      <td>1090.0</td>\n",
       "      <td>6.994850</td>\n",
       "      <td>851</td>\n",
       "      <td>False</td>\n",
       "      <td>NaN</td>\n",
       "      <td>0.389286</td>\n",
       "      <td>0.448617</td>\n",
       "      <td>0.960084</td>\n",
       "    </tr>\n",
       "    <tr>\n",
       "      <th>...</th>\n",
       "      <td>...</td>\n",
       "      <td>...</td>\n",
       "      <td>...</td>\n",
       "      <td>...</td>\n",
       "      <td>...</td>\n",
       "      <td>...</td>\n",
       "      <td>...</td>\n",
       "      <td>...</td>\n",
       "      <td>...</td>\n",
       "      <td>...</td>\n",
       "      <td>...</td>\n",
       "      <td>...</td>\n",
       "      <td>...</td>\n",
       "      <td>...</td>\n",
       "      <td>...</td>\n",
       "      <td>...</td>\n",
       "    </tr>\n",
       "    <tr>\n",
       "      <th>Spry3</th>\n",
       "      <td>ENSMUSG00000061654</td>\n",
       "      <td>Gene Expression</td>\n",
       "      <td>mm10</td>\n",
       "      <td>False</td>\n",
       "      <td>228</td>\n",
       "      <td>0.087994</td>\n",
       "      <td>0.084336</td>\n",
       "      <td>91.877449</td>\n",
       "      <td>247.0</td>\n",
       "      <td>5.513429</td>\n",
       "      <td>228</td>\n",
       "      <td>False</td>\n",
       "      <td>NaN</td>\n",
       "      <td>0.088214</td>\n",
       "      <td>0.094752</td>\n",
       "      <td>0.949990</td>\n",
       "    </tr>\n",
       "    <tr>\n",
       "      <th>Tmlhe</th>\n",
       "      <td>ENSMUSG00000079834</td>\n",
       "      <td>Gene Expression</td>\n",
       "      <td>mm10</td>\n",
       "      <td>False</td>\n",
       "      <td>71</td>\n",
       "      <td>0.026006</td>\n",
       "      <td>0.025674</td>\n",
       "      <td>97.470609</td>\n",
       "      <td>73.0</td>\n",
       "      <td>4.304065</td>\n",
       "      <td>71</td>\n",
       "      <td>False</td>\n",
       "      <td>NaN</td>\n",
       "      <td>0.026071</td>\n",
       "      <td>0.026830</td>\n",
       "      <td>0.936064</td>\n",
       "    </tr>\n",
       "    <tr>\n",
       "      <th>4933409K07Rik</th>\n",
       "      <td>ENSMUSG00000095552</td>\n",
       "      <td>Gene Expression</td>\n",
       "      <td>mm10</td>\n",
       "      <td>False</td>\n",
       "      <td>19</td>\n",
       "      <td>0.006769</td>\n",
       "      <td>0.006746</td>\n",
       "      <td>99.323121</td>\n",
       "      <td>19.0</td>\n",
       "      <td>2.995732</td>\n",
       "      <td>19</td>\n",
       "      <td>False</td>\n",
       "      <td>NaN</td>\n",
       "      <td>0.006786</td>\n",
       "      <td>0.006742</td>\n",
       "      <td>0.935659</td>\n",
       "    </tr>\n",
       "    <tr>\n",
       "      <th>CAAA01147332.1</th>\n",
       "      <td>ENSMUSG00000095742</td>\n",
       "      <td>Gene Expression</td>\n",
       "      <td>mm10</td>\n",
       "      <td>False</td>\n",
       "      <td>29</td>\n",
       "      <td>0.010331</td>\n",
       "      <td>0.010278</td>\n",
       "      <td>98.966869</td>\n",
       "      <td>29.0</td>\n",
       "      <td>3.401197</td>\n",
       "      <td>29</td>\n",
       "      <td>False</td>\n",
       "      <td>NaN</td>\n",
       "      <td>0.010357</td>\n",
       "      <td>0.010254</td>\n",
       "      <td>0.918078</td>\n",
       "    </tr>\n",
       "    <tr>\n",
       "      <th>AC149090.1</th>\n",
       "      <td>ENSMUSG00000095041</td>\n",
       "      <td>Gene Expression</td>\n",
       "      <td>mm10</td>\n",
       "      <td>False</td>\n",
       "      <td>2424</td>\n",
       "      <td>3.171357</td>\n",
       "      <td>1.428241</td>\n",
       "      <td>13.644460</td>\n",
       "      <td>8902.0</td>\n",
       "      <td>9.094144</td>\n",
       "      <td>2423</td>\n",
       "      <td>True</td>\n",
       "      <td>3025.0</td>\n",
       "      <td>3.178929</td>\n",
       "      <td>7.443143</td>\n",
       "      <td>1.048358</td>\n",
       "    </tr>\n",
       "  </tbody>\n",
       "</table>\n",
       "<p>16562 rows × 16 columns</p>\n",
       "</div>"
      ],
      "text/plain": [
       "                          gene_ids    feature_types genome     MT  \\\n",
       "Xkr4            ENSMUSG00000051951  Gene Expression   mm10  False   \n",
       "Gm19938         ENSMUSG00000102331  Gene Expression   mm10  False   \n",
       "Sox17           ENSMUSG00000025902  Gene Expression   mm10  False   \n",
       "Mrpl15          ENSMUSG00000033845  Gene Expression   mm10  False   \n",
       "Lypla1          ENSMUSG00000025903  Gene Expression   mm10  False   \n",
       "...                            ...              ...    ...    ...   \n",
       "Spry3           ENSMUSG00000061654  Gene Expression   mm10  False   \n",
       "Tmlhe           ENSMUSG00000079834  Gene Expression   mm10  False   \n",
       "4933409K07Rik   ENSMUSG00000095552  Gene Expression   mm10  False   \n",
       "CAAA01147332.1  ENSMUSG00000095742  Gene Expression   mm10  False   \n",
       "AC149090.1      ENSMUSG00000095041  Gene Expression   mm10  False   \n",
       "\n",
       "                n_cells_by_counts  mean_counts  log1p_mean_counts  \\\n",
       "Xkr4                          103     0.038831           0.038097   \n",
       "Gm19938                       173     0.071607           0.069159   \n",
       "Sox17                         205     0.080513           0.077436   \n",
       "Mrpl15                       1293     0.682223           0.520116   \n",
       "Lypla1                        851     0.388315           0.328091   \n",
       "...                           ...          ...                ...   \n",
       "Spry3                         228     0.087994           0.084336   \n",
       "Tmlhe                          71     0.026006           0.025674   \n",
       "4933409K07Rik                  19     0.006769           0.006746   \n",
       "CAAA01147332.1                 29     0.010331           0.010278   \n",
       "AC149090.1                   2424     3.171357           1.428241   \n",
       "\n",
       "                pct_dropout_by_counts  total_counts  log1p_total_counts  \\\n",
       "Xkr4                        96.330602         109.0            4.700480   \n",
       "Gm19938                     93.836836         201.0            5.308268   \n",
       "Sox17                       92.696829         226.0            5.424950   \n",
       "Mrpl15                      53.936587        1915.0            7.557995   \n",
       "Lypla1                      69.682936        1090.0            6.994850   \n",
       "...                               ...           ...                 ...   \n",
       "Spry3                       91.877449         247.0            5.513429   \n",
       "Tmlhe                       97.470609          73.0            4.304065   \n",
       "4933409K07Rik               99.323121          19.0            2.995732   \n",
       "CAAA01147332.1              98.966869          29.0            3.401197   \n",
       "AC149090.1                  13.644460        8902.0            9.094144   \n",
       "\n",
       "                n_cells  highly_variable  highly_variable_rank     means  \\\n",
       "Xkr4                103            False                   NaN  0.038929   \n",
       "Gm19938             173             True                2117.0  0.071786   \n",
       "Sox17               205             True                3639.0  0.080714   \n",
       "Mrpl15             1293            False                   NaN  0.683929   \n",
       "Lypla1              851            False                   NaN  0.389286   \n",
       "...                 ...              ...                   ...       ...   \n",
       "Spry3               228            False                   NaN  0.088214   \n",
       "Tmlhe                71            False                   NaN  0.026071   \n",
       "4933409K07Rik        19            False                   NaN  0.006786   \n",
       "CAAA01147332.1       29            False                   NaN  0.010357   \n",
       "AC149090.1         2423             True                3025.0  3.178929   \n",
       "\n",
       "                variances  variances_norm  \n",
       "Xkr4             0.042428        0.977155  \n",
       "Gm19938          0.089522        1.104345  \n",
       "Sox17            0.093519        1.025226  \n",
       "Mrpl15           0.830038        0.937183  \n",
       "Lypla1           0.448617        0.960084  \n",
       "...                   ...             ...  \n",
       "Spry3            0.094752        0.949990  \n",
       "Tmlhe            0.026830        0.936064  \n",
       "4933409K07Rik    0.006742        0.935659  \n",
       "CAAA01147332.1   0.010254        0.918078  \n",
       "AC149090.1       7.443143        1.048358  \n",
       "\n",
       "[16562 rows x 16 columns]"
      ]
     },
     "execution_count": 27,
     "metadata": {},
     "output_type": "execute_result"
    }
   ],
   "source": [
    "adata.var"
   ]
  },
  {
   "cell_type": "code",
   "execution_count": 28,
   "id": "d1449227",
   "metadata": {},
   "outputs": [
    {
     "data": {
      "text/plain": [
       "AxisArrays with keys: X_pca, X_umap, spatial"
      ]
     },
     "execution_count": 28,
     "metadata": {},
     "output_type": "execute_result"
    }
   ],
   "source": [
    "adata.obsm"
   ]
  },
  {
   "cell_type": "code",
   "execution_count": 43,
   "id": "f6665db3",
   "metadata": {},
   "outputs": [
    {
     "data": {
      "text/plain": [
       "array([14344,  5742, 19804, ..., 16221, 16691, 13107])"
      ]
     },
     "execution_count": 43,
     "metadata": {},
     "output_type": "execute_result"
    }
   ],
   "source": [
    "adata.obsm['spatial'].T[1]"
   ]
  },
  {
   "cell_type": "code",
   "execution_count": 47,
   "id": "f11260ec",
   "metadata": {},
   "outputs": [
    {
     "data": {
      "text/plain": [
       "<matplotlib.collections.PathCollection at 0x7f77198058b0>"
      ]
     },
     "execution_count": 47,
     "metadata": {},
     "output_type": "execute_result"
    },
    {
     "data": {
      "image/png": "[encoded data removed]",
      "text/plain": [
       "<Figure size 640x480 with 1 Axes>"
      ]
     },
     "metadata": {},
     "output_type": "display_data"
    }
   ],
   "source": [
    "x = adata.obsm['spatial'].T[0]\n",
    "y = adata.obsm['spatial'].T[1]\n",
    "plt.scatter(x, y, marker='.')"
   ]
  },
  {
   "cell_type": "code",
   "execution_count": 48,
   "id": "76a1c07b",
   "metadata": {},
   "outputs": [
    {
     "data": {
      "text/plain": [
       "<matplotlib.collections.PathCollection at 0x7f7719663760>"
      ]
     },
     "execution_count": 48,
     "metadata": {},
     "output_type": "execute_result"
    },
    {
     "data": {
      "image/png": "[encoded data removed]",
      "text/plain": [
       "<Figure size 640x480 with 1 Axes>"
      ]
     },
     "metadata": {},
     "output_type": "display_data"
    }
   ],
   "source": [
    "x = adata.obsm['X_umap'].T[0]\n",
    "y = adata.obsm['X_umap'].T[1]\n",
    "plt.scatter(x, y, marker='.')"
   ]
  },
  {
   "cell_type": "code",
   "execution_count": 49,
   "id": "10f54705",
   "metadata": {
    "scrolled": true
   },
   "outputs": [
    {
     "data": {
      "text/plain": [
       "<matplotlib.collections.PathCollection at 0x7f77196920d0>"
      ]
     },
     "execution_count": 49,
     "metadata": {},
     "output_type": "execute_result"
    },
    {
     "data": {
      "image/png": "[encoded data removed]",
      "text/plain": [
       "<Figure size 640x480 with 1 Axes>"
      ]
     },
     "metadata": {},
     "output_type": "display_data"
    }
   ],
   "source": [
    "x = adata.obsm['X_pca'].T[0]\n",
    "y = adata.obsm['X_pca'].T[1]\n",
    "plt.scatter(x, y, marker='.')"
   ]
  },
  {
   "cell_type": "code",
   "execution_count": 40,
   "id": "2a3a79d2",
   "metadata": {
    "scrolled": true
   },
   "outputs": [
    {
     "data": {
      "text/plain": [
       "AxisArrays with keys: PCs"
      ]
     },
     "execution_count": 40,
     "metadata": {},
     "output_type": "execute_result"
    }
   ],
   "source": [
    "adata.varm"
   ]
  },
  {
   "cell_type": "code",
   "execution_count": 51,
   "id": "7237cbae",
   "metadata": {},
   "outputs": [
    {
     "data": {
      "text/plain": [
       "array([[ 0.00000000e+00,  0.00000000e+00,  0.00000000e+00, ...,\n",
       "         0.00000000e+00,  0.00000000e+00,  0.00000000e+00],\n",
       "       [-1.64060448e-03,  5.28683731e-03, -3.17140669e-03, ...,\n",
       "        -3.08055605e-03,  5.12796880e-03, -2.14920266e-03],\n",
       "       [ 5.05365021e-04, -1.32699981e-03,  2.28586239e-03, ...,\n",
       "         6.87541050e-05,  2.26390373e-03,  6.78167676e-04],\n",
       "       ...,\n",
       "       [ 0.00000000e+00,  0.00000000e+00,  0.00000000e+00, ...,\n",
       "         0.00000000e+00,  0.00000000e+00,  0.00000000e+00],\n",
       "       [ 0.00000000e+00,  0.00000000e+00,  0.00000000e+00, ...,\n",
       "         0.00000000e+00,  0.00000000e+00,  0.00000000e+00],\n",
       "       [-3.16524785e-02,  6.12325565e-03,  1.30539917e-02, ...,\n",
       "        -2.07678887e-03,  1.98155470e-02, -7.80561621e-02]])"
      ]
     },
     "execution_count": 51,
     "metadata": {},
     "output_type": "execute_result"
    }
   ],
   "source": [
    "adata.varm['PCs']"
   ]
  },
  {
   "cell_type": "code",
   "execution_count": 52,
   "id": "13619b19",
   "metadata": {},
   "outputs": [
    {
     "data": {
      "text/plain": [
       "(16562, 50)"
      ]
     },
     "execution_count": 52,
     "metadata": {},
     "output_type": "execute_result"
    }
   ],
   "source": [
    "adata.varm['PCs'].shape"
   ]
  },
  {
   "cell_type": "code",
   "execution_count": 49,
   "id": "9f8c6fa5",
   "metadata": {},
   "outputs": [
    {
     "data": {
      "text/plain": [
       "dtype('float64')"
      ]
     },
     "execution_count": 49,
     "metadata": {},
     "output_type": "execute_result"
    }
   ],
   "source": [
    "adata.varm['PCs'].dtype"
   ]
  },
  {
   "cell_type": "code",
   "execution_count": 53,
   "id": "d6bb1b3c",
   "metadata": {},
   "outputs": [
    {
     "data": {
      "text/plain": [
       "PairwiseArrays with keys: connectivities, distances"
      ]
     },
     "execution_count": 53,
     "metadata": {},
     "output_type": "execute_result"
    }
   ],
   "source": [
    "adata.obsp"
   ]
  },
  {
   "cell_type": "code",
   "execution_count": 66,
   "id": "2dd5eab2",
   "metadata": {},
   "outputs": [
    {
     "data": {
      "text/plain": [
       "<2800x2800 sparse matrix of type '<class 'numpy.float32'>'\n",
       "\twith 57022 stored elements in Compressed Sparse Row format>"
      ]
     },
     "execution_count": 66,
     "metadata": {},
     "output_type": "execute_result"
    }
   ],
   "source": [
    "adata.obsp['connectivities']"
   ]
  },
  {
   "cell_type": "code",
   "execution_count": 65,
   "id": "d92f92c3",
   "metadata": {
    "scrolled": true
   },
   "outputs": [
    {
     "data": {
      "text/plain": [
       "<2800x2800 sparse matrix of type '<class 'numpy.float64'>'\n",
       "\twith 39200 stored elements in Compressed Sparse Row format>"
      ]
     },
     "execution_count": 65,
     "metadata": {},
     "output_type": "execute_result"
    }
   ],
   "source": [
    "adata.obsp['distances']"
   ]
  },
  {
   "cell_type": "code",
   "execution_count": 69,
   "id": "2ded0a76",
   "metadata": {},
   "outputs": [
    {
     "data": {
      "text/plain": [
       "dict_keys(['cluster_colors', 'hvg', 'leiden', 'leiden_colors', 'neighbors', 'pca', 'spatial', 'umap'])"
      ]
     },
     "execution_count": 69,
     "metadata": {},
     "output_type": "execute_result"
    }
   ],
   "source": [
    "adata.uns.keys()"
   ]
  },
  {
   "cell_type": "code",
   "execution_count": 73,
   "id": "999de4a0",
   "metadata": {},
   "outputs": [
    {
     "data": {
      "text/plain": [
       "{'params': {'use_highly_variable': True, 'zero_center': True},\n",
       " 'variance': array([47.675198  , 21.054596  , 16.050554  ,  8.638809  ,  7.6382565 ,\n",
       "         5.491377  ,  4.5791574 ,  3.881314  ,  3.2301164 ,  2.706522  ,\n",
       "         2.446258  ,  2.2620428 ,  1.9798301 ,  1.8956892 ,  1.7213036 ,\n",
       "         1.6039534 ,  1.3937892 ,  1.2309812 ,  1.2030545 ,  1.1250352 ,\n",
       "         1.0645206 ,  1.0174481 ,  0.9891857 ,  0.9474928 ,  0.9336192 ,\n",
       "         0.9024861 ,  0.8740599 ,  0.8471815 ,  0.8371343 ,  0.79955137,\n",
       "         0.7946378 ,  0.7773281 ,  0.77476895,  0.75386447,  0.74535817,\n",
       "         0.74126744,  0.7287981 ,  0.72338986,  0.71591467,  0.7119283 ,\n",
       "         0.71005136,  0.70738256,  0.7009384 ,  0.70009786,  0.6934551 ,\n",
       "         0.6888316 ,  0.68578917,  0.6832969 ,  0.6809153 ,  0.67967874],\n",
       "       dtype=float32),\n",
       " 'variance_ratio': array([0.08877066, 0.03920341, 0.02988594, 0.01608536, 0.01422234,\n",
       "        0.01022488, 0.00852634, 0.00722696, 0.00601444, 0.00503951,\n",
       "        0.0045549 , 0.0042119 , 0.00368642, 0.00352975, 0.00320505,\n",
       "        0.00298654, 0.00259522, 0.00229207, 0.00224007, 0.0020948 ,\n",
       "        0.00198212, 0.00189448, 0.00184185, 0.00176422, 0.00173839,\n",
       "        0.00168042, 0.00162749, 0.00157744, 0.00155873, 0.00148876,\n",
       "        0.00147961, 0.00144738, 0.00144261, 0.00140369, 0.00138785,\n",
       "        0.00138023, 0.00135701, 0.00134694, 0.00133302, 0.0013256 ,\n",
       "        0.00132211, 0.00131714, 0.00130514, 0.00130357, 0.00129121,\n",
       "        0.0012826 , 0.00127693, 0.00127229, 0.00126786, 0.00126555],\n",
       "       dtype=float32)}"
      ]
     },
     "execution_count": 73,
     "metadata": {},
     "output_type": "execute_result"
    }
   ],
   "source": [
    "adata.uns['pca']"
   ]
  },
  {
   "cell_type": "code",
   "execution_count": 72,
   "id": "de839456",
   "metadata": {
    "scrolled": true
   },
   "outputs": [
    {
     "data": {
      "text/plain": [
       "OverloadedDict, wrapping:\n",
       "\t{'connectivities_key': 'connectivities', 'distances_key': 'distances', 'params': {'method': 'umap', 'metric': 'euclidean', 'n_neighbors': 15}}\n",
       "With overloaded keys:\n",
       "\t['connectivities', 'distances']."
      ]
     },
     "execution_count": 72,
     "metadata": {},
     "output_type": "execute_result"
    }
   ],
   "source": [
    "adata.uns['neighbors']"
   ]
  },
  {
   "cell_type": "code",
   "execution_count": 74,
   "id": "e45e1d56",
   "metadata": {},
   "outputs": [
    {
     "data": {
      "text/plain": [
       "{'params': {'use_highly_variable': True, 'zero_center': True},\n",
       " 'variance': array([47.675198  , 21.054596  , 16.050554  ,  8.638809  ,  7.6382565 ,\n",
       "         5.491377  ,  4.5791574 ,  3.881314  ,  3.2301164 ,  2.706522  ,\n",
       "         2.446258  ,  2.2620428 ,  1.9798301 ,  1.8956892 ,  1.7213036 ,\n",
       "         1.6039534 ,  1.3937892 ,  1.2309812 ,  1.2030545 ,  1.1250352 ,\n",
       "         1.0645206 ,  1.0174481 ,  0.9891857 ,  0.9474928 ,  0.9336192 ,\n",
       "         0.9024861 ,  0.8740599 ,  0.8471815 ,  0.8371343 ,  0.79955137,\n",
       "         0.7946378 ,  0.7773281 ,  0.77476895,  0.75386447,  0.74535817,\n",
       "         0.74126744,  0.7287981 ,  0.72338986,  0.71591467,  0.7119283 ,\n",
       "         0.71005136,  0.70738256,  0.7009384 ,  0.70009786,  0.6934551 ,\n",
       "         0.6888316 ,  0.68578917,  0.6832969 ,  0.6809153 ,  0.67967874],\n",
       "       dtype=float32),\n",
       " 'variance_ratio': array([0.08877066, 0.03920341, 0.02988594, 0.01608536, 0.01422234,\n",
       "        0.01022488, 0.00852634, 0.00722696, 0.00601444, 0.00503951,\n",
       "        0.0045549 , 0.0042119 , 0.00368642, 0.00352975, 0.00320505,\n",
       "        0.00298654, 0.00259522, 0.00229207, 0.00224007, 0.0020948 ,\n",
       "        0.00198212, 0.00189448, 0.00184185, 0.00176422, 0.00173839,\n",
       "        0.00168042, 0.00162749, 0.00157744, 0.00155873, 0.00148876,\n",
       "        0.00147961, 0.00144738, 0.00144261, 0.00140369, 0.00138785,\n",
       "        0.00138023, 0.00135701, 0.00134694, 0.00133302, 0.0013256 ,\n",
       "        0.00132211, 0.00131714, 0.00130514, 0.00130357, 0.00129121,\n",
       "        0.0012826 , 0.00127693, 0.00127229, 0.00126786, 0.00126555],\n",
       "       dtype=float32)}"
      ]
     },
     "execution_count": 74,
     "metadata": {},
     "output_type": "execute_result"
    }
   ],
   "source": [
    "adata.uns['pca']"
   ]
  },
  {
   "cell_type": "code",
   "execution_count": 75,
   "id": "a635669d",
   "metadata": {},
   "outputs": [
    {
     "data": {
      "text/plain": [
       "{'V1_Adult_Mouse_Brain_Coronal_Section_2': {'images': {'hires': array([[[0.03921569, 0.02352941, 0.08627451],\n",
       "           [0.03921569, 0.02352941, 0.08627451],\n",
       "           [0.03921569, 0.02352941, 0.08627451],\n",
       "           ...,\n",
       "           [0.        , 0.        , 0.        ],\n",
       "           [0.        , 0.        , 0.        ],\n",
       "           [0.        , 0.        , 0.        ]],\n",
       "   \n",
       "          [[0.03921569, 0.02352941, 0.08627451],\n",
       "           [0.03921569, 0.02352941, 0.08627451],\n",
       "           [0.03921569, 0.02352941, 0.08627451],\n",
       "           ...,\n",
       "           [0.        , 0.        , 0.        ],\n",
       "           [0.        , 0.        , 0.        ],\n",
       "           [0.        , 0.        , 0.        ]],\n",
       "   \n",
       "          [[0.03921569, 0.02352941, 0.08627451],\n",
       "           [0.03921569, 0.02352941, 0.08627451],\n",
       "           [0.03921569, 0.02352941, 0.08627451],\n",
       "           ...,\n",
       "           [0.        , 0.        , 0.        ],\n",
       "           [0.        , 0.        , 0.        ],\n",
       "           [0.        , 0.        , 0.        ]],\n",
       "   \n",
       "          ...,\n",
       "   \n",
       "          [[0.04313726, 0.02745098, 0.08627451],\n",
       "           [0.04313726, 0.02745098, 0.08627451],\n",
       "           [0.04313726, 0.02745098, 0.08627451],\n",
       "           ...,\n",
       "           [0.        , 0.        , 0.        ],\n",
       "           [0.        , 0.        , 0.        ],\n",
       "           [0.        , 0.        , 0.        ]],\n",
       "   \n",
       "          [[0.04313726, 0.02745098, 0.08627451],\n",
       "           [0.04313726, 0.02745098, 0.08627451],\n",
       "           [0.04313726, 0.02745098, 0.08627451],\n",
       "           ...,\n",
       "           [0.        , 0.        , 0.        ],\n",
       "           [0.        , 0.        , 0.        ],\n",
       "           [0.        , 0.        , 0.        ]],\n",
       "   \n",
       "          [[0.03921569, 0.02745098, 0.08627451],\n",
       "           [0.04313726, 0.02745098, 0.08627451],\n",
       "           [0.04313726, 0.02745098, 0.08627451],\n",
       "           ...,\n",
       "           [0.        , 0.        , 0.        ],\n",
       "           [0.        , 0.        , 0.        ],\n",
       "           [0.        , 0.        , 0.        ]]], dtype=float32),\n",
       "   'lowres': array([[[0.07058824, 0.02352941, 0.08627451],\n",
       "           [0.07058824, 0.02352941, 0.09019608],\n",
       "           [0.07058824, 0.02352941, 0.09019608],\n",
       "           ...,\n",
       "           [0.07058824, 0.02352941, 0.08627451],\n",
       "           [0.03529412, 0.01176471, 0.04313726],\n",
       "           [0.        , 0.        , 0.        ]],\n",
       "   \n",
       "          [[0.07058824, 0.02352941, 0.09019608],\n",
       "           [0.07058824, 0.02352941, 0.09019608],\n",
       "           [0.07058824, 0.02352941, 0.09019608],\n",
       "           ...,\n",
       "           [0.07058824, 0.02352941, 0.08627451],\n",
       "           [0.03529412, 0.01176471, 0.04313726],\n",
       "           [0.        , 0.        , 0.        ]],\n",
       "   \n",
       "          [[0.07058824, 0.02352941, 0.09019608],\n",
       "           [0.07058824, 0.02352941, 0.09019608],\n",
       "           [0.07058824, 0.02352941, 0.09019608],\n",
       "           ...,\n",
       "           [0.07058824, 0.02352941, 0.08627451],\n",
       "           [0.03529412, 0.01176471, 0.04313726],\n",
       "           [0.        , 0.        , 0.        ]],\n",
       "   \n",
       "          ...,\n",
       "   \n",
       "          [[0.07058824, 0.02745098, 0.09019608],\n",
       "           [0.07058824, 0.02745098, 0.09019608],\n",
       "           [0.07058824, 0.02745098, 0.09019608],\n",
       "           ...,\n",
       "           [0.05882353, 0.01960784, 0.07450981],\n",
       "           [0.00392157, 0.        , 0.00392157],\n",
       "           [0.        , 0.        , 0.        ]],\n",
       "   \n",
       "          [[0.07058824, 0.02745098, 0.09019608],\n",
       "           [0.07058824, 0.02745098, 0.09019608],\n",
       "           [0.07058824, 0.02745098, 0.09019608],\n",
       "           ...,\n",
       "           [0.05882353, 0.01960784, 0.07450981],\n",
       "           [0.00392157, 0.        , 0.00392157],\n",
       "           [0.        , 0.        , 0.        ]],\n",
       "   \n",
       "          [[0.07058824, 0.02745098, 0.09019608],\n",
       "           [0.07058824, 0.02745098, 0.09019608],\n",
       "           [0.07058824, 0.02745098, 0.09019608],\n",
       "           ...,\n",
       "           [0.05882353, 0.01960784, 0.07450981],\n",
       "           [0.00392157, 0.        , 0.00392157],\n",
       "           [0.        , 0.        , 0.        ]]], dtype=float32)},\n",
       "  'metadata': {'chemistry_description': \"Spatial 3' v1\",\n",
       "   'software_version': 'spaceranger-1.1.0'},\n",
       "  'scalefactors': {'fiducial_diameter_fullres': 288.25050000000005,\n",
       "   'spot_diameter_fullres': 178.44077999999996,\n",
       "   'tissue_hires_scalef': 0.08250825,\n",
       "   'tissue_lowres_scalef': 0.024752475}}}"
      ]
     },
     "execution_count": 75,
     "metadata": {},
     "output_type": "execute_result"
    }
   ],
   "source": [
    "adata.uns['spatial']"
   ]
  },
  {
   "cell_type": "code",
   "execution_count": 76,
   "id": "111046c2",
   "metadata": {},
   "outputs": [
    {
     "data": {
      "text/plain": [
       "{'V1_Adult_Mouse_Brain_Coronal_Section_2': {'images': {'hires': array([[[0.03921569, 0.02352941, 0.08627451],\n",
       "           [0.03921569, 0.02352941, 0.08627451],\n",
       "           [0.03921569, 0.02352941, 0.08627451],\n",
       "           ...,\n",
       "           [0.        , 0.        , 0.        ],\n",
       "           [0.        , 0.        , 0.        ],\n",
       "           [0.        , 0.        , 0.        ]],\n",
       "   \n",
       "          [[0.03921569, 0.02352941, 0.08627451],\n",
       "           [0.03921569, 0.02352941, 0.08627451],\n",
       "           [0.03921569, 0.02352941, 0.08627451],\n",
       "           ...,\n",
       "           [0.        , 0.        , 0.        ],\n",
       "           [0.        , 0.        , 0.        ],\n",
       "           [0.        , 0.        , 0.        ]],\n",
       "   \n",
       "          [[0.03921569, 0.02352941, 0.08627451],\n",
       "           [0.03921569, 0.02352941, 0.08627451],\n",
       "           [0.03921569, 0.02352941, 0.08627451],\n",
       "           ...,\n",
       "           [0.        , 0.        , 0.        ],\n",
       "           [0.        , 0.        , 0.        ],\n",
       "           [0.        , 0.        , 0.        ]],\n",
       "   \n",
       "          ...,\n",
       "   \n",
       "          [[0.04313726, 0.02745098, 0.08627451],\n",
       "           [0.04313726, 0.02745098, 0.08627451],\n",
       "           [0.04313726, 0.02745098, 0.08627451],\n",
       "           ...,\n",
       "           [0.        , 0.        , 0.        ],\n",
       "           [0.        , 0.        , 0.        ],\n",
       "           [0.        , 0.        , 0.        ]],\n",
       "   \n",
       "          [[0.04313726, 0.02745098, 0.08627451],\n",
       "           [0.04313726, 0.02745098, 0.08627451],\n",
       "           [0.04313726, 0.02745098, 0.08627451],\n",
       "           ...,\n",
       "           [0.        , 0.        , 0.        ],\n",
       "           [0.        , 0.        , 0.        ],\n",
       "           [0.        , 0.        , 0.        ]],\n",
       "   \n",
       "          [[0.03921569, 0.02745098, 0.08627451],\n",
       "           [0.04313726, 0.02745098, 0.08627451],\n",
       "           [0.04313726, 0.02745098, 0.08627451],\n",
       "           ...,\n",
       "           [0.        , 0.        , 0.        ],\n",
       "           [0.        , 0.        , 0.        ],\n",
       "           [0.        , 0.        , 0.        ]]], dtype=float32),\n",
       "   'lowres': array([[[0.07058824, 0.02352941, 0.08627451],\n",
       "           [0.07058824, 0.02352941, 0.09019608],\n",
       "           [0.07058824, 0.02352941, 0.09019608],\n",
       "           ...,\n",
       "           [0.07058824, 0.02352941, 0.08627451],\n",
       "           [0.03529412, 0.01176471, 0.04313726],\n",
       "           [0.        , 0.        , 0.        ]],\n",
       "   \n",
       "          [[0.07058824, 0.02352941, 0.09019608],\n",
       "           [0.07058824, 0.02352941, 0.09019608],\n",
       "           [0.07058824, 0.02352941, 0.09019608],\n",
       "           ...,\n",
       "           [0.07058824, 0.02352941, 0.08627451],\n",
       "           [0.03529412, 0.01176471, 0.04313726],\n",
       "           [0.        , 0.        , 0.        ]],\n",
       "   \n",
       "          [[0.07058824, 0.02352941, 0.09019608],\n",
       "           [0.07058824, 0.02352941, 0.09019608],\n",
       "           [0.07058824, 0.02352941, 0.09019608],\n",
       "           ...,\n",
       "           [0.07058824, 0.02352941, 0.08627451],\n",
       "           [0.03529412, 0.01176471, 0.04313726],\n",
       "           [0.        , 0.        , 0.        ]],\n",
       "   \n",
       "          ...,\n",
       "   \n",
       "          [[0.07058824, 0.02745098, 0.09019608],\n",
       "           [0.07058824, 0.02745098, 0.09019608],\n",
       "           [0.07058824, 0.02745098, 0.09019608],\n",
       "           ...,\n",
       "           [0.05882353, 0.01960784, 0.07450981],\n",
       "           [0.00392157, 0.        , 0.00392157],\n",
       "           [0.        , 0.        , 0.        ]],\n",
       "   \n",
       "          [[0.07058824, 0.02745098, 0.09019608],\n",
       "           [0.07058824, 0.02745098, 0.09019608],\n",
       "           [0.07058824, 0.02745098, 0.09019608],\n",
       "           ...,\n",
       "           [0.05882353, 0.01960784, 0.07450981],\n",
       "           [0.00392157, 0.        , 0.00392157],\n",
       "           [0.        , 0.        , 0.        ]],\n",
       "   \n",
       "          [[0.07058824, 0.02745098, 0.09019608],\n",
       "           [0.07058824, 0.02745098, 0.09019608],\n",
       "           [0.07058824, 0.02745098, 0.09019608],\n",
       "           ...,\n",
       "           [0.05882353, 0.01960784, 0.07450981],\n",
       "           [0.00392157, 0.        , 0.00392157],\n",
       "           [0.        , 0.        , 0.        ]]], dtype=float32)},\n",
       "  'metadata': {'chemistry_description': \"Spatial 3' v1\",\n",
       "   'software_version': 'spaceranger-1.1.0'},\n",
       "  'scalefactors': {'fiducial_diameter_fullres': 288.25050000000005,\n",
       "   'spot_diameter_fullres': 178.44077999999996,\n",
       "   'tissue_hires_scalef': 0.08250825,\n",
       "   'tissue_lowres_scalef': 0.024752475}}}"
      ]
     },
     "execution_count": 76,
     "metadata": {},
     "output_type": "execute_result"
    }
   ],
   "source": [
    "adata.uns['spatial']"
   ]
  }
 ],
 "metadata": {
  "kernelspec": {
   "display_name": "Python 3 (ipykernel)",
   "language": "python",
   "name": "python3"
  },
  "language_info": {
   "codemirror_mode": {
    "name": "ipython",
    "version": 3
   },
   "file_extension": ".py",
   "mimetype": "text/x-python",
   "name": "python",
   "nbconvert_exporter": "python",
   "pygments_lexer": "ipython3",
   "version": "3.8.13"
  }
 },
 "nbformat": 4,
 "nbformat_minor": 5
}
