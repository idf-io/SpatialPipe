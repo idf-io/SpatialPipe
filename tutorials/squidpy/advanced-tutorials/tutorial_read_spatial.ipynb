{
 "cells": [
  {
   "cell_type": "code",
   "execution_count": 1,
   "metadata": {},
   "outputs": [],
   "source": [
    "%matplotlib inline"
   ]
  },
  {
   "cell_type": "markdown",
   "metadata": {},
   "source": [
    "# Import spatial data in AnnData and Squidpy\n",
    "\n",
    "This tutorial shows how to store spatial datasets in `anndata.AnnData`.\n",
    "\n",
    "Spatial molecular data comes in many different formats, and to date\n",
    "there is no one-size-fit-all solution for reading spatial data in\n",
    "Python. Scanpy already provides a solution for Visium Spatial\n",
    "transcriptomics data with the function `scanpy.read_visium` but that is\n",
    "basically it. Here in Squidpy, we do provide some pre-processed (and\n",
    "pre-formatted) datasets, with the module `squidpy.datasets` but it\\'s\n",
    "not very useful for the users who need to import their own data.\n",
    "\n",
    "In this tutorial, we will showcase how spatial data are stored in\n",
    "`anndata.AnnData`. We will use mock datasets for this purpose, yet\n",
    "showing with examples the important details that you should take care of\n",
    "in order to exploit the full functionality of the\n",
    "*AnnData-Scanpy-Squidpy* ecosystem.\n"
   ]
  },
  {
   "cell_type": "code",
   "execution_count": 3,
   "metadata": {},
   "outputs": [
    {
     "name": "stderr",
     "output_type": "stream",
     "text": [
      "/home/ifichtner/anaconda3/envs/squidpy/lib/python3.8/site-packages/tqdm/auto.py:22: TqdmWarning: IProgress not found. Please update jupyter and ipywidgets. See https://ipywidgets.readthedocs.io/en/stable/user_install.html\n",
      "  from .autonotebook import tqdm as notebook_tqdm\n"
     ]
    },
    {
     "name": "stdout",
     "output_type": "stream",
     "text": [
      "scanpy==1.9.1 anndata==0.8.0 umap==0.5.3 numpy==1.22.4 scipy==1.9.3 pandas==1.5.1 scikit-learn==1.1.3 statsmodels==0.13.5 python-igraph==0.10.2 pynndescent==0.5.8\n",
      "squidpy==1.2.3\n"
     ]
    }
   ],
   "source": [
    "from anndata import AnnData\n",
    "import scanpy as sc\n",
    "import squidpy as sq\n",
    "\n",
    "from numpy.random import default_rng\n",
    "\n",
    "import matplotlib.pyplot as plt\n",
    "\n",
    "sc.logging.print_header()\n",
    "print(f\"squidpy=={sq.__version__}\")"
   ]
  },
  {
   "cell_type": "markdown",
   "metadata": {},
   "source": [
    "# Spatial coordinates in AnnData\n",
    "\n",
    "First, let\\'s generate some data. We will need:\n",
    "\n",
    "> -   an array of features (e.g. counts).\n",
    "> -   an array of spatial coordinates.\n",
    "> -   an image array (e.g. the tissue image).\n"
   ]
  },
  {
   "cell_type": "code",
   "execution_count": 4,
   "metadata": {},
   "outputs": [],
   "source": [
    "rng = default_rng(42)\n",
    "counts = rng.integers(0, 15, size=(10, 100))  # feature matrix\n",
    "coordinates = rng.uniform(0, 10, size=(10, 2))  # spatial coordinates\n",
    "image = rng.uniform(0, 1, size=(10, 10, 3))  # image"
   ]
  },
  {
   "cell_type": "code",
   "execution_count": 9,
   "metadata": {},
   "outputs": [
    {
     "data": {
      "text/plain": [
       "(10, 100)"
      ]
     },
     "execution_count": 9,
     "metadata": {},
     "output_type": "execute_result"
    }
   ],
   "source": [
    "counts.shape"
   ]
  },
  {
   "cell_type": "code",
   "execution_count": 10,
   "metadata": {},
   "outputs": [
    {
     "data": {
      "text/plain": [
       "array([[7.36705688, 8.86402887],\n",
       "       [9.21057197, 5.03632925],\n",
       "       [5.20275115, 7.99870411],\n",
       "       [3.14450692, 8.37382362],\n",
       "       [4.94141647, 1.15856724],\n",
       "       [0.72059147, 8.41993211],\n",
       "       [0.55567917, 2.80611436],\n",
       "       [3.34130041, 1.72994445],\n",
       "       [3.1389337 , 7.42692567],\n",
       "       [0.14682844, 8.27173425]])"
      ]
     },
     "execution_count": 10,
     "metadata": {},
     "output_type": "execute_result"
    }
   ],
   "source": [
    "coordinates"
   ]
  },
  {
   "cell_type": "code",
   "execution_count": 11,
   "metadata": {},
   "outputs": [
    {
     "data": {
      "text/plain": [
       "(10, 2)"
      ]
     },
     "execution_count": 11,
     "metadata": {},
     "output_type": "execute_result"
    }
   ],
   "source": [
    "coordinates.shape"
   ]
  },
  {
   "cell_type": "code",
   "execution_count": 12,
   "metadata": {},
   "outputs": [
    {
     "data": {
      "text/plain": [
       "array([[[0.85654802, 0.37226157, 0.1536129 ],\n",
       "        [0.60084041, 0.11967256, 0.36491936],\n",
       "        [0.95842918, 0.99546447, 0.77210489],\n",
       "        [0.31096151, 0.68766505, 0.70540637],\n",
       "        [0.3878417 , 0.64088863, 0.01072764],\n",
       "        [0.20905766, 0.5250883 , 0.1637513 ],\n",
       "        [0.16590687, 0.83630429, 0.989133  ],\n",
       "        [0.55596943, 0.83906973, 0.99032166],\n",
       "        [0.14159589, 0.44824561, 0.39257272],\n",
       "        [0.08004928, 0.75533017, 0.43377903]],\n",
       "\n",
       "       [[0.46932693, 0.15067297, 0.18092665],\n",
       "        [0.90710362, 0.04464909, 0.23285228],\n",
       "        [0.29205933, 0.49019754, 0.58644517],\n",
       "        [0.49328998, 0.08411533, 0.24366745],\n",
       "        [0.84358838, 0.6375887 , 0.64914905],\n",
       "        [0.67020326, 0.76290302, 0.05810848],\n",
       "        [0.36660838, 0.53952744, 0.33845648],\n",
       "        [0.84447887, 0.48257251, 0.76862759],\n",
       "        [0.85201552, 0.50479148, 0.90955224],\n",
       "        [0.58712394, 0.8502743 , 0.3405908 ]],\n",
       "\n",
       "       [[0.49881696, 0.53141104, 0.10497972],\n",
       "        [0.39855251, 0.91733767, 0.63083224],\n",
       "        [0.17750658, 0.33885564, 0.19160301],\n",
       "        [0.02482313, 0.92746046, 0.44820733],\n",
       "        [0.30753507, 0.59847719, 0.00731446],\n",
       "        [0.27802211, 0.70303347, 0.63376977],\n",
       "        [0.98180595, 0.62035771, 0.47750587],\n",
       "        [0.76143256, 0.90332787, 0.72069595],\n",
       "        [0.96321122, 0.78200517, 0.86680144],\n",
       "        [0.11410407, 0.7324135 , 0.4400887 ]],\n",
       "\n",
       "       [[0.5531038 , 0.65410241, 0.96981512],\n",
       "        [0.98457808, 0.28822825, 0.7337535 ],\n",
       "        [0.74998354, 0.34649286, 0.12386977],\n",
       "        [0.04094696, 0.77734313, 0.48969974],\n",
       "        [0.98554017, 0.46497346, 0.97791698],\n",
       "        [0.411576  , 0.79368215, 0.08481927],\n",
       "        [0.55546171, 0.80205979, 0.92470167],\n",
       "        [0.82258309, 0.03697073, 0.37270234],\n",
       "        [0.04869847, 0.10928229, 0.67530563],\n",
       "        [0.7132582 , 0.77372068, 0.86545655]],\n",
       "\n",
       "       [[0.73943147, 0.80087159, 0.04896371],\n",
       "        [0.23453515, 0.62189777, 0.8581253 ],\n",
       "        [0.00450012, 0.51462934, 0.6772874 ],\n",
       "        [0.02960729, 0.40135556, 0.89563488],\n",
       "        [0.67161281, 0.23765836, 0.85278113],\n",
       "        [0.34803142, 0.85334467, 0.29894365],\n",
       "        [0.59032025, 0.39694007, 0.27482505],\n",
       "        [0.88655756, 0.18759368, 0.08481159],\n",
       "        [0.34192694, 0.71763915, 0.80743161],\n",
       "        [0.99874337, 0.29636206, 0.40794195]],\n",
       "\n",
       "       [[0.13682128, 0.57487193, 0.99758004],\n",
       "        [0.70088101, 0.59521284, 0.39236909],\n",
       "        [0.91529876, 0.4969166 , 0.13436691],\n",
       "        [0.36537846, 0.06716667, 0.20197904],\n",
       "        [0.01766878, 0.45327992, 0.63454026],\n",
       "        [0.34329246, 0.42038177, 0.95920927],\n",
       "        [0.75196312, 0.54085664, 0.28454088],\n",
       "        [0.8969968 , 0.23509712, 0.32534273],\n",
       "        [0.90906481, 0.52954206, 0.74231795],\n",
       "        [0.59074479, 0.65343921, 0.29938329]],\n",
       "\n",
       "       [[0.24137206, 0.32249235, 0.15544156],\n",
       "        [0.87431437, 0.28324693, 0.56148939],\n",
       "        [0.79197443, 0.78382411, 0.43838626],\n",
       "        [0.47625731, 0.99470175, 0.67459748],\n",
       "        [0.81463844, 0.90255397, 0.78758984],\n",
       "        [0.18517934, 0.56217073, 0.10189416],\n",
       "        [0.65292213, 0.95534943, 0.51273206],\n",
       "        [0.43297249, 0.03584275, 0.95977452],\n",
       "        [0.10300268, 0.04107909, 0.24606661],\n",
       "        [0.06553043, 0.45511784, 0.5160878 ]],\n",
       "\n",
       "       [[0.31256995, 0.05096048, 0.11160037],\n",
       "        [0.38450438, 0.06052845, 0.69818973],\n",
       "        [0.20702054, 0.30207157, 0.39412578],\n",
       "        [0.41660963, 0.00166071, 0.11207037],\n",
       "        [0.86276456, 0.00123306, 0.50816736],\n",
       "        [0.48950201, 0.33309416, 0.43132702],\n",
       "        [0.78058114, 0.84120371, 0.26034854],\n",
       "        [0.32249044, 0.24248285, 0.4798634 ],\n",
       "        [0.68325836, 0.22825288, 0.33073574],\n",
       "        [0.93038462, 0.04856929, 0.46076961]],\n",
       "\n",
       "       [[0.71155804, 0.15045401, 0.04737402],\n",
       "        [0.13820537, 0.91882319, 0.00925978],\n",
       "        [0.18832197, 0.03128351, 0.11062947],\n",
       "        [0.62014929, 0.24163891, 0.56921205],\n",
       "        [0.59019538, 0.84943533, 0.00474139],\n",
       "        [0.85336946, 0.61911909, 0.16274349],\n",
       "        [0.77293739, 0.85549154, 0.25426348],\n",
       "        [0.91879368, 0.45445743, 0.60342445],\n",
       "        [0.98464953, 0.36153608, 0.81315935],\n",
       "        [0.31839912, 0.79921352, 0.60073392]],\n",
       "\n",
       "       [[0.2163557 , 0.41402609, 0.31763563],\n",
       "        [0.07810839, 0.02983477, 0.34647866],\n",
       "        [0.01903415, 0.16548776, 0.72518332],\n",
       "        [0.70809124, 0.73858039, 0.31715317],\n",
       "        [0.89001946, 0.59383055, 0.12602634],\n",
       "        [0.14371866, 0.69309543, 0.17294394],\n",
       "        [0.5072927 , 0.99177448, 0.0040076 ],\n",
       "        [0.0165798 , 0.99308458, 0.58463883],\n",
       "        [0.12690998, 0.8973022 , 0.8803803 ],\n",
       "        [0.53620041, 0.62179203, 0.27318719]]])"
      ]
     },
     "execution_count": 12,
     "metadata": {},
     "output_type": "execute_result"
    }
   ],
   "source": [
    "image"
   ]
  },
  {
   "cell_type": "code",
   "execution_count": 13,
   "metadata": {},
   "outputs": [
    {
     "data": {
      "text/plain": [
       "(10, 10, 3)"
      ]
     },
     "execution_count": 13,
     "metadata": {},
     "output_type": "execute_result"
    }
   ],
   "source": [
    "image.shape"
   ]
  },
  {
   "cell_type": "markdown",
   "metadata": {},
   "source": [
    "Let\\'s first start with creating the `anndata.AnnData` object. We will\n",
    "first just use the count matrix and the spatial coordinates. Specify the\n",
    "`anndata.AnnData.obsm` key as [\\'spatial\\']{.title-ref} is not strictly\n",
    "necessary but will save you a lot of typing since it\\'s the default for\n",
    "both Squidpy and Scanpy.\n"
   ]
  },
  {
   "cell_type": "code",
   "execution_count": 14,
   "metadata": {},
   "outputs": [
    {
     "name": "stderr",
     "output_type": "stream",
     "text": [
      "/tmp/ipykernel_131567/2678445132.py:1: FutureWarning: X.dtype being converted to np.float32 from int64. In the next version of anndata (0.9) conversion will not be automatic. Pass dtype explicitly to avoid this warning. Pass `AnnData(X, dtype=X.dtype, ...)` to get the future behavour.\n",
      "  adata = AnnData(counts, obsm={\"spatial\": coordinates})\n"
     ]
    }
   ],
   "source": [
    "adata = AnnData(counts, obsm={\"spatial\": coordinates})"
   ]
  },
  {
   "cell_type": "markdown",
   "metadata": {},
   "source": [
    "Next, let\\'s run a standard Scanpy clustering and umap workflow.\n"
   ]
  },
  {
   "cell_type": "code",
   "execution_count": 15,
   "metadata": {},
   "outputs": [
    {
     "name": "stdout",
     "output_type": "stream",
     "text": [
      "WARNING: n_obs too small: adjusting to `n_neighbors = 6`\n"
     ]
    },
    {
     "data": {
      "text/plain": [
       "AnnData object with n_obs × n_vars = 10 × 100\n",
       "    obs: 'leiden'\n",
       "    uns: 'log1p', 'pca', 'neighbors', 'umap', 'leiden'\n",
       "    obsm: 'spatial', 'X_pca', 'X_umap'\n",
       "    varm: 'PCs'\n",
       "    obsp: 'distances', 'connectivities'"
      ]
     },
     "execution_count": 15,
     "metadata": {},
     "output_type": "execute_result"
    }
   ],
   "source": [
    "sc.pp.normalize_total(adata)\n",
    "sc.pp.log1p(adata)\n",
    "sc.pp.pca(adata)\n",
    "sc.pp.neighbors(adata)\n",
    "sc.tl.umap(adata)\n",
    "sc.tl.leiden(adata)\n",
    "adata"
   ]
  },
  {
   "cell_type": "markdown",
   "metadata": {},
   "source": [
    "We can visualize the dummy cluster annotation `adata.obs['leiden']` in\n",
    "space.\n"
   ]
  },
  {
   "cell_type": "code",
   "execution_count": 16,
   "metadata": {},
   "outputs": [
    {
     "name": "stdout",
     "output_type": "stream",
     "text": [
      "WARNING: Please specify a valid `library_id` or set it permanently in `adata.uns['spatial']`\n"
     ]
    },
    {
     "name": "stderr",
     "output_type": "stream",
     "text": [
      "/home/ifichtner/anaconda3/envs/squidpy/lib/python3.8/site-packages/squidpy/pl/_spatial_utils.py:955: UserWarning: No data for colormapping provided via 'c'. Parameters 'cmap', 'norm' will be ignored\n",
      "  _cax = scatter(\n"
     ]
    },
    {
     "data": {
      "image/png": "[encoded data removed]",
      "text/plain": [
       "<Figure size 640x480 with 1 Axes>"
      ]
     },
     "metadata": {},
     "output_type": "display_data"
    }
   ],
   "source": [
    "sq.pl.spatial_scatter(adata, shape=None, color=\"leiden\", size=50)"
   ]
  },
  {
   "cell_type": "markdown",
   "metadata": {},
   "source": [
    "# Tissue image in AnnData\n",
    "\n",
    "For use cases where there is no tissue image, this is all you need to\n",
    "start using Scanpy/Squidpy for your analysis. For instance, you can\n",
    "compute a spatial graph with `squidpy.gr.spatial_neighbors` based on a\n",
    "fixed neighbor radius that is informative given your experimental\n",
    "settings.\n"
   ]
  },
  {
   "cell_type": "code",
   "execution_count": 17,
   "metadata": {},
   "outputs": [
    {
     "name": "stdout",
     "output_type": "stream",
     "text": [
      "WARNING: Graph creation with `radius` is only available when `coord_type = generic` specified. Ignoring parameter `radius = 3.0`.\n",
      "WARNING: Please specify a valid `library_id` or set it permanently in `adata.uns['spatial']`\n"
     ]
    },
    {
     "name": "stderr",
     "output_type": "stream",
     "text": [
      "/home/ifichtner/anaconda3/envs/squidpy/lib/python3.8/site-packages/squidpy/pl/_spatial_utils.py:955: UserWarning: No data for colormapping provided via 'c'. Parameters 'cmap', 'norm' will be ignored\n",
      "  _cax = scatter(\n"
     ]
    },
    {
     "data": {
      "image/png": "[encoded data removed]",
      "text/plain": [
       "<Figure size 640x480 with 1 Axes>"
      ]
     },
     "metadata": {},
     "output_type": "display_data"
    }
   ],
   "source": [
    "sq.gr.spatial_neighbors(adata, radius=3.0)\n",
    "sq.pl.spatial_scatter(\n",
    "    adata,\n",
    "    color=\"leiden\",\n",
    "    connectivity_key=\"spatial_connectivities\",\n",
    "    edges_color=\"black\",\n",
    "    shape=None,\n",
    "    edges_width=1,\n",
    "    size=3000,\n",
    ")"
   ]
  },
  {
   "cell_type": "markdown",
   "metadata": {},
   "source": [
    "In case you do have an image of the tissue (or multiple, at different\n",
    "resolutions) this is what you need to know to correctly store it in\n",
    "AnnData. First, let\\'s visualize the mock image from before.\n"
   ]
  },
  {
   "cell_type": "code",
   "execution_count": 18,
   "metadata": {},
   "outputs": [
    {
     "data": {
      "text/plain": [
       "<matplotlib.image.AxesImage at 0x7f7e669a1eb0>"
      ]
     },
     "execution_count": 18,
     "metadata": {},
     "output_type": "execute_result"
    },
    {
     "data": {
      "image/png": "[encoded data removed]",
      "text/plain": [
       "<Figure size 640x480 with 1 Axes>"
      ]
     },
     "metadata": {},
     "output_type": "display_data"
    }
   ],
   "source": [
    "plt.imshow(image)"
   ]
  },
  {
   "cell_type": "markdown",
   "metadata": {},
   "source": [
    "The image and its metadata are stored in the [uns]{.title-ref} slot of\n",
    "`anndata.AnnData`. Specifically, in the\n",
    "`adata.uns['spatial'][<library_id>]` slot, where\n",
    "[library_id]{.title-ref} is any unique key that refers to the tissue\n",
    "image.\n",
    "\n",
    "For now, we will assume that there is only one image. This is the\n",
    "necessary metadata:\n",
    "\n",
    "> -   [tissue_hires_scalef]{.title-ref} - this is the scale factor\n",
    ">     between the spatial coordinates units and the image pixels. In the\n",
    ">     case of Visium, this is usually \\~0.17. In this case, we assume\n",
    ">     that the spatial coordinates are in the same scale of the pixels,\n",
    ">     and so we will set this value to 1.\n",
    "> -   [spot_diameter_fullres]{.title-ref} - this is the diameter of the\n",
    ">     capture area for each observation. In the case of Visium, we\n",
    ">     usually call them [\\\"spots\\\"]{.title-ref} and this value is set to\n",
    ">     \\~89.\n",
    "\n",
    "Here, we will set it to 0.5.\n"
   ]
  },
  {
   "cell_type": "code",
   "execution_count": 19,
   "metadata": {},
   "outputs": [],
   "source": [
    "spatial_key = \"spatial\"\n",
    "library_id = \"tissue42\"\n",
    "adata.uns[spatial_key] = {library_id: {}}\n",
    "adata.uns[spatial_key][library_id][\"images\"] = {}\n",
    "adata.uns[spatial_key][library_id][\"images\"] = {\"hires\": image}\n",
    "adata.uns[spatial_key][library_id][\"scalefactors\"] = {\"tissue_hires_scalef\": 1, \"spot_diameter_fullres\": 0.5}"
   ]
  },
  {
   "cell_type": "markdown",
   "metadata": {},
   "source": [
    "We don\\'t provide the flexibility (yet) to change the values of such\n",
    "keys. These are the keys provided by the Space Ranger output from 10x\n",
    "Genomics Visium and therefore were the first to be adopted. In the\n",
    "future, we might settle to a sightly different structure. But for now,\n",
    "if all such key are correct, `squidpy.pl.spatial_scatter` works out of\n",
    "the box.\n"
   ]
  },
  {
   "cell_type": "code",
   "execution_count": 20,
   "metadata": {},
   "outputs": [
    {
     "data": {
      "image/png": "[encoded data removed]",
      "text/plain": [
       "<Figure size 640x480 with 1 Axes>"
      ]
     },
     "metadata": {},
     "output_type": "display_data"
    }
   ],
   "source": [
    "sq.pl.spatial_scatter(adata, color=\"leiden\")"
   ]
  },
  {
   "cell_type": "markdown",
   "metadata": {},
   "source": [
    "You can fiddle around with the settings to see what changes. For\n",
    "instance, let\\'s change [tissue_hires_scalef]{.title-ref} to half the\n",
    "previous value.\n"
   ]
  },
  {
   "cell_type": "code",
   "execution_count": 23,
   "metadata": {},
   "outputs": [
    {
     "data": {
      "image/png": "[encoded data removed]",
      "text/plain": [
       "<Figure size 640x480 with 1 Axes>"
      ]
     },
     "metadata": {},
     "output_type": "display_data"
    }
   ],
   "source": [
    "adata.uns[spatial_key][library_id][\"scalefactors\"] = {\"tissue_hires_scalef\": 0.5, \"spot_diameter_fullres\": 0.5}\n",
    "sq.pl.spatial_scatter(adata, color=\"leiden\", size=2)"
   ]
  },
  {
   "cell_type": "markdown",
   "metadata": {},
   "source": [
    "As you can see, the spatial coordinates have been scaled down, and the\n",
    "image was \\\"zoomed in\\\".\n",
    "\n",
    "Of course, you might want to \\\"analyze\\\" such image.\n",
    "`squidpy.im.ImageContainer` comes to the rescue! Just instantiate a new\n",
    "object and it will work out of the box.\n"
   ]
  },
  {
   "cell_type": "code",
   "execution_count": 24,
   "metadata": {},
   "outputs": [
    {
     "data": {
      "image/png": "[encoded data removed]",
      "text/plain": [
       "<Figure size 800x800 with 1 Axes>"
      ]
     },
     "metadata": {},
     "output_type": "display_data"
    }
   ],
   "source": [
    "img = sq.im.ImageContainer(image)\n",
    "img.show()"
   ]
  },
  {
   "cell_type": "code",
   "execution_count": 25,
   "metadata": {},
   "outputs": [
    {
     "data": {
      "text/html": [
       "ImageContainer object with 1 layer:<p style='text-indent: 25px; margin-top: 0px; margin-bottom: 0px;'><strong>image</strong>: <em>y</em> (10), <em>x</em> (10), <em>z</em> (1), <em>channels</em> (3)</p>"
      ],
      "text/plain": [
       "ImageContainer[shape=(10, 10), layers=['image']]"
      ]
     },
     "execution_count": 25,
     "metadata": {},
     "output_type": "execute_result"
    }
   ],
   "source": [
    "img"
   ]
  },
  {
   "cell_type": "markdown",
   "metadata": {},
   "source": [
    "> IDF: lets try some other structure experimentation"
   ]
  },
  {
   "cell_type": "code",
   "execution_count": 29,
   "metadata": {},
   "outputs": [
    {
     "data": {
      "text/html": [
       "<div>\n",
       "<style scoped>\n",
       "    .dataframe tbody tr th:only-of-type {\n",
       "        vertical-align: middle;\n",
       "    }\n",
       "\n",
       "    .dataframe tbody tr th {\n",
       "        vertical-align: top;\n",
       "    }\n",
       "\n",
       "    .dataframe thead th {\n",
       "        text-align: right;\n",
       "    }\n",
       "</style>\n",
       "<table border=\"1\" class=\"dataframe\">\n",
       "  <thead>\n",
       "    <tr style=\"text-align: right;\">\n",
       "      <th></th>\n",
       "      <th>leiden</th>\n",
       "      <th>new</th>\n",
       "    </tr>\n",
       "  </thead>\n",
       "  <tbody>\n",
       "    <tr>\n",
       "      <th>0</th>\n",
       "      <td>0</td>\n",
       "      <td>1</td>\n",
       "    </tr>\n",
       "    <tr>\n",
       "      <th>1</th>\n",
       "      <td>0</td>\n",
       "      <td>1</td>\n",
       "    </tr>\n",
       "    <tr>\n",
       "      <th>2</th>\n",
       "      <td>0</td>\n",
       "      <td>1</td>\n",
       "    </tr>\n",
       "    <tr>\n",
       "      <th>3</th>\n",
       "      <td>1</td>\n",
       "      <td>1</td>\n",
       "    </tr>\n",
       "    <tr>\n",
       "      <th>4</th>\n",
       "      <td>1</td>\n",
       "      <td>1</td>\n",
       "    </tr>\n",
       "    <tr>\n",
       "      <th>5</th>\n",
       "      <td>0</td>\n",
       "      <td>2</td>\n",
       "    </tr>\n",
       "    <tr>\n",
       "      <th>6</th>\n",
       "      <td>0</td>\n",
       "      <td>2</td>\n",
       "    </tr>\n",
       "    <tr>\n",
       "      <th>7</th>\n",
       "      <td>1</td>\n",
       "      <td>2</td>\n",
       "    </tr>\n",
       "    <tr>\n",
       "      <th>8</th>\n",
       "      <td>0</td>\n",
       "      <td>2</td>\n",
       "    </tr>\n",
       "    <tr>\n",
       "      <th>9</th>\n",
       "      <td>0</td>\n",
       "      <td>3</td>\n",
       "    </tr>\n",
       "  </tbody>\n",
       "</table>\n",
       "</div>"
      ],
      "text/plain": [
       "  leiden  new\n",
       "0      0    1\n",
       "1      0    1\n",
       "2      0    1\n",
       "3      1    1\n",
       "4      1    1\n",
       "5      0    2\n",
       "6      0    2\n",
       "7      1    2\n",
       "8      0    2\n",
       "9      0    3"
      ]
     },
     "execution_count": 29,
     "metadata": {},
     "output_type": "execute_result"
    }
   ],
   "source": [
    "adata.obs['new'] = [1, 1, 1, 1, 1, 2, 2, 2, 2, 3]\n",
    "adata.obs"
   ]
  },
  {
   "cell_type": "code",
   "execution_count": 35,
   "metadata": {},
   "outputs": [
    {
     "data": {
      "image/png": "[encoded data removed]",
      "text/plain": [
       "<Figure size 640x480 with 2 Axes>"
      ]
     },
     "metadata": {},
     "output_type": "display_data"
    }
   ],
   "source": [
    "sq.pl.spatial_scatter(adata, color='new', img=False)"
   ]
  }
 ],
 "metadata": {
  "kernelspec": {
   "display_name": "Python 3 (ipykernel)",
   "language": "python",
   "name": "python3"
  },
  "language_info": {
   "codemirror_mode": {
    "name": "ipython",
    "version": 3
   },
   "file_extension": ".py",
   "mimetype": "text/x-python",
   "name": "python",
   "nbconvert_exporter": "python",
   "pygments_lexer": "ipython3",
   "version": "3.8.13"
  }
 },
 "nbformat": 4,
 "nbformat_minor": 1
}
