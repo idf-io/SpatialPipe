{
 "cells": [
  {
   "cell_type": "markdown",
   "metadata": {},
   "source": [
    "# Train linear NCEM"
   ]
  },
  {
   "cell_type": "markdown",
   "metadata": {},
   "source": [
    "#### Hypothesis: NCEM is reliant on cell-type annotation. We hypothesize that annotation accuracy has a great effect on NCEM output\n",
    "\n",
    "Aim: Simulate imperfect cell type annotation by shuffling cell types (in different percentages of cells) to investigate NCEM sensibility towards cell-type annotation"
   ]
  },
  {
   "attachments": {},
   "cell_type": "markdown",
   "metadata": {},
   "source": [
    "Input:\n",
    " - Hartmann raw-data in correct file and directory structure as described in `hartmann_data-preparation.ipynb`\n",
    "\n",
    "Output:\n",
    " - \n",
    "\n"
   ]
  },
  {
   "cell_type": "code",
   "execution_count": 1,
   "metadata": {},
   "outputs": [
    {
     "name": "stderr",
     "output_type": "stream",
     "text": [
      "2023-02-20 00:57:15.141801: I tensorflow/core/platform/cpu_feature_guard.cc:193] This TensorFlow binary is optimized with oneAPI Deep Neural Network Library (oneDNN) to use the following CPU instructions in performance-critical operations:  AVX2 AVX512F AVX512_VNNI FMA\n",
      "To enable them in other operations, rebuild TensorFlow with the appropriate compiler flags.\n",
      "2023-02-20 00:57:15.314067: I tensorflow/core/util/port.cc:104] oneDNN custom operations are on. You may see slightly different numerical results due to floating-point round-off errors from different computation orders. To turn them off, set the environment variable `TF_ENABLE_ONEDNN_OPTS=0`.\n",
      "2023-02-20 00:57:15.879785: W tensorflow/compiler/xla/stream_executor/platform/default/dso_loader.cc:64] Could not load dynamic library 'libnvinfer.so.7'; dlerror: libnvinfer.so.7: cannot open shared object file: No such file or directory\n",
      "2023-02-20 00:57:15.879834: W tensorflow/compiler/xla/stream_executor/platform/default/dso_loader.cc:64] Could not load dynamic library 'libnvinfer_plugin.so.7'; dlerror: libnvinfer_plugin.so.7: cannot open shared object file: No such file or directory\n",
      "2023-02-20 00:57:15.879839: W tensorflow/compiler/tf2tensorrt/utils/py_utils.cc:38] TF-TRT Warning: Cannot dlopen some TensorRT libraries. If you would like to use Nvidia GPU with TensorRT, please make sure the missing libraries mentioned above are installed properly.\n"
     ]
    },
    {
     "name": "stdout",
     "output_type": "stream",
     "text": [
      "sender_receiver_custom module is loaded!\n",
      "0.6394267984578837\n"
     ]
    }
   ],
   "source": [
    "%load_ext autoreload\n",
    "%autoreload 2\n",
    "\n",
    "import ncem\n",
    "import tensorflow as tf\n",
    "\n",
    "import os\n",
    "import numpy as np\n",
    "import pandas as pd\n",
    "from scipy.stats import ttest_rel, ttest_ind\n",
    "from matplotlib import pyplot as plt\n",
    "import seaborn as sns\n",
    "\n",
    "sns.set_palette(\"colorblind\")\n",
    "\n",
    "import helper\n",
    "import pickle\n",
    "import random\n",
    "\n",
    "random.seed(42)\n",
    "print(random.random()) "
   ]
  },
  {
   "attachments": {},
   "cell_type": "markdown",
   "metadata": {},
   "source": [
    "## If errors occur with CUDA"
   ]
  },
  {
   "cell_type": "code",
   "execution_count": 2,
   "metadata": {},
   "outputs": [
    {
     "name": "stderr",
     "output_type": "stream",
     "text": [
      "2023-02-20 00:57:17.854507: I tensorflow/compiler/xla/stream_executor/cuda/cuda_gpu_executor.cc:981] successful NUMA node read from SysFS had negative value (-1), but there must be at least one NUMA node, so returning NUMA node zero\n",
      "2023-02-20 00:57:17.876237: I tensorflow/compiler/xla/stream_executor/cuda/cuda_gpu_executor.cc:981] successful NUMA node read from SysFS had negative value (-1), but there must be at least one NUMA node, so returning NUMA node zero\n",
      "2023-02-20 00:57:17.876399: I tensorflow/compiler/xla/stream_executor/cuda/cuda_gpu_executor.cc:981] successful NUMA node read from SysFS had negative value (-1), but there must be at least one NUMA node, so returning NUMA node zero\n"
     ]
    }
   ],
   "source": [
    "# If `InternalEError: libdevice not found at ./libdevice.10.bc [Op:__inference_one_e_step_2806]`\n",
    "# --> try including in shell $PATH:\n",
    "#        `export XLA_FLAGS=--xla_gpu_cuda_data_dir=/usr/lib/cuda`\n",
    "\n",
    "# If `\"Attempting to perform BLAS operation using StreamExecutor without BLAS support`\n",
    "# --> try setting a dedicated amount of GPU vram:\n",
    "gpus = tf.config.experimental.list_physical_devices('GPU')\n",
    "if gpus:\n",
    "    try:\n",
    "        tf.config.experimental.set_virtual_device_configuration(gpus[0],[tf.config.experimental.VirtualDeviceConfiguration(memory_limit=2000)]) # 1500 [MB]\n",
    "    except RuntimeError as e:\n",
    "        print('ERROR')"
   ]
  },
  {
   "attachments": {},
   "cell_type": "markdown",
   "metadata": {},
   "source": [
    "# Input"
   ]
  },
  {
   "attachments": {},
   "cell_type": "markdown",
   "metadata": {},
   "source": [
    "### Which fractions of cells to shuffle in iteration and how many repetitions per fraction"
   ]
  },
  {
   "cell_type": "code",
   "execution_count": 3,
   "metadata": {},
   "outputs": [],
   "source": [
    "frac_list = [0.001, 0.01, 0.10, 0.50, 1.00]\n",
    "reps = 15"
   ]
  },
  {
   "attachments": {},
   "cell_type": "markdown",
   "metadata": {},
   "source": [
    " ### Paths"
   ]
  },
  {
   "cell_type": "code",
   "execution_count": 4,
   "metadata": {},
   "outputs": [],
   "source": [
    "data_path_base =\"../input-data/raw-data/\"\n",
    "out_path = \"../output-data/Hartmann-2021/\"\n",
    "fn_out_cv = out_path + \"/results/\""
   ]
  },
  {
   "attachments": {},
   "cell_type": "markdown",
   "metadata": {},
   "source": [
    "### Dataset specific inputs"
   ]
  },
  {
   "cell_type": "code",
   "execution_count": 5,
   "metadata": {},
   "outputs": [],
   "source": [
    "data_set = 'hartmann'\n",
    "data_path = data_path_base + '/Hartmann-2021/'\n",
    "log_transform = False # Hartmann DS is already arcsinh transformed\n",
    "use_domain = True\n",
    "scale_node_size=False\n",
    "merge_node_types_predefined = True\n",
    "covar_selection = []\n",
    "output_layer='linear'\n"
   ]
  },
  {
   "attachments": {},
   "cell_type": "markdown",
   "metadata": {},
   "source": [
    "### Manual inputs"
   ]
  },
  {
   "cell_type": "code",
   "execution_count": 6,
   "metadata": {},
   "outputs": [],
   "source": [
    "model_class = 'interactions'\n",
    "optimizer = 'adam'\n",
    "domain_type = 'patient'\n",
    "\n",
    "learning_rate = 0.05\n",
    "l1 = 0.\n",
    "l2 = 0.\n",
    "\n",
    "batch_size = 58\n",
    "radius = 35\n",
    "n_eval_nodes = 10\n",
    "\n",
    "gs_id = f\"tutorial_{model_class}_{radius}_{data_set}_{domain_type}\"\n",
    "\n"
   ]
  },
  {
   "attachments": {},
   "cell_type": "markdown",
   "metadata": {},
   "source": [
    "### Model and training input"
   ]
  },
  {
   "cell_type": "code",
   "execution_count": 7,
   "metadata": {},
   "outputs": [],
   "source": [
    "ncv = 3\n",
    "epochs = 2000 if \"tutorial\" not in gs_id else 10 \n",
    "epochs_warmup = 0\n",
    "max_steps_per_epoch = 20\n",
    "patience = 100\n",
    "lr_schedule_min_lr = 1e-10\n",
    "lr_schedule_factor = 0.5\n",
    "lr_schedule_patience = 50\n",
    "val_bs = 16\n",
    "max_val_steps_per_epoch = 10\n",
    "shuffle_buffer_size = None\n",
    "\n",
    "feature_space_id = \"standard\"\n",
    "cond_feature_space_id = \"type\"\n",
    "\n",
    "use_covar_node_label = False\n",
    "use_covar_node_position = False\n",
    "use_covar_graph_covar = False"
   ]
  },
  {
   "attachments": {},
   "cell_type": "markdown",
   "metadata": {},
   "source": [
    "# Init NCEM stats list"
   ]
  },
  {
   "cell_type": "code",
   "execution_count": 8,
   "metadata": {},
   "outputs": [],
   "source": [
    "ncem_stats = []"
   ]
  },
  {
   "attachments": {},
   "cell_type": "markdown",
   "metadata": {},
   "source": [
    "# Iterable NCEM function"
   ]
  },
  {
   "cell_type": "code",
   "execution_count": 9,
   "metadata": {},
   "outputs": [],
   "source": [
    "def ncem_run(shuffle_frac: float = 0.00, reps: int = 3):\n",
    "\n",
    "    # Init return dict\n",
    "    stats = []\n",
    "\n",
    "\n",
    "    reps_init = reps\n",
    "\n",
    "    while reps > 0:\n",
    "\n",
    "        print(\"\\n-------------------------------------------------------------------------------------------------\\n\")\n",
    "        print(\"                                       REP: \" + str(abs(reps - reps_init)))\n",
    "        print(\"\\n-------------------------------------------------------------------------------------------------\\n\")\n",
    "\n",
    "        if shuffle_frac != 0.00:\n",
    "\n",
    "            # Read csv\n",
    "            new_csv = pd.read_csv(\"../input-data/raw-data/Hartmann-2021/scMEP_MIBI_singlecell/scMEP_MIBI_singlecell.csv\", header=0)\n",
    "\n",
    "            # Shuffle `Cluster` column\n",
    "            new_csv['Cluster'] = helper.shuffle(new_csv, 'Cluster', 'Cluster', frac=shuffle_frac)\n",
    "\n",
    "            # Write new csv file\n",
    "            new_csv.to_csv(\"../input-data/raw-data/Hartmann-2021/scMEP_MIBI_singlecell/scMEP_MIBI_singlecell.csv\", index=False)\n",
    "\n",
    "\n",
    "        # Init trainer\n",
    "        trainer = ncem.train.TrainModelInteractions()\n",
    "        trainer.init_estim(log_transform=log_transform)\n",
    "\n",
    "        # Load data\n",
    "        trainer.estimator.get_data(\n",
    "            data_origin=data_set,\n",
    "            data_path=data_path,\n",
    "            radius=radius,\n",
    "            graph_covar_selection=covar_selection,\n",
    "            node_label_space_id=cond_feature_space_id,\n",
    "            node_feature_space_id=feature_space_id,\n",
    "            # feature_transformation=transformation_dict[transform_key],\n",
    "            use_covar_node_position=use_covar_node_position,\n",
    "            use_covar_node_label=use_covar_node_label,\n",
    "            use_covar_graph_covar=use_covar_graph_covar,\n",
    "            # hold_out_covariate=hold_out_covariate,\n",
    "            domain_type=domain_type,\n",
    "            # merge_node_types_predefined=merge_node_types_predefined,\n",
    "        )\n",
    "\n",
    "        # Define training, validation and testing proportions\n",
    "        trainer.estimator.split_data_node(\n",
    "            validation_split=0.1,\n",
    "            test_split=0.1,\n",
    "            seed=0\n",
    "        )\n",
    "\n",
    "        # Init model\n",
    "        trainer.estimator.init_model(\n",
    "            optimizer=optimizer,\n",
    "            learning_rate=learning_rate,\n",
    "            n_eval_nodes_per_graph=n_eval_nodes,\n",
    "\n",
    "            l2_coef=l2,\n",
    "            l1_coef=l1,\n",
    "            use_interactions=True,\n",
    "            use_domain=use_domain,\n",
    "            scale_node_size=scale_node_size,\n",
    "            output_layer=output_layer,\n",
    "        )\n",
    "\n",
    "        # print(\"\\n-------------------------------- MODEL SUMMARY --------------------------------------------------\\n\")\n",
    "        # trainer.estimator.model.training_model.summary()\n",
    "\n",
    "        # Train\n",
    "        trainer.estimator.train(\n",
    "            epochs=epochs,\n",
    "            epochs_warmup=epochs_warmup,\n",
    "            batch_size=batch_size,\n",
    "            max_steps_per_epoch=max_steps_per_epoch,\n",
    "            validation_batch_size=val_bs,\n",
    "            max_validation_steps=max_val_steps_per_epoch,\n",
    "            patience=patience,\n",
    "            lr_schedule_min_lr=lr_schedule_min_lr,\n",
    "            lr_schedule_factor=lr_schedule_factor,\n",
    "            lr_schedule_patience=lr_schedule_patience,\n",
    "            monitor_partition=\"val\",\n",
    "            monitor_metric=\"loss\",\n",
    "            shuffle_buffer_size=shuffle_buffer_size,\n",
    "            early_stopping=True,\n",
    "            reduce_lr_plateau=True,\n",
    "        )\n",
    "\n",
    "        # Evaluate\n",
    "        evaluation_test = trainer.estimator.evaluate_any(\n",
    "            img_keys=trainer.estimator.img_keys_test,\n",
    "            node_idx=trainer.estimator.nodes_idx_test\n",
    "        )\n",
    "\n",
    "        stats.append(evaluation_test)\n",
    "        stats[-1]['run'] = str(shuffle_frac)\n",
    "\n",
    "        reps -= 1\n",
    "\n",
    "    return stats"
   ]
  },
  {
   "cell_type": "markdown",
   "metadata": {},
   "source": [
    "# Standard NCEM"
   ]
  },
  {
   "cell_type": "code",
   "execution_count": 10,
   "metadata": {},
   "outputs": [
    {
     "name": "stdout",
     "output_type": "stream",
     "text": [
      "\n",
      "-------------------------------------------------------------------------------------------------\n",
      "\n",
      "                                       REP: 0\n",
      "\n",
      "-------------------------------------------------------------------------------------------------\n",
      "\n"
     ]
    },
    {
     "name": "stderr",
     "output_type": "stream",
     "text": [
      "/home/ifichtner/mambaforge/envs/squidpyTF/lib/python3.8/site-packages/tqdm/auto.py:22: TqdmWarning: IProgress not found. Please update jupyter and ipywidgets. See https://ipywidgets.readthedocs.io/en/stable/user_install.html\n",
      "  from .autonotebook import tqdm as notebook_tqdm\n"
     ]
    },
    {
     "name": "stdout",
     "output_type": "stream",
     "text": [
      "Loading data from raw files\n",
      "registering celldata\n"
     ]
    },
    {
     "name": "stderr",
     "output_type": "stream",
     "text": [
      "/home/ifichtner/mambaforge/envs/squidpyTF/lib/python3.8/site-packages/ncem/data.py:2389: FutureWarning: X.dtype being converted to np.float32 from float64. In the next version of anndata (0.9) conversion will not be automatic. Pass dtype explicitly to avoid this warning. Pass `AnnData(X, dtype=X.dtype, ...)` to get the future behavour.\n",
      "  celldata = AnnData(\n",
      "/home/ifichtner/mambaforge/envs/squidpyTF/lib/python3.8/site-packages/anndata/_core/anndata.py:121: ImplicitModificationWarning: Transforming to str index.\n",
      "  warnings.warn(\"Transforming to str index.\", ImplicitModificationWarning)\n"
     ]
    },
    {
     "name": "stdout",
     "output_type": "stream",
     "text": [
      "collecting image-wise celldata\n",
      "adding graph-level covariates\n"
     ]
    },
    {
     "name": "stderr",
     "output_type": "stream",
     "text": [
      "100%|██████████| 58/58 [00:01<00:00, 51.05it/s]\n"
     ]
    },
    {
     "name": "stdout",
     "output_type": "stream",
     "text": [
      "Loaded 58 images with complete data from 4 patients over 63747 cells with 36 cell features and 8 distinct celltypes.\n",
      "Mean of mean node degree per images across images: 4.416036\n",
      "Using split method: node. \n",
      " Train-test-validation split is based on total number of nodes per patients over all images.\n",
      "\n",
      "Excluded 0 cells with the following unannotated cell type: [None] \n",
      "\n",
      "Whole dataset: 63747 cells out of 58 images from 4 patients.\n",
      "Test dataset: 6376 cells out of 58 images from 4 patients.\n",
      "Training dataset: 51930 cells out of 58 images from 4 patients.\n",
      "Validation dataset: 5738 cells out of 58 images from 4 patients. \n",
      "\n"
     ]
    },
    {
     "name": "stderr",
     "output_type": "stream",
     "text": [
      "2023-02-20 00:57:23.232004: I tensorflow/core/platform/cpu_feature_guard.cc:193] This TensorFlow binary is optimized with oneAPI Deep Neural Network Library (oneDNN) to use the following CPU instructions in performance-critical operations:  AVX2 AVX512F AVX512_VNNI FMA\n",
      "To enable them in other operations, rebuild TensorFlow with the appropriate compiler flags.\n",
      "2023-02-20 00:57:23.232765: I tensorflow/compiler/xla/stream_executor/cuda/cuda_gpu_executor.cc:981] successful NUMA node read from SysFS had negative value (-1), but there must be at least one NUMA node, so returning NUMA node zero\n",
      "2023-02-20 00:57:23.232950: I tensorflow/compiler/xla/stream_executor/cuda/cuda_gpu_executor.cc:981] successful NUMA node read from SysFS had negative value (-1), but there must be at least one NUMA node, so returning NUMA node zero\n",
      "2023-02-20 00:57:23.233028: I tensorflow/compiler/xla/stream_executor/cuda/cuda_gpu_executor.cc:981] successful NUMA node read from SysFS had negative value (-1), but there must be at least one NUMA node, so returning NUMA node zero\n",
      "2023-02-20 00:57:23.757535: I tensorflow/compiler/xla/stream_executor/cuda/cuda_gpu_executor.cc:981] successful NUMA node read from SysFS had negative value (-1), but there must be at least one NUMA node, so returning NUMA node zero\n",
      "2023-02-20 00:57:23.757698: I tensorflow/compiler/xla/stream_executor/cuda/cuda_gpu_executor.cc:981] successful NUMA node read from SysFS had negative value (-1), but there must be at least one NUMA node, so returning NUMA node zero\n",
      "2023-02-20 00:57:23.757834: I tensorflow/compiler/xla/stream_executor/cuda/cuda_gpu_executor.cc:981] successful NUMA node read from SysFS had negative value (-1), but there must be at least one NUMA node, so returning NUMA node zero\n",
      "2023-02-20 00:57:23.757988: I tensorflow/core/common_runtime/gpu/gpu_device.cc:1613] Created device /job:localhost/replica:0/task:0/device:GPU:0 with 2000 MB memory:  -> device: 0, name: NVIDIA GeForce RTX 3050 Laptop GPU, pci bus id: 0000:01:00.0, compute capability: 8.6\n"
     ]
    },
    {
     "name": "stdout",
     "output_type": "stream",
     "text": [
      "Epoch 1/10\n",
      "WARNING:tensorflow:From /home/ifichtner/mambaforge/envs/squidpyTF/lib/python3.8/site-packages/tensorflow/python/autograph/pyct/static_analysis/liveness.py:83: Analyzer.lamba_check (from tensorflow.python.autograph.pyct.static_analysis.liveness) is deprecated and will be removed after 2023-09-23.\n",
      "Instructions for updating:\n",
      "Lambda fuctions will be no more assumed to be used in the statement where they are used, or at least in the same block. https://github.com/tensorflow/tensorflow/issues/56089\n"
     ]
    },
    {
     "name": "stderr",
     "output_type": "stream",
     "text": [
      "WARNING:tensorflow:From /home/ifichtner/mambaforge/envs/squidpyTF/lib/python3.8/site-packages/tensorflow/python/autograph/pyct/static_analysis/liveness.py:83: Analyzer.lamba_check (from tensorflow.python.autograph.pyct.static_analysis.liveness) is deprecated and will be removed after 2023-09-23.\n",
      "Instructions for updating:\n",
      "Lambda fuctions will be no more assumed to be used in the statement where they are used, or at least in the same block. https://github.com/tensorflow/tensorflow/issues/56089\n",
      "2023-02-20 00:57:25.509039: I tensorflow/compiler/xla/stream_executor/cuda/cuda_blas.cc:630] TensorFloat-32 will be used for the matrix multiplication. This will only be logged once.\n",
      "2023-02-20 00:57:25.519151: I tensorflow/compiler/xla/service/service.cc:173] XLA service 0x5629b7157f20 initialized for platform CUDA (this does not guarantee that XLA will be used). Devices:\n",
      "2023-02-20 00:57:25.519170: I tensorflow/compiler/xla/service/service.cc:181]   StreamExecutor device (0): NVIDIA GeForce RTX 3050 Laptop GPU, Compute Capability 8.6\n",
      "2023-02-20 00:57:25.523621: I tensorflow/compiler/mlir/tensorflow/utils/dump_mlir_util.cc:268] disabling MLIR crash reproducer, set env var `MLIR_CRASH_REPRODUCER_DIRECTORY` to enable.\n",
      "2023-02-20 00:57:25.641296: I tensorflow/compiler/jit/xla_compilation_cache.cc:477] Compiled cluster using XLA!  This line is logged at most once for the lifetime of the process.\n"
     ]
    },
    {
     "name": "stdout",
     "output_type": "stream",
     "text": [
      "1/1 - 2s - loss: 38.9475 - custom_mae: 0.4687 - custom_mean_sd: 1.0000 - custom_mse: 0.3259 - custom_mse_scaled: 0.3259 - gaussian_reconstruction_loss: 38.9475 - r_squared: -2.9392e+00 - r_squared_linreg: 0.0034 - val_loss: 34.3375 - val_custom_mae: 0.3056 - val_custom_mean_sd: 0.9512 - val_custom_mse: 0.1536 - val_custom_mse_scaled: 0.1698 - val_gaussian_reconstruction_loss: 34.3375 - val_r_squared: -9.2695e-01 - val_r_squared_linreg: 0.0422 - lr: 0.0500 - 2s/epoch - 2s/step\n",
      "Epoch 2/10\n",
      "1/1 - 0s - loss: 34.4949 - custom_mae: 0.3141 - custom_mean_sd: 0.9512 - custom_mse: 0.1615 - custom_mse_scaled: 0.1785 - gaussian_reconstruction_loss: 34.4949 - r_squared: -9.8802e-01 - r_squared_linreg: 0.0413 - val_loss: 31.3313 - val_custom_mae: 0.2245 - val_custom_mean_sd: 0.9051 - val_custom_mse: 0.0838 - val_custom_mse_scaled: 0.1022 - val_gaussian_reconstruction_loss: 31.3313 - val_r_squared: -6.4906e-02 - val_r_squared_linreg: 0.2068 - lr: 0.0500 - 377ms/epoch - 377ms/step\n",
      "Epoch 3/10\n",
      "1/1 - 0s - loss: 31.4194 - custom_mae: 0.2287 - custom_mean_sd: 0.9051 - custom_mse: 0.0878 - custom_mse_scaled: 0.1071 - gaussian_reconstruction_loss: 31.4194 - r_squared: -6.9064e-02 - r_squared_linreg: 0.1980 - val_loss: 29.4264 - val_custom_mae: 0.2100 - val_custom_mean_sd: 0.8611 - val_custom_mse: 0.0712 - val_custom_mse_scaled: 0.0961 - val_gaussian_reconstruction_loss: 29.4263 - val_r_squared: 0.0905 - val_r_squared_linreg: 0.3764 - lr: 0.0500 - 361ms/epoch - 361ms/step\n",
      "Epoch 4/10\n",
      "1/1 - 0s - loss: 29.4357 - custom_mae: 0.2093 - custom_mean_sd: 0.8611 - custom_mse: 0.0716 - custom_mse_scaled: 0.0966 - gaussian_reconstruction_loss: 29.4357 - r_squared: 0.1273 - r_squared_linreg: 0.3604 - val_loss: 27.9968 - val_custom_mae: 0.2177 - val_custom_mean_sd: 0.8191 - val_custom_mse: 0.0783 - val_custom_mse_scaled: 0.1167 - val_gaussian_reconstruction_loss: 27.9968 - val_r_squared: 0.0221 - val_r_squared_linreg: 0.4747 - lr: 0.0500 - 375ms/epoch - 375ms/step\n",
      "Epoch 5/10\n",
      "1/1 - 0s - loss: 27.9686 - custom_mae: 0.2154 - custom_mean_sd: 0.8191 - custom_mse: 0.0772 - custom_mse_scaled: 0.1151 - gaussian_reconstruction_loss: 27.9686 - r_squared: 0.0624 - r_squared_linreg: 0.4980 - val_loss: 26.4449 - val_custom_mae: 0.2150 - val_custom_mean_sd: 0.7790 - val_custom_mse: 0.0794 - val_custom_mse_scaled: 0.1307 - val_gaussian_reconstruction_loss: 26.4449 - val_r_squared: 0.0020 - val_r_squared_linreg: 0.5672 - lr: 0.0500 - 379ms/epoch - 379ms/step\n",
      "Epoch 6/10\n",
      "1/1 - 0s - loss: 26.3422 - custom_mae: 0.2097 - custom_mean_sd: 0.7790 - custom_mse: 0.0759 - custom_mse_scaled: 0.1250 - gaussian_reconstruction_loss: 26.3422 - r_squared: 0.0782 - r_squared_linreg: 0.5652 - val_loss: 24.6537 - val_custom_mae: 0.2036 - val_custom_mean_sd: 0.7409 - val_custom_mse: 0.0723 - val_custom_mse_scaled: 0.1315 - val_gaussian_reconstruction_loss: 24.6537 - val_r_squared: 0.0786 - val_r_squared_linreg: 0.5879 - lr: 0.0500 - 419ms/epoch - 419ms/step\n",
      "Epoch 7/10\n",
      "1/1 - 0s - loss: 24.5417 - custom_mae: 0.1989 - custom_mean_sd: 0.7409 - custom_mse: 0.0688 - custom_mse_scaled: 0.1253 - gaussian_reconstruction_loss: 24.5417 - r_squared: 0.1582 - r_squared_linreg: 0.5924 - val_loss: 22.7056 - val_custom_mae: 0.1861 - val_custom_mean_sd: 0.7047 - val_custom_mse: 0.0615 - val_custom_mse_scaled: 0.1237 - val_gaussian_reconstruction_loss: 22.7056 - val_r_squared: 0.2252 - val_r_squared_linreg: 0.5934 - lr: 0.0500 - 373ms/epoch - 373ms/step\n",
      "Epoch 8/10\n",
      "1/1 - 0s - loss: 22.5019 - custom_mae: 0.1796 - custom_mean_sd: 0.7047 - custom_mse: 0.0559 - custom_mse_scaled: 0.1123 - gaussian_reconstruction_loss: 22.5019 - r_squared: 0.3251 - r_squared_linreg: 0.5995 - val_loss: 20.6581 - val_custom_mae: 0.1685 - val_custom_mean_sd: 0.6701 - val_custom_mse: 0.0497 - val_custom_mse_scaled: 0.1104 - val_gaussian_reconstruction_loss: 20.6581 - val_r_squared: 0.3689 - val_r_squared_linreg: 0.5876 - lr: 0.0500 - 378ms/epoch - 378ms/step\n",
      "Epoch 9/10\n",
      "1/1 - 0s - loss: 20.6096 - custom_mae: 0.1672 - custom_mean_sd: 0.6701 - custom_mse: 0.0484 - custom_mse_scaled: 0.1077 - gaussian_reconstruction_loss: 20.6096 - r_squared: 0.4128 - r_squared_linreg: 0.5917 - val_loss: 18.7064 - val_custom_mae: 0.1543 - val_custom_mean_sd: 0.6372 - val_custom_mse: 0.0417 - val_custom_mse_scaled: 0.1026 - val_gaussian_reconstruction_loss: 18.7064 - val_r_squared: 0.4712 - val_r_squared_linreg: 0.5710 - lr: 0.0500 - 365ms/epoch - 365ms/step\n",
      "Epoch 10/10\n",
      "1/1 - 0s - loss: 18.7743 - custom_mae: 0.1574 - custom_mean_sd: 0.6372 - custom_mse: 0.0432 - custom_mse_scaled: 0.1064 - gaussian_reconstruction_loss: 18.7743 - r_squared: 0.4786 - r_squared_linreg: 0.5738 - val_loss: 16.9747 - val_custom_mae: 0.1506 - val_custom_mean_sd: 0.6059 - val_custom_mse: 0.0393 - val_custom_mse_scaled: 0.1072 - val_gaussian_reconstruction_loss: 16.9747 - val_r_squared: 0.4965 - val_r_squared_linreg: 0.5534 - lr: 0.0500 - 383ms/epoch - 383ms/step\n",
      "\n",
      "-------------------------------------------------------------------------------------------------\n",
      "\n",
      "                                       REP: 1\n",
      "\n",
      "-------------------------------------------------------------------------------------------------\n",
      "\n",
      "Loading data from raw files\n",
      "registering celldata\n"
     ]
    },
    {
     "name": "stderr",
     "output_type": "stream",
     "text": [
      "/home/ifichtner/mambaforge/envs/squidpyTF/lib/python3.8/site-packages/ncem/data.py:2389: FutureWarning: X.dtype being converted to np.float32 from float64. In the next version of anndata (0.9) conversion will not be automatic. Pass dtype explicitly to avoid this warning. Pass `AnnData(X, dtype=X.dtype, ...)` to get the future behavour.\n",
      "  celldata = AnnData(\n",
      "/home/ifichtner/mambaforge/envs/squidpyTF/lib/python3.8/site-packages/anndata/_core/anndata.py:121: ImplicitModificationWarning: Transforming to str index.\n",
      "  warnings.warn(\"Transforming to str index.\", ImplicitModificationWarning)\n"
     ]
    },
    {
     "name": "stdout",
     "output_type": "stream",
     "text": [
      "collecting image-wise celldata\n",
      "adding graph-level covariates\n"
     ]
    },
    {
     "name": "stderr",
     "output_type": "stream",
     "text": [
      "100%|██████████| 58/58 [00:01<00:00, 52.97it/s]\n"
     ]
    },
    {
     "name": "stdout",
     "output_type": "stream",
     "text": [
      "Loaded 58 images with complete data from 4 patients over 63747 cells with 36 cell features and 8 distinct celltypes.\n",
      "Mean of mean node degree per images across images: 4.416036\n",
      "Using split method: node. \n",
      " Train-test-validation split is based on total number of nodes per patients over all images.\n",
      "\n",
      "Excluded 0 cells with the following unannotated cell type: [None] \n",
      "\n",
      "Whole dataset: 63747 cells out of 58 images from 4 patients.\n",
      "Test dataset: 6376 cells out of 58 images from 4 patients.\n",
      "Training dataset: 51930 cells out of 58 images from 4 patients.\n",
      "Validation dataset: 5738 cells out of 58 images from 4 patients. \n",
      "\n",
      "Epoch 1/10\n",
      "1/1 - 2s - loss: 37.9111 - custom_mae: 0.4269 - custom_mean_sd: 1.0000 - custom_mse: 0.2683 - custom_mse_scaled: 0.2683 - gaussian_reconstruction_loss: 37.9111 - r_squared: -2.2432e+00 - r_squared_linreg: 0.0078 - val_loss: 33.7061 - val_custom_mae: 0.2761 - val_custom_mean_sd: 0.9512 - val_custom_mse: 0.1219 - val_custom_mse_scaled: 0.1347 - val_gaussian_reconstruction_loss: 33.7061 - val_r_squared: -5.4452e-01 - val_r_squared_linreg: 0.1039 - lr: 0.0500 - 2s/epoch - 2s/step\n",
      "Epoch 2/10\n",
      "1/1 - 0s - loss: 33.8044 - custom_mae: 0.2826 - custom_mean_sd: 0.9512 - custom_mse: 0.1268 - custom_mse_scaled: 0.1401 - gaussian_reconstruction_loss: 33.8044 - r_squared: -5.6083e-01 - r_squared_linreg: 0.1044 - val_loss: 31.1042 - val_custom_mae: 0.2129 - val_custom_mean_sd: 0.9049 - val_custom_mse: 0.0737 - val_custom_mse_scaled: 0.0901 - val_gaussian_reconstruction_loss: 31.1042 - val_r_squared: 0.0705 - val_r_squared_linreg: 0.2912 - lr: 0.0500 - 395ms/epoch - 395ms/step\n",
      "Epoch 3/10\n",
      "1/1 - 0s - loss: 31.1089 - custom_mae: 0.2142 - custom_mean_sd: 0.9049 - custom_mse: 0.0740 - custom_mse_scaled: 0.0903 - gaussian_reconstruction_loss: 31.1089 - r_squared: 0.0976 - r_squared_linreg: 0.2950 - val_loss: 29.3859 - val_custom_mae: 0.2066 - val_custom_mean_sd: 0.8607 - val_custom_mse: 0.0702 - val_custom_mse_scaled: 0.0947 - val_gaussian_reconstruction_loss: 29.3859 - val_r_squared: 0.1110 - val_r_squared_linreg: 0.4353 - lr: 0.0500 - 378ms/epoch - 378ms/step\n",
      "Epoch 4/10\n",
      "1/1 - 0s - loss: 29.3313 - custom_mae: 0.2030 - custom_mean_sd: 0.8607 - custom_mse: 0.0679 - custom_mse_scaled: 0.0917 - gaussian_reconstruction_loss: 29.3313 - r_squared: 0.1749 - r_squared_linreg: 0.4511 - val_loss: 27.8081 - val_custom_mae: 0.2081 - val_custom_mean_sd: 0.8186 - val_custom_mse: 0.0719 - val_custom_mse_scaled: 0.1074 - val_gaussian_reconstruction_loss: 27.8081 - val_r_squared: 0.0866 - val_r_squared_linreg: 0.5303 - lr: 0.0500 - 369ms/epoch - 369ms/step\n",
      "Epoch 5/10\n",
      "1/1 - 0s - loss: 27.7886 - custom_mae: 0.2066 - custom_mean_sd: 0.8186 - custom_mse: 0.0712 - custom_mse_scaled: 0.1063 - gaussian_reconstruction_loss: 27.7886 - r_squared: 0.1347 - r_squared_linreg: 0.5398 - val_loss: 26.2200 - val_custom_mae: 0.2091 - val_custom_mean_sd: 0.7785 - val_custom_mse: 0.0725 - val_custom_mse_scaled: 0.1195 - val_gaussian_reconstruction_loss: 26.2200 - val_r_squared: 0.0882 - val_r_squared_linreg: 0.5879 - lr: 0.0500 - 387ms/epoch - 387ms/step\n",
      "Epoch 6/10\n",
      "1/1 - 0s - loss: 26.1135 - custom_mae: 0.2023 - custom_mean_sd: 0.7785 - custom_mse: 0.0689 - custom_mse_scaled: 0.1136 - gaussian_reconstruction_loss: 26.1135 - r_squared: 0.1692 - r_squared_linreg: 0.5752 - val_loss: 24.3208 - val_custom_mae: 0.1918 - val_custom_mean_sd: 0.7404 - val_custom_mse: 0.0627 - val_custom_mse_scaled: 0.1144 - val_gaussian_reconstruction_loss: 24.3208 - val_r_squared: 0.2008 - val_r_squared_linreg: 0.5918 - lr: 0.0500 - 382ms/epoch - 382ms/step\n",
      "Epoch 7/10\n",
      "1/1 - 0s - loss: 24.3147 - custom_mae: 0.1918 - custom_mean_sd: 0.7404 - custom_mse: 0.0626 - custom_mse_scaled: 0.1141 - gaussian_reconstruction_loss: 24.3147 - r_squared: 0.2378 - r_squared_linreg: 0.5850 - val_loss: 22.3241 - val_custom_mae: 0.1717 - val_custom_mean_sd: 0.7041 - val_custom_mse: 0.0515 - val_custom_mse_scaled: 0.1039 - val_gaussian_reconstruction_loss: 22.3241 - val_r_squared: 0.3453 - val_r_squared_linreg: 0.5710 - lr: 0.0500 - 377ms/epoch - 377ms/step\n",
      "Epoch 8/10\n",
      "1/1 - 0s - loss: 22.2880 - custom_mae: 0.1700 - custom_mean_sd: 0.7041 - custom_mse: 0.0505 - custom_mse_scaled: 0.1019 - gaussian_reconstruction_loss: 22.2880 - r_squared: 0.3894 - r_squared_linreg: 0.5754 - val_loss: 20.3747 - val_custom_mae: 0.1576 - val_custom_mean_sd: 0.6696 - val_custom_mse: 0.0431 - val_custom_mse_scaled: 0.0962 - val_gaussian_reconstruction_loss: 20.3747 - val_r_squared: 0.4554 - val_r_squared_linreg: 0.5635 - lr: 0.0500 - 373ms/epoch - 373ms/step\n",
      "Epoch 9/10\n",
      "1/1 - 0s - loss: 20.3453 - custom_mae: 0.1572 - custom_mean_sd: 0.6696 - custom_mse: 0.0424 - custom_mse_scaled: 0.0945 - gaussian_reconstruction_loss: 20.3453 - r_squared: 0.4865 - r_squared_linreg: 0.5736 - val_loss: 18.5871 - val_custom_mae: 0.1515 - val_custom_mean_sd: 0.6368 - val_custom_mse: 0.0395 - val_custom_mse_scaled: 0.0974 - val_gaussian_reconstruction_loss: 18.5871 - val_r_squared: 0.4964 - val_r_squared_linreg: 0.5547 - lr: 0.0500 - 382ms/epoch - 382ms/step\n",
      "Epoch 10/10\n",
      "1/1 - 0s - loss: 18.6591 - custom_mae: 0.1550 - custom_mean_sd: 0.6368 - custom_mse: 0.0411 - custom_mse_scaled: 0.1014 - gaussian_reconstruction_loss: 18.6591 - r_squared: 0.5017 - r_squared_linreg: 0.5579 - val_loss: 16.8311 - val_custom_mae: 0.1473 - val_custom_mean_sd: 0.6055 - val_custom_mse: 0.0368 - val_custom_mse_scaled: 0.1005 - val_gaussian_reconstruction_loss: 16.8311 - val_r_squared: 0.5249 - val_r_squared_linreg: 0.5591 - lr: 0.0500 - 403ms/epoch - 403ms/step\n",
      "\n",
      "-------------------------------------------------------------------------------------------------\n",
      "\n",
      "                                       REP: 2\n",
      "\n",
      "-------------------------------------------------------------------------------------------------\n",
      "\n",
      "Loading data from raw files\n",
      "registering celldata\n"
     ]
    },
    {
     "name": "stderr",
     "output_type": "stream",
     "text": [
      "/home/ifichtner/mambaforge/envs/squidpyTF/lib/python3.8/site-packages/ncem/data.py:2389: FutureWarning: X.dtype being converted to np.float32 from float64. In the next version of anndata (0.9) conversion will not be automatic. Pass dtype explicitly to avoid this warning. Pass `AnnData(X, dtype=X.dtype, ...)` to get the future behavour.\n",
      "  celldata = AnnData(\n",
      "/home/ifichtner/mambaforge/envs/squidpyTF/lib/python3.8/site-packages/anndata/_core/anndata.py:121: ImplicitModificationWarning: Transforming to str index.\n",
      "  warnings.warn(\"Transforming to str index.\", ImplicitModificationWarning)\n"
     ]
    },
    {
     "name": "stdout",
     "output_type": "stream",
     "text": [
      "collecting image-wise celldata\n",
      "adding graph-level covariates\n"
     ]
    },
    {
     "name": "stderr",
     "output_type": "stream",
     "text": [
      "100%|██████████| 58/58 [00:01<00:00, 51.54it/s]\n"
     ]
    },
    {
     "name": "stdout",
     "output_type": "stream",
     "text": [
      "Loaded 58 images with complete data from 4 patients over 63747 cells with 36 cell features and 8 distinct celltypes.\n",
      "Mean of mean node degree per images across images: 4.416036\n",
      "Using split method: node. \n",
      " Train-test-validation split is based on total number of nodes per patients over all images.\n",
      "\n",
      "Excluded 0 cells with the following unannotated cell type: [None] \n",
      "\n",
      "Whole dataset: 63747 cells out of 58 images from 4 patients.\n",
      "Test dataset: 6376 cells out of 58 images from 4 patients.\n",
      "Training dataset: 51930 cells out of 58 images from 4 patients.\n",
      "Validation dataset: 5738 cells out of 58 images from 4 patients. \n",
      "\n",
      "Epoch 1/10\n",
      "1/1 - 1s - loss: 38.6260 - custom_mae: 0.4533 - custom_mean_sd: 1.0000 - custom_mse: 0.3080 - custom_mse_scaled: 0.3080 - gaussian_reconstruction_loss: 38.6260 - r_squared: -2.7233e+00 - r_squared_linreg: 0.0076 - val_loss: 34.2241 - val_custom_mae: 0.3003 - val_custom_mean_sd: 0.9512 - val_custom_mse: 0.1479 - val_custom_mse_scaled: 0.1635 - val_gaussian_reconstruction_loss: 34.2241 - val_r_squared: -8.7603e-01 - val_r_squared_linreg: 0.0389 - lr: 0.0500 - 1s/epoch - 1s/step\n",
      "Epoch 2/10\n",
      "1/1 - 0s - loss: 34.2989 - custom_mae: 0.3059 - custom_mean_sd: 0.9512 - custom_mse: 0.1517 - custom_mse_scaled: 0.1676 - gaussian_reconstruction_loss: 34.2989 - r_squared: -8.6675e-01 - r_squared_linreg: 0.0471 - val_loss: 31.3506 - val_custom_mae: 0.2268 - val_custom_mean_sd: 0.9052 - val_custom_mse: 0.0845 - val_custom_mse_scaled: 0.1030 - val_gaussian_reconstruction_loss: 31.3506 - val_r_squared: -7.1853e-02 - val_r_squared_linreg: 0.2085 - lr: 0.0500 - 393ms/epoch - 393ms/step\n",
      "Epoch 3/10\n",
      "1/1 - 0s - loss: 31.3876 - custom_mae: 0.2283 - custom_mean_sd: 0.9052 - custom_mse: 0.0862 - custom_mse_scaled: 0.1051 - gaussian_reconstruction_loss: 31.3876 - r_squared: -4.9943e-02 - r_squared_linreg: 0.2152 - val_loss: 29.4442 - val_custom_mae: 0.2091 - val_custom_mean_sd: 0.8613 - val_custom_mse: 0.0717 - val_custom_mse_scaled: 0.0967 - val_gaussian_reconstruction_loss: 29.4442 - val_r_squared: 0.0910 - val_r_squared_linreg: 0.3846 - lr: 0.0500 - 376ms/epoch - 376ms/step\n",
      "Epoch 4/10\n",
      "1/1 - 0s - loss: 29.4233 - custom_mae: 0.2073 - custom_mean_sd: 0.8613 - custom_mse: 0.0709 - custom_mse_scaled: 0.0955 - gaussian_reconstruction_loss: 29.4233 - r_squared: 0.1362 - r_squared_linreg: 0.3979 - val_loss: 27.9161 - val_custom_mae: 0.2122 - val_custom_mean_sd: 0.8193 - val_custom_mse: 0.0750 - val_custom_mse_scaled: 0.1117 - val_gaussian_reconstruction_loss: 27.9161 - val_r_squared: 0.0429 - val_r_squared_linreg: 0.5023 - lr: 0.0500 - 397ms/epoch - 397ms/step\n",
      "Epoch 5/10\n",
      "1/1 - 0s - loss: 28.0511 - custom_mae: 0.2174 - custom_mean_sd: 0.8193 - custom_mse: 0.0800 - custom_mse_scaled: 0.1192 - gaussian_reconstruction_loss: 28.0511 - r_squared: 0.0302 - r_squared_linreg: 0.4988 - val_loss: 26.3165 - val_custom_mae: 0.2097 - val_custom_mean_sd: 0.7793 - val_custom_mse: 0.0747 - val_custom_mse_scaled: 0.1229 - val_gaussian_reconstruction_loss: 26.3165 - val_r_squared: 0.0678 - val_r_squared_linreg: 0.5578 - lr: 0.0500 - 392ms/epoch - 392ms/step\n",
      "Epoch 6/10\n",
      "1/1 - 0s - loss: 26.2389 - custom_mae: 0.2066 - custom_mean_sd: 0.7793 - custom_mse: 0.0721 - custom_mse_scaled: 0.1186 - gaussian_reconstruction_loss: 26.2389 - r_squared: 0.1258 - r_squared_linreg: 0.5558 - val_loss: 24.4284 - val_custom_mae: 0.1938 - val_custom_mean_sd: 0.7412 - val_custom_mse: 0.0651 - val_custom_mse_scaled: 0.1183 - val_gaussian_reconstruction_loss: 24.4284 - val_r_squared: 0.1649 - val_r_squared_linreg: 0.5863 - lr: 0.0500 - 394ms/epoch - 394ms/step\n",
      "Epoch 7/10\n",
      "1/1 - 0s - loss: 24.4047 - custom_mae: 0.1924 - custom_mean_sd: 0.7412 - custom_mse: 0.0644 - custom_mse_scaled: 0.1170 - gaussian_reconstruction_loss: 24.4047 - r_squared: 0.2197 - r_squared_linreg: 0.5865 - val_loss: 22.5173 - val_custom_mae: 0.1780 - val_custom_mean_sd: 0.7049 - val_custom_mse: 0.0561 - val_custom_mse_scaled: 0.1125 - val_gaussian_reconstruction_loss: 22.5174 - val_r_squared: 0.2844 - val_r_squared_linreg: 0.5866 - lr: 0.0500 - 408ms/epoch - 408ms/step\n",
      "Epoch 8/10\n",
      "1/1 - 0s - loss: 22.5001 - custom_mae: 0.1760 - custom_mean_sd: 0.7049 - custom_mse: 0.0556 - custom_mse_scaled: 0.1115 - gaussian_reconstruction_loss: 22.5001 - r_squared: 0.3257 - r_squared_linreg: 0.5809 - val_loss: 20.6514 - val_custom_mae: 0.1643 - val_custom_mean_sd: 0.6704 - val_custom_mse: 0.0493 - val_custom_mse_scaled: 0.1093 - val_gaussian_reconstruction_loss: 20.6514 - val_r_squared: 0.3771 - val_r_squared_linreg: 0.5555 - lr: 0.0500 - 393ms/epoch - 393ms/step\n",
      "Epoch 9/10\n",
      "1/1 - 0s - loss: 20.5594 - custom_mae: 0.1622 - custom_mean_sd: 0.6704 - custom_mse: 0.0470 - custom_mse_scaled: 0.1042 - gaussian_reconstruction_loss: 20.5594 - r_squared: 0.4322 - r_squared_linreg: 0.5720 - val_loss: 18.8119 - val_custom_mae: 0.1571 - val_custom_mean_sd: 0.6375 - val_custom_mse: 0.0439 - val_custom_mse_scaled: 0.1076 - val_gaussian_reconstruction_loss: 18.8119 - val_r_squared: 0.4398 - val_r_squared_linreg: 0.5481 - lr: 0.0500 - 393ms/epoch - 393ms/step\n",
      "Epoch 10/10\n",
      "1/1 - 0s - loss: 18.7705 - custom_mae: 0.1568 - custom_mean_sd: 0.6375 - custom_mse: 0.0429 - custom_mse_scaled: 0.1053 - gaussian_reconstruction_loss: 18.7705 - r_squared: 0.4819 - r_squared_linreg: 0.5626 - val_loss: 16.9381 - val_custom_mae: 0.1499 - val_custom_mean_sd: 0.6062 - val_custom_mse: 0.0383 - val_custom_mse_scaled: 0.1042 - val_gaussian_reconstruction_loss: 16.9381 - val_r_squared: 0.5090 - val_r_squared_linreg: 0.5595 - lr: 0.0500 - 387ms/epoch - 387ms/step\n",
      "\n",
      "-------------------------------------------------------------------------------------------------\n",
      "\n",
      "                                       REP: 3\n",
      "\n",
      "-------------------------------------------------------------------------------------------------\n",
      "\n",
      "Loading data from raw files\n",
      "registering celldata\n"
     ]
    },
    {
     "name": "stderr",
     "output_type": "stream",
     "text": [
      "/home/ifichtner/mambaforge/envs/squidpyTF/lib/python3.8/site-packages/ncem/data.py:2389: FutureWarning: X.dtype being converted to np.float32 from float64. In the next version of anndata (0.9) conversion will not be automatic. Pass dtype explicitly to avoid this warning. Pass `AnnData(X, dtype=X.dtype, ...)` to get the future behavour.\n",
      "  celldata = AnnData(\n",
      "/home/ifichtner/mambaforge/envs/squidpyTF/lib/python3.8/site-packages/anndata/_core/anndata.py:121: ImplicitModificationWarning: Transforming to str index.\n",
      "  warnings.warn(\"Transforming to str index.\", ImplicitModificationWarning)\n"
     ]
    },
    {
     "name": "stdout",
     "output_type": "stream",
     "text": [
      "collecting image-wise celldata\n",
      "adding graph-level covariates\n"
     ]
    },
    {
     "name": "stderr",
     "output_type": "stream",
     "text": [
      "100%|██████████| 58/58 [00:01<00:00, 54.75it/s]\n"
     ]
    },
    {
     "name": "stdout",
     "output_type": "stream",
     "text": [
      "Loaded 58 images with complete data from 4 patients over 63747 cells with 36 cell features and 8 distinct celltypes.\n",
      "Mean of mean node degree per images across images: 4.416036\n",
      "Using split method: node. \n",
      " Train-test-validation split is based on total number of nodes per patients over all images.\n",
      "\n",
      "Excluded 0 cells with the following unannotated cell type: [None] \n",
      "\n",
      "Whole dataset: 63747 cells out of 58 images from 4 patients.\n",
      "Test dataset: 6376 cells out of 58 images from 4 patients.\n",
      "Training dataset: 51930 cells out of 58 images from 4 patients.\n",
      "Validation dataset: 5738 cells out of 58 images from 4 patients. \n",
      "\n",
      "Epoch 1/10\n",
      "1/1 - 1s - loss: 37.9591 - custom_mae: 0.4279 - custom_mean_sd: 1.0000 - custom_mse: 0.2710 - custom_mse_scaled: 0.2710 - gaussian_reconstruction_loss: 37.9591 - r_squared: -2.2755e+00 - r_squared_linreg: 0.0032 - val_loss: 33.7829 - val_custom_mae: 0.2774 - val_custom_mean_sd: 0.9512 - val_custom_mse: 0.1257 - val_custom_mse_scaled: 0.1390 - val_gaussian_reconstruction_loss: 33.7829 - val_r_squared: -5.6879e-01 - val_r_squared_linreg: 0.0872 - lr: 0.0500 - 1s/epoch - 1s/step\n",
      "Epoch 2/10\n",
      "1/1 - 0s - loss: 33.8804 - custom_mae: 0.2844 - custom_mean_sd: 0.9512 - custom_mse: 0.1306 - custom_mse_scaled: 0.1444 - gaussian_reconstruction_loss: 33.8804 - r_squared: -6.0782e-01 - r_squared_linreg: 0.0836 - val_loss: 31.1463 - val_custom_mae: 0.2160 - val_custom_mean_sd: 0.9049 - val_custom_mse: 0.0756 - val_custom_mse_scaled: 0.0923 - val_gaussian_reconstruction_loss: 31.1463 - val_r_squared: 0.0542 - val_r_squared_linreg: 0.2595 - lr: 0.0500 - 347ms/epoch - 347ms/step\n",
      "Epoch 3/10\n",
      "1/1 - 0s - loss: 31.1142 - custom_mae: 0.2133 - custom_mean_sd: 0.9049 - custom_mse: 0.0741 - custom_mse_scaled: 0.0905 - gaussian_reconstruction_loss: 31.1142 - r_squared: 0.0974 - r_squared_linreg: 0.2778 - val_loss: 29.3202 - val_custom_mae: 0.2047 - val_custom_mean_sd: 0.8608 - val_custom_mse: 0.0673 - val_custom_mse_scaled: 0.0908 - val_gaussian_reconstruction_loss: 29.3202 - val_r_squared: 0.1477 - val_r_squared_linreg: 0.4271 - lr: 0.0500 - 347ms/epoch - 347ms/step\n",
      "Epoch 4/10\n",
      "1/1 - 0s - loss: 29.2906 - custom_mae: 0.2020 - custom_mean_sd: 0.8608 - custom_mse: 0.0661 - custom_mse_scaled: 0.0892 - gaussian_reconstruction_loss: 29.2906 - r_squared: 0.1989 - r_squared_linreg: 0.4309 - val_loss: 27.7780 - val_custom_mae: 0.2072 - val_custom_mean_sd: 0.8187 - val_custom_mse: 0.0706 - val_custom_mse_scaled: 0.1053 - val_gaussian_reconstruction_loss: 27.7780 - val_r_squared: 0.1104 - val_r_squared_linreg: 0.5284 - lr: 0.0500 - 324ms/epoch - 324ms/step\n",
      "Epoch 5/10\n",
      "1/1 - 0s - loss: 27.8492 - custom_mae: 0.2117 - custom_mean_sd: 0.8187 - custom_mse: 0.0733 - custom_mse_scaled: 0.1093 - gaussian_reconstruction_loss: 27.8492 - r_squared: 0.1069 - r_squared_linreg: 0.5267 - val_loss: 26.1121 - val_custom_mae: 0.2022 - val_custom_mean_sd: 0.7787 - val_custom_mse: 0.0686 - val_custom_mse_scaled: 0.1131 - val_gaussian_reconstruction_loss: 26.1121 - val_r_squared: 0.1333 - val_r_squared_linreg: 0.5983 - lr: 0.0500 - 344ms/epoch - 344ms/step\n",
      "Epoch 6/10\n",
      "1/1 - 0s - loss: 25.9789 - custom_mae: 0.1948 - custom_mean_sd: 0.7787 - custom_mse: 0.0641 - custom_mse_scaled: 0.1057 - gaussian_reconstruction_loss: 25.9789 - r_squared: 0.2274 - r_squared_linreg: 0.5950 - val_loss: 24.3121 - val_custom_mae: 0.1896 - val_custom_mean_sd: 0.7406 - val_custom_mse: 0.0623 - val_custom_mse_scaled: 0.1135 - val_gaussian_reconstruction_loss: 24.3121 - val_r_squared: 0.2190 - val_r_squared_linreg: 0.6013 - lr: 0.0500 - 343ms/epoch - 343ms/step\n",
      "Epoch 7/10\n",
      "1/1 - 0s - loss: 24.3535 - custom_mae: 0.1917 - custom_mean_sd: 0.7406 - custom_mse: 0.0635 - custom_mse_scaled: 0.1157 - gaussian_reconstruction_loss: 24.3535 - r_squared: 0.2324 - r_squared_linreg: 0.5947 - val_loss: 22.3283 - val_custom_mae: 0.1713 - val_custom_mean_sd: 0.7043 - val_custom_mse: 0.0514 - val_custom_mse_scaled: 0.1036 - val_gaussian_reconstruction_loss: 22.3283 - val_r_squared: 0.3556 - val_r_squared_linreg: 0.5868 - lr: 0.0500 - 321ms/epoch - 321ms/step\n",
      "Epoch 8/10\n",
      "1/1 - 0s - loss: 22.3892 - custom_mae: 0.1737 - custom_mean_sd: 0.7043 - custom_mse: 0.0531 - custom_mse_scaled: 0.1070 - gaussian_reconstruction_loss: 22.3892 - r_squared: 0.3536 - r_squared_linreg: 0.5820 - val_loss: 20.4770 - val_custom_mae: 0.1608 - val_custom_mean_sd: 0.6698 - val_custom_mse: 0.0454 - val_custom_mse_scaled: 0.1012 - val_gaussian_reconstruction_loss: 20.4770 - val_r_squared: 0.4267 - val_r_squared_linreg: 0.5665 - lr: 0.0500 - 355ms/epoch - 355ms/step\n",
      "Epoch 9/10\n",
      "1/1 - 0s - loss: 20.4309 - custom_mae: 0.1589 - custom_mean_sd: 0.6698 - custom_mse: 0.0443 - custom_mse_scaled: 0.0986 - gaussian_reconstruction_loss: 20.4309 - r_squared: 0.4550 - r_squared_linreg: 0.5776 - val_loss: 18.6203 - val_custom_mae: 0.1514 - val_custom_mean_sd: 0.6370 - val_custom_mse: 0.0400 - val_custom_mse_scaled: 0.0986 - val_gaussian_reconstruction_loss: 18.6203 - val_r_squared: 0.4952 - val_r_squared_linreg: 0.5640 - lr: 0.0500 - 358ms/epoch - 358ms/step\n",
      "Epoch 10/10\n",
      "1/1 - 0s - loss: 18.6084 - custom_mae: 0.1520 - custom_mean_sd: 0.6370 - custom_mse: 0.0397 - custom_mse_scaled: 0.0979 - gaussian_reconstruction_loss: 18.6084 - r_squared: 0.5171 - r_squared_linreg: 0.5747 - val_loss: 16.8811 - val_custom_mae: 0.1481 - val_custom_mean_sd: 0.6058 - val_custom_mse: 0.0376 - val_custom_mse_scaled: 0.1025 - val_gaussian_reconstruction_loss: 16.8811 - val_r_squared: 0.5236 - val_r_squared_linreg: 0.5630 - lr: 0.0500 - 339ms/epoch - 339ms/step\n",
      "\n",
      "-------------------------------------------------------------------------------------------------\n",
      "\n",
      "                                       REP: 4\n",
      "\n",
      "-------------------------------------------------------------------------------------------------\n",
      "\n",
      "Loading data from raw files\n",
      "registering celldata\n"
     ]
    },
    {
     "name": "stderr",
     "output_type": "stream",
     "text": [
      "/home/ifichtner/mambaforge/envs/squidpyTF/lib/python3.8/site-packages/ncem/data.py:2389: FutureWarning: X.dtype being converted to np.float32 from float64. In the next version of anndata (0.9) conversion will not be automatic. Pass dtype explicitly to avoid this warning. Pass `AnnData(X, dtype=X.dtype, ...)` to get the future behavour.\n",
      "  celldata = AnnData(\n",
      "/home/ifichtner/mambaforge/envs/squidpyTF/lib/python3.8/site-packages/anndata/_core/anndata.py:121: ImplicitModificationWarning: Transforming to str index.\n",
      "  warnings.warn(\"Transforming to str index.\", ImplicitModificationWarning)\n"
     ]
    },
    {
     "name": "stdout",
     "output_type": "stream",
     "text": [
      "collecting image-wise celldata\n",
      "adding graph-level covariates\n"
     ]
    },
    {
     "name": "stderr",
     "output_type": "stream",
     "text": [
      "100%|██████████| 58/58 [00:01<00:00, 55.40it/s]\n"
     ]
    },
    {
     "name": "stdout",
     "output_type": "stream",
     "text": [
      "Loaded 58 images with complete data from 4 patients over 63747 cells with 36 cell features and 8 distinct celltypes.\n",
      "Mean of mean node degree per images across images: 4.416036\n",
      "Using split method: node. \n",
      " Train-test-validation split is based on total number of nodes per patients over all images.\n",
      "\n",
      "Excluded 0 cells with the following unannotated cell type: [None] \n",
      "\n",
      "Whole dataset: 63747 cells out of 58 images from 4 patients.\n",
      "Test dataset: 6376 cells out of 58 images from 4 patients.\n",
      "Training dataset: 51930 cells out of 58 images from 4 patients.\n",
      "Validation dataset: 5738 cells out of 58 images from 4 patients. \n",
      "\n",
      "Epoch 1/10\n",
      "1/1 - 1s - loss: 38.3712 - custom_mae: 0.4471 - custom_mean_sd: 1.0000 - custom_mse: 0.2939 - custom_mse_scaled: 0.2939 - gaussian_reconstruction_loss: 38.3712 - r_squared: -2.5522e+00 - r_squared_linreg: 0.0065 - val_loss: 33.9782 - val_custom_mae: 0.2891 - val_custom_mean_sd: 0.9512 - val_custom_mse: 0.1355 - val_custom_mse_scaled: 0.1498 - val_gaussian_reconstruction_loss: 33.9782 - val_r_squared: -7.3283e-01 - val_r_squared_linreg: 0.0715 - lr: 0.0500 - 1s/epoch - 1s/step\n",
      "Epoch 2/10\n",
      "1/1 - 0s - loss: 34.0951 - custom_mae: 0.2948 - custom_mean_sd: 0.9512 - custom_mse: 0.1414 - custom_mse_scaled: 0.1563 - gaussian_reconstruction_loss: 34.0951 - r_squared: -7.4068e-01 - r_squared_linreg: 0.0754 - val_loss: 31.1805 - val_custom_mae: 0.2167 - val_custom_mean_sd: 0.9050 - val_custom_mse: 0.0770 - val_custom_mse_scaled: 0.0940 - val_gaussian_reconstruction_loss: 31.1805 - val_r_squared: 0.0292 - val_r_squared_linreg: 0.2423 - lr: 0.0500 - 387ms/epoch - 387ms/step\n",
      "Epoch 3/10\n",
      "1/1 - 0s - loss: 31.1882 - custom_mae: 0.2159 - custom_mean_sd: 0.9050 - custom_mse: 0.0774 - custom_mse_scaled: 0.0944 - gaussian_reconstruction_loss: 31.1882 - r_squared: 0.0547 - r_squared_linreg: 0.2533 - val_loss: 29.3876 - val_custom_mae: 0.2063 - val_custom_mean_sd: 0.8609 - val_custom_mse: 0.0699 - val_custom_mse_scaled: 0.0942 - val_gaussian_reconstruction_loss: 29.3876 - val_r_squared: 0.1133 - val_r_squared_linreg: 0.4134 - lr: 0.0500 - 338ms/epoch - 338ms/step\n",
      "Epoch 4/10\n",
      "1/1 - 0s - loss: 29.3468 - custom_mae: 0.2037 - custom_mean_sd: 0.8609 - custom_mse: 0.0682 - custom_mse_scaled: 0.0920 - gaussian_reconstruction_loss: 29.3468 - r_squared: 0.1723 - r_squared_linreg: 0.4203 - val_loss: 27.9546 - val_custom_mae: 0.2153 - val_custom_mean_sd: 0.8189 - val_custom_mse: 0.0770 - val_custom_mse_scaled: 0.1147 - val_gaussian_reconstruction_loss: 27.9546 - val_r_squared: 0.0130 - val_r_squared_linreg: 0.5047 - lr: 0.0500 - 372ms/epoch - 372ms/step\n",
      "Epoch 5/10\n",
      "1/1 - 0s - loss: 27.8786 - custom_mae: 0.2121 - custom_mean_sd: 0.8189 - custom_mse: 0.0741 - custom_mse_scaled: 0.1105 - gaussian_reconstruction_loss: 27.8786 - r_squared: 0.0955 - r_squared_linreg: 0.5207 - val_loss: 26.3152 - val_custom_mae: 0.2127 - val_custom_mean_sd: 0.7789 - val_custom_mse: 0.0752 - val_custom_mse_scaled: 0.1239 - val_gaussian_reconstruction_loss: 26.3152 - val_r_squared: 0.0536 - val_r_squared_linreg: 0.5555 - lr: 0.0500 - 347ms/epoch - 347ms/step\n",
      "Epoch 6/10\n",
      "1/1 - 0s - loss: 26.1539 - custom_mae: 0.2045 - custom_mean_sd: 0.7789 - custom_mse: 0.0698 - custom_mse_scaled: 0.1150 - gaussian_reconstruction_loss: 26.1539 - r_squared: 0.1528 - r_squared_linreg: 0.5754 - val_loss: 24.3771 - val_custom_mae: 0.1927 - val_custom_mean_sd: 0.7407 - val_custom_mse: 0.0640 - val_custom_mse_scaled: 0.1166 - val_gaussian_reconstruction_loss: 24.3771 - val_r_squared: 0.1930 - val_r_squared_linreg: 0.5916 - lr: 0.0500 - 397ms/epoch - 397ms/step\n",
      "Epoch 7/10\n",
      "1/1 - 0s - loss: 24.4115 - custom_mae: 0.1930 - custom_mean_sd: 0.7407 - custom_mse: 0.0651 - custom_mse_scaled: 0.1185 - gaussian_reconstruction_loss: 24.4115 - r_squared: 0.2100 - r_squared_linreg: 0.5762 - val_loss: 22.4184 - val_custom_mae: 0.1764 - val_custom_mean_sd: 0.7045 - val_custom_mse: 0.0537 - val_custom_mse_scaled: 0.1082 - val_gaussian_reconstruction_loss: 22.4184 - val_r_squared: 0.3210 - val_r_squared_linreg: 0.5731 - lr: 0.0500 - 360ms/epoch - 360ms/step\n",
      "Epoch 8/10\n",
      "1/1 - 0s - loss: 22.3615 - custom_mae: 0.1716 - custom_mean_sd: 0.7045 - custom_mse: 0.0522 - custom_mse_scaled: 0.1050 - gaussian_reconstruction_loss: 22.3615 - r_squared: 0.3638 - r_squared_linreg: 0.5859 - val_loss: 20.5429 - val_custom_mae: 0.1641 - val_custom_mean_sd: 0.6700 - val_custom_mse: 0.0469 - val_custom_mse_scaled: 0.1045 - val_gaussian_reconstruction_loss: 20.5429 - val_r_squared: 0.4144 - val_r_squared_linreg: 0.5508 - lr: 0.0500 - 356ms/epoch - 356ms/step\n",
      "Epoch 9/10\n",
      "1/1 - 0s - loss: 20.5317 - custom_mae: 0.1628 - custom_mean_sd: 0.6700 - custom_mse: 0.0467 - custom_mse_scaled: 0.1038 - gaussian_reconstruction_loss: 20.5317 - r_squared: 0.4322 - r_squared_linreg: 0.5580 - val_loss: 18.7578 - val_custom_mae: 0.1577 - val_custom_mean_sd: 0.6371 - val_custom_mse: 0.0430 - val_custom_mse_scaled: 0.1059 - val_gaussian_reconstruction_loss: 18.7578 - val_r_squared: 0.4608 - val_r_squared_linreg: 0.5496 - lr: 0.0500 - 339ms/epoch - 339ms/step\n",
      "Epoch 10/10\n",
      "1/1 - 0s - loss: 18.6851 - custom_mae: 0.1552 - custom_mean_sd: 0.6371 - custom_mse: 0.0413 - custom_mse_scaled: 0.1018 - gaussian_reconstruction_loss: 18.6851 - r_squared: 0.5016 - r_squared_linreg: 0.5707 - val_loss: 16.9432 - val_custom_mae: 0.1512 - val_custom_mean_sd: 0.6058 - val_custom_mse: 0.0388 - val_custom_mse_scaled: 0.1057 - val_gaussian_reconstruction_loss: 16.9432 - val_r_squared: 0.5104 - val_r_squared_linreg: 0.5627 - lr: 0.0500 - 394ms/epoch - 394ms/step\n",
      "\n",
      "-------------------------------------------------------------------------------------------------\n",
      "\n",
      "                                       REP: 5\n",
      "\n",
      "-------------------------------------------------------------------------------------------------\n",
      "\n",
      "Loading data from raw files\n",
      "registering celldata\n"
     ]
    },
    {
     "name": "stderr",
     "output_type": "stream",
     "text": [
      "/home/ifichtner/mambaforge/envs/squidpyTF/lib/python3.8/site-packages/ncem/data.py:2389: FutureWarning: X.dtype being converted to np.float32 from float64. In the next version of anndata (0.9) conversion will not be automatic. Pass dtype explicitly to avoid this warning. Pass `AnnData(X, dtype=X.dtype, ...)` to get the future behavour.\n",
      "  celldata = AnnData(\n",
      "/home/ifichtner/mambaforge/envs/squidpyTF/lib/python3.8/site-packages/anndata/_core/anndata.py:121: ImplicitModificationWarning: Transforming to str index.\n",
      "  warnings.warn(\"Transforming to str index.\", ImplicitModificationWarning)\n"
     ]
    },
    {
     "name": "stdout",
     "output_type": "stream",
     "text": [
      "collecting image-wise celldata\n",
      "adding graph-level covariates\n"
     ]
    },
    {
     "name": "stderr",
     "output_type": "stream",
     "text": [
      "100%|██████████| 58/58 [00:01<00:00, 51.36it/s]\n"
     ]
    },
    {
     "name": "stdout",
     "output_type": "stream",
     "text": [
      "Loaded 58 images with complete data from 4 patients over 63747 cells with 36 cell features and 8 distinct celltypes.\n",
      "Mean of mean node degree per images across images: 4.416036\n",
      "Using split method: node. \n",
      " Train-test-validation split is based on total number of nodes per patients over all images.\n",
      "\n",
      "Excluded 0 cells with the following unannotated cell type: [None] \n",
      "\n",
      "Whole dataset: 63747 cells out of 58 images from 4 patients.\n",
      "Test dataset: 6376 cells out of 58 images from 4 patients.\n",
      "Training dataset: 51930 cells out of 58 images from 4 patients.\n",
      "Validation dataset: 5738 cells out of 58 images from 4 patients. \n",
      "\n",
      "Epoch 1/10\n",
      "1/1 - 1s - loss: 38.1910 - custom_mae: 0.4363 - custom_mean_sd: 1.0000 - custom_mse: 0.2838 - custom_mse_scaled: 0.2838 - gaussian_reconstruction_loss: 38.1910 - r_squared: -2.4312e+00 - r_squared_linreg: 0.0018 - val_loss: 34.0055 - val_custom_mae: 0.2885 - val_custom_mean_sd: 0.9512 - val_custom_mse: 0.1369 - val_custom_mse_scaled: 0.1513 - val_gaussian_reconstruction_loss: 34.0055 - val_r_squared: -7.2730e-01 - val_r_squared_linreg: 0.0595 - lr: 0.0500 - 1s/epoch - 1s/step\n",
      "Epoch 2/10\n",
      "1/1 - 0s - loss: 34.0733 - custom_mae: 0.2933 - custom_mean_sd: 0.9512 - custom_mse: 0.1403 - custom_mse_scaled: 0.1551 - gaussian_reconstruction_loss: 34.0733 - r_squared: -7.2715e-01 - r_squared_linreg: 0.0628 - val_loss: 31.2763 - val_custom_mae: 0.2229 - val_custom_mean_sd: 0.9050 - val_custom_mse: 0.0814 - val_custom_mse_scaled: 0.0994 - val_gaussian_reconstruction_loss: 31.2763 - val_r_squared: -2.3156e-02 - val_r_squared_linreg: 0.2335 - lr: 0.0500 - 346ms/epoch - 346ms/step\n",
      "Epoch 3/10\n",
      "1/1 - 0s - loss: 31.3146 - custom_mae: 0.2254 - custom_mean_sd: 0.9050 - custom_mse: 0.0832 - custom_mse_scaled: 0.1015 - gaussian_reconstruction_loss: 31.3146 - r_squared: -1.3183e-02 - r_squared_linreg: 0.2342 - val_loss: 29.4449 - val_custom_mae: 0.2104 - val_custom_mean_sd: 0.8609 - val_custom_mse: 0.0723 - val_custom_mse_scaled: 0.0976 - val_gaussian_reconstruction_loss: 29.4449 - val_r_squared: 0.0891 - val_r_squared_linreg: 0.3965 - lr: 0.0500 - 330ms/epoch - 330ms/step\n",
      "Epoch 4/10\n",
      "1/1 - 0s - loss: 29.4265 - custom_mae: 0.2089 - custom_mean_sd: 0.8609 - custom_mse: 0.0716 - custom_mse_scaled: 0.0965 - gaussian_reconstruction_loss: 29.4265 - r_squared: 0.1351 - r_squared_linreg: 0.4000 - val_loss: 27.8501 - val_custom_mae: 0.2115 - val_custom_mean_sd: 0.8188 - val_custom_mse: 0.0732 - val_custom_mse_scaled: 0.1091 - val_gaussian_reconstruction_loss: 27.8501 - val_r_squared: 0.0734 - val_r_squared_linreg: 0.5140 - lr: 0.0500 - 371ms/epoch - 371ms/step\n",
      "Epoch 5/10\n",
      "1/1 - 0s - loss: 27.8500 - custom_mae: 0.2101 - custom_mean_sd: 0.8188 - custom_mse: 0.0732 - custom_mse_scaled: 0.1091 - gaussian_reconstruction_loss: 27.8500 - r_squared: 0.1049 - r_squared_linreg: 0.5048 - val_loss: 26.1062 - val_custom_mae: 0.2009 - val_custom_mean_sd: 0.7788 - val_custom_mse: 0.0683 - val_custom_mse_scaled: 0.1125 - val_gaussian_reconstruction_loss: 26.1062 - val_r_squared: 0.1447 - val_r_squared_linreg: 0.5791 - lr: 0.0500 - 338ms/epoch - 338ms/step\n",
      "Epoch 6/10\n",
      "1/1 - 0s - loss: 26.0742 - custom_mae: 0.1989 - custom_mean_sd: 0.7788 - custom_mse: 0.0672 - custom_mse_scaled: 0.1107 - gaussian_reconstruction_loss: 26.0742 - r_squared: 0.1850 - r_squared_linreg: 0.5858 - val_loss: 24.2766 - val_custom_mae: 0.1874 - val_custom_mean_sd: 0.7407 - val_custom_mse: 0.0611 - val_custom_mse_scaled: 0.1112 - val_gaussian_reconstruction_loss: 24.2766 - val_r_squared: 0.2274 - val_r_squared_linreg: 0.6018 - lr: 0.0500 - 368ms/epoch - 368ms/step\n",
      "Epoch 7/10\n",
      "1/1 - 0s - loss: 24.3335 - custom_mae: 0.1895 - custom_mean_sd: 0.7407 - custom_mse: 0.0628 - custom_mse_scaled: 0.1144 - gaussian_reconstruction_loss: 24.3335 - r_squared: 0.2344 - r_squared_linreg: 0.5900 - val_loss: 22.3995 - val_custom_mae: 0.1748 - val_custom_mean_sd: 0.7044 - val_custom_mse: 0.0533 - val_custom_mse_scaled: 0.1074 - val_gaussian_reconstruction_loss: 22.3995 - val_r_squared: 0.3269 - val_r_squared_linreg: 0.5706 - lr: 0.0500 - 369ms/epoch - 369ms/step\n",
      "Epoch 8/10\n",
      "1/1 - 0s - loss: 22.3798 - custom_mae: 0.1737 - custom_mean_sd: 0.7044 - custom_mse: 0.0528 - custom_mse_scaled: 0.1063 - gaussian_reconstruction_loss: 22.3798 - r_squared: 0.3527 - r_squared_linreg: 0.5875 - val_loss: 20.5883 - val_custom_mae: 0.1661 - val_custom_mean_sd: 0.6699 - val_custom_mse: 0.0482 - val_custom_mse_scaled: 0.1073 - val_gaussian_reconstruction_loss: 20.5883 - val_r_squared: 0.3945 - val_r_squared_linreg: 0.5500 - lr: 0.0500 - 342ms/epoch - 342ms/step\n",
      "Epoch 9/10\n",
      "1/1 - 0s - loss: 20.4801 - custom_mae: 0.1614 - custom_mean_sd: 0.6699 - custom_mse: 0.0455 - custom_mse_scaled: 0.1013 - gaussian_reconstruction_loss: 20.4801 - r_squared: 0.4467 - r_squared_linreg: 0.5787 - val_loss: 18.7311 - val_custom_mae: 0.1556 - val_custom_mean_sd: 0.6370 - val_custom_mse: 0.0425 - val_custom_mse_scaled: 0.1047 - val_gaussian_reconstruction_loss: 18.7311 - val_r_squared: 0.4691 - val_r_squared_linreg: 0.5489 - lr: 0.0500 - 351ms/epoch - 351ms/step\n",
      "Epoch 10/10\n",
      "1/1 - 0s - loss: 18.6937 - custom_mae: 0.1556 - custom_mean_sd: 0.6370 - custom_mse: 0.0416 - custom_mse_scaled: 0.1026 - gaussian_reconstruction_loss: 18.6937 - r_squared: 0.4952 - r_squared_linreg: 0.5637 - val_loss: 16.9538 - val_custom_mae: 0.1504 - val_custom_mean_sd: 0.6057 - val_custom_mse: 0.0391 - val_custom_mse_scaled: 0.1066 - val_gaussian_reconstruction_loss: 16.9538 - val_r_squared: 0.5069 - val_r_squared_linreg: 0.5565 - lr: 0.0500 - 343ms/epoch - 343ms/step\n",
      "\n",
      "-------------------------------------------------------------------------------------------------\n",
      "\n",
      "                                       REP: 6\n",
      "\n",
      "-------------------------------------------------------------------------------------------------\n",
      "\n",
      "Loading data from raw files\n",
      "registering celldata\n"
     ]
    },
    {
     "name": "stderr",
     "output_type": "stream",
     "text": [
      "/home/ifichtner/mambaforge/envs/squidpyTF/lib/python3.8/site-packages/ncem/data.py:2389: FutureWarning: X.dtype being converted to np.float32 from float64. In the next version of anndata (0.9) conversion will not be automatic. Pass dtype explicitly to avoid this warning. Pass `AnnData(X, dtype=X.dtype, ...)` to get the future behavour.\n",
      "  celldata = AnnData(\n",
      "/home/ifichtner/mambaforge/envs/squidpyTF/lib/python3.8/site-packages/anndata/_core/anndata.py:121: ImplicitModificationWarning: Transforming to str index.\n",
      "  warnings.warn(\"Transforming to str index.\", ImplicitModificationWarning)\n"
     ]
    },
    {
     "name": "stdout",
     "output_type": "stream",
     "text": [
      "collecting image-wise celldata\n",
      "adding graph-level covariates\n"
     ]
    },
    {
     "name": "stderr",
     "output_type": "stream",
     "text": [
      "100%|██████████| 58/58 [00:01<00:00, 52.85it/s]\n"
     ]
    },
    {
     "name": "stdout",
     "output_type": "stream",
     "text": [
      "Loaded 58 images with complete data from 4 patients over 63747 cells with 36 cell features and 8 distinct celltypes.\n",
      "Mean of mean node degree per images across images: 4.416036\n",
      "Using split method: node. \n",
      " Train-test-validation split is based on total number of nodes per patients over all images.\n",
      "\n",
      "Excluded 0 cells with the following unannotated cell type: [None] \n",
      "\n",
      "Whole dataset: 63747 cells out of 58 images from 4 patients.\n",
      "Test dataset: 6376 cells out of 58 images from 4 patients.\n",
      "Training dataset: 51930 cells out of 58 images from 4 patients.\n",
      "Validation dataset: 5738 cells out of 58 images from 4 patients. \n",
      "\n",
      "Epoch 1/10\n",
      "1/1 - 1s - loss: 38.4090 - custom_mae: 0.4498 - custom_mean_sd: 1.0000 - custom_mse: 0.2960 - custom_mse_scaled: 0.2960 - gaussian_reconstruction_loss: 38.4090 - r_squared: -2.5775e+00 - r_squared_linreg: 6.4776e-07 - val_loss: 33.9991 - val_custom_mae: 0.2932 - val_custom_mean_sd: 0.9512 - val_custom_mse: 0.1366 - val_custom_mse_scaled: 0.1510 - val_gaussian_reconstruction_loss: 33.9991 - val_r_squared: -7.3838e-01 - val_r_squared_linreg: 0.0449 - lr: 0.0500 - 1s/epoch - 1s/step\n",
      "Epoch 2/10\n",
      "1/1 - 0s - loss: 34.1577 - custom_mae: 0.3033 - custom_mean_sd: 0.9512 - custom_mse: 0.1446 - custom_mse_scaled: 0.1598 - gaussian_reconstruction_loss: 34.1577 - r_squared: -7.7939e-01 - r_squared_linreg: 0.0457 - val_loss: 31.1558 - val_custom_mae: 0.2159 - val_custom_mean_sd: 0.9050 - val_custom_mse: 0.0760 - val_custom_mse_scaled: 0.0927 - val_gaussian_reconstruction_loss: 31.1558 - val_r_squared: 0.0495 - val_r_squared_linreg: 0.2472 - lr: 0.0500 - 330ms/epoch - 330ms/step\n",
      "Epoch 3/10\n",
      "1/1 - 0s - loss: 31.2050 - custom_mae: 0.2192 - custom_mean_sd: 0.9050 - custom_mse: 0.0782 - custom_mse_scaled: 0.0955 - gaussian_reconstruction_loss: 31.2050 - r_squared: 0.0475 - r_squared_linreg: 0.2446 - val_loss: 29.3551 - val_custom_mae: 0.2052 - val_custom_mean_sd: 0.8608 - val_custom_mse: 0.0687 - val_custom_mse_scaled: 0.0926 - val_gaussian_reconstruction_loss: 29.3551 - val_r_squared: 0.1450 - val_r_squared_linreg: 0.4290 - lr: 0.0500 - 356ms/epoch - 356ms/step\n",
      "Epoch 4/10\n",
      "1/1 - 0s - loss: 29.3158 - custom_mae: 0.2017 - custom_mean_sd: 0.8608 - custom_mse: 0.0670 - custom_mse_scaled: 0.0905 - gaussian_reconstruction_loss: 29.3158 - r_squared: 0.1820 - r_squared_linreg: 0.4253 - val_loss: 27.8245 - val_custom_mae: 0.2094 - val_custom_mean_sd: 0.8188 - val_custom_mse: 0.0723 - val_custom_mse_scaled: 0.1078 - val_gaussian_reconstruction_loss: 27.8245 - val_r_squared: 0.1048 - val_r_squared_linreg: 0.5356 - lr: 0.0500 - 343ms/epoch - 343ms/step\n",
      "Epoch 5/10\n",
      "1/1 - 0s - loss: 27.8259 - custom_mae: 0.2078 - custom_mean_sd: 0.8188 - custom_mse: 0.0723 - custom_mse_scaled: 0.1079 - gaussian_reconstruction_loss: 27.8259 - r_squared: 0.1227 - r_squared_linreg: 0.5364 - val_loss: 26.3715 - val_custom_mae: 0.2155 - val_custom_mean_sd: 0.7787 - val_custom_mse: 0.0773 - val_custom_mse_scaled: 0.1274 - val_gaussian_reconstruction_loss: 26.3715 - val_r_squared: 0.0186 - val_r_squared_linreg: 0.5760 - lr: 0.0500 - 369ms/epoch - 369ms/step\n",
      "Epoch 6/10\n",
      "1/1 - 0s - loss: 26.2125 - custom_mae: 0.2055 - custom_mean_sd: 0.7787 - custom_mse: 0.0719 - custom_mse_scaled: 0.1186 - gaussian_reconstruction_loss: 26.2125 - r_squared: 0.1314 - r_squared_linreg: 0.5772 - val_loss: 24.4252 - val_custom_mae: 0.1955 - val_custom_mean_sd: 0.7406 - val_custom_mse: 0.0657 - val_custom_mse_scaled: 0.1197 - val_gaussian_reconstruction_loss: 24.4252 - val_r_squared: 0.1799 - val_r_squared_linreg: 0.5806 - lr: 0.0500 - 336ms/epoch - 336ms/step\n",
      "Epoch 7/10\n",
      "1/1 - 0s - loss: 24.3725 - custom_mae: 0.1922 - custom_mean_sd: 0.7406 - custom_mse: 0.0641 - custom_mse_scaled: 0.1168 - gaussian_reconstruction_loss: 24.3725 - r_squared: 0.2199 - r_squared_linreg: 0.5915 - val_loss: 22.4691 - val_custom_mae: 0.1784 - val_custom_mean_sd: 0.7043 - val_custom_mse: 0.0553 - val_custom_mse_scaled: 0.1115 - val_gaussian_reconstruction_loss: 22.4691 - val_r_squared: 0.3047 - val_r_squared_linreg: 0.5828 - lr: 0.0500 - 324ms/epoch - 324ms/step\n",
      "Epoch 8/10\n",
      "1/1 - 0s - loss: 22.4054 - custom_mae: 0.1752 - custom_mean_sd: 0.7043 - custom_mse: 0.0536 - custom_mse_scaled: 0.1079 - gaussian_reconstruction_loss: 22.4054 - r_squared: 0.3487 - r_squared_linreg: 0.5902 - val_loss: 20.4584 - val_custom_mae: 0.1621 - val_custom_mean_sd: 0.6698 - val_custom_mse: 0.0450 - val_custom_mse_scaled: 0.1003 - val_gaussian_reconstruction_loss: 20.4584 - val_r_squared: 0.4386 - val_r_squared_linreg: 0.5740 - lr: 0.0500 - 329ms/epoch - 329ms/step\n",
      "Epoch 9/10\n",
      "1/1 - 0s - loss: 20.4432 - custom_mae: 0.1603 - custom_mean_sd: 0.6698 - custom_mse: 0.0446 - custom_mse_scaled: 0.0994 - gaussian_reconstruction_loss: 20.4432 - r_squared: 0.4561 - r_squared_linreg: 0.5907 - val_loss: 18.6251 - val_custom_mae: 0.1521 - val_custom_mean_sd: 0.6369 - val_custom_mse: 0.0402 - val_custom_mse_scaled: 0.0990 - val_gaussian_reconstruction_loss: 18.6251 - val_r_squared: 0.4915 - val_r_squared_linreg: 0.5688 - lr: 0.0500 - 349ms/epoch - 349ms/step\n",
      "Epoch 10/10\n",
      "1/1 - 0s - loss: 18.7061 - custom_mae: 0.1548 - custom_mean_sd: 0.6369 - custom_mse: 0.0420 - custom_mse_scaled: 0.1035 - gaussian_reconstruction_loss: 18.7061 - r_squared: 0.4909 - r_squared_linreg: 0.5652 - val_loss: 16.9441 - val_custom_mae: 0.1514 - val_custom_mean_sd: 0.6057 - val_custom_mse: 0.0390 - val_custom_mse_scaled: 0.1063 - val_gaussian_reconstruction_loss: 16.9441 - val_r_squared: 0.5030 - val_r_squared_linreg: 0.5566 - lr: 0.0500 - 348ms/epoch - 348ms/step\n",
      "\n",
      "-------------------------------------------------------------------------------------------------\n",
      "\n",
      "                                       REP: 7\n",
      "\n",
      "-------------------------------------------------------------------------------------------------\n",
      "\n",
      "Loading data from raw files\n",
      "registering celldata\n"
     ]
    },
    {
     "name": "stderr",
     "output_type": "stream",
     "text": [
      "/home/ifichtner/mambaforge/envs/squidpyTF/lib/python3.8/site-packages/ncem/data.py:2389: FutureWarning: X.dtype being converted to np.float32 from float64. In the next version of anndata (0.9) conversion will not be automatic. Pass dtype explicitly to avoid this warning. Pass `AnnData(X, dtype=X.dtype, ...)` to get the future behavour.\n",
      "  celldata = AnnData(\n",
      "/home/ifichtner/mambaforge/envs/squidpyTF/lib/python3.8/site-packages/anndata/_core/anndata.py:121: ImplicitModificationWarning: Transforming to str index.\n",
      "  warnings.warn(\"Transforming to str index.\", ImplicitModificationWarning)\n"
     ]
    },
    {
     "name": "stdout",
     "output_type": "stream",
     "text": [
      "collecting image-wise celldata\n",
      "adding graph-level covariates\n"
     ]
    },
    {
     "name": "stderr",
     "output_type": "stream",
     "text": [
      "100%|██████████| 58/58 [00:01<00:00, 52.87it/s]\n"
     ]
    },
    {
     "name": "stdout",
     "output_type": "stream",
     "text": [
      "Loaded 58 images with complete data from 4 patients over 63747 cells with 36 cell features and 8 distinct celltypes.\n",
      "Mean of mean node degree per images across images: 4.416036\n",
      "Using split method: node. \n",
      " Train-test-validation split is based on total number of nodes per patients over all images.\n",
      "\n",
      "Excluded 0 cells with the following unannotated cell type: [None] \n",
      "\n",
      "Whole dataset: 63747 cells out of 58 images from 4 patients.\n",
      "Test dataset: 6376 cells out of 58 images from 4 patients.\n",
      "Training dataset: 51930 cells out of 58 images from 4 patients.\n",
      "Validation dataset: 5738 cells out of 58 images from 4 patients. \n",
      "\n",
      "Epoch 1/10\n",
      "1/1 - 1s - loss: 38.6766 - custom_mae: 0.4588 - custom_mean_sd: 1.0000 - custom_mse: 0.3108 - custom_mse_scaled: 0.3108 - gaussian_reconstruction_loss: 38.6766 - r_squared: -2.7573e+00 - r_squared_linreg: 0.0013 - val_loss: 34.1788 - val_custom_mae: 0.3016 - val_custom_mean_sd: 0.9512 - val_custom_mse: 0.1456 - val_custom_mse_scaled: 0.1609 - val_gaussian_reconstruction_loss: 34.1788 - val_r_squared: -8.2576e-01 - val_r_squared_linreg: 0.0689 - lr: 0.0500 - 1s/epoch - 1s/step\n",
      "Epoch 2/10\n",
      "1/1 - 0s - loss: 34.2794 - custom_mae: 0.3082 - custom_mean_sd: 0.9512 - custom_mse: 0.1507 - custom_mse_scaled: 0.1665 - gaussian_reconstruction_loss: 34.2794 - r_squared: -8.5468e-01 - r_squared_linreg: 0.0674 - val_loss: 31.2095 - val_custom_mae: 0.2192 - val_custom_mean_sd: 0.9050 - val_custom_mse: 0.0783 - val_custom_mse_scaled: 0.0956 - val_gaussian_reconstruction_loss: 31.2095 - val_r_squared: 0.0110 - val_r_squared_linreg: 0.2539 - lr: 0.0500 - 358ms/epoch - 358ms/step\n",
      "Epoch 3/10\n",
      "1/1 - 0s - loss: 31.2855 - custom_mae: 0.2244 - custom_mean_sd: 0.9050 - custom_mse: 0.0818 - custom_mse_scaled: 0.0998 - gaussian_reconstruction_loss: 31.2855 - r_squared: 0.0044 - r_squared_linreg: 0.2406 - val_loss: 29.3755 - val_custom_mae: 0.2054 - val_custom_mean_sd: 0.8609 - val_custom_mse: 0.0694 - val_custom_mse_scaled: 0.0936 - val_gaussian_reconstruction_loss: 29.3755 - val_r_squared: 0.1121 - val_r_squared_linreg: 0.4176 - lr: 0.0500 - 347ms/epoch - 347ms/step\n",
      "Epoch 4/10\n",
      "1/1 - 0s - loss: 29.3169 - custom_mae: 0.2025 - custom_mean_sd: 0.8609 - custom_mse: 0.0669 - custom_mse_scaled: 0.0903 - gaussian_reconstruction_loss: 29.3169 - r_squared: 0.1873 - r_squared_linreg: 0.4146 - val_loss: 27.9624 - val_custom_mae: 0.2164 - val_custom_mean_sd: 0.8189 - val_custom_mse: 0.0773 - val_custom_mse_scaled: 0.1152 - val_gaussian_reconstruction_loss: 27.9624 - val_r_squared: 0.0135 - val_r_squared_linreg: 0.5317 - lr: 0.0500 - 330ms/epoch - 330ms/step\n",
      "Epoch 5/10\n",
      "1/1 - 0s - loss: 27.7925 - custom_mae: 0.2059 - custom_mean_sd: 0.8189 - custom_mse: 0.0709 - custom_mse_scaled: 0.1058 - gaussian_reconstruction_loss: 27.7925 - r_squared: 0.1381 - r_squared_linreg: 0.5228 - val_loss: 26.3099 - val_custom_mae: 0.2105 - val_custom_mean_sd: 0.7788 - val_custom_mse: 0.0751 - val_custom_mse_scaled: 0.1237 - val_gaussian_reconstruction_loss: 26.3099 - val_r_squared: 0.0637 - val_r_squared_linreg: 0.5878 - lr: 0.0500 - 387ms/epoch - 387ms/step\n",
      "Epoch 6/10\n",
      "1/1 - 0s - loss: 26.1729 - custom_mae: 0.2028 - custom_mean_sd: 0.7788 - custom_mse: 0.0705 - custom_mse_scaled: 0.1161 - gaussian_reconstruction_loss: 26.1729 - r_squared: 0.1473 - r_squared_linreg: 0.5730 - val_loss: 24.6203 - val_custom_mae: 0.2030 - val_custom_mean_sd: 0.7407 - val_custom_mse: 0.0715 - val_custom_mse_scaled: 0.1303 - val_gaussian_reconstruction_loss: 24.6203 - val_r_squared: 0.0908 - val_r_squared_linreg: 0.5937 - lr: 0.0500 - 441ms/epoch - 441ms/step\n",
      "Epoch 7/10\n",
      "1/1 - 0s - loss: 24.4965 - custom_mae: 0.1974 - custom_mean_sd: 0.7407 - custom_mse: 0.0678 - custom_mse_scaled: 0.1234 - gaussian_reconstruction_loss: 24.4965 - r_squared: 0.1701 - r_squared_linreg: 0.5835 - val_loss: 22.6223 - val_custom_mae: 0.1847 - val_custom_mean_sd: 0.7044 - val_custom_mse: 0.0595 - val_custom_mse_scaled: 0.1197 - val_gaussian_reconstruction_loss: 22.6223 - val_r_squared: 0.2539 - val_r_squared_linreg: 0.5784 - lr: 0.0500 - 413ms/epoch - 413ms/step\n",
      "Epoch 8/10\n",
      "1/1 - 0s - loss: 22.5590 - custom_mae: 0.1822 - custom_mean_sd: 0.7044 - custom_mse: 0.0577 - custom_mse_scaled: 0.1162 - gaussian_reconstruction_loss: 22.5590 - r_squared: 0.2896 - r_squared_linreg: 0.5902 - val_loss: 20.7124 - val_custom_mae: 0.1716 - val_custom_mean_sd: 0.6699 - val_custom_mse: 0.0512 - val_custom_mse_scaled: 0.1141 - val_gaussian_reconstruction_loss: 20.7124 - val_r_squared: 0.3588 - val_r_squared_linreg: 0.5560 - lr: 0.0500 - 405ms/epoch - 405ms/step\n",
      "Epoch 9/10\n",
      "1/1 - 0s - loss: 20.6083 - custom_mae: 0.1669 - custom_mean_sd: 0.6699 - custom_mse: 0.0486 - custom_mse_scaled: 0.1083 - gaussian_reconstruction_loss: 20.6083 - r_squared: 0.4133 - r_squared_linreg: 0.5857 - val_loss: 18.7987 - val_custom_mae: 0.1590 - val_custom_mean_sd: 0.6370 - val_custom_mse: 0.0440 - val_custom_mse_scaled: 0.1084 - val_gaussian_reconstruction_loss: 18.7987 - val_r_squared: 0.4364 - val_r_squared_linreg: 0.5543 - lr: 0.0500 - 390ms/epoch - 390ms/step\n",
      "Epoch 10/10\n",
      "1/1 - 0s - loss: 18.7230 - custom_mae: 0.1562 - custom_mean_sd: 0.6370 - custom_mse: 0.0423 - custom_mse_scaled: 0.1042 - gaussian_reconstruction_loss: 18.7230 - r_squared: 0.4926 - r_squared_linreg: 0.5717 - val_loss: 16.9465 - val_custom_mae: 0.1506 - val_custom_mean_sd: 0.6058 - val_custom_mse: 0.0389 - val_custom_mse_scaled: 0.1061 - val_gaussian_reconstruction_loss: 16.9465 - val_r_squared: 0.5121 - val_r_squared_linreg: 0.5660 - lr: 0.0500 - 365ms/epoch - 365ms/step\n",
      "\n",
      "-------------------------------------------------------------------------------------------------\n",
      "\n",
      "                                       REP: 8\n",
      "\n",
      "-------------------------------------------------------------------------------------------------\n",
      "\n",
      "Loading data from raw files\n",
      "registering celldata\n"
     ]
    },
    {
     "name": "stderr",
     "output_type": "stream",
     "text": [
      "/home/ifichtner/mambaforge/envs/squidpyTF/lib/python3.8/site-packages/ncem/data.py:2389: FutureWarning: X.dtype being converted to np.float32 from float64. In the next version of anndata (0.9) conversion will not be automatic. Pass dtype explicitly to avoid this warning. Pass `AnnData(X, dtype=X.dtype, ...)` to get the future behavour.\n",
      "  celldata = AnnData(\n",
      "/home/ifichtner/mambaforge/envs/squidpyTF/lib/python3.8/site-packages/anndata/_core/anndata.py:121: ImplicitModificationWarning: Transforming to str index.\n",
      "  warnings.warn(\"Transforming to str index.\", ImplicitModificationWarning)\n"
     ]
    },
    {
     "name": "stdout",
     "output_type": "stream",
     "text": [
      "collecting image-wise celldata\n",
      "adding graph-level covariates\n"
     ]
    },
    {
     "name": "stderr",
     "output_type": "stream",
     "text": [
      "100%|██████████| 58/58 [00:01<00:00, 51.53it/s]\n"
     ]
    },
    {
     "name": "stdout",
     "output_type": "stream",
     "text": [
      "Loaded 58 images with complete data from 4 patients over 63747 cells with 36 cell features and 8 distinct celltypes.\n",
      "Mean of mean node degree per images across images: 4.416036\n",
      "Using split method: node. \n",
      " Train-test-validation split is based on total number of nodes per patients over all images.\n",
      "\n",
      "Excluded 0 cells with the following unannotated cell type: [None] \n",
      "\n",
      "Whole dataset: 63747 cells out of 58 images from 4 patients.\n",
      "Test dataset: 6376 cells out of 58 images from 4 patients.\n",
      "Training dataset: 51930 cells out of 58 images from 4 patients.\n",
      "Validation dataset: 5738 cells out of 58 images from 4 patients. \n",
      "\n",
      "Epoch 1/10\n",
      "1/1 - 1s - loss: 38.2549 - custom_mae: 0.4405 - custom_mean_sd: 1.0000 - custom_mse: 0.2874 - custom_mse_scaled: 0.2874 - gaussian_reconstruction_loss: 38.2549 - r_squared: -2.4741e+00 - r_squared_linreg: 1.3095e-05 - val_loss: 33.8969 - val_custom_mae: 0.2850 - val_custom_mean_sd: 0.9512 - val_custom_mse: 0.1315 - val_custom_mse_scaled: 0.1453 - val_gaussian_reconstruction_loss: 33.8969 - val_r_squared: -6.6985e-01 - val_r_squared_linreg: 0.0608 - lr: 0.0500 - 1s/epoch - 1s/step\n",
      "Epoch 2/10\n",
      "1/1 - 0s - loss: 33.9988 - custom_mae: 0.2898 - custom_mean_sd: 0.9512 - custom_mse: 0.1366 - custom_mse_scaled: 0.1509 - gaussian_reconstruction_loss: 33.9988 - r_squared: -6.8106e-01 - r_squared_linreg: 0.0711 - val_loss: 31.1289 - val_custom_mae: 0.2142 - val_custom_mean_sd: 0.9049 - val_custom_mse: 0.0748 - val_custom_mse_scaled: 0.0913 - val_gaussian_reconstruction_loss: 31.1289 - val_r_squared: 0.0551 - val_r_squared_linreg: 0.2379 - lr: 0.0500 - 362ms/epoch - 362ms/step\n",
      "Epoch 3/10\n",
      "1/1 - 0s - loss: 31.1561 - custom_mae: 0.2164 - custom_mean_sd: 0.9049 - custom_mse: 0.0760 - custom_mse_scaled: 0.0928 - gaussian_reconstruction_loss: 31.1561 - r_squared: 0.0739 - r_squared_linreg: 0.2523 - val_loss: 29.2621 - val_custom_mae: 0.2007 - val_custom_mean_sd: 0.8608 - val_custom_mse: 0.0649 - val_custom_mse_scaled: 0.0877 - val_gaussian_reconstruction_loss: 29.2621 - val_r_squared: 0.1781 - val_r_squared_linreg: 0.4278 - lr: 0.0500 - 372ms/epoch - 372ms/step\n",
      "Epoch 4/10\n",
      "1/1 - 0s - loss: 29.2488 - custom_mae: 0.1997 - custom_mean_sd: 0.8608 - custom_mse: 0.0644 - custom_mse_scaled: 0.0869 - gaussian_reconstruction_loss: 29.2488 - r_squared: 0.2292 - r_squared_linreg: 0.4348 - val_loss: 27.8072 - val_custom_mae: 0.2096 - val_custom_mean_sd: 0.8187 - val_custom_mse: 0.0718 - val_custom_mse_scaled: 0.1071 - val_gaussian_reconstruction_loss: 27.8072 - val_r_squared: 0.1002 - val_r_squared_linreg: 0.5349 - lr: 0.0500 - 397ms/epoch - 397ms/step\n",
      "Epoch 5/10\n",
      "1/1 - 0s - loss: 27.7927 - custom_mae: 0.2090 - custom_mean_sd: 0.8187 - custom_mse: 0.0712 - custom_mse_scaled: 0.1063 - gaussian_reconstruction_loss: 27.7927 - r_squared: 0.1281 - r_squared_linreg: 0.5416 - val_loss: 26.3245 - val_custom_mae: 0.2126 - val_custom_mean_sd: 0.7786 - val_custom_mse: 0.0759 - val_custom_mse_scaled: 0.1251 - val_gaussian_reconstruction_loss: 26.3245 - val_r_squared: 0.0465 - val_r_squared_linreg: 0.5859 - lr: 0.0500 - 391ms/epoch - 391ms/step\n",
      "Epoch 6/10\n",
      "1/1 - 0s - loss: 26.1139 - custom_mae: 0.2013 - custom_mean_sd: 0.7786 - custom_mse: 0.0688 - custom_mse_scaled: 0.1134 - gaussian_reconstruction_loss: 26.1139 - r_squared: 0.1689 - r_squared_linreg: 0.5878 - val_loss: 24.5383 - val_custom_mae: 0.2002 - val_custom_mean_sd: 0.7405 - val_custom_mse: 0.0693 - val_custom_mse_scaled: 0.1263 - val_gaussian_reconstruction_loss: 24.5383 - val_r_squared: 0.1310 - val_r_squared_linreg: 0.6044 - lr: 0.0500 - 383ms/epoch - 383ms/step\n",
      "Epoch 7/10\n",
      "1/1 - 0s - loss: 24.3123 - custom_mae: 0.1891 - custom_mean_sd: 0.7405 - custom_mse: 0.0624 - custom_mse_scaled: 0.1137 - gaussian_reconstruction_loss: 24.3123 - r_squared: 0.2464 - r_squared_linreg: 0.6115 - val_loss: 22.5970 - val_custom_mae: 0.1825 - val_custom_mean_sd: 0.7042 - val_custom_mse: 0.0590 - val_custom_mse_scaled: 0.1189 - val_gaussian_reconstruction_loss: 22.5970 - val_r_squared: 0.2549 - val_r_squared_linreg: 0.5899 - lr: 0.0500 - 357ms/epoch - 357ms/step\n",
      "Epoch 8/10\n",
      "1/1 - 0s - loss: 22.5260 - custom_mae: 0.1786 - custom_mean_sd: 0.7042 - custom_mse: 0.0570 - custom_mse_scaled: 0.1150 - gaussian_reconstruction_loss: 22.5260 - r_squared: 0.3072 - r_squared_linreg: 0.5859 - val_loss: 20.4855 - val_custom_mae: 0.1598 - val_custom_mean_sd: 0.6697 - val_custom_mse: 0.0458 - val_custom_mse_scaled: 0.1021 - val_gaussian_reconstruction_loss: 20.4854 - val_r_squared: 0.4209 - val_r_squared_linreg: 0.5797 - lr: 0.0500 - 343ms/epoch - 343ms/step\n",
      "Epoch 9/10\n",
      "1/1 - 0s - loss: 20.4697 - custom_mae: 0.1604 - custom_mean_sd: 0.6697 - custom_mse: 0.0454 - custom_mse_scaled: 0.1012 - gaussian_reconstruction_loss: 20.4697 - r_squared: 0.4443 - r_squared_linreg: 0.5790 - val_loss: 18.6736 - val_custom_mae: 0.1546 - val_custom_mean_sd: 0.6369 - val_custom_mse: 0.0414 - val_custom_mse_scaled: 0.1020 - val_gaussian_reconstruction_loss: 18.6736 - val_r_squared: 0.4823 - val_r_squared_linreg: 0.5577 - lr: 0.0500 - 407ms/epoch - 407ms/step\n",
      "Epoch 10/10\n",
      "1/1 - 0s - loss: 18.6709 - custom_mae: 0.1547 - custom_mean_sd: 0.6369 - custom_mse: 0.0413 - custom_mse_scaled: 0.1018 - gaussian_reconstruction_loss: 18.6709 - r_squared: 0.4910 - r_squared_linreg: 0.5632 - val_loss: 16.9712 - val_custom_mae: 0.1515 - val_custom_mean_sd: 0.6056 - val_custom_mse: 0.0396 - val_custom_mse_scaled: 0.1080 - val_gaussian_reconstruction_loss: 16.9712 - val_r_squared: 0.4969 - val_r_squared_linreg: 0.5470 - lr: 0.0500 - 357ms/epoch - 357ms/step\n",
      "\n",
      "-------------------------------------------------------------------------------------------------\n",
      "\n",
      "                                       REP: 9\n",
      "\n",
      "-------------------------------------------------------------------------------------------------\n",
      "\n",
      "Loading data from raw files\n",
      "registering celldata\n"
     ]
    },
    {
     "name": "stderr",
     "output_type": "stream",
     "text": [
      "/home/ifichtner/mambaforge/envs/squidpyTF/lib/python3.8/site-packages/ncem/data.py:2389: FutureWarning: X.dtype being converted to np.float32 from float64. In the next version of anndata (0.9) conversion will not be automatic. Pass dtype explicitly to avoid this warning. Pass `AnnData(X, dtype=X.dtype, ...)` to get the future behavour.\n",
      "  celldata = AnnData(\n",
      "/home/ifichtner/mambaforge/envs/squidpyTF/lib/python3.8/site-packages/anndata/_core/anndata.py:121: ImplicitModificationWarning: Transforming to str index.\n",
      "  warnings.warn(\"Transforming to str index.\", ImplicitModificationWarning)\n"
     ]
    },
    {
     "name": "stdout",
     "output_type": "stream",
     "text": [
      "collecting image-wise celldata\n",
      "adding graph-level covariates\n"
     ]
    },
    {
     "name": "stderr",
     "output_type": "stream",
     "text": [
      "100%|██████████| 58/58 [00:01<00:00, 52.62it/s]\n"
     ]
    },
    {
     "name": "stdout",
     "output_type": "stream",
     "text": [
      "Loaded 58 images with complete data from 4 patients over 63747 cells with 36 cell features and 8 distinct celltypes.\n",
      "Mean of mean node degree per images across images: 4.416036\n",
      "Using split method: node. \n",
      " Train-test-validation split is based on total number of nodes per patients over all images.\n",
      "\n",
      "Excluded 0 cells with the following unannotated cell type: [None] \n",
      "\n",
      "Whole dataset: 63747 cells out of 58 images from 4 patients.\n",
      "Test dataset: 6376 cells out of 58 images from 4 patients.\n",
      "Training dataset: 51930 cells out of 58 images from 4 patients.\n",
      "Validation dataset: 5738 cells out of 58 images from 4 patients. \n",
      "\n",
      "Epoch 1/10\n",
      "1/1 - 2s - loss: 38.8626 - custom_mae: 0.4656 - custom_mean_sd: 1.0000 - custom_mse: 0.3212 - custom_mse_scaled: 0.3212 - gaussian_reconstruction_loss: 38.8626 - r_squared: -2.8822e+00 - r_squared_linreg: 9.0324e-04 - val_loss: 34.4302 - val_custom_mae: 0.3116 - val_custom_mean_sd: 0.9512 - val_custom_mse: 0.1583 - val_custom_mse_scaled: 0.1749 - val_gaussian_reconstruction_loss: 34.4302 - val_r_squared: -9.7804e-01 - val_r_squared_linreg: 0.0346 - lr: 0.0500 - 2s/epoch - 2s/step\n",
      "Epoch 2/10\n",
      "1/1 - 0s - loss: 34.4902 - custom_mae: 0.3163 - custom_mean_sd: 0.9512 - custom_mse: 0.1613 - custom_mse_scaled: 0.1782 - gaussian_reconstruction_loss: 34.4902 - r_squared: -9.8514e-01 - r_squared_linreg: 0.0354 - val_loss: 31.4162 - val_custom_mae: 0.2311 - val_custom_mean_sd: 0.9052 - val_custom_mse: 0.0874 - val_custom_mse_scaled: 0.1066 - val_gaussian_reconstruction_loss: 31.4162 - val_r_squared: -1.0742e-01 - val_r_squared_linreg: 0.1862 - lr: 0.0500 - 409ms/epoch - 409ms/step\n",
      "Epoch 3/10\n",
      "1/1 - 0s - loss: 31.4157 - custom_mae: 0.2308 - custom_mean_sd: 0.9052 - custom_mse: 0.0874 - custom_mse_scaled: 0.1066 - gaussian_reconstruction_loss: 31.4157 - r_squared: -6.6816e-02 - r_squared_linreg: 0.2042 - val_loss: 29.4697 - val_custom_mae: 0.2128 - val_custom_mean_sd: 0.8614 - val_custom_mse: 0.0726 - val_custom_mse_scaled: 0.0978 - val_gaussian_reconstruction_loss: 29.4697 - val_r_squared: 0.0897 - val_r_squared_linreg: 0.3636 - lr: 0.0500 - 347ms/epoch - 347ms/step\n",
      "Epoch 4/10\n",
      "1/1 - 0s - loss: 29.3380 - custom_mae: 0.2026 - custom_mean_sd: 0.8614 - custom_mse: 0.0672 - custom_mse_scaled: 0.0905 - gaussian_reconstruction_loss: 29.3380 - r_squared: 0.1843 - r_squared_linreg: 0.3905 - val_loss: 27.8384 - val_custom_mae: 0.2081 - val_custom_mean_sd: 0.8194 - val_custom_mse: 0.0718 - val_custom_mse_scaled: 0.1070 - val_gaussian_reconstruction_loss: 27.8384 - val_r_squared: 0.0940 - val_r_squared_linreg: 0.5070 - lr: 0.0500 - 350ms/epoch - 350ms/step\n",
      "Epoch 5/10\n",
      "1/1 - 0s - loss: 27.8574 - custom_mae: 0.2075 - custom_mean_sd: 0.8194 - custom_mse: 0.0725 - custom_mse_scaled: 0.1080 - gaussian_reconstruction_loss: 27.8574 - r_squared: 0.1202 - r_squared_linreg: 0.5003 - val_loss: 26.3494 - val_custom_mae: 0.2098 - val_custom_mean_sd: 0.7795 - val_custom_mse: 0.0756 - val_custom_mse_scaled: 0.1243 - val_gaussian_reconstruction_loss: 26.3494 - val_r_squared: 0.0547 - val_r_squared_linreg: 0.5662 - lr: 0.0500 - 368ms/epoch - 368ms/step\n",
      "Epoch 6/10\n",
      "1/1 - 0s - loss: 26.1492 - custom_mae: 0.2007 - custom_mean_sd: 0.7795 - custom_mse: 0.0688 - custom_mse_scaled: 0.1132 - gaussian_reconstruction_loss: 26.1492 - r_squared: 0.1623 - r_squared_linreg: 0.5742 - val_loss: 24.6819 - val_custom_mae: 0.2043 - val_custom_mean_sd: 0.7414 - val_custom_mse: 0.0727 - val_custom_mse_scaled: 0.1319 - val_gaussian_reconstruction_loss: 24.6819 - val_r_squared: 0.0941 - val_r_squared_linreg: 0.5862 - lr: 0.0500 - 383ms/epoch - 383ms/step\n",
      "Epoch 7/10\n",
      "1/1 - 0s - loss: 24.5397 - custom_mae: 0.1991 - custom_mean_sd: 0.7414 - custom_mse: 0.0683 - custom_mse_scaled: 0.1240 - gaussian_reconstruction_loss: 24.5397 - r_squared: 0.1730 - r_squared_linreg: 0.5920 - val_loss: 22.7667 - val_custom_mae: 0.1870 - val_custom_mean_sd: 0.7051 - val_custom_mse: 0.0628 - val_custom_mse_scaled: 0.1258 - val_gaussian_reconstruction_loss: 22.7667 - val_r_squared: 0.1962 - val_r_squared_linreg: 0.5998 - lr: 0.0500 - 385ms/epoch - 385ms/step\n",
      "Epoch 8/10\n",
      "1/1 - 0s - loss: 22.7126 - custom_mae: 0.1851 - custom_mean_sd: 0.7051 - custom_mse: 0.0613 - custom_mse_scaled: 0.1228 - gaussian_reconstruction_loss: 22.7126 - r_squared: 0.2530 - r_squared_linreg: 0.5913 - val_loss: 20.7857 - val_custom_mae: 0.1713 - val_custom_mean_sd: 0.6706 - val_custom_mse: 0.0524 - val_custom_mse_scaled: 0.1161 - val_gaussian_reconstruction_loss: 20.7857 - val_r_squared: 0.3491 - val_r_squared_linreg: 0.5735 - lr: 0.0500 - 346ms/epoch - 346ms/step\n",
      "Epoch 9/10\n",
      "1/1 - 0s - loss: 20.7018 - custom_mae: 0.1681 - custom_mean_sd: 0.6706 - custom_mse: 0.0503 - custom_mse_scaled: 0.1114 - gaussian_reconstruction_loss: 20.7018 - r_squared: 0.3937 - r_squared_linreg: 0.5873 - val_loss: 18.9186 - val_custom_mae: 0.1622 - val_custom_mean_sd: 0.6378 - val_custom_mse: 0.0460 - val_custom_mse_scaled: 0.1128 - val_gaussian_reconstruction_loss: 18.9186 - val_r_squared: 0.4166 - val_r_squared_linreg: 0.5606 - lr: 0.0500 - 369ms/epoch - 369ms/step\n",
      "Epoch 10/10\n",
      "1/1 - 0s - loss: 18.9258 - custom_mae: 0.1635 - custom_mean_sd: 0.6378 - custom_mse: 0.0461 - custom_mse_scaled: 0.1132 - gaussian_reconstruction_loss: 18.9258 - r_squared: 0.4367 - r_squared_linreg: 0.5657 - val_loss: 17.0713 - val_custom_mae: 0.1538 - val_custom_mean_sd: 0.6065 - val_custom_mse: 0.0407 - val_custom_mse_scaled: 0.1107 - val_gaussian_reconstruction_loss: 17.0713 - val_r_squared: 0.4864 - val_r_squared_linreg: 0.5598 - lr: 0.0500 - 368ms/epoch - 368ms/step\n",
      "\n",
      "-------------------------------------------------------------------------------------------------\n",
      "\n",
      "                                       REP: 10\n",
      "\n",
      "-------------------------------------------------------------------------------------------------\n",
      "\n",
      "Loading data from raw files\n",
      "registering celldata\n"
     ]
    },
    {
     "name": "stderr",
     "output_type": "stream",
     "text": [
      "/home/ifichtner/mambaforge/envs/squidpyTF/lib/python3.8/site-packages/ncem/data.py:2389: FutureWarning: X.dtype being converted to np.float32 from float64. In the next version of anndata (0.9) conversion will not be automatic. Pass dtype explicitly to avoid this warning. Pass `AnnData(X, dtype=X.dtype, ...)` to get the future behavour.\n",
      "  celldata = AnnData(\n",
      "/home/ifichtner/mambaforge/envs/squidpyTF/lib/python3.8/site-packages/anndata/_core/anndata.py:121: ImplicitModificationWarning: Transforming to str index.\n",
      "  warnings.warn(\"Transforming to str index.\", ImplicitModificationWarning)\n"
     ]
    },
    {
     "name": "stdout",
     "output_type": "stream",
     "text": [
      "collecting image-wise celldata\n",
      "adding graph-level covariates\n"
     ]
    },
    {
     "name": "stderr",
     "output_type": "stream",
     "text": [
      "100%|██████████| 58/58 [00:01<00:00, 53.25it/s]\n"
     ]
    },
    {
     "name": "stdout",
     "output_type": "stream",
     "text": [
      "Loaded 58 images with complete data from 4 patients over 63747 cells with 36 cell features and 8 distinct celltypes.\n",
      "Mean of mean node degree per images across images: 4.416036\n",
      "Using split method: node. \n",
      " Train-test-validation split is based on total number of nodes per patients over all images.\n",
      "\n",
      "Excluded 0 cells with the following unannotated cell type: [None] \n",
      "\n",
      "Whole dataset: 63747 cells out of 58 images from 4 patients.\n",
      "Test dataset: 6376 cells out of 58 images from 4 patients.\n",
      "Training dataset: 51930 cells out of 58 images from 4 patients.\n",
      "Validation dataset: 5738 cells out of 58 images from 4 patients. \n",
      "\n",
      "Epoch 1/10\n",
      "1/1 - 1s - loss: 38.7143 - custom_mae: 0.4634 - custom_mean_sd: 1.0000 - custom_mse: 0.3129 - custom_mse_scaled: 0.3129 - gaussian_reconstruction_loss: 38.7143 - r_squared: -2.7826e+00 - r_squared_linreg: 8.1825e-04 - val_loss: 34.1624 - val_custom_mae: 0.3003 - val_custom_mean_sd: 0.9512 - val_custom_mse: 0.1448 - val_custom_mse_scaled: 0.1600 - val_gaussian_reconstruction_loss: 34.1624 - val_r_squared: -8.4524e-01 - val_r_squared_linreg: 0.0431 - lr: 0.0500 - 1s/epoch - 1s/step\n",
      "Epoch 2/10\n",
      "1/1 - 0s - loss: 34.3231 - custom_mae: 0.3077 - custom_mean_sd: 0.9512 - custom_mse: 0.1529 - custom_mse_scaled: 0.1690 - gaussian_reconstruction_loss: 34.3231 - r_squared: -8.8173e-01 - r_squared_linreg: 0.0367 - val_loss: 31.2782 - val_custom_mae: 0.2234 - val_custom_mean_sd: 0.9050 - val_custom_mse: 0.0814 - val_custom_mse_scaled: 0.0993 - val_gaussian_reconstruction_loss: 31.2782 - val_r_squared: -3.1905e-02 - val_r_squared_linreg: 0.2102 - lr: 0.0500 - 376ms/epoch - 376ms/step\n",
      "Epoch 3/10\n",
      "1/1 - 0s - loss: 31.3177 - custom_mae: 0.2273 - custom_mean_sd: 0.9050 - custom_mse: 0.0832 - custom_mse_scaled: 0.1015 - gaussian_reconstruction_loss: 31.3177 - r_squared: -1.3388e-02 - r_squared_linreg: 0.2136 - val_loss: 29.4102 - val_custom_mae: 0.2100 - val_custom_mean_sd: 0.8610 - val_custom_mse: 0.0707 - val_custom_mse_scaled: 0.0953 - val_gaussian_reconstruction_loss: 29.4102 - val_r_squared: 0.0981 - val_r_squared_linreg: 0.3913 - lr: 0.0500 - 360ms/epoch - 360ms/step\n",
      "Epoch 4/10\n",
      "1/1 - 0s - loss: 29.3155 - custom_mae: 0.2033 - custom_mean_sd: 0.8610 - custom_mse: 0.0668 - custom_mse_scaled: 0.0901 - gaussian_reconstruction_loss: 29.3155 - r_squared: 0.1893 - r_squared_linreg: 0.4045 - val_loss: 27.9429 - val_custom_mae: 0.2161 - val_custom_mean_sd: 0.8190 - val_custom_mse: 0.0764 - val_custom_mse_scaled: 0.1139 - val_gaussian_reconstruction_loss: 27.9429 - val_r_squared: 0.0312 - val_r_squared_linreg: 0.5148 - lr: 0.0500 - 346ms/epoch - 346ms/step\n",
      "Epoch 5/10\n",
      "1/1 - 0s - loss: 27.8337 - custom_mae: 0.2087 - custom_mean_sd: 0.8190 - custom_mse: 0.0723 - custom_mse_scaled: 0.1078 - gaussian_reconstruction_loss: 27.8337 - r_squared: 0.1244 - r_squared_linreg: 0.5205 - val_loss: 26.3183 - val_custom_mae: 0.2113 - val_custom_mean_sd: 0.7789 - val_custom_mse: 0.0752 - val_custom_mse_scaled: 0.1239 - val_gaussian_reconstruction_loss: 26.3183 - val_r_squared: 0.0470 - val_r_squared_linreg: 0.5727 - lr: 0.0500 - 345ms/epoch - 345ms/step\n",
      "Epoch 6/10\n",
      "1/1 - 0s - loss: 26.1972 - custom_mae: 0.2054 - custom_mean_sd: 0.7789 - custom_mse: 0.0712 - custom_mse_scaled: 0.1172 - gaussian_reconstruction_loss: 26.1972 - r_squared: 0.1334 - r_squared_linreg: 0.5770 - val_loss: 24.4760 - val_custom_mae: 0.1989 - val_custom_mean_sd: 0.7408 - val_custom_mse: 0.0670 - val_custom_mse_scaled: 0.1220 - val_gaussian_reconstruction_loss: 24.4760 - val_r_squared: 0.1413 - val_r_squared_linreg: 0.5977 - lr: 0.0500 - 341ms/epoch - 341ms/step\n",
      "Epoch 7/10\n",
      "1/1 - 0s - loss: 24.3306 - custom_mae: 0.1920 - custom_mean_sd: 0.7408 - custom_mse: 0.0626 - custom_mse_scaled: 0.1139 - gaussian_reconstruction_loss: 24.3306 - r_squared: 0.2384 - r_squared_linreg: 0.5964 - val_loss: 22.7449 - val_custom_mae: 0.1895 - val_custom_mean_sd: 0.7045 - val_custom_mse: 0.0628 - val_custom_mse_scaled: 0.1263 - val_gaussian_reconstruction_loss: 22.7449 - val_r_squared: 0.2038 - val_r_squared_linreg: 0.5671 - lr: 0.0500 - 350ms/epoch - 350ms/step\n",
      "Epoch 8/10\n",
      "1/1 - 0s - loss: 22.5879 - custom_mae: 0.1828 - custom_mean_sd: 0.7045 - custom_mse: 0.0584 - custom_mse_scaled: 0.1176 - gaussian_reconstruction_loss: 22.5879 - r_squared: 0.2898 - r_squared_linreg: 0.5807 - val_loss: 20.7643 - val_custom_mae: 0.1747 - val_custom_mean_sd: 0.6700 - val_custom_mse: 0.0525 - val_custom_mse_scaled: 0.1168 - val_gaussian_reconstruction_loss: 20.7643 - val_r_squared: 0.3381 - val_r_squared_linreg: 0.5640 - lr: 0.0500 - 347ms/epoch - 347ms/step\n",
      "Epoch 9/10\n",
      "1/1 - 0s - loss: 20.5438 - custom_mae: 0.1657 - custom_mean_sd: 0.6700 - custom_mse: 0.0470 - custom_mse_scaled: 0.1045 - gaussian_reconstruction_loss: 20.5438 - r_squared: 0.4244 - r_squared_linreg: 0.5879 - val_loss: 18.7821 - val_custom_mae: 0.1592 - val_custom_mean_sd: 0.6371 - val_custom_mse: 0.0436 - val_custom_mse_scaled: 0.1072 - val_gaussian_reconstruction_loss: 18.7821 - val_r_squared: 0.4370 - val_r_squared_linreg: 0.5669 - lr: 0.0500 - 327ms/epoch - 327ms/step\n",
      "Epoch 10/10\n",
      "1/1 - 0s - loss: 18.7376 - custom_mae: 0.1590 - custom_mean_sd: 0.6371 - custom_mse: 0.0426 - custom_mse_scaled: 0.1048 - gaussian_reconstruction_loss: 18.7376 - r_squared: 0.4837 - r_squared_linreg: 0.5757 - val_loss: 16.9172 - val_custom_mae: 0.1497 - val_custom_mean_sd: 0.6058 - val_custom_mse: 0.0383 - val_custom_mse_scaled: 0.1043 - val_gaussian_reconstruction_loss: 16.9172 - val_r_squared: 0.5128 - val_r_squared_linreg: 0.5664 - lr: 0.0500 - 342ms/epoch - 342ms/step\n",
      "\n",
      "-------------------------------------------------------------------------------------------------\n",
      "\n",
      "                                       REP: 11\n",
      "\n",
      "-------------------------------------------------------------------------------------------------\n",
      "\n",
      "Loading data from raw files\n",
      "registering celldata\n"
     ]
    },
    {
     "name": "stderr",
     "output_type": "stream",
     "text": [
      "/home/ifichtner/mambaforge/envs/squidpyTF/lib/python3.8/site-packages/ncem/data.py:2389: FutureWarning: X.dtype being converted to np.float32 from float64. In the next version of anndata (0.9) conversion will not be automatic. Pass dtype explicitly to avoid this warning. Pass `AnnData(X, dtype=X.dtype, ...)` to get the future behavour.\n",
      "  celldata = AnnData(\n",
      "/home/ifichtner/mambaforge/envs/squidpyTF/lib/python3.8/site-packages/anndata/_core/anndata.py:121: ImplicitModificationWarning: Transforming to str index.\n",
      "  warnings.warn(\"Transforming to str index.\", ImplicitModificationWarning)\n"
     ]
    },
    {
     "name": "stdout",
     "output_type": "stream",
     "text": [
      "collecting image-wise celldata\n",
      "adding graph-level covariates\n"
     ]
    },
    {
     "name": "stderr",
     "output_type": "stream",
     "text": [
      "100%|██████████| 58/58 [00:01<00:00, 50.54it/s]\n"
     ]
    },
    {
     "name": "stdout",
     "output_type": "stream",
     "text": [
      "Loaded 58 images with complete data from 4 patients over 63747 cells with 36 cell features and 8 distinct celltypes.\n",
      "Mean of mean node degree per images across images: 4.416036\n",
      "Using split method: node. \n",
      " Train-test-validation split is based on total number of nodes per patients over all images.\n",
      "\n",
      "Excluded 0 cells with the following unannotated cell type: [None] \n",
      "\n",
      "Whole dataset: 63747 cells out of 58 images from 4 patients.\n",
      "Test dataset: 6376 cells out of 58 images from 4 patients.\n",
      "Training dataset: 51930 cells out of 58 images from 4 patients.\n",
      "Validation dataset: 5738 cells out of 58 images from 4 patients. \n",
      "\n",
      "Epoch 1/10\n",
      "1/1 - 1s - loss: 38.3602 - custom_mae: 0.4446 - custom_mean_sd: 1.0000 - custom_mse: 0.2932 - custom_mse_scaled: 0.2932 - gaussian_reconstruction_loss: 38.3602 - r_squared: -2.5448e+00 - r_squared_linreg: 4.2168e-05 - val_loss: 34.1208 - val_custom_mae: 0.2981 - val_custom_mean_sd: 0.9512 - val_custom_mse: 0.1427 - val_custom_mse_scaled: 0.1577 - val_gaussian_reconstruction_loss: 34.1208 - val_r_squared: -8.1162e-01 - val_r_squared_linreg: 0.0379 - lr: 0.0500 - 1s/epoch - 1s/step\n",
      "Epoch 2/10\n",
      "1/1 - 0s - loss: 34.1986 - custom_mae: 0.3022 - custom_mean_sd: 0.9512 - custom_mse: 0.1466 - custom_mse_scaled: 0.1620 - gaussian_reconstruction_loss: 34.1986 - r_squared: -8.0469e-01 - r_squared_linreg: 0.0408 - val_loss: 31.3341 - val_custom_mae: 0.2284 - val_custom_mean_sd: 0.9050 - val_custom_mse: 0.0840 - val_custom_mse_scaled: 0.1026 - val_gaussian_reconstruction_loss: 31.3341 - val_r_squared: -6.0402e-02 - val_r_squared_linreg: 0.2047 - lr: 0.0500 - 390ms/epoch - 390ms/step\n",
      "Epoch 3/10\n",
      "1/1 - 0s - loss: 31.3014 - custom_mae: 0.2262 - custom_mean_sd: 0.9050 - custom_mse: 0.0826 - custom_mse_scaled: 0.1008 - gaussian_reconstruction_loss: 31.3014 - r_squared: -5.4746e-03 - r_squared_linreg: 0.2262 - val_loss: 29.4110 - val_custom_mae: 0.2081 - val_custom_mean_sd: 0.8609 - val_custom_mse: 0.0709 - val_custom_mse_scaled: 0.0956 - val_gaussian_reconstruction_loss: 29.4110 - val_r_squared: 0.0947 - val_r_squared_linreg: 0.3989 - lr: 0.0500 - 386ms/epoch - 386ms/step\n",
      "Epoch 4/10\n",
      "1/1 - 0s - loss: 29.3442 - custom_mae: 0.2050 - custom_mean_sd: 0.8609 - custom_mse: 0.0681 - custom_mse_scaled: 0.0919 - gaussian_reconstruction_loss: 29.3442 - r_squared: 0.1738 - r_squared_linreg: 0.4160 - val_loss: 27.9022 - val_custom_mae: 0.2108 - val_custom_mean_sd: 0.8189 - val_custom_mse: 0.0751 - val_custom_mse_scaled: 0.1119 - val_gaussian_reconstruction_loss: 27.9022 - val_r_squared: 0.0583 - val_r_squared_linreg: 0.5195 - lr: 0.0500 - 379ms/epoch - 379ms/step\n",
      "Epoch 5/10\n",
      "1/1 - 0s - loss: 27.8061 - custom_mae: 0.2067 - custom_mean_sd: 0.8189 - custom_mse: 0.0715 - custom_mse_scaled: 0.1066 - gaussian_reconstruction_loss: 27.8061 - r_squared: 0.1287 - r_squared_linreg: 0.5330 - val_loss: 26.1685 - val_custom_mae: 0.2019 - val_custom_mean_sd: 0.7788 - val_custom_mse: 0.0704 - val_custom_mse_scaled: 0.1159 - val_gaussian_reconstruction_loss: 26.1685 - val_r_squared: 0.1199 - val_r_squared_linreg: 0.5819 - lr: 0.0500 - 389ms/epoch - 389ms/step\n",
      "Epoch 6/10\n",
      "1/1 - 0s - loss: 26.1083 - custom_mae: 0.1995 - custom_mean_sd: 0.7788 - custom_mse: 0.0683 - custom_mse_scaled: 0.1126 - gaussian_reconstruction_loss: 26.1083 - r_squared: 0.1757 - r_squared_linreg: 0.5849 - val_loss: 24.5176 - val_custom_mae: 0.1969 - val_custom_mean_sd: 0.7407 - val_custom_mse: 0.0684 - val_custom_mse_scaled: 0.1246 - val_gaussian_reconstruction_loss: 24.5176 - val_r_squared: 0.1336 - val_r_squared_linreg: 0.5691 - lr: 0.0500 - 357ms/epoch - 357ms/step\n",
      "Epoch 7/10\n",
      "1/1 - 0s - loss: 24.4144 - custom_mae: 0.1922 - custom_mean_sd: 0.7407 - custom_mse: 0.0653 - custom_mse_scaled: 0.1189 - gaussian_reconstruction_loss: 24.4144 - r_squared: 0.2058 - r_squared_linreg: 0.5845 - val_loss: 22.5294 - val_custom_mae: 0.1806 - val_custom_mean_sd: 0.7044 - val_custom_mse: 0.0569 - val_custom_mse_scaled: 0.1146 - val_gaussian_reconstruction_loss: 22.5294 - val_r_squared: 0.2720 - val_r_squared_linreg: 0.5654 - lr: 0.0500 - 374ms/epoch - 374ms/step\n",
      "Epoch 8/10\n",
      "1/1 - 0s - loss: 22.6134 - custom_mae: 0.1833 - custom_mean_sd: 0.7044 - custom_mse: 0.0592 - custom_mse_scaled: 0.1192 - gaussian_reconstruction_loss: 22.6134 - r_squared: 0.2863 - r_squared_linreg: 0.5679 - val_loss: 20.6189 - val_custom_mae: 0.1678 - val_custom_mean_sd: 0.6699 - val_custom_mse: 0.0489 - val_custom_mse_scaled: 0.1089 - val_gaussian_reconstruction_loss: 20.6189 - val_r_squared: 0.3915 - val_r_squared_linreg: 0.5534 - lr: 0.0500 - 362ms/epoch - 362ms/step\n",
      "Epoch 9/10\n",
      "1/1 - 0s - loss: 20.5663 - custom_mae: 0.1661 - custom_mean_sd: 0.6699 - custom_mse: 0.0476 - custom_mse_scaled: 0.1060 - gaussian_reconstruction_loss: 20.5663 - r_squared: 0.4282 - r_squared_linreg: 0.5669 - val_loss: 18.7329 - val_custom_mae: 0.1565 - val_custom_mean_sd: 0.6371 - val_custom_mse: 0.0425 - val_custom_mse_scaled: 0.1046 - val_gaussian_reconstruction_loss: 18.7329 - val_r_squared: 0.4607 - val_r_squared_linreg: 0.5513 - lr: 0.0500 - 370ms/epoch - 370ms/step\n",
      "Epoch 10/10\n",
      "1/1 - 0s - loss: 18.7734 - custom_mae: 0.1585 - custom_mean_sd: 0.6371 - custom_mse: 0.0434 - custom_mse_scaled: 0.1069 - gaussian_reconstruction_loss: 18.7734 - r_squared: 0.4817 - r_squared_linreg: 0.5611 - val_loss: 16.8381 - val_custom_mae: 0.1459 - val_custom_mean_sd: 0.6058 - val_custom_mse: 0.0367 - val_custom_mse_scaled: 0.1000 - val_gaussian_reconstruction_loss: 16.8381 - val_r_squared: 0.5398 - val_r_squared_linreg: 0.5749 - lr: 0.0500 - 364ms/epoch - 364ms/step\n",
      "\n",
      "-------------------------------------------------------------------------------------------------\n",
      "\n",
      "                                       REP: 12\n",
      "\n",
      "-------------------------------------------------------------------------------------------------\n",
      "\n",
      "Loading data from raw files\n",
      "registering celldata\n"
     ]
    },
    {
     "name": "stderr",
     "output_type": "stream",
     "text": [
      "/home/ifichtner/mambaforge/envs/squidpyTF/lib/python3.8/site-packages/ncem/data.py:2389: FutureWarning: X.dtype being converted to np.float32 from float64. In the next version of anndata (0.9) conversion will not be automatic. Pass dtype explicitly to avoid this warning. Pass `AnnData(X, dtype=X.dtype, ...)` to get the future behavour.\n",
      "  celldata = AnnData(\n",
      "/home/ifichtner/mambaforge/envs/squidpyTF/lib/python3.8/site-packages/anndata/_core/anndata.py:121: ImplicitModificationWarning: Transforming to str index.\n",
      "  warnings.warn(\"Transforming to str index.\", ImplicitModificationWarning)\n"
     ]
    },
    {
     "name": "stdout",
     "output_type": "stream",
     "text": [
      "collecting image-wise celldata\n",
      "adding graph-level covariates\n"
     ]
    },
    {
     "name": "stderr",
     "output_type": "stream",
     "text": [
      "100%|██████████| 58/58 [00:01<00:00, 52.27it/s]\n"
     ]
    },
    {
     "name": "stdout",
     "output_type": "stream",
     "text": [
      "Loaded 58 images with complete data from 4 patients over 63747 cells with 36 cell features and 8 distinct celltypes.\n",
      "Mean of mean node degree per images across images: 4.416036\n",
      "Using split method: node. \n",
      " Train-test-validation split is based on total number of nodes per patients over all images.\n",
      "\n",
      "Excluded 0 cells with the following unannotated cell type: [None] \n",
      "\n",
      "Whole dataset: 63747 cells out of 58 images from 4 patients.\n",
      "Test dataset: 6376 cells out of 58 images from 4 patients.\n",
      "Training dataset: 51930 cells out of 58 images from 4 patients.\n",
      "Validation dataset: 5738 cells out of 58 images from 4 patients. \n",
      "\n",
      "Epoch 1/10\n",
      "1/1 - 2s - loss: 38.8505 - custom_mae: 0.4638 - custom_mean_sd: 1.0000 - custom_mse: 0.3205 - custom_mse_scaled: 0.3205 - gaussian_reconstruction_loss: 38.8505 - r_squared: -2.8741e+00 - r_squared_linreg: 0.0095 - val_loss: 34.3278 - val_custom_mae: 0.3047 - val_custom_mean_sd: 0.9512 - val_custom_mse: 0.1531 - val_custom_mse_scaled: 0.1692 - val_gaussian_reconstruction_loss: 34.3278 - val_r_squared: -9.2045e-01 - val_r_squared_linreg: 0.0421 - lr: 0.0500 - 2s/epoch - 2s/step\n",
      "Epoch 2/10\n",
      "1/1 - 0s - loss: 34.4822 - custom_mae: 0.3137 - custom_mean_sd: 0.9512 - custom_mse: 0.1609 - custom_mse_scaled: 0.1778 - gaussian_reconstruction_loss: 34.4822 - r_squared: -9.8017e-01 - r_squared_linreg: 0.0373 - val_loss: 31.4082 - val_custom_mae: 0.2309 - val_custom_mean_sd: 0.9050 - val_custom_mse: 0.0874 - val_custom_mse_scaled: 0.1067 - val_gaussian_reconstruction_loss: 31.4082 - val_r_squared: -9.8787e-02 - val_r_squared_linreg: 0.2077 - lr: 0.0500 - 408ms/epoch - 408ms/step\n",
      "Epoch 3/10\n",
      "1/1 - 0s - loss: 31.3805 - custom_mae: 0.2276 - custom_mean_sd: 0.9050 - custom_mse: 0.0861 - custom_mse_scaled: 0.1051 - gaussian_reconstruction_loss: 31.3805 - r_squared: -4.8642e-02 - r_squared_linreg: 0.2192 - val_loss: 29.4550 - val_custom_mae: 0.2113 - val_custom_mean_sd: 0.8609 - val_custom_mse: 0.0726 - val_custom_mse_scaled: 0.0980 - val_gaussian_reconstruction_loss: 29.4550 - val_r_squared: 0.0797 - val_r_squared_linreg: 0.3840 - lr: 0.0500 - 373ms/epoch - 373ms/step\n",
      "Epoch 4/10\n",
      "1/1 - 0s - loss: 29.4106 - custom_mae: 0.2083 - custom_mean_sd: 0.8609 - custom_mse: 0.0708 - custom_mse_scaled: 0.0955 - gaussian_reconstruction_loss: 29.4106 - r_squared: 0.1487 - r_squared_linreg: 0.3958 - val_loss: 28.0116 - val_custom_mae: 0.2196 - val_custom_mean_sd: 0.8189 - val_custom_mse: 0.0791 - val_custom_mse_scaled: 0.1179 - val_gaussian_reconstruction_loss: 28.0116 - val_r_squared: -1.8519e-04 - val_r_squared_linreg: 0.5102 - lr: 0.0500 - 362ms/epoch - 362ms/step\n",
      "Epoch 5/10\n",
      "1/1 - 0s - loss: 27.9319 - custom_mae: 0.2152 - custom_mean_sd: 0.8189 - custom_mse: 0.0761 - custom_mse_scaled: 0.1135 - gaussian_reconstruction_loss: 27.9319 - r_squared: 0.0723 - r_squared_linreg: 0.5087 - val_loss: 26.4246 - val_custom_mae: 0.2169 - val_custom_mean_sd: 0.7788 - val_custom_mse: 0.0789 - val_custom_mse_scaled: 0.1301 - val_gaussian_reconstruction_loss: 26.4246 - val_r_squared: 0.0063 - val_r_squared_linreg: 0.5844 - lr: 0.0500 - 389ms/epoch - 389ms/step\n",
      "Epoch 6/10\n",
      "1/1 - 0s - loss: 26.3188 - custom_mae: 0.2105 - custom_mean_sd: 0.7788 - custom_mse: 0.0754 - custom_mse_scaled: 0.1242 - gaussian_reconstruction_loss: 26.3188 - r_squared: 0.0905 - r_squared_linreg: 0.5733 - val_loss: 24.6129 - val_custom_mae: 0.2024 - val_custom_mean_sd: 0.7407 - val_custom_mse: 0.0713 - val_custom_mse_scaled: 0.1298 - val_gaussian_reconstruction_loss: 24.6129 - val_r_squared: 0.0988 - val_r_squared_linreg: 0.5976 - lr: 0.0500 - 365ms/epoch - 365ms/step\n",
      "Epoch 7/10\n",
      "1/1 - 0s - loss: 24.5110 - custom_mae: 0.1972 - custom_mean_sd: 0.7407 - custom_mse: 0.0682 - custom_mse_scaled: 0.1242 - gaussian_reconstruction_loss: 24.5110 - r_squared: 0.1779 - r_squared_linreg: 0.6002 - val_loss: 22.5656 - val_custom_mae: 0.1806 - val_custom_mean_sd: 0.7044 - val_custom_mse: 0.0579 - val_custom_mse_scaled: 0.1166 - val_gaussian_reconstruction_loss: 22.5656 - val_r_squared: 0.2659 - val_r_squared_linreg: 0.5993 - lr: 0.0500 - 348ms/epoch - 348ms/step\n",
      "Epoch 8/10\n",
      "1/1 - 0s - loss: 22.5904 - custom_mae: 0.1811 - custom_mean_sd: 0.7044 - custom_mse: 0.0586 - custom_mse_scaled: 0.1179 - gaussian_reconstruction_loss: 22.5904 - r_squared: 0.2889 - r_squared_linreg: 0.5978 - val_loss: 20.7047 - val_custom_mae: 0.1702 - val_custom_mean_sd: 0.6699 - val_custom_mse: 0.0511 - val_custom_mse_scaled: 0.1137 - val_gaussian_reconstruction_loss: 20.7047 - val_r_squared: 0.3471 - val_r_squared_linreg: 0.5649 - lr: 0.0500 - 357ms/epoch - 357ms/step\n",
      "Epoch 9/10\n",
      "1/1 - 0s - loss: 20.5855 - custom_mae: 0.1658 - custom_mean_sd: 0.6699 - custom_mse: 0.0481 - custom_mse_scaled: 0.1071 - gaussian_reconstruction_loss: 20.5855 - r_squared: 0.4108 - r_squared_linreg: 0.5747 - val_loss: 18.8059 - val_custom_mae: 0.1595 - val_custom_mean_sd: 0.6370 - val_custom_mse: 0.0442 - val_custom_mse_scaled: 0.1089 - val_gaussian_reconstruction_loss: 18.8059 - val_r_squared: 0.4426 - val_r_squared_linreg: 0.5499 - lr: 0.0500 - 364ms/epoch - 364ms/step\n",
      "Epoch 10/10\n",
      "1/1 - 0s - loss: 18.8242 - custom_mae: 0.1605 - custom_mean_sd: 0.6370 - custom_mse: 0.0446 - custom_mse_scaled: 0.1099 - gaussian_reconstruction_loss: 18.8242 - r_squared: 0.4569 - r_squared_linreg: 0.5509 - val_loss: 16.9448 - val_custom_mae: 0.1512 - val_custom_mean_sd: 0.6057 - val_custom_mse: 0.0390 - val_custom_mse_scaled: 0.1062 - val_gaussian_reconstruction_loss: 16.9448 - val_r_squared: 0.5091 - val_r_squared_linreg: 0.5591 - lr: 0.0500 - 354ms/epoch - 354ms/step\n",
      "\n",
      "-------------------------------------------------------------------------------------------------\n",
      "\n",
      "                                       REP: 13\n",
      "\n",
      "-------------------------------------------------------------------------------------------------\n",
      "\n",
      "Loading data from raw files\n",
      "registering celldata\n"
     ]
    },
    {
     "name": "stderr",
     "output_type": "stream",
     "text": [
      "/home/ifichtner/mambaforge/envs/squidpyTF/lib/python3.8/site-packages/ncem/data.py:2389: FutureWarning: X.dtype being converted to np.float32 from float64. In the next version of anndata (0.9) conversion will not be automatic. Pass dtype explicitly to avoid this warning. Pass `AnnData(X, dtype=X.dtype, ...)` to get the future behavour.\n",
      "  celldata = AnnData(\n",
      "/home/ifichtner/mambaforge/envs/squidpyTF/lib/python3.8/site-packages/anndata/_core/anndata.py:121: ImplicitModificationWarning: Transforming to str index.\n",
      "  warnings.warn(\"Transforming to str index.\", ImplicitModificationWarning)\n"
     ]
    },
    {
     "name": "stdout",
     "output_type": "stream",
     "text": [
      "collecting image-wise celldata\n",
      "adding graph-level covariates\n"
     ]
    },
    {
     "name": "stderr",
     "output_type": "stream",
     "text": [
      "100%|██████████| 58/58 [00:01<00:00, 54.05it/s]\n"
     ]
    },
    {
     "name": "stdout",
     "output_type": "stream",
     "text": [
      "Loaded 58 images with complete data from 4 patients over 63747 cells with 36 cell features and 8 distinct celltypes.\n",
      "Mean of mean node degree per images across images: 4.416036\n",
      "Using split method: node. \n",
      " Train-test-validation split is based on total number of nodes per patients over all images.\n",
      "\n",
      "Excluded 0 cells with the following unannotated cell type: [None] \n",
      "\n",
      "Whole dataset: 63747 cells out of 58 images from 4 patients.\n",
      "Test dataset: 6376 cells out of 58 images from 4 patients.\n",
      "Training dataset: 51930 cells out of 58 images from 4 patients.\n",
      "Validation dataset: 5738 cells out of 58 images from 4 patients. \n",
      "\n",
      "Epoch 1/10\n",
      "1/1 - 1s - loss: 38.2016 - custom_mae: 0.4388 - custom_mean_sd: 1.0000 - custom_mse: 0.2844 - custom_mse_scaled: 0.2844 - gaussian_reconstruction_loss: 38.2016 - r_squared: -2.4383e+00 - r_squared_linreg: 0.0015 - val_loss: 33.9196 - val_custom_mae: 0.2864 - val_custom_mean_sd: 0.9512 - val_custom_mse: 0.1326 - val_custom_mse_scaled: 0.1465 - val_gaussian_reconstruction_loss: 33.9196 - val_r_squared: -6.6492e-01 - val_r_squared_linreg: 0.0894 - lr: 0.0500 - 1s/epoch - 1s/step\n",
      "Epoch 2/10\n",
      "1/1 - 0s - loss: 34.0648 - custom_mae: 0.2929 - custom_mean_sd: 0.9512 - custom_mse: 0.1399 - custom_mse_scaled: 0.1546 - gaussian_reconstruction_loss: 34.0648 - r_squared: -7.2192e-01 - r_squared_linreg: 0.0881 - val_loss: 31.2440 - val_custom_mae: 0.2216 - val_custom_mean_sd: 0.9050 - val_custom_mse: 0.0799 - val_custom_mse_scaled: 0.0976 - val_gaussian_reconstruction_loss: 31.2440 - val_r_squared: -1.0072e-02 - val_r_squared_linreg: 0.2424 - lr: 0.0500 - 365ms/epoch - 365ms/step\n",
      "Epoch 3/10\n",
      "1/1 - 0s - loss: 31.2053 - custom_mae: 0.2187 - custom_mean_sd: 0.9050 - custom_mse: 0.0782 - custom_mse_scaled: 0.0954 - gaussian_reconstruction_loss: 31.2053 - r_squared: 0.0478 - r_squared_linreg: 0.2613 - val_loss: 29.3074 - val_custom_mae: 0.2024 - val_custom_mean_sd: 0.8609 - val_custom_mse: 0.0666 - val_custom_mse_scaled: 0.0898 - val_gaussian_reconstruction_loss: 29.3074 - val_r_squared: 0.1590 - val_r_squared_linreg: 0.4136 - lr: 0.0500 - 388ms/epoch - 388ms/step\n",
      "Epoch 4/10\n",
      "1/1 - 0s - loss: 29.3209 - custom_mae: 0.2038 - custom_mean_sd: 0.8609 - custom_mse: 0.0672 - custom_mse_scaled: 0.0906 - gaussian_reconstruction_loss: 29.3209 - r_squared: 0.1816 - r_squared_linreg: 0.4237 - val_loss: 27.8145 - val_custom_mae: 0.2084 - val_custom_mean_sd: 0.8189 - val_custom_mse: 0.0718 - val_custom_mse_scaled: 0.1070 - val_gaussian_reconstruction_loss: 27.8145 - val_r_squared: 0.1002 - val_r_squared_linreg: 0.5161 - lr: 0.0500 - 348ms/epoch - 348ms/step\n",
      "Epoch 5/10\n",
      "1/1 - 0s - loss: 27.7635 - custom_mae: 0.2057 - custom_mean_sd: 0.8189 - custom_mse: 0.0699 - custom_mse_scaled: 0.1042 - gaussian_reconstruction_loss: 27.7635 - r_squared: 0.1519 - r_squared_linreg: 0.5174 - val_loss: 26.1614 - val_custom_mae: 0.2033 - val_custom_mean_sd: 0.7788 - val_custom_mse: 0.0701 - val_custom_mse_scaled: 0.1155 - val_gaussian_reconstruction_loss: 26.1614 - val_r_squared: 0.1200 - val_r_squared_linreg: 0.5730 - lr: 0.0500 - 348ms/epoch - 348ms/step\n",
      "Epoch 6/10\n",
      "1/1 - 0s - loss: 26.0230 - custom_mae: 0.1966 - custom_mean_sd: 0.7788 - custom_mse: 0.0654 - custom_mse_scaled: 0.1078 - gaussian_reconstruction_loss: 26.0230 - r_squared: 0.2090 - r_squared_linreg: 0.5693 - val_loss: 24.3551 - val_custom_mae: 0.1891 - val_custom_mean_sd: 0.7407 - val_custom_mse: 0.0634 - val_custom_mse_scaled: 0.1155 - val_gaussian_reconstruction_loss: 24.3551 - val_r_squared: 0.1975 - val_r_squared_linreg: 0.5632 - lr: 0.0500 - 353ms/epoch - 353ms/step\n",
      "Epoch 7/10\n",
      "1/1 - 0s - loss: 24.2521 - custom_mae: 0.1846 - custom_mean_sd: 0.7407 - custom_mse: 0.0603 - custom_mse_scaled: 0.1098 - gaussian_reconstruction_loss: 24.2521 - r_squared: 0.2612 - r_squared_linreg: 0.5918 - val_loss: 22.5262 - val_custom_mae: 0.1803 - val_custom_mean_sd: 0.7044 - val_custom_mse: 0.0568 - val_custom_mse_scaled: 0.1143 - val_gaussian_reconstruction_loss: 22.5262 - val_r_squared: 0.2924 - val_r_squared_linreg: 0.5602 - lr: 0.0500 - 347ms/epoch - 347ms/step\n",
      "Epoch 8/10\n",
      "1/1 - 0s - loss: 22.4817 - custom_mae: 0.1766 - custom_mean_sd: 0.7044 - custom_mse: 0.0556 - custom_mse_scaled: 0.1119 - gaussian_reconstruction_loss: 22.4817 - r_squared: 0.3201 - r_squared_linreg: 0.5734 - val_loss: 20.4654 - val_custom_mae: 0.1598 - val_custom_mean_sd: 0.6699 - val_custom_mse: 0.0451 - val_custom_mse_scaled: 0.1003 - val_gaussian_reconstruction_loss: 20.4654 - val_r_squared: 0.4278 - val_r_squared_linreg: 0.5657 - lr: 0.0500 - 367ms/epoch - 367ms/step\n",
      "Epoch 9/10\n",
      "1/1 - 0s - loss: 20.6110 - custom_mae: 0.1663 - custom_mean_sd: 0.6699 - custom_mse: 0.0487 - custom_mse_scaled: 0.1084 - gaussian_reconstruction_loss: 20.6110 - r_squared: 0.4047 - r_squared_linreg: 0.5593 - val_loss: 18.6873 - val_custom_mae: 0.1556 - val_custom_mean_sd: 0.6371 - val_custom_mse: 0.0414 - val_custom_mse_scaled: 0.1020 - val_gaussian_reconstruction_loss: 18.6873 - val_r_squared: 0.4809 - val_r_squared_linreg: 0.5594 - lr: 0.0500 - 336ms/epoch - 336ms/step\n",
      "Epoch 10/10\n",
      "1/1 - 0s - loss: 18.7132 - custom_mae: 0.1572 - custom_mean_sd: 0.6371 - custom_mse: 0.0420 - custom_mse_scaled: 0.1035 - gaussian_reconstruction_loss: 18.7132 - r_squared: 0.4897 - r_squared_linreg: 0.5632 - val_loss: 16.8668 - val_custom_mae: 0.1485 - val_custom_mean_sd: 0.6058 - val_custom_mse: 0.0372 - val_custom_mse_scaled: 0.1015 - val_gaussian_reconstruction_loss: 16.8668 - val_r_squared: 0.5348 - val_r_squared_linreg: 0.5731 - lr: 0.0500 - 334ms/epoch - 334ms/step\n",
      "\n",
      "-------------------------------------------------------------------------------------------------\n",
      "\n",
      "                                       REP: 14\n",
      "\n",
      "-------------------------------------------------------------------------------------------------\n",
      "\n",
      "Loading data from raw files\n",
      "registering celldata\n"
     ]
    },
    {
     "name": "stderr",
     "output_type": "stream",
     "text": [
      "/home/ifichtner/mambaforge/envs/squidpyTF/lib/python3.8/site-packages/ncem/data.py:2389: FutureWarning: X.dtype being converted to np.float32 from float64. In the next version of anndata (0.9) conversion will not be automatic. Pass dtype explicitly to avoid this warning. Pass `AnnData(X, dtype=X.dtype, ...)` to get the future behavour.\n",
      "  celldata = AnnData(\n",
      "/home/ifichtner/mambaforge/envs/squidpyTF/lib/python3.8/site-packages/anndata/_core/anndata.py:121: ImplicitModificationWarning: Transforming to str index.\n",
      "  warnings.warn(\"Transforming to str index.\", ImplicitModificationWarning)\n"
     ]
    },
    {
     "name": "stdout",
     "output_type": "stream",
     "text": [
      "collecting image-wise celldata\n",
      "adding graph-level covariates\n"
     ]
    },
    {
     "name": "stderr",
     "output_type": "stream",
     "text": [
      "100%|██████████| 58/58 [00:01<00:00, 52.98it/s]\n"
     ]
    },
    {
     "name": "stdout",
     "output_type": "stream",
     "text": [
      "Loaded 58 images with complete data from 4 patients over 63747 cells with 36 cell features and 8 distinct celltypes.\n",
      "Mean of mean node degree per images across images: 4.416036\n",
      "Using split method: node. \n",
      " Train-test-validation split is based on total number of nodes per patients over all images.\n",
      "\n",
      "Excluded 0 cells with the following unannotated cell type: [None] \n",
      "\n",
      "Whole dataset: 63747 cells out of 58 images from 4 patients.\n",
      "Test dataset: 6376 cells out of 58 images from 4 patients.\n",
      "Training dataset: 51930 cells out of 58 images from 4 patients.\n",
      "Validation dataset: 5738 cells out of 58 images from 4 patients. \n",
      "\n",
      "Epoch 1/10\n",
      "1/1 - 1s - loss: 38.5240 - custom_mae: 0.4505 - custom_mean_sd: 1.0000 - custom_mse: 0.3023 - custom_mse_scaled: 0.3023 - gaussian_reconstruction_loss: 38.5240 - r_squared: -2.6548e+00 - r_squared_linreg: 3.8968e-04 - val_loss: 34.1572 - val_custom_mae: 0.2977 - val_custom_mean_sd: 0.9512 - val_custom_mse: 0.1445 - val_custom_mse_scaled: 0.1597 - val_gaussian_reconstruction_loss: 34.1572 - val_r_squared: -8.2982e-01 - val_r_squared_linreg: 0.0386 - lr: 0.0500 - 1s/epoch - 1s/step\n",
      "Epoch 2/10\n",
      "1/1 - 0s - loss: 34.2373 - custom_mae: 0.3026 - custom_mean_sd: 0.9512 - custom_mse: 0.1486 - custom_mse_scaled: 0.1642 - gaussian_reconstruction_loss: 34.2373 - r_squared: -8.2865e-01 - r_squared_linreg: 0.0467 - val_loss: 31.3288 - val_custom_mae: 0.2276 - val_custom_mean_sd: 0.9051 - val_custom_mse: 0.0837 - val_custom_mse_scaled: 0.1021 - val_gaussian_reconstruction_loss: 31.3288 - val_r_squared: -4.6016e-02 - val_r_squared_linreg: 0.2032 - lr: 0.0500 - 335ms/epoch - 335ms/step\n",
      "Epoch 3/10\n",
      "1/1 - 0s - loss: 31.2901 - custom_mae: 0.2251 - custom_mean_sd: 0.9051 - custom_mse: 0.0819 - custom_mse_scaled: 0.0999 - gaussian_reconstruction_loss: 31.2901 - r_squared: 4.7296e-04 - r_squared_linreg: 0.2304 - val_loss: 29.3509 - val_custom_mae: 0.2046 - val_custom_mean_sd: 0.8611 - val_custom_mse: 0.0682 - val_custom_mse_scaled: 0.0919 - val_gaussian_reconstruction_loss: 29.3509 - val_r_squared: 0.1400 - val_r_squared_linreg: 0.3909 - lr: 0.0500 - 333ms/epoch - 333ms/step\n",
      "Epoch 4/10\n",
      "1/1 - 0s - loss: 29.3419 - custom_mae: 0.2044 - custom_mean_sd: 0.8611 - custom_mse: 0.0678 - custom_mse_scaled: 0.0914 - gaussian_reconstruction_loss: 29.3419 - r_squared: 0.1737 - r_squared_linreg: 0.3953 - val_loss: 27.8270 - val_custom_mae: 0.2081 - val_custom_mean_sd: 0.8191 - val_custom_mse: 0.0720 - val_custom_mse_scaled: 0.1073 - val_gaussian_reconstruction_loss: 27.8270 - val_r_squared: 0.0903 - val_r_squared_linreg: 0.5228 - lr: 0.0500 - 349ms/epoch - 349ms/step\n",
      "Epoch 5/10\n",
      "1/1 - 0s - loss: 27.7154 - custom_mae: 0.2014 - custom_mean_sd: 0.8191 - custom_mse: 0.0678 - custom_mse_scaled: 0.1010 - gaussian_reconstruction_loss: 27.7154 - r_squared: 0.1754 - r_squared_linreg: 0.5195 - val_loss: 26.2157 - val_custom_mae: 0.2055 - val_custom_mean_sd: 0.7790 - val_custom_mse: 0.0716 - val_custom_mse_scaled: 0.1180 - val_gaussian_reconstruction_loss: 26.2157 - val_r_squared: 0.0993 - val_r_squared_linreg: 0.5660 - lr: 0.0500 - 331ms/epoch - 331ms/step\n",
      "Epoch 6/10\n",
      "1/1 - 0s - loss: 26.2836 - custom_mae: 0.2067 - custom_mean_sd: 0.7790 - custom_mse: 0.0739 - custom_mse_scaled: 0.1217 - gaussian_reconstruction_loss: 26.2836 - r_squared: 0.0972 - r_squared_linreg: 0.5717 - val_loss: 24.4986 - val_custom_mae: 0.1982 - val_custom_mean_sd: 0.7409 - val_custom_mse: 0.0675 - val_custom_mse_scaled: 0.1229 - val_gaussian_reconstruction_loss: 24.4986 - val_r_squared: 0.1365 - val_r_squared_linreg: 0.5855 - lr: 0.0500 - 327ms/epoch - 327ms/step\n",
      "Epoch 7/10\n",
      "1/1 - 0s - loss: 24.4005 - custom_mae: 0.1908 - custom_mean_sd: 0.7409 - custom_mse: 0.0645 - custom_mse_scaled: 0.1174 - gaussian_reconstruction_loss: 24.4005 - r_squared: 0.2202 - r_squared_linreg: 0.5848 - val_loss: 22.6009 - val_custom_mae: 0.1809 - val_custom_mean_sd: 0.7047 - val_custom_mse: 0.0586 - val_custom_mse_scaled: 0.1178 - val_gaussian_reconstruction_loss: 22.6009 - val_r_squared: 0.2503 - val_r_squared_linreg: 0.5834 - lr: 0.0500 - 338ms/epoch - 338ms/step\n",
      "Epoch 8/10\n",
      "1/1 - 0s - loss: 22.4874 - custom_mae: 0.1771 - custom_mean_sd: 0.7047 - custom_mse: 0.0554 - custom_mse_scaled: 0.1115 - gaussian_reconstruction_loss: 22.4874 - r_squared: 0.3276 - r_squared_linreg: 0.5937 - val_loss: 20.5344 - val_custom_mae: 0.1635 - val_custom_mean_sd: 0.6702 - val_custom_mse: 0.0465 - val_custom_mse_scaled: 0.1034 - val_gaussian_reconstruction_loss: 20.5345 - val_r_squared: 0.4046 - val_r_squared_linreg: 0.5856 - lr: 0.0500 - 343ms/epoch - 343ms/step\n",
      "Epoch 9/10\n",
      "1/1 - 0s - loss: 20.5285 - custom_mae: 0.1624 - custom_mean_sd: 0.6702 - custom_mse: 0.0464 - custom_mse_scaled: 0.1031 - gaussian_reconstruction_loss: 20.5285 - r_squared: 0.4375 - r_squared_linreg: 0.5931 - val_loss: 18.6974 - val_custom_mae: 0.1543 - val_custom_mean_sd: 0.6373 - val_custom_mse: 0.0414 - val_custom_mse_scaled: 0.1019 - val_gaussian_reconstruction_loss: 18.6974 - val_r_squared: 0.4729 - val_r_squared_linreg: 0.5714 - lr: 0.0500 - 330ms/epoch - 330ms/step\n",
      "Epoch 10/10\n",
      "1/1 - 0s - loss: 18.7401 - custom_mae: 0.1555 - custom_mean_sd: 0.6373 - custom_mse: 0.0424 - custom_mse_scaled: 0.1043 - gaussian_reconstruction_loss: 18.7401 - r_squared: 0.4828 - r_squared_linreg: 0.5693 - val_loss: 16.8972 - val_custom_mae: 0.1480 - val_custom_mean_sd: 0.6060 - val_custom_mse: 0.0377 - val_custom_mse_scaled: 0.1025 - val_gaussian_reconstruction_loss: 16.8972 - val_r_squared: 0.5202 - val_r_squared_linreg: 0.5664 - lr: 0.0500 - 324ms/epoch - 324ms/step\n"
     ]
    }
   ],
   "source": [
    "ncem_stats = ncem_stats + ncem_run(reps=reps)"
   ]
  },
  {
   "cell_type": "markdown",
   "metadata": {},
   "source": [
    "# Calculate losses over different shuffled cell-type fractions"
   ]
  },
  {
   "cell_type": "markdown",
   "metadata": {},
   "source": [
    "### Init file replacement and placeholder"
   ]
  },
  {
   "cell_type": "code",
   "execution_count": 11,
   "metadata": {},
   "outputs": [
    {
     "data": {
      "text/plain": [
       "0"
      ]
     },
     "execution_count": 11,
     "metadata": {},
     "output_type": "execute_result"
    }
   ],
   "source": [
    "# Make csv placeholder file\n",
    "os.system(\"cp ../input-data/raw-data/Hartmann-2021/scMEP_MIBI_singlecell/scMEP_MIBI_singlecell.csv ../input-data/raw-data/Hartmann-2021/scMEP_MIBI_singlecell/scMEP_MIBI_singlecell_BACKUP.csv\")"
   ]
  },
  {
   "cell_type": "markdown",
   "metadata": {},
   "source": [
    "### Run NCEM on different cell-type shuffle fractions"
   ]
  },
  {
   "cell_type": "code",
   "execution_count": 12,
   "metadata": {},
   "outputs": [
    {
     "name": "stdout",
     "output_type": "stream",
     "text": [
      "\n",
      "-------------------------------------------------------------------------------------------------\n",
      "\n",
      "                                       RUN: 0.001\n",
      "\n",
      "-------------------------------------------------------------------------------------------------\n",
      "\n",
      "\n",
      "-------------------------------------------------------------------------------------------------\n",
      "\n",
      "                                       REP: 0\n",
      "\n",
      "-------------------------------------------------------------------------------------------------\n",
      "\n",
      "Loading data from raw files\n",
      "registering celldata\n"
     ]
    },
    {
     "name": "stderr",
     "output_type": "stream",
     "text": [
      "/home/ifichtner/mambaforge/envs/squidpyTF/lib/python3.8/site-packages/ncem/data.py:2389: FutureWarning: X.dtype being converted to np.float32 from float64. In the next version of anndata (0.9) conversion will not be automatic. Pass dtype explicitly to avoid this warning. Pass `AnnData(X, dtype=X.dtype, ...)` to get the future behavour.\n",
      "  celldata = AnnData(\n",
      "/home/ifichtner/mambaforge/envs/squidpyTF/lib/python3.8/site-packages/anndata/_core/anndata.py:121: ImplicitModificationWarning: Transforming to str index.\n",
      "  warnings.warn(\"Transforming to str index.\", ImplicitModificationWarning)\n"
     ]
    },
    {
     "name": "stdout",
     "output_type": "stream",
     "text": [
      "collecting image-wise celldata\n",
      "adding graph-level covariates\n"
     ]
    },
    {
     "name": "stderr",
     "output_type": "stream",
     "text": [
      "100%|██████████| 58/58 [00:01<00:00, 54.86it/s]\n"
     ]
    },
    {
     "name": "stdout",
     "output_type": "stream",
     "text": [
      "Loaded 58 images with complete data from 4 patients over 63747 cells with 36 cell features and 8 distinct celltypes.\n",
      "Mean of mean node degree per images across images: 4.416036\n",
      "Using split method: node. \n",
      " Train-test-validation split is based on total number of nodes per patients over all images.\n",
      "\n",
      "Excluded 0 cells with the following unannotated cell type: [None] \n",
      "\n",
      "Whole dataset: 63747 cells out of 58 images from 4 patients.\n",
      "Test dataset: 6376 cells out of 58 images from 4 patients.\n",
      "Training dataset: 51930 cells out of 58 images from 4 patients.\n",
      "Validation dataset: 5738 cells out of 58 images from 4 patients. \n",
      "\n",
      "Epoch 1/10\n",
      "1/1 - 1s - loss: 38.4668 - custom_mae: 0.4460 - custom_mean_sd: 1.0000 - custom_mse: 0.2992 - custom_mse_scaled: 0.2992 - gaussian_reconstruction_loss: 38.4668 - r_squared: -2.6164e+00 - r_squared_linreg: 6.1454e-07 - val_loss: 34.0630 - val_custom_mae: 0.2921 - val_custom_mean_sd: 0.9512 - val_custom_mse: 0.1398 - val_custom_mse_scaled: 0.1545 - val_gaussian_reconstruction_loss: 34.0630 - val_r_squared: -7.5891e-01 - val_r_squared_linreg: 0.0741 - lr: 0.0500 - 1s/epoch - 1s/step\n",
      "Epoch 2/10\n",
      "1/1 - 0s - loss: 34.2194 - custom_mae: 0.2999 - custom_mean_sd: 0.9512 - custom_mse: 0.1477 - custom_mse_scaled: 0.1632 - gaussian_reconstruction_loss: 34.2194 - r_squared: -8.1757e-01 - r_squared_linreg: 0.0689 - val_loss: 31.2828 - val_custom_mae: 0.2233 - val_custom_mean_sd: 0.9050 - val_custom_mse: 0.0817 - val_custom_mse_scaled: 0.0997 - val_gaussian_reconstruction_loss: 31.2828 - val_r_squared: -3.6358e-02 - val_r_squared_linreg: 0.2257 - lr: 0.0500 - 378ms/epoch - 378ms/step\n",
      "Epoch 3/10\n",
      "1/1 - 0s - loss: 31.3132 - custom_mae: 0.2248 - custom_mean_sd: 0.9050 - custom_mse: 0.0831 - custom_mse_scaled: 0.1014 - gaussian_reconstruction_loss: 31.3132 - r_squared: -1.1510e-02 - r_squared_linreg: 0.2384 - val_loss: 29.3713 - val_custom_mae: 0.2071 - val_custom_mean_sd: 0.8610 - val_custom_mse: 0.0692 - val_custom_mse_scaled: 0.0933 - val_gaussian_reconstruction_loss: 29.3713 - val_r_squared: 0.1222 - val_r_squared_linreg: 0.4063 - lr: 0.0500 - 377ms/epoch - 377ms/step\n",
      "Epoch 4/10\n",
      "1/1 - 0s - loss: 29.2908 - custom_mae: 0.2017 - custom_mean_sd: 0.8610 - custom_mse: 0.0659 - custom_mse_scaled: 0.0888 - gaussian_reconstruction_loss: 29.2908 - r_squared: 0.2056 - r_squared_linreg: 0.4140 - val_loss: 27.8074 - val_custom_mae: 0.2072 - val_custom_mean_sd: 0.8189 - val_custom_mse: 0.0714 - val_custom_mse_scaled: 0.1065 - val_gaussian_reconstruction_loss: 27.8074 - val_r_squared: 0.0986 - val_r_squared_linreg: 0.5169 - lr: 0.0500 - 330ms/epoch - 330ms/step\n",
      "Epoch 5/10\n",
      "1/1 - 0s - loss: 27.7661 - custom_mae: 0.2060 - custom_mean_sd: 0.8189 - custom_mse: 0.0699 - custom_mse_scaled: 0.1042 - gaussian_reconstruction_loss: 27.7661 - r_squared: 0.1521 - r_squared_linreg: 0.5116 - val_loss: 26.3581 - val_custom_mae: 0.2125 - val_custom_mean_sd: 0.7789 - val_custom_mse: 0.0766 - val_custom_mse_scaled: 0.1263 - val_gaussian_reconstruction_loss: 26.3581 - val_r_squared: 0.0185 - val_r_squared_linreg: 0.5653 - lr: 0.0500 - 321ms/epoch - 321ms/step\n",
      "Epoch 6/10\n",
      "1/1 - 0s - loss: 26.1525 - custom_mae: 0.2037 - custom_mean_sd: 0.7789 - custom_mse: 0.0697 - custom_mse_scaled: 0.1149 - gaussian_reconstruction_loss: 26.1525 - r_squared: 0.1603 - r_squared_linreg: 0.5701 - val_loss: 24.5236 - val_custom_mae: 0.1987 - val_custom_mean_sd: 0.7407 - val_custom_mse: 0.0685 - val_custom_mse_scaled: 0.1247 - val_gaussian_reconstruction_loss: 24.5235 - val_r_squared: 0.1214 - val_r_squared_linreg: 0.5869 - lr: 0.0500 - 385ms/epoch - 385ms/step\n",
      "Epoch 7/10\n",
      "1/1 - 0s - loss: 24.3713 - custom_mae: 0.1900 - custom_mean_sd: 0.7407 - custom_mse: 0.0639 - custom_mse_scaled: 0.1163 - gaussian_reconstruction_loss: 24.3713 - r_squared: 0.2328 - r_squared_linreg: 0.5779 - val_loss: 22.5518 - val_custom_mae: 0.1805 - val_custom_mean_sd: 0.7045 - val_custom_mse: 0.0574 - val_custom_mse_scaled: 0.1156 - val_gaussian_reconstruction_loss: 22.5518 - val_r_squared: 0.2711 - val_r_squared_linreg: 0.5822 - lr: 0.0500 - 357ms/epoch - 357ms/step\n",
      "Epoch 8/10\n",
      "1/1 - 0s - loss: 22.5489 - custom_mae: 0.1794 - custom_mean_sd: 0.7045 - custom_mse: 0.0574 - custom_mse_scaled: 0.1155 - gaussian_reconstruction_loss: 22.5489 - r_squared: 0.3059 - r_squared_linreg: 0.5732 - val_loss: 20.5866 - val_custom_mae: 0.1652 - val_custom_mean_sd: 0.6700 - val_custom_mse: 0.0480 - val_custom_mse_scaled: 0.1069 - val_gaussian_reconstruction_loss: 20.5866 - val_r_squared: 0.3915 - val_r_squared_linreg: 0.5665 - lr: 0.0500 - 337ms/epoch - 337ms/step\n",
      "Epoch 9/10\n",
      "1/1 - 0s - loss: 20.5056 - custom_mae: 0.1628 - custom_mean_sd: 0.6700 - custom_mse: 0.0460 - custom_mse_scaled: 0.1024 - gaussian_reconstruction_loss: 20.5056 - r_squared: 0.4418 - r_squared_linreg: 0.5831 - val_loss: 18.7784 - val_custom_mae: 0.1592 - val_custom_mean_sd: 0.6371 - val_custom_mse: 0.0435 - val_custom_mse_scaled: 0.1070 - val_gaussian_reconstruction_loss: 18.7784 - val_r_squared: 0.4511 - val_r_squared_linreg: 0.5538 - lr: 0.0500 - 349ms/epoch - 349ms/step\n",
      "Epoch 10/10\n",
      "1/1 - 0s - loss: 18.7857 - custom_mae: 0.1589 - custom_mean_sd: 0.6371 - custom_mse: 0.0436 - custom_mse_scaled: 0.1074 - gaussian_reconstruction_loss: 18.7857 - r_squared: 0.4705 - r_squared_linreg: 0.5597 - val_loss: 16.8996 - val_custom_mae: 0.1492 - val_custom_mean_sd: 0.6058 - val_custom_mse: 0.0379 - val_custom_mse_scaled: 0.1033 - val_gaussian_reconstruction_loss: 16.8996 - val_r_squared: 0.5216 - val_r_squared_linreg: 0.5705 - lr: 0.0500 - 327ms/epoch - 327ms/step\n",
      "\n",
      "-------------------------------------------------------------------------------------------------\n",
      "\n",
      "                                       REP: 1\n",
      "\n",
      "-------------------------------------------------------------------------------------------------\n",
      "\n",
      "Loading data from raw files\n",
      "registering celldata\n"
     ]
    },
    {
     "name": "stderr",
     "output_type": "stream",
     "text": [
      "/home/ifichtner/mambaforge/envs/squidpyTF/lib/python3.8/site-packages/ncem/data.py:2389: FutureWarning: X.dtype being converted to np.float32 from float64. In the next version of anndata (0.9) conversion will not be automatic. Pass dtype explicitly to avoid this warning. Pass `AnnData(X, dtype=X.dtype, ...)` to get the future behavour.\n",
      "  celldata = AnnData(\n",
      "/home/ifichtner/mambaforge/envs/squidpyTF/lib/python3.8/site-packages/anndata/_core/anndata.py:121: ImplicitModificationWarning: Transforming to str index.\n",
      "  warnings.warn(\"Transforming to str index.\", ImplicitModificationWarning)\n"
     ]
    },
    {
     "name": "stdout",
     "output_type": "stream",
     "text": [
      "collecting image-wise celldata\n",
      "adding graph-level covariates\n"
     ]
    },
    {
     "name": "stderr",
     "output_type": "stream",
     "text": [
      "100%|██████████| 58/58 [00:01<00:00, 54.52it/s]\n"
     ]
    },
    {
     "name": "stdout",
     "output_type": "stream",
     "text": [
      "Loaded 58 images with complete data from 4 patients over 63747 cells with 36 cell features and 8 distinct celltypes.\n",
      "Mean of mean node degree per images across images: 4.416036\n",
      "Using split method: node. \n",
      " Train-test-validation split is based on total number of nodes per patients over all images.\n",
      "\n",
      "Excluded 0 cells with the following unannotated cell type: [None] \n",
      "\n",
      "Whole dataset: 63747 cells out of 58 images from 4 patients.\n",
      "Test dataset: 6376 cells out of 58 images from 4 patients.\n",
      "Training dataset: 51930 cells out of 58 images from 4 patients.\n",
      "Validation dataset: 5738 cells out of 58 images from 4 patients. \n",
      "\n",
      "Epoch 1/10\n",
      "1/1 - 2s - loss: 38.2665 - custom_mae: 0.4382 - custom_mean_sd: 1.0000 - custom_mse: 0.2880 - custom_mse_scaled: 0.2880 - gaussian_reconstruction_loss: 38.2665 - r_squared: -2.4818e+00 - r_squared_linreg: 4.4030e-04 - val_loss: 34.0464 - val_custom_mae: 0.2905 - val_custom_mean_sd: 0.9512 - val_custom_mse: 0.1390 - val_custom_mse_scaled: 0.1536 - val_gaussian_reconstruction_loss: 34.0464 - val_r_squared: -7.4823e-01 - val_r_squared_linreg: 0.0565 - lr: 0.0500 - 2s/epoch - 2s/step\n",
      "Epoch 2/10\n",
      "1/1 - 0s - loss: 34.1242 - custom_mae: 0.2954 - custom_mean_sd: 0.9512 - custom_mse: 0.1429 - custom_mse_scaled: 0.1579 - gaussian_reconstruction_loss: 34.1242 - r_squared: -7.5869e-01 - r_squared_linreg: 0.0579 - val_loss: 31.2534 - val_custom_mae: 0.2219 - val_custom_mean_sd: 0.9049 - val_custom_mse: 0.0804 - val_custom_mse_scaled: 0.0982 - val_gaussian_reconstruction_loss: 31.2534 - val_r_squared: -1.1183e-02 - val_r_squared_linreg: 0.2275 - lr: 0.0500 - 342ms/epoch - 342ms/step\n",
      "Epoch 3/10\n",
      "1/1 - 0s - loss: 31.2536 - custom_mae: 0.2206 - custom_mean_sd: 0.9049 - custom_mse: 0.0804 - custom_mse_scaled: 0.0982 - gaussian_reconstruction_loss: 31.2536 - r_squared: 0.0200 - r_squared_linreg: 0.2414 - val_loss: 29.4585 - val_custom_mae: 0.2110 - val_custom_mean_sd: 0.8608 - val_custom_mse: 0.0729 - val_custom_mse_scaled: 0.0984 - val_gaussian_reconstruction_loss: 29.4585 - val_r_squared: 0.0748 - val_r_squared_linreg: 0.3975 - lr: 0.0500 - 362ms/epoch - 362ms/step\n",
      "Epoch 4/10\n",
      "1/1 - 0s - loss: 29.3597 - custom_mae: 0.2057 - custom_mean_sd: 0.8608 - custom_mse: 0.0689 - custom_mse_scaled: 0.0929 - gaussian_reconstruction_loss: 29.3597 - r_squared: 0.1714 - r_squared_linreg: 0.4100 - val_loss: 27.9411 - val_custom_mae: 0.2162 - val_custom_mean_sd: 0.8188 - val_custom_mse: 0.0767 - val_custom_mse_scaled: 0.1143 - val_gaussian_reconstruction_loss: 27.9411 - val_r_squared: 0.0381 - val_r_squared_linreg: 0.5037 - lr: 0.0500 - 346ms/epoch - 346ms/step\n",
      "Epoch 5/10\n",
      "1/1 - 0s - loss: 27.8829 - custom_mae: 0.2134 - custom_mean_sd: 0.8188 - custom_mse: 0.0745 - custom_mse_scaled: 0.1111 - gaussian_reconstruction_loss: 27.8829 - r_squared: 0.0867 - r_squared_linreg: 0.5261 - val_loss: 26.2515 - val_custom_mae: 0.2077 - val_custom_mean_sd: 0.7787 - val_custom_mse: 0.0733 - val_custom_mse_scaled: 0.1208 - val_gaussian_reconstruction_loss: 26.2515 - val_r_squared: 0.0731 - val_r_squared_linreg: 0.5572 - lr: 0.0500 - 338ms/epoch - 338ms/step\n",
      "Epoch 6/10\n",
      "1/1 - 0s - loss: 26.2717 - custom_mae: 0.2084 - custom_mean_sd: 0.7787 - custom_mse: 0.0739 - custom_mse_scaled: 0.1219 - gaussian_reconstruction_loss: 26.2717 - r_squared: 0.0917 - r_squared_linreg: 0.5728 - val_loss: 24.3338 - val_custom_mae: 0.1894 - val_custom_mean_sd: 0.7406 - val_custom_mse: 0.0629 - val_custom_mse_scaled: 0.1146 - val_gaussian_reconstruction_loss: 24.3338 - val_r_squared: 0.2174 - val_r_squared_linreg: 0.5856 - lr: 0.0500 - 383ms/epoch - 383ms/step\n",
      "Epoch 7/10\n",
      "1/1 - 0s - loss: 24.4365 - custom_mae: 0.1944 - custom_mean_sd: 0.7406 - custom_mse: 0.0660 - custom_mse_scaled: 0.1203 - gaussian_reconstruction_loss: 24.4365 - r_squared: 0.1976 - r_squared_linreg: 0.5823 - val_loss: 22.4680 - val_custom_mae: 0.1762 - val_custom_mean_sd: 0.7043 - val_custom_mse: 0.0553 - val_custom_mse_scaled: 0.1114 - val_gaussian_reconstruction_loss: 22.4680 - val_r_squared: 0.2986 - val_r_squared_linreg: 0.5696 - lr: 0.0500 - 399ms/epoch - 399ms/step\n",
      "Epoch 8/10\n",
      "1/1 - 0s - loss: 22.4295 - custom_mae: 0.1749 - custom_mean_sd: 0.7043 - custom_mse: 0.0542 - custom_mse_scaled: 0.1092 - gaussian_reconstruction_loss: 22.4295 - r_squared: 0.3425 - r_squared_linreg: 0.5763 - val_loss: 20.4237 - val_custom_mae: 0.1589 - val_custom_mean_sd: 0.6698 - val_custom_mse: 0.0441 - val_custom_mse_scaled: 0.0983 - val_gaussian_reconstruction_loss: 20.4237 - val_r_squared: 0.4441 - val_r_squared_linreg: 0.5695 - lr: 0.0500 - 361ms/epoch - 361ms/step\n",
      "Epoch 9/10\n",
      "1/1 - 0s - loss: 20.3847 - custom_mae: 0.1571 - custom_mean_sd: 0.6698 - custom_mse: 0.0431 - custom_mse_scaled: 0.0961 - gaussian_reconstruction_loss: 20.3847 - r_squared: 0.4799 - r_squared_linreg: 0.5844 - val_loss: 18.7273 - val_custom_mae: 0.1571 - val_custom_mean_sd: 0.6370 - val_custom_mse: 0.0425 - val_custom_mse_scaled: 0.1046 - val_gaussian_reconstruction_loss: 18.7273 - val_r_squared: 0.4649 - val_r_squared_linreg: 0.5438 - lr: 0.0500 - 334ms/epoch - 334ms/step\n",
      "Epoch 10/10\n",
      "1/1 - 0s - loss: 18.7256 - custom_mae: 0.1579 - custom_mean_sd: 0.6370 - custom_mse: 0.0424 - custom_mse_scaled: 0.1046 - gaussian_reconstruction_loss: 18.7256 - r_squared: 0.4915 - r_squared_linreg: 0.5560 - val_loss: 16.9171 - val_custom_mae: 0.1514 - val_custom_mean_sd: 0.6057 - val_custom_mse: 0.0384 - val_custom_mse_scaled: 0.1047 - val_gaussian_reconstruction_loss: 16.9171 - val_r_squared: 0.5097 - val_r_squared_linreg: 0.5609 - lr: 0.0500 - 422ms/epoch - 422ms/step\n",
      "\n",
      "-------------------------------------------------------------------------------------------------\n",
      "\n",
      "                                       REP: 2\n",
      "\n",
      "-------------------------------------------------------------------------------------------------\n",
      "\n",
      "Loading data from raw files\n",
      "registering celldata\n"
     ]
    },
    {
     "name": "stderr",
     "output_type": "stream",
     "text": [
      "/home/ifichtner/mambaforge/envs/squidpyTF/lib/python3.8/site-packages/ncem/data.py:2389: FutureWarning: X.dtype being converted to np.float32 from float64. In the next version of anndata (0.9) conversion will not be automatic. Pass dtype explicitly to avoid this warning. Pass `AnnData(X, dtype=X.dtype, ...)` to get the future behavour.\n",
      "  celldata = AnnData(\n",
      "/home/ifichtner/mambaforge/envs/squidpyTF/lib/python3.8/site-packages/anndata/_core/anndata.py:121: ImplicitModificationWarning: Transforming to str index.\n",
      "  warnings.warn(\"Transforming to str index.\", ImplicitModificationWarning)\n"
     ]
    },
    {
     "name": "stdout",
     "output_type": "stream",
     "text": [
      "collecting image-wise celldata\n",
      "adding graph-level covariates\n"
     ]
    },
    {
     "name": "stderr",
     "output_type": "stream",
     "text": [
      "100%|██████████| 58/58 [00:01<00:00, 51.90it/s]\n"
     ]
    },
    {
     "name": "stdout",
     "output_type": "stream",
     "text": [
      "Loaded 58 images with complete data from 4 patients over 63747 cells with 36 cell features and 8 distinct celltypes.\n",
      "Mean of mean node degree per images across images: 4.416036\n",
      "Using split method: node. \n",
      " Train-test-validation split is based on total number of nodes per patients over all images.\n",
      "\n",
      "Excluded 0 cells with the following unannotated cell type: [None] \n",
      "\n",
      "Whole dataset: 63747 cells out of 58 images from 4 patients.\n",
      "Test dataset: 6376 cells out of 58 images from 4 patients.\n",
      "Training dataset: 51930 cells out of 58 images from 4 patients.\n",
      "Validation dataset: 5738 cells out of 58 images from 4 patients. \n",
      "\n",
      "Epoch 1/10\n",
      "1/1 - 1s - loss: 38.4522 - custom_mae: 0.4479 - custom_mean_sd: 1.0000 - custom_mse: 0.2984 - custom_mse_scaled: 0.2984 - gaussian_reconstruction_loss: 38.4522 - r_squared: -2.6066e+00 - r_squared_linreg: 0.0015 - val_loss: 33.9726 - val_custom_mae: 0.2892 - val_custom_mean_sd: 0.9512 - val_custom_mse: 0.1353 - val_custom_mse_scaled: 0.1495 - val_gaussian_reconstruction_loss: 33.9726 - val_r_squared: -7.0990e-01 - val_r_squared_linreg: 0.0574 - lr: 0.0500 - 1s/epoch - 1s/step\n",
      "Epoch 2/10\n",
      "1/1 - 0s - loss: 34.2067 - custom_mae: 0.3022 - custom_mean_sd: 0.9512 - custom_mse: 0.1470 - custom_mse_scaled: 0.1625 - gaussian_reconstruction_loss: 34.2067 - r_squared: -8.0973e-01 - r_squared_linreg: 0.0425 - val_loss: 31.2063 - val_custom_mae: 0.2208 - val_custom_mean_sd: 0.9050 - val_custom_mse: 0.0782 - val_custom_mse_scaled: 0.0955 - val_gaussian_reconstruction_loss: 31.2063 - val_r_squared: 0.0148 - val_r_squared_linreg: 0.2334 - lr: 0.0500 - 405ms/epoch - 405ms/step\n",
      "Epoch 3/10\n",
      "1/1 - 0s - loss: 31.2467 - custom_mae: 0.2230 - custom_mean_sd: 0.9050 - custom_mse: 0.0801 - custom_mse_scaled: 0.0977 - gaussian_reconstruction_loss: 31.2467 - r_squared: 0.0249 - r_squared_linreg: 0.2196 - val_loss: 29.3864 - val_custom_mae: 0.2079 - val_custom_mean_sd: 0.8609 - val_custom_mse: 0.0699 - val_custom_mse_scaled: 0.0943 - val_gaussian_reconstruction_loss: 29.3864 - val_r_squared: 0.1266 - val_r_squared_linreg: 0.4011 - lr: 0.0500 - 360ms/epoch - 360ms/step\n",
      "Epoch 4/10\n",
      "1/1 - 0s - loss: 29.3457 - custom_mae: 0.2050 - custom_mean_sd: 0.8609 - custom_mse: 0.0682 - custom_mse_scaled: 0.0920 - gaussian_reconstruction_loss: 29.3457 - r_squared: 0.1629 - r_squared_linreg: 0.4065 - val_loss: 27.8856 - val_custom_mae: 0.2134 - val_custom_mean_sd: 0.8189 - val_custom_mse: 0.0744 - val_custom_mse_scaled: 0.1110 - val_gaussian_reconstruction_loss: 27.8856 - val_r_squared: 0.0552 - val_r_squared_linreg: 0.5141 - lr: 0.0500 - 356ms/epoch - 356ms/step\n",
      "Epoch 5/10\n",
      "1/1 - 0s - loss: 27.7918 - custom_mae: 0.2075 - custom_mean_sd: 0.8189 - custom_mse: 0.0710 - custom_mse_scaled: 0.1058 - gaussian_reconstruction_loss: 27.7918 - r_squared: 0.1319 - r_squared_linreg: 0.5280 - val_loss: 26.3258 - val_custom_mae: 0.2116 - val_custom_mean_sd: 0.7788 - val_custom_mse: 0.0756 - val_custom_mse_scaled: 0.1247 - val_gaussian_reconstruction_loss: 26.3258 - val_r_squared: 0.0455 - val_r_squared_linreg: 0.5942 - lr: 0.0500 - 357ms/epoch - 357ms/step\n",
      "Epoch 6/10\n",
      "1/1 - 0s - loss: 26.1471 - custom_mae: 0.2021 - custom_mean_sd: 0.7788 - custom_mse: 0.0696 - custom_mse_scaled: 0.1147 - gaussian_reconstruction_loss: 26.1471 - r_squared: 0.1605 - r_squared_linreg: 0.5868 - val_loss: 24.4572 - val_custom_mae: 0.1955 - val_custom_mean_sd: 0.7407 - val_custom_mse: 0.0666 - val_custom_mse_scaled: 0.1213 - val_gaussian_reconstruction_loss: 24.4572 - val_r_squared: 0.1612 - val_r_squared_linreg: 0.6202 - lr: 0.0500 - 363ms/epoch - 363ms/step\n",
      "Epoch 7/10\n",
      "1/1 - 0s - loss: 24.4133 - custom_mae: 0.1931 - custom_mean_sd: 0.7407 - custom_mse: 0.0652 - custom_mse_scaled: 0.1188 - gaussian_reconstruction_loss: 24.4133 - r_squared: 0.2093 - r_squared_linreg: 0.6027 - val_loss: 22.4977 - val_custom_mae: 0.1789 - val_custom_mean_sd: 0.7044 - val_custom_mse: 0.0560 - val_custom_mse_scaled: 0.1128 - val_gaussian_reconstruction_loss: 22.4977 - val_r_squared: 0.2932 - val_r_squared_linreg: 0.5862 - lr: 0.0500 - 360ms/epoch - 360ms/step\n",
      "Epoch 8/10\n",
      "1/1 - 0s - loss: 22.4279 - custom_mae: 0.1748 - custom_mean_sd: 0.7044 - custom_mse: 0.0541 - custom_mse_scaled: 0.1089 - gaussian_reconstruction_loss: 22.4279 - r_squared: 0.3445 - r_squared_linreg: 0.5966 - val_loss: 20.5593 - val_custom_mae: 0.1635 - val_custom_mean_sd: 0.6699 - val_custom_mse: 0.0474 - val_custom_mse_scaled: 0.1056 - val_gaussian_reconstruction_loss: 20.5593 - val_r_squared: 0.4047 - val_r_squared_linreg: 0.5675 - lr: 0.0500 - 372ms/epoch - 372ms/step\n",
      "Epoch 9/10\n",
      "1/1 - 0s - loss: 20.5432 - custom_mae: 0.1640 - custom_mean_sd: 0.6699 - custom_mse: 0.0470 - custom_mse_scaled: 0.1047 - gaussian_reconstruction_loss: 20.5432 - r_squared: 0.4315 - r_squared_linreg: 0.5873 - val_loss: 18.7666 - val_custom_mae: 0.1583 - val_custom_mean_sd: 0.6370 - val_custom_mse: 0.0433 - val_custom_mse_scaled: 0.1066 - val_gaussian_reconstruction_loss: 18.7666 - val_r_squared: 0.4515 - val_r_squared_linreg: 0.5569 - lr: 0.0500 - 367ms/epoch - 367ms/step\n",
      "Epoch 10/10\n",
      "1/1 - 0s - loss: 18.7050 - custom_mae: 0.1559 - custom_mean_sd: 0.6370 - custom_mse: 0.0419 - custom_mse_scaled: 0.1032 - gaussian_reconstruction_loss: 18.7050 - r_squared: 0.4930 - r_squared_linreg: 0.5741 - val_loss: 16.8986 - val_custom_mae: 0.1493 - val_custom_mean_sd: 0.6058 - val_custom_mse: 0.0380 - val_custom_mse_scaled: 0.1035 - val_gaussian_reconstruction_loss: 16.8986 - val_r_squared: 0.5213 - val_r_squared_linreg: 0.5678 - lr: 0.0500 - 362ms/epoch - 362ms/step\n",
      "\n",
      "-------------------------------------------------------------------------------------------------\n",
      "\n",
      "                                       REP: 3\n",
      "\n",
      "-------------------------------------------------------------------------------------------------\n",
      "\n",
      "Loading data from raw files\n",
      "registering celldata\n"
     ]
    },
    {
     "name": "stderr",
     "output_type": "stream",
     "text": [
      "/home/ifichtner/mambaforge/envs/squidpyTF/lib/python3.8/site-packages/ncem/data.py:2389: FutureWarning: X.dtype being converted to np.float32 from float64. In the next version of anndata (0.9) conversion will not be automatic. Pass dtype explicitly to avoid this warning. Pass `AnnData(X, dtype=X.dtype, ...)` to get the future behavour.\n",
      "  celldata = AnnData(\n",
      "/home/ifichtner/mambaforge/envs/squidpyTF/lib/python3.8/site-packages/anndata/_core/anndata.py:121: ImplicitModificationWarning: Transforming to str index.\n",
      "  warnings.warn(\"Transforming to str index.\", ImplicitModificationWarning)\n"
     ]
    },
    {
     "name": "stdout",
     "output_type": "stream",
     "text": [
      "collecting image-wise celldata\n",
      "adding graph-level covariates\n"
     ]
    },
    {
     "name": "stderr",
     "output_type": "stream",
     "text": [
      "100%|██████████| 58/58 [00:01<00:00, 49.43it/s]\n"
     ]
    },
    {
     "name": "stdout",
     "output_type": "stream",
     "text": [
      "Loaded 58 images with complete data from 4 patients over 63747 cells with 36 cell features and 8 distinct celltypes.\n",
      "Mean of mean node degree per images across images: 4.416036\n",
      "Using split method: node. \n",
      " Train-test-validation split is based on total number of nodes per patients over all images.\n",
      "\n",
      "Excluded 0 cells with the following unannotated cell type: [None] \n",
      "\n",
      "Whole dataset: 63747 cells out of 58 images from 4 patients.\n",
      "Test dataset: 6376 cells out of 58 images from 4 patients.\n",
      "Training dataset: 51930 cells out of 58 images from 4 patients.\n",
      "Validation dataset: 5738 cells out of 58 images from 4 patients. \n",
      "\n",
      "Epoch 1/10\n",
      "1/1 - 1s - loss: 38.9672 - custom_mae: 0.4675 - custom_mean_sd: 1.0000 - custom_mse: 0.3270 - custom_mse_scaled: 0.3270 - gaussian_reconstruction_loss: 38.9672 - r_squared: -2.9524e+00 - r_squared_linreg: 0.0025 - val_loss: 34.4771 - val_custom_mae: 0.3142 - val_custom_mean_sd: 0.9512 - val_custom_mse: 0.1606 - val_custom_mse_scaled: 0.1775 - val_gaussian_reconstruction_loss: 34.4771 - val_r_squared: -1.0253e+00 - val_r_squared_linreg: 0.0316 - lr: 0.0500 - 1s/epoch - 1s/step\n",
      "Epoch 2/10\n",
      "1/1 - 0s - loss: 34.6137 - custom_mae: 0.3204 - custom_mean_sd: 0.9512 - custom_mse: 0.1675 - custom_mse_scaled: 0.1851 - gaussian_reconstruction_loss: 34.6137 - r_squared: -1.0615e+00 - r_squared_linreg: 0.0333 - val_loss: 31.5013 - val_custom_mae: 0.2359 - val_custom_mean_sd: 0.9051 - val_custom_mse: 0.0915 - val_custom_mse_scaled: 0.1116 - val_gaussian_reconstruction_loss: 31.5013 - val_r_squared: -1.5272e-01 - val_r_squared_linreg: 0.1943 - lr: 0.0500 - 366ms/epoch - 366ms/step\n",
      "Epoch 3/10\n",
      "1/1 - 0s - loss: 31.4833 - custom_mae: 0.2345 - custom_mean_sd: 0.9051 - custom_mse: 0.0906 - custom_mse_scaled: 0.1106 - gaussian_reconstruction_loss: 31.4833 - r_squared: -1.0609e-01 - r_squared_linreg: 0.2111 - val_loss: 29.4638 - val_custom_mae: 0.2110 - val_custom_mean_sd: 0.8612 - val_custom_mse: 0.0727 - val_custom_mse_scaled: 0.0980 - val_gaussian_reconstruction_loss: 29.4638 - val_r_squared: 0.0837 - val_r_squared_linreg: 0.3783 - lr: 0.0500 - 339ms/epoch - 339ms/step\n",
      "Epoch 4/10\n",
      "1/1 - 0s - loss: 29.4073 - custom_mae: 0.2066 - custom_mean_sd: 0.8612 - custom_mse: 0.0704 - custom_mse_scaled: 0.0948 - gaussian_reconstruction_loss: 29.4073 - r_squared: 0.1468 - r_squared_linreg: 0.3891 - val_loss: 27.9354 - val_custom_mae: 0.2127 - val_custom_mean_sd: 0.8192 - val_custom_mse: 0.0759 - val_custom_mse_scaled: 0.1130 - val_gaussian_reconstruction_loss: 27.9354 - val_r_squared: 0.0299 - val_r_squared_linreg: 0.5084 - lr: 0.0500 - 357ms/epoch - 357ms/step\n",
      "Epoch 5/10\n",
      "1/1 - 0s - loss: 27.8135 - custom_mae: 0.2066 - custom_mean_sd: 0.8192 - custom_mse: 0.0713 - custom_mse_scaled: 0.1062 - gaussian_reconstruction_loss: 27.8135 - r_squared: 0.1276 - r_squared_linreg: 0.5144 - val_loss: 26.4092 - val_custom_mae: 0.2120 - val_custom_mean_sd: 0.7791 - val_custom_mse: 0.0780 - val_custom_mse_scaled: 0.1284 - val_gaussian_reconstruction_loss: 26.4092 - val_r_squared: 0.0073 - val_r_squared_linreg: 0.5573 - lr: 0.0500 - 354ms/epoch - 354ms/step\n",
      "Epoch 6/10\n",
      "1/1 - 0s - loss: 26.2415 - custom_mae: 0.2048 - custom_mean_sd: 0.7791 - custom_mse: 0.0724 - custom_mse_scaled: 0.1191 - gaussian_reconstruction_loss: 26.2415 - r_squared: 0.1248 - r_squared_linreg: 0.5699 - val_loss: 24.5875 - val_custom_mae: 0.1991 - val_custom_mean_sd: 0.7410 - val_custom_mse: 0.0701 - val_custom_mse_scaled: 0.1276 - val_gaussian_reconstruction_loss: 24.5875 - val_r_squared: 0.1250 - val_r_squared_linreg: 0.5879 - lr: 0.0500 - 409ms/epoch - 409ms/step\n",
      "Epoch 7/10\n",
      "1/1 - 0s - loss: 24.5164 - custom_mae: 0.1971 - custom_mean_sd: 0.7410 - custom_mse: 0.0680 - custom_mse_scaled: 0.1236 - gaussian_reconstruction_loss: 24.5164 - r_squared: 0.1849 - r_squared_linreg: 0.5905 - val_loss: 22.7367 - val_custom_mae: 0.1885 - val_custom_mean_sd: 0.7047 - val_custom_mse: 0.0623 - val_custom_mse_scaled: 0.1252 - val_gaussian_reconstruction_loss: 22.7367 - val_r_squared: 0.2031 - val_r_squared_linreg: 0.5858 - lr: 0.0500 - 367ms/epoch - 367ms/step\n",
      "Epoch 8/10\n",
      "1/1 - 0s - loss: 22.6240 - custom_mae: 0.1826 - custom_mean_sd: 0.7047 - custom_mse: 0.0591 - custom_mse_scaled: 0.1189 - gaussian_reconstruction_loss: 22.6240 - r_squared: 0.2826 - r_squared_linreg: 0.5755 - val_loss: 20.7165 - val_custom_mae: 0.1699 - val_custom_mean_sd: 0.6702 - val_custom_mse: 0.0510 - val_custom_mse_scaled: 0.1134 - val_gaussian_reconstruction_loss: 20.7165 - val_r_squared: 0.3610 - val_r_squared_linreg: 0.5634 - lr: 0.0500 - 362ms/epoch - 362ms/step\n",
      "Epoch 9/10\n",
      "1/1 - 0s - loss: 20.7661 - custom_mae: 0.1718 - custom_mean_sd: 0.6702 - custom_mse: 0.0523 - custom_mse_scaled: 0.1162 - gaussian_reconstruction_loss: 20.7661 - r_squared: 0.3602 - r_squared_linreg: 0.5712 - val_loss: 18.7836 - val_custom_mae: 0.1563 - val_custom_mean_sd: 0.6373 - val_custom_mse: 0.0434 - val_custom_mse_scaled: 0.1066 - val_gaussian_reconstruction_loss: 18.7836 - val_r_squared: 0.4517 - val_r_squared_linreg: 0.5645 - lr: 0.0500 - 360ms/epoch - 360ms/step\n",
      "Epoch 10/10\n",
      "1/1 - 0s - loss: 18.8862 - custom_mae: 0.1615 - custom_mean_sd: 0.6373 - custom_mse: 0.0457 - custom_mse_scaled: 0.1123 - gaussian_reconstruction_loss: 18.8862 - r_squared: 0.4516 - r_squared_linreg: 0.5503 - val_loss: 16.8849 - val_custom_mae: 0.1469 - val_custom_mean_sd: 0.6060 - val_custom_mse: 0.0374 - val_custom_mse_scaled: 0.1018 - val_gaussian_reconstruction_loss: 16.8849 - val_r_squared: 0.5231 - val_r_squared_linreg: 0.5713 - lr: 0.0500 - 349ms/epoch - 349ms/step\n",
      "\n",
      "-------------------------------------------------------------------------------------------------\n",
      "\n",
      "                                       REP: 4\n",
      "\n",
      "-------------------------------------------------------------------------------------------------\n",
      "\n",
      "Loading data from raw files\n",
      "registering celldata\n"
     ]
    },
    {
     "name": "stderr",
     "output_type": "stream",
     "text": [
      "/home/ifichtner/mambaforge/envs/squidpyTF/lib/python3.8/site-packages/ncem/data.py:2389: FutureWarning: X.dtype being converted to np.float32 from float64. In the next version of anndata (0.9) conversion will not be automatic. Pass dtype explicitly to avoid this warning. Pass `AnnData(X, dtype=X.dtype, ...)` to get the future behavour.\n",
      "  celldata = AnnData(\n",
      "/home/ifichtner/mambaforge/envs/squidpyTF/lib/python3.8/site-packages/anndata/_core/anndata.py:121: ImplicitModificationWarning: Transforming to str index.\n",
      "  warnings.warn(\"Transforming to str index.\", ImplicitModificationWarning)\n"
     ]
    },
    {
     "name": "stdout",
     "output_type": "stream",
     "text": [
      "collecting image-wise celldata\n",
      "adding graph-level covariates\n"
     ]
    },
    {
     "name": "stderr",
     "output_type": "stream",
     "text": [
      "100%|██████████| 58/58 [00:01<00:00, 51.97it/s]\n"
     ]
    },
    {
     "name": "stdout",
     "output_type": "stream",
     "text": [
      "Loaded 58 images with complete data from 4 patients over 63747 cells with 36 cell features and 8 distinct celltypes.\n",
      "Mean of mean node degree per images across images: 4.416036\n",
      "Using split method: node. \n",
      " Train-test-validation split is based on total number of nodes per patients over all images.\n",
      "\n",
      "Excluded 0 cells with the following unannotated cell type: [None] \n",
      "\n",
      "Whole dataset: 63747 cells out of 58 images from 4 patients.\n",
      "Test dataset: 6376 cells out of 58 images from 4 patients.\n",
      "Training dataset: 51930 cells out of 58 images from 4 patients.\n",
      "Validation dataset: 5738 cells out of 58 images from 4 patients. \n",
      "\n",
      "Epoch 1/10\n",
      "1/1 - 1s - loss: 37.9469 - custom_mae: 0.4216 - custom_mean_sd: 1.0000 - custom_mse: 0.2703 - custom_mse_scaled: 0.2703 - gaussian_reconstruction_loss: 37.9469 - r_squared: -2.2673e+00 - r_squared_linreg: 0.0036 - val_loss: 33.7318 - val_custom_mae: 0.2746 - val_custom_mean_sd: 0.9512 - val_custom_mse: 0.1232 - val_custom_mse_scaled: 0.1361 - val_gaussian_reconstruction_loss: 33.7318 - val_r_squared: -5.5867e-01 - val_r_squared_linreg: 0.0953 - lr: 0.0500 - 1s/epoch - 1s/step\n",
      "Epoch 2/10\n",
      "1/1 - 0s - loss: 33.9053 - custom_mae: 0.2846 - custom_mean_sd: 0.9512 - custom_mse: 0.1319 - custom_mse_scaled: 0.1457 - gaussian_reconstruction_loss: 33.9053 - r_squared: -6.2320e-01 - r_squared_linreg: 0.0820 - val_loss: 31.1664 - val_custom_mae: 0.2175 - val_custom_mean_sd: 0.9050 - val_custom_mse: 0.0764 - val_custom_mse_scaled: 0.0933 - val_gaussian_reconstruction_loss: 31.1664 - val_r_squared: 0.0354 - val_r_squared_linreg: 0.2632 - lr: 0.0500 - 369ms/epoch - 369ms/step\n",
      "Epoch 3/10\n",
      "1/1 - 0s - loss: 31.1746 - custom_mae: 0.2172 - custom_mean_sd: 0.9050 - custom_mse: 0.0768 - custom_mse_scaled: 0.0938 - gaussian_reconstruction_loss: 31.1746 - r_squared: 0.0645 - r_squared_linreg: 0.2669 - val_loss: 29.3310 - val_custom_mae: 0.2033 - val_custom_mean_sd: 0.8609 - val_custom_mse: 0.0676 - val_custom_mse_scaled: 0.0912 - val_gaussian_reconstruction_loss: 29.3310 - val_r_squared: 0.1438 - val_r_squared_linreg: 0.4362 - lr: 0.0500 - 394ms/epoch - 394ms/step\n",
      "Epoch 4/10\n",
      "1/1 - 0s - loss: 29.2442 - custom_mae: 0.1981 - custom_mean_sd: 0.8609 - custom_mse: 0.0640 - custom_mse_scaled: 0.0864 - gaussian_reconstruction_loss: 29.2442 - r_squared: 0.2308 - r_squared_linreg: 0.4470 - val_loss: 27.7616 - val_custom_mae: 0.2045 - val_custom_mean_sd: 0.8189 - val_custom_mse: 0.0698 - val_custom_mse_scaled: 0.1041 - val_gaussian_reconstruction_loss: 27.7616 - val_r_squared: 0.1217 - val_r_squared_linreg: 0.5443 - lr: 0.0500 - 419ms/epoch - 419ms/step\n",
      "Epoch 5/10\n",
      "1/1 - 0s - loss: 27.7522 - custom_mae: 0.2040 - custom_mean_sd: 0.8189 - custom_mse: 0.0695 - custom_mse_scaled: 0.1036 - gaussian_reconstruction_loss: 27.7522 - r_squared: 0.1552 - r_squared_linreg: 0.5493 - val_loss: 26.1641 - val_custom_mae: 0.2028 - val_custom_mean_sd: 0.7788 - val_custom_mse: 0.0702 - val_custom_mse_scaled: 0.1156 - val_gaussian_reconstruction_loss: 26.1641 - val_r_squared: 0.1202 - val_r_squared_linreg: 0.5852 - lr: 0.0500 - 396ms/epoch - 396ms/step\n",
      "Epoch 6/10\n",
      "1/1 - 0s - loss: 26.0134 - custom_mae: 0.1944 - custom_mean_sd: 0.7788 - custom_mse: 0.0651 - custom_mse_scaled: 0.1073 - gaussian_reconstruction_loss: 26.0134 - r_squared: 0.2152 - r_squared_linreg: 0.5865 - val_loss: 24.3815 - val_custom_mae: 0.1915 - val_custom_mean_sd: 0.7407 - val_custom_mse: 0.0642 - val_custom_mse_scaled: 0.1169 - val_gaussian_reconstruction_loss: 24.3815 - val_r_squared: 0.1982 - val_r_squared_linreg: 0.5654 - lr: 0.0500 - 429ms/epoch - 429ms/step\n",
      "Epoch 7/10\n",
      "1/1 - 0s - loss: 24.3100 - custom_mae: 0.1888 - custom_mean_sd: 0.7407 - custom_mse: 0.0620 - custom_mse_scaled: 0.1130 - gaussian_reconstruction_loss: 24.3100 - r_squared: 0.2474 - r_squared_linreg: 0.5902 - val_loss: 22.3982 - val_custom_mae: 0.1752 - val_custom_mean_sd: 0.7045 - val_custom_mse: 0.0532 - val_custom_mse_scaled: 0.1071 - val_gaussian_reconstruction_loss: 22.3982 - val_r_squared: 0.3333 - val_r_squared_linreg: 0.5670 - lr: 0.0500 - 406ms/epoch - 406ms/step\n",
      "Epoch 8/10\n",
      "1/1 - 0s - loss: 22.4456 - custom_mae: 0.1767 - custom_mean_sd: 0.7045 - custom_mse: 0.0545 - custom_mse_scaled: 0.1097 - gaussian_reconstruction_loss: 22.4456 - r_squared: 0.3451 - r_squared_linreg: 0.5687 - val_loss: 20.5247 - val_custom_mae: 0.1635 - val_custom_mean_sd: 0.6700 - val_custom_mse: 0.0465 - val_custom_mse_scaled: 0.1034 - val_gaussian_reconstruction_loss: 20.5247 - val_r_squared: 0.4210 - val_r_squared_linreg: 0.5533 - lr: 0.0500 - 415ms/epoch - 415ms/step\n",
      "Epoch 9/10\n",
      "1/1 - 0s - loss: 20.4362 - custom_mae: 0.1609 - custom_mean_sd: 0.6700 - custom_mse: 0.0442 - custom_mse_scaled: 0.0985 - gaussian_reconstruction_loss: 20.4362 - r_squared: 0.4559 - r_squared_linreg: 0.5748 - val_loss: 18.5992 - val_custom_mae: 0.1524 - val_custom_mean_sd: 0.6372 - val_custom_mse: 0.0394 - val_custom_mse_scaled: 0.0969 - val_gaussian_reconstruction_loss: 18.5992 - val_r_squared: 0.4982 - val_r_squared_linreg: 0.5590 - lr: 0.0500 - 416ms/epoch - 416ms/step\n",
      "Epoch 10/10\n",
      "1/1 - 0s - loss: 18.6049 - custom_mae: 0.1526 - custom_mean_sd: 0.6372 - custom_mse: 0.0395 - custom_mse_scaled: 0.0972 - gaussian_reconstruction_loss: 18.6049 - r_squared: 0.5109 - r_squared_linreg: 0.5688 - val_loss: 16.8962 - val_custom_mae: 0.1492 - val_custom_mean_sd: 0.6059 - val_custom_mse: 0.0378 - val_custom_mse_scaled: 0.1029 - val_gaussian_reconstruction_loss: 16.8962 - val_r_squared: 0.5270 - val_r_squared_linreg: 0.5617 - lr: 0.0500 - 388ms/epoch - 388ms/step\n",
      "\n",
      "-------------------------------------------------------------------------------------------------\n",
      "\n",
      "                                       REP: 5\n",
      "\n",
      "-------------------------------------------------------------------------------------------------\n",
      "\n",
      "Loading data from raw files\n",
      "registering celldata\n"
     ]
    },
    {
     "name": "stderr",
     "output_type": "stream",
     "text": [
      "/home/ifichtner/mambaforge/envs/squidpyTF/lib/python3.8/site-packages/ncem/data.py:2389: FutureWarning: X.dtype being converted to np.float32 from float64. In the next version of anndata (0.9) conversion will not be automatic. Pass dtype explicitly to avoid this warning. Pass `AnnData(X, dtype=X.dtype, ...)` to get the future behavour.\n",
      "  celldata = AnnData(\n",
      "/home/ifichtner/mambaforge/envs/squidpyTF/lib/python3.8/site-packages/anndata/_core/anndata.py:121: ImplicitModificationWarning: Transforming to str index.\n",
      "  warnings.warn(\"Transforming to str index.\", ImplicitModificationWarning)\n"
     ]
    },
    {
     "name": "stdout",
     "output_type": "stream",
     "text": [
      "collecting image-wise celldata\n",
      "adding graph-level covariates\n"
     ]
    },
    {
     "name": "stderr",
     "output_type": "stream",
     "text": [
      "100%|██████████| 58/58 [00:01<00:00, 52.57it/s]\n"
     ]
    },
    {
     "name": "stdout",
     "output_type": "stream",
     "text": [
      "Loaded 58 images with complete data from 4 patients over 63747 cells with 36 cell features and 8 distinct celltypes.\n",
      "Mean of mean node degree per images across images: 4.416036\n",
      "Using split method: node. \n",
      " Train-test-validation split is based on total number of nodes per patients over all images.\n",
      "\n",
      "Excluded 0 cells with the following unannotated cell type: [None] \n",
      "\n",
      "Whole dataset: 63747 cells out of 58 images from 4 patients.\n",
      "Test dataset: 6376 cells out of 58 images from 4 patients.\n",
      "Training dataset: 51930 cells out of 58 images from 4 patients.\n",
      "Validation dataset: 5738 cells out of 58 images from 4 patients. \n",
      "\n",
      "Epoch 1/10\n",
      "1/1 - 1s - loss: 38.3116 - custom_mae: 0.4367 - custom_mean_sd: 1.0000 - custom_mse: 0.2905 - custom_mse_scaled: 0.2905 - gaussian_reconstruction_loss: 38.3116 - r_squared: -2.5121e+00 - r_squared_linreg: 7.8373e-06 - val_loss: 34.0730 - val_custom_mae: 0.2891 - val_custom_mean_sd: 0.9512 - val_custom_mse: 0.1403 - val_custom_mse_scaled: 0.1551 - val_gaussian_reconstruction_loss: 34.0730 - val_r_squared: -7.7111e-01 - val_r_squared_linreg: 0.0601 - lr: 0.0500 - 1s/epoch - 1s/step\n",
      "Epoch 2/10\n",
      "1/1 - 0s - loss: 34.1790 - custom_mae: 0.2954 - custom_mean_sd: 0.9512 - custom_mse: 0.1456 - custom_mse_scaled: 0.1610 - gaussian_reconstruction_loss: 34.1790 - r_squared: -7.9259e-01 - r_squared_linreg: 0.0544 - val_loss: 31.3516 - val_custom_mae: 0.2260 - val_custom_mean_sd: 0.9050 - val_custom_mse: 0.0849 - val_custom_mse_scaled: 0.1036 - val_gaussian_reconstruction_loss: 31.3516 - val_r_squared: -8.7856e-02 - val_r_squared_linreg: 0.2217 - lr: 0.0500 - 397ms/epoch - 397ms/step\n",
      "Epoch 3/10\n",
      "1/1 - 0s - loss: 31.3401 - custom_mae: 0.2246 - custom_mean_sd: 0.9050 - custom_mse: 0.0844 - custom_mse_scaled: 0.1030 - gaussian_reconstruction_loss: 31.3401 - r_squared: -2.7370e-02 - r_squared_linreg: 0.2410 - val_loss: 29.4416 - val_custom_mae: 0.2093 - val_custom_mean_sd: 0.8609 - val_custom_mse: 0.0722 - val_custom_mse_scaled: 0.0974 - val_gaussian_reconstruction_loss: 29.4416 - val_r_squared: 0.0857 - val_r_squared_linreg: 0.4021 - lr: 0.0500 - 382ms/epoch - 382ms/step\n",
      "Epoch 4/10\n",
      "1/1 - 0s - loss: 29.3937 - custom_mae: 0.2062 - custom_mean_sd: 0.8609 - custom_mse: 0.0702 - custom_mse_scaled: 0.0948 - gaussian_reconstruction_loss: 29.3937 - r_squared: 0.1449 - r_squared_linreg: 0.4104 - val_loss: 27.7623 - val_custom_mae: 0.2051 - val_custom_mean_sd: 0.8188 - val_custom_mse: 0.0699 - val_custom_mse_scaled: 0.1043 - val_gaussian_reconstruction_loss: 27.7623 - val_r_squared: 0.1190 - val_r_squared_linreg: 0.5178 - lr: 0.0500 - 377ms/epoch - 377ms/step\n",
      "Epoch 5/10\n",
      "1/1 - 0s - loss: 27.7929 - custom_mae: 0.2072 - custom_mean_sd: 0.8188 - custom_mse: 0.0711 - custom_mse_scaled: 0.1060 - gaussian_reconstruction_loss: 27.7929 - r_squared: 0.1363 - r_squared_linreg: 0.5178 - val_loss: 26.2664 - val_custom_mae: 0.2075 - val_custom_mean_sd: 0.7787 - val_custom_mse: 0.0737 - val_custom_mse_scaled: 0.1215 - val_gaussian_reconstruction_loss: 26.2664 - val_r_squared: 0.0622 - val_r_squared_linreg: 0.5651 - lr: 0.0500 - 384ms/epoch - 384ms/step\n",
      "Epoch 6/10\n",
      "1/1 - 0s - loss: 26.0916 - custom_mae: 0.1998 - custom_mean_sd: 0.7787 - custom_mse: 0.0678 - custom_mse_scaled: 0.1118 - gaussian_reconstruction_loss: 26.0916 - r_squared: 0.1703 - r_squared_linreg: 0.5736 - val_loss: 24.3788 - val_custom_mae: 0.1918 - val_custom_mean_sd: 0.7406 - val_custom_mse: 0.0642 - val_custom_mse_scaled: 0.1171 - val_gaussian_reconstruction_loss: 24.3788 - val_r_squared: 0.1862 - val_r_squared_linreg: 0.5863 - lr: 0.0500 - 383ms/epoch - 383ms/step\n",
      "Epoch 7/10\n",
      "1/1 - 0s - loss: 24.2975 - custom_mae: 0.1887 - custom_mean_sd: 0.7406 - custom_mse: 0.0618 - custom_mse_scaled: 0.1125 - gaussian_reconstruction_loss: 24.2975 - r_squared: 0.2614 - r_squared_linreg: 0.5787 - val_loss: 22.4191 - val_custom_mae: 0.1755 - val_custom_mean_sd: 0.7043 - val_custom_mse: 0.0539 - val_custom_mse_scaled: 0.1087 - val_gaussian_reconstruction_loss: 22.4191 - val_r_squared: 0.3256 - val_r_squared_linreg: 0.5745 - lr: 0.0500 - 388ms/epoch - 388ms/step\n",
      "Epoch 8/10\n",
      "1/1 - 0s - loss: 22.3403 - custom_mae: 0.1721 - custom_mean_sd: 0.7043 - custom_mse: 0.0518 - custom_mse_scaled: 0.1043 - gaussian_reconstruction_loss: 22.3403 - r_squared: 0.3692 - r_squared_linreg: 0.5865 - val_loss: 20.5628 - val_custom_mae: 0.1644 - val_custom_mean_sd: 0.6698 - val_custom_mse: 0.0476 - val_custom_mse_scaled: 0.1061 - val_gaussian_reconstruction_loss: 20.5628 - val_r_squared: 0.3972 - val_r_squared_linreg: 0.5706 - lr: 0.0500 - 398ms/epoch - 398ms/step\n",
      "Epoch 9/10\n",
      "1/1 - 0s - loss: 20.5088 - custom_mae: 0.1625 - custom_mean_sd: 0.6698 - custom_mse: 0.0463 - custom_mse_scaled: 0.1031 - gaussian_reconstruction_loss: 20.5088 - r_squared: 0.4348 - r_squared_linreg: 0.5746 - val_loss: 18.6629 - val_custom_mae: 0.1521 - val_custom_mean_sd: 0.6369 - val_custom_mse: 0.0410 - val_custom_mse_scaled: 0.1012 - val_gaussian_reconstruction_loss: 18.6629 - val_r_squared: 0.4800 - val_r_squared_linreg: 0.5740 - lr: 0.0500 - 405ms/epoch - 405ms/step\n",
      "Epoch 10/10\n",
      "1/1 - 0s - loss: 18.7173 - custom_mae: 0.1547 - custom_mean_sd: 0.6369 - custom_mse: 0.0423 - custom_mse_scaled: 0.1042 - gaussian_reconstruction_loss: 18.7173 - r_squared: 0.4823 - r_squared_linreg: 0.5669 - val_loss: 16.9801 - val_custom_mae: 0.1504 - val_custom_mean_sd: 0.6057 - val_custom_mse: 0.0397 - val_custom_mse_scaled: 0.1084 - val_gaussian_reconstruction_loss: 16.9801 - val_r_squared: 0.5033 - val_r_squared_linreg: 0.5602 - lr: 0.0500 - 364ms/epoch - 364ms/step\n",
      "\n",
      "-------------------------------------------------------------------------------------------------\n",
      "\n",
      "                                       REP: 6\n",
      "\n",
      "-------------------------------------------------------------------------------------------------\n",
      "\n",
      "Loading data from raw files\n",
      "registering celldata\n"
     ]
    },
    {
     "name": "stderr",
     "output_type": "stream",
     "text": [
      "/home/ifichtner/mambaforge/envs/squidpyTF/lib/python3.8/site-packages/ncem/data.py:2389: FutureWarning: X.dtype being converted to np.float32 from float64. In the next version of anndata (0.9) conversion will not be automatic. Pass dtype explicitly to avoid this warning. Pass `AnnData(X, dtype=X.dtype, ...)` to get the future behavour.\n",
      "  celldata = AnnData(\n",
      "/home/ifichtner/mambaforge/envs/squidpyTF/lib/python3.8/site-packages/anndata/_core/anndata.py:121: ImplicitModificationWarning: Transforming to str index.\n",
      "  warnings.warn(\"Transforming to str index.\", ImplicitModificationWarning)\n"
     ]
    },
    {
     "name": "stdout",
     "output_type": "stream",
     "text": [
      "collecting image-wise celldata\n",
      "adding graph-level covariates\n"
     ]
    },
    {
     "name": "stderr",
     "output_type": "stream",
     "text": [
      "100%|██████████| 58/58 [00:01<00:00, 49.26it/s]\n"
     ]
    },
    {
     "name": "stdout",
     "output_type": "stream",
     "text": [
      "Loaded 58 images with complete data from 4 patients over 63747 cells with 36 cell features and 8 distinct celltypes.\n",
      "Mean of mean node degree per images across images: 4.416036\n",
      "Using split method: node. \n",
      " Train-test-validation split is based on total number of nodes per patients over all images.\n",
      "\n",
      "Excluded 0 cells with the following unannotated cell type: [None] \n",
      "\n",
      "Whole dataset: 63747 cells out of 58 images from 4 patients.\n",
      "Test dataset: 6376 cells out of 58 images from 4 patients.\n",
      "Training dataset: 51930 cells out of 58 images from 4 patients.\n",
      "Validation dataset: 5738 cells out of 58 images from 4 patients. \n",
      "\n",
      "Epoch 1/10\n",
      "1/1 - 2s - loss: 38.4348 - custom_mae: 0.4477 - custom_mean_sd: 1.0000 - custom_mse: 0.2974 - custom_mse_scaled: 0.2974 - gaussian_reconstruction_loss: 38.4348 - r_squared: -2.5949e+00 - r_squared_linreg: 6.8944e-04 - val_loss: 33.9790 - val_custom_mae: 0.2874 - val_custom_mean_sd: 0.9512 - val_custom_mse: 0.1356 - val_custom_mse_scaled: 0.1498 - val_gaussian_reconstruction_loss: 33.9790 - val_r_squared: -6.9829e-01 - val_r_squared_linreg: 0.0639 - lr: 0.0500 - 2s/epoch - 2s/step\n",
      "Epoch 2/10\n",
      "1/1 - 0s - loss: 34.1637 - custom_mae: 0.2969 - custom_mean_sd: 0.9512 - custom_mse: 0.1449 - custom_mse_scaled: 0.1601 - gaussian_reconstruction_loss: 34.1637 - r_squared: -7.8309e-01 - r_squared_linreg: 0.0627 - val_loss: 31.2964 - val_custom_mae: 0.2242 - val_custom_mean_sd: 0.9050 - val_custom_mse: 0.0824 - val_custom_mse_scaled: 0.1005 - val_gaussian_reconstruction_loss: 31.2964 - val_r_squared: -3.0439e-02 - val_r_squared_linreg: 0.2298 - lr: 0.0500 - 445ms/epoch - 445ms/step\n",
      "Epoch 3/10\n",
      "1/1 - 1s - loss: 31.3085 - custom_mae: 0.2242 - custom_mean_sd: 0.9050 - custom_mse: 0.0829 - custom_mse_scaled: 0.1012 - gaussian_reconstruction_loss: 31.3085 - r_squared: -9.8325e-03 - r_squared_linreg: 0.2285 - val_loss: 29.5114 - val_custom_mae: 0.2162 - val_custom_mean_sd: 0.8608 - val_custom_mse: 0.0751 - val_custom_mse_scaled: 0.1013 - val_gaussian_reconstruction_loss: 29.5114 - val_r_squared: 0.0489 - val_r_squared_linreg: 0.3985 - lr: 0.0500 - 510ms/epoch - 510ms/step\n",
      "Epoch 4/10\n",
      "1/1 - 0s - loss: 29.4219 - custom_mae: 0.2103 - custom_mean_sd: 0.8608 - custom_mse: 0.0714 - custom_mse_scaled: 0.0963 - gaussian_reconstruction_loss: 29.4219 - r_squared: 0.1392 - r_squared_linreg: 0.4088 - val_loss: 28.0831 - val_custom_mae: 0.2236 - val_custom_mean_sd: 0.8188 - val_custom_mse: 0.0819 - val_custom_mse_scaled: 0.1222 - val_gaussian_reconstruction_loss: 28.0831 - val_r_squared: -3.9164e-02 - val_r_squared_linreg: 0.4946 - lr: 0.0500 - 457ms/epoch - 457ms/step\n",
      "Epoch 5/10\n",
      "1/1 - 0s - loss: 27.9178 - custom_mae: 0.2140 - custom_mean_sd: 0.8188 - custom_mse: 0.0758 - custom_mse_scaled: 0.1130 - gaussian_reconstruction_loss: 27.9178 - r_squared: 0.0862 - r_squared_linreg: 0.5073 - val_loss: 26.3685 - val_custom_mae: 0.2135 - val_custom_mean_sd: 0.7787 - val_custom_mse: 0.0772 - val_custom_mse_scaled: 0.1272 - val_gaussian_reconstruction_loss: 26.3685 - val_r_squared: 0.0421 - val_r_squared_linreg: 0.5505 - lr: 0.0500 - 420ms/epoch - 420ms/step\n",
      "Epoch 6/10\n",
      "1/1 - 0s - loss: 26.2980 - custom_mae: 0.2103 - custom_mean_sd: 0.7787 - custom_mse: 0.0748 - custom_mse_scaled: 0.1233 - gaussian_reconstruction_loss: 26.2980 - r_squared: 0.0950 - r_squared_linreg: 0.5619 - val_loss: 24.4168 - val_custom_mae: 0.1945 - val_custom_mean_sd: 0.7406 - val_custom_mse: 0.0654 - val_custom_mse_scaled: 0.1192 - val_gaussian_reconstruction_loss: 24.4168 - val_r_squared: 0.1848 - val_r_squared_linreg: 0.5763 - lr: 0.0500 - 473ms/epoch - 473ms/step\n",
      "Epoch 7/10\n",
      "1/1 - 0s - loss: 24.2813 - custom_mae: 0.1873 - custom_mean_sd: 0.7406 - custom_mse: 0.0613 - custom_mse_scaled: 0.1117 - gaussian_reconstruction_loss: 24.2813 - r_squared: 0.2611 - r_squared_linreg: 0.5813 - val_loss: 22.4756 - val_custom_mae: 0.1771 - val_custom_mean_sd: 0.7043 - val_custom_mse: 0.0555 - val_custom_mse_scaled: 0.1118 - val_gaussian_reconstruction_loss: 22.4756 - val_r_squared: 0.3061 - val_r_squared_linreg: 0.5765 - lr: 0.0500 - 407ms/epoch - 407ms/step\n",
      "Epoch 8/10\n",
      "1/1 - 0s - loss: 22.3844 - custom_mae: 0.1729 - custom_mean_sd: 0.7043 - custom_mse: 0.0530 - custom_mse_scaled: 0.1068 - gaussian_reconstruction_loss: 22.3844 - r_squared: 0.3499 - r_squared_linreg: 0.5820 - val_loss: 20.4330 - val_custom_mae: 0.1577 - val_custom_mean_sd: 0.6698 - val_custom_mse: 0.0444 - val_custom_mse_scaled: 0.0989 - val_gaussian_reconstruction_loss: 20.4330 - val_r_squared: 0.4446 - val_r_squared_linreg: 0.5602 - lr: 0.0500 - 430ms/epoch - 430ms/step\n",
      "Epoch 9/10\n",
      "1/1 - 0s - loss: 20.4333 - custom_mae: 0.1594 - custom_mean_sd: 0.6698 - custom_mse: 0.0444 - custom_mse_scaled: 0.0990 - gaussian_reconstruction_loss: 20.4333 - r_squared: 0.4594 - r_squared_linreg: 0.5747 - val_loss: 18.6276 - val_custom_mae: 0.1526 - val_custom_mean_sd: 0.6369 - val_custom_mse: 0.0403 - val_custom_mse_scaled: 0.0993 - val_gaussian_reconstruction_loss: 18.6276 - val_r_squared: 0.4931 - val_r_squared_linreg: 0.5650 - lr: 0.0500 - 410ms/epoch - 410ms/step\n",
      "Epoch 10/10\n",
      "1/1 - 0s - loss: 18.5958 - custom_mae: 0.1511 - custom_mean_sd: 0.6369 - custom_mse: 0.0396 - custom_mse_scaled: 0.0975 - gaussian_reconstruction_loss: 18.5958 - r_squared: 0.5179 - r_squared_linreg: 0.5837 - val_loss: 17.0530 - val_custom_mae: 0.1550 - val_custom_mean_sd: 0.6056 - val_custom_mse: 0.0413 - val_custom_mse_scaled: 0.1126 - val_gaussian_reconstruction_loss: 17.0530 - val_r_squared: 0.4827 - val_r_squared_linreg: 0.5431 - lr: 0.0500 - 382ms/epoch - 382ms/step\n",
      "\n",
      "-------------------------------------------------------------------------------------------------\n",
      "\n",
      "                                       REP: 7\n",
      "\n",
      "-------------------------------------------------------------------------------------------------\n",
      "\n",
      "Loading data from raw files\n",
      "registering celldata\n"
     ]
    },
    {
     "name": "stderr",
     "output_type": "stream",
     "text": [
      "/home/ifichtner/mambaforge/envs/squidpyTF/lib/python3.8/site-packages/ncem/data.py:2389: FutureWarning: X.dtype being converted to np.float32 from float64. In the next version of anndata (0.9) conversion will not be automatic. Pass dtype explicitly to avoid this warning. Pass `AnnData(X, dtype=X.dtype, ...)` to get the future behavour.\n",
      "  celldata = AnnData(\n",
      "/home/ifichtner/mambaforge/envs/squidpyTF/lib/python3.8/site-packages/anndata/_core/anndata.py:121: ImplicitModificationWarning: Transforming to str index.\n",
      "  warnings.warn(\"Transforming to str index.\", ImplicitModificationWarning)\n"
     ]
    },
    {
     "name": "stdout",
     "output_type": "stream",
     "text": [
      "collecting image-wise celldata\n",
      "adding graph-level covariates\n"
     ]
    },
    {
     "name": "stderr",
     "output_type": "stream",
     "text": [
      "100%|██████████| 58/58 [00:01<00:00, 51.93it/s]\n"
     ]
    },
    {
     "name": "stdout",
     "output_type": "stream",
     "text": [
      "Loaded 58 images with complete data from 4 patients over 63747 cells with 36 cell features and 8 distinct celltypes.\n",
      "Mean of mean node degree per images across images: 4.416036\n",
      "Using split method: node. \n",
      " Train-test-validation split is based on total number of nodes per patients over all images.\n",
      "\n",
      "Excluded 0 cells with the following unannotated cell type: [None] \n",
      "\n",
      "Whole dataset: 63747 cells out of 58 images from 4 patients.\n",
      "Test dataset: 6376 cells out of 58 images from 4 patients.\n",
      "Training dataset: 51930 cells out of 58 images from 4 patients.\n",
      "Validation dataset: 5738 cells out of 58 images from 4 patients. \n",
      "\n",
      "Epoch 1/10\n",
      "1/1 - 2s - loss: 38.4891 - custom_mae: 0.4481 - custom_mean_sd: 1.0000 - custom_mse: 0.3004 - custom_mse_scaled: 0.3004 - gaussian_reconstruction_loss: 38.4891 - r_squared: -2.6314e+00 - r_squared_linreg: 0.0034 - val_loss: 34.1734 - val_custom_mae: 0.3011 - val_custom_mean_sd: 0.9512 - val_custom_mse: 0.1454 - val_custom_mse_scaled: 0.1606 - val_gaussian_reconstruction_loss: 34.1734 - val_r_squared: -8.1471e-01 - val_r_squared_linreg: 0.0338 - lr: 0.0500 - 2s/epoch - 2s/step\n",
      "Epoch 2/10\n",
      "1/1 - 0s - loss: 34.2762 - custom_mae: 0.3047 - custom_mean_sd: 0.9512 - custom_mse: 0.1505 - custom_mse_scaled: 0.1664 - gaussian_reconstruction_loss: 34.2762 - r_squared: -8.5271e-01 - r_squared_linreg: 0.0361 - val_loss: 31.2357 - val_custom_mae: 0.2221 - val_custom_mean_sd: 0.9050 - val_custom_mse: 0.0795 - val_custom_mse_scaled: 0.0970 - val_gaussian_reconstruction_loss: 31.2357 - val_r_squared: -2.3720e-02 - val_r_squared_linreg: 0.2172 - lr: 0.0500 - 368ms/epoch - 368ms/step\n",
      "Epoch 3/10\n",
      "1/1 - 0s - loss: 31.2651 - custom_mae: 0.2228 - custom_mean_sd: 0.9050 - custom_mse: 0.0808 - custom_mse_scaled: 0.0986 - gaussian_reconstruction_loss: 31.2651 - r_squared: 0.0157 - r_squared_linreg: 0.2339 - val_loss: 29.4009 - val_custom_mae: 0.2081 - val_custom_mean_sd: 0.8610 - val_custom_mse: 0.0703 - val_custom_mse_scaled: 0.0948 - val_gaussian_reconstruction_loss: 29.4009 - val_r_squared: 0.1112 - val_r_squared_linreg: 0.4016 - lr: 0.0500 - 383ms/epoch - 383ms/step\n",
      "Epoch 4/10\n",
      "1/1 - 0s - loss: 29.3354 - custom_mae: 0.2035 - custom_mean_sd: 0.8610 - custom_mse: 0.0676 - custom_mse_scaled: 0.0912 - gaussian_reconstruction_loss: 29.3354 - r_squared: 0.1776 - r_squared_linreg: 0.4141 - val_loss: 27.8267 - val_custom_mae: 0.2070 - val_custom_mean_sd: 0.8190 - val_custom_mse: 0.0721 - val_custom_mse_scaled: 0.1075 - val_gaussian_reconstruction_loss: 27.8267 - val_r_squared: 0.1032 - val_r_squared_linreg: 0.5224 - lr: 0.0500 - 394ms/epoch - 394ms/step\n",
      "Epoch 5/10\n",
      "1/1 - 0s - loss: 27.8318 - custom_mae: 0.2075 - custom_mean_sd: 0.8190 - custom_mse: 0.0723 - custom_mse_scaled: 0.1077 - gaussian_reconstruction_loss: 27.8318 - r_squared: 0.1168 - r_squared_linreg: 0.5200 - val_loss: 26.2626 - val_custom_mae: 0.2069 - val_custom_mean_sd: 0.7789 - val_custom_mse: 0.0733 - val_custom_mse_scaled: 0.1208 - val_gaussian_reconstruction_loss: 26.2626 - val_r_squared: 0.0722 - val_r_squared_linreg: 0.5833 - lr: 0.0500 - 374ms/epoch - 374ms/step\n",
      "Epoch 6/10\n",
      "1/1 - 0s - loss: 26.2126 - custom_mae: 0.2022 - custom_mean_sd: 0.7789 - custom_mse: 0.0717 - custom_mse_scaled: 0.1181 - gaussian_reconstruction_loss: 26.2126 - r_squared: 0.1337 - r_squared_linreg: 0.5816 - val_loss: 24.4714 - val_custom_mae: 0.1954 - val_custom_mean_sd: 0.7408 - val_custom_mse: 0.0668 - val_custom_mse_scaled: 0.1217 - val_gaussian_reconstruction_loss: 24.4714 - val_r_squared: 0.1675 - val_r_squared_linreg: 0.5891 - lr: 0.0500 - 392ms/epoch - 392ms/step\n",
      "Epoch 7/10\n",
      "1/1 - 0s - loss: 24.4688 - custom_mae: 0.1949 - custom_mean_sd: 0.7408 - custom_mse: 0.0668 - custom_mse_scaled: 0.1215 - gaussian_reconstruction_loss: 24.4688 - r_squared: 0.1920 - r_squared_linreg: 0.5999 - val_loss: 22.4740 - val_custom_mae: 0.1773 - val_custom_mean_sd: 0.7045 - val_custom_mse: 0.0552 - val_custom_mse_scaled: 0.1111 - val_gaussian_reconstruction_loss: 22.4740 - val_r_squared: 0.2998 - val_r_squared_linreg: 0.6065 - lr: 0.0500 - 400ms/epoch - 400ms/step\n",
      "Epoch 8/10\n",
      "1/1 - 0s - loss: 22.5304 - custom_mae: 0.1768 - custom_mean_sd: 0.7045 - custom_mse: 0.0568 - custom_mse_scaled: 0.1142 - gaussian_reconstruction_loss: 22.5304 - r_squared: 0.3130 - r_squared_linreg: 0.5981 - val_loss: 20.6593 - val_custom_mae: 0.1674 - val_custom_mean_sd: 0.6700 - val_custom_mse: 0.0498 - val_custom_mse_scaled: 0.1107 - val_gaussian_reconstruction_loss: 20.6593 - val_r_squared: 0.3594 - val_r_squared_linreg: 0.5644 - lr: 0.0500 - 406ms/epoch - 406ms/step\n",
      "Epoch 9/10\n",
      "1/1 - 0s - loss: 20.5957 - custom_mae: 0.1649 - custom_mean_sd: 0.6700 - custom_mse: 0.0482 - custom_mse_scaled: 0.1072 - gaussian_reconstruction_loss: 20.5957 - r_squared: 0.4081 - r_squared_linreg: 0.5716 - val_loss: 18.7290 - val_custom_mae: 0.1566 - val_custom_mean_sd: 0.6372 - val_custom_mse: 0.0423 - val_custom_mse_scaled: 0.1040 - val_gaussian_reconstruction_loss: 18.7290 - val_r_squared: 0.4718 - val_r_squared_linreg: 0.5572 - lr: 0.0500 - 424ms/epoch - 424ms/step\n",
      "Epoch 10/10\n",
      "1/1 - 0s - loss: 18.7606 - custom_mae: 0.1580 - custom_mean_sd: 0.6372 - custom_mse: 0.0430 - custom_mse_scaled: 0.1058 - gaussian_reconstruction_loss: 18.7606 - r_squared: 0.4742 - r_squared_linreg: 0.5523 - val_loss: 17.0325 - val_custom_mae: 0.1549 - val_custom_mean_sd: 0.6059 - val_custom_mse: 0.0405 - val_custom_mse_scaled: 0.1104 - val_gaussian_reconstruction_loss: 17.0325 - val_r_squared: 0.4852 - val_r_squared_linreg: 0.5407 - lr: 0.0500 - 432ms/epoch - 432ms/step\n",
      "\n",
      "-------------------------------------------------------------------------------------------------\n",
      "\n",
      "                                       REP: 8\n",
      "\n",
      "-------------------------------------------------------------------------------------------------\n",
      "\n",
      "Loading data from raw files\n",
      "registering celldata\n"
     ]
    },
    {
     "name": "stderr",
     "output_type": "stream",
     "text": [
      "/home/ifichtner/mambaforge/envs/squidpyTF/lib/python3.8/site-packages/ncem/data.py:2389: FutureWarning: X.dtype being converted to np.float32 from float64. In the next version of anndata (0.9) conversion will not be automatic. Pass dtype explicitly to avoid this warning. Pass `AnnData(X, dtype=X.dtype, ...)` to get the future behavour.\n",
      "  celldata = AnnData(\n",
      "/home/ifichtner/mambaforge/envs/squidpyTF/lib/python3.8/site-packages/anndata/_core/anndata.py:121: ImplicitModificationWarning: Transforming to str index.\n",
      "  warnings.warn(\"Transforming to str index.\", ImplicitModificationWarning)\n"
     ]
    },
    {
     "name": "stdout",
     "output_type": "stream",
     "text": [
      "collecting image-wise celldata\n",
      "adding graph-level covariates\n"
     ]
    },
    {
     "name": "stderr",
     "output_type": "stream",
     "text": [
      "100%|██████████| 58/58 [00:01<00:00, 52.62it/s]\n"
     ]
    },
    {
     "name": "stdout",
     "output_type": "stream",
     "text": [
      "Loaded 58 images with complete data from 4 patients over 63747 cells with 36 cell features and 8 distinct celltypes.\n",
      "Mean of mean node degree per images across images: 4.416036\n",
      "Using split method: node. \n",
      " Train-test-validation split is based on total number of nodes per patients over all images.\n",
      "\n",
      "Excluded 0 cells with the following unannotated cell type: [None] \n",
      "\n",
      "Whole dataset: 63747 cells out of 58 images from 4 patients.\n",
      "Test dataset: 6376 cells out of 58 images from 4 patients.\n",
      "Training dataset: 51930 cells out of 58 images from 4 patients.\n",
      "Validation dataset: 5738 cells out of 58 images from 4 patients. \n",
      "\n",
      "Epoch 1/10\n",
      "1/1 - 2s - loss: 38.8337 - custom_mae: 0.4701 - custom_mean_sd: 1.0000 - custom_mse: 0.3195 - custom_mse_scaled: 0.3195 - gaussian_reconstruction_loss: 38.8337 - r_squared: -2.8628e+00 - r_squared_linreg: 6.1274e-04 - val_loss: 34.2287 - val_custom_mae: 0.3036 - val_custom_mean_sd: 0.9512 - val_custom_mse: 0.1481 - val_custom_mse_scaled: 0.1637 - val_gaussian_reconstruction_loss: 34.2287 - val_r_squared: -8.6865e-01 - val_r_squared_linreg: 0.0448 - lr: 0.0500 - 2s/epoch - 2s/step\n",
      "Epoch 2/10\n",
      "1/1 - 0s - loss: 34.4008 - custom_mae: 0.3126 - custom_mean_sd: 0.9512 - custom_mse: 0.1568 - custom_mse_scaled: 0.1733 - gaussian_reconstruction_loss: 34.4008 - r_squared: -9.2983e-01 - r_squared_linreg: 0.0408 - val_loss: 31.2479 - val_custom_mae: 0.2191 - val_custom_mean_sd: 0.9051 - val_custom_mse: 0.0800 - val_custom_mse_scaled: 0.0975 - val_gaussian_reconstruction_loss: 31.2479 - val_r_squared: -1.3048e-02 - val_r_squared_linreg: 0.2387 - lr: 0.0500 - 474ms/epoch - 474ms/step\n",
      "Epoch 3/10\n",
      "1/1 - 0s - loss: 31.3398 - custom_mae: 0.2249 - custom_mean_sd: 0.9051 - custom_mse: 0.0842 - custom_mse_scaled: 0.1026 - gaussian_reconstruction_loss: 31.3398 - r_squared: -2.6917e-02 - r_squared_linreg: 0.2279 - val_loss: 29.3818 - val_custom_mae: 0.2048 - val_custom_mean_sd: 0.8611 - val_custom_mse: 0.0694 - val_custom_mse_scaled: 0.0936 - val_gaussian_reconstruction_loss: 29.3818 - val_r_squared: 0.1269 - val_r_squared_linreg: 0.4069 - lr: 0.0500 - 420ms/epoch - 420ms/step\n",
      "Epoch 4/10\n",
      "1/1 - 0s - loss: 29.4117 - custom_mae: 0.2057 - custom_mean_sd: 0.8611 - custom_mse: 0.0707 - custom_mse_scaled: 0.0952 - gaussian_reconstruction_loss: 29.4117 - r_squared: 0.1384 - r_squared_linreg: 0.4044 - val_loss: 27.9772 - val_custom_mae: 0.2164 - val_custom_mean_sd: 0.8191 - val_custom_mse: 0.0776 - val_custom_mse_scaled: 0.1156 - val_gaussian_reconstruction_loss: 27.9772 - val_r_squared: 0.0148 - val_r_squared_linreg: 0.5223 - lr: 0.0500 - 450ms/epoch - 450ms/step\n",
      "Epoch 5/10\n",
      "1/1 - 0s - loss: 27.9542 - custom_mae: 0.2152 - custom_mean_sd: 0.8191 - custom_mse: 0.0768 - custom_mse_scaled: 0.1143 - gaussian_reconstruction_loss: 27.9542 - r_squared: 0.0711 - r_squared_linreg: 0.5208 - val_loss: 26.4494 - val_custom_mae: 0.2181 - val_custom_mean_sd: 0.7790 - val_custom_mse: 0.0796 - val_custom_mse_scaled: 0.1310 - val_gaussian_reconstruction_loss: 26.4494 - val_r_squared: -1.1677e-02 - val_r_squared_linreg: 0.5696 - lr: 0.0500 - 455ms/epoch - 455ms/step\n",
      "Epoch 6/10\n",
      "1/1 - 0s - loss: 26.3240 - custom_mae: 0.2115 - custom_mean_sd: 0.7790 - custom_mse: 0.0754 - custom_mse_scaled: 0.1240 - gaussian_reconstruction_loss: 26.3240 - r_squared: 0.1084 - r_squared_linreg: 0.5628 - val_loss: 24.5827 - val_custom_mae: 0.2041 - val_custom_mean_sd: 0.7409 - val_custom_mse: 0.0702 - val_custom_mse_scaled: 0.1277 - val_gaussian_reconstruction_loss: 24.5827 - val_r_squared: 0.1085 - val_r_squared_linreg: 0.5837 - lr: 0.0500 - 442ms/epoch - 442ms/step\n",
      "Epoch 7/10\n",
      "1/1 - 0s - loss: 24.5861 - custom_mae: 0.2018 - custom_mean_sd: 0.7409 - custom_mse: 0.0703 - custom_mse_scaled: 0.1279 - gaussian_reconstruction_loss: 24.5861 - r_squared: 0.1443 - r_squared_linreg: 0.5914 - val_loss: 22.6250 - val_custom_mae: 0.1854 - val_custom_mean_sd: 0.7046 - val_custom_mse: 0.0593 - val_custom_mse_scaled: 0.1193 - val_gaussian_reconstruction_loss: 22.6250 - val_r_squared: 0.2495 - val_r_squared_linreg: 0.5689 - lr: 0.0500 - 454ms/epoch - 454ms/step\n",
      "Epoch 8/10\n",
      "1/1 - 0s - loss: 22.5835 - custom_mae: 0.1827 - custom_mean_sd: 0.7046 - custom_mse: 0.0582 - custom_mse_scaled: 0.1170 - gaussian_reconstruction_loss: 22.5835 - r_squared: 0.2879 - r_squared_linreg: 0.5782 - val_loss: 20.6107 - val_custom_mae: 0.1685 - val_custom_mean_sd: 0.6701 - val_custom_mse: 0.0485 - val_custom_mse_scaled: 0.1079 - val_gaussian_reconstruction_loss: 20.6107 - val_r_squared: 0.3888 - val_r_squared_linreg: 0.5547 - lr: 0.0500 - 433ms/epoch - 433ms/step\n",
      "Epoch 9/10\n",
      "1/1 - 0s - loss: 20.5198 - custom_mae: 0.1641 - custom_mean_sd: 0.6701 - custom_mse: 0.0462 - custom_mse_scaled: 0.1029 - gaussian_reconstruction_loss: 20.5198 - r_squared: 0.4311 - r_squared_linreg: 0.5755 - val_loss: 18.7530 - val_custom_mae: 0.1593 - val_custom_mean_sd: 0.6372 - val_custom_mse: 0.0428 - val_custom_mse_scaled: 0.1053 - val_gaussian_reconstruction_loss: 18.7530 - val_r_squared: 0.4621 - val_r_squared_linreg: 0.5517 - lr: 0.0500 - 393ms/epoch - 393ms/step\n",
      "Epoch 10/10\n",
      "1/1 - 0s - loss: 18.7787 - custom_mae: 0.1605 - custom_mean_sd: 0.6372 - custom_mse: 0.0434 - custom_mse_scaled: 0.1068 - gaussian_reconstruction_loss: 18.7787 - r_squared: 0.4676 - r_squared_linreg: 0.5596 - val_loss: 17.0476 - val_custom_mae: 0.1538 - val_custom_mean_sd: 0.6059 - val_custom_mse: 0.0409 - val_custom_mse_scaled: 0.1113 - val_gaussian_reconstruction_loss: 17.0476 - val_r_squared: 0.4832 - val_r_squared_linreg: 0.5495 - lr: 0.0500 - 425ms/epoch - 425ms/step\n",
      "\n",
      "-------------------------------------------------------------------------------------------------\n",
      "\n",
      "                                       REP: 9\n",
      "\n",
      "-------------------------------------------------------------------------------------------------\n",
      "\n",
      "Loading data from raw files\n",
      "registering celldata\n"
     ]
    },
    {
     "name": "stderr",
     "output_type": "stream",
     "text": [
      "/home/ifichtner/mambaforge/envs/squidpyTF/lib/python3.8/site-packages/ncem/data.py:2389: FutureWarning: X.dtype being converted to np.float32 from float64. In the next version of anndata (0.9) conversion will not be automatic. Pass dtype explicitly to avoid this warning. Pass `AnnData(X, dtype=X.dtype, ...)` to get the future behavour.\n",
      "  celldata = AnnData(\n",
      "/home/ifichtner/mambaforge/envs/squidpyTF/lib/python3.8/site-packages/anndata/_core/anndata.py:121: ImplicitModificationWarning: Transforming to str index.\n",
      "  warnings.warn(\"Transforming to str index.\", ImplicitModificationWarning)\n"
     ]
    },
    {
     "name": "stdout",
     "output_type": "stream",
     "text": [
      "collecting image-wise celldata\n",
      "adding graph-level covariates\n"
     ]
    },
    {
     "name": "stderr",
     "output_type": "stream",
     "text": [
      "100%|██████████| 58/58 [00:01<00:00, 50.75it/s]\n"
     ]
    },
    {
     "name": "stdout",
     "output_type": "stream",
     "text": [
      "Loaded 58 images with complete data from 4 patients over 63747 cells with 36 cell features and 8 distinct celltypes.\n",
      "Mean of mean node degree per images across images: 4.416036\n",
      "Using split method: node. \n",
      " Train-test-validation split is based on total number of nodes per patients over all images.\n",
      "\n",
      "Excluded 0 cells with the following unannotated cell type: [None] \n",
      "\n",
      "Whole dataset: 63747 cells out of 58 images from 4 patients.\n",
      "Test dataset: 6376 cells out of 58 images from 4 patients.\n",
      "Training dataset: 51930 cells out of 58 images from 4 patients.\n",
      "Validation dataset: 5738 cells out of 58 images from 4 patients. \n",
      "\n",
      "Epoch 1/10\n",
      "1/1 - 2s - loss: 38.5408 - custom_mae: 0.4471 - custom_mean_sd: 1.0000 - custom_mse: 0.3033 - custom_mse_scaled: 0.3033 - gaussian_reconstruction_loss: 38.5408 - r_squared: -2.6661e+00 - r_squared_linreg: 9.7584e-04 - val_loss: 34.1272 - val_custom_mae: 0.2943 - val_custom_mean_sd: 0.9512 - val_custom_mse: 0.1430 - val_custom_mse_scaled: 0.1581 - val_gaussian_reconstruction_loss: 34.1272 - val_r_squared: -8.0917e-01 - val_r_squared_linreg: 0.0561 - lr: 0.0500 - 2s/epoch - 2s/step\n",
      "Epoch 2/10\n",
      "1/1 - 0s - loss: 34.3003 - custom_mae: 0.3039 - custom_mean_sd: 0.9512 - custom_mse: 0.1517 - custom_mse_scaled: 0.1677 - gaussian_reconstruction_loss: 34.3003 - r_squared: -8.6760e-01 - r_squared_linreg: 0.0537 - val_loss: 31.3164 - val_custom_mae: 0.2266 - val_custom_mean_sd: 0.9052 - val_custom_mse: 0.0830 - val_custom_mse_scaled: 0.1012 - val_gaussian_reconstruction_loss: 31.3164 - val_r_squared: -6.4584e-02 - val_r_squared_linreg: 0.2152 - lr: 0.0500 - 438ms/epoch - 438ms/step\n",
      "Epoch 3/10\n",
      "1/1 - 0s - loss: 31.3904 - custom_mae: 0.2314 - custom_mean_sd: 0.9052 - custom_mse: 0.0864 - custom_mse_scaled: 0.1053 - gaussian_reconstruction_loss: 31.3904 - r_squared: -5.2134e-02 - r_squared_linreg: 0.2085 - val_loss: 29.4229 - val_custom_mae: 0.2106 - val_custom_mean_sd: 0.8612 - val_custom_mse: 0.0709 - val_custom_mse_scaled: 0.0956 - val_gaussian_reconstruction_loss: 29.4229 - val_r_squared: 0.0901 - val_r_squared_linreg: 0.3819 - lr: 0.0500 - 436ms/epoch - 436ms/step\n",
      "Epoch 4/10\n",
      "1/1 - 0s - loss: 29.3683 - custom_mae: 0.2062 - custom_mean_sd: 0.8612 - custom_mse: 0.0687 - custom_mse_scaled: 0.0925 - gaussian_reconstruction_loss: 29.3683 - r_squared: 0.1674 - r_squared_linreg: 0.3917 - val_loss: 27.9221 - val_custom_mae: 0.2138 - val_custom_mean_sd: 0.8192 - val_custom_mse: 0.0753 - val_custom_mse_scaled: 0.1121 - val_gaussian_reconstruction_loss: 27.9221 - val_r_squared: 0.0406 - val_r_squared_linreg: 0.4977 - lr: 0.0500 - 402ms/epoch - 402ms/step\n",
      "Epoch 5/10\n",
      "1/1 - 0s - loss: 27.8228 - custom_mae: 0.2082 - custom_mean_sd: 0.8192 - custom_mse: 0.0716 - custom_mse_scaled: 0.1066 - gaussian_reconstruction_loss: 27.8228 - r_squared: 0.1257 - r_squared_linreg: 0.5064 - val_loss: 26.2501 - val_custom_mae: 0.2055 - val_custom_mean_sd: 0.7792 - val_custom_mse: 0.0726 - val_custom_mse_scaled: 0.1194 - val_gaussian_reconstruction_loss: 26.2501 - val_r_squared: 0.0750 - val_r_squared_linreg: 0.5638 - lr: 0.0500 - 409ms/epoch - 409ms/step\n",
      "Epoch 6/10\n",
      "1/1 - 0s - loss: 26.1617 - custom_mae: 0.2004 - custom_mean_sd: 0.7792 - custom_mse: 0.0696 - custom_mse_scaled: 0.1145 - gaussian_reconstruction_loss: 26.1617 - r_squared: 0.1587 - r_squared_linreg: 0.5711 - val_loss: 24.4990 - val_custom_mae: 0.1947 - val_custom_mean_sd: 0.7411 - val_custom_mse: 0.0674 - val_custom_mse_scaled: 0.1224 - val_gaussian_reconstruction_loss: 24.4990 - val_r_squared: 0.1487 - val_r_squared_linreg: 0.5730 - lr: 0.0500 - 379ms/epoch - 379ms/step\n",
      "Epoch 7/10\n",
      "1/1 - 0s - loss: 24.3579 - custom_mae: 0.1883 - custom_mean_sd: 0.7411 - custom_mse: 0.0630 - custom_mse_scaled: 0.1145 - gaussian_reconstruction_loss: 24.3579 - r_squared: 0.2331 - r_squared_linreg: 0.5904 - val_loss: 22.6392 - val_custom_mae: 0.1834 - val_custom_mean_sd: 0.7048 - val_custom_mse: 0.0595 - val_custom_mse_scaled: 0.1194 - val_gaussian_reconstruction_loss: 22.6392 - val_r_squared: 0.2458 - val_r_squared_linreg: 0.5693 - lr: 0.0500 - 391ms/epoch - 391ms/step\n",
      "Epoch 8/10\n",
      "1/1 - 0s - loss: 22.6274 - custom_mae: 0.1821 - custom_mean_sd: 0.7048 - custom_mse: 0.0592 - custom_mse_scaled: 0.1188 - gaussian_reconstruction_loss: 22.6274 - r_squared: 0.2691 - r_squared_linreg: 0.5792 - val_loss: 20.7048 - val_custom_mae: 0.1677 - val_custom_mean_sd: 0.6703 - val_custom_mse: 0.0506 - val_custom_mse_scaled: 0.1124 - val_gaussian_reconstruction_loss: 20.7048 - val_r_squared: 0.3715 - val_r_squared_linreg: 0.5571 - lr: 0.0500 - 391ms/epoch - 391ms/step\n",
      "Epoch 9/10\n",
      "1/1 - 0s - loss: 20.6640 - custom_mae: 0.1671 - custom_mean_sd: 0.6703 - custom_mse: 0.0496 - custom_mse_scaled: 0.1101 - gaussian_reconstruction_loss: 20.6640 - r_squared: 0.3983 - r_squared_linreg: 0.5721 - val_loss: 18.7346 - val_custom_mae: 0.1536 - val_custom_mean_sd: 0.6375 - val_custom_mse: 0.0421 - val_custom_mse_scaled: 0.1034 - val_gaussian_reconstruction_loss: 18.7346 - val_r_squared: 0.4619 - val_r_squared_linreg: 0.5731 - lr: 0.0500 - 397ms/epoch - 397ms/step\n",
      "Epoch 10/10\n",
      "1/1 - 0s - loss: 18.7348 - custom_mae: 0.1545 - custom_mean_sd: 0.6375 - custom_mse: 0.0421 - custom_mse_scaled: 0.1034 - gaussian_reconstruction_loss: 18.7348 - r_squared: 0.4925 - r_squared_linreg: 0.5741 - val_loss: 17.0154 - val_custom_mae: 0.1503 - val_custom_mean_sd: 0.6062 - val_custom_mse: 0.0399 - val_custom_mse_scaled: 0.1085 - val_gaussian_reconstruction_loss: 17.0154 - val_r_squared: 0.5068 - val_r_squared_linreg: 0.5561 - lr: 0.0500 - 396ms/epoch - 396ms/step\n",
      "\n",
      "-------------------------------------------------------------------------------------------------\n",
      "\n",
      "                                       REP: 10\n",
      "\n",
      "-------------------------------------------------------------------------------------------------\n",
      "\n",
      "Loading data from raw files\n",
      "registering celldata\n"
     ]
    },
    {
     "name": "stderr",
     "output_type": "stream",
     "text": [
      "/home/ifichtner/mambaforge/envs/squidpyTF/lib/python3.8/site-packages/ncem/data.py:2389: FutureWarning: X.dtype being converted to np.float32 from float64. In the next version of anndata (0.9) conversion will not be automatic. Pass dtype explicitly to avoid this warning. Pass `AnnData(X, dtype=X.dtype, ...)` to get the future behavour.\n",
      "  celldata = AnnData(\n",
      "/home/ifichtner/mambaforge/envs/squidpyTF/lib/python3.8/site-packages/anndata/_core/anndata.py:121: ImplicitModificationWarning: Transforming to str index.\n",
      "  warnings.warn(\"Transforming to str index.\", ImplicitModificationWarning)\n"
     ]
    },
    {
     "name": "stdout",
     "output_type": "stream",
     "text": [
      "collecting image-wise celldata\n",
      "adding graph-level covariates\n"
     ]
    },
    {
     "name": "stderr",
     "output_type": "stream",
     "text": [
      "100%|██████████| 58/58 [00:01<00:00, 51.90it/s]\n"
     ]
    },
    {
     "name": "stdout",
     "output_type": "stream",
     "text": [
      "Loaded 58 images with complete data from 4 patients over 63747 cells with 36 cell features and 8 distinct celltypes.\n",
      "Mean of mean node degree per images across images: 4.416036\n",
      "Using split method: node. \n",
      " Train-test-validation split is based on total number of nodes per patients over all images.\n",
      "\n",
      "Excluded 0 cells with the following unannotated cell type: [None] \n",
      "\n",
      "Whole dataset: 63747 cells out of 58 images from 4 patients.\n",
      "Test dataset: 6376 cells out of 58 images from 4 patients.\n",
      "Training dataset: 51930 cells out of 58 images from 4 patients.\n",
      "Validation dataset: 5738 cells out of 58 images from 4 patients. \n",
      "\n",
      "Epoch 1/10\n",
      "1/1 - 2s - loss: 38.1445 - custom_mae: 0.4345 - custom_mean_sd: 1.0000 - custom_mse: 0.2813 - custom_mse_scaled: 0.2813 - gaussian_reconstruction_loss: 38.1445 - r_squared: -2.4000e+00 - r_squared_linreg: 1.4354e-04 - val_loss: 33.8751 - val_custom_mae: 0.2836 - val_custom_mean_sd: 0.9512 - val_custom_mse: 0.1304 - val_custom_mse_scaled: 0.1441 - val_gaussian_reconstruction_loss: 33.8751 - val_r_squared: -6.3028e-01 - val_r_squared_linreg: 0.0742 - lr: 0.0500 - 2s/epoch - 2s/step\n",
      "Epoch 2/10\n",
      "1/1 - 0s - loss: 33.9906 - custom_mae: 0.2906 - custom_mean_sd: 0.9512 - custom_mse: 0.1362 - custom_mse_scaled: 0.1505 - gaussian_reconstruction_loss: 33.9906 - r_squared: -6.7600e-01 - r_squared_linreg: 0.0735 - val_loss: 31.1059 - val_custom_mae: 0.2131 - val_custom_mean_sd: 0.9049 - val_custom_mse: 0.0737 - val_custom_mse_scaled: 0.0900 - val_gaussian_reconstruction_loss: 31.1059 - val_r_squared: 0.0585 - val_r_squared_linreg: 0.2731 - lr: 0.0500 - 371ms/epoch - 371ms/step\n",
      "Epoch 3/10\n",
      "1/1 - 0s - loss: 31.1540 - custom_mae: 0.2161 - custom_mean_sd: 0.9049 - custom_mse: 0.0759 - custom_mse_scaled: 0.0927 - gaussian_reconstruction_loss: 31.1540 - r_squared: 0.0754 - r_squared_linreg: 0.2735 - val_loss: 29.3374 - val_custom_mae: 0.2033 - val_custom_mean_sd: 0.8608 - val_custom_mse: 0.0680 - val_custom_mse_scaled: 0.0917 - val_gaussian_reconstruction_loss: 29.3374 - val_r_squared: 0.1496 - val_r_squared_linreg: 0.4272 - lr: 0.0500 - 393ms/epoch - 393ms/step\n",
      "Epoch 4/10\n",
      "1/1 - 0s - loss: 29.2867 - custom_mae: 0.1998 - custom_mean_sd: 0.8608 - custom_mse: 0.0659 - custom_mse_scaled: 0.0889 - gaussian_reconstruction_loss: 29.2867 - r_squared: 0.1961 - r_squared_linreg: 0.4305 - val_loss: 27.8388 - val_custom_mae: 0.2091 - val_custom_mean_sd: 0.8187 - val_custom_mse: 0.0729 - val_custom_mse_scaled: 0.1087 - val_gaussian_reconstruction_loss: 27.8388 - val_r_squared: 0.0777 - val_r_squared_linreg: 0.5201 - lr: 0.0500 - 409ms/epoch - 409ms/step\n",
      "Epoch 5/10\n",
      "1/1 - 0s - loss: 27.7752 - custom_mae: 0.2057 - custom_mean_sd: 0.8187 - custom_mse: 0.0705 - custom_mse_scaled: 0.1052 - gaussian_reconstruction_loss: 27.7752 - r_squared: 0.1508 - r_squared_linreg: 0.5337 - val_loss: 26.2966 - val_custom_mae: 0.2113 - val_custom_mean_sd: 0.7787 - val_custom_mse: 0.0748 - val_custom_mse_scaled: 0.1234 - val_gaussian_reconstruction_loss: 26.2966 - val_r_squared: 0.0441 - val_r_squared_linreg: 0.5919 - lr: 0.0500 - 441ms/epoch - 441ms/step\n",
      "Epoch 6/10\n",
      "1/1 - 0s - loss: 26.1505 - custom_mae: 0.2030 - custom_mean_sd: 0.7787 - custom_mse: 0.0699 - custom_mse_scaled: 0.1153 - gaussian_reconstruction_loss: 26.1505 - r_squared: 0.1649 - r_squared_linreg: 0.5871 - val_loss: 24.5337 - val_custom_mae: 0.2000 - val_custom_mean_sd: 0.7406 - val_custom_mse: 0.0690 - val_custom_mse_scaled: 0.1258 - val_gaussian_reconstruction_loss: 24.5337 - val_r_squared: 0.1203 - val_r_squared_linreg: 0.5731 - lr: 0.0500 - 499ms/epoch - 499ms/step\n",
      "Epoch 7/10\n",
      "1/1 - 0s - loss: 24.3825 - custom_mae: 0.1923 - custom_mean_sd: 0.7406 - custom_mse: 0.0644 - custom_mse_scaled: 0.1174 - gaussian_reconstruction_loss: 24.3825 - r_squared: 0.2194 - r_squared_linreg: 0.5923 - val_loss: 22.5576 - val_custom_mae: 0.1804 - val_custom_mean_sd: 0.7043 - val_custom_mse: 0.0578 - val_custom_mse_scaled: 0.1164 - val_gaussian_reconstruction_loss: 22.5576 - val_r_squared: 0.2672 - val_r_squared_linreg: 0.5814 - lr: 0.0500 - 407ms/epoch - 407ms/step\n",
      "Epoch 8/10\n",
      "1/1 - 0s - loss: 22.4067 - custom_mae: 0.1739 - custom_mean_sd: 0.7043 - custom_mse: 0.0536 - custom_mse_scaled: 0.1081 - gaussian_reconstruction_loss: 22.4067 - r_squared: 0.3508 - r_squared_linreg: 0.5980 - val_loss: 20.5968 - val_custom_mae: 0.1647 - val_custom_mean_sd: 0.6698 - val_custom_mse: 0.0485 - val_custom_mse_scaled: 0.1080 - val_gaussian_reconstruction_loss: 20.5968 - val_r_squared: 0.3899 - val_r_squared_linreg: 0.5530 - lr: 0.0500 - 392ms/epoch - 392ms/step\n",
      "Epoch 9/10\n",
      "1/1 - 0s - loss: 20.4913 - custom_mae: 0.1606 - custom_mean_sd: 0.6698 - custom_mse: 0.0458 - custom_mse_scaled: 0.1021 - gaussian_reconstruction_loss: 20.4913 - r_squared: 0.4384 - r_squared_linreg: 0.5816 - val_loss: 18.6316 - val_custom_mae: 0.1508 - val_custom_mean_sd: 0.6370 - val_custom_mse: 0.0403 - val_custom_mse_scaled: 0.0993 - val_gaussian_reconstruction_loss: 18.6316 - val_r_squared: 0.4913 - val_r_squared_linreg: 0.5647 - lr: 0.0500 - 396ms/epoch - 396ms/step\n",
      "Epoch 10/10\n",
      "1/1 - 0s - loss: 18.6135 - custom_mae: 0.1509 - custom_mean_sd: 0.6370 - custom_mse: 0.0399 - custom_mse_scaled: 0.0983 - gaussian_reconstruction_loss: 18.6135 - r_squared: 0.5150 - r_squared_linreg: 0.5771 - val_loss: 16.8966 - val_custom_mae: 0.1499 - val_custom_mean_sd: 0.6057 - val_custom_mse: 0.0380 - val_custom_mse_scaled: 0.1035 - val_gaussian_reconstruction_loss: 16.8966 - val_r_squared: 0.5156 - val_r_squared_linreg: 0.5512 - lr: 0.0500 - 389ms/epoch - 389ms/step\n",
      "\n",
      "-------------------------------------------------------------------------------------------------\n",
      "\n",
      "                                       REP: 11\n",
      "\n",
      "-------------------------------------------------------------------------------------------------\n",
      "\n",
      "Loading data from raw files\n",
      "registering celldata\n"
     ]
    },
    {
     "name": "stderr",
     "output_type": "stream",
     "text": [
      "/home/ifichtner/mambaforge/envs/squidpyTF/lib/python3.8/site-packages/ncem/data.py:2389: FutureWarning: X.dtype being converted to np.float32 from float64. In the next version of anndata (0.9) conversion will not be automatic. Pass dtype explicitly to avoid this warning. Pass `AnnData(X, dtype=X.dtype, ...)` to get the future behavour.\n",
      "  celldata = AnnData(\n",
      "/home/ifichtner/mambaforge/envs/squidpyTF/lib/python3.8/site-packages/anndata/_core/anndata.py:121: ImplicitModificationWarning: Transforming to str index.\n",
      "  warnings.warn(\"Transforming to str index.\", ImplicitModificationWarning)\n"
     ]
    },
    {
     "name": "stdout",
     "output_type": "stream",
     "text": [
      "collecting image-wise celldata\n",
      "adding graph-level covariates\n"
     ]
    },
    {
     "name": "stderr",
     "output_type": "stream",
     "text": [
      "100%|██████████| 58/58 [00:01<00:00, 50.69it/s]\n"
     ]
    },
    {
     "name": "stdout",
     "output_type": "stream",
     "text": [
      "Loaded 58 images with complete data from 4 patients over 63747 cells with 36 cell features and 8 distinct celltypes.\n",
      "Mean of mean node degree per images across images: 4.416036\n",
      "Using split method: node. \n",
      " Train-test-validation split is based on total number of nodes per patients over all images.\n",
      "\n",
      "Excluded 0 cells with the following unannotated cell type: [None] \n",
      "\n",
      "Whole dataset: 63747 cells out of 58 images from 4 patients.\n",
      "Test dataset: 6376 cells out of 58 images from 4 patients.\n",
      "Training dataset: 51930 cells out of 58 images from 4 patients.\n",
      "Validation dataset: 5738 cells out of 58 images from 4 patients. \n",
      "\n",
      "Epoch 1/10\n",
      "1/1 - 3s - loss: 38.4103 - custom_mae: 0.4448 - custom_mean_sd: 1.0000 - custom_mse: 0.2960 - custom_mse_scaled: 0.2960 - gaussian_reconstruction_loss: 38.4103 - r_squared: -2.5784e+00 - r_squared_linreg: 4.9140e-06 - val_loss: 34.0498 - val_custom_mae: 0.2924 - val_custom_mean_sd: 0.9512 - val_custom_mse: 0.1391 - val_custom_mse_scaled: 0.1538 - val_gaussian_reconstruction_loss: 34.0498 - val_r_squared: -7.4218e-01 - val_r_squared_linreg: 0.0653 - lr: 0.0500 - 3s/epoch - 3s/step\n",
      "Epoch 2/10\n",
      "1/1 - 0s - loss: 34.2274 - custom_mae: 0.3014 - custom_mean_sd: 0.9512 - custom_mse: 0.1481 - custom_mse_scaled: 0.1636 - gaussian_reconstruction_loss: 34.2274 - r_squared: -8.2250e-01 - r_squared_linreg: 0.0531 - val_loss: 31.3111 - val_custom_mae: 0.2280 - val_custom_mean_sd: 0.9049 - val_custom_mse: 0.0830 - val_custom_mse_scaled: 0.1014 - val_gaussian_reconstruction_loss: 31.3111 - val_r_squared: -4.7123e-02 - val_r_squared_linreg: 0.2444 - lr: 0.0500 - 419ms/epoch - 419ms/step\n",
      "Epoch 3/10\n",
      "1/1 - 0s - loss: 31.3691 - custom_mae: 0.2303 - custom_mean_sd: 0.9049 - custom_mse: 0.0857 - custom_mse_scaled: 0.1046 - gaussian_reconstruction_loss: 31.3691 - r_squared: -4.3667e-02 - r_squared_linreg: 0.2279 - val_loss: 29.4569 - val_custom_mae: 0.2120 - val_custom_mean_sd: 0.8608 - val_custom_mse: 0.0729 - val_custom_mse_scaled: 0.0984 - val_gaussian_reconstruction_loss: 29.4569 - val_r_squared: 0.0718 - val_r_squared_linreg: 0.4152 - lr: 0.0500 - 399ms/epoch - 399ms/step\n",
      "Epoch 4/10\n",
      "1/1 - 0s - loss: 29.4849 - custom_mae: 0.2121 - custom_mean_sd: 0.8608 - custom_mse: 0.0740 - custom_mse_scaled: 0.0999 - gaussian_reconstruction_loss: 29.4849 - r_squared: 0.1063 - r_squared_linreg: 0.4117 - val_loss: 28.0448 - val_custom_mae: 0.2189 - val_custom_mean_sd: 0.8187 - val_custom_mse: 0.0805 - val_custom_mse_scaled: 0.1201 - val_gaussian_reconstruction_loss: 28.0448 - val_r_squared: -1.8316e-02 - val_r_squared_linreg: 0.5122 - lr: 0.0500 - 392ms/epoch - 392ms/step\n",
      "Epoch 5/10\n",
      "1/1 - 0s - loss: 27.8390 - custom_mae: 0.2072 - custom_mean_sd: 0.8187 - custom_mse: 0.0729 - custom_mse_scaled: 0.1087 - gaussian_reconstruction_loss: 27.8390 - r_squared: 0.1052 - r_squared_linreg: 0.5179 - val_loss: 26.3002 - val_custom_mae: 0.2123 - val_custom_mean_sd: 0.7787 - val_custom_mse: 0.0750 - val_custom_mse_scaled: 0.1236 - val_gaussian_reconstruction_loss: 26.3002 - val_r_squared: 0.0420 - val_r_squared_linreg: 0.5574 - lr: 0.0500 - 389ms/epoch - 389ms/step\n",
      "Epoch 6/10\n",
      "1/1 - 0s - loss: 26.2130 - custom_mae: 0.2046 - custom_mean_sd: 0.7787 - custom_mse: 0.0720 - custom_mse_scaled: 0.1188 - gaussian_reconstruction_loss: 26.2130 - r_squared: 0.1276 - r_squared_linreg: 0.5652 - val_loss: 24.3310 - val_custom_mae: 0.1921 - val_custom_mean_sd: 0.7405 - val_custom_mse: 0.0629 - val_custom_mse_scaled: 0.1147 - val_gaussian_reconstruction_loss: 24.3310 - val_r_squared: 0.2079 - val_r_squared_linreg: 0.5707 - lr: 0.0500 - 403ms/epoch - 403ms/step\n",
      "Epoch 7/10\n",
      "1/1 - 0s - loss: 24.3931 - custom_mae: 0.1943 - custom_mean_sd: 0.7405 - custom_mse: 0.0648 - custom_mse_scaled: 0.1181 - gaussian_reconstruction_loss: 24.3931 - r_squared: 0.2184 - r_squared_linreg: 0.5749 - val_loss: 22.4686 - val_custom_mae: 0.1783 - val_custom_mean_sd: 0.7042 - val_custom_mse: 0.0554 - val_custom_mse_scaled: 0.1117 - val_gaussian_reconstruction_loss: 22.4686 - val_r_squared: 0.2981 - val_r_squared_linreg: 0.5623 - lr: 0.0500 - 393ms/epoch - 393ms/step\n",
      "Epoch 8/10\n",
      "1/1 - 0s - loss: 22.3841 - custom_mae: 0.1736 - custom_mean_sd: 0.7042 - custom_mse: 0.0531 - custom_mse_scaled: 0.1070 - gaussian_reconstruction_loss: 22.3841 - r_squared: 0.3537 - r_squared_linreg: 0.5706 - val_loss: 20.5244 - val_custom_mae: 0.1620 - val_custom_mean_sd: 0.6697 - val_custom_mse: 0.0468 - val_custom_mse_scaled: 0.1043 - val_gaussian_reconstruction_loss: 20.5244 - val_r_squared: 0.4076 - val_r_squared_linreg: 0.5537 - lr: 0.0500 - 451ms/epoch - 451ms/step\n",
      "Epoch 9/10\n",
      "1/1 - 0s - loss: 20.4336 - custom_mae: 0.1602 - custom_mean_sd: 0.6697 - custom_mse: 0.0445 - custom_mse_scaled: 0.0992 - gaussian_reconstruction_loss: 20.4336 - r_squared: 0.4560 - r_squared_linreg: 0.5754 - val_loss: 18.7462 - val_custom_mae: 0.1571 - val_custom_mean_sd: 0.6368 - val_custom_mse: 0.0431 - val_custom_mse_scaled: 0.1062 - val_gaussian_reconstruction_loss: 18.7462 - val_r_squared: 0.4634 - val_r_squared_linreg: 0.5423 - lr: 0.0500 - 411ms/epoch - 411ms/step\n",
      "Epoch 10/10\n",
      "1/1 - 0s - loss: 18.7370 - custom_mae: 0.1574 - custom_mean_sd: 0.6368 - custom_mse: 0.0428 - custom_mse_scaled: 0.1057 - gaussian_reconstruction_loss: 18.7370 - r_squared: 0.4809 - r_squared_linreg: 0.5520 - val_loss: 17.0291 - val_custom_mae: 0.1532 - val_custom_mean_sd: 0.6055 - val_custom_mse: 0.0409 - val_custom_mse_scaled: 0.1116 - val_gaussian_reconstruction_loss: 17.0291 - val_r_squared: 0.4889 - val_r_squared_linreg: 0.5402 - lr: 0.0500 - 381ms/epoch - 381ms/step\n",
      "\n",
      "-------------------------------------------------------------------------------------------------\n",
      "\n",
      "                                       REP: 12\n",
      "\n",
      "-------------------------------------------------------------------------------------------------\n",
      "\n",
      "Loading data from raw files\n",
      "registering celldata\n"
     ]
    },
    {
     "name": "stderr",
     "output_type": "stream",
     "text": [
      "/home/ifichtner/mambaforge/envs/squidpyTF/lib/python3.8/site-packages/ncem/data.py:2389: FutureWarning: X.dtype being converted to np.float32 from float64. In the next version of anndata (0.9) conversion will not be automatic. Pass dtype explicitly to avoid this warning. Pass `AnnData(X, dtype=X.dtype, ...)` to get the future behavour.\n",
      "  celldata = AnnData(\n",
      "/home/ifichtner/mambaforge/envs/squidpyTF/lib/python3.8/site-packages/anndata/_core/anndata.py:121: ImplicitModificationWarning: Transforming to str index.\n",
      "  warnings.warn(\"Transforming to str index.\", ImplicitModificationWarning)\n"
     ]
    },
    {
     "name": "stdout",
     "output_type": "stream",
     "text": [
      "collecting image-wise celldata\n",
      "adding graph-level covariates\n"
     ]
    },
    {
     "name": "stderr",
     "output_type": "stream",
     "text": [
      "100%|██████████| 58/58 [00:01<00:00, 52.85it/s]\n"
     ]
    },
    {
     "name": "stdout",
     "output_type": "stream",
     "text": [
      "Loaded 58 images with complete data from 4 patients over 63747 cells with 36 cell features and 8 distinct celltypes.\n",
      "Mean of mean node degree per images across images: 4.416036\n",
      "Using split method: node. \n",
      " Train-test-validation split is based on total number of nodes per patients over all images.\n",
      "\n",
      "Excluded 0 cells with the following unannotated cell type: [None] \n",
      "\n",
      "Whole dataset: 63747 cells out of 58 images from 4 patients.\n",
      "Test dataset: 6376 cells out of 58 images from 4 patients.\n",
      "Training dataset: 51930 cells out of 58 images from 4 patients.\n",
      "Validation dataset: 5738 cells out of 58 images from 4 patients. \n",
      "\n",
      "Epoch 1/10\n",
      "1/1 - 2s - loss: 38.6951 - custom_mae: 0.4614 - custom_mean_sd: 1.0000 - custom_mse: 0.3119 - custom_mse_scaled: 0.3119 - gaussian_reconstruction_loss: 38.6951 - r_squared: -2.7697e+00 - r_squared_linreg: 1.0766e-04 - val_loss: 34.1768 - val_custom_mae: 0.3007 - val_custom_mean_sd: 0.9512 - val_custom_mse: 0.1455 - val_custom_mse_scaled: 0.1608 - val_gaussian_reconstruction_loss: 34.1768 - val_r_squared: -8.3125e-01 - val_r_squared_linreg: 0.0520 - lr: 0.0500 - 2s/epoch - 2s/step\n",
      "Epoch 2/10\n",
      "1/1 - 0s - loss: 34.3168 - custom_mae: 0.3083 - custom_mean_sd: 0.9512 - custom_mse: 0.1526 - custom_mse_scaled: 0.1686 - gaussian_reconstruction_loss: 34.3168 - r_squared: -8.7783e-01 - r_squared_linreg: 0.0474 - val_loss: 31.2636 - val_custom_mae: 0.2223 - val_custom_mean_sd: 0.9052 - val_custom_mse: 0.0806 - val_custom_mse_scaled: 0.0982 - val_gaussian_reconstruction_loss: 31.2636 - val_r_squared: -1.7828e-02 - val_r_squared_linreg: 0.2328 - lr: 0.0500 - 420ms/epoch - 420ms/step\n",
      "Epoch 3/10\n",
      "1/1 - 0s - loss: 31.3285 - custom_mae: 0.2257 - custom_mean_sd: 0.9052 - custom_mse: 0.0835 - custom_mse_scaled: 0.1018 - gaussian_reconstruction_loss: 31.3285 - r_squared: -1.7450e-02 - r_squared_linreg: 0.2284 - val_loss: 29.3999 - val_custom_mae: 0.2079 - val_custom_mean_sd: 0.8612 - val_custom_mse: 0.0700 - val_custom_mse_scaled: 0.0943 - val_gaussian_reconstruction_loss: 29.3999 - val_r_squared: 0.1203 - val_r_squared_linreg: 0.4207 - lr: 0.0500 - 407ms/epoch - 407ms/step\n",
      "Epoch 4/10\n",
      "1/1 - 0s - loss: 29.3937 - custom_mae: 0.2065 - custom_mean_sd: 0.8612 - custom_mse: 0.0697 - custom_mse_scaled: 0.0939 - gaussian_reconstruction_loss: 29.3937 - r_squared: 0.1531 - r_squared_linreg: 0.4147 - val_loss: 27.9032 - val_custom_mae: 0.2134 - val_custom_mean_sd: 0.8193 - val_custom_mse: 0.0745 - val_custom_mse_scaled: 0.1110 - val_gaussian_reconstruction_loss: 27.9032 - val_r_squared: 0.0567 - val_r_squared_linreg: 0.5169 - lr: 0.0500 - 404ms/epoch - 404ms/step\n",
      "Epoch 5/10\n",
      "1/1 - 0s - loss: 27.8836 - custom_mae: 0.2102 - custom_mean_sd: 0.8193 - custom_mse: 0.0738 - custom_mse_scaled: 0.1099 - gaussian_reconstruction_loss: 27.8836 - r_squared: 0.0973 - r_squared_linreg: 0.5205 - val_loss: 26.3609 - val_custom_mae: 0.2131 - val_custom_mean_sd: 0.7793 - val_custom_mse: 0.0763 - val_custom_mse_scaled: 0.1255 - val_gaussian_reconstruction_loss: 26.3609 - val_r_squared: 0.0475 - val_r_squared_linreg: 0.5679 - lr: 0.0500 - 359ms/epoch - 359ms/step\n",
      "Epoch 6/10\n",
      "1/1 - 0s - loss: 26.2843 - custom_mae: 0.2092 - custom_mean_sd: 0.7793 - custom_mse: 0.0737 - custom_mse_scaled: 0.1212 - gaussian_reconstruction_loss: 26.2843 - r_squared: 0.0994 - r_squared_linreg: 0.5798 - val_loss: 24.5659 - val_custom_mae: 0.2011 - val_custom_mean_sd: 0.7412 - val_custom_mse: 0.0694 - val_custom_mse_scaled: 0.1260 - val_gaussian_reconstruction_loss: 24.5659 - val_r_squared: 0.1201 - val_r_squared_linreg: 0.5832 - lr: 0.0500 - 361ms/epoch - 361ms/step\n",
      "Epoch 7/10\n",
      "1/1 - 0s - loss: 24.3950 - custom_mae: 0.1934 - custom_mean_sd: 0.7412 - custom_mse: 0.0641 - custom_mse_scaled: 0.1165 - gaussian_reconstruction_loss: 24.3950 - r_squared: 0.2203 - r_squared_linreg: 0.5903 - val_loss: 22.6271 - val_custom_mae: 0.1823 - val_custom_mean_sd: 0.7049 - val_custom_mse: 0.0591 - val_custom_mse_scaled: 0.1186 - val_gaussian_reconstruction_loss: 22.6271 - val_r_squared: 0.2486 - val_r_squared_linreg: 0.5698 - lr: 0.0500 - 376ms/epoch - 376ms/step\n",
      "Epoch 8/10\n",
      "1/1 - 0s - loss: 22.5880 - custom_mae: 0.1805 - custom_mean_sd: 0.7049 - custom_mse: 0.0581 - custom_mse_scaled: 0.1165 - gaussian_reconstruction_loss: 22.5880 - r_squared: 0.2922 - r_squared_linreg: 0.5860 - val_loss: 20.6616 - val_custom_mae: 0.1674 - val_custom_mean_sd: 0.6704 - val_custom_mse: 0.0495 - val_custom_mse_scaled: 0.1099 - val_gaussian_reconstruction_loss: 20.6616 - val_r_squared: 0.3744 - val_r_squared_linreg: 0.5586 - lr: 0.0500 - 397ms/epoch - 397ms/step\n",
      "Epoch 9/10\n",
      "1/1 - 0s - loss: 20.5527 - custom_mae: 0.1625 - custom_mean_sd: 0.6704 - custom_mse: 0.0468 - custom_mse_scaled: 0.1038 - gaussian_reconstruction_loss: 20.5527 - r_squared: 0.4337 - r_squared_linreg: 0.5708 - val_loss: 18.6878 - val_custom_mae: 0.1538 - val_custom_mean_sd: 0.6375 - val_custom_mse: 0.0411 - val_custom_mse_scaled: 0.1008 - val_gaussian_reconstruction_loss: 18.6878 - val_r_squared: 0.4764 - val_r_squared_linreg: 0.5631 - lr: 0.0500 - 441ms/epoch - 441ms/step\n",
      "Epoch 10/10\n",
      "1/1 - 0s - loss: 18.7854 - custom_mae: 0.1568 - custom_mean_sd: 0.6375 - custom_mse: 0.0432 - custom_mse_scaled: 0.1062 - gaussian_reconstruction_loss: 18.7854 - r_squared: 0.4763 - r_squared_linreg: 0.5555 - val_loss: 16.9067 - val_custom_mae: 0.1489 - val_custom_mean_sd: 0.6062 - val_custom_mse: 0.0377 - val_custom_mse_scaled: 0.1024 - val_gaussian_reconstruction_loss: 16.9067 - val_r_squared: 0.5212 - val_r_squared_linreg: 0.5642 - lr: 0.0500 - 388ms/epoch - 388ms/step\n",
      "\n",
      "-------------------------------------------------------------------------------------------------\n",
      "\n",
      "                                       REP: 13\n",
      "\n",
      "-------------------------------------------------------------------------------------------------\n",
      "\n",
      "Loading data from raw files\n",
      "registering celldata\n"
     ]
    },
    {
     "name": "stderr",
     "output_type": "stream",
     "text": [
      "/home/ifichtner/mambaforge/envs/squidpyTF/lib/python3.8/site-packages/ncem/data.py:2389: FutureWarning: X.dtype being converted to np.float32 from float64. In the next version of anndata (0.9) conversion will not be automatic. Pass dtype explicitly to avoid this warning. Pass `AnnData(X, dtype=X.dtype, ...)` to get the future behavour.\n",
      "  celldata = AnnData(\n",
      "/home/ifichtner/mambaforge/envs/squidpyTF/lib/python3.8/site-packages/anndata/_core/anndata.py:121: ImplicitModificationWarning: Transforming to str index.\n",
      "  warnings.warn(\"Transforming to str index.\", ImplicitModificationWarning)\n"
     ]
    },
    {
     "name": "stdout",
     "output_type": "stream",
     "text": [
      "collecting image-wise celldata\n",
      "adding graph-level covariates\n"
     ]
    },
    {
     "name": "stderr",
     "output_type": "stream",
     "text": [
      "100%|██████████| 58/58 [00:01<00:00, 51.17it/s]\n"
     ]
    },
    {
     "name": "stdout",
     "output_type": "stream",
     "text": [
      "Loaded 58 images with complete data from 4 patients over 63747 cells with 36 cell features and 8 distinct celltypes.\n",
      "Mean of mean node degree per images across images: 4.416036\n",
      "Using split method: node. \n",
      " Train-test-validation split is based on total number of nodes per patients over all images.\n",
      "\n",
      "Excluded 0 cells with the following unannotated cell type: [None] \n",
      "\n",
      "Whole dataset: 63747 cells out of 58 images from 4 patients.\n",
      "Test dataset: 6376 cells out of 58 images from 4 patients.\n",
      "Training dataset: 51930 cells out of 58 images from 4 patients.\n",
      "Validation dataset: 5738 cells out of 58 images from 4 patients. \n",
      "\n",
      "Epoch 1/10\n",
      "1/1 - 2s - loss: 38.7847 - custom_mae: 0.4598 - custom_mean_sd: 1.0000 - custom_mse: 0.3168 - custom_mse_scaled: 0.3168 - gaussian_reconstruction_loss: 38.7847 - r_squared: -2.8299e+00 - r_squared_linreg: 0.0035 - val_loss: 34.2562 - val_custom_mae: 0.3006 - val_custom_mean_sd: 0.9512 - val_custom_mse: 0.1495 - val_custom_mse_scaled: 0.1652 - val_gaussian_reconstruction_loss: 34.2562 - val_r_squared: -8.8407e-01 - val_r_squared_linreg: 0.0414 - lr: 0.0500 - 2s/epoch - 2s/step\n",
      "Epoch 2/10\n",
      "1/1 - 0s - loss: 34.4416 - custom_mae: 0.3117 - custom_mean_sd: 0.9512 - custom_mse: 0.1588 - custom_mse_scaled: 0.1755 - gaussian_reconstruction_loss: 34.4416 - r_squared: -9.5505e-01 - r_squared_linreg: 0.0371 - val_loss: 31.4007 - val_custom_mae: 0.2285 - val_custom_mean_sd: 0.9052 - val_custom_mse: 0.0869 - val_custom_mse_scaled: 0.1059 - val_gaussian_reconstruction_loss: 31.4007 - val_r_squared: -8.1349e-02 - val_r_squared_linreg: 0.1948 - lr: 0.0500 - 416ms/epoch - 416ms/step\n",
      "Epoch 3/10\n",
      "1/1 - 0s - loss: 31.4262 - custom_mae: 0.2311 - custom_mean_sd: 0.9052 - custom_mse: 0.0880 - custom_mse_scaled: 0.1073 - gaussian_reconstruction_loss: 31.4262 - r_squared: -7.2160e-02 - r_squared_linreg: 0.1984 - val_loss: 29.4893 - val_custom_mae: 0.2131 - val_custom_mean_sd: 0.8612 - val_custom_mse: 0.0737 - val_custom_mse_scaled: 0.0994 - val_gaussian_reconstruction_loss: 29.4893 - val_r_squared: 0.0676 - val_r_squared_linreg: 0.3677 - lr: 0.0500 - 396ms/epoch - 396ms/step\n",
      "Epoch 4/10\n",
      "1/1 - 0s - loss: 29.5018 - custom_mae: 0.2133 - custom_mean_sd: 0.8612 - custom_mse: 0.0743 - custom_mse_scaled: 0.1001 - gaussian_reconstruction_loss: 29.5018 - r_squared: 0.0954 - r_squared_linreg: 0.3672 - val_loss: 27.9573 - val_custom_mae: 0.2169 - val_custom_mean_sd: 0.8192 - val_custom_mse: 0.0767 - val_custom_mse_scaled: 0.1143 - val_gaussian_reconstruction_loss: 27.9573 - val_r_squared: 0.0384 - val_r_squared_linreg: 0.5020 - lr: 0.0500 - 408ms/epoch - 408ms/step\n",
      "Epoch 5/10\n",
      "1/1 - 0s - loss: 27.9052 - custom_mae: 0.2124 - custom_mean_sd: 0.8192 - custom_mse: 0.0748 - custom_mse_scaled: 0.1114 - gaussian_reconstruction_loss: 27.9052 - r_squared: 0.0984 - r_squared_linreg: 0.4911 - val_loss: 26.3653 - val_custom_mae: 0.2131 - val_custom_mean_sd: 0.7791 - val_custom_mse: 0.0766 - val_custom_mse_scaled: 0.1261 - val_gaussian_reconstruction_loss: 26.3653 - val_r_squared: 0.0551 - val_r_squared_linreg: 0.5581 - lr: 0.0500 - 400ms/epoch - 400ms/step\n",
      "Epoch 6/10\n",
      "1/1 - 0s - loss: 26.2885 - custom_mae: 0.2101 - custom_mean_sd: 0.7791 - custom_mse: 0.0740 - custom_mse_scaled: 0.1218 - gaussian_reconstruction_loss: 26.2885 - r_squared: 0.1062 - r_squared_linreg: 0.5650 - val_loss: 24.4781 - val_custom_mae: 0.1974 - val_custom_mean_sd: 0.7410 - val_custom_mse: 0.0669 - val_custom_mse_scaled: 0.1216 - val_gaussian_reconstruction_loss: 24.4781 - val_r_squared: 0.1630 - val_r_squared_linreg: 0.5852 - lr: 0.0500 - 462ms/epoch - 462ms/step\n",
      "Epoch 7/10\n",
      "1/1 - 0s - loss: 24.4486 - custom_mae: 0.1942 - custom_mean_sd: 0.7410 - custom_mse: 0.0660 - custom_mse_scaled: 0.1200 - gaussian_reconstruction_loss: 24.4486 - r_squared: 0.1940 - r_squared_linreg: 0.5766 - val_loss: 22.6163 - val_custom_mae: 0.1828 - val_custom_mean_sd: 0.7047 - val_custom_mse: 0.0591 - val_custom_mse_scaled: 0.1186 - val_gaussian_reconstruction_loss: 22.6163 - val_r_squared: 0.2499 - val_r_squared_linreg: 0.5781 - lr: 0.0500 - 377ms/epoch - 377ms/step\n",
      "Epoch 8/10\n",
      "1/1 - 0s - loss: 22.6053 - custom_mae: 0.1822 - custom_mean_sd: 0.7047 - custom_mse: 0.0588 - custom_mse_scaled: 0.1180 - gaussian_reconstruction_loss: 22.6053 - r_squared: 0.2740 - r_squared_linreg: 0.5898 - val_loss: 20.6125 - val_custom_mae: 0.1640 - val_custom_mean_sd: 0.6702 - val_custom_mse: 0.0486 - val_custom_mse_scaled: 0.1078 - val_gaussian_reconstruction_loss: 20.6125 - val_r_squared: 0.3817 - val_r_squared_linreg: 0.5818 - lr: 0.0500 - 379ms/epoch - 379ms/step\n",
      "Epoch 9/10\n",
      "1/1 - 0s - loss: 20.6824 - custom_mae: 0.1688 - custom_mean_sd: 0.6702 - custom_mse: 0.0503 - custom_mse_scaled: 0.1117 - gaussian_reconstruction_loss: 20.6824 - r_squared: 0.3858 - r_squared_linreg: 0.5690 - val_loss: 18.8012 - val_custom_mae: 0.1592 - val_custom_mean_sd: 0.6373 - val_custom_mse: 0.0439 - val_custom_mse_scaled: 0.1077 - val_gaussian_reconstruction_loss: 18.8012 - val_r_squared: 0.4519 - val_r_squared_linreg: 0.5629 - lr: 0.0500 - 364ms/epoch - 364ms/step\n",
      "Epoch 10/10\n",
      "1/1 - 0s - loss: 18.8655 - custom_mae: 0.1619 - custom_mean_sd: 0.6373 - custom_mse: 0.0453 - custom_mse_scaled: 0.1113 - gaussian_reconstruction_loss: 18.8655 - r_squared: 0.4451 - r_squared_linreg: 0.5572 - val_loss: 17.0297 - val_custom_mae: 0.1552 - val_custom_mean_sd: 0.6060 - val_custom_mse: 0.0404 - val_custom_mse_scaled: 0.1100 - val_gaussian_reconstruction_loss: 17.0297 - val_r_squared: 0.4894 - val_r_squared_linreg: 0.5547 - lr: 0.0500 - 368ms/epoch - 368ms/step\n",
      "\n",
      "-------------------------------------------------------------------------------------------------\n",
      "\n",
      "                                       REP: 14\n",
      "\n",
      "-------------------------------------------------------------------------------------------------\n",
      "\n",
      "Loading data from raw files\n",
      "registering celldata\n"
     ]
    },
    {
     "name": "stderr",
     "output_type": "stream",
     "text": [
      "/home/ifichtner/mambaforge/envs/squidpyTF/lib/python3.8/site-packages/ncem/data.py:2389: FutureWarning: X.dtype being converted to np.float32 from float64. In the next version of anndata (0.9) conversion will not be automatic. Pass dtype explicitly to avoid this warning. Pass `AnnData(X, dtype=X.dtype, ...)` to get the future behavour.\n",
      "  celldata = AnnData(\n",
      "/home/ifichtner/mambaforge/envs/squidpyTF/lib/python3.8/site-packages/anndata/_core/anndata.py:121: ImplicitModificationWarning: Transforming to str index.\n",
      "  warnings.warn(\"Transforming to str index.\", ImplicitModificationWarning)\n"
     ]
    },
    {
     "name": "stdout",
     "output_type": "stream",
     "text": [
      "collecting image-wise celldata\n",
      "adding graph-level covariates\n"
     ]
    },
    {
     "name": "stderr",
     "output_type": "stream",
     "text": [
      "100%|██████████| 58/58 [00:01<00:00, 49.31it/s]\n"
     ]
    },
    {
     "name": "stdout",
     "output_type": "stream",
     "text": [
      "Loaded 58 images with complete data from 4 patients over 63747 cells with 36 cell features and 8 distinct celltypes.\n",
      "Mean of mean node degree per images across images: 4.416036\n",
      "Using split method: node. \n",
      " Train-test-validation split is based on total number of nodes per patients over all images.\n",
      "\n",
      "Excluded 0 cells with the following unannotated cell type: [None] \n",
      "\n",
      "Whole dataset: 63747 cells out of 58 images from 4 patients.\n",
      "Test dataset: 6376 cells out of 58 images from 4 patients.\n",
      "Training dataset: 51930 cells out of 58 images from 4 patients.\n",
      "Validation dataset: 5738 cells out of 58 images from 4 patients. \n",
      "\n",
      "Epoch 1/10\n",
      "1/1 - 2s - loss: 38.7055 - custom_mae: 0.4611 - custom_mean_sd: 1.0000 - custom_mse: 0.3124 - custom_mse_scaled: 0.3124 - gaussian_reconstruction_loss: 38.7055 - r_squared: -2.7767e+00 - r_squared_linreg: 0.0018 - val_loss: 34.2139 - val_custom_mae: 0.3010 - val_custom_mean_sd: 0.9512 - val_custom_mse: 0.1474 - val_custom_mse_scaled: 0.1629 - val_gaussian_reconstruction_loss: 34.2139 - val_r_squared: -8.4589e-01 - val_r_squared_linreg: 0.0480 - lr: 0.0500 - 2s/epoch - 2s/step\n",
      "Epoch 2/10\n",
      "1/1 - 0s - loss: 34.3008 - custom_mae: 0.3053 - custom_mean_sd: 0.9512 - custom_mse: 0.1518 - custom_mse_scaled: 0.1677 - gaussian_reconstruction_loss: 34.3008 - r_squared: -8.6792e-01 - r_squared_linreg: 0.0494 - val_loss: 31.3442 - val_custom_mae: 0.2268 - val_custom_mean_sd: 0.9052 - val_custom_mse: 0.0843 - val_custom_mse_scaled: 0.1027 - val_gaussian_reconstruction_loss: 31.3442 - val_r_squared: -7.0012e-02 - val_r_squared_linreg: 0.2143 - lr: 0.0500 - 397ms/epoch - 397ms/step\n",
      "Epoch 3/10\n",
      "1/1 - 0s - loss: 31.3280 - custom_mae: 0.2256 - custom_mean_sd: 0.9052 - custom_mse: 0.0835 - custom_mse_scaled: 0.1018 - gaussian_reconstruction_loss: 31.3280 - r_squared: -1.7354e-02 - r_squared_linreg: 0.2279 - val_loss: 29.4318 - val_custom_mae: 0.2087 - val_custom_mean_sd: 0.8612 - val_custom_mse: 0.0713 - val_custom_mse_scaled: 0.0961 - val_gaussian_reconstruction_loss: 29.4318 - val_r_squared: 0.0975 - val_r_squared_linreg: 0.4042 - lr: 0.0500 - 408ms/epoch - 408ms/step\n",
      "Epoch 4/10\n",
      "1/1 - 0s - loss: 29.4698 - custom_mae: 0.2102 - custom_mean_sd: 0.8612 - custom_mse: 0.0729 - custom_mse_scaled: 0.0982 - gaussian_reconstruction_loss: 29.4698 - r_squared: 0.1187 - r_squared_linreg: 0.3934 - val_loss: 28.0218 - val_custom_mae: 0.2188 - val_custom_mean_sd: 0.8192 - val_custom_mse: 0.0790 - val_custom_mse_scaled: 0.1176 - val_gaussian_reconstruction_loss: 28.0218 - val_r_squared: -2.1075e-02 - val_r_squared_linreg: 0.5136 - lr: 0.0500 - 415ms/epoch - 415ms/step\n",
      "Epoch 5/10\n",
      "1/1 - 0s - loss: 27.9275 - custom_mae: 0.2120 - custom_mean_sd: 0.8192 - custom_mse: 0.0755 - custom_mse_scaled: 0.1124 - gaussian_reconstruction_loss: 27.9275 - r_squared: 0.0849 - r_squared_linreg: 0.5164 - val_loss: 26.5434 - val_custom_mae: 0.2210 - val_custom_mean_sd: 0.7792 - val_custom_mse: 0.0824 - val_custom_mse_scaled: 0.1356 - val_gaussian_reconstruction_loss: 26.5434 - val_r_squared: -3.8802e-02 - val_r_squared_linreg: 0.5586 - lr: 0.0500 - 386ms/epoch - 386ms/step\n",
      "Epoch 6/10\n",
      "1/1 - 0s - loss: 26.3078 - custom_mae: 0.2092 - custom_mean_sd: 0.7792 - custom_mse: 0.0745 - custom_mse_scaled: 0.1225 - gaussian_reconstruction_loss: 26.3078 - r_squared: 0.0943 - r_squared_linreg: 0.5697 - val_loss: 24.5108 - val_custom_mae: 0.1971 - val_custom_mean_sd: 0.7412 - val_custom_mse: 0.0677 - val_custom_mse_scaled: 0.1229 - val_gaussian_reconstruction_loss: 24.5108 - val_r_squared: 0.1398 - val_r_squared_linreg: 0.5940 - lr: 0.0500 - 364ms/epoch - 364ms/step\n",
      "Epoch 7/10\n",
      "1/1 - 0s - loss: 24.4396 - custom_mae: 0.1940 - custom_mean_sd: 0.7412 - custom_mse: 0.0655 - custom_mse_scaled: 0.1190 - gaussian_reconstruction_loss: 24.4396 - r_squared: 0.2128 - r_squared_linreg: 0.5830 - val_loss: 22.6180 - val_custom_mae: 0.1838 - val_custom_mean_sd: 0.7049 - val_custom_mse: 0.0589 - val_custom_mse_scaled: 0.1181 - val_gaussian_reconstruction_loss: 22.6180 - val_r_squared: 0.2588 - val_r_squared_linreg: 0.5820 - lr: 0.0500 - 405ms/epoch - 405ms/step\n",
      "Epoch 8/10\n",
      "1/1 - 0s - loss: 22.5123 - custom_mae: 0.1789 - custom_mean_sd: 0.7049 - custom_mse: 0.0560 - custom_mse_scaled: 0.1123 - gaussian_reconstruction_loss: 22.5123 - r_squared: 0.3231 - r_squared_linreg: 0.5811 - val_loss: 20.6144 - val_custom_mae: 0.1666 - val_custom_mean_sd: 0.6704 - val_custom_mse: 0.0484 - val_custom_mse_scaled: 0.1073 - val_gaussian_reconstruction_loss: 20.6144 - val_r_squared: 0.3882 - val_r_squared_linreg: 0.5659 - lr: 0.0500 - 400ms/epoch - 400ms/step\n",
      "Epoch 9/10\n",
      "1/1 - 0s - loss: 20.5585 - custom_mae: 0.1630 - custom_mean_sd: 0.6704 - custom_mse: 0.0470 - custom_mse_scaled: 0.1041 - gaussian_reconstruction_loss: 20.5585 - r_squared: 0.4300 - r_squared_linreg: 0.5810 - val_loss: 18.8000 - val_custom_mae: 0.1575 - val_custom_mean_sd: 0.6375 - val_custom_mse: 0.0436 - val_custom_mse_scaled: 0.1070 - val_gaussian_reconstruction_loss: 18.8000 - val_r_squared: 0.4491 - val_r_squared_linreg: 0.5507 - lr: 0.0500 - 412ms/epoch - 412ms/step\n",
      "Epoch 10/10\n",
      "1/1 - 0s - loss: 18.8222 - custom_mae: 0.1593 - custom_mean_sd: 0.6375 - custom_mse: 0.0441 - custom_mse_scaled: 0.1082 - gaussian_reconstruction_loss: 18.8222 - r_squared: 0.4631 - r_squared_linreg: 0.5578 - val_loss: 17.0063 - val_custom_mae: 0.1516 - val_custom_mean_sd: 0.6062 - val_custom_mse: 0.0397 - val_custom_mse_scaled: 0.1080 - val_gaussian_reconstruction_loss: 17.0063 - val_r_squared: 0.4937 - val_r_squared_linreg: 0.5616 - lr: 0.0500 - 363ms/epoch - 363ms/step\n",
      "\n",
      "-------------------------------------------------------------------------------------------------\n",
      "\n",
      "                                       RUN: 0.01\n",
      "\n",
      "-------------------------------------------------------------------------------------------------\n",
      "\n",
      "\n",
      "-------------------------------------------------------------------------------------------------\n",
      "\n",
      "                                       REP: 0\n",
      "\n",
      "-------------------------------------------------------------------------------------------------\n",
      "\n",
      "Loading data from raw files\n",
      "registering celldata\n"
     ]
    },
    {
     "name": "stderr",
     "output_type": "stream",
     "text": [
      "/home/ifichtner/mambaforge/envs/squidpyTF/lib/python3.8/site-packages/ncem/data.py:2389: FutureWarning: X.dtype being converted to np.float32 from float64. In the next version of anndata (0.9) conversion will not be automatic. Pass dtype explicitly to avoid this warning. Pass `AnnData(X, dtype=X.dtype, ...)` to get the future behavour.\n",
      "  celldata = AnnData(\n",
      "/home/ifichtner/mambaforge/envs/squidpyTF/lib/python3.8/site-packages/anndata/_core/anndata.py:121: ImplicitModificationWarning: Transforming to str index.\n",
      "  warnings.warn(\"Transforming to str index.\", ImplicitModificationWarning)\n"
     ]
    },
    {
     "name": "stdout",
     "output_type": "stream",
     "text": [
      "collecting image-wise celldata\n",
      "adding graph-level covariates\n"
     ]
    },
    {
     "name": "stderr",
     "output_type": "stream",
     "text": [
      "100%|██████████| 58/58 [00:01<00:00, 49.11it/s]\n"
     ]
    },
    {
     "name": "stdout",
     "output_type": "stream",
     "text": [
      "Loaded 58 images with complete data from 4 patients over 63747 cells with 36 cell features and 8 distinct celltypes.\n",
      "Mean of mean node degree per images across images: 4.416036\n",
      "Using split method: node. \n",
      " Train-test-validation split is based on total number of nodes per patients over all images.\n",
      "\n",
      "Excluded 0 cells with the following unannotated cell type: [None] \n",
      "\n",
      "Whole dataset: 63747 cells out of 58 images from 4 patients.\n",
      "Test dataset: 6376 cells out of 58 images from 4 patients.\n",
      "Training dataset: 51930 cells out of 58 images from 4 patients.\n",
      "Validation dataset: 5738 cells out of 58 images from 4 patients. \n",
      "\n",
      "Epoch 1/10\n",
      "1/1 - 2s - loss: 38.3402 - custom_mae: 0.4448 - custom_mean_sd: 1.0000 - custom_mse: 0.2921 - custom_mse_scaled: 0.2921 - gaussian_reconstruction_loss: 38.3402 - r_squared: -2.5314e+00 - r_squared_linreg: 5.0940e-04 - val_loss: 34.0418 - val_custom_mae: 0.2941 - val_custom_mean_sd: 0.9512 - val_custom_mse: 0.1387 - val_custom_mse_scaled: 0.1533 - val_gaussian_reconstruction_loss: 34.0418 - val_r_squared: -7.3884e-01 - val_r_squared_linreg: 0.0496 - lr: 0.0500 - 2s/epoch - 2s/step\n",
      "Epoch 2/10\n",
      "1/1 - 0s - loss: 34.0809 - custom_mae: 0.2983 - custom_mean_sd: 0.9512 - custom_mse: 0.1407 - custom_mse_scaled: 0.1555 - gaussian_reconstruction_loss: 34.0809 - r_squared: -7.3188e-01 - r_squared_linreg: 0.0555 - val_loss: 31.2354 - val_custom_mae: 0.2233 - val_custom_mean_sd: 0.9049 - val_custom_mse: 0.0796 - val_custom_mse_scaled: 0.0972 - val_gaussian_reconstruction_loss: 31.2354 - val_r_squared: -1.0137e-02 - val_r_squared_linreg: 0.2368 - lr: 0.0500 - 416ms/epoch - 416ms/step\n",
      "Epoch 3/10\n",
      "1/1 - 0s - loss: 31.2227 - custom_mae: 0.2222 - custom_mean_sd: 0.9049 - custom_mse: 0.0790 - custom_mse_scaled: 0.0965 - gaussian_reconstruction_loss: 31.2227 - r_squared: 0.0373 - r_squared_linreg: 0.2468 - val_loss: 29.4013 - val_custom_mae: 0.2084 - val_custom_mean_sd: 0.8608 - val_custom_mse: 0.0706 - val_custom_mse_scaled: 0.0953 - val_gaussian_reconstruction_loss: 29.4013 - val_r_squared: 0.1051 - val_r_squared_linreg: 0.4054 - lr: 0.0500 - 395ms/epoch - 395ms/step\n",
      "Epoch 4/10\n",
      "1/1 - 0s - loss: 29.4037 - custom_mae: 0.2085 - custom_mean_sd: 0.8608 - custom_mse: 0.0707 - custom_mse_scaled: 0.0955 - gaussian_reconstruction_loss: 29.4037 - r_squared: 0.1451 - r_squared_linreg: 0.4216 - val_loss: 27.9591 - val_custom_mae: 0.2163 - val_custom_mean_sd: 0.8187 - val_custom_mse: 0.0774 - val_custom_mse_scaled: 0.1155 - val_gaussian_reconstruction_loss: 27.9591 - val_r_squared: 0.0181 - val_r_squared_linreg: 0.5284 - lr: 0.0500 - 393ms/epoch - 393ms/step\n",
      "Epoch 5/10\n",
      "1/1 - 0s - loss: 27.8587 - custom_mae: 0.2096 - custom_mean_sd: 0.8187 - custom_mse: 0.0737 - custom_mse_scaled: 0.1099 - gaussian_reconstruction_loss: 27.8587 - r_squared: 0.0986 - r_squared_linreg: 0.5200 - val_loss: 26.3175 - val_custom_mae: 0.2108 - val_custom_mean_sd: 0.7786 - val_custom_mse: 0.0756 - val_custom_mse_scaled: 0.1246 - val_gaussian_reconstruction_loss: 26.3175 - val_r_squared: 0.0558 - val_r_squared_linreg: 0.5755 - lr: 0.0500 - 424ms/epoch - 424ms/step\n",
      "Epoch 6/10\n",
      "1/1 - 0s - loss: 26.2383 - custom_mae: 0.2075 - custom_mean_sd: 0.7786 - custom_mse: 0.0729 - custom_mse_scaled: 0.1202 - gaussian_reconstruction_loss: 26.2383 - r_squared: 0.1157 - r_squared_linreg: 0.5795 - val_loss: 24.4337 - val_custom_mae: 0.1961 - val_custom_mean_sd: 0.7405 - val_custom_mse: 0.0660 - val_custom_mse_scaled: 0.1204 - val_gaussian_reconstruction_loss: 24.4337 - val_r_squared: 0.1542 - val_r_squared_linreg: 0.5951 - lr: 0.0500 - 427ms/epoch - 427ms/step\n",
      "Epoch 7/10\n",
      "1/1 - 0s - loss: 24.3671 - custom_mae: 0.1933 - custom_mean_sd: 0.7405 - custom_mse: 0.0640 - custom_mse_scaled: 0.1167 - gaussian_reconstruction_loss: 24.3671 - r_squared: 0.2230 - r_squared_linreg: 0.5897 - val_loss: 22.4331 - val_custom_mae: 0.1765 - val_custom_mean_sd: 0.7042 - val_custom_mse: 0.0544 - val_custom_mse_scaled: 0.1097 - val_gaussian_reconstruction_loss: 22.4331 - val_r_squared: 0.3122 - val_r_squared_linreg: 0.5889 - lr: 0.0500 - 385ms/epoch - 385ms/step\n",
      "Epoch 8/10\n",
      "1/1 - 0s - loss: 22.3981 - custom_mae: 0.1749 - custom_mean_sd: 0.7042 - custom_mse: 0.0535 - custom_mse_scaled: 0.1078 - gaussian_reconstruction_loss: 22.3981 - r_squared: 0.3508 - r_squared_linreg: 0.5875 - val_loss: 20.4436 - val_custom_mae: 0.1600 - val_custom_mean_sd: 0.6697 - val_custom_mse: 0.0447 - val_custom_mse_scaled: 0.0997 - val_gaussian_reconstruction_loss: 20.4436 - val_r_squared: 0.4275 - val_r_squared_linreg: 0.5694 - lr: 0.0500 - 396ms/epoch - 396ms/step\n",
      "Epoch 9/10\n",
      "1/1 - 0s - loss: 20.4456 - custom_mae: 0.1607 - custom_mean_sd: 0.6697 - custom_mse: 0.0448 - custom_mse_scaled: 0.0998 - gaussian_reconstruction_loss: 20.4456 - r_squared: 0.4561 - r_squared_linreg: 0.5809 - val_loss: 18.6634 - val_custom_mae: 0.1547 - val_custom_mean_sd: 0.6368 - val_custom_mse: 0.0411 - val_custom_mse_scaled: 0.1015 - val_gaussian_reconstruction_loss: 18.6634 - val_r_squared: 0.4771 - val_r_squared_linreg: 0.5520 - lr: 0.0500 - 395ms/epoch - 395ms/step\n",
      "Epoch 10/10\n",
      "1/1 - 0s - loss: 18.6438 - custom_mae: 0.1537 - custom_mean_sd: 0.6368 - custom_mse: 0.0407 - custom_mse_scaled: 0.1004 - gaussian_reconstruction_loss: 18.6438 - r_squared: 0.5026 - r_squared_linreg: 0.5672 - val_loss: 16.9566 - val_custom_mae: 0.1514 - val_custom_mean_sd: 0.6056 - val_custom_mse: 0.0394 - val_custom_mse_scaled: 0.1074 - val_gaussian_reconstruction_loss: 16.9566 - val_r_squared: 0.4999 - val_r_squared_linreg: 0.5467 - lr: 0.0500 - 408ms/epoch - 408ms/step\n",
      "\n",
      "-------------------------------------------------------------------------------------------------\n",
      "\n",
      "                                       REP: 1\n",
      "\n",
      "-------------------------------------------------------------------------------------------------\n",
      "\n",
      "Loading data from raw files\n",
      "registering celldata\n"
     ]
    },
    {
     "name": "stderr",
     "output_type": "stream",
     "text": [
      "/home/ifichtner/mambaforge/envs/squidpyTF/lib/python3.8/site-packages/ncem/data.py:2389: FutureWarning: X.dtype being converted to np.float32 from float64. In the next version of anndata (0.9) conversion will not be automatic. Pass dtype explicitly to avoid this warning. Pass `AnnData(X, dtype=X.dtype, ...)` to get the future behavour.\n",
      "  celldata = AnnData(\n",
      "/home/ifichtner/mambaforge/envs/squidpyTF/lib/python3.8/site-packages/anndata/_core/anndata.py:121: ImplicitModificationWarning: Transforming to str index.\n",
      "  warnings.warn(\"Transforming to str index.\", ImplicitModificationWarning)\n"
     ]
    },
    {
     "name": "stdout",
     "output_type": "stream",
     "text": [
      "collecting image-wise celldata\n",
      "adding graph-level covariates\n"
     ]
    },
    {
     "name": "stderr",
     "output_type": "stream",
     "text": [
      "100%|██████████| 58/58 [00:01<00:00, 52.10it/s]\n"
     ]
    },
    {
     "name": "stdout",
     "output_type": "stream",
     "text": [
      "Loaded 58 images with complete data from 4 patients over 63747 cells with 36 cell features and 8 distinct celltypes.\n",
      "Mean of mean node degree per images across images: 4.416036\n",
      "Using split method: node. \n",
      " Train-test-validation split is based on total number of nodes per patients over all images.\n",
      "\n",
      "Excluded 0 cells with the following unannotated cell type: [None] \n",
      "\n",
      "Whole dataset: 63747 cells out of 58 images from 4 patients.\n",
      "Test dataset: 6376 cells out of 58 images from 4 patients.\n",
      "Training dataset: 51930 cells out of 58 images from 4 patients.\n",
      "Validation dataset: 5738 cells out of 58 images from 4 patients. \n",
      "\n",
      "Epoch 1/10\n",
      "1/1 - 2s - loss: 38.7204 - custom_mae: 0.4587 - custom_mean_sd: 1.0000 - custom_mse: 0.3133 - custom_mse_scaled: 0.3133 - gaussian_reconstruction_loss: 38.7204 - r_squared: -2.7867e+00 - r_squared_linreg: 0.0015 - val_loss: 34.3463 - val_custom_mae: 0.3087 - val_custom_mean_sd: 0.9512 - val_custom_mse: 0.1541 - val_custom_mse_scaled: 0.1703 - val_gaussian_reconstruction_loss: 34.3463 - val_r_squared: -9.2078e-01 - val_r_squared_linreg: 0.0398 - lr: 0.0500 - 2s/epoch - 2s/step\n",
      "Epoch 2/10\n",
      "1/1 - 0s - loss: 34.4524 - custom_mae: 0.3142 - custom_mean_sd: 0.9512 - custom_mse: 0.1594 - custom_mse_scaled: 0.1761 - gaussian_reconstruction_loss: 34.4524 - r_squared: -9.6174e-01 - r_squared_linreg: 0.0410 - val_loss: 31.4729 - val_custom_mae: 0.2365 - val_custom_mean_sd: 0.9051 - val_custom_mse: 0.0902 - val_custom_mse_scaled: 0.1100 - val_gaussian_reconstruction_loss: 31.4729 - val_r_squared: -1.3046e-01 - val_r_squared_linreg: 0.1896 - lr: 0.0500 - 416ms/epoch - 416ms/step\n",
      "Epoch 3/10\n",
      "1/1 - 0s - loss: 31.4536 - custom_mae: 0.2348 - custom_mean_sd: 0.9051 - custom_mse: 0.0893 - custom_mse_scaled: 0.1089 - gaussian_reconstruction_loss: 31.4536 - r_squared: -8.7391e-02 - r_squared_linreg: 0.2056 - val_loss: 29.4142 - val_custom_mae: 0.2092 - val_custom_mean_sd: 0.8612 - val_custom_mse: 0.0706 - val_custom_mse_scaled: 0.0952 - val_gaussian_reconstruction_loss: 29.4142 - val_r_squared: 0.1084 - val_r_squared_linreg: 0.3771 - lr: 0.0500 - 411ms/epoch - 411ms/step\n",
      "Epoch 4/10\n",
      "1/1 - 0s - loss: 29.3982 - custom_mae: 0.2077 - custom_mean_sd: 0.8612 - custom_mse: 0.0700 - custom_mse_scaled: 0.0943 - gaussian_reconstruction_loss: 29.3982 - r_squared: 0.1492 - r_squared_linreg: 0.3885 - val_loss: 28.0100 - val_custom_mae: 0.2188 - val_custom_mean_sd: 0.8192 - val_custom_mse: 0.0786 - val_custom_mse_scaled: 0.1171 - val_gaussian_reconstruction_loss: 28.0100 - val_r_squared: -7.5312e-03 - val_r_squared_linreg: 0.4897 - lr: 0.0500 - 404ms/epoch - 404ms/step\n",
      "Epoch 5/10\n",
      "1/1 - 0s - loss: 27.8097 - custom_mae: 0.2084 - custom_mean_sd: 0.8192 - custom_mse: 0.0711 - custom_mse_scaled: 0.1060 - gaussian_reconstruction_loss: 27.8097 - r_squared: 0.1299 - r_squared_linreg: 0.5204 - val_loss: 26.2846 - val_custom_mae: 0.2085 - val_custom_mean_sd: 0.7792 - val_custom_mse: 0.0738 - val_custom_mse_scaled: 0.1214 - val_gaussian_reconstruction_loss: 26.2846 - val_r_squared: 0.0618 - val_r_squared_linreg: 0.5472 - lr: 0.0500 - 453ms/epoch - 453ms/step\n",
      "Epoch 6/10\n",
      "1/1 - 0s - loss: 26.1819 - custom_mae: 0.2043 - custom_mean_sd: 0.7792 - custom_mse: 0.0703 - custom_mse_scaled: 0.1157 - gaussian_reconstruction_loss: 26.1819 - r_squared: 0.1433 - r_squared_linreg: 0.5836 - val_loss: 24.6582 - val_custom_mae: 0.2017 - val_custom_mean_sd: 0.7411 - val_custom_mse: 0.0723 - val_custom_mse_scaled: 0.1314 - val_gaussian_reconstruction_loss: 24.6582 - val_r_squared: 0.0905 - val_r_squared_linreg: 0.5665 - lr: 0.0500 - 457ms/epoch - 457ms/step\n",
      "Epoch 7/10\n",
      "1/1 - 1s - loss: 24.4719 - custom_mae: 0.1933 - custom_mean_sd: 0.7411 - custom_mse: 0.0666 - custom_mse_scaled: 0.1210 - gaussian_reconstruction_loss: 24.4719 - r_squared: 0.1918 - r_squared_linreg: 0.5744 - val_loss: 22.6449 - val_custom_mae: 0.1814 - val_custom_mean_sd: 0.7048 - val_custom_mse: 0.0597 - val_custom_mse_scaled: 0.1199 - val_gaussian_reconstruction_loss: 22.6449 - val_r_squared: 0.2409 - val_r_squared_linreg: 0.5664 - lr: 0.0500 - 506ms/epoch - 506ms/step\n",
      "Epoch 8/10\n",
      "1/1 - 0s - loss: 22.5958 - custom_mae: 0.1805 - custom_mean_sd: 0.7048 - custom_mse: 0.0584 - custom_mse_scaled: 0.1172 - gaussian_reconstruction_loss: 22.5958 - r_squared: 0.2906 - r_squared_linreg: 0.5799 - val_loss: 20.7925 - val_custom_mae: 0.1726 - val_custom_mean_sd: 0.6703 - val_custom_mse: 0.0529 - val_custom_mse_scaled: 0.1175 - val_gaussian_reconstruction_loss: 20.7925 - val_r_squared: 0.3359 - val_r_squared_linreg: 0.5466 - lr: 0.0500 - 391ms/epoch - 391ms/step\n",
      "Epoch 9/10\n",
      "1/1 - 0s - loss: 20.6362 - custom_mae: 0.1669 - custom_mean_sd: 0.6703 - custom_mse: 0.0490 - custom_mse_scaled: 0.1088 - gaussian_reconstruction_loss: 20.6362 - r_squared: 0.4014 - r_squared_linreg: 0.5648 - val_loss: 18.8237 - val_custom_mae: 0.1598 - val_custom_mean_sd: 0.6374 - val_custom_mse: 0.0442 - val_custom_mse_scaled: 0.1087 - val_gaussian_reconstruction_loss: 18.8237 - val_r_squared: 0.4419 - val_r_squared_linreg: 0.5560 - lr: 0.0500 - 413ms/epoch - 413ms/step\n",
      "Epoch 10/10\n",
      "1/1 - 0s - loss: 18.9138 - custom_mae: 0.1624 - custom_mean_sd: 0.6374 - custom_mse: 0.0462 - custom_mse_scaled: 0.1137 - gaussian_reconstruction_loss: 18.9138 - r_squared: 0.4340 - r_squared_linreg: 0.5443 - val_loss: 17.0591 - val_custom_mae: 0.1545 - val_custom_mean_sd: 0.6061 - val_custom_mse: 0.0409 - val_custom_mse_scaled: 0.1112 - val_gaussian_reconstruction_loss: 17.0591 - val_r_squared: 0.4832 - val_r_squared_linreg: 0.5418 - lr: 0.0500 - 405ms/epoch - 405ms/step\n",
      "\n",
      "-------------------------------------------------------------------------------------------------\n",
      "\n",
      "                                       REP: 2\n",
      "\n",
      "-------------------------------------------------------------------------------------------------\n",
      "\n",
      "Loading data from raw files\n",
      "registering celldata\n"
     ]
    },
    {
     "name": "stderr",
     "output_type": "stream",
     "text": [
      "/home/ifichtner/mambaforge/envs/squidpyTF/lib/python3.8/site-packages/ncem/data.py:2389: FutureWarning: X.dtype being converted to np.float32 from float64. In the next version of anndata (0.9) conversion will not be automatic. Pass dtype explicitly to avoid this warning. Pass `AnnData(X, dtype=X.dtype, ...)` to get the future behavour.\n",
      "  celldata = AnnData(\n",
      "/home/ifichtner/mambaforge/envs/squidpyTF/lib/python3.8/site-packages/anndata/_core/anndata.py:121: ImplicitModificationWarning: Transforming to str index.\n",
      "  warnings.warn(\"Transforming to str index.\", ImplicitModificationWarning)\n"
     ]
    },
    {
     "name": "stdout",
     "output_type": "stream",
     "text": [
      "collecting image-wise celldata\n",
      "adding graph-level covariates\n"
     ]
    },
    {
     "name": "stderr",
     "output_type": "stream",
     "text": [
      "100%|██████████| 58/58 [00:01<00:00, 49.69it/s]\n"
     ]
    },
    {
     "name": "stdout",
     "output_type": "stream",
     "text": [
      "Loaded 58 images with complete data from 4 patients over 63747 cells with 36 cell features and 8 distinct celltypes.\n",
      "Mean of mean node degree per images across images: 4.416036\n",
      "Using split method: node. \n",
      " Train-test-validation split is based on total number of nodes per patients over all images.\n",
      "\n",
      "Excluded 0 cells with the following unannotated cell type: [None] \n",
      "\n",
      "Whole dataset: 63747 cells out of 58 images from 4 patients.\n",
      "Test dataset: 6376 cells out of 58 images from 4 patients.\n",
      "Training dataset: 51930 cells out of 58 images from 4 patients.\n",
      "Validation dataset: 5738 cells out of 58 images from 4 patients. \n",
      "\n",
      "Epoch 1/10\n",
      "1/1 - 2s - loss: 37.9495 - custom_mae: 0.4208 - custom_mean_sd: 1.0000 - custom_mse: 0.2704 - custom_mse_scaled: 0.2704 - gaussian_reconstruction_loss: 37.9495 - r_squared: -2.2690e+00 - r_squared_linreg: 7.6405e-04 - val_loss: 33.7783 - val_custom_mae: 0.2767 - val_custom_mean_sd: 0.9512 - val_custom_mse: 0.1255 - val_custom_mse_scaled: 0.1387 - val_gaussian_reconstruction_loss: 33.7783 - val_r_squared: -5.8229e-01 - val_r_squared_linreg: 0.0725 - lr: 0.0500 - 2s/epoch - 2s/step\n",
      "Epoch 2/10\n",
      "1/1 - 0s - loss: 33.9420 - custom_mae: 0.2852 - custom_mean_sd: 0.9512 - custom_mse: 0.1337 - custom_mse_scaled: 0.1478 - gaussian_reconstruction_loss: 33.9420 - r_squared: -6.4595e-01 - r_squared_linreg: 0.0608 - val_loss: 31.1820 - val_custom_mae: 0.2175 - val_custom_mean_sd: 0.9050 - val_custom_mse: 0.0771 - val_custom_mse_scaled: 0.0941 - val_gaussian_reconstruction_loss: 31.1820 - val_r_squared: 0.0293 - val_r_squared_linreg: 0.2749 - lr: 0.0500 - 445ms/epoch - 445ms/step\n",
      "Epoch 3/10\n",
      "1/1 - 0s - loss: 31.2350 - custom_mae: 0.2205 - custom_mean_sd: 0.9050 - custom_mse: 0.0795 - custom_mse_scaled: 0.0970 - gaussian_reconstruction_loss: 31.2350 - r_squared: 0.0315 - r_squared_linreg: 0.2567 - val_loss: 29.3644 - val_custom_mae: 0.2043 - val_custom_mean_sd: 0.8609 - val_custom_mse: 0.0689 - val_custom_mse_scaled: 0.0929 - val_gaussian_reconstruction_loss: 29.3644 - val_r_squared: 0.1240 - val_r_squared_linreg: 0.4261 - lr: 0.0500 - 424ms/epoch - 424ms/step\n",
      "Epoch 4/10\n",
      "1/1 - 0s - loss: 29.3879 - custom_mae: 0.2055 - custom_mean_sd: 0.8609 - custom_mse: 0.0699 - custom_mse_scaled: 0.0943 - gaussian_reconstruction_loss: 29.3879 - r_squared: 0.1520 - r_squared_linreg: 0.4288 - val_loss: 27.8679 - val_custom_mae: 0.2074 - val_custom_mean_sd: 0.8189 - val_custom_mse: 0.0737 - val_custom_mse_scaled: 0.1099 - val_gaussian_reconstruction_loss: 27.8679 - val_r_squared: 0.0760 - val_r_squared_linreg: 0.5158 - lr: 0.0500 - 414ms/epoch - 414ms/step\n",
      "Epoch 5/10\n",
      "1/1 - 0s - loss: 27.7415 - custom_mae: 0.2010 - custom_mean_sd: 0.8189 - custom_mse: 0.0690 - custom_mse_scaled: 0.1029 - gaussian_reconstruction_loss: 27.7415 - r_squared: 0.1534 - r_squared_linreg: 0.5295 - val_loss: 26.2493 - val_custom_mae: 0.2036 - val_custom_mean_sd: 0.7789 - val_custom_mse: 0.0730 - val_custom_mse_scaled: 0.1202 - val_gaussian_reconstruction_loss: 26.2493 - val_r_squared: 0.0658 - val_r_squared_linreg: 0.5739 - lr: 0.0500 - 438ms/epoch - 438ms/step\n",
      "Epoch 6/10\n",
      "1/1 - 0s - loss: 26.1209 - custom_mae: 0.1982 - custom_mean_sd: 0.7789 - custom_mse: 0.0686 - custom_mse_scaled: 0.1131 - gaussian_reconstruction_loss: 26.1209 - r_squared: 0.1682 - r_squared_linreg: 0.5633 - val_loss: 24.4138 - val_custom_mae: 0.1915 - val_custom_mean_sd: 0.7408 - val_custom_mse: 0.0651 - val_custom_mse_scaled: 0.1185 - val_gaussian_reconstruction_loss: 24.4138 - val_r_squared: 0.1751 - val_r_squared_linreg: 0.5788 - lr: 0.0500 - 434ms/epoch - 434ms/step\n",
      "Epoch 7/10\n",
      "1/1 - 0s - loss: 24.2574 - custom_mae: 0.1846 - custom_mean_sd: 0.7408 - custom_mse: 0.0604 - custom_mse_scaled: 0.1098 - gaussian_reconstruction_loss: 24.2574 - r_squared: 0.2770 - r_squared_linreg: 0.5747 - val_loss: 22.5683 - val_custom_mae: 0.1799 - val_custom_mean_sd: 0.7045 - val_custom_mse: 0.0579 - val_custom_mse_scaled: 0.1164 - val_gaussian_reconstruction_loss: 22.5683 - val_r_squared: 0.2631 - val_r_squared_linreg: 0.5622 - lr: 0.0500 - 413ms/epoch - 413ms/step\n",
      "Epoch 8/10\n",
      "1/1 - 0s - loss: 22.4527 - custom_mae: 0.1751 - custom_mean_sd: 0.7045 - custom_mse: 0.0547 - custom_mse_scaled: 0.1099 - gaussian_reconstruction_loss: 22.4527 - r_squared: 0.3320 - r_squared_linreg: 0.5697 - val_loss: 20.5459 - val_custom_mae: 0.1642 - val_custom_mean_sd: 0.6700 - val_custom_mse: 0.0469 - val_custom_mse_scaled: 0.1044 - val_gaussian_reconstruction_loss: 20.5459 - val_r_squared: 0.4082 - val_r_squared_linreg: 0.5632 - lr: 0.0500 - 410ms/epoch - 410ms/step\n",
      "Epoch 9/10\n",
      "1/1 - 0s - loss: 20.5197 - custom_mae: 0.1620 - custom_mean_sd: 0.6700 - custom_mse: 0.0463 - custom_mse_scaled: 0.1030 - gaussian_reconstruction_loss: 20.5197 - r_squared: 0.4384 - r_squared_linreg: 0.5694 - val_loss: 18.7661 - val_custom_mae: 0.1583 - val_custom_mean_sd: 0.6372 - val_custom_mse: 0.0431 - val_custom_mse_scaled: 0.1060 - val_gaussian_reconstruction_loss: 18.7661 - val_r_squared: 0.4603 - val_r_squared_linreg: 0.5408 - lr: 0.0500 - 392ms/epoch - 392ms/step\n",
      "Epoch 10/10\n",
      "1/1 - 0s - loss: 18.7694 - custom_mae: 0.1582 - custom_mean_sd: 0.6372 - custom_mse: 0.0431 - custom_mse_scaled: 0.1062 - gaussian_reconstruction_loss: 18.7694 - r_squared: 0.4760 - r_squared_linreg: 0.5487 - val_loss: 16.9006 - val_custom_mae: 0.1496 - val_custom_mean_sd: 0.6060 - val_custom_mse: 0.0378 - val_custom_mse_scaled: 0.1029 - val_gaussian_reconstruction_loss: 16.9006 - val_r_squared: 0.5195 - val_r_squared_linreg: 0.5529 - lr: 0.0500 - 423ms/epoch - 423ms/step\n",
      "\n",
      "-------------------------------------------------------------------------------------------------\n",
      "\n",
      "                                       REP: 3\n",
      "\n",
      "-------------------------------------------------------------------------------------------------\n",
      "\n",
      "Loading data from raw files\n",
      "registering celldata\n"
     ]
    },
    {
     "name": "stderr",
     "output_type": "stream",
     "text": [
      "/home/ifichtner/mambaforge/envs/squidpyTF/lib/python3.8/site-packages/ncem/data.py:2389: FutureWarning: X.dtype being converted to np.float32 from float64. In the next version of anndata (0.9) conversion will not be automatic. Pass dtype explicitly to avoid this warning. Pass `AnnData(X, dtype=X.dtype, ...)` to get the future behavour.\n",
      "  celldata = AnnData(\n",
      "/home/ifichtner/mambaforge/envs/squidpyTF/lib/python3.8/site-packages/anndata/_core/anndata.py:121: ImplicitModificationWarning: Transforming to str index.\n",
      "  warnings.warn(\"Transforming to str index.\", ImplicitModificationWarning)\n"
     ]
    },
    {
     "name": "stdout",
     "output_type": "stream",
     "text": [
      "collecting image-wise celldata\n",
      "adding graph-level covariates\n"
     ]
    },
    {
     "name": "stderr",
     "output_type": "stream",
     "text": [
      "100%|██████████| 58/58 [00:01<00:00, 51.85it/s]\n"
     ]
    },
    {
     "name": "stdout",
     "output_type": "stream",
     "text": [
      "Loaded 58 images with complete data from 4 patients over 63747 cells with 36 cell features and 8 distinct celltypes.\n",
      "Mean of mean node degree per images across images: 4.416036\n",
      "Using split method: node. \n",
      " Train-test-validation split is based on total number of nodes per patients over all images.\n",
      "\n",
      "Excluded 0 cells with the following unannotated cell type: [None] \n",
      "\n",
      "Whole dataset: 63747 cells out of 58 images from 4 patients.\n",
      "Test dataset: 6376 cells out of 58 images from 4 patients.\n",
      "Training dataset: 51930 cells out of 58 images from 4 patients.\n",
      "Validation dataset: 5738 cells out of 58 images from 4 patients. \n",
      "\n",
      "Epoch 1/10\n",
      "1/1 - 2s - loss: 38.5564 - custom_mae: 0.4543 - custom_mean_sd: 1.0000 - custom_mse: 0.3041 - custom_mse_scaled: 0.3041 - gaussian_reconstruction_loss: 38.5564 - r_squared: -2.6766e+00 - r_squared_linreg: 3.7995e-06 - val_loss: 34.0663 - val_custom_mae: 0.2951 - val_custom_mean_sd: 0.9512 - val_custom_mse: 0.1400 - val_custom_mse_scaled: 0.1547 - val_gaussian_reconstruction_loss: 34.0663 - val_r_squared: -7.6915e-01 - val_r_squared_linreg: 0.0678 - lr: 0.0500 - 2s/epoch - 2s/step\n",
      "Epoch 2/10\n",
      "1/1 - 0s - loss: 34.1828 - custom_mae: 0.3013 - custom_mean_sd: 0.9512 - custom_mse: 0.1458 - custom_mse_scaled: 0.1612 - gaussian_reconstruction_loss: 34.1828 - r_squared: -7.9493e-01 - r_squared_linreg: 0.0697 - val_loss: 31.2595 - val_custom_mae: 0.2228 - val_custom_mean_sd: 0.9050 - val_custom_mse: 0.0806 - val_custom_mse_scaled: 0.0984 - val_gaussian_reconstruction_loss: 31.2595 - val_r_squared: -1.6228e-02 - val_r_squared_linreg: 0.2480 - lr: 0.0500 - 383ms/epoch - 383ms/step\n",
      "Epoch 3/10\n",
      "1/1 - 0s - loss: 31.2189 - custom_mae: 0.2203 - custom_mean_sd: 0.9050 - custom_mse: 0.0788 - custom_mse_scaled: 0.0961 - gaussian_reconstruction_loss: 31.2189 - r_squared: 0.0409 - r_squared_linreg: 0.2710 - val_loss: 29.4474 - val_custom_mae: 0.2108 - val_custom_mean_sd: 0.8609 - val_custom_mse: 0.0723 - val_custom_mse_scaled: 0.0975 - val_gaussian_reconstruction_loss: 29.4474 - val_r_squared: 0.0759 - val_r_squared_linreg: 0.4156 - lr: 0.0500 - 427ms/epoch - 427ms/step\n",
      "Epoch 4/10\n",
      "1/1 - 0s - loss: 29.3457 - custom_mae: 0.2038 - custom_mean_sd: 0.8609 - custom_mse: 0.0681 - custom_mse_scaled: 0.0919 - gaussian_reconstruction_loss: 29.3457 - r_squared: 0.1759 - r_squared_linreg: 0.4378 - val_loss: 28.0972 - val_custom_mae: 0.2229 - val_custom_mean_sd: 0.8189 - val_custom_mse: 0.0823 - val_custom_mse_scaled: 0.1227 - val_gaussian_reconstruction_loss: 28.0972 - val_r_squared: -2.9976e-02 - val_r_squared_linreg: 0.5104 - lr: 0.0500 - 385ms/epoch - 385ms/step\n",
      "Epoch 5/10\n",
      "1/1 - 0s - loss: 28.0044 - custom_mae: 0.2168 - custom_mean_sd: 0.8189 - custom_mse: 0.0788 - custom_mse_scaled: 0.1175 - gaussian_reconstruction_loss: 28.0044 - r_squared: 0.0322 - r_squared_linreg: 0.5223 - val_loss: 26.3892 - val_custom_mae: 0.2140 - val_custom_mean_sd: 0.7789 - val_custom_mse: 0.0777 - val_custom_mse_scaled: 0.1281 - val_gaussian_reconstruction_loss: 26.3892 - val_r_squared: 0.0208 - val_r_squared_linreg: 0.5588 - lr: 0.0500 - 381ms/epoch - 381ms/step\n",
      "Epoch 6/10\n",
      "1/1 - 0s - loss: 26.3692 - custom_mae: 0.2121 - custom_mean_sd: 0.7789 - custom_mse: 0.0771 - custom_mse_scaled: 0.1269 - gaussian_reconstruction_loss: 26.3692 - r_squared: 0.0675 - r_squared_linreg: 0.5650 - val_loss: 24.5515 - val_custom_mae: 0.2005 - val_custom_mean_sd: 0.7408 - val_custom_mse: 0.0694 - val_custom_mse_scaled: 0.1263 - val_gaussian_reconstruction_loss: 24.5515 - val_r_squared: 0.1069 - val_r_squared_linreg: 0.5626 - lr: 0.0500 - 427ms/epoch - 427ms/step\n",
      "Epoch 7/10\n",
      "1/1 - 0s - loss: 24.3279 - custom_mae: 0.1904 - custom_mean_sd: 0.7408 - custom_mse: 0.0625 - custom_mse_scaled: 0.1139 - gaussian_reconstruction_loss: 24.3279 - r_squared: 0.2421 - r_squared_linreg: 0.5919 - val_loss: 22.6199 - val_custom_mae: 0.1836 - val_custom_mean_sd: 0.7045 - val_custom_mse: 0.0593 - val_custom_mse_scaled: 0.1194 - val_gaussian_reconstruction_loss: 22.6199 - val_r_squared: 0.2530 - val_r_squared_linreg: 0.5521 - lr: 0.0500 - 358ms/epoch - 358ms/step\n",
      "Epoch 8/10\n",
      "1/1 - 0s - loss: 22.4571 - custom_mae: 0.1764 - custom_mean_sd: 0.7045 - custom_mse: 0.0548 - custom_mse_scaled: 0.1103 - gaussian_reconstruction_loss: 22.4571 - r_squared: 0.3312 - r_squared_linreg: 0.5701 - val_loss: 20.5692 - val_custom_mae: 0.1658 - val_custom_mean_sd: 0.6699 - val_custom_mse: 0.0476 - val_custom_mse_scaled: 0.1060 - val_gaussian_reconstruction_loss: 20.5692 - val_r_squared: 0.3897 - val_r_squared_linreg: 0.5440 - lr: 0.0500 - 390ms/epoch - 390ms/step\n",
      "Epoch 9/10\n",
      "1/1 - 0s - loss: 20.5765 - custom_mae: 0.1656 - custom_mean_sd: 0.6699 - custom_mse: 0.0478 - custom_mse_scaled: 0.1064 - gaussian_reconstruction_loss: 20.5765 - r_squared: 0.4173 - r_squared_linreg: 0.5506 - val_loss: 18.7135 - val_custom_mae: 0.1558 - val_custom_mean_sd: 0.6371 - val_custom_mse: 0.0420 - val_custom_mse_scaled: 0.1035 - val_gaussian_reconstruction_loss: 18.7135 - val_r_squared: 0.4682 - val_r_squared_linreg: 0.5446 - lr: 0.0500 - 378ms/epoch - 378ms/step\n",
      "Epoch 10/10\n",
      "1/1 - 0s - loss: 18.7484 - custom_mae: 0.1579 - custom_mean_sd: 0.6371 - custom_mse: 0.0428 - custom_mse_scaled: 0.1054 - gaussian_reconstruction_loss: 18.7484 - r_squared: 0.4823 - r_squared_linreg: 0.5498 - val_loss: 17.0090 - val_custom_mae: 0.1528 - val_custom_mean_sd: 0.6058 - val_custom_mse: 0.0402 - val_custom_mse_scaled: 0.1094 - val_gaussian_reconstruction_loss: 17.0090 - val_r_squared: 0.4956 - val_r_squared_linreg: 0.5456 - lr: 0.0500 - 387ms/epoch - 387ms/step\n",
      "\n",
      "-------------------------------------------------------------------------------------------------\n",
      "\n",
      "                                       REP: 4\n",
      "\n",
      "-------------------------------------------------------------------------------------------------\n",
      "\n",
      "Loading data from raw files\n",
      "registering celldata\n"
     ]
    },
    {
     "name": "stderr",
     "output_type": "stream",
     "text": [
      "/home/ifichtner/mambaforge/envs/squidpyTF/lib/python3.8/site-packages/ncem/data.py:2389: FutureWarning: X.dtype being converted to np.float32 from float64. In the next version of anndata (0.9) conversion will not be automatic. Pass dtype explicitly to avoid this warning. Pass `AnnData(X, dtype=X.dtype, ...)` to get the future behavour.\n",
      "  celldata = AnnData(\n",
      "/home/ifichtner/mambaforge/envs/squidpyTF/lib/python3.8/site-packages/anndata/_core/anndata.py:121: ImplicitModificationWarning: Transforming to str index.\n",
      "  warnings.warn(\"Transforming to str index.\", ImplicitModificationWarning)\n"
     ]
    },
    {
     "name": "stdout",
     "output_type": "stream",
     "text": [
      "collecting image-wise celldata\n",
      "adding graph-level covariates\n"
     ]
    },
    {
     "name": "stderr",
     "output_type": "stream",
     "text": [
      "100%|██████████| 58/58 [00:01<00:00, 46.68it/s]\n"
     ]
    },
    {
     "name": "stdout",
     "output_type": "stream",
     "text": [
      "Loaded 58 images with complete data from 4 patients over 63747 cells with 36 cell features and 8 distinct celltypes.\n",
      "Mean of mean node degree per images across images: 4.416036\n",
      "Using split method: node. \n",
      " Train-test-validation split is based on total number of nodes per patients over all images.\n",
      "\n",
      "Excluded 0 cells with the following unannotated cell type: [None] \n",
      "\n",
      "Whole dataset: 63747 cells out of 58 images from 4 patients.\n",
      "Test dataset: 6376 cells out of 58 images from 4 patients.\n",
      "Training dataset: 51930 cells out of 58 images from 4 patients.\n",
      "Validation dataset: 5738 cells out of 58 images from 4 patients. \n",
      "\n",
      "Epoch 1/10\n",
      "1/1 - 2s - loss: 38.0098 - custom_mae: 0.4285 - custom_mean_sd: 1.0000 - custom_mse: 0.2738 - custom_mse_scaled: 0.2738 - gaussian_reconstruction_loss: 38.0098 - r_squared: -2.3095e+00 - r_squared_linreg: 0.0012 - val_loss: 33.7820 - val_custom_mae: 0.2770 - val_custom_mean_sd: 0.9512 - val_custom_mse: 0.1257 - val_custom_mse_scaled: 0.1389 - val_gaussian_reconstruction_loss: 33.7820 - val_r_squared: -5.9076e-01 - val_r_squared_linreg: 0.0960 - lr: 0.0500 - 2s/epoch - 2s/step\n",
      "Epoch 2/10\n",
      "1/1 - 0s - loss: 33.8770 - custom_mae: 0.2834 - custom_mean_sd: 0.9512 - custom_mse: 0.1305 - custom_mse_scaled: 0.1442 - gaussian_reconstruction_loss: 33.8770 - r_squared: -6.0573e-01 - r_squared_linreg: 0.0991 - val_loss: 31.1827 - val_custom_mae: 0.2192 - val_custom_mean_sd: 0.9049 - val_custom_mse: 0.0772 - val_custom_mse_scaled: 0.0943 - val_gaussian_reconstruction_loss: 31.1827 - val_r_squared: 0.0320 - val_r_squared_linreg: 0.2816 - lr: 0.0500 - 423ms/epoch - 423ms/step\n",
      "Epoch 3/10\n",
      "1/1 - 0s - loss: 31.1799 - custom_mae: 0.2184 - custom_mean_sd: 0.9049 - custom_mse: 0.0771 - custom_mse_scaled: 0.0941 - gaussian_reconstruction_loss: 31.1799 - r_squared: 0.0609 - r_squared_linreg: 0.2903 - val_loss: 29.4516 - val_custom_mae: 0.2106 - val_custom_mean_sd: 0.8608 - val_custom_mse: 0.0727 - val_custom_mse_scaled: 0.0981 - val_gaussian_reconstruction_loss: 29.4516 - val_r_squared: 0.0924 - val_r_squared_linreg: 0.4395 - lr: 0.0500 - 384ms/epoch - 384ms/step\n",
      "Epoch 4/10\n",
      "1/1 - 0s - loss: 29.3510 - custom_mae: 0.2047 - custom_mean_sd: 0.8608 - custom_mse: 0.0686 - custom_mse_scaled: 0.0925 - gaussian_reconstruction_loss: 29.3510 - r_squared: 0.1752 - r_squared_linreg: 0.4590 - val_loss: 27.8857 - val_custom_mae: 0.2115 - val_custom_mean_sd: 0.8187 - val_custom_mse: 0.0747 - val_custom_mse_scaled: 0.1113 - val_gaussian_reconstruction_loss: 27.8857 - val_r_squared: 0.0449 - val_r_squared_linreg: 0.5417 - lr: 0.0500 - 410ms/epoch - 410ms/step\n",
      "Epoch 5/10\n",
      "1/1 - 0s - loss: 27.9822 - custom_mae: 0.2159 - custom_mean_sd: 0.8187 - custom_mse: 0.0782 - custom_mse_scaled: 0.1167 - gaussian_reconstruction_loss: 27.9822 - r_squared: 0.0564 - r_squared_linreg: 0.5459 - val_loss: 26.2899 - val_custom_mae: 0.2073 - val_custom_mean_sd: 0.7787 - val_custom_mse: 0.0746 - val_custom_mse_scaled: 0.1230 - val_gaussian_reconstruction_loss: 26.2899 - val_r_squared: 0.0676 - val_r_squared_linreg: 0.5626 - lr: 0.0500 - 419ms/epoch - 419ms/step\n",
      "Epoch 6/10\n",
      "1/1 - 0s - loss: 26.1872 - custom_mae: 0.2043 - custom_mean_sd: 0.7787 - custom_mse: 0.0711 - custom_mse_scaled: 0.1173 - gaussian_reconstruction_loss: 26.1872 - r_squared: 0.1351 - r_squared_linreg: 0.5787 - val_loss: 24.4087 - val_custom_mae: 0.1939 - val_custom_mean_sd: 0.7406 - val_custom_mse: 0.0652 - val_custom_mse_scaled: 0.1188 - val_gaussian_reconstruction_loss: 24.4087 - val_r_squared: 0.1741 - val_r_squared_linreg: 0.5589 - lr: 0.0500 - 432ms/epoch - 432ms/step\n",
      "Epoch 7/10\n",
      "1/1 - 0s - loss: 24.2243 - custom_mae: 0.1843 - custom_mean_sd: 0.7406 - custom_mse: 0.0596 - custom_mse_scaled: 0.1086 - gaussian_reconstruction_loss: 24.2243 - r_squared: 0.2785 - r_squared_linreg: 0.5840 - val_loss: 22.3929 - val_custom_mae: 0.1754 - val_custom_mean_sd: 0.7043 - val_custom_mse: 0.0532 - val_custom_mse_scaled: 0.1072 - val_gaussian_reconstruction_loss: 22.3929 - val_r_squared: 0.3328 - val_r_squared_linreg: 0.5434 - lr: 0.0500 - 437ms/epoch - 437ms/step\n",
      "Epoch 8/10\n",
      "1/1 - 0s - loss: 22.3651 - custom_mae: 0.1736 - custom_mean_sd: 0.7043 - custom_mse: 0.0525 - custom_mse_scaled: 0.1057 - gaussian_reconstruction_loss: 22.3651 - r_squared: 0.3642 - r_squared_linreg: 0.5508 - val_loss: 20.5601 - val_custom_mae: 0.1660 - val_custom_mean_sd: 0.6698 - val_custom_mse: 0.0475 - val_custom_mse_scaled: 0.1059 - val_gaussian_reconstruction_loss: 20.5601 - val_r_squared: 0.4011 - val_r_squared_linreg: 0.5210 - lr: 0.0500 - 408ms/epoch - 408ms/step\n",
      "Epoch 9/10\n",
      "1/1 - 0s - loss: 20.4837 - custom_mae: 0.1631 - custom_mean_sd: 0.6698 - custom_mse: 0.0456 - custom_mse_scaled: 0.1017 - gaussian_reconstruction_loss: 20.4837 - r_squared: 0.4446 - r_squared_linreg: 0.5466 - val_loss: 18.6883 - val_custom_mae: 0.1544 - val_custom_mean_sd: 0.6370 - val_custom_mse: 0.0416 - val_custom_mse_scaled: 0.1025 - val_gaussian_reconstruction_loss: 18.6883 - val_r_squared: 0.4732 - val_r_squared_linreg: 0.5294 - lr: 0.0500 - 401ms/epoch - 401ms/step\n",
      "Epoch 10/10\n",
      "1/1 - 0s - loss: 18.6120 - custom_mae: 0.1526 - custom_mean_sd: 0.6370 - custom_mse: 0.0399 - custom_mse_scaled: 0.0982 - gaussian_reconstruction_loss: 18.6120 - r_squared: 0.5140 - r_squared_linreg: 0.5586 - val_loss: 16.8192 - val_custom_mae: 0.1448 - val_custom_mean_sd: 0.6057 - val_custom_mse: 0.0364 - val_custom_mse_scaled: 0.0993 - val_gaussian_reconstruction_loss: 16.8192 - val_r_squared: 0.5430 - val_r_squared_linreg: 0.5731 - lr: 0.0500 - 467ms/epoch - 467ms/step\n",
      "\n",
      "-------------------------------------------------------------------------------------------------\n",
      "\n",
      "                                       REP: 5\n",
      "\n",
      "-------------------------------------------------------------------------------------------------\n",
      "\n",
      "Loading data from raw files\n",
      "registering celldata\n"
     ]
    },
    {
     "name": "stderr",
     "output_type": "stream",
     "text": [
      "/home/ifichtner/mambaforge/envs/squidpyTF/lib/python3.8/site-packages/ncem/data.py:2389: FutureWarning: X.dtype being converted to np.float32 from float64. In the next version of anndata (0.9) conversion will not be automatic. Pass dtype explicitly to avoid this warning. Pass `AnnData(X, dtype=X.dtype, ...)` to get the future behavour.\n",
      "  celldata = AnnData(\n",
      "/home/ifichtner/mambaforge/envs/squidpyTF/lib/python3.8/site-packages/anndata/_core/anndata.py:121: ImplicitModificationWarning: Transforming to str index.\n",
      "  warnings.warn(\"Transforming to str index.\", ImplicitModificationWarning)\n"
     ]
    },
    {
     "name": "stdout",
     "output_type": "stream",
     "text": [
      "collecting image-wise celldata\n",
      "adding graph-level covariates\n"
     ]
    },
    {
     "name": "stderr",
     "output_type": "stream",
     "text": [
      "100%|██████████| 58/58 [00:01<00:00, 49.51it/s]\n"
     ]
    },
    {
     "name": "stdout",
     "output_type": "stream",
     "text": [
      "Loaded 58 images with complete data from 4 patients over 63747 cells with 36 cell features and 8 distinct celltypes.\n",
      "Mean of mean node degree per images across images: 4.416036\n",
      "Using split method: node. \n",
      " Train-test-validation split is based on total number of nodes per patients over all images.\n",
      "\n",
      "Excluded 0 cells with the following unannotated cell type: [None] \n",
      "\n",
      "Whole dataset: 63747 cells out of 58 images from 4 patients.\n",
      "Test dataset: 6376 cells out of 58 images from 4 patients.\n",
      "Training dataset: 51930 cells out of 58 images from 4 patients.\n",
      "Validation dataset: 5738 cells out of 58 images from 4 patients. \n",
      "\n",
      "Epoch 1/10\n",
      "1/1 - 2s - loss: 38.6000 - custom_mae: 0.4524 - custom_mean_sd: 1.0000 - custom_mse: 0.3066 - custom_mse_scaled: 0.3066 - gaussian_reconstruction_loss: 38.6000 - r_squared: -2.7059e+00 - r_squared_linreg: 9.6070e-07 - val_loss: 34.1185 - val_custom_mae: 0.2970 - val_custom_mean_sd: 0.9512 - val_custom_mse: 0.1426 - val_custom_mse_scaled: 0.1576 - val_gaussian_reconstruction_loss: 34.1185 - val_r_squared: -7.6546e-01 - val_r_squared_linreg: 0.0533 - lr: 0.0500 - 2s/epoch - 2s/step\n",
      "Epoch 2/10\n",
      "1/1 - 0s - loss: 34.2647 - custom_mae: 0.3035 - custom_mean_sd: 0.9512 - custom_mse: 0.1499 - custom_mse_scaled: 0.1657 - gaussian_reconstruction_loss: 34.2647 - r_squared: -8.4558e-01 - r_squared_linreg: 0.0444 - val_loss: 31.3189 - val_custom_mae: 0.2265 - val_custom_mean_sd: 0.9050 - val_custom_mse: 0.0833 - val_custom_mse_scaled: 0.1017 - val_gaussian_reconstruction_loss: 31.3189 - val_r_squared: -6.1495e-02 - val_r_squared_linreg: 0.2200 - lr: 0.0500 - 424ms/epoch - 424ms/step\n",
      "Epoch 3/10\n",
      "1/1 - 0s - loss: 31.3698 - custom_mae: 0.2296 - custom_mean_sd: 0.9050 - custom_mse: 0.0857 - custom_mse_scaled: 0.1046 - gaussian_reconstruction_loss: 31.3698 - r_squared: -4.3181e-02 - r_squared_linreg: 0.2178 - val_loss: 29.5622 - val_custom_mae: 0.2185 - val_custom_mean_sd: 0.8609 - val_custom_mse: 0.0771 - val_custom_mse_scaled: 0.1040 - val_gaussian_reconstruction_loss: 29.5622 - val_r_squared: 0.0182 - val_r_squared_linreg: 0.4062 - lr: 0.0500 - 479ms/epoch - 479ms/step\n",
      "Epoch 4/10\n",
      "1/1 - 0s - loss: 29.4811 - custom_mae: 0.2125 - custom_mean_sd: 0.8609 - custom_mse: 0.0737 - custom_mse_scaled: 0.0995 - gaussian_reconstruction_loss: 29.4811 - r_squared: 0.1095 - r_squared_linreg: 0.4160 - val_loss: 28.0203 - val_custom_mae: 0.2175 - val_custom_mean_sd: 0.8189 - val_custom_mse: 0.0795 - val_custom_mse_scaled: 0.1185 - val_gaussian_reconstruction_loss: 28.0203 - val_r_squared: -7.0013e-03 - val_r_squared_linreg: 0.5154 - lr: 0.0500 - 421ms/epoch - 421ms/step\n",
      "Epoch 5/10\n",
      "1/1 - 0s - loss: 27.9412 - custom_mae: 0.2141 - custom_mean_sd: 0.8189 - custom_mse: 0.0765 - custom_mse_scaled: 0.1141 - gaussian_reconstruction_loss: 27.9412 - r_squared: 0.0615 - r_squared_linreg: 0.5286 - val_loss: 26.4430 - val_custom_mae: 0.2154 - val_custom_mean_sd: 0.7788 - val_custom_mse: 0.0796 - val_custom_mse_scaled: 0.1311 - val_gaussian_reconstruction_loss: 26.4430 - val_r_squared: -1.8211e-02 - val_r_squared_linreg: 0.5723 - lr: 0.0500 - 481ms/epoch - 481ms/step\n",
      "Epoch 6/10\n",
      "1/1 - 0s - loss: 26.3491 - custom_mae: 0.2101 - custom_mean_sd: 0.7788 - custom_mse: 0.0764 - custom_mse_scaled: 0.1259 - gaussian_reconstruction_loss: 26.3491 - r_squared: 0.0748 - r_squared_linreg: 0.5712 - val_loss: 24.5350 - val_custom_mae: 0.1990 - val_custom_mean_sd: 0.7407 - val_custom_mse: 0.0689 - val_custom_mse_scaled: 0.1255 - val_gaussian_reconstruction_loss: 24.5351 - val_r_squared: 0.1266 - val_r_squared_linreg: 0.5838 - lr: 0.0500 - 448ms/epoch - 448ms/step\n",
      "Epoch 7/10\n",
      "1/1 - 0s - loss: 24.4817 - custom_mae: 0.1967 - custom_mean_sd: 0.7407 - custom_mse: 0.0673 - custom_mse_scaled: 0.1225 - gaussian_reconstruction_loss: 24.4817 - r_squared: 0.1831 - r_squared_linreg: 0.5820 - val_loss: 22.6264 - val_custom_mae: 0.1824 - val_custom_mean_sd: 0.7044 - val_custom_mse: 0.0596 - val_custom_mse_scaled: 0.1199 - val_gaussian_reconstruction_loss: 22.6264 - val_r_squared: 0.2480 - val_r_squared_linreg: 0.5556 - lr: 0.0500 - 422ms/epoch - 422ms/step\n",
      "Epoch 8/10\n",
      "1/1 - 0s - loss: 22.6439 - custom_mae: 0.1832 - custom_mean_sd: 0.7044 - custom_mse: 0.0600 - custom_mse_scaled: 0.1209 - gaussian_reconstruction_loss: 22.6439 - r_squared: 0.2736 - r_squared_linreg: 0.5597 - val_loss: 20.5585 - val_custom_mae: 0.1627 - val_custom_mean_sd: 0.6699 - val_custom_mse: 0.0474 - val_custom_mse_scaled: 0.1055 - val_gaussian_reconstruction_loss: 20.5585 - val_r_squared: 0.3991 - val_r_squared_linreg: 0.5531 - lr: 0.0500 - 459ms/epoch - 459ms/step\n",
      "Epoch 9/10\n",
      "1/1 - 0s - loss: 20.6240 - custom_mae: 0.1653 - custom_mean_sd: 0.6699 - custom_mse: 0.0490 - custom_mse_scaled: 0.1091 - gaussian_reconstruction_loss: 20.6240 - r_squared: 0.4038 - r_squared_linreg: 0.5527 - val_loss: 18.7110 - val_custom_mae: 0.1555 - val_custom_mean_sd: 0.6370 - val_custom_mse: 0.0420 - val_custom_mse_scaled: 0.1034 - val_gaussian_reconstruction_loss: 18.7110 - val_r_squared: 0.4667 - val_r_squared_linreg: 0.5450 - lr: 0.0500 - 443ms/epoch - 443ms/step\n",
      "Epoch 10/10\n",
      "1/1 - 0s - loss: 18.7550 - custom_mae: 0.1570 - custom_mean_sd: 0.6370 - custom_mse: 0.0430 - custom_mse_scaled: 0.1059 - gaussian_reconstruction_loss: 18.7550 - r_squared: 0.4734 - r_squared_linreg: 0.5477 - val_loss: 16.9635 - val_custom_mae: 0.1524 - val_custom_mean_sd: 0.6058 - val_custom_mse: 0.0393 - val_custom_mse_scaled: 0.1070 - val_gaussian_reconstruction_loss: 16.9635 - val_r_squared: 0.5008 - val_r_squared_linreg: 0.5430 - lr: 0.0500 - 401ms/epoch - 401ms/step\n",
      "\n",
      "-------------------------------------------------------------------------------------------------\n",
      "\n",
      "                                       REP: 6\n",
      "\n",
      "-------------------------------------------------------------------------------------------------\n",
      "\n",
      "Loading data from raw files\n",
      "registering celldata\n"
     ]
    },
    {
     "name": "stderr",
     "output_type": "stream",
     "text": [
      "/home/ifichtner/mambaforge/envs/squidpyTF/lib/python3.8/site-packages/ncem/data.py:2389: FutureWarning: X.dtype being converted to np.float32 from float64. In the next version of anndata (0.9) conversion will not be automatic. Pass dtype explicitly to avoid this warning. Pass `AnnData(X, dtype=X.dtype, ...)` to get the future behavour.\n",
      "  celldata = AnnData(\n",
      "/home/ifichtner/mambaforge/envs/squidpyTF/lib/python3.8/site-packages/anndata/_core/anndata.py:121: ImplicitModificationWarning: Transforming to str index.\n",
      "  warnings.warn(\"Transforming to str index.\", ImplicitModificationWarning)\n"
     ]
    },
    {
     "name": "stdout",
     "output_type": "stream",
     "text": [
      "collecting image-wise celldata\n",
      "adding graph-level covariates\n"
     ]
    },
    {
     "name": "stderr",
     "output_type": "stream",
     "text": [
      "100%|██████████| 58/58 [00:01<00:00, 48.62it/s]\n"
     ]
    },
    {
     "name": "stdout",
     "output_type": "stream",
     "text": [
      "Loaded 58 images with complete data from 4 patients over 63747 cells with 36 cell features and 8 distinct celltypes.\n",
      "Mean of mean node degree per images across images: 4.416036\n",
      "Using split method: node. \n",
      " Train-test-validation split is based on total number of nodes per patients over all images.\n",
      "\n",
      "Excluded 0 cells with the following unannotated cell type: [None] \n",
      "\n",
      "Whole dataset: 63747 cells out of 58 images from 4 patients.\n",
      "Test dataset: 6376 cells out of 58 images from 4 patients.\n",
      "Training dataset: 51930 cells out of 58 images from 4 patients.\n",
      "Validation dataset: 5738 cells out of 58 images from 4 patients. \n",
      "\n",
      "Epoch 1/10\n",
      "1/1 - 2s - loss: 38.5037 - custom_mae: 0.4478 - custom_mean_sd: 1.0000 - custom_mse: 0.3012 - custom_mse_scaled: 0.3012 - gaussian_reconstruction_loss: 38.5037 - r_squared: -2.6411e+00 - r_squared_linreg: 5.3961e-04 - val_loss: 34.1053 - val_custom_mae: 0.2983 - val_custom_mean_sd: 0.9512 - val_custom_mse: 0.1419 - val_custom_mse_scaled: 0.1569 - val_gaussian_reconstruction_loss: 34.1053 - val_r_squared: -7.7698e-01 - val_r_squared_linreg: 0.0522 - lr: 0.0500 - 2s/epoch - 2s/step\n",
      "Epoch 2/10\n",
      "1/1 - 0s - loss: 34.2083 - custom_mae: 0.3032 - custom_mean_sd: 0.9512 - custom_mse: 0.1471 - custom_mse_scaled: 0.1626 - gaussian_reconstruction_loss: 34.2083 - r_squared: -8.1068e-01 - r_squared_linreg: 0.0521 - val_loss: 31.3051 - val_custom_mae: 0.2257 - val_custom_mean_sd: 0.9050 - val_custom_mse: 0.0827 - val_custom_mse_scaled: 0.1009 - val_gaussian_reconstruction_loss: 31.3051 - val_r_squared: -5.0708e-02 - val_r_squared_linreg: 0.2238 - lr: 0.0500 - 447ms/epoch - 447ms/step\n",
      "Epoch 3/10\n",
      "1/1 - 1s - loss: 31.3602 - custom_mae: 0.2295 - custom_mean_sd: 0.9050 - custom_mse: 0.0852 - custom_mse_scaled: 0.1040 - gaussian_reconstruction_loss: 31.3602 - r_squared: -3.7207e-02 - r_squared_linreg: 0.2291 - val_loss: 29.3848 - val_custom_mae: 0.2063 - val_custom_mean_sd: 0.8610 - val_custom_mse: 0.0697 - val_custom_mse_scaled: 0.0940 - val_gaussian_reconstruction_loss: 29.3848 - val_r_squared: 0.1148 - val_r_squared_linreg: 0.4159 - lr: 0.0500 - 500ms/epoch - 500ms/step\n",
      "Epoch 4/10\n",
      "1/1 - 0s - loss: 29.3766 - custom_mae: 0.2059 - custom_mean_sd: 0.8610 - custom_mse: 0.0694 - custom_mse_scaled: 0.0935 - gaussian_reconstruction_loss: 29.3766 - r_squared: 0.1537 - r_squared_linreg: 0.4189 - val_loss: 27.8893 - val_custom_mae: 0.2103 - val_custom_mean_sd: 0.8189 - val_custom_mse: 0.0745 - val_custom_mse_scaled: 0.1110 - val_gaussian_reconstruction_loss: 27.8893 - val_r_squared: 0.0660 - val_r_squared_linreg: 0.5203 - lr: 0.0500 - 433ms/epoch - 433ms/step\n",
      "Epoch 5/10\n",
      "1/1 - 0s - loss: 27.8908 - custom_mae: 0.2127 - custom_mean_sd: 0.8189 - custom_mse: 0.0745 - custom_mse_scaled: 0.1111 - gaussian_reconstruction_loss: 27.8908 - r_squared: 0.0931 - r_squared_linreg: 0.5322 - val_loss: 26.4138 - val_custom_mae: 0.2152 - val_custom_mean_sd: 0.7789 - val_custom_mse: 0.0785 - val_custom_mse_scaled: 0.1293 - val_gaussian_reconstruction_loss: 26.4138 - val_r_squared: 0.0087 - val_r_squared_linreg: 0.5431 - lr: 0.0500 - 427ms/epoch - 427ms/step\n",
      "Epoch 6/10\n",
      "1/1 - 0s - loss: 26.3861 - custom_mae: 0.2128 - custom_mean_sd: 0.7789 - custom_mse: 0.0776 - custom_mse_scaled: 0.1278 - gaussian_reconstruction_loss: 26.3861 - r_squared: 0.0629 - r_squared_linreg: 0.5555 - val_loss: 24.5313 - val_custom_mae: 0.2000 - val_custom_mean_sd: 0.7408 - val_custom_mse: 0.0687 - val_custom_mse_scaled: 0.1250 - val_gaussian_reconstruction_loss: 24.5313 - val_r_squared: 0.1313 - val_r_squared_linreg: 0.5579 - lr: 0.0500 - 433ms/epoch - 433ms/step\n",
      "Epoch 7/10\n",
      "1/1 - 0s - loss: 24.4002 - custom_mae: 0.1926 - custom_mean_sd: 0.7408 - custom_mse: 0.0647 - custom_mse_scaled: 0.1178 - gaussian_reconstruction_loss: 24.4002 - r_squared: 0.2221 - r_squared_linreg: 0.5572 - val_loss: 22.7095 - val_custom_mae: 0.1879 - val_custom_mean_sd: 0.7045 - val_custom_mse: 0.0617 - val_custom_mse_scaled: 0.1242 - val_gaussian_reconstruction_loss: 22.7095 - val_r_squared: 0.2243 - val_r_squared_linreg: 0.5373 - lr: 0.0500 - 495ms/epoch - 495ms/step\n",
      "Epoch 8/10\n",
      "1/1 - 0s - loss: 22.5138 - custom_mae: 0.1802 - custom_mean_sd: 0.7045 - custom_mse: 0.0563 - custom_mse_scaled: 0.1134 - gaussian_reconstruction_loss: 22.5138 - r_squared: 0.3154 - r_squared_linreg: 0.5515 - val_loss: 20.6365 - val_custom_mae: 0.1685 - val_custom_mean_sd: 0.6700 - val_custom_mse: 0.0492 - val_custom_mse_scaled: 0.1095 - val_gaussian_reconstruction_loss: 20.6365 - val_r_squared: 0.3794 - val_r_squared_linreg: 0.5356 - lr: 0.0500 - 448ms/epoch - 448ms/step\n",
      "Epoch 9/10\n",
      "1/1 - 0s - loss: 20.5596 - custom_mae: 0.1656 - custom_mean_sd: 0.6700 - custom_mse: 0.0473 - custom_mse_scaled: 0.1053 - gaussian_reconstruction_loss: 20.5596 - r_squared: 0.4279 - r_squared_linreg: 0.5513 - val_loss: 18.7050 - val_custom_mae: 0.1565 - val_custom_mean_sd: 0.6371 - val_custom_mse: 0.0418 - val_custom_mse_scaled: 0.1028 - val_gaussian_reconstruction_loss: 18.7050 - val_r_squared: 0.4727 - val_r_squared_linreg: 0.5436 - lr: 0.0500 - 424ms/epoch - 424ms/step\n",
      "Epoch 10/10\n",
      "1/1 - 0s - loss: 18.7312 - custom_mae: 0.1584 - custom_mean_sd: 0.6371 - custom_mse: 0.0423 - custom_mse_scaled: 0.1043 - gaussian_reconstruction_loss: 18.7312 - r_squared: 0.4855 - r_squared_linreg: 0.5440 - val_loss: 16.9292 - val_custom_mae: 0.1508 - val_custom_mean_sd: 0.6059 - val_custom_mse: 0.0385 - val_custom_mse_scaled: 0.1048 - val_gaussian_reconstruction_loss: 16.9292 - val_r_squared: 0.5174 - val_r_squared_linreg: 0.5499 - lr: 0.0500 - 442ms/epoch - 442ms/step\n",
      "\n",
      "-------------------------------------------------------------------------------------------------\n",
      "\n",
      "                                       REP: 7\n",
      "\n",
      "-------------------------------------------------------------------------------------------------\n",
      "\n",
      "Loading data from raw files\n",
      "registering celldata\n"
     ]
    },
    {
     "name": "stderr",
     "output_type": "stream",
     "text": [
      "/home/ifichtner/mambaforge/envs/squidpyTF/lib/python3.8/site-packages/ncem/data.py:2389: FutureWarning: X.dtype being converted to np.float32 from float64. In the next version of anndata (0.9) conversion will not be automatic. Pass dtype explicitly to avoid this warning. Pass `AnnData(X, dtype=X.dtype, ...)` to get the future behavour.\n",
      "  celldata = AnnData(\n",
      "/home/ifichtner/mambaforge/envs/squidpyTF/lib/python3.8/site-packages/anndata/_core/anndata.py:121: ImplicitModificationWarning: Transforming to str index.\n",
      "  warnings.warn(\"Transforming to str index.\", ImplicitModificationWarning)\n"
     ]
    },
    {
     "name": "stdout",
     "output_type": "stream",
     "text": [
      "collecting image-wise celldata\n",
      "adding graph-level covariates\n"
     ]
    },
    {
     "name": "stderr",
     "output_type": "stream",
     "text": [
      "100%|██████████| 58/58 [00:01<00:00, 50.62it/s]\n"
     ]
    },
    {
     "name": "stdout",
     "output_type": "stream",
     "text": [
      "Loaded 58 images with complete data from 4 patients over 63747 cells with 36 cell features and 8 distinct celltypes.\n",
      "Mean of mean node degree per images across images: 4.416036\n",
      "Using split method: node. \n",
      " Train-test-validation split is based on total number of nodes per patients over all images.\n",
      "\n",
      "Excluded 0 cells with the following unannotated cell type: [None] \n",
      "\n",
      "Whole dataset: 63747 cells out of 58 images from 4 patients.\n",
      "Test dataset: 6376 cells out of 58 images from 4 patients.\n",
      "Training dataset: 51930 cells out of 58 images from 4 patients.\n",
      "Validation dataset: 5738 cells out of 58 images from 4 patients. \n",
      "\n",
      "Epoch 1/10\n",
      "1/1 - 2s - loss: 38.6692 - custom_mae: 0.4598 - custom_mean_sd: 1.0000 - custom_mse: 0.3104 - custom_mse_scaled: 0.3104 - gaussian_reconstruction_loss: 38.6692 - r_squared: -2.7523e+00 - r_squared_linreg: 1.4966e-04 - val_loss: 34.0376 - val_custom_mae: 0.2953 - val_custom_mean_sd: 0.9512 - val_custom_mse: 0.1385 - val_custom_mse_scaled: 0.1531 - val_gaussian_reconstruction_loss: 34.0376 - val_r_squared: -7.5083e-01 - val_r_squared_linreg: 0.0489 - lr: 0.0500 - 2s/epoch - 2s/step\n",
      "Epoch 2/10\n",
      "1/1 - 0s - loss: 34.1928 - custom_mae: 0.3049 - custom_mean_sd: 0.9512 - custom_mse: 0.1463 - custom_mse_scaled: 0.1617 - gaussian_reconstruction_loss: 34.1928 - r_squared: -8.0109e-01 - r_squared_linreg: 0.0453 - val_loss: 31.2647 - val_custom_mae: 0.2255 - val_custom_mean_sd: 0.9050 - val_custom_mse: 0.0808 - val_custom_mse_scaled: 0.0986 - val_gaussian_reconstruction_loss: 31.2647 - val_r_squared: -2.2997e-02 - val_r_squared_linreg: 0.2205 - lr: 0.0500 - 496ms/epoch - 496ms/step\n",
      "Epoch 3/10\n",
      "1/1 - 0s - loss: 31.2739 - custom_mae: 0.2246 - custom_mean_sd: 0.9050 - custom_mse: 0.0812 - custom_mse_scaled: 0.0992 - gaussian_reconstruction_loss: 31.2739 - r_squared: 0.0106 - r_squared_linreg: 0.2288 - val_loss: 29.4349 - val_custom_mae: 0.2091 - val_custom_mean_sd: 0.8610 - val_custom_mse: 0.0718 - val_custom_mse_scaled: 0.0968 - val_gaussian_reconstruction_loss: 29.4349 - val_r_squared: 0.0940 - val_r_squared_linreg: 0.4028 - lr: 0.0500 - 446ms/epoch - 446ms/step\n",
      "Epoch 4/10\n",
      "1/1 - 0s - loss: 29.4387 - custom_mae: 0.2092 - custom_mean_sd: 0.8610 - custom_mse: 0.0719 - custom_mse_scaled: 0.0970 - gaussian_reconstruction_loss: 29.4387 - r_squared: 0.1258 - r_squared_linreg: 0.4005 - val_loss: 28.0383 - val_custom_mae: 0.2193 - val_custom_mean_sd: 0.8189 - val_custom_mse: 0.0800 - val_custom_mse_scaled: 0.1193 - val_gaussian_reconstruction_loss: 28.0383 - val_r_squared: -1.7494e-02 - val_r_squared_linreg: 0.5271 - lr: 0.0500 - 444ms/epoch - 444ms/step\n",
      "Epoch 5/10\n",
      "1/1 - 0s - loss: 27.9180 - custom_mae: 0.2126 - custom_mean_sd: 0.8189 - custom_mse: 0.0756 - custom_mse_scaled: 0.1126 - gaussian_reconstruction_loss: 27.9180 - r_squared: 0.0743 - r_squared_linreg: 0.5325 - val_loss: 26.5023 - val_custom_mae: 0.2170 - val_custom_mean_sd: 0.7789 - val_custom_mse: 0.0815 - val_custom_mse_scaled: 0.1343 - val_gaussian_reconstruction_loss: 26.5023 - val_r_squared: -3.3452e-02 - val_r_squared_linreg: 0.5641 - lr: 0.0500 - 425ms/epoch - 425ms/step\n",
      "Epoch 6/10\n",
      "1/1 - 0s - loss: 26.4586 - custom_mae: 0.2160 - custom_mean_sd: 0.7789 - custom_mse: 0.0800 - custom_mse_scaled: 0.1318 - gaussian_reconstruction_loss: 26.4586 - r_squared: 0.0354 - r_squared_linreg: 0.5537 - val_loss: 24.6605 - val_custom_mae: 0.2041 - val_custom_mean_sd: 0.7408 - val_custom_mse: 0.0726 - val_custom_mse_scaled: 0.1323 - val_gaussian_reconstruction_loss: 24.6605 - val_r_squared: 0.0798 - val_r_squared_linreg: 0.5568 - lr: 0.0500 - 418ms/epoch - 418ms/step\n",
      "Epoch 7/10\n",
      "1/1 - 0s - loss: 24.6134 - custom_mae: 0.2030 - custom_mean_sd: 0.7408 - custom_mse: 0.0712 - custom_mse_scaled: 0.1296 - gaussian_reconstruction_loss: 24.6134 - r_squared: 0.1262 - r_squared_linreg: 0.5756 - val_loss: 22.6593 - val_custom_mae: 0.1853 - val_custom_mean_sd: 0.7045 - val_custom_mse: 0.0603 - val_custom_mse_scaled: 0.1214 - val_gaussian_reconstruction_loss: 22.6593 - val_r_squared: 0.2332 - val_r_squared_linreg: 0.5515 - lr: 0.0500 - 419ms/epoch - 419ms/step\n",
      "Epoch 8/10\n",
      "1/1 - 0s - loss: 22.4869 - custom_mae: 0.1788 - custom_mean_sd: 0.7045 - custom_mse: 0.0556 - custom_mse_scaled: 0.1118 - gaussian_reconstruction_loss: 22.4869 - r_squared: 0.3340 - r_squared_linreg: 0.5749 - val_loss: 20.6234 - val_custom_mae: 0.1667 - val_custom_mean_sd: 0.6700 - val_custom_mse: 0.0489 - val_custom_mse_scaled: 0.1088 - val_gaussian_reconstruction_loss: 20.6234 - val_r_squared: 0.3769 - val_r_squared_linreg: 0.5427 - lr: 0.0500 - 396ms/epoch - 396ms/step\n",
      "Epoch 9/10\n",
      "1/1 - 0s - loss: 20.5026 - custom_mae: 0.1624 - custom_mean_sd: 0.6700 - custom_mse: 0.0458 - custom_mse_scaled: 0.1021 - gaussian_reconstruction_loss: 20.5026 - r_squared: 0.4411 - r_squared_linreg: 0.5667 - val_loss: 18.7236 - val_custom_mae: 0.1559 - val_custom_mean_sd: 0.6372 - val_custom_mse: 0.0421 - val_custom_mse_scaled: 0.1038 - val_gaussian_reconstruction_loss: 18.7236 - val_r_squared: 0.4722 - val_r_squared_linreg: 0.5409 - lr: 0.0500 - 452ms/epoch - 452ms/step\n",
      "Epoch 10/10\n",
      "1/1 - 0s - loss: 18.7660 - custom_mae: 0.1587 - custom_mean_sd: 0.6372 - custom_mse: 0.0431 - custom_mse_scaled: 0.1062 - gaussian_reconstruction_loss: 18.7660 - r_squared: 0.4776 - r_squared_linreg: 0.5478 - val_loss: 16.9655 - val_custom_mae: 0.1513 - val_custom_mean_sd: 0.6059 - val_custom_mse: 0.0392 - val_custom_mse_scaled: 0.1068 - val_gaussian_reconstruction_loss: 16.9655 - val_r_squared: 0.5021 - val_r_squared_linreg: 0.5468 - lr: 0.0500 - 439ms/epoch - 439ms/step\n",
      "\n",
      "-------------------------------------------------------------------------------------------------\n",
      "\n",
      "                                       REP: 8\n",
      "\n",
      "-------------------------------------------------------------------------------------------------\n",
      "\n",
      "Loading data from raw files\n",
      "registering celldata\n"
     ]
    },
    {
     "name": "stderr",
     "output_type": "stream",
     "text": [
      "/home/ifichtner/mambaforge/envs/squidpyTF/lib/python3.8/site-packages/ncem/data.py:2389: FutureWarning: X.dtype being converted to np.float32 from float64. In the next version of anndata (0.9) conversion will not be automatic. Pass dtype explicitly to avoid this warning. Pass `AnnData(X, dtype=X.dtype, ...)` to get the future behavour.\n",
      "  celldata = AnnData(\n",
      "/home/ifichtner/mambaforge/envs/squidpyTF/lib/python3.8/site-packages/anndata/_core/anndata.py:121: ImplicitModificationWarning: Transforming to str index.\n",
      "  warnings.warn(\"Transforming to str index.\", ImplicitModificationWarning)\n"
     ]
    },
    {
     "name": "stdout",
     "output_type": "stream",
     "text": [
      "collecting image-wise celldata\n",
      "adding graph-level covariates\n"
     ]
    },
    {
     "name": "stderr",
     "output_type": "stream",
     "text": [
      "100%|██████████| 58/58 [00:01<00:00, 49.84it/s]\n"
     ]
    },
    {
     "name": "stdout",
     "output_type": "stream",
     "text": [
      "Loaded 58 images with complete data from 4 patients over 63747 cells with 36 cell features and 8 distinct celltypes.\n",
      "Mean of mean node degree per images across images: 4.416036\n",
      "Using split method: node. \n",
      " Train-test-validation split is based on total number of nodes per patients over all images.\n",
      "\n",
      "Excluded 0 cells with the following unannotated cell type: [None] \n",
      "\n",
      "Whole dataset: 63747 cells out of 58 images from 4 patients.\n",
      "Test dataset: 6376 cells out of 58 images from 4 patients.\n",
      "Training dataset: 51930 cells out of 58 images from 4 patients.\n",
      "Validation dataset: 5738 cells out of 58 images from 4 patients. \n",
      "\n",
      "Epoch 1/10\n",
      "1/1 - 3s - loss: 38.0188 - custom_mae: 0.4294 - custom_mean_sd: 1.0000 - custom_mse: 0.2743 - custom_mse_scaled: 0.2743 - gaussian_reconstruction_loss: 38.0188 - r_squared: -2.3155e+00 - r_squared_linreg: 0.0042 - val_loss: 33.8070 - val_custom_mae: 0.2813 - val_custom_mean_sd: 0.9512 - val_custom_mse: 0.1269 - val_custom_mse_scaled: 0.1403 - val_gaussian_reconstruction_loss: 33.8070 - val_r_squared: -6.0243e-01 - val_r_squared_linreg: 0.0706 - lr: 0.0500 - 3s/epoch - 3s/step\n",
      "Epoch 2/10\n",
      "1/1 - 0s - loss: 33.8788 - custom_mae: 0.2843 - custom_mean_sd: 0.9512 - custom_mse: 0.1306 - custom_mse_scaled: 0.1443 - gaussian_reconstruction_loss: 33.8788 - r_squared: -6.0685e-01 - r_squared_linreg: 0.0801 - val_loss: 31.1768 - val_custom_mae: 0.2181 - val_custom_mean_sd: 0.9050 - val_custom_mse: 0.0769 - val_custom_mse_scaled: 0.0939 - val_gaussian_reconstruction_loss: 31.1768 - val_r_squared: 0.0119 - val_r_squared_linreg: 0.2681 - lr: 0.0500 - 439ms/epoch - 439ms/step\n",
      "Epoch 3/10\n",
      "1/1 - 0s - loss: 31.2343 - custom_mae: 0.2217 - custom_mean_sd: 0.9050 - custom_mse: 0.0795 - custom_mse_scaled: 0.0971 - gaussian_reconstruction_loss: 31.2343 - r_squared: 0.0315 - r_squared_linreg: 0.2633 - val_loss: 29.4275 - val_custom_mae: 0.2112 - val_custom_mean_sd: 0.8609 - val_custom_mse: 0.0716 - val_custom_mse_scaled: 0.0967 - val_gaussian_reconstruction_loss: 29.4275 - val_r_squared: 0.0990 - val_r_squared_linreg: 0.4230 - lr: 0.0500 - 422ms/epoch - 422ms/step\n",
      "Epoch 4/10\n",
      "1/1 - 0s - loss: 29.4278 - custom_mae: 0.2100 - custom_mean_sd: 0.8609 - custom_mse: 0.0716 - custom_mse_scaled: 0.0967 - gaussian_reconstruction_loss: 29.4278 - r_squared: 0.1252 - r_squared_linreg: 0.4249 - val_loss: 27.9023 - val_custom_mae: 0.2147 - val_custom_mean_sd: 0.8188 - val_custom_mse: 0.0751 - val_custom_mse_scaled: 0.1121 - val_gaussian_reconstruction_loss: 27.9023 - val_r_squared: 0.0513 - val_r_squared_linreg: 0.5081 - lr: 0.0500 - 449ms/epoch - 449ms/step\n",
      "Epoch 5/10\n",
      "1/1 - 0s - loss: 27.9079 - custom_mae: 0.2140 - custom_mean_sd: 0.8188 - custom_mse: 0.0754 - custom_mse_scaled: 0.1124 - gaussian_reconstruction_loss: 27.9079 - r_squared: 0.0910 - r_squared_linreg: 0.5153 - val_loss: 26.1048 - val_custom_mae: 0.2012 - val_custom_mean_sd: 0.7788 - val_custom_mse: 0.0683 - val_custom_mse_scaled: 0.1125 - val_gaussian_reconstruction_loss: 26.1048 - val_r_squared: 0.1354 - val_r_squared_linreg: 0.5670 - lr: 0.0500 - 406ms/epoch - 406ms/step\n",
      "Epoch 6/10\n",
      "1/1 - 0s - loss: 26.1144 - custom_mae: 0.2010 - custom_mean_sd: 0.7788 - custom_mse: 0.0686 - custom_mse_scaled: 0.1130 - gaussian_reconstruction_loss: 26.1144 - r_squared: 0.1707 - r_squared_linreg: 0.5646 - val_loss: 24.2897 - val_custom_mae: 0.1873 - val_custom_mean_sd: 0.7407 - val_custom_mse: 0.0615 - val_custom_mse_scaled: 0.1120 - val_gaussian_reconstruction_loss: 24.2897 - val_r_squared: 0.2220 - val_r_squared_linreg: 0.5617 - lr: 0.0500 - 399ms/epoch - 399ms/step\n",
      "Epoch 7/10\n",
      "1/1 - 0s - loss: 24.4490 - custom_mae: 0.1947 - custom_mean_sd: 0.7407 - custom_mse: 0.0664 - custom_mse_scaled: 0.1208 - gaussian_reconstruction_loss: 24.4490 - r_squared: 0.1828 - r_squared_linreg: 0.5524 - val_loss: 22.4199 - val_custom_mae: 0.1744 - val_custom_mean_sd: 0.7044 - val_custom_mse: 0.0539 - val_custom_mse_scaled: 0.1085 - val_gaussian_reconstruction_loss: 22.4199 - val_r_squared: 0.3271 - val_r_squared_linreg: 0.5573 - lr: 0.0500 - 453ms/epoch - 453ms/step\n",
      "Epoch 8/10\n",
      "1/1 - 0s - loss: 22.3479 - custom_mae: 0.1715 - custom_mean_sd: 0.7044 - custom_mse: 0.0519 - custom_mse_scaled: 0.1045 - gaussian_reconstruction_loss: 22.3479 - r_squared: 0.3671 - r_squared_linreg: 0.5678 - val_loss: 20.4680 - val_custom_mae: 0.1616 - val_custom_mean_sd: 0.6699 - val_custom_mse: 0.0451 - val_custom_mse_scaled: 0.1005 - val_gaussian_reconstruction_loss: 20.4680 - val_r_squared: 0.4291 - val_r_squared_linreg: 0.5548 - lr: 0.0500 - 417ms/epoch - 417ms/step\n",
      "Epoch 9/10\n",
      "1/1 - 0s - loss: 20.6083 - custom_mae: 0.1678 - custom_mean_sd: 0.6699 - custom_mse: 0.0486 - custom_mse_scaled: 0.1083 - gaussian_reconstruction_loss: 20.6083 - r_squared: 0.4196 - r_squared_linreg: 0.5414 - val_loss: 18.6824 - val_custom_mae: 0.1560 - val_custom_mean_sd: 0.6371 - val_custom_mse: 0.0413 - val_custom_mse_scaled: 0.1018 - val_gaussian_reconstruction_loss: 18.6824 - val_r_squared: 0.4811 - val_r_squared_linreg: 0.5414 - lr: 0.0500 - 407ms/epoch - 407ms/step\n",
      "Epoch 10/10\n",
      "1/1 - 0s - loss: 18.7417 - custom_mae: 0.1586 - custom_mean_sd: 0.6371 - custom_mse: 0.0426 - custom_mse_scaled: 0.1051 - gaussian_reconstruction_loss: 18.7417 - r_squared: 0.4787 - r_squared_linreg: 0.5346 - val_loss: 16.9426 - val_custom_mae: 0.1524 - val_custom_mean_sd: 0.6058 - val_custom_mse: 0.0388 - val_custom_mse_scaled: 0.1057 - val_gaussian_reconstruction_loss: 16.9426 - val_r_squared: 0.5071 - val_r_squared_linreg: 0.5401 - lr: 0.0500 - 399ms/epoch - 399ms/step\n",
      "\n",
      "-------------------------------------------------------------------------------------------------\n",
      "\n",
      "                                       REP: 9\n",
      "\n",
      "-------------------------------------------------------------------------------------------------\n",
      "\n",
      "Loading data from raw files\n",
      "registering celldata\n"
     ]
    },
    {
     "name": "stderr",
     "output_type": "stream",
     "text": [
      "/home/ifichtner/mambaforge/envs/squidpyTF/lib/python3.8/site-packages/ncem/data.py:2389: FutureWarning: X.dtype being converted to np.float32 from float64. In the next version of anndata (0.9) conversion will not be automatic. Pass dtype explicitly to avoid this warning. Pass `AnnData(X, dtype=X.dtype, ...)` to get the future behavour.\n",
      "  celldata = AnnData(\n",
      "/home/ifichtner/mambaforge/envs/squidpyTF/lib/python3.8/site-packages/anndata/_core/anndata.py:121: ImplicitModificationWarning: Transforming to str index.\n",
      "  warnings.warn(\"Transforming to str index.\", ImplicitModificationWarning)\n"
     ]
    },
    {
     "name": "stdout",
     "output_type": "stream",
     "text": [
      "collecting image-wise celldata\n",
      "adding graph-level covariates\n"
     ]
    },
    {
     "name": "stderr",
     "output_type": "stream",
     "text": [
      "100%|██████████| 58/58 [00:01<00:00, 51.26it/s]\n"
     ]
    },
    {
     "name": "stdout",
     "output_type": "stream",
     "text": [
      "Loaded 58 images with complete data from 4 patients over 63747 cells with 36 cell features and 8 distinct celltypes.\n",
      "Mean of mean node degree per images across images: 4.416036\n",
      "Using split method: node. \n",
      " Train-test-validation split is based on total number of nodes per patients over all images.\n",
      "\n",
      "Excluded 0 cells with the following unannotated cell type: [None] \n",
      "\n",
      "Whole dataset: 63747 cells out of 58 images from 4 patients.\n",
      "Test dataset: 6376 cells out of 58 images from 4 patients.\n",
      "Training dataset: 51930 cells out of 58 images from 4 patients.\n",
      "Validation dataset: 5738 cells out of 58 images from 4 patients. \n",
      "\n",
      "Epoch 1/10\n",
      "1/1 - 2s - loss: 38.4039 - custom_mae: 0.4481 - custom_mean_sd: 1.0000 - custom_mse: 0.2957 - custom_mse_scaled: 0.2957 - gaussian_reconstruction_loss: 38.4039 - r_squared: -2.5742e+00 - r_squared_linreg: 0.0022 - val_loss: 33.8840 - val_custom_mae: 0.2840 - val_custom_mean_sd: 0.9512 - val_custom_mse: 0.1308 - val_custom_mse_scaled: 0.1446 - val_gaussian_reconstruction_loss: 33.8840 - val_r_squared: -6.6193e-01 - val_r_squared_linreg: 0.0835 - lr: 0.0500 - 2s/epoch - 2s/step\n",
      "Epoch 2/10\n",
      "1/1 - 0s - loss: 34.0494 - custom_mae: 0.2938 - custom_mean_sd: 0.9512 - custom_mse: 0.1391 - custom_mse_scaled: 0.1538 - gaussian_reconstruction_loss: 34.0494 - r_squared: -7.1238e-01 - r_squared_linreg: 0.0877 - val_loss: 31.2304 - val_custom_mae: 0.2236 - val_custom_mean_sd: 0.9050 - val_custom_mse: 0.0793 - val_custom_mse_scaled: 0.0969 - val_gaussian_reconstruction_loss: 31.2304 - val_r_squared: -7.8721e-03 - val_r_squared_linreg: 0.2598 - lr: 0.0500 - 422ms/epoch - 422ms/step\n",
      "Epoch 3/10\n",
      "1/1 - 0s - loss: 31.2770 - custom_mae: 0.2254 - custom_mean_sd: 0.9050 - custom_mse: 0.0815 - custom_mse_scaled: 0.0995 - gaussian_reconstruction_loss: 31.2770 - r_squared: 0.0081 - r_squared_linreg: 0.2480 - val_loss: 29.5335 - val_custom_mae: 0.2165 - val_custom_mean_sd: 0.8609 - val_custom_mse: 0.0760 - val_custom_mse_scaled: 0.1025 - val_gaussian_reconstruction_loss: 29.5335 - val_r_squared: 0.0389 - val_r_squared_linreg: 0.4175 - lr: 0.0500 - 421ms/epoch - 421ms/step\n",
      "Epoch 4/10\n",
      "1/1 - 0s - loss: 29.4251 - custom_mae: 0.2101 - custom_mean_sd: 0.8609 - custom_mse: 0.0715 - custom_mse_scaled: 0.0965 - gaussian_reconstruction_loss: 29.4251 - r_squared: 0.1384 - r_squared_linreg: 0.4235 - val_loss: 28.0029 - val_custom_mae: 0.2174 - val_custom_mean_sd: 0.8188 - val_custom_mse: 0.0789 - val_custom_mse_scaled: 0.1177 - val_gaussian_reconstruction_loss: 28.0029 - val_r_squared: 9.3098e-04 - val_r_squared_linreg: 0.5264 - lr: 0.0500 - 438ms/epoch - 438ms/step\n",
      "Epoch 5/10\n",
      "1/1 - 0s - loss: 28.0268 - custom_mae: 0.2176 - custom_mean_sd: 0.8188 - custom_mse: 0.0798 - custom_mse_scaled: 0.1190 - gaussian_reconstruction_loss: 28.0268 - r_squared: 0.0223 - r_squared_linreg: 0.5273 - val_loss: 26.5038 - val_custom_mae: 0.2187 - val_custom_mean_sd: 0.7787 - val_custom_mse: 0.0817 - val_custom_mse_scaled: 0.1347 - val_gaussian_reconstruction_loss: 26.5038 - val_r_squared: -4.5201e-02 - val_r_squared_linreg: 0.5623 - lr: 0.0500 - 458ms/epoch - 458ms/step\n",
      "Epoch 6/10\n",
      "1/1 - 0s - loss: 26.3606 - custom_mae: 0.2117 - custom_mean_sd: 0.7787 - custom_mse: 0.0769 - custom_mse_scaled: 0.1267 - gaussian_reconstruction_loss: 26.3606 - r_squared: 0.0686 - r_squared_linreg: 0.5672 - val_loss: 24.5572 - val_custom_mae: 0.2013 - val_custom_mean_sd: 0.7406 - val_custom_mse: 0.0696 - val_custom_mse_scaled: 0.1269 - val_gaussian_reconstruction_loss: 24.5572 - val_r_squared: 0.1311 - val_r_squared_linreg: 0.5571 - lr: 0.0500 - 495ms/epoch - 495ms/step\n",
      "Epoch 7/10\n",
      "1/1 - 0s - loss: 24.5643 - custom_mae: 0.2002 - custom_mean_sd: 0.7406 - custom_mse: 0.0699 - custom_mse_scaled: 0.1273 - gaussian_reconstruction_loss: 24.5643 - r_squared: 0.1477 - r_squared_linreg: 0.5712 - val_loss: 22.4996 - val_custom_mae: 0.1769 - val_custom_mean_sd: 0.7044 - val_custom_mse: 0.0561 - val_custom_mse_scaled: 0.1129 - val_gaussian_reconstruction_loss: 22.4996 - val_r_squared: 0.2960 - val_r_squared_linreg: 0.5564 - lr: 0.0500 - 476ms/epoch - 476ms/step\n",
      "Epoch 8/10\n",
      "1/1 - 0s - loss: 22.4924 - custom_mae: 0.1777 - custom_mean_sd: 0.7044 - custom_mse: 0.0559 - custom_mse_scaled: 0.1125 - gaussian_reconstruction_loss: 22.4924 - r_squared: 0.3190 - r_squared_linreg: 0.5507 - val_loss: 20.5393 - val_custom_mae: 0.1639 - val_custom_mean_sd: 0.6699 - val_custom_mse: 0.0469 - val_custom_mse_scaled: 0.1045 - val_gaussian_reconstruction_loss: 20.5393 - val_r_squared: 0.3997 - val_r_squared_linreg: 0.5326 - lr: 0.0500 - 456ms/epoch - 456ms/step\n",
      "Epoch 9/10\n",
      "1/1 - 0s - loss: 20.4926 - custom_mae: 0.1619 - custom_mean_sd: 0.6699 - custom_mse: 0.0457 - custom_mse_scaled: 0.1019 - gaussian_reconstruction_loss: 20.4926 - r_squared: 0.4388 - r_squared_linreg: 0.5505 - val_loss: 18.7510 - val_custom_mae: 0.1584 - val_custom_mean_sd: 0.6370 - val_custom_mse: 0.0429 - val_custom_mse_scaled: 0.1057 - val_gaussian_reconstruction_loss: 18.7510 - val_r_squared: 0.4615 - val_r_squared_linreg: 0.5272 - lr: 0.0500 - 492ms/epoch - 492ms/step\n",
      "Epoch 10/10\n",
      "1/1 - 1s - loss: 18.8526 - custom_mae: 0.1635 - custom_mean_sd: 0.6370 - custom_mse: 0.0452 - custom_mse_scaled: 0.1114 - gaussian_reconstruction_loss: 18.8526 - r_squared: 0.4622 - r_squared_linreg: 0.5270 - val_loss: 17.0997 - val_custom_mae: 0.1591 - val_custom_mean_sd: 0.6058 - val_custom_mse: 0.0421 - val_custom_mse_scaled: 0.1146 - val_gaussian_reconstruction_loss: 17.0997 - val_r_squared: 0.4785 - val_r_squared_linreg: 0.5221 - lr: 0.0500 - 500ms/epoch - 500ms/step\n",
      "\n",
      "-------------------------------------------------------------------------------------------------\n",
      "\n",
      "                                       REP: 10\n",
      "\n",
      "-------------------------------------------------------------------------------------------------\n",
      "\n",
      "Loading data from raw files\n",
      "registering celldata\n"
     ]
    },
    {
     "name": "stderr",
     "output_type": "stream",
     "text": [
      "/home/ifichtner/mambaforge/envs/squidpyTF/lib/python3.8/site-packages/ncem/data.py:2389: FutureWarning: X.dtype being converted to np.float32 from float64. In the next version of anndata (0.9) conversion will not be automatic. Pass dtype explicitly to avoid this warning. Pass `AnnData(X, dtype=X.dtype, ...)` to get the future behavour.\n",
      "  celldata = AnnData(\n",
      "/home/ifichtner/mambaforge/envs/squidpyTF/lib/python3.8/site-packages/anndata/_core/anndata.py:121: ImplicitModificationWarning: Transforming to str index.\n",
      "  warnings.warn(\"Transforming to str index.\", ImplicitModificationWarning)\n"
     ]
    },
    {
     "name": "stdout",
     "output_type": "stream",
     "text": [
      "collecting image-wise celldata\n",
      "adding graph-level covariates\n"
     ]
    },
    {
     "name": "stderr",
     "output_type": "stream",
     "text": [
      "100%|██████████| 58/58 [00:01<00:00, 50.04it/s]\n"
     ]
    },
    {
     "name": "stdout",
     "output_type": "stream",
     "text": [
      "Loaded 58 images with complete data from 4 patients over 63747 cells with 36 cell features and 8 distinct celltypes.\n",
      "Mean of mean node degree per images across images: 4.416036\n",
      "Using split method: node. \n",
      " Train-test-validation split is based on total number of nodes per patients over all images.\n",
      "\n",
      "Excluded 0 cells with the following unannotated cell type: [None] \n",
      "\n",
      "Whole dataset: 63747 cells out of 58 images from 4 patients.\n",
      "Test dataset: 6376 cells out of 58 images from 4 patients.\n",
      "Training dataset: 51930 cells out of 58 images from 4 patients.\n",
      "Validation dataset: 5738 cells out of 58 images from 4 patients. \n",
      "\n",
      "Epoch 1/10\n",
      "1/1 - 2s - loss: 38.2604 - custom_mae: 0.4416 - custom_mean_sd: 1.0000 - custom_mse: 0.2877 - custom_mse_scaled: 0.2877 - gaussian_reconstruction_loss: 38.2604 - r_squared: -2.4778e+00 - r_squared_linreg: 0.0031 - val_loss: 33.9025 - val_custom_mae: 0.2848 - val_custom_mean_sd: 0.9512 - val_custom_mse: 0.1317 - val_custom_mse_scaled: 0.1456 - val_gaussian_reconstruction_loss: 33.9025 - val_r_squared: -6.6569e-01 - val_r_squared_linreg: 0.0840 - lr: 0.0500 - 2s/epoch - 2s/step\n",
      "Epoch 2/10\n",
      "1/1 - 0s - loss: 34.0567 - custom_mae: 0.2941 - custom_mean_sd: 0.9512 - custom_mse: 0.1395 - custom_mse_scaled: 0.1542 - gaussian_reconstruction_loss: 34.0567 - r_squared: -7.1693e-01 - r_squared_linreg: 0.0741 - val_loss: 31.2566 - val_custom_mae: 0.2229 - val_custom_mean_sd: 0.9049 - val_custom_mse: 0.0806 - val_custom_mse_scaled: 0.0984 - val_gaussian_reconstruction_loss: 31.2566 - val_r_squared: -3.0019e-02 - val_r_squared_linreg: 0.2545 - lr: 0.0500 - 474ms/epoch - 474ms/step\n",
      "Epoch 3/10\n",
      "1/1 - 0s - loss: 31.2965 - custom_mae: 0.2241 - custom_mean_sd: 0.9049 - custom_mse: 0.0824 - custom_mse_scaled: 0.1006 - gaussian_reconstruction_loss: 31.2965 - r_squared: -3.2811e-03 - r_squared_linreg: 0.2463 - val_loss: 29.5155 - val_custom_mae: 0.2146 - val_custom_mean_sd: 0.8608 - val_custom_mse: 0.0753 - val_custom_mse_scaled: 0.1016 - val_gaussian_reconstruction_loss: 29.5155 - val_r_squared: 0.0456 - val_r_squared_linreg: 0.4172 - lr: 0.0500 - 422ms/epoch - 422ms/step\n",
      "Epoch 4/10\n",
      "1/1 - 0s - loss: 29.5627 - custom_mae: 0.2167 - custom_mean_sd: 0.8608 - custom_mse: 0.0772 - custom_mse_scaled: 0.1042 - gaussian_reconstruction_loss: 29.5627 - r_squared: 0.0695 - r_squared_linreg: 0.4178 - val_loss: 28.0196 - val_custom_mae: 0.2186 - val_custom_mean_sd: 0.8188 - val_custom_mse: 0.0796 - val_custom_mse_scaled: 0.1187 - val_gaussian_reconstruction_loss: 28.0196 - val_r_squared: -5.3966e-03 - val_r_squared_linreg: 0.4942 - lr: 0.0500 - 465ms/epoch - 465ms/step\n",
      "Epoch 5/10\n",
      "1/1 - 0s - loss: 27.9318 - custom_mae: 0.2134 - custom_mean_sd: 0.8188 - custom_mse: 0.0763 - custom_mse_scaled: 0.1138 - gaussian_reconstruction_loss: 27.9318 - r_squared: 0.0732 - r_squared_linreg: 0.5068 - val_loss: 26.4115 - val_custom_mae: 0.2159 - val_custom_mean_sd: 0.7787 - val_custom_mse: 0.0787 - val_custom_mse_scaled: 0.1296 - val_gaussian_reconstruction_loss: 26.4115 - val_r_squared: 0.0047 - val_r_squared_linreg: 0.5299 - lr: 0.0500 - 443ms/epoch - 443ms/step\n",
      "Epoch 6/10\n",
      "1/1 - 0s - loss: 26.2233 - custom_mae: 0.2054 - custom_mean_sd: 0.7787 - custom_mse: 0.0723 - custom_mse_scaled: 0.1192 - gaussian_reconstruction_loss: 26.2233 - r_squared: 0.1230 - r_squared_linreg: 0.5570 - val_loss: 24.4840 - val_custom_mae: 0.1978 - val_custom_mean_sd: 0.7406 - val_custom_mse: 0.0675 - val_custom_mse_scaled: 0.1230 - val_gaussian_reconstruction_loss: 24.4840 - val_r_squared: 0.1335 - val_r_squared_linreg: 0.5461 - lr: 0.0500 - 458ms/epoch - 458ms/step\n",
      "Epoch 7/10\n",
      "1/1 - 1s - loss: 24.3890 - custom_mae: 0.1924 - custom_mean_sd: 0.7406 - custom_mse: 0.0646 - custom_mse_scaled: 0.1177 - gaussian_reconstruction_loss: 24.3890 - r_squared: 0.2093 - r_squared_linreg: 0.5680 - val_loss: 22.4429 - val_custom_mae: 0.1754 - val_custom_mean_sd: 0.7043 - val_custom_mse: 0.0546 - val_custom_mse_scaled: 0.1100 - val_gaussian_reconstruction_loss: 22.4429 - val_r_squared: 0.3094 - val_r_squared_linreg: 0.5512 - lr: 0.0500 - 507ms/epoch - 507ms/step\n",
      "Epoch 8/10\n",
      "1/1 - 0s - loss: 22.4586 - custom_mae: 0.1762 - custom_mean_sd: 0.7043 - custom_mse: 0.0550 - custom_mse_scaled: 0.1109 - gaussian_reconstruction_loss: 22.4586 - r_squared: 0.3255 - r_squared_linreg: 0.5621 - val_loss: 20.4576 - val_custom_mae: 0.1594 - val_custom_mean_sd: 0.6698 - val_custom_mse: 0.0450 - val_custom_mse_scaled: 0.1002 - val_gaussian_reconstruction_loss: 20.4576 - val_r_squared: 0.4346 - val_r_squared_linreg: 0.5490 - lr: 0.0500 - 426ms/epoch - 426ms/step\n",
      "Epoch 9/10\n",
      "1/1 - 0s - loss: 20.4980 - custom_mae: 0.1612 - custom_mean_sd: 0.6698 - custom_mse: 0.0460 - custom_mse_scaled: 0.1025 - gaussian_reconstruction_loss: 20.4980 - r_squared: 0.4430 - r_squared_linreg: 0.5535 - val_loss: 18.7183 - val_custom_mae: 0.1560 - val_custom_mean_sd: 0.6369 - val_custom_mse: 0.0423 - val_custom_mse_scaled: 0.1042 - val_gaussian_reconstruction_loss: 18.7183 - val_r_squared: 0.4701 - val_r_squared_linreg: 0.5301 - lr: 0.0500 - 467ms/epoch - 467ms/step\n",
      "Epoch 10/10\n",
      "1/1 - 0s - loss: 18.6984 - custom_mae: 0.1555 - custom_mean_sd: 0.6369 - custom_mse: 0.0418 - custom_mse_scaled: 0.1031 - gaussian_reconstruction_loss: 18.6984 - r_squared: 0.4915 - r_squared_linreg: 0.5452 - val_loss: 17.1175 - val_custom_mae: 0.1589 - val_custom_mean_sd: 0.6056 - val_custom_mse: 0.0426 - val_custom_mse_scaled: 0.1160 - val_gaussian_reconstruction_loss: 17.1175 - val_r_squared: 0.4576 - val_r_squared_linreg: 0.5056 - lr: 0.0500 - 437ms/epoch - 437ms/step\n",
      "\n",
      "-------------------------------------------------------------------------------------------------\n",
      "\n",
      "                                       REP: 11\n",
      "\n",
      "-------------------------------------------------------------------------------------------------\n",
      "\n",
      "Loading data from raw files\n",
      "registering celldata\n"
     ]
    },
    {
     "name": "stderr",
     "output_type": "stream",
     "text": [
      "/home/ifichtner/mambaforge/envs/squidpyTF/lib/python3.8/site-packages/ncem/data.py:2389: FutureWarning: X.dtype being converted to np.float32 from float64. In the next version of anndata (0.9) conversion will not be automatic. Pass dtype explicitly to avoid this warning. Pass `AnnData(X, dtype=X.dtype, ...)` to get the future behavour.\n",
      "  celldata = AnnData(\n",
      "/home/ifichtner/mambaforge/envs/squidpyTF/lib/python3.8/site-packages/anndata/_core/anndata.py:121: ImplicitModificationWarning: Transforming to str index.\n",
      "  warnings.warn(\"Transforming to str index.\", ImplicitModificationWarning)\n"
     ]
    },
    {
     "name": "stdout",
     "output_type": "stream",
     "text": [
      "collecting image-wise celldata\n",
      "adding graph-level covariates\n"
     ]
    },
    {
     "name": "stderr",
     "output_type": "stream",
     "text": [
      "100%|██████████| 58/58 [00:01<00:00, 49.59it/s]\n"
     ]
    },
    {
     "name": "stdout",
     "output_type": "stream",
     "text": [
      "Loaded 58 images with complete data from 4 patients over 63747 cells with 36 cell features and 8 distinct celltypes.\n",
      "Mean of mean node degree per images across images: 4.416036\n",
      "Using split method: node. \n",
      " Train-test-validation split is based on total number of nodes per patients over all images.\n",
      "\n",
      "Excluded 0 cells with the following unannotated cell type: [None] \n",
      "\n",
      "Whole dataset: 63747 cells out of 58 images from 4 patients.\n",
      "Test dataset: 6376 cells out of 58 images from 4 patients.\n",
      "Training dataset: 51930 cells out of 58 images from 4 patients.\n",
      "Validation dataset: 5738 cells out of 58 images from 4 patients. \n",
      "\n",
      "Epoch 1/10\n",
      "1/1 - 2s - loss: 38.6027 - custom_mae: 0.4512 - custom_mean_sd: 1.0000 - custom_mse: 0.3067 - custom_mse_scaled: 0.3067 - gaussian_reconstruction_loss: 38.6027 - r_squared: -2.7076e+00 - r_squared_linreg: 9.5962e-04 - val_loss: 34.2068 - val_custom_mae: 0.3025 - val_custom_mean_sd: 0.9512 - val_custom_mse: 0.1470 - val_custom_mse_scaled: 0.1625 - val_gaussian_reconstruction_loss: 34.2068 - val_r_squared: -8.2936e-01 - val_r_squared_linreg: 0.0359 - lr: 0.0500 - 2s/epoch - 2s/step\n",
      "Epoch 2/10\n",
      "1/1 - 0s - loss: 34.2955 - custom_mae: 0.3065 - custom_mean_sd: 0.9512 - custom_mse: 0.1515 - custom_mse_scaled: 0.1674 - gaussian_reconstruction_loss: 34.2955 - r_squared: -8.6464e-01 - r_squared_linreg: 0.0343 - val_loss: 31.3127 - val_custom_mae: 0.2258 - val_custom_mean_sd: 0.9050 - val_custom_mse: 0.0830 - val_custom_mse_scaled: 0.1013 - val_gaussian_reconstruction_loss: 31.3127 - val_r_squared: -3.4765e-02 - val_r_squared_linreg: 0.2305 - lr: 0.0500 - 455ms/epoch - 455ms/step\n",
      "Epoch 3/10\n",
      "1/1 - 0s - loss: 31.3527 - custom_mae: 0.2290 - custom_mean_sd: 0.9050 - custom_mse: 0.0848 - custom_mse_scaled: 0.1035 - gaussian_reconstruction_loss: 31.3527 - r_squared: -3.2632e-02 - r_squared_linreg: 0.2277 - val_loss: 29.5900 - val_custom_mae: 0.2177 - val_custom_mean_sd: 0.8610 - val_custom_mse: 0.0781 - val_custom_mse_scaled: 0.1053 - val_gaussian_reconstruction_loss: 29.5900 - val_r_squared: 0.0173 - val_r_squared_linreg: 0.3819 - lr: 0.0500 - 459ms/epoch - 459ms/step\n",
      "Epoch 4/10\n",
      "1/1 - 0s - loss: 29.4498 - custom_mae: 0.2091 - custom_mean_sd: 0.8610 - custom_mse: 0.0723 - custom_mse_scaled: 0.0975 - gaussian_reconstruction_loss: 29.4498 - r_squared: 0.1212 - r_squared_linreg: 0.4170 - val_loss: 28.0843 - val_custom_mae: 0.2194 - val_custom_mean_sd: 0.8190 - val_custom_mse: 0.0817 - val_custom_mse_scaled: 0.1217 - val_gaussian_reconstruction_loss: 28.0843 - val_r_squared: -2.1649e-02 - val_r_squared_linreg: 0.4975 - lr: 0.0500 - 444ms/epoch - 444ms/step\n",
      "Epoch 5/10\n",
      "1/1 - 0s - loss: 28.0379 - custom_mae: 0.2173 - custom_mean_sd: 0.8190 - custom_mse: 0.0800 - custom_mse_scaled: 0.1192 - gaussian_reconstruction_loss: 28.0379 - r_squared: 0.0106 - r_squared_linreg: 0.4904 - val_loss: 26.5244 - val_custom_mae: 0.2178 - val_custom_mean_sd: 0.7789 - val_custom_mse: 0.0822 - val_custom_mse_scaled: 0.1353 - val_gaussian_reconstruction_loss: 26.5244 - val_r_squared: -4.8830e-02 - val_r_squared_linreg: 0.5541 - lr: 0.0500 - 439ms/epoch - 439ms/step\n",
      "Epoch 6/10\n",
      "1/1 - 0s - loss: 26.4246 - custom_mae: 0.2132 - custom_mean_sd: 0.7789 - custom_mse: 0.0788 - custom_mse_scaled: 0.1298 - gaussian_reconstruction_loss: 26.4246 - r_squared: 0.0419 - r_squared_linreg: 0.5491 - val_loss: 24.5858 - val_custom_mae: 0.1989 - val_custom_mean_sd: 0.7408 - val_custom_mse: 0.0703 - val_custom_mse_scaled: 0.1279 - val_gaussian_reconstruction_loss: 24.5858 - val_r_squared: 0.1052 - val_r_squared_linreg: 0.5571 - lr: 0.0500 - 440ms/epoch - 440ms/step\n",
      "Epoch 7/10\n",
      "1/1 - 0s - loss: 24.4671 - custom_mae: 0.1942 - custom_mean_sd: 0.7408 - custom_mse: 0.0667 - custom_mse_scaled: 0.1213 - gaussian_reconstruction_loss: 24.4671 - r_squared: 0.1861 - r_squared_linreg: 0.5577 - val_loss: 22.7068 - val_custom_mae: 0.1851 - val_custom_mean_sd: 0.7046 - val_custom_mse: 0.0616 - val_custom_mse_scaled: 0.1239 - val_gaussian_reconstruction_loss: 22.7068 - val_r_squared: 0.2357 - val_r_squared_linreg: 0.5416 - lr: 0.0500 - 420ms/epoch - 420ms/step\n",
      "Epoch 8/10\n",
      "1/1 - 0s - loss: 22.5330 - custom_mae: 0.1788 - custom_mean_sd: 0.7046 - custom_mse: 0.0568 - custom_mse_scaled: 0.1143 - gaussian_reconstruction_loss: 22.5330 - r_squared: 0.3074 - r_squared_linreg: 0.5582 - val_loss: 20.6475 - val_custom_mae: 0.1684 - val_custom_mean_sd: 0.6700 - val_custom_mse: 0.0494 - val_custom_mse_scaled: 0.1100 - val_gaussian_reconstruction_loss: 20.6475 - val_r_squared: 0.3789 - val_r_squared_linreg: 0.5281 - lr: 0.0500 - 436ms/epoch - 436ms/step\n",
      "Epoch 9/10\n",
      "1/1 - 0s - loss: 20.5835 - custom_mae: 0.1655 - custom_mean_sd: 0.6700 - custom_mse: 0.0478 - custom_mse_scaled: 0.1065 - gaussian_reconstruction_loss: 20.5835 - r_squared: 0.4127 - r_squared_linreg: 0.5468 - val_loss: 18.8139 - val_custom_mae: 0.1607 - val_custom_mean_sd: 0.6372 - val_custom_mse: 0.0442 - val_custom_mse_scaled: 0.1088 - val_gaussian_reconstruction_loss: 18.8139 - val_r_squared: 0.4463 - val_r_squared_linreg: 0.5206 - lr: 0.0500 - 414ms/epoch - 414ms/step\n",
      "Epoch 10/10\n",
      "1/1 - 0s - loss: 18.8146 - custom_mae: 0.1603 - custom_mean_sd: 0.6372 - custom_mse: 0.0442 - custom_mse_scaled: 0.1088 - gaussian_reconstruction_loss: 18.8146 - r_squared: 0.4668 - r_squared_linreg: 0.5336 - val_loss: 17.0529 - val_custom_mae: 0.1556 - val_custom_mean_sd: 0.6059 - val_custom_mse: 0.0410 - val_custom_mse_scaled: 0.1116 - val_gaussian_reconstruction_loss: 17.0529 - val_r_squared: 0.4798 - val_r_squared_linreg: 0.5274 - lr: 0.0500 - 426ms/epoch - 426ms/step\n",
      "\n",
      "-------------------------------------------------------------------------------------------------\n",
      "\n",
      "                                       REP: 12\n",
      "\n",
      "-------------------------------------------------------------------------------------------------\n",
      "\n",
      "Loading data from raw files\n",
      "registering celldata\n"
     ]
    },
    {
     "name": "stderr",
     "output_type": "stream",
     "text": [
      "/home/ifichtner/mambaforge/envs/squidpyTF/lib/python3.8/site-packages/ncem/data.py:2389: FutureWarning: X.dtype being converted to np.float32 from float64. In the next version of anndata (0.9) conversion will not be automatic. Pass dtype explicitly to avoid this warning. Pass `AnnData(X, dtype=X.dtype, ...)` to get the future behavour.\n",
      "  celldata = AnnData(\n",
      "/home/ifichtner/mambaforge/envs/squidpyTF/lib/python3.8/site-packages/anndata/_core/anndata.py:121: ImplicitModificationWarning: Transforming to str index.\n",
      "  warnings.warn(\"Transforming to str index.\", ImplicitModificationWarning)\n"
     ]
    },
    {
     "name": "stdout",
     "output_type": "stream",
     "text": [
      "collecting image-wise celldata\n",
      "adding graph-level covariates\n"
     ]
    },
    {
     "name": "stderr",
     "output_type": "stream",
     "text": [
      "100%|██████████| 58/58 [00:01<00:00, 49.02it/s]\n"
     ]
    },
    {
     "name": "stdout",
     "output_type": "stream",
     "text": [
      "Loaded 58 images with complete data from 4 patients over 63747 cells with 36 cell features and 8 distinct celltypes.\n",
      "Mean of mean node degree per images across images: 4.416036\n",
      "Using split method: node. \n",
      " Train-test-validation split is based on total number of nodes per patients over all images.\n",
      "\n",
      "Excluded 0 cells with the following unannotated cell type: [None] \n",
      "\n",
      "Whole dataset: 63747 cells out of 58 images from 4 patients.\n",
      "Test dataset: 6376 cells out of 58 images from 4 patients.\n",
      "Training dataset: 51930 cells out of 58 images from 4 patients.\n",
      "Validation dataset: 5738 cells out of 58 images from 4 patients. \n",
      "\n",
      "Epoch 1/10\n",
      "1/1 - 2s - loss: 38.5681 - custom_mae: 0.4517 - custom_mean_sd: 1.0000 - custom_mse: 0.3048 - custom_mse_scaled: 0.3048 - gaussian_reconstruction_loss: 38.5681 - r_squared: -2.6844e+00 - r_squared_linreg: 0.0038 - val_loss: 34.0975 - val_custom_mae: 0.2965 - val_custom_mean_sd: 0.9512 - val_custom_mse: 0.1415 - val_custom_mse_scaled: 0.1564 - val_gaussian_reconstruction_loss: 34.0975 - val_r_squared: -7.8380e-01 - val_r_squared_linreg: 0.0459 - lr: 0.0500 - 2s/epoch - 2s/step\n",
      "Epoch 2/10\n",
      "1/1 - 0s - loss: 34.2200 - custom_mae: 0.3043 - custom_mean_sd: 0.9512 - custom_mse: 0.1477 - custom_mse_scaled: 0.1632 - gaussian_reconstruction_loss: 34.2200 - r_squared: -8.1793e-01 - r_squared_linreg: 0.0449 - val_loss: 31.3198 - val_custom_mae: 0.2262 - val_custom_mean_sd: 0.9050 - val_custom_mse: 0.0833 - val_custom_mse_scaled: 0.1017 - val_gaussian_reconstruction_loss: 31.3198 - val_r_squared: -3.8814e-02 - val_r_squared_linreg: 0.2496 - lr: 0.0500 - 456ms/epoch - 456ms/step\n",
      "Epoch 3/10\n",
      "1/1 - 0s - loss: 31.3553 - custom_mae: 0.2282 - custom_mean_sd: 0.9050 - custom_mse: 0.0850 - custom_mse_scaled: 0.1037 - gaussian_reconstruction_loss: 31.3553 - r_squared: -3.4626e-02 - r_squared_linreg: 0.2430 - val_loss: 29.5767 - val_custom_mae: 0.2166 - val_custom_mean_sd: 0.8609 - val_custom_mse: 0.0776 - val_custom_mse_scaled: 0.1047 - val_gaussian_reconstruction_loss: 29.5767 - val_r_squared: 0.0098 - val_r_squared_linreg: 0.4161 - lr: 0.0500 - 442ms/epoch - 442ms/step\n",
      "Epoch 4/10\n",
      "1/1 - 0s - loss: 29.5783 - custom_mae: 0.2159 - custom_mean_sd: 0.8609 - custom_mse: 0.0777 - custom_mse_scaled: 0.1048 - gaussian_reconstruction_loss: 29.5783 - r_squared: 0.0618 - r_squared_linreg: 0.4085 - val_loss: 28.1830 - val_custom_mae: 0.2248 - val_custom_mean_sd: 0.8189 - val_custom_mse: 0.0855 - val_custom_mse_scaled: 0.1274 - val_gaussian_reconstruction_loss: 28.1830 - val_r_squared: -8.0758e-02 - val_r_squared_linreg: 0.5025 - lr: 0.0500 - 447ms/epoch - 447ms/step\n",
      "Epoch 5/10\n",
      "1/1 - 0s - loss: 27.9777 - custom_mae: 0.2138 - custom_mean_sd: 0.8189 - custom_mse: 0.0778 - custom_mse_scaled: 0.1160 - gaussian_reconstruction_loss: 27.9777 - r_squared: 0.0578 - r_squared_linreg: 0.5221 - val_loss: 26.4329 - val_custom_mae: 0.2154 - val_custom_mean_sd: 0.7789 - val_custom_mse: 0.0792 - val_custom_mse_scaled: 0.1305 - val_gaussian_reconstruction_loss: 26.4329 - val_r_squared: 0.0121 - val_r_squared_linreg: 0.5384 - lr: 0.0500 - 423ms/epoch - 423ms/step\n",
      "Epoch 6/10\n",
      "1/1 - 0s - loss: 26.4498 - custom_mae: 0.2151 - custom_mean_sd: 0.7789 - custom_mse: 0.0798 - custom_mse_scaled: 0.1314 - gaussian_reconstruction_loss: 26.4498 - r_squared: 0.0350 - r_squared_linreg: 0.5433 - val_loss: 24.5485 - val_custom_mae: 0.1994 - val_custom_mean_sd: 0.7408 - val_custom_mse: 0.0693 - val_custom_mse_scaled: 0.1261 - val_gaussian_reconstruction_loss: 24.5485 - val_r_squared: 0.1200 - val_r_squared_linreg: 0.5537 - lr: 0.0500 - 441ms/epoch - 441ms/step\n",
      "Epoch 7/10\n",
      "1/1 - 0s - loss: 24.5977 - custom_mae: 0.2013 - custom_mean_sd: 0.7408 - custom_mse: 0.0708 - custom_mse_scaled: 0.1288 - gaussian_reconstruction_loss: 24.5977 - r_squared: 0.1481 - r_squared_linreg: 0.5497 - val_loss: 22.6033 - val_custom_mae: 0.1819 - val_custom_mean_sd: 0.7045 - val_custom_mse: 0.0588 - val_custom_mse_scaled: 0.1184 - val_gaussian_reconstruction_loss: 22.6033 - val_r_squared: 0.2530 - val_r_squared_linreg: 0.5328 - lr: 0.0500 - 398ms/epoch - 398ms/step\n",
      "Epoch 8/10\n",
      "1/1 - 0s - loss: 22.5334 - custom_mae: 0.1793 - custom_mean_sd: 0.7045 - custom_mse: 0.0569 - custom_mse_scaled: 0.1145 - gaussian_reconstruction_loss: 22.5334 - r_squared: 0.3015 - r_squared_linreg: 0.5491 - val_loss: 20.5466 - val_custom_mae: 0.1638 - val_custom_mean_sd: 0.6700 - val_custom_mse: 0.0470 - val_custom_mse_scaled: 0.1046 - val_gaussian_reconstruction_loss: 20.5466 - val_r_squared: 0.4018 - val_r_squared_linreg: 0.5294 - lr: 0.0500 - 407ms/epoch - 407ms/step\n",
      "Epoch 9/10\n",
      "1/1 - 0s - loss: 20.5794 - custom_mae: 0.1659 - custom_mean_sd: 0.6700 - custom_mse: 0.0478 - custom_mse_scaled: 0.1065 - gaussian_reconstruction_loss: 20.5794 - r_squared: 0.4176 - r_squared_linreg: 0.5310 - val_loss: 18.7227 - val_custom_mae: 0.1573 - val_custom_mean_sd: 0.6371 - val_custom_mse: 0.0422 - val_custom_mse_scaled: 0.1039 - val_gaussian_reconstruction_loss: 18.7227 - val_r_squared: 0.4635 - val_r_squared_linreg: 0.5214 - lr: 0.0500 - 444ms/epoch - 444ms/step\n",
      "Epoch 10/10\n",
      "1/1 - 0s - loss: 18.7948 - custom_mae: 0.1600 - custom_mean_sd: 0.6371 - custom_mse: 0.0438 - custom_mse_scaled: 0.1079 - gaussian_reconstruction_loss: 18.7948 - r_squared: 0.4671 - r_squared_linreg: 0.5254 - val_loss: 16.9539 - val_custom_mae: 0.1508 - val_custom_mean_sd: 0.6058 - val_custom_mse: 0.0390 - val_custom_mse_scaled: 0.1064 - val_gaussian_reconstruction_loss: 16.9539 - val_r_squared: 0.5057 - val_r_squared_linreg: 0.5442 - lr: 0.0500 - 402ms/epoch - 402ms/step\n",
      "\n",
      "-------------------------------------------------------------------------------------------------\n",
      "\n",
      "                                       REP: 13\n",
      "\n",
      "-------------------------------------------------------------------------------------------------\n",
      "\n",
      "Loading data from raw files\n",
      "registering celldata\n"
     ]
    },
    {
     "name": "stderr",
     "output_type": "stream",
     "text": [
      "/home/ifichtner/mambaforge/envs/squidpyTF/lib/python3.8/site-packages/ncem/data.py:2389: FutureWarning: X.dtype being converted to np.float32 from float64. In the next version of anndata (0.9) conversion will not be automatic. Pass dtype explicitly to avoid this warning. Pass `AnnData(X, dtype=X.dtype, ...)` to get the future behavour.\n",
      "  celldata = AnnData(\n",
      "/home/ifichtner/mambaforge/envs/squidpyTF/lib/python3.8/site-packages/anndata/_core/anndata.py:121: ImplicitModificationWarning: Transforming to str index.\n",
      "  warnings.warn(\"Transforming to str index.\", ImplicitModificationWarning)\n"
     ]
    },
    {
     "name": "stdout",
     "output_type": "stream",
     "text": [
      "collecting image-wise celldata\n",
      "adding graph-level covariates\n"
     ]
    },
    {
     "name": "stderr",
     "output_type": "stream",
     "text": [
      "100%|██████████| 58/58 [00:01<00:00, 44.26it/s]\n"
     ]
    },
    {
     "name": "stdout",
     "output_type": "stream",
     "text": [
      "Loaded 58 images with complete data from 4 patients over 63747 cells with 36 cell features and 8 distinct celltypes.\n",
      "Mean of mean node degree per images across images: 4.416036\n",
      "Using split method: node. \n",
      " Train-test-validation split is based on total number of nodes per patients over all images.\n",
      "\n",
      "Excluded 0 cells with the following unannotated cell type: [None] \n",
      "\n",
      "Whole dataset: 63747 cells out of 58 images from 4 patients.\n",
      "Test dataset: 6376 cells out of 58 images from 4 patients.\n",
      "Training dataset: 51930 cells out of 58 images from 4 patients.\n",
      "Validation dataset: 5738 cells out of 58 images from 4 patients. \n",
      "\n",
      "Epoch 1/10\n",
      "1/1 - 2s - loss: 38.2898 - custom_mae: 0.4435 - custom_mean_sd: 1.0000 - custom_mse: 0.2893 - custom_mse_scaled: 0.2893 - gaussian_reconstruction_loss: 38.2898 - r_squared: -2.4975e+00 - r_squared_linreg: 7.4812e-04 - val_loss: 33.8749 - val_custom_mae: 0.2872 - val_custom_mean_sd: 0.9512 - val_custom_mse: 0.1304 - val_custom_mse_scaled: 0.1441 - val_gaussian_reconstruction_loss: 33.8749 - val_r_squared: -6.4648e-01 - val_r_squared_linreg: 0.0632 - lr: 0.0500 - 2s/epoch - 2s/step\n",
      "Epoch 2/10\n",
      "1/1 - 0s - loss: 33.9574 - custom_mae: 0.2918 - custom_mean_sd: 0.9512 - custom_mse: 0.1345 - custom_mse_scaled: 0.1486 - gaussian_reconstruction_loss: 33.9574 - r_squared: -6.5549e-01 - r_squared_linreg: 0.0666 - val_loss: 31.1850 - val_custom_mae: 0.2181 - val_custom_mean_sd: 0.9050 - val_custom_mse: 0.0772 - val_custom_mse_scaled: 0.0942 - val_gaussian_reconstruction_loss: 31.1850 - val_r_squared: 0.0326 - val_r_squared_linreg: 0.2645 - lr: 0.0500 - 476ms/epoch - 476ms/step\n",
      "Epoch 3/10\n",
      "1/1 - 0s - loss: 31.2066 - custom_mae: 0.2205 - custom_mean_sd: 0.9050 - custom_mse: 0.0782 - custom_mse_scaled: 0.0954 - gaussian_reconstruction_loss: 31.2066 - r_squared: 0.0476 - r_squared_linreg: 0.2579 - val_loss: 29.5527 - val_custom_mae: 0.2158 - val_custom_mean_sd: 0.8609 - val_custom_mse: 0.0767 - val_custom_mse_scaled: 0.1034 - val_gaussian_reconstruction_loss: 29.5527 - val_r_squared: 0.0246 - val_r_squared_linreg: 0.4391 - lr: 0.0500 - 435ms/epoch - 435ms/step\n",
      "Epoch 4/10\n",
      "1/1 - 0s - loss: 29.5176 - custom_mae: 0.2127 - custom_mean_sd: 0.8609 - custom_mse: 0.0752 - custom_mse_scaled: 0.1015 - gaussian_reconstruction_loss: 29.5176 - r_squared: 0.0812 - r_squared_linreg: 0.4317 - val_loss: 28.0696 - val_custom_mae: 0.2194 - val_custom_mean_sd: 0.8189 - val_custom_mse: 0.0812 - val_custom_mse_scaled: 0.1211 - val_gaussian_reconstruction_loss: 28.0696 - val_r_squared: -1.7442e-02 - val_r_squared_linreg: 0.5239 - lr: 0.0500 - 445ms/epoch - 445ms/step\n",
      "Epoch 5/10\n",
      "1/1 - 0s - loss: 28.0969 - custom_mae: 0.2201 - custom_mean_sd: 0.8189 - custom_mse: 0.0823 - custom_mse_scaled: 0.1226 - gaussian_reconstruction_loss: 28.0969 - r_squared: 4.2683e-04 - r_squared_linreg: 0.5213 - val_loss: 26.6030 - val_custom_mae: 0.2215 - val_custom_mean_sd: 0.7789 - val_custom_mse: 0.0849 - val_custom_mse_scaled: 0.1398 - val_gaussian_reconstruction_loss: 26.6030 - val_r_squared: -6.1843e-02 - val_r_squared_linreg: 0.5349 - lr: 0.0500 - 432ms/epoch - 432ms/step\n",
      "Epoch 6/10\n",
      "1/1 - 0s - loss: 26.3702 - custom_mae: 0.2116 - custom_mean_sd: 0.7789 - custom_mse: 0.0770 - custom_mse_scaled: 0.1269 - gaussian_reconstruction_loss: 26.3702 - r_squared: 0.0817 - r_squared_linreg: 0.5598 - val_loss: 24.5538 - val_custom_mae: 0.1982 - val_custom_mean_sd: 0.7408 - val_custom_mse: 0.0694 - val_custom_mse_scaled: 0.1263 - val_gaussian_reconstruction_loss: 24.5538 - val_r_squared: 0.1125 - val_r_squared_linreg: 0.5562 - lr: 0.0500 - 402ms/epoch - 402ms/step\n",
      "Epoch 7/10\n",
      "1/1 - 0s - loss: 24.4071 - custom_mae: 0.1915 - custom_mean_sd: 0.7408 - custom_mse: 0.0649 - custom_mse_scaled: 0.1181 - gaussian_reconstruction_loss: 24.4071 - r_squared: 0.2085 - r_squared_linreg: 0.5574 - val_loss: 22.4765 - val_custom_mae: 0.1783 - val_custom_mean_sd: 0.7046 - val_custom_mse: 0.0553 - val_custom_mse_scaled: 0.1112 - val_gaussian_reconstruction_loss: 22.4765 - val_r_squared: 0.2979 - val_r_squared_linreg: 0.5376 - lr: 0.0500 - 442ms/epoch - 442ms/step\n",
      "Epoch 8/10\n",
      "1/1 - 0s - loss: 22.4780 - custom_mae: 0.1788 - custom_mean_sd: 0.7046 - custom_mse: 0.0553 - custom_mse_scaled: 0.1113 - gaussian_reconstruction_loss: 22.4780 - r_squared: 0.3274 - r_squared_linreg: 0.5370 - val_loss: 20.4852 - val_custom_mae: 0.1619 - val_custom_mean_sd: 0.6701 - val_custom_mse: 0.0454 - val_custom_mse_scaled: 0.1010 - val_gaussian_reconstruction_loss: 20.4852 - val_r_squared: 0.4267 - val_r_squared_linreg: 0.5388 - lr: 0.0500 - 413ms/epoch - 413ms/step\n",
      "Epoch 9/10\n",
      "1/1 - 0s - loss: 20.5425 - custom_mae: 0.1638 - custom_mean_sd: 0.6701 - custom_mse: 0.0468 - custom_mse_scaled: 0.1042 - gaussian_reconstruction_loss: 20.5425 - r_squared: 0.4292 - r_squared_linreg: 0.5380 - val_loss: 18.6886 - val_custom_mae: 0.1552 - val_custom_mean_sd: 0.6372 - val_custom_mse: 0.0413 - val_custom_mse_scaled: 0.1017 - val_gaussian_reconstruction_loss: 18.6886 - val_r_squared: 0.4798 - val_r_squared_linreg: 0.5430 - lr: 0.0500 - 399ms/epoch - 399ms/step\n",
      "Epoch 10/10\n",
      "1/1 - 0s - loss: 18.7008 - custom_mae: 0.1556 - custom_mean_sd: 0.6372 - custom_mse: 0.0416 - custom_mse_scaled: 0.1024 - gaussian_reconstruction_loss: 18.7008 - r_squared: 0.4861 - r_squared_linreg: 0.5481 - val_loss: 16.9001 - val_custom_mae: 0.1490 - val_custom_mean_sd: 0.6059 - val_custom_mse: 0.0378 - val_custom_mse_scaled: 0.1030 - val_gaussian_reconstruction_loss: 16.9001 - val_r_squared: 0.5208 - val_r_squared_linreg: 0.5589 - lr: 0.0500 - 436ms/epoch - 436ms/step\n",
      "\n",
      "-------------------------------------------------------------------------------------------------\n",
      "\n",
      "                                       REP: 14\n",
      "\n",
      "-------------------------------------------------------------------------------------------------\n",
      "\n",
      "Loading data from raw files\n",
      "registering celldata\n"
     ]
    },
    {
     "name": "stderr",
     "output_type": "stream",
     "text": [
      "/home/ifichtner/mambaforge/envs/squidpyTF/lib/python3.8/site-packages/ncem/data.py:2389: FutureWarning: X.dtype being converted to np.float32 from float64. In the next version of anndata (0.9) conversion will not be automatic. Pass dtype explicitly to avoid this warning. Pass `AnnData(X, dtype=X.dtype, ...)` to get the future behavour.\n",
      "  celldata = AnnData(\n",
      "/home/ifichtner/mambaforge/envs/squidpyTF/lib/python3.8/site-packages/anndata/_core/anndata.py:121: ImplicitModificationWarning: Transforming to str index.\n",
      "  warnings.warn(\"Transforming to str index.\", ImplicitModificationWarning)\n"
     ]
    },
    {
     "name": "stdout",
     "output_type": "stream",
     "text": [
      "collecting image-wise celldata\n",
      "adding graph-level covariates\n"
     ]
    },
    {
     "name": "stderr",
     "output_type": "stream",
     "text": [
      "100%|██████████| 58/58 [00:01<00:00, 47.99it/s]\n"
     ]
    },
    {
     "name": "stdout",
     "output_type": "stream",
     "text": [
      "Loaded 58 images with complete data from 4 patients over 63747 cells with 36 cell features and 8 distinct celltypes.\n",
      "Mean of mean node degree per images across images: 4.416036\n",
      "Using split method: node. \n",
      " Train-test-validation split is based on total number of nodes per patients over all images.\n",
      "\n",
      "Excluded 0 cells with the following unannotated cell type: [None] \n",
      "\n",
      "Whole dataset: 63747 cells out of 58 images from 4 patients.\n",
      "Test dataset: 6376 cells out of 58 images from 4 patients.\n",
      "Training dataset: 51930 cells out of 58 images from 4 patients.\n",
      "Validation dataset: 5738 cells out of 58 images from 4 patients. \n",
      "\n",
      "Epoch 1/10\n",
      "1/1 - 2s - loss: 38.7463 - custom_mae: 0.4563 - custom_mean_sd: 1.0000 - custom_mse: 0.3147 - custom_mse_scaled: 0.3147 - gaussian_reconstruction_loss: 38.7463 - r_squared: -2.8041e+00 - r_squared_linreg: 0.0124 - val_loss: 34.1314 - val_custom_mae: 0.2959 - val_custom_mean_sd: 0.9512 - val_custom_mse: 0.1432 - val_custom_mse_scaled: 0.1583 - val_gaussian_reconstruction_loss: 34.1314 - val_r_squared: -8.1128e-01 - val_r_squared_linreg: 0.0477 - lr: 0.0500 - 2s/epoch - 2s/step\n",
      "Epoch 2/10\n",
      "1/1 - 0s - loss: 34.3310 - custom_mae: 0.3055 - custom_mean_sd: 0.9512 - custom_mse: 0.1533 - custom_mse_scaled: 0.1694 - gaussian_reconstruction_loss: 34.3310 - r_squared: -8.8660e-01 - r_squared_linreg: 0.0383 - val_loss: 31.3953 - val_custom_mae: 0.2315 - val_custom_mean_sd: 0.9051 - val_custom_mse: 0.0866 - val_custom_mse_scaled: 0.1057 - val_gaussian_reconstruction_loss: 31.3953 - val_r_squared: -9.8372e-02 - val_r_squared_linreg: 0.2303 - lr: 0.0500 - 451ms/epoch - 451ms/step\n",
      "Epoch 3/10\n",
      "1/1 - 1s - loss: 31.4735 - custom_mae: 0.2350 - custom_mean_sd: 0.9051 - custom_mse: 0.0902 - custom_mse_scaled: 0.1101 - gaussian_reconstruction_loss: 31.4735 - r_squared: -9.8541e-02 - r_squared_linreg: 0.2203 - val_loss: 29.7003 - val_custom_mae: 0.2245 - val_custom_mean_sd: 0.8611 - val_custom_mse: 0.0825 - val_custom_mse_scaled: 0.1112 - val_gaussian_reconstruction_loss: 29.7003 - val_r_squared: -3.8102e-02 - val_r_squared_linreg: 0.3813 - lr: 0.0500 - 525ms/epoch - 525ms/step\n",
      "Epoch 4/10\n",
      "1/1 - 0s - loss: 29.5540 - custom_mae: 0.2165 - custom_mean_sd: 0.8611 - custom_mse: 0.0765 - custom_mse_scaled: 0.1031 - gaussian_reconstruction_loss: 29.5540 - r_squared: 0.0688 - r_squared_linreg: 0.3970 - val_loss: 28.1202 - val_custom_mae: 0.2219 - val_custom_mean_sd: 0.8191 - val_custom_mse: 0.0829 - val_custom_mse_scaled: 0.1234 - val_gaussian_reconstruction_loss: 28.1202 - val_r_squared: -3.9660e-02 - val_r_squared_linreg: 0.5130 - lr: 0.0500 - 447ms/epoch - 447ms/step\n",
      "Epoch 5/10\n",
      "1/1 - 0s - loss: 28.1327 - custom_mae: 0.2221 - custom_mean_sd: 0.8191 - custom_mse: 0.0833 - custom_mse_scaled: 0.1241 - gaussian_reconstruction_loss: 28.1327 - r_squared: -1.5474e-02 - r_squared_linreg: 0.5045 - val_loss: 26.4454 - val_custom_mae: 0.2153 - val_custom_mean_sd: 0.7791 - val_custom_mse: 0.0793 - val_custom_mse_scaled: 0.1306 - val_gaussian_reconstruction_loss: 26.4454 - val_r_squared: -3.0891e-03 - val_r_squared_linreg: 0.5506 - lr: 0.0500 - 443ms/epoch - 443ms/step\n",
      "Epoch 6/10\n",
      "1/1 - 0s - loss: 26.3719 - custom_mae: 0.2107 - custom_mean_sd: 0.7791 - custom_mse: 0.0769 - custom_mse_scaled: 0.1265 - gaussian_reconstruction_loss: 26.3719 - r_squared: 0.0655 - r_squared_linreg: 0.5575 - val_loss: 24.6097 - val_custom_mae: 0.2012 - val_custom_mean_sd: 0.7410 - val_custom_mse: 0.0709 - val_custom_mse_scaled: 0.1289 - val_gaussian_reconstruction_loss: 24.6097 - val_r_squared: 0.1010 - val_r_squared_linreg: 0.5596 - lr: 0.0500 - 435ms/epoch - 435ms/step\n",
      "Epoch 7/10\n",
      "1/1 - 0s - loss: 24.4861 - custom_mae: 0.1940 - custom_mean_sd: 0.7410 - custom_mse: 0.0671 - custom_mse_scaled: 0.1220 - gaussian_reconstruction_loss: 24.4861 - r_squared: 0.1827 - r_squared_linreg: 0.5641 - val_loss: 22.6757 - val_custom_mae: 0.1854 - val_custom_mean_sd: 0.7047 - val_custom_mse: 0.0606 - val_custom_mse_scaled: 0.1218 - val_gaussian_reconstruction_loss: 22.6757 - val_r_squared: 0.2330 - val_r_squared_linreg: 0.5453 - lr: 0.0500 - 406ms/epoch - 406ms/step\n",
      "Epoch 8/10\n",
      "1/1 - 0s - loss: 22.6033 - custom_mae: 0.1803 - custom_mean_sd: 0.7047 - custom_mse: 0.0586 - custom_mse_scaled: 0.1178 - gaussian_reconstruction_loss: 22.6033 - r_squared: 0.2879 - r_squared_linreg: 0.5368 - val_loss: 20.8238 - val_custom_mae: 0.1747 - val_custom_mean_sd: 0.6702 - val_custom_mse: 0.0537 - val_custom_mse_scaled: 0.1194 - val_gaussian_reconstruction_loss: 20.8238 - val_r_squared: 0.3253 - val_r_squared_linreg: 0.5170 - lr: 0.0500 - 419ms/epoch - 419ms/step\n",
      "Epoch 9/10\n",
      "1/1 - 0s - loss: 20.7446 - custom_mae: 0.1724 - custom_mean_sd: 0.6702 - custom_mse: 0.0517 - custom_mse_scaled: 0.1150 - gaussian_reconstruction_loss: 20.7446 - r_squared: 0.3845 - r_squared_linreg: 0.5273 - val_loss: 18.8265 - val_custom_mae: 0.1610 - val_custom_mean_sd: 0.6373 - val_custom_mse: 0.0443 - val_custom_mse_scaled: 0.1091 - val_gaussian_reconstruction_loss: 18.8265 - val_r_squared: 0.4410 - val_r_squared_linreg: 0.5180 - lr: 0.0500 - 451ms/epoch - 451ms/step\n",
      "Epoch 10/10\n",
      "1/1 - 0s - loss: 18.8490 - custom_mae: 0.1624 - custom_mean_sd: 0.6373 - custom_mse: 0.0448 - custom_mse_scaled: 0.1103 - gaussian_reconstruction_loss: 18.8490 - r_squared: 0.4510 - r_squared_linreg: 0.5226 - val_loss: 17.1297 - val_custom_mae: 0.1576 - val_custom_mean_sd: 0.6060 - val_custom_mse: 0.0424 - val_custom_mse_scaled: 0.1155 - val_gaussian_reconstruction_loss: 17.1297 - val_r_squared: 0.4613 - val_r_squared_linreg: 0.5082 - lr: 0.0500 - 458ms/epoch - 458ms/step\n",
      "\n",
      "-------------------------------------------------------------------------------------------------\n",
      "\n",
      "                                       RUN: 0.1\n",
      "\n",
      "-------------------------------------------------------------------------------------------------\n",
      "\n",
      "\n",
      "-------------------------------------------------------------------------------------------------\n",
      "\n",
      "                                       REP: 0\n",
      "\n",
      "-------------------------------------------------------------------------------------------------\n",
      "\n",
      "Loading data from raw files\n",
      "registering celldata\n"
     ]
    },
    {
     "name": "stderr",
     "output_type": "stream",
     "text": [
      "/home/ifichtner/mambaforge/envs/squidpyTF/lib/python3.8/site-packages/ncem/data.py:2389: FutureWarning: X.dtype being converted to np.float32 from float64. In the next version of anndata (0.9) conversion will not be automatic. Pass dtype explicitly to avoid this warning. Pass `AnnData(X, dtype=X.dtype, ...)` to get the future behavour.\n",
      "  celldata = AnnData(\n",
      "/home/ifichtner/mambaforge/envs/squidpyTF/lib/python3.8/site-packages/anndata/_core/anndata.py:121: ImplicitModificationWarning: Transforming to str index.\n",
      "  warnings.warn(\"Transforming to str index.\", ImplicitModificationWarning)\n"
     ]
    },
    {
     "name": "stdout",
     "output_type": "stream",
     "text": [
      "collecting image-wise celldata\n",
      "adding graph-level covariates\n"
     ]
    },
    {
     "name": "stderr",
     "output_type": "stream",
     "text": [
      "100%|██████████| 58/58 [00:01<00:00, 50.16it/s]\n"
     ]
    },
    {
     "name": "stdout",
     "output_type": "stream",
     "text": [
      "Loaded 58 images with complete data from 4 patients over 63747 cells with 36 cell features and 8 distinct celltypes.\n",
      "Mean of mean node degree per images across images: 4.416036\n",
      "Using split method: node. \n",
      " Train-test-validation split is based on total number of nodes per patients over all images.\n",
      "\n",
      "Excluded 0 cells with the following unannotated cell type: [None] \n",
      "\n",
      "Whole dataset: 63747 cells out of 58 images from 4 patients.\n",
      "Test dataset: 6376 cells out of 58 images from 4 patients.\n",
      "Training dataset: 51930 cells out of 58 images from 4 patients.\n",
      "Validation dataset: 5738 cells out of 58 images from 4 patients. \n",
      "\n",
      "Epoch 1/10\n",
      "1/1 - 2s - loss: 38.3721 - custom_mae: 0.4452 - custom_mean_sd: 1.0000 - custom_mse: 0.2939 - custom_mse_scaled: 0.2939 - gaussian_reconstruction_loss: 38.3721 - r_squared: -2.5528e+00 - r_squared_linreg: 1.1466e-04 - val_loss: 33.9851 - val_custom_mae: 0.2890 - val_custom_mean_sd: 0.9512 - val_custom_mse: 0.1359 - val_custom_mse_scaled: 0.1502 - val_gaussian_reconstruction_loss: 33.9851 - val_r_squared: -7.0269e-01 - val_r_squared_linreg: 0.0856 - lr: 0.0500 - 2s/epoch - 2s/step\n",
      "Epoch 2/10\n",
      "1/1 - 0s - loss: 34.0169 - custom_mae: 0.2896 - custom_mean_sd: 0.9512 - custom_mse: 0.1375 - custom_mse_scaled: 0.1520 - gaussian_reconstruction_loss: 34.0169 - r_squared: -6.9227e-01 - r_squared_linreg: 0.0917 - val_loss: 31.3215 - val_custom_mae: 0.2261 - val_custom_mean_sd: 0.9050 - val_custom_mse: 0.0834 - val_custom_mse_scaled: 0.1018 - val_gaussian_reconstruction_loss: 31.3215 - val_r_squared: -5.4413e-02 - val_r_squared_linreg: 0.2729 - lr: 0.0500 - 422ms/epoch - 422ms/step\n",
      "Epoch 3/10\n",
      "1/1 - 0s - loss: 31.3515 - custom_mae: 0.2282 - custom_mean_sd: 0.9050 - custom_mse: 0.0848 - custom_mse_scaled: 0.1035 - gaussian_reconstruction_loss: 31.3515 - r_squared: -3.2588e-02 - r_squared_linreg: 0.2745 - val_loss: 29.7523 - val_custom_mae: 0.2273 - val_custom_mean_sd: 0.8609 - val_custom_mse: 0.0849 - val_custom_mse_scaled: 0.1145 - val_gaussian_reconstruction_loss: 29.7523 - val_r_squared: -7.4619e-02 - val_r_squared_linreg: 0.3941 - lr: 0.0500 - 408ms/epoch - 408ms/step\n",
      "Epoch 4/10\n",
      "1/1 - 0s - loss: 29.7088 - custom_mae: 0.2246 - custom_mean_sd: 0.8609 - custom_mse: 0.0831 - custom_mse_scaled: 0.1121 - gaussian_reconstruction_loss: 29.7088 - r_squared: -6.8321e-03 - r_squared_linreg: 0.4075 - val_loss: 28.1260 - val_custom_mae: 0.2219 - val_custom_mean_sd: 0.8189 - val_custom_mse: 0.0833 - val_custom_mse_scaled: 0.1242 - val_gaussian_reconstruction_loss: 28.1260 - val_r_squared: -6.1662e-02 - val_r_squared_linreg: 0.4911 - lr: 0.0500 - 416ms/epoch - 416ms/step\n",
      "Epoch 5/10\n",
      "1/1 - 0s - loss: 28.1174 - custom_mae: 0.2223 - custom_mean_sd: 0.8189 - custom_mse: 0.0830 - custom_mse_scaled: 0.1238 - gaussian_reconstruction_loss: 28.1174 - r_squared: -1.0861e-02 - r_squared_linreg: 0.4888 - val_loss: 26.3708 - val_custom_mae: 0.2116 - val_custom_mean_sd: 0.7789 - val_custom_mse: 0.0771 - val_custom_mse_scaled: 0.1270 - val_gaussian_reconstruction_loss: 26.3708 - val_r_squared: 0.0186 - val_r_squared_linreg: 0.5181 - lr: 0.0500 - 416ms/epoch - 416ms/step\n",
      "Epoch 6/10\n",
      "1/1 - 0s - loss: 26.3019 - custom_mae: 0.2091 - custom_mean_sd: 0.7789 - custom_mse: 0.0748 - custom_mse_scaled: 0.1231 - gaussian_reconstruction_loss: 26.3019 - r_squared: 0.0948 - r_squared_linreg: 0.5126 - val_loss: 24.4119 - val_custom_mae: 0.1916 - val_custom_mean_sd: 0.7408 - val_custom_mse: 0.0651 - val_custom_mse_scaled: 0.1185 - val_gaussian_reconstruction_loss: 24.4119 - val_r_squared: 0.1741 - val_r_squared_linreg: 0.5260 - lr: 0.0500 - 402ms/epoch - 402ms/step\n",
      "Epoch 7/10\n",
      "1/1 - 0s - loss: 24.3224 - custom_mae: 0.1880 - custom_mean_sd: 0.7408 - custom_mse: 0.0624 - custom_mse_scaled: 0.1135 - gaussian_reconstruction_loss: 24.3224 - r_squared: 0.2469 - r_squared_linreg: 0.5230 - val_loss: 22.4473 - val_custom_mae: 0.1753 - val_custom_mean_sd: 0.7045 - val_custom_mse: 0.0545 - val_custom_mse_scaled: 0.1098 - val_gaussian_reconstruction_loss: 22.4473 - val_r_squared: 0.3110 - val_r_squared_linreg: 0.5073 - lr: 0.0500 - 401ms/epoch - 401ms/step\n",
      "Epoch 8/10\n",
      "1/1 - 0s - loss: 22.4568 - custom_mae: 0.1770 - custom_mean_sd: 0.7045 - custom_mse: 0.0548 - custom_mse_scaled: 0.1103 - gaussian_reconstruction_loss: 22.4568 - r_squared: 0.3423 - r_squared_linreg: 0.5081 - val_loss: 20.6578 - val_custom_mae: 0.1696 - val_custom_mean_sd: 0.6699 - val_custom_mse: 0.0498 - val_custom_mse_scaled: 0.1109 - val_gaussian_reconstruction_loss: 20.6578 - val_r_squared: 0.3695 - val_r_squared_linreg: 0.4990 - lr: 0.0500 - 402ms/epoch - 402ms/step\n",
      "Epoch 9/10\n",
      "1/1 - 0s - loss: 20.6329 - custom_mae: 0.1695 - custom_mean_sd: 0.6699 - custom_mse: 0.0492 - custom_mse_scaled: 0.1095 - gaussian_reconstruction_loss: 20.6329 - r_squared: 0.4008 - r_squared_linreg: 0.5068 - val_loss: 18.8297 - val_custom_mae: 0.1628 - val_custom_mean_sd: 0.6371 - val_custom_mse: 0.0447 - val_custom_mse_scaled: 0.1100 - val_gaussian_reconstruction_loss: 18.8297 - val_r_squared: 0.4359 - val_r_squared_linreg: 0.5140 - lr: 0.0500 - 375ms/epoch - 375ms/step\n",
      "Epoch 10/10\n",
      "1/1 - 0s - loss: 18.9675 - custom_mae: 0.1677 - custom_mean_sd: 0.6371 - custom_mse: 0.0478 - custom_mse_scaled: 0.1176 - gaussian_reconstruction_loss: 18.9675 - r_squared: 0.4172 - r_squared_linreg: 0.5031 - val_loss: 17.0282 - val_custom_mae: 0.1549 - val_custom_mean_sd: 0.6058 - val_custom_mse: 0.0406 - val_custom_mse_scaled: 0.1105 - val_gaussian_reconstruction_loss: 17.0282 - val_r_squared: 0.4897 - val_r_squared_linreg: 0.5341 - lr: 0.0500 - 414ms/epoch - 414ms/step\n",
      "\n",
      "-------------------------------------------------------------------------------------------------\n",
      "\n",
      "                                       REP: 1\n",
      "\n",
      "-------------------------------------------------------------------------------------------------\n",
      "\n",
      "Loading data from raw files\n",
      "registering celldata\n"
     ]
    },
    {
     "name": "stderr",
     "output_type": "stream",
     "text": [
      "/home/ifichtner/mambaforge/envs/squidpyTF/lib/python3.8/site-packages/ncem/data.py:2389: FutureWarning: X.dtype being converted to np.float32 from float64. In the next version of anndata (0.9) conversion will not be automatic. Pass dtype explicitly to avoid this warning. Pass `AnnData(X, dtype=X.dtype, ...)` to get the future behavour.\n",
      "  celldata = AnnData(\n",
      "/home/ifichtner/mambaforge/envs/squidpyTF/lib/python3.8/site-packages/anndata/_core/anndata.py:121: ImplicitModificationWarning: Transforming to str index.\n",
      "  warnings.warn(\"Transforming to str index.\", ImplicitModificationWarning)\n"
     ]
    },
    {
     "name": "stdout",
     "output_type": "stream",
     "text": [
      "collecting image-wise celldata\n",
      "adding graph-level covariates\n"
     ]
    },
    {
     "name": "stderr",
     "output_type": "stream",
     "text": [
      "100%|██████████| 58/58 [00:01<00:00, 53.74it/s]\n"
     ]
    },
    {
     "name": "stdout",
     "output_type": "stream",
     "text": [
      "Loaded 58 images with complete data from 4 patients over 63747 cells with 36 cell features and 8 distinct celltypes.\n",
      "Mean of mean node degree per images across images: 4.416036\n",
      "Using split method: node. \n",
      " Train-test-validation split is based on total number of nodes per patients over all images.\n",
      "\n",
      "Excluded 0 cells with the following unannotated cell type: [None] \n",
      "\n",
      "Whole dataset: 63747 cells out of 58 images from 4 patients.\n",
      "Test dataset: 6376 cells out of 58 images from 4 patients.\n",
      "Training dataset: 51930 cells out of 58 images from 4 patients.\n",
      "Validation dataset: 5738 cells out of 58 images from 4 patients. \n",
      "\n",
      "Epoch 1/10\n",
      "1/1 - 2s - loss: 38.2625 - custom_mae: 0.4415 - custom_mean_sd: 1.0000 - custom_mse: 0.2878 - custom_mse_scaled: 0.2878 - gaussian_reconstruction_loss: 38.2625 - r_squared: -2.4792e+00 - r_squared_linreg: 0.0053 - val_loss: 33.8768 - val_custom_mae: 0.2835 - val_custom_mean_sd: 0.9512 - val_custom_mse: 0.1305 - val_custom_mse_scaled: 0.1442 - val_gaussian_reconstruction_loss: 33.8768 - val_r_squared: -6.4827e-01 - val_r_squared_linreg: 0.0893 - lr: 0.0500 - 2s/epoch - 2s/step\n",
      "Epoch 2/10\n",
      "1/1 - 0s - loss: 33.9106 - custom_mae: 0.2854 - custom_mean_sd: 0.9512 - custom_mse: 0.1321 - custom_mse_scaled: 0.1460 - gaussian_reconstruction_loss: 33.9106 - r_squared: -6.2648e-01 - r_squared_linreg: 0.0981 - val_loss: 31.3936 - val_custom_mae: 0.2326 - val_custom_mean_sd: 0.9050 - val_custom_mse: 0.0867 - val_custom_mse_scaled: 0.1059 - val_gaussian_reconstruction_loss: 31.3936 - val_r_squared: -8.6675e-02 - val_r_squared_linreg: 0.2321 - lr: 0.0500 - 380ms/epoch - 380ms/step\n",
      "Epoch 3/10\n",
      "1/1 - 0s - loss: 31.3410 - custom_mae: 0.2290 - custom_mean_sd: 0.9050 - custom_mse: 0.0843 - custom_mse_scaled: 0.1029 - gaussian_reconstruction_loss: 31.3410 - r_squared: -2.6811e-02 - r_squared_linreg: 0.2685 - val_loss: 29.7491 - val_custom_mae: 0.2303 - val_custom_mean_sd: 0.8609 - val_custom_mse: 0.0848 - val_custom_mse_scaled: 0.1144 - val_gaussian_reconstruction_loss: 29.7491 - val_r_squared: -7.8022e-02 - val_r_squared_linreg: 0.3718 - lr: 0.0500 - 367ms/epoch - 367ms/step\n",
      "Epoch 4/10\n",
      "1/1 - 0s - loss: 29.6713 - custom_mae: 0.2248 - custom_mean_sd: 0.8609 - custom_mse: 0.0816 - custom_mse_scaled: 0.1100 - gaussian_reconstruction_loss: 29.6713 - r_squared: 0.0080 - r_squared_linreg: 0.4009 - val_loss: 28.1744 - val_custom_mae: 0.2283 - val_custom_mean_sd: 0.8189 - val_custom_mse: 0.0852 - val_custom_mse_scaled: 0.1270 - val_gaussian_reconstruction_loss: 28.1744 - val_r_squared: -8.1362e-02 - val_r_squared_linreg: 0.4693 - lr: 0.0500 - 348ms/epoch - 348ms/step\n",
      "Epoch 5/10\n",
      "1/1 - 0s - loss: 28.1995 - custom_mae: 0.2297 - custom_mean_sd: 0.8189 - custom_mse: 0.0861 - custom_mse_scaled: 0.1284 - gaussian_reconstruction_loss: 28.1995 - r_squared: -4.4006e-02 - r_squared_linreg: 0.4835 - val_loss: 26.4431 - val_custom_mae: 0.2151 - val_custom_mean_sd: 0.7789 - val_custom_mse: 0.0795 - val_custom_mse_scaled: 0.1310 - val_gaussian_reconstruction_loss: 26.4431 - val_r_squared: -1.4447e-02 - val_r_squared_linreg: 0.5162 - lr: 0.0500 - 371ms/epoch - 371ms/step\n",
      "Epoch 6/10\n",
      "1/1 - 0s - loss: 26.5056 - custom_mae: 0.2179 - custom_mean_sd: 0.7789 - custom_mse: 0.0816 - custom_mse_scaled: 0.1345 - gaussian_reconstruction_loss: 26.5056 - r_squared: 0.0151 - r_squared_linreg: 0.5079 - val_loss: 24.5870 - val_custom_mae: 0.1996 - val_custom_mean_sd: 0.7408 - val_custom_mse: 0.0704 - val_custom_mse_scaled: 0.1281 - val_gaussian_reconstruction_loss: 24.5870 - val_r_squared: 0.1292 - val_r_squared_linreg: 0.4959 - lr: 0.0500 - 380ms/epoch - 380ms/step\n",
      "Epoch 7/10\n",
      "1/1 - 0s - loss: 24.5206 - custom_mae: 0.1967 - custom_mean_sd: 0.7408 - custom_mse: 0.0683 - custom_mse_scaled: 0.1244 - gaussian_reconstruction_loss: 24.5206 - r_squared: 0.1596 - r_squared_linreg: 0.5114 - val_loss: 22.4369 - val_custom_mae: 0.1756 - val_custom_mean_sd: 0.7046 - val_custom_mse: 0.0541 - val_custom_mse_scaled: 0.1089 - val_gaussian_reconstruction_loss: 22.4369 - val_r_squared: 0.3046 - val_r_squared_linreg: 0.5219 - lr: 0.0500 - 401ms/epoch - 401ms/step\n",
      "Epoch 8/10\n",
      "1/1 - 0s - loss: 22.5757 - custom_mae: 0.1822 - custom_mean_sd: 0.7046 - custom_mse: 0.0580 - custom_mse_scaled: 0.1167 - gaussian_reconstruction_loss: 22.5757 - r_squared: 0.2989 - r_squared_linreg: 0.5117 - val_loss: 20.7210 - val_custom_mae: 0.1716 - val_custom_mean_sd: 0.6701 - val_custom_mse: 0.0512 - val_custom_mse_scaled: 0.1140 - val_gaussian_reconstruction_loss: 20.7210 - val_r_squared: 0.3620 - val_r_squared_linreg: 0.4959 - lr: 0.0500 - 357ms/epoch - 357ms/step\n",
      "Epoch 9/10\n",
      "1/1 - 0s - loss: 20.7018 - custom_mae: 0.1726 - custom_mean_sd: 0.6701 - custom_mse: 0.0507 - custom_mse_scaled: 0.1129 - gaussian_reconstruction_loss: 20.7018 - r_squared: 0.3827 - r_squared_linreg: 0.5082 - val_loss: 18.7616 - val_custom_mae: 0.1598 - val_custom_mean_sd: 0.6372 - val_custom_mse: 0.0429 - val_custom_mse_scaled: 0.1057 - val_gaussian_reconstruction_loss: 18.7616 - val_r_squared: 0.4562 - val_r_squared_linreg: 0.5195 - lr: 0.0500 - 380ms/epoch - 380ms/step\n",
      "Epoch 10/10\n",
      "1/1 - 0s - loss: 18.9179 - custom_mae: 0.1663 - custom_mean_sd: 0.6372 - custom_mse: 0.0464 - custom_mse_scaled: 0.1143 - gaussian_reconstruction_loss: 18.9179 - r_squared: 0.4381 - r_squared_linreg: 0.5140 - val_loss: 17.1029 - val_custom_mae: 0.1577 - val_custom_mean_sd: 0.6060 - val_custom_mse: 0.0419 - val_custom_mse_scaled: 0.1141 - val_gaussian_reconstruction_loss: 17.1029 - val_r_squared: 0.4747 - val_r_squared_linreg: 0.5078 - lr: 0.0500 - 379ms/epoch - 379ms/step\n",
      "\n",
      "-------------------------------------------------------------------------------------------------\n",
      "\n",
      "                                       REP: 2\n",
      "\n",
      "-------------------------------------------------------------------------------------------------\n",
      "\n",
      "Loading data from raw files\n",
      "registering celldata\n"
     ]
    },
    {
     "name": "stderr",
     "output_type": "stream",
     "text": [
      "/home/ifichtner/mambaforge/envs/squidpyTF/lib/python3.8/site-packages/ncem/data.py:2389: FutureWarning: X.dtype being converted to np.float32 from float64. In the next version of anndata (0.9) conversion will not be automatic. Pass dtype explicitly to avoid this warning. Pass `AnnData(X, dtype=X.dtype, ...)` to get the future behavour.\n",
      "  celldata = AnnData(\n",
      "/home/ifichtner/mambaforge/envs/squidpyTF/lib/python3.8/site-packages/anndata/_core/anndata.py:121: ImplicitModificationWarning: Transforming to str index.\n",
      "  warnings.warn(\"Transforming to str index.\", ImplicitModificationWarning)\n"
     ]
    },
    {
     "name": "stdout",
     "output_type": "stream",
     "text": [
      "collecting image-wise celldata\n",
      "adding graph-level covariates\n"
     ]
    },
    {
     "name": "stderr",
     "output_type": "stream",
     "text": [
      "100%|██████████| 58/58 [00:01<00:00, 50.19it/s]\n"
     ]
    },
    {
     "name": "stdout",
     "output_type": "stream",
     "text": [
      "Loaded 58 images with complete data from 4 patients over 63747 cells with 36 cell features and 8 distinct celltypes.\n",
      "Mean of mean node degree per images across images: 4.416036\n",
      "Using split method: node. \n",
      " Train-test-validation split is based on total number of nodes per patients over all images.\n",
      "\n",
      "Excluded 0 cells with the following unannotated cell type: [None] \n",
      "\n",
      "Whole dataset: 63747 cells out of 58 images from 4 patients.\n",
      "Test dataset: 6376 cells out of 58 images from 4 patients.\n",
      "Training dataset: 51930 cells out of 58 images from 4 patients.\n",
      "Validation dataset: 5738 cells out of 58 images from 4 patients. \n",
      "\n",
      "Epoch 1/10\n",
      "1/1 - 2s - loss: 38.5077 - custom_mae: 0.4528 - custom_mean_sd: 1.0000 - custom_mse: 0.3014 - custom_mse_scaled: 0.3014 - gaussian_reconstruction_loss: 38.5077 - r_squared: -2.6439e+00 - r_squared_linreg: 0.0023 - val_loss: 33.9752 - val_custom_mae: 0.2922 - val_custom_mean_sd: 0.9512 - val_custom_mse: 0.1354 - val_custom_mse_scaled: 0.1496 - val_gaussian_reconstruction_loss: 33.9752 - val_r_squared: -7.0946e-01 - val_r_squared_linreg: 0.0538 - lr: 0.0500 - 2s/epoch - 2s/step\n",
      "Epoch 2/10\n",
      "1/1 - 0s - loss: 34.0310 - custom_mae: 0.2957 - custom_mean_sd: 0.9512 - custom_mse: 0.1382 - custom_mse_scaled: 0.1527 - gaussian_reconstruction_loss: 34.0310 - r_squared: -7.0098e-01 - r_squared_linreg: 0.0621 - val_loss: 31.4112 - val_custom_mae: 0.2338 - val_custom_mean_sd: 0.9050 - val_custom_mse: 0.0875 - val_custom_mse_scaled: 0.1068 - val_gaussian_reconstruction_loss: 31.4112 - val_r_squared: -9.2031e-02 - val_r_squared_linreg: 0.2382 - lr: 0.0500 - 384ms/epoch - 384ms/step\n",
      "Epoch 3/10\n",
      "1/1 - 0s - loss: 31.4210 - custom_mae: 0.2348 - custom_mean_sd: 0.9050 - custom_mse: 0.0879 - custom_mse_scaled: 0.1073 - gaussian_reconstruction_loss: 31.4210 - r_squared: -7.0553e-02 - r_squared_linreg: 0.2453 - val_loss: 29.8715 - val_custom_mae: 0.2334 - val_custom_mean_sd: 0.8610 - val_custom_mse: 0.0897 - val_custom_mse_scaled: 0.1210 - val_gaussian_reconstruction_loss: 29.8715 - val_r_squared: -1.1350e-01 - val_r_squared_linreg: 0.3706 - lr: 0.0500 - 378ms/epoch - 378ms/step\n",
      "Epoch 4/10\n",
      "1/1 - 0s - loss: 29.7727 - custom_mae: 0.2293 - custom_mean_sd: 0.8610 - custom_mse: 0.0857 - custom_mse_scaled: 0.1155 - gaussian_reconstruction_loss: 29.7727 - r_squared: -4.1840e-02 - r_squared_linreg: 0.4112 - val_loss: 28.3443 - val_custom_mae: 0.2327 - val_custom_mean_sd: 0.8190 - val_custom_mse: 0.0914 - val_custom_mse_scaled: 0.1363 - val_gaussian_reconstruction_loss: 28.3443 - val_r_squared: -1.5998e-01 - val_r_squared_linreg: 0.4780 - lr: 0.0500 - 383ms/epoch - 383ms/step\n",
      "Epoch 5/10\n",
      "1/1 - 0s - loss: 28.3381 - custom_mae: 0.2338 - custom_mean_sd: 0.8190 - custom_mse: 0.0912 - custom_mse_scaled: 0.1359 - gaussian_reconstruction_loss: 28.3381 - r_squared: -1.0274e-01 - r_squared_linreg: 0.4825 - val_loss: 26.6900 - val_custom_mae: 0.2235 - val_custom_mean_sd: 0.7789 - val_custom_mse: 0.0878 - val_custom_mse_scaled: 0.1445 - val_gaussian_reconstruction_loss: 26.6900 - val_r_squared: -1.0641e-01 - val_r_squared_linreg: 0.4975 - lr: 0.0500 - 375ms/epoch - 375ms/step\n",
      "Epoch 6/10\n",
      "1/1 - 0s - loss: 26.6568 - custom_mae: 0.2254 - custom_mean_sd: 0.7789 - custom_mse: 0.0866 - custom_mse_scaled: 0.1427 - gaussian_reconstruction_loss: 26.6568 - r_squared: -5.8145e-02 - r_squared_linreg: 0.5079 - val_loss: 24.5429 - val_custom_mae: 0.1988 - val_custom_mean_sd: 0.7409 - val_custom_mse: 0.0689 - val_custom_mse_scaled: 0.1255 - val_gaussian_reconstruction_loss: 24.5429 - val_r_squared: 0.1390 - val_r_squared_linreg: 0.5146 - lr: 0.0500 - 361ms/epoch - 361ms/step\n",
      "Epoch 7/10\n",
      "1/1 - 0s - loss: 24.6578 - custom_mae: 0.2032 - custom_mean_sd: 0.7409 - custom_mse: 0.0724 - custom_mse_scaled: 0.1318 - gaussian_reconstruction_loss: 24.6578 - r_squared: 0.1288 - r_squared_linreg: 0.4914 - val_loss: 22.5221 - val_custom_mae: 0.1809 - val_custom_mean_sd: 0.7046 - val_custom_mse: 0.0564 - val_custom_mse_scaled: 0.1135 - val_gaussian_reconstruction_loss: 22.5221 - val_r_squared: 0.2886 - val_r_squared_linreg: 0.4940 - lr: 0.0500 - 377ms/epoch - 377ms/step\n",
      "Epoch 8/10\n",
      "1/1 - 0s - loss: 22.5525 - custom_mae: 0.1817 - custom_mean_sd: 0.7046 - custom_mse: 0.0572 - custom_mse_scaled: 0.1152 - gaussian_reconstruction_loss: 22.5525 - r_squared: 0.3034 - r_squared_linreg: 0.4959 - val_loss: 20.6224 - val_custom_mae: 0.1697 - val_custom_mean_sd: 0.6701 - val_custom_mse: 0.0487 - val_custom_mse_scaled: 0.1084 - val_gaussian_reconstruction_loss: 20.6224 - val_r_squared: 0.3843 - val_r_squared_linreg: 0.4786 - lr: 0.0500 - 369ms/epoch - 369ms/step\n",
      "Epoch 9/10\n",
      "1/1 - 0s - loss: 20.6823 - custom_mae: 0.1731 - custom_mean_sd: 0.6701 - custom_mse: 0.0502 - custom_mse_scaled: 0.1117 - gaussian_reconstruction_loss: 20.6823 - r_squared: 0.3868 - r_squared_linreg: 0.4817 - val_loss: 18.9489 - val_custom_mae: 0.1677 - val_custom_mean_sd: 0.6373 - val_custom_mse: 0.0471 - val_custom_mse_scaled: 0.1160 - val_gaussian_reconstruction_loss: 18.9489 - val_r_squared: 0.4026 - val_r_squared_linreg: 0.4645 - lr: 0.0500 - 382ms/epoch - 382ms/step\n",
      "Epoch 10/10\n",
      "1/1 - 0s - loss: 18.9765 - custom_mae: 0.1703 - custom_mean_sd: 0.6373 - custom_mse: 0.0477 - custom_mse_scaled: 0.1175 - gaussian_reconstruction_loss: 18.9765 - r_squared: 0.4207 - r_squared_linreg: 0.4795 - val_loss: 17.3416 - val_custom_mae: 0.1682 - val_custom_mean_sd: 0.6060 - val_custom_mse: 0.0468 - val_custom_mse_scaled: 0.1273 - val_gaussian_reconstruction_loss: 17.3416 - val_r_squared: 0.4085 - val_r_squared_linreg: 0.4652 - lr: 0.0500 - 370ms/epoch - 370ms/step\n",
      "\n",
      "-------------------------------------------------------------------------------------------------\n",
      "\n",
      "                                       REP: 3\n",
      "\n",
      "-------------------------------------------------------------------------------------------------\n",
      "\n",
      "Loading data from raw files\n",
      "registering celldata\n"
     ]
    },
    {
     "name": "stderr",
     "output_type": "stream",
     "text": [
      "/home/ifichtner/mambaforge/envs/squidpyTF/lib/python3.8/site-packages/ncem/data.py:2389: FutureWarning: X.dtype being converted to np.float32 from float64. In the next version of anndata (0.9) conversion will not be automatic. Pass dtype explicitly to avoid this warning. Pass `AnnData(X, dtype=X.dtype, ...)` to get the future behavour.\n",
      "  celldata = AnnData(\n",
      "/home/ifichtner/mambaforge/envs/squidpyTF/lib/python3.8/site-packages/anndata/_core/anndata.py:121: ImplicitModificationWarning: Transforming to str index.\n",
      "  warnings.warn(\"Transforming to str index.\", ImplicitModificationWarning)\n"
     ]
    },
    {
     "name": "stdout",
     "output_type": "stream",
     "text": [
      "collecting image-wise celldata\n",
      "adding graph-level covariates\n"
     ]
    },
    {
     "name": "stderr",
     "output_type": "stream",
     "text": [
      "100%|██████████| 58/58 [00:01<00:00, 53.41it/s]\n"
     ]
    },
    {
     "name": "stdout",
     "output_type": "stream",
     "text": [
      "Loaded 58 images with complete data from 4 patients over 63747 cells with 36 cell features and 8 distinct celltypes.\n",
      "Mean of mean node degree per images across images: 4.416036\n",
      "Using split method: node. \n",
      " Train-test-validation split is based on total number of nodes per patients over all images.\n",
      "\n",
      "Excluded 0 cells with the following unannotated cell type: [None] \n",
      "\n",
      "Whole dataset: 63747 cells out of 58 images from 4 patients.\n",
      "Test dataset: 6376 cells out of 58 images from 4 patients.\n",
      "Training dataset: 51930 cells out of 58 images from 4 patients.\n",
      "Validation dataset: 5738 cells out of 58 images from 4 patients. \n",
      "\n",
      "Epoch 1/10\n",
      "1/1 - 1s - loss: 38.9429 - custom_mae: 0.4703 - custom_mean_sd: 1.0000 - custom_mse: 0.3256 - custom_mse_scaled: 0.3256 - gaussian_reconstruction_loss: 38.9429 - r_squared: -2.9361e+00 - r_squared_linreg: 1.2070e-04 - val_loss: 34.1728 - val_custom_mae: 0.3033 - val_custom_mean_sd: 0.9512 - val_custom_mse: 0.1453 - val_custom_mse_scaled: 0.1606 - val_gaussian_reconstruction_loss: 34.1728 - val_r_squared: -8.2855e-01 - val_r_squared_linreg: 0.0575 - lr: 0.0500 - 1s/epoch - 1s/step\n",
      "Epoch 2/10\n",
      "1/1 - 0s - loss: 34.2841 - custom_mae: 0.3087 - custom_mean_sd: 0.9512 - custom_mse: 0.1509 - custom_mse_scaled: 0.1668 - gaussian_reconstruction_loss: 34.2841 - r_squared: -8.5758e-01 - r_squared_linreg: 0.0562 - val_loss: 31.5318 - val_custom_mae: 0.2422 - val_custom_mean_sd: 0.9051 - val_custom_mse: 0.0929 - val_custom_mse_scaled: 0.1133 - val_gaussian_reconstruction_loss: 31.5318 - val_r_squared: -1.7092e-01 - val_r_squared_linreg: 0.2074 - lr: 0.0500 - 405ms/epoch - 405ms/step\n",
      "Epoch 3/10\n",
      "1/1 - 0s - loss: 31.5399 - custom_mae: 0.2428 - custom_mean_sd: 0.9051 - custom_mse: 0.0932 - custom_mse_scaled: 0.1138 - gaussian_reconstruction_loss: 31.5399 - r_squared: -1.3552e-01 - r_squared_linreg: 0.2238 - val_loss: 29.9118 - val_custom_mae: 0.2365 - val_custom_mean_sd: 0.8611 - val_custom_mse: 0.0913 - val_custom_mse_scaled: 0.1231 - val_gaussian_reconstruction_loss: 29.9118 - val_r_squared: -1.5527e-01 - val_r_squared_linreg: 0.3619 - lr: 0.0500 - 457ms/epoch - 457ms/step\n",
      "Epoch 4/10\n",
      "1/1 - 0s - loss: 29.8332 - custom_mae: 0.2329 - custom_mean_sd: 0.8611 - custom_mse: 0.0880 - custom_mse_scaled: 0.1187 - gaussian_reconstruction_loss: 29.8332 - r_squared: -5.9543e-02 - r_squared_linreg: 0.3800 - val_loss: 28.4211 - val_custom_mae: 0.2365 - val_custom_mean_sd: 0.8190 - val_custom_mse: 0.0942 - val_custom_mse_scaled: 0.1403 - val_gaussian_reconstruction_loss: 28.4211 - val_r_squared: -1.7608e-01 - val_r_squared_linreg: 0.4510 - lr: 0.0500 - 447ms/epoch - 447ms/step\n",
      "Epoch 5/10\n",
      "1/1 - 0s - loss: 28.4889 - custom_mae: 0.2399 - custom_mean_sd: 0.8190 - custom_mse: 0.0967 - custom_mse_scaled: 0.1441 - gaussian_reconstruction_loss: 28.4889 - r_squared: -1.8044e-01 - r_squared_linreg: 0.4574 - val_loss: 26.7207 - val_custom_mae: 0.2264 - val_custom_mean_sd: 0.7790 - val_custom_mse: 0.0887 - val_custom_mse_scaled: 0.1461 - val_gaussian_reconstruction_loss: 26.7207 - val_r_squared: -1.3483e-01 - val_r_squared_linreg: 0.4864 - lr: 0.0500 - 419ms/epoch - 419ms/step\n",
      "Epoch 6/10\n",
      "1/1 - 0s - loss: 26.7686 - custom_mae: 0.2284 - custom_mean_sd: 0.7790 - custom_mse: 0.0903 - custom_mse_scaled: 0.1487 - gaussian_reconstruction_loss: 26.7686 - r_squared: -9.8310e-02 - r_squared_linreg: 0.4788 - val_loss: 24.7877 - val_custom_mae: 0.2099 - val_custom_mean_sd: 0.7409 - val_custom_mse: 0.0763 - val_custom_mse_scaled: 0.1389 - val_gaussian_reconstruction_loss: 24.7877 - val_r_squared: 0.0381 - val_r_squared_linreg: 0.4742 - lr: 0.0500 - 422ms/epoch - 422ms/step\n",
      "Epoch 7/10\n",
      "1/1 - 0s - loss: 24.9031 - custom_mae: 0.2137 - custom_mean_sd: 0.7409 - custom_mse: 0.0799 - custom_mse_scaled: 0.1453 - gaussian_reconstruction_loss: 24.9031 - r_squared: 0.0335 - r_squared_linreg: 0.4858 - val_loss: 22.7535 - val_custom_mae: 0.1893 - val_custom_mean_sd: 0.7047 - val_custom_mse: 0.0627 - val_custom_mse_scaled: 0.1262 - val_gaussian_reconstruction_loss: 22.7535 - val_r_squared: 0.2180 - val_r_squared_linreg: 0.4722 - lr: 0.0500 - 408ms/epoch - 408ms/step\n",
      "Epoch 8/10\n",
      "1/1 - 0s - loss: 22.8144 - custom_mae: 0.1925 - custom_mean_sd: 0.7047 - custom_mse: 0.0644 - custom_mse_scaled: 0.1296 - gaussian_reconstruction_loss: 22.8144 - r_squared: 0.2149 - r_squared_linreg: 0.4725 - val_loss: 20.8309 - val_custom_mae: 0.1781 - val_custom_mean_sd: 0.6702 - val_custom_mse: 0.0538 - val_custom_mse_scaled: 0.1198 - val_gaussian_reconstruction_loss: 20.8309 - val_r_squared: 0.3177 - val_r_squared_linreg: 0.4453 - lr: 0.0500 - 420ms/epoch - 420ms/step\n",
      "Epoch 9/10\n",
      "1/1 - 0s - loss: 20.9065 - custom_mae: 0.1824 - custom_mean_sd: 0.6702 - custom_mse: 0.0557 - custom_mse_scaled: 0.1240 - gaussian_reconstruction_loss: 20.9065 - r_squared: 0.3209 - r_squared_linreg: 0.4505 - val_loss: 19.1039 - val_custom_mae: 0.1759 - val_custom_mean_sd: 0.6373 - val_custom_mse: 0.0505 - val_custom_mse_scaled: 0.1244 - val_gaussian_reconstruction_loss: 19.1039 - val_r_squared: 0.3627 - val_r_squared_linreg: 0.4474 - lr: 0.0500 - 409ms/epoch - 409ms/step\n",
      "Epoch 10/10\n",
      "1/1 - 0s - loss: 19.1167 - custom_mae: 0.1755 - custom_mean_sd: 0.6373 - custom_mse: 0.0508 - custom_mse_scaled: 0.1251 - gaussian_reconstruction_loss: 19.1167 - r_squared: 0.3774 - r_squared_linreg: 0.4575 - val_loss: 17.3841 - val_custom_mae: 0.1691 - val_custom_mean_sd: 0.6061 - val_custom_mse: 0.0476 - val_custom_mse_scaled: 0.1295 - val_gaussian_reconstruction_loss: 17.3841 - val_r_squared: 0.4071 - val_r_squared_linreg: 0.4689 - lr: 0.0500 - 403ms/epoch - 403ms/step\n",
      "\n",
      "-------------------------------------------------------------------------------------------------\n",
      "\n",
      "                                       REP: 4\n",
      "\n",
      "-------------------------------------------------------------------------------------------------\n",
      "\n",
      "Loading data from raw files\n",
      "registering celldata\n"
     ]
    },
    {
     "name": "stderr",
     "output_type": "stream",
     "text": [
      "/home/ifichtner/mambaforge/envs/squidpyTF/lib/python3.8/site-packages/ncem/data.py:2389: FutureWarning: X.dtype being converted to np.float32 from float64. In the next version of anndata (0.9) conversion will not be automatic. Pass dtype explicitly to avoid this warning. Pass `AnnData(X, dtype=X.dtype, ...)` to get the future behavour.\n",
      "  celldata = AnnData(\n",
      "/home/ifichtner/mambaforge/envs/squidpyTF/lib/python3.8/site-packages/anndata/_core/anndata.py:121: ImplicitModificationWarning: Transforming to str index.\n",
      "  warnings.warn(\"Transforming to str index.\", ImplicitModificationWarning)\n"
     ]
    },
    {
     "name": "stdout",
     "output_type": "stream",
     "text": [
      "collecting image-wise celldata\n",
      "adding graph-level covariates\n"
     ]
    },
    {
     "name": "stderr",
     "output_type": "stream",
     "text": [
      "100%|██████████| 58/58 [00:01<00:00, 50.50it/s]\n"
     ]
    },
    {
     "name": "stdout",
     "output_type": "stream",
     "text": [
      "Loaded 58 images with complete data from 4 patients over 63747 cells with 36 cell features and 8 distinct celltypes.\n",
      "Mean of mean node degree per images across images: 4.416036\n",
      "Using split method: node. \n",
      " Train-test-validation split is based on total number of nodes per patients over all images.\n",
      "\n",
      "Excluded 0 cells with the following unannotated cell type: [None] \n",
      "\n",
      "Whole dataset: 63747 cells out of 58 images from 4 patients.\n",
      "Test dataset: 6376 cells out of 58 images from 4 patients.\n",
      "Training dataset: 51930 cells out of 58 images from 4 patients.\n",
      "Validation dataset: 5738 cells out of 58 images from 4 patients. \n",
      "\n",
      "Epoch 1/10\n",
      "1/1 - 2s - loss: 38.2970 - custom_mae: 0.4377 - custom_mean_sd: 1.0000 - custom_mse: 0.2897 - custom_mse_scaled: 0.2897 - gaussian_reconstruction_loss: 38.2970 - r_squared: -2.5024e+00 - r_squared_linreg: 5.6254e-04 - val_loss: 33.7916 - val_custom_mae: 0.2806 - val_custom_mean_sd: 0.9512 - val_custom_mse: 0.1262 - val_custom_mse_scaled: 0.1394 - val_gaussian_reconstruction_loss: 33.7916 - val_r_squared: -6.0322e-01 - val_r_squared_linreg: 0.0979 - lr: 0.0500 - 2s/epoch - 2s/step\n",
      "Epoch 2/10\n",
      "1/1 - 0s - loss: 33.9353 - custom_mae: 0.2869 - custom_mean_sd: 0.9512 - custom_mse: 0.1334 - custom_mse_scaled: 0.1474 - gaussian_reconstruction_loss: 33.9353 - r_squared: -6.4181e-01 - r_squared_linreg: 0.0885 - val_loss: 31.4696 - val_custom_mae: 0.2374 - val_custom_mean_sd: 0.9050 - val_custom_mse: 0.0902 - val_custom_mse_scaled: 0.1101 - val_gaussian_reconstruction_loss: 31.4696 - val_r_squared: -1.4237e-01 - val_r_squared_linreg: 0.2610 - lr: 0.0500 - 477ms/epoch - 477ms/step\n",
      "Epoch 3/10\n",
      "1/1 - 0s - loss: 31.4679 - custom_mae: 0.2370 - custom_mean_sd: 0.9050 - custom_mse: 0.0901 - custom_mse_scaled: 0.1100 - gaussian_reconstruction_loss: 31.4679 - r_squared: -9.6491e-02 - r_squared_linreg: 0.2663 - val_loss: 29.9195 - val_custom_mae: 0.2384 - val_custom_mean_sd: 0.8609 - val_custom_mse: 0.0918 - val_custom_mse_scaled: 0.1238 - val_gaussian_reconstruction_loss: 29.9195 - val_r_squared: -1.5609e-01 - val_r_squared_linreg: 0.3989 - lr: 0.0500 - 384ms/epoch - 384ms/step\n",
      "Epoch 4/10\n",
      "1/1 - 0s - loss: 29.9268 - custom_mae: 0.2379 - custom_mean_sd: 0.8609 - custom_mse: 0.0921 - custom_mse_scaled: 0.1242 - gaussian_reconstruction_loss: 29.9268 - r_squared: -1.1926e-01 - r_squared_linreg: 0.3851 - val_loss: 28.3436 - val_custom_mae: 0.2338 - val_custom_mean_sd: 0.8189 - val_custom_mse: 0.0915 - val_custom_mse_scaled: 0.1363 - val_gaussian_reconstruction_loss: 28.3436 - val_r_squared: -1.2243e-01 - val_r_squared_linreg: 0.4443 - lr: 0.0500 - 392ms/epoch - 392ms/step\n",
      "Epoch 5/10\n",
      "1/1 - 0s - loss: 28.3106 - custom_mae: 0.2330 - custom_mean_sd: 0.8189 - custom_mse: 0.0902 - custom_mse_scaled: 0.1345 - gaussian_reconstruction_loss: 28.3106 - r_squared: -1.0289e-01 - r_squared_linreg: 0.4507 - val_loss: 26.5351 - val_custom_mae: 0.2198 - val_custom_mean_sd: 0.7789 - val_custom_mse: 0.0826 - val_custom_mse_scaled: 0.1360 - val_gaussian_reconstruction_loss: 26.5351 - val_r_squared: -5.4679e-02 - val_r_squared_linreg: 0.4771 - lr: 0.0500 - 402ms/epoch - 402ms/step\n",
      "Epoch 6/10\n",
      "1/1 - 0s - loss: 26.5148 - custom_mae: 0.2199 - custom_mean_sd: 0.7789 - custom_mse: 0.0819 - custom_mse_scaled: 0.1349 - gaussian_reconstruction_loss: 26.5148 - r_squared: 0.0029 - r_squared_linreg: 0.4638 - val_loss: 24.5035 - val_custom_mae: 0.1979 - val_custom_mean_sd: 0.7408 - val_custom_mse: 0.0678 - val_custom_mse_scaled: 0.1234 - val_gaussian_reconstruction_loss: 24.5035 - val_r_squared: 0.1419 - val_r_squared_linreg: 0.4800 - lr: 0.0500 - 388ms/epoch - 388ms/step\n",
      "Epoch 7/10\n",
      "1/1 - 0s - loss: 24.5765 - custom_mae: 0.2008 - custom_mean_sd: 0.7408 - custom_mse: 0.0700 - custom_mse_scaled: 0.1275 - gaussian_reconstruction_loss: 24.5765 - r_squared: 0.1572 - r_squared_linreg: 0.4656 - val_loss: 22.5643 - val_custom_mae: 0.1831 - val_custom_mean_sd: 0.7046 - val_custom_mse: 0.0576 - val_custom_mse_scaled: 0.1160 - val_gaussian_reconstruction_loss: 22.5643 - val_r_squared: 0.2789 - val_r_squared_linreg: 0.4593 - lr: 0.0500 - 370ms/epoch - 370ms/step\n",
      "Epoch 8/10\n",
      "1/1 - 0s - loss: 22.5664 - custom_mae: 0.1836 - custom_mean_sd: 0.7046 - custom_mse: 0.0577 - custom_mse_scaled: 0.1161 - gaussian_reconstruction_loss: 22.5664 - r_squared: 0.2987 - r_squared_linreg: 0.4774 - val_loss: 20.7121 - val_custom_mae: 0.1724 - val_custom_mean_sd: 0.6701 - val_custom_mse: 0.0510 - val_custom_mse_scaled: 0.1136 - val_gaussian_reconstruction_loss: 20.7121 - val_r_squared: 0.3461 - val_r_squared_linreg: 0.4631 - lr: 0.0500 - 408ms/epoch - 408ms/step\n",
      "Epoch 9/10\n",
      "1/1 - 0s - loss: 20.8121 - custom_mae: 0.1769 - custom_mean_sd: 0.6701 - custom_mse: 0.0535 - custom_mse_scaled: 0.1191 - gaussian_reconstruction_loss: 20.8121 - r_squared: 0.3515 - r_squared_linreg: 0.4704 - val_loss: 19.0213 - val_custom_mae: 0.1696 - val_custom_mean_sd: 0.6372 - val_custom_mse: 0.0488 - val_custom_mse_scaled: 0.1202 - val_gaussian_reconstruction_loss: 19.0213 - val_r_squared: 0.3880 - val_r_squared_linreg: 0.4591 - lr: 0.0500 - 402ms/epoch - 402ms/step\n",
      "Epoch 10/10\n",
      "1/1 - 0s - loss: 19.0842 - custom_mae: 0.1731 - custom_mean_sd: 0.6372 - custom_mse: 0.0502 - custom_mse_scaled: 0.1237 - gaussian_reconstruction_loss: 19.0842 - r_squared: 0.3892 - r_squared_linreg: 0.4668 - val_loss: 17.2642 - val_custom_mae: 0.1654 - val_custom_mean_sd: 0.6060 - val_custom_mse: 0.0452 - val_custom_mse_scaled: 0.1231 - val_gaussian_reconstruction_loss: 17.2642 - val_r_squared: 0.4216 - val_r_squared_linreg: 0.4574 - lr: 0.0500 - 389ms/epoch - 389ms/step\n",
      "\n",
      "-------------------------------------------------------------------------------------------------\n",
      "\n",
      "                                       REP: 5\n",
      "\n",
      "-------------------------------------------------------------------------------------------------\n",
      "\n",
      "Loading data from raw files\n",
      "registering celldata\n"
     ]
    },
    {
     "name": "stderr",
     "output_type": "stream",
     "text": [
      "/home/ifichtner/mambaforge/envs/squidpyTF/lib/python3.8/site-packages/ncem/data.py:2389: FutureWarning: X.dtype being converted to np.float32 from float64. In the next version of anndata (0.9) conversion will not be automatic. Pass dtype explicitly to avoid this warning. Pass `AnnData(X, dtype=X.dtype, ...)` to get the future behavour.\n",
      "  celldata = AnnData(\n",
      "/home/ifichtner/mambaforge/envs/squidpyTF/lib/python3.8/site-packages/anndata/_core/anndata.py:121: ImplicitModificationWarning: Transforming to str index.\n",
      "  warnings.warn(\"Transforming to str index.\", ImplicitModificationWarning)\n"
     ]
    },
    {
     "name": "stdout",
     "output_type": "stream",
     "text": [
      "collecting image-wise celldata\n",
      "adding graph-level covariates\n"
     ]
    },
    {
     "name": "stderr",
     "output_type": "stream",
     "text": [
      "100%|██████████| 58/58 [00:01<00:00, 52.31it/s]\n"
     ]
    },
    {
     "name": "stdout",
     "output_type": "stream",
     "text": [
      "Loaded 58 images with complete data from 4 patients over 63747 cells with 36 cell features and 8 distinct celltypes.\n",
      "Mean of mean node degree per images across images: 4.416036\n",
      "Using split method: node. \n",
      " Train-test-validation split is based on total number of nodes per patients over all images.\n",
      "\n",
      "Excluded 0 cells with the following unannotated cell type: [None] \n",
      "\n",
      "Whole dataset: 63747 cells out of 58 images from 4 patients.\n",
      "Test dataset: 6376 cells out of 58 images from 4 patients.\n",
      "Training dataset: 51930 cells out of 58 images from 4 patients.\n",
      "Validation dataset: 5738 cells out of 58 images from 4 patients. \n",
      "\n",
      "Epoch 1/10\n",
      "1/1 - 2s - loss: 38.2934 - custom_mae: 0.4383 - custom_mean_sd: 1.0000 - custom_mse: 0.2895 - custom_mse_scaled: 0.2895 - gaussian_reconstruction_loss: 38.2934 - r_squared: -2.4999e+00 - r_squared_linreg: 0.0061 - val_loss: 33.7877 - val_custom_mae: 0.2777 - val_custom_mean_sd: 0.9512 - val_custom_mse: 0.1260 - val_custom_mse_scaled: 0.1392 - val_gaussian_reconstruction_loss: 33.7877 - val_r_squared: -5.8416e-01 - val_r_squared_linreg: 0.1191 - lr: 0.0500 - 2s/epoch - 2s/step\n",
      "Epoch 2/10\n",
      "1/1 - 0s - loss: 33.9055 - custom_mae: 0.2851 - custom_mean_sd: 0.9512 - custom_mse: 0.1319 - custom_mse_scaled: 0.1458 - gaussian_reconstruction_loss: 33.9055 - r_squared: -6.2334e-01 - r_squared_linreg: 0.1120 - val_loss: 31.4673 - val_custom_mae: 0.2381 - val_custom_mean_sd: 0.9050 - val_custom_mse: 0.0901 - val_custom_mse_scaled: 0.1100 - val_gaussian_reconstruction_loss: 31.4673 - val_r_squared: -1.3071e-01 - val_r_squared_linreg: 0.2847 - lr: 0.0500 - 431ms/epoch - 431ms/step\n",
      "Epoch 3/10\n",
      "1/1 - 0s - loss: 31.4387 - custom_mae: 0.2351 - custom_mean_sd: 0.9050 - custom_mse: 0.0888 - custom_mse_scaled: 0.1084 - gaussian_reconstruction_loss: 31.4387 - r_squared: -8.2107e-02 - r_squared_linreg: 0.2926 - val_loss: 29.9447 - val_custom_mae: 0.2394 - val_custom_mean_sd: 0.8609 - val_custom_mse: 0.0929 - val_custom_mse_scaled: 0.1254 - val_gaussian_reconstruction_loss: 29.9447 - val_r_squared: -1.7366e-01 - val_r_squared_linreg: 0.3877 - lr: 0.0500 - 427ms/epoch - 427ms/step\n",
      "Epoch 4/10\n",
      "1/1 - 0s - loss: 29.9433 - custom_mae: 0.2394 - custom_mean_sd: 0.8609 - custom_mse: 0.0929 - custom_mse_scaled: 0.1253 - gaussian_reconstruction_loss: 29.9433 - r_squared: -1.1963e-01 - r_squared_linreg: 0.3929 - val_loss: 28.5962 - val_custom_mae: 0.2458 - val_custom_mean_sd: 0.8188 - val_custom_mse: 0.1010 - val_custom_mse_scaled: 0.1506 - val_gaussian_reconstruction_loss: 28.5962 - val_r_squared: -2.7471e-01 - val_r_squared_linreg: 0.4290 - lr: 0.0500 - 467ms/epoch - 467ms/step\n",
      "Epoch 5/10\n",
      "1/1 - 0s - loss: 28.4120 - custom_mae: 0.2394 - custom_mean_sd: 0.8188 - custom_mse: 0.0941 - custom_mse_scaled: 0.1403 - gaussian_reconstruction_loss: 28.4120 - r_squared: -1.5088e-01 - r_squared_linreg: 0.4485 - val_loss: 26.5636 - val_custom_mae: 0.2204 - val_custom_mean_sd: 0.7788 - val_custom_mse: 0.0837 - val_custom_mse_scaled: 0.1379 - val_gaussian_reconstruction_loss: 26.5636 - val_r_squared: -6.4395e-02 - val_r_squared_linreg: 0.4560 - lr: 0.0500 - 459ms/epoch - 459ms/step\n",
      "Epoch 6/10\n",
      "1/1 - 0s - loss: 26.5712 - custom_mae: 0.2216 - custom_mean_sd: 0.7788 - custom_mse: 0.0839 - custom_mse_scaled: 0.1383 - gaussian_reconstruction_loss: 26.5712 - r_squared: -1.9291e-02 - r_squared_linreg: 0.4463 - val_loss: 24.6592 - val_custom_mae: 0.2045 - val_custom_mean_sd: 0.7407 - val_custom_mse: 0.0726 - val_custom_mse_scaled: 0.1323 - val_gaussian_reconstruction_loss: 24.6592 - val_r_squared: 0.0930 - val_r_squared_linreg: 0.4191 - lr: 0.0500 - 424ms/epoch - 424ms/step\n",
      "Epoch 7/10\n",
      "1/1 - 0s - loss: 24.5749 - custom_mae: 0.2013 - custom_mean_sd: 0.7407 - custom_mse: 0.0701 - custom_mse_scaled: 0.1276 - gaussian_reconstruction_loss: 24.5749 - r_squared: 0.1563 - r_squared_linreg: 0.4380 - val_loss: 22.5878 - val_custom_mae: 0.1838 - val_custom_mean_sd: 0.7045 - val_custom_mse: 0.0584 - val_custom_mse_scaled: 0.1176 - val_gaussian_reconstruction_loss: 22.5878 - val_r_squared: 0.2519 - val_r_squared_linreg: 0.4334 - lr: 0.0500 - 468ms/epoch - 468ms/step\n",
      "Epoch 8/10\n",
      "1/1 - 0s - loss: 22.6404 - custom_mae: 0.1866 - custom_mean_sd: 0.7045 - custom_mse: 0.0598 - custom_mse_scaled: 0.1205 - gaussian_reconstruction_loss: 22.6404 - r_squared: 0.2780 - r_squared_linreg: 0.4423 - val_loss: 20.6723 - val_custom_mae: 0.1731 - val_custom_mean_sd: 0.6700 - val_custom_mse: 0.0501 - val_custom_mse_scaled: 0.1116 - val_gaussian_reconstruction_loss: 20.6723 - val_r_squared: 0.3625 - val_r_squared_linreg: 0.4563 - lr: 0.0500 - 416ms/epoch - 416ms/step\n",
      "Epoch 9/10\n",
      "1/1 - 0s - loss: 20.8032 - custom_mae: 0.1783 - custom_mean_sd: 0.6700 - custom_mse: 0.0534 - custom_mse_scaled: 0.1189 - gaussian_reconstruction_loss: 20.8032 - r_squared: 0.3451 - r_squared_linreg: 0.4440 - val_loss: 18.9948 - val_custom_mae: 0.1698 - val_custom_mean_sd: 0.6371 - val_custom_mse: 0.0483 - val_custom_mse_scaled: 0.1189 - val_gaussian_reconstruction_loss: 18.9948 - val_r_squared: 0.3968 - val_r_squared_linreg: 0.4572 - lr: 0.0500 - 377ms/epoch - 377ms/step\n",
      "Epoch 10/10\n",
      "1/1 - 0s - loss: 19.0132 - custom_mae: 0.1715 - custom_mean_sd: 0.6371 - custom_mse: 0.0487 - custom_mse_scaled: 0.1200 - gaussian_reconstruction_loss: 19.0132 - r_squared: 0.4104 - r_squared_linreg: 0.4703 - val_loss: 17.2560 - val_custom_mae: 0.1636 - val_custom_mean_sd: 0.6059 - val_custom_mse: 0.0451 - val_custom_mse_scaled: 0.1229 - val_gaussian_reconstruction_loss: 17.2560 - val_r_squared: 0.4317 - val_r_squared_linreg: 0.4722 - lr: 0.0500 - 371ms/epoch - 371ms/step\n",
      "\n",
      "-------------------------------------------------------------------------------------------------\n",
      "\n",
      "                                       REP: 6\n",
      "\n",
      "-------------------------------------------------------------------------------------------------\n",
      "\n",
      "Loading data from raw files\n",
      "registering celldata\n"
     ]
    },
    {
     "name": "stderr",
     "output_type": "stream",
     "text": [
      "/home/ifichtner/mambaforge/envs/squidpyTF/lib/python3.8/site-packages/ncem/data.py:2389: FutureWarning: X.dtype being converted to np.float32 from float64. In the next version of anndata (0.9) conversion will not be automatic. Pass dtype explicitly to avoid this warning. Pass `AnnData(X, dtype=X.dtype, ...)` to get the future behavour.\n",
      "  celldata = AnnData(\n",
      "/home/ifichtner/mambaforge/envs/squidpyTF/lib/python3.8/site-packages/anndata/_core/anndata.py:121: ImplicitModificationWarning: Transforming to str index.\n",
      "  warnings.warn(\"Transforming to str index.\", ImplicitModificationWarning)\n"
     ]
    },
    {
     "name": "stdout",
     "output_type": "stream",
     "text": [
      "collecting image-wise celldata\n",
      "adding graph-level covariates\n"
     ]
    },
    {
     "name": "stderr",
     "output_type": "stream",
     "text": [
      "100%|██████████| 58/58 [00:01<00:00, 51.59it/s]\n"
     ]
    },
    {
     "name": "stdout",
     "output_type": "stream",
     "text": [
      "Loaded 58 images with complete data from 4 patients over 63747 cells with 36 cell features and 8 distinct celltypes.\n",
      "Mean of mean node degree per images across images: 4.416036\n",
      "Using split method: node. \n",
      " Train-test-validation split is based on total number of nodes per patients over all images.\n",
      "\n",
      "Excluded 0 cells with the following unannotated cell type: [None] \n",
      "\n",
      "Whole dataset: 63747 cells out of 58 images from 4 patients.\n",
      "Test dataset: 6376 cells out of 58 images from 4 patients.\n",
      "Training dataset: 51930 cells out of 58 images from 4 patients.\n",
      "Validation dataset: 5738 cells out of 58 images from 4 patients. \n",
      "\n",
      "Epoch 1/10\n",
      "1/1 - 2s - loss: 38.9541 - custom_mae: 0.4684 - custom_mean_sd: 1.0000 - custom_mse: 0.3262 - custom_mse_scaled: 0.3262 - gaussian_reconstruction_loss: 38.9541 - r_squared: -2.9436e+00 - r_squared_linreg: 6.9774e-04 - val_loss: 34.1727 - val_custom_mae: 0.3001 - val_custom_mean_sd: 0.9512 - val_custom_mse: 0.1453 - val_custom_mse_scaled: 0.1606 - val_gaussian_reconstruction_loss: 34.1727 - val_r_squared: -8.3957e-01 - val_r_squared_linreg: 0.0578 - lr: 0.0500 - 2s/epoch - 2s/step\n",
      "Epoch 2/10\n",
      "1/1 - 0s - loss: 34.2697 - custom_mae: 0.3057 - custom_mean_sd: 0.9512 - custom_mse: 0.1502 - custom_mse_scaled: 0.1660 - gaussian_reconstruction_loss: 34.2697 - r_squared: -8.4870e-01 - r_squared_linreg: 0.0618 - val_loss: 31.5595 - val_custom_mae: 0.2433 - val_custom_mean_sd: 0.9051 - val_custom_mse: 0.0941 - val_custom_mse_scaled: 0.1149 - val_gaussian_reconstruction_loss: 31.5595 - val_r_squared: -1.8997e-01 - val_r_squared_linreg: 0.2134 - lr: 0.0500 - 397ms/epoch - 397ms/step\n",
      "Epoch 3/10\n",
      "1/1 - 0s - loss: 31.5600 - custom_mae: 0.2424 - custom_mean_sd: 0.9051 - custom_mse: 0.0941 - custom_mse_scaled: 0.1149 - gaussian_reconstruction_loss: 31.5600 - r_squared: -1.4652e-01 - r_squared_linreg: 0.2296 - val_loss: 30.0264 - val_custom_mae: 0.2437 - val_custom_mean_sd: 0.8611 - val_custom_mse: 0.0960 - val_custom_mse_scaled: 0.1294 - val_gaussian_reconstruction_loss: 30.0264 - val_r_squared: -2.0554e-01 - val_r_squared_linreg: 0.3564 - lr: 0.0500 - 427ms/epoch - 427ms/step\n",
      "Epoch 4/10\n",
      "1/1 - 0s - loss: 30.0183 - custom_mae: 0.2443 - custom_mean_sd: 0.8611 - custom_mse: 0.0956 - custom_mse_scaled: 0.1290 - gaussian_reconstruction_loss: 30.0183 - r_squared: -1.6304e-01 - r_squared_linreg: 0.3609 - val_loss: 28.5973 - val_custom_mae: 0.2450 - val_custom_mean_sd: 0.8191 - val_custom_mse: 0.1007 - val_custom_mse_scaled: 0.1500 - val_gaussian_reconstruction_loss: 28.5973 - val_r_squared: -2.5006e-01 - val_r_squared_linreg: 0.4353 - lr: 0.0500 - 408ms/epoch - 408ms/step\n",
      "Epoch 5/10\n",
      "1/1 - 0s - loss: 28.5870 - custom_mae: 0.2446 - custom_mean_sd: 0.8191 - custom_mse: 0.1003 - custom_mse_scaled: 0.1494 - gaussian_reconstruction_loss: 28.5870 - r_squared: -2.0898e-01 - r_squared_linreg: 0.4468 - val_loss: 26.8702 - val_custom_mae: 0.2314 - val_custom_mean_sd: 0.7791 - val_custom_mse: 0.0937 - val_custom_mse_scaled: 0.1542 - val_gaussian_reconstruction_loss: 26.8702 - val_r_squared: -1.8642e-01 - val_r_squared_linreg: 0.4683 - lr: 0.0500 - 386ms/epoch - 386ms/step\n",
      "Epoch 6/10\n",
      "1/1 - 0s - loss: 26.8951 - custom_mae: 0.2338 - custom_mean_sd: 0.7791 - custom_mse: 0.0945 - custom_mse_scaled: 0.1556 - gaussian_reconstruction_loss: 26.8951 - r_squared: -1.5708e-01 - r_squared_linreg: 0.4747 - val_loss: 24.8920 - val_custom_mae: 0.2121 - val_custom_mean_sd: 0.7410 - val_custom_mse: 0.0794 - val_custom_mse_scaled: 0.1445 - val_gaussian_reconstruction_loss: 24.8920 - val_r_squared: 0.0034 - val_r_squared_linreg: 0.4506 - lr: 0.0500 - 386ms/epoch - 386ms/step\n",
      "Epoch 7/10\n",
      "1/1 - 0s - loss: 24.7832 - custom_mae: 0.2094 - custom_mean_sd: 0.7410 - custom_mse: 0.0761 - custom_mse_scaled: 0.1384 - gaussian_reconstruction_loss: 24.7832 - r_squared: 0.0769 - r_squared_linreg: 0.4676 - val_loss: 22.8369 - val_custom_mae: 0.1933 - val_custom_mean_sd: 0.7048 - val_custom_mse: 0.0649 - val_custom_mse_scaled: 0.1306 - val_gaussian_reconstruction_loss: 22.8369 - val_r_squared: 0.1817 - val_r_squared_linreg: 0.4316 - lr: 0.0500 - 366ms/epoch - 366ms/step\n",
      "Epoch 8/10\n",
      "1/1 - 0s - loss: 22.8071 - custom_mae: 0.1918 - custom_mean_sd: 0.7048 - custom_mse: 0.0641 - custom_mse_scaled: 0.1290 - gaussian_reconstruction_loss: 22.8071 - r_squared: 0.2232 - r_squared_linreg: 0.4413 - val_loss: 20.9323 - val_custom_mae: 0.1825 - val_custom_mean_sd: 0.6702 - val_custom_mse: 0.0563 - val_custom_mse_scaled: 0.1253 - val_gaussian_reconstruction_loss: 20.9323 - val_r_squared: 0.2815 - val_r_squared_linreg: 0.4166 - lr: 0.0500 - 374ms/epoch - 374ms/step\n",
      "Epoch 9/10\n",
      "1/1 - 0s - loss: 20.9937 - custom_mae: 0.1846 - custom_mean_sd: 0.6702 - custom_mse: 0.0578 - custom_mse_scaled: 0.1287 - gaussian_reconstruction_loss: 20.9937 - r_squared: 0.2975 - r_squared_linreg: 0.4254 - val_loss: 19.1870 - val_custom_mae: 0.1780 - val_custom_mean_sd: 0.6374 - val_custom_mse: 0.0524 - val_custom_mse_scaled: 0.1289 - val_gaussian_reconstruction_loss: 19.1870 - val_r_squared: 0.3478 - val_r_squared_linreg: 0.4203 - lr: 0.0500 - 435ms/epoch - 435ms/step\n",
      "Epoch 10/10\n",
      "1/1 - 0s - loss: 19.1703 - custom_mae: 0.1779 - custom_mean_sd: 0.6374 - custom_mse: 0.0520 - custom_mse_scaled: 0.1279 - gaussian_reconstruction_loss: 19.1703 - r_squared: 0.3682 - r_squared_linreg: 0.4360 - val_loss: 17.5363 - val_custom_mae: 0.1754 - val_custom_mean_sd: 0.6061 - val_custom_mse: 0.0506 - val_custom_mse_scaled: 0.1378 - val_gaussian_reconstruction_loss: 17.5363 - val_r_squared: 0.3677 - val_r_squared_linreg: 0.4255 - lr: 0.0500 - 367ms/epoch - 367ms/step\n",
      "\n",
      "-------------------------------------------------------------------------------------------------\n",
      "\n",
      "                                       REP: 7\n",
      "\n",
      "-------------------------------------------------------------------------------------------------\n",
      "\n",
      "Loading data from raw files\n",
      "registering celldata\n"
     ]
    },
    {
     "name": "stderr",
     "output_type": "stream",
     "text": [
      "/home/ifichtner/mambaforge/envs/squidpyTF/lib/python3.8/site-packages/ncem/data.py:2389: FutureWarning: X.dtype being converted to np.float32 from float64. In the next version of anndata (0.9) conversion will not be automatic. Pass dtype explicitly to avoid this warning. Pass `AnnData(X, dtype=X.dtype, ...)` to get the future behavour.\n",
      "  celldata = AnnData(\n",
      "/home/ifichtner/mambaforge/envs/squidpyTF/lib/python3.8/site-packages/anndata/_core/anndata.py:121: ImplicitModificationWarning: Transforming to str index.\n",
      "  warnings.warn(\"Transforming to str index.\", ImplicitModificationWarning)\n"
     ]
    },
    {
     "name": "stdout",
     "output_type": "stream",
     "text": [
      "collecting image-wise celldata\n",
      "adding graph-level covariates\n"
     ]
    },
    {
     "name": "stderr",
     "output_type": "stream",
     "text": [
      "100%|██████████| 58/58 [00:01<00:00, 52.14it/s]\n"
     ]
    },
    {
     "name": "stdout",
     "output_type": "stream",
     "text": [
      "Loaded 58 images with complete data from 4 patients over 63747 cells with 36 cell features and 8 distinct celltypes.\n",
      "Mean of mean node degree per images across images: 4.416036\n",
      "Using split method: node. \n",
      " Train-test-validation split is based on total number of nodes per patients over all images.\n",
      "\n",
      "Excluded 0 cells with the following unannotated cell type: [None] \n",
      "\n",
      "Whole dataset: 63747 cells out of 58 images from 4 patients.\n",
      "Test dataset: 6376 cells out of 58 images from 4 patients.\n",
      "Training dataset: 51930 cells out of 58 images from 4 patients.\n",
      "Validation dataset: 5738 cells out of 58 images from 4 patients. \n",
      "\n",
      "Epoch 1/10\n",
      "1/1 - 1s - loss: 39.0470 - custom_mae: 0.4671 - custom_mean_sd: 1.0000 - custom_mse: 0.3314 - custom_mse_scaled: 0.3314 - gaussian_reconstruction_loss: 39.0470 - r_squared: -3.0060e+00 - r_squared_linreg: 7.9191e-04 - val_loss: 34.2743 - val_custom_mae: 0.3061 - val_custom_mean_sd: 0.9512 - val_custom_mse: 0.1504 - val_custom_mse_scaled: 0.1663 - val_gaussian_reconstruction_loss: 34.2743 - val_r_squared: -8.8662e-01 - val_r_squared_linreg: 0.0255 - lr: 0.0500 - 1s/epoch - 1s/step\n",
      "Epoch 2/10\n",
      "1/1 - 0s - loss: 34.3127 - custom_mae: 0.3086 - custom_mean_sd: 0.9512 - custom_mse: 0.1524 - custom_mse_scaled: 0.1684 - gaussian_reconstruction_loss: 34.3127 - r_squared: -8.7531e-01 - r_squared_linreg: 0.0306 - val_loss: 31.6459 - val_custom_mae: 0.2478 - val_custom_mean_sd: 0.9052 - val_custom_mse: 0.0978 - val_custom_mse_scaled: 0.1194 - val_gaussian_reconstruction_loss: 31.6459 - val_r_squared: -2.3977e-01 - val_r_squared_linreg: 0.1955 - lr: 0.0500 - 377ms/epoch - 377ms/step\n",
      "Epoch 3/10\n",
      "1/1 - 0s - loss: 31.6361 - custom_mae: 0.2472 - custom_mean_sd: 0.9052 - custom_mse: 0.0974 - custom_mse_scaled: 0.1188 - gaussian_reconstruction_loss: 31.6361 - r_squared: -1.8647e-01 - r_squared_linreg: 0.2037 - val_loss: 30.0938 - val_custom_mae: 0.2457 - val_custom_mean_sd: 0.8613 - val_custom_mse: 0.0984 - val_custom_mse_scaled: 0.1326 - val_gaussian_reconstruction_loss: 30.0938 - val_r_squared: -2.4042e-01 - val_r_squared_linreg: 0.3541 - lr: 0.0500 - 384ms/epoch - 384ms/step\n",
      "Epoch 4/10\n",
      "1/1 - 0s - loss: 30.0133 - custom_mae: 0.2410 - custom_mean_sd: 0.8613 - custom_mse: 0.0951 - custom_mse_scaled: 0.1282 - gaussian_reconstruction_loss: 30.0133 - r_squared: -1.5920e-01 - r_squared_linreg: 0.3695 - val_loss: 28.6058 - val_custom_mae: 0.2458 - val_custom_mean_sd: 0.8193 - val_custom_mse: 0.1007 - val_custom_mse_scaled: 0.1498 - val_gaussian_reconstruction_loss: 28.6058 - val_r_squared: -2.6709e-01 - val_r_squared_linreg: 0.4392 - lr: 0.0500 - 422ms/epoch - 422ms/step\n",
      "Epoch 5/10\n",
      "1/1 - 0s - loss: 28.6049 - custom_mae: 0.2449 - custom_mean_sd: 0.8193 - custom_mse: 0.1006 - custom_mse_scaled: 0.1498 - gaussian_reconstruction_loss: 28.6049 - r_squared: -2.2084e-01 - r_squared_linreg: 0.4410 - val_loss: 27.0417 - val_custom_mae: 0.2388 - val_custom_mean_sd: 0.7794 - val_custom_mse: 0.0992 - val_custom_mse_scaled: 0.1630 - val_gaussian_reconstruction_loss: 27.0417 - val_r_squared: -2.6955e-01 - val_r_squared_linreg: 0.4447 - lr: 0.0500 - 402ms/epoch - 402ms/step\n",
      "Epoch 6/10\n",
      "1/1 - 0s - loss: 26.8875 - custom_mae: 0.2337 - custom_mean_sd: 0.7794 - custom_mse: 0.0940 - custom_mse_scaled: 0.1544 - gaussian_reconstruction_loss: 26.8875 - r_squared: -1.4226e-01 - r_squared_linreg: 0.4661 - val_loss: 24.9120 - val_custom_mae: 0.2125 - val_custom_mean_sd: 0.7413 - val_custom_mse: 0.0797 - val_custom_mse_scaled: 0.1448 - val_gaussian_reconstruction_loss: 24.9120 - val_r_squared: -2.1070e-02 - val_r_squared_linreg: 0.4391 - lr: 0.0500 - 380ms/epoch - 380ms/step\n",
      "Epoch 7/10\n",
      "1/1 - 0s - loss: 24.9477 - custom_mae: 0.2151 - custom_mean_sd: 0.7413 - custom_mse: 0.0808 - custom_mse_scaled: 0.1468 - gaussian_reconstruction_loss: 24.9477 - r_squared: 0.0121 - r_squared_linreg: 0.4463 - val_loss: 22.9504 - val_custom_mae: 0.1970 - val_custom_mean_sd: 0.7051 - val_custom_mse: 0.0678 - val_custom_mse_scaled: 0.1360 - val_gaussian_reconstruction_loss: 22.9504 - val_r_squared: 0.1580 - val_r_squared_linreg: 0.4207 - lr: 0.0500 - 389ms/epoch - 389ms/step\n",
      "Epoch 8/10\n",
      "1/1 - 0s - loss: 22.8347 - custom_mae: 0.1943 - custom_mean_sd: 0.7051 - custom_mse: 0.0646 - custom_mse_scaled: 0.1296 - gaussian_reconstruction_loss: 22.8347 - r_squared: 0.2230 - r_squared_linreg: 0.4368 - val_loss: 21.0162 - val_custom_mae: 0.1850 - val_custom_mean_sd: 0.6706 - val_custom_mse: 0.0581 - val_custom_mse_scaled: 0.1290 - val_gaussian_reconstruction_loss: 21.0162 - val_r_squared: 0.2642 - val_r_squared_linreg: 0.4036 - lr: 0.0500 - 405ms/epoch - 405ms/step\n",
      "Epoch 9/10\n",
      "1/1 - 0s - loss: 20.9959 - custom_mae: 0.1854 - custom_mean_sd: 0.6706 - custom_mse: 0.0576 - custom_mse_scaled: 0.1278 - gaussian_reconstruction_loss: 20.9959 - r_squared: 0.2980 - r_squared_linreg: 0.4274 - val_loss: 19.2648 - val_custom_mae: 0.1792 - val_custom_mean_sd: 0.6377 - val_custom_mse: 0.0538 - val_custom_mse_scaled: 0.1322 - val_gaussian_reconstruction_loss: 19.2648 - val_r_squared: 0.3236 - val_r_squared_linreg: 0.4088 - lr: 0.0500 - 376ms/epoch - 376ms/step\n",
      "Epoch 10/10\n",
      "1/1 - 0s - loss: 19.3223 - custom_mae: 0.1819 - custom_mean_sd: 0.6377 - custom_mse: 0.0551 - custom_mse_scaled: 0.1354 - gaussian_reconstruction_loss: 19.3223 - r_squared: 0.3282 - r_squared_linreg: 0.4179 - val_loss: 17.6698 - val_custom_mae: 0.1763 - val_custom_mean_sd: 0.6064 - val_custom_mse: 0.0530 - val_custom_mse_scaled: 0.1441 - val_gaussian_reconstruction_loss: 17.6698 - val_r_squared: 0.3325 - val_r_squared_linreg: 0.4069 - lr: 0.0500 - 371ms/epoch - 371ms/step\n",
      "\n",
      "-------------------------------------------------------------------------------------------------\n",
      "\n",
      "                                       REP: 8\n",
      "\n",
      "-------------------------------------------------------------------------------------------------\n",
      "\n",
      "Loading data from raw files\n",
      "registering celldata\n"
     ]
    },
    {
     "name": "stderr",
     "output_type": "stream",
     "text": [
      "/home/ifichtner/mambaforge/envs/squidpyTF/lib/python3.8/site-packages/ncem/data.py:2389: FutureWarning: X.dtype being converted to np.float32 from float64. In the next version of anndata (0.9) conversion will not be automatic. Pass dtype explicitly to avoid this warning. Pass `AnnData(X, dtype=X.dtype, ...)` to get the future behavour.\n",
      "  celldata = AnnData(\n",
      "/home/ifichtner/mambaforge/envs/squidpyTF/lib/python3.8/site-packages/anndata/_core/anndata.py:121: ImplicitModificationWarning: Transforming to str index.\n",
      "  warnings.warn(\"Transforming to str index.\", ImplicitModificationWarning)\n"
     ]
    },
    {
     "name": "stdout",
     "output_type": "stream",
     "text": [
      "collecting image-wise celldata\n",
      "adding graph-level covariates\n"
     ]
    },
    {
     "name": "stderr",
     "output_type": "stream",
     "text": [
      "100%|██████████| 58/58 [00:01<00:00, 55.11it/s]\n"
     ]
    },
    {
     "name": "stdout",
     "output_type": "stream",
     "text": [
      "Loaded 58 images with complete data from 4 patients over 63747 cells with 36 cell features and 8 distinct celltypes.\n",
      "Mean of mean node degree per images across images: 4.416036\n",
      "Using split method: node. \n",
      " Train-test-validation split is based on total number of nodes per patients over all images.\n",
      "\n",
      "Excluded 0 cells with the following unannotated cell type: [None] \n",
      "\n",
      "Whole dataset: 63747 cells out of 58 images from 4 patients.\n",
      "Test dataset: 6376 cells out of 58 images from 4 patients.\n",
      "Training dataset: 51930 cells out of 58 images from 4 patients.\n",
      "Validation dataset: 5738 cells out of 58 images from 4 patients. \n",
      "\n",
      "Epoch 1/10\n",
      "1/1 - 2s - loss: 38.5388 - custom_mae: 0.4493 - custom_mean_sd: 1.0000 - custom_mse: 0.3032 - custom_mse_scaled: 0.3032 - gaussian_reconstruction_loss: 38.5388 - r_squared: -2.6648e+00 - r_squared_linreg: 9.6379e-04 - val_loss: 33.8686 - val_custom_mae: 0.2844 - val_custom_mean_sd: 0.9512 - val_custom_mse: 0.1300 - val_custom_mse_scaled: 0.1437 - val_gaussian_reconstruction_loss: 33.8686 - val_r_squared: -6.5417e-01 - val_r_squared_linreg: 0.0746 - lr: 0.0500 - 2s/epoch - 2s/step\n",
      "Epoch 2/10\n",
      "1/1 - 0s - loss: 34.0152 - custom_mae: 0.2925 - custom_mean_sd: 0.9512 - custom_mse: 0.1374 - custom_mse_scaled: 0.1519 - gaussian_reconstruction_loss: 34.0152 - r_squared: -6.9124e-01 - r_squared_linreg: 0.0707 - val_loss: 31.4694 - val_custom_mae: 0.2369 - val_custom_mean_sd: 0.9050 - val_custom_mse: 0.0901 - val_custom_mse_scaled: 0.1100 - val_gaussian_reconstruction_loss: 31.4694 - val_r_squared: -1.2775e-01 - val_r_squared_linreg: 0.2527 - lr: 0.0500 - 398ms/epoch - 398ms/step\n",
      "Epoch 3/10\n",
      "1/1 - 0s - loss: 31.4371 - custom_mae: 0.2357 - custom_mean_sd: 0.9050 - custom_mse: 0.0886 - custom_mse_scaled: 0.1082 - gaussian_reconstruction_loss: 31.4371 - r_squared: -7.9522e-02 - r_squared_linreg: 0.2625 - val_loss: 30.0227 - val_custom_mae: 0.2435 - val_custom_mean_sd: 0.8610 - val_custom_mse: 0.0960 - val_custom_mse_scaled: 0.1295 - val_gaussian_reconstruction_loss: 30.0227 - val_r_squared: -2.2401e-01 - val_r_squared_linreg: 0.3900 - lr: 0.0500 - 389ms/epoch - 389ms/step\n",
      "Epoch 4/10\n",
      "1/1 - 0s - loss: 29.9597 - custom_mae: 0.2396 - custom_mean_sd: 0.8610 - custom_mse: 0.0934 - custom_mse_scaled: 0.1260 - gaussian_reconstruction_loss: 29.9597 - r_squared: -1.1703e-01 - r_squared_linreg: 0.3876 - val_loss: 28.6652 - val_custom_mae: 0.2489 - val_custom_mean_sd: 0.8189 - val_custom_mse: 0.1034 - val_custom_mse_scaled: 0.1541 - val_gaussian_reconstruction_loss: 28.6652 - val_r_squared: -3.0233e-01 - val_r_squared_linreg: 0.4466 - lr: 0.0500 - 393ms/epoch - 393ms/step\n",
      "Epoch 5/10\n",
      "1/1 - 0s - loss: 28.4268 - custom_mae: 0.2390 - custom_mean_sd: 0.8189 - custom_mse: 0.0945 - custom_mse_scaled: 0.1409 - gaussian_reconstruction_loss: 28.4268 - r_squared: -1.4813e-01 - r_squared_linreg: 0.4491 - val_loss: 26.7860 - val_custom_mae: 0.2290 - val_custom_mean_sd: 0.7789 - val_custom_mse: 0.0910 - val_custom_mse_scaled: 0.1499 - val_gaussian_reconstruction_loss: 26.7860 - val_r_squared: -1.5897e-01 - val_r_squared_linreg: 0.4735 - lr: 0.0500 - 383ms/epoch - 383ms/step\n",
      "Epoch 6/10\n",
      "1/1 - 0s - loss: 26.7578 - custom_mae: 0.2296 - custom_mean_sd: 0.7789 - custom_mse: 0.0900 - custom_mse_scaled: 0.1483 - gaussian_reconstruction_loss: 26.7578 - r_squared: -7.9848e-02 - r_squared_linreg: 0.4601 - val_loss: 24.7470 - val_custom_mae: 0.2075 - val_custom_mean_sd: 0.7409 - val_custom_mse: 0.0752 - val_custom_mse_scaled: 0.1368 - val_gaussian_reconstruction_loss: 24.7470 - val_r_squared: 0.0461 - val_r_squared_linreg: 0.4571 - lr: 0.0500 - 384ms/epoch - 384ms/step\n",
      "Epoch 7/10\n",
      "1/1 - 0s - loss: 24.7371 - custom_mae: 0.2083 - custom_mean_sd: 0.7409 - custom_mse: 0.0748 - custom_mse_scaled: 0.1363 - gaussian_reconstruction_loss: 24.7371 - r_squared: 0.0934 - r_squared_linreg: 0.4522 - val_loss: 22.6075 - val_custom_mae: 0.1859 - val_custom_mean_sd: 0.7046 - val_custom_mse: 0.0587 - val_custom_mse_scaled: 0.1182 - val_gaussian_reconstruction_loss: 22.6075 - val_r_squared: 0.2545 - val_r_squared_linreg: 0.4339 - lr: 0.0500 - 365ms/epoch - 365ms/step\n",
      "Epoch 8/10\n",
      "1/1 - 0s - loss: 22.7028 - custom_mae: 0.1914 - custom_mean_sd: 0.7046 - custom_mse: 0.0614 - custom_mse_scaled: 0.1235 - gaussian_reconstruction_loss: 22.7028 - r_squared: 0.2659 - r_squared_linreg: 0.4375 - val_loss: 20.8094 - val_custom_mae: 0.1790 - val_custom_mean_sd: 0.6701 - val_custom_mse: 0.0533 - val_custom_mse_scaled: 0.1187 - val_gaussian_reconstruction_loss: 20.8094 - val_r_squared: 0.3194 - val_r_squared_linreg: 0.4132 - lr: 0.0500 - 378ms/epoch - 378ms/step\n",
      "Epoch 9/10\n",
      "1/1 - 0s - loss: 20.8792 - custom_mae: 0.1827 - custom_mean_sd: 0.6701 - custom_mse: 0.0551 - custom_mse_scaled: 0.1226 - gaussian_reconstruction_loss: 20.8792 - r_squared: 0.3251 - r_squared_linreg: 0.4170 - val_loss: 19.0844 - val_custom_mae: 0.1745 - val_custom_mean_sd: 0.6373 - val_custom_mse: 0.0501 - val_custom_mse_scaled: 0.1234 - val_gaussian_reconstruction_loss: 19.0844 - val_r_squared: 0.3605 - val_r_squared_linreg: 0.4203 - lr: 0.0500 - 386ms/epoch - 386ms/step\n",
      "Epoch 10/10\n",
      "1/1 - 0s - loss: 19.1600 - custom_mae: 0.1782 - custom_mean_sd: 0.6373 - custom_mse: 0.0518 - custom_mse_scaled: 0.1276 - gaussian_reconstruction_loss: 19.1600 - r_squared: 0.3693 - r_squared_linreg: 0.4335 - val_loss: 17.3138 - val_custom_mae: 0.1674 - val_custom_mean_sd: 0.6060 - val_custom_mse: 0.0461 - val_custom_mse_scaled: 0.1256 - val_gaussian_reconstruction_loss: 17.3138 - val_r_squared: 0.4162 - val_r_squared_linreg: 0.4564 - lr: 0.0500 - 370ms/epoch - 370ms/step\n",
      "\n",
      "-------------------------------------------------------------------------------------------------\n",
      "\n",
      "                                       REP: 9\n",
      "\n",
      "-------------------------------------------------------------------------------------------------\n",
      "\n",
      "Loading data from raw files\n",
      "registering celldata\n"
     ]
    },
    {
     "name": "stderr",
     "output_type": "stream",
     "text": [
      "/home/ifichtner/mambaforge/envs/squidpyTF/lib/python3.8/site-packages/ncem/data.py:2389: FutureWarning: X.dtype being converted to np.float32 from float64. In the next version of anndata (0.9) conversion will not be automatic. Pass dtype explicitly to avoid this warning. Pass `AnnData(X, dtype=X.dtype, ...)` to get the future behavour.\n",
      "  celldata = AnnData(\n",
      "/home/ifichtner/mambaforge/envs/squidpyTF/lib/python3.8/site-packages/anndata/_core/anndata.py:121: ImplicitModificationWarning: Transforming to str index.\n",
      "  warnings.warn(\"Transforming to str index.\", ImplicitModificationWarning)\n"
     ]
    },
    {
     "name": "stdout",
     "output_type": "stream",
     "text": [
      "collecting image-wise celldata\n",
      "adding graph-level covariates\n"
     ]
    },
    {
     "name": "stderr",
     "output_type": "stream",
     "text": [
      "100%|██████████| 58/58 [00:02<00:00, 23.91it/s]\n"
     ]
    },
    {
     "name": "stdout",
     "output_type": "stream",
     "text": [
      "Loaded 58 images with complete data from 4 patients over 63747 cells with 36 cell features and 8 distinct celltypes.\n",
      "Mean of mean node degree per images across images: 4.416036\n",
      "Using split method: node. \n",
      " Train-test-validation split is based on total number of nodes per patients over all images.\n",
      "\n",
      "Excluded 0 cells with the following unannotated cell type: [None] \n",
      "\n",
      "Whole dataset: 63747 cells out of 58 images from 4 patients.\n",
      "Test dataset: 6376 cells out of 58 images from 4 patients.\n",
      "Training dataset: 51930 cells out of 58 images from 4 patients.\n",
      "Validation dataset: 5738 cells out of 58 images from 4 patients. \n",
      "\n",
      "Epoch 1/10\n",
      "1/1 - 2s - loss: 39.2043 - custom_mae: 0.4773 - custom_mean_sd: 1.0000 - custom_mse: 0.3401 - custom_mse_scaled: 0.3401 - gaussian_reconstruction_loss: 39.2043 - r_squared: -3.1117e+00 - r_squared_linreg: 0.0016 - val_loss: 34.3316 - val_custom_mae: 0.3099 - val_custom_mean_sd: 0.9512 - val_custom_mse: 0.1533 - val_custom_mse_scaled: 0.1694 - val_gaussian_reconstruction_loss: 34.3316 - val_r_squared: -9.3600e-01 - val_r_squared_linreg: 0.0272 - lr: 0.0500 - 2s/epoch - 2s/step\n",
      "Epoch 2/10\n",
      "1/1 - 0s - loss: 34.4410 - custom_mae: 0.3164 - custom_mean_sd: 0.9512 - custom_mse: 0.1588 - custom_mse_scaled: 0.1755 - gaussian_reconstruction_loss: 34.4410 - r_squared: -9.5465e-01 - r_squared_linreg: 0.0290 - val_loss: 31.6896 - val_custom_mae: 0.2496 - val_custom_mean_sd: 0.9052 - val_custom_mse: 0.0998 - val_custom_mse_scaled: 0.1218 - val_gaussian_reconstruction_loss: 31.6896 - val_r_squared: -2.5426e-01 - val_r_squared_linreg: 0.1976 - lr: 0.0500 - 388ms/epoch - 388ms/step\n",
      "Epoch 3/10\n",
      "1/1 - 0s - loss: 31.6655 - custom_mae: 0.2484 - custom_mean_sd: 0.9052 - custom_mse: 0.0987 - custom_mse_scaled: 0.1204 - gaussian_reconstruction_loss: 31.6655 - r_squared: -2.0470e-01 - r_squared_linreg: 0.2048 - val_loss: 30.2100 - val_custom_mae: 0.2509 - val_custom_mean_sd: 0.8613 - val_custom_mse: 0.1032 - val_custom_mse_scaled: 0.1390 - val_gaussian_reconstruction_loss: 30.2100 - val_r_squared: -2.9942e-01 - val_r_squared_linreg: 0.3512 - lr: 0.0500 - 360ms/epoch - 360ms/step\n",
      "Epoch 4/10\n",
      "1/1 - 0s - loss: 30.0533 - custom_mae: 0.2430 - custom_mean_sd: 0.8613 - custom_mse: 0.0967 - custom_mse_scaled: 0.1303 - gaussian_reconstruction_loss: 30.0533 - r_squared: -1.7463e-01 - r_squared_linreg: 0.3620 - val_loss: 28.7921 - val_custom_mae: 0.2542 - val_custom_mean_sd: 0.8194 - val_custom_mse: 0.1076 - val_custom_mse_scaled: 0.1601 - val_gaussian_reconstruction_loss: 28.7921 - val_r_squared: -3.4906e-01 - val_r_squared_linreg: 0.4279 - lr: 0.0500 - 372ms/epoch - 372ms/step\n",
      "Epoch 5/10\n",
      "1/1 - 0s - loss: 28.8307 - custom_mae: 0.2559 - custom_mean_sd: 0.8194 - custom_mse: 0.1090 - custom_mse_scaled: 0.1623 - gaussian_reconstruction_loss: 28.8307 - r_squared: -3.2538e-01 - r_squared_linreg: 0.4410 - val_loss: 27.1755 - val_custom_mae: 0.2462 - val_custom_mean_sd: 0.7794 - val_custom_mse: 0.1036 - val_custom_mse_scaled: 0.1703 - val_gaussian_reconstruction_loss: 27.1755 - val_r_squared: -3.2131e-01 - val_r_squared_linreg: 0.4502 - lr: 0.0500 - 372ms/epoch - 372ms/step\n",
      "Epoch 6/10\n",
      "1/1 - 0s - loss: 26.9917 - custom_mae: 0.2390 - custom_mean_sd: 0.7794 - custom_mse: 0.0974 - custom_mse_scaled: 0.1601 - gaussian_reconstruction_loss: 26.9917 - r_squared: -1.8335e-01 - r_squared_linreg: 0.4583 - val_loss: 25.0024 - val_custom_mae: 0.2164 - val_custom_mean_sd: 0.7414 - val_custom_mse: 0.0824 - val_custom_mse_scaled: 0.1497 - val_gaussian_reconstruction_loss: 25.0024 - val_r_squared: -5.3844e-02 - val_r_squared_linreg: 0.4481 - lr: 0.0500 - 375ms/epoch - 375ms/step\n",
      "Epoch 7/10\n",
      "1/1 - 0s - loss: 25.0137 - custom_mae: 0.2197 - custom_mean_sd: 0.7414 - custom_mse: 0.0828 - custom_mse_scaled: 0.1503 - gaussian_reconstruction_loss: 25.0137 - r_squared: 0.0040 - r_squared_linreg: 0.4524 - val_loss: 23.0770 - val_custom_mae: 0.2025 - val_custom_mean_sd: 0.7051 - val_custom_mse: 0.0712 - val_custom_mse_scaled: 0.1429 - val_gaussian_reconstruction_loss: 23.0769 - val_r_squared: 0.1119 - val_r_squared_linreg: 0.4164 - lr: 0.0500 - 471ms/epoch - 471ms/step\n",
      "Epoch 8/10\n",
      "1/1 - 0s - loss: 22.9806 - custom_mae: 0.2002 - custom_mean_sd: 0.7051 - custom_mse: 0.0685 - custom_mse_scaled: 0.1375 - gaussian_reconstruction_loss: 22.9806 - r_squared: 0.1662 - r_squared_linreg: 0.4313 - val_loss: 21.0694 - val_custom_mae: 0.1877 - val_custom_mean_sd: 0.6706 - val_custom_mse: 0.0593 - val_custom_mse_scaled: 0.1317 - val_gaussian_reconstruction_loss: 21.0694 - val_r_squared: 0.2598 - val_r_squared_linreg: 0.4019 - lr: 0.0500 - 387ms/epoch - 387ms/step\n",
      "Epoch 9/10\n",
      "1/1 - 0s - loss: 21.0808 - custom_mae: 0.1900 - custom_mean_sd: 0.6706 - custom_mse: 0.0596 - custom_mse_scaled: 0.1324 - gaussian_reconstruction_loss: 21.0808 - r_squared: 0.2779 - r_squared_linreg: 0.4127 - val_loss: 19.2561 - val_custom_mae: 0.1803 - val_custom_mean_sd: 0.6378 - val_custom_mse: 0.0535 - val_custom_mse_scaled: 0.1315 - val_gaussian_reconstruction_loss: 19.2561 - val_r_squared: 0.3284 - val_r_squared_linreg: 0.4012 - lr: 0.0500 - 372ms/epoch - 372ms/step\n",
      "Epoch 10/10\n",
      "1/1 - 0s - loss: 19.3107 - custom_mae: 0.1838 - custom_mean_sd: 0.6378 - custom_mse: 0.0547 - custom_mse_scaled: 0.1345 - gaussian_reconstruction_loss: 19.3107 - r_squared: 0.3344 - r_squared_linreg: 0.4102 - val_loss: 17.5712 - val_custom_mae: 0.1756 - val_custom_mean_sd: 0.6065 - val_custom_mse: 0.0510 - val_custom_mse_scaled: 0.1385 - val_gaussian_reconstruction_loss: 17.5712 - val_r_squared: 0.3609 - val_r_squared_linreg: 0.4164 - lr: 0.0500 - 368ms/epoch - 368ms/step\n",
      "\n",
      "-------------------------------------------------------------------------------------------------\n",
      "\n",
      "                                       REP: 10\n",
      "\n",
      "-------------------------------------------------------------------------------------------------\n",
      "\n",
      "Loading data from raw files\n",
      "registering celldata\n"
     ]
    },
    {
     "name": "stderr",
     "output_type": "stream",
     "text": [
      "/home/ifichtner/mambaforge/envs/squidpyTF/lib/python3.8/site-packages/ncem/data.py:2389: FutureWarning: X.dtype being converted to np.float32 from float64. In the next version of anndata (0.9) conversion will not be automatic. Pass dtype explicitly to avoid this warning. Pass `AnnData(X, dtype=X.dtype, ...)` to get the future behavour.\n",
      "  celldata = AnnData(\n",
      "/home/ifichtner/mambaforge/envs/squidpyTF/lib/python3.8/site-packages/anndata/_core/anndata.py:121: ImplicitModificationWarning: Transforming to str index.\n",
      "  warnings.warn(\"Transforming to str index.\", ImplicitModificationWarning)\n"
     ]
    },
    {
     "name": "stdout",
     "output_type": "stream",
     "text": [
      "collecting image-wise celldata\n",
      "adding graph-level covariates\n"
     ]
    },
    {
     "name": "stderr",
     "output_type": "stream",
     "text": [
      "100%|██████████| 58/58 [00:01<00:00, 54.29it/s]\n"
     ]
    },
    {
     "name": "stdout",
     "output_type": "stream",
     "text": [
      "Loaded 58 images with complete data from 4 patients over 63747 cells with 36 cell features and 8 distinct celltypes.\n",
      "Mean of mean node degree per images across images: 4.416036\n",
      "Using split method: node. \n",
      " Train-test-validation split is based on total number of nodes per patients over all images.\n",
      "\n",
      "Excluded 0 cells with the following unannotated cell type: [None] \n",
      "\n",
      "Whole dataset: 63747 cells out of 58 images from 4 patients.\n",
      "Test dataset: 6376 cells out of 58 images from 4 patients.\n",
      "Training dataset: 51930 cells out of 58 images from 4 patients.\n",
      "Validation dataset: 5738 cells out of 58 images from 4 patients. \n",
      "\n",
      "Epoch 1/10\n",
      "1/1 - 1s - loss: 39.0248 - custom_mae: 0.4704 - custom_mean_sd: 1.0000 - custom_mse: 0.3302 - custom_mse_scaled: 0.3302 - gaussian_reconstruction_loss: 39.0248 - r_squared: -2.9911e+00 - r_squared_linreg: 1.7460e-04 - val_loss: 34.0916 - val_custom_mae: 0.2996 - val_custom_mean_sd: 0.9512 - val_custom_mse: 0.1412 - val_custom_mse_scaled: 0.1561 - val_gaussian_reconstruction_loss: 34.0916 - val_r_squared: -7.9086e-01 - val_r_squared_linreg: 0.0557 - lr: 0.0500 - 1s/epoch - 1s/step\n",
      "Epoch 2/10\n",
      "1/1 - 0s - loss: 34.2857 - custom_mae: 0.3088 - custom_mean_sd: 0.9512 - custom_mse: 0.1510 - custom_mse_scaled: 0.1669 - gaussian_reconstruction_loss: 34.2857 - r_squared: -8.5858e-01 - r_squared_linreg: 0.0493 - val_loss: 31.6580 - val_custom_mae: 0.2496 - val_custom_mean_sd: 0.9051 - val_custom_mse: 0.0986 - val_custom_mse_scaled: 0.1203 - val_gaussian_reconstruction_loss: 31.6580 - val_r_squared: -2.3959e-01 - val_r_squared_linreg: 0.2170 - lr: 0.0500 - 369ms/epoch - 369ms/step\n",
      "Epoch 3/10\n",
      "1/1 - 0s - loss: 31.6230 - custom_mae: 0.2478 - custom_mean_sd: 0.9051 - custom_mse: 0.0970 - custom_mse_scaled: 0.1184 - gaussian_reconstruction_loss: 31.6230 - r_squared: -1.8081e-01 - r_squared_linreg: 0.2238 - val_loss: 30.1640 - val_custom_mae: 0.2503 - val_custom_mean_sd: 0.8611 - val_custom_mse: 0.1016 - val_custom_mse_scaled: 0.1370 - val_gaussian_reconstruction_loss: 30.1640 - val_r_squared: -2.9318e-01 - val_r_squared_linreg: 0.3553 - lr: 0.0500 - 366ms/epoch - 366ms/step\n",
      "Epoch 4/10\n",
      "1/1 - 0s - loss: 30.0447 - custom_mae: 0.2438 - custom_mean_sd: 0.8611 - custom_mse: 0.0967 - custom_mse_scaled: 0.1304 - gaussian_reconstruction_loss: 30.0447 - r_squared: -1.7184e-01 - r_squared_linreg: 0.3661 - val_loss: 28.8083 - val_custom_mae: 0.2562 - val_custom_mean_sd: 0.8191 - val_custom_mse: 0.1086 - val_custom_mse_scaled: 0.1617 - val_gaussian_reconstruction_loss: 28.8083 - val_r_squared: -3.7030e-01 - val_r_squared_linreg: 0.4276 - lr: 0.0500 - 380ms/epoch - 380ms/step\n",
      "Epoch 5/10\n",
      "1/1 - 0s - loss: 28.7655 - custom_mae: 0.2542 - custom_mean_sd: 0.8191 - custom_mse: 0.1070 - custom_mse_scaled: 0.1593 - gaussian_reconstruction_loss: 28.7655 - r_squared: -2.9634e-01 - r_squared_linreg: 0.4364 - val_loss: 27.0330 - val_custom_mae: 0.2406 - val_custom_mean_sd: 0.7791 - val_custom_mse: 0.0992 - val_custom_mse_scaled: 0.1632 - val_gaussian_reconstruction_loss: 27.0330 - val_r_squared: -2.4736e-01 - val_r_squared_linreg: 0.4451 - lr: 0.0500 - 366ms/epoch - 366ms/step\n",
      "Epoch 6/10\n",
      "1/1 - 0s - loss: 27.0350 - custom_mae: 0.2416 - custom_mean_sd: 0.7791 - custom_mse: 0.0992 - custom_mse_scaled: 0.1633 - gaussian_reconstruction_loss: 27.0350 - r_squared: -2.0095e-01 - r_squared_linreg: 0.4518 - val_loss: 24.9398 - val_custom_mae: 0.2169 - val_custom_mean_sd: 0.7410 - val_custom_mse: 0.0809 - val_custom_mse_scaled: 0.1471 - val_gaussian_reconstruction_loss: 24.9398 - val_r_squared: -1.9588e-02 - val_r_squared_linreg: 0.4286 - lr: 0.0500 - 360ms/epoch - 360ms/step\n",
      "Epoch 7/10\n",
      "1/1 - 0s - loss: 24.8804 - custom_mae: 0.2153 - custom_mean_sd: 0.7410 - custom_mse: 0.0790 - custom_mse_scaled: 0.1438 - gaussian_reconstruction_loss: 24.8804 - r_squared: 0.0308 - r_squared_linreg: 0.4420 - val_loss: 22.9233 - val_custom_mae: 0.2006 - val_custom_mean_sd: 0.7048 - val_custom_mse: 0.0673 - val_custom_mse_scaled: 0.1353 - val_gaussian_reconstruction_loss: 22.9233 - val_r_squared: 0.1558 - val_r_squared_linreg: 0.4115 - lr: 0.0500 - 362ms/epoch - 362ms/step\n",
      "Epoch 8/10\n",
      "1/1 - 0s - loss: 22.8945 - custom_mae: 0.1996 - custom_mean_sd: 0.7048 - custom_mse: 0.0665 - custom_mse_scaled: 0.1337 - gaussian_reconstruction_loss: 22.8945 - r_squared: 0.1842 - r_squared_linreg: 0.4209 - val_loss: 21.0336 - val_custom_mae: 0.1894 - val_custom_mean_sd: 0.6703 - val_custom_mse: 0.0588 - val_custom_mse_scaled: 0.1307 - val_gaussian_reconstruction_loss: 21.0336 - val_r_squared: 0.2590 - val_r_squared_linreg: 0.4003 - lr: 0.0500 - 374ms/epoch - 374ms/step\n",
      "Epoch 9/10\n",
      "1/1 - 0s - loss: 21.0192 - custom_mae: 0.1887 - custom_mean_sd: 0.6703 - custom_mse: 0.0584 - custom_mse_scaled: 0.1300 - gaussian_reconstruction_loss: 21.0192 - r_squared: 0.2948 - r_squared_linreg: 0.4116 - val_loss: 19.2420 - val_custom_mae: 0.1807 - val_custom_mean_sd: 0.6374 - val_custom_mse: 0.0536 - val_custom_mse_scaled: 0.1318 - val_gaussian_reconstruction_loss: 19.2420 - val_r_squared: 0.3178 - val_r_squared_linreg: 0.3988 - lr: 0.0500 - 384ms/epoch - 384ms/step\n",
      "Epoch 10/10\n",
      "1/1 - 0s - loss: 19.2428 - custom_mae: 0.1807 - custom_mean_sd: 0.6374 - custom_mse: 0.0536 - custom_mse_scaled: 0.1318 - gaussian_reconstruction_loss: 19.2428 - r_squared: 0.3397 - r_squared_linreg: 0.4203 - val_loss: 17.6043 - val_custom_mae: 0.1769 - val_custom_mean_sd: 0.6061 - val_custom_mse: 0.0520 - val_custom_mse_scaled: 0.1414 - val_gaussian_reconstruction_loss: 17.6043 - val_r_squared: 0.3470 - val_r_squared_linreg: 0.4089 - lr: 0.0500 - 355ms/epoch - 355ms/step\n",
      "\n",
      "-------------------------------------------------------------------------------------------------\n",
      "\n",
      "                                       REP: 11\n",
      "\n",
      "-------------------------------------------------------------------------------------------------\n",
      "\n",
      "Loading data from raw files\n",
      "registering celldata\n"
     ]
    },
    {
     "name": "stderr",
     "output_type": "stream",
     "text": [
      "/home/ifichtner/mambaforge/envs/squidpyTF/lib/python3.8/site-packages/ncem/data.py:2389: FutureWarning: X.dtype being converted to np.float32 from float64. In the next version of anndata (0.9) conversion will not be automatic. Pass dtype explicitly to avoid this warning. Pass `AnnData(X, dtype=X.dtype, ...)` to get the future behavour.\n",
      "  celldata = AnnData(\n",
      "/home/ifichtner/mambaforge/envs/squidpyTF/lib/python3.8/site-packages/anndata/_core/anndata.py:121: ImplicitModificationWarning: Transforming to str index.\n",
      "  warnings.warn(\"Transforming to str index.\", ImplicitModificationWarning)\n"
     ]
    },
    {
     "name": "stdout",
     "output_type": "stream",
     "text": [
      "collecting image-wise celldata\n",
      "adding graph-level covariates\n"
     ]
    },
    {
     "name": "stderr",
     "output_type": "stream",
     "text": [
      "100%|██████████| 58/58 [00:01<00:00, 51.56it/s]\n"
     ]
    },
    {
     "name": "stdout",
     "output_type": "stream",
     "text": [
      "Loaded 58 images with complete data from 4 patients over 63747 cells with 36 cell features and 8 distinct celltypes.\n",
      "Mean of mean node degree per images across images: 4.416036\n",
      "Using split method: node. \n",
      " Train-test-validation split is based on total number of nodes per patients over all images.\n",
      "\n",
      "Excluded 0 cells with the following unannotated cell type: [None] \n",
      "\n",
      "Whole dataset: 63747 cells out of 58 images from 4 patients.\n",
      "Test dataset: 6376 cells out of 58 images from 4 patients.\n",
      "Training dataset: 51930 cells out of 58 images from 4 patients.\n",
      "Validation dataset: 5738 cells out of 58 images from 4 patients. \n",
      "\n",
      "Epoch 1/10\n",
      "1/1 - 1s - loss: 38.4840 - custom_mae: 0.4460 - custom_mean_sd: 1.0000 - custom_mse: 0.3001 - custom_mse_scaled: 0.3001 - gaussian_reconstruction_loss: 38.4840 - r_squared: -2.6279e+00 - r_squared_linreg: 2.5460e-04 - val_loss: 33.8765 - val_custom_mae: 0.2855 - val_custom_mean_sd: 0.9512 - val_custom_mse: 0.1304 - val_custom_mse_scaled: 0.1442 - val_gaussian_reconstruction_loss: 33.8765 - val_r_squared: -6.5811e-01 - val_r_squared_linreg: 0.0876 - lr: 0.0500 - 1s/epoch - 1s/step\n",
      "Epoch 2/10\n",
      "1/1 - 0s - loss: 34.0080 - custom_mae: 0.2913 - custom_mean_sd: 0.9512 - custom_mse: 0.1370 - custom_mse_scaled: 0.1515 - gaussian_reconstruction_loss: 34.0080 - r_squared: -6.8675e-01 - r_squared_linreg: 0.0831 - val_loss: 31.5970 - val_custom_mae: 0.2439 - val_custom_mean_sd: 0.9050 - val_custom_mse: 0.0959 - val_custom_mse_scaled: 0.1171 - val_gaussian_reconstruction_loss: 31.5970 - val_r_squared: -2.1461e-01 - val_r_squared_linreg: 0.2619 - lr: 0.0500 - 374ms/epoch - 374ms/step\n",
      "Epoch 3/10\n",
      "1/1 - 0s - loss: 31.5833 - custom_mae: 0.2429 - custom_mean_sd: 0.9050 - custom_mse: 0.0953 - custom_mse_scaled: 0.1164 - gaussian_reconstruction_loss: 31.5833 - r_squared: -1.6077e-01 - r_squared_linreg: 0.2631 - val_loss: 30.0362 - val_custom_mae: 0.2426 - val_custom_mean_sd: 0.8609 - val_custom_mse: 0.0966 - val_custom_mse_scaled: 0.1303 - val_gaussian_reconstruction_loss: 30.0362 - val_r_squared: -2.3821e-01 - val_r_squared_linreg: 0.3789 - lr: 0.0500 - 359ms/epoch - 359ms/step\n",
      "Epoch 4/10\n",
      "1/1 - 0s - loss: 30.1148 - custom_mae: 0.2480 - custom_mean_sd: 0.8609 - custom_mse: 0.0998 - custom_mse_scaled: 0.1346 - gaussian_reconstruction_loss: 30.1148 - r_squared: -1.9345e-01 - r_squared_linreg: 0.3834 - val_loss: 28.6649 - val_custom_mae: 0.2483 - val_custom_mean_sd: 0.8189 - val_custom_mse: 0.1034 - val_custom_mse_scaled: 0.1542 - val_gaussian_reconstruction_loss: 28.6649 - val_r_squared: -3.2411e-01 - val_r_squared_linreg: 0.4173 - lr: 0.0500 - 374ms/epoch - 374ms/step\n",
      "Epoch 5/10\n",
      "1/1 - 0s - loss: 28.6264 - custom_mae: 0.2471 - custom_mean_sd: 0.8189 - custom_mse: 0.1020 - custom_mse_scaled: 0.1520 - gaussian_reconstruction_loss: 28.6264 - r_squared: -2.4839e-01 - r_squared_linreg: 0.4196 - val_loss: 26.7925 - val_custom_mae: 0.2294 - val_custom_mean_sd: 0.7789 - val_custom_mse: 0.0912 - val_custom_mse_scaled: 0.1503 - val_gaussian_reconstruction_loss: 26.7925 - val_r_squared: -1.5384e-01 - val_r_squared_linreg: 0.4118 - lr: 0.0500 - 371ms/epoch - 371ms/step\n",
      "Epoch 6/10\n",
      "1/1 - 0s - loss: 26.6967 - custom_mae: 0.2285 - custom_mean_sd: 0.7789 - custom_mse: 0.0880 - custom_mse_scaled: 0.1450 - gaussian_reconstruction_loss: 26.6967 - r_squared: -6.6633e-02 - r_squared_linreg: 0.4312 - val_loss: 24.7188 - val_custom_mae: 0.2066 - val_custom_mean_sd: 0.7409 - val_custom_mse: 0.0743 - val_custom_mse_scaled: 0.1353 - val_gaussian_reconstruction_loss: 24.7188 - val_r_squared: 0.0644 - val_r_squared_linreg: 0.4218 - lr: 0.0500 - 360ms/epoch - 360ms/step\n",
      "Epoch 7/10\n",
      "1/1 - 0s - loss: 24.6657 - custom_mae: 0.2062 - custom_mean_sd: 0.7409 - custom_mse: 0.0727 - custom_mse_scaled: 0.1324 - gaussian_reconstruction_loss: 24.6657 - r_squared: 0.1281 - r_squared_linreg: 0.4313 - val_loss: 22.6651 - val_custom_mae: 0.1875 - val_custom_mean_sd: 0.7046 - val_custom_mse: 0.0604 - val_custom_mse_scaled: 0.1216 - val_gaussian_reconstruction_loss: 22.6651 - val_r_squared: 0.2410 - val_r_squared_linreg: 0.4222 - lr: 0.0500 - 368ms/epoch - 368ms/step\n",
      "Epoch 8/10\n",
      "1/1 - 0s - loss: 22.7575 - custom_mae: 0.1932 - custom_mean_sd: 0.7046 - custom_mse: 0.0629 - custom_mse_scaled: 0.1267 - gaussian_reconstruction_loss: 22.7575 - r_squared: 0.2381 - r_squared_linreg: 0.4212 - val_loss: 20.8687 - val_custom_mae: 0.1803 - val_custom_mean_sd: 0.6701 - val_custom_mse: 0.0549 - val_custom_mse_scaled: 0.1222 - val_gaussian_reconstruction_loss: 20.8687 - val_r_squared: 0.3035 - val_r_squared_linreg: 0.4206 - lr: 0.0500 - 374ms/epoch - 374ms/step\n",
      "Epoch 9/10\n",
      "1/1 - 0s - loss: 20.9498 - custom_mae: 0.1833 - custom_mean_sd: 0.6701 - custom_mse: 0.0569 - custom_mse_scaled: 0.1267 - gaussian_reconstruction_loss: 20.9498 - r_squared: 0.3036 - r_squared_linreg: 0.4154 - val_loss: 19.1757 - val_custom_mae: 0.1767 - val_custom_mean_sd: 0.6372 - val_custom_mse: 0.0523 - val_custom_mse_scaled: 0.1287 - val_gaussian_reconstruction_loss: 19.1757 - val_r_squared: 0.3393 - val_r_squared_linreg: 0.4138 - lr: 0.0500 - 362ms/epoch - 362ms/step\n",
      "Epoch 10/10\n",
      "1/1 - 0s - loss: 19.2092 - custom_mae: 0.1781 - custom_mean_sd: 0.6372 - custom_mse: 0.0530 - custom_mse_scaled: 0.1306 - gaussian_reconstruction_loss: 19.2092 - r_squared: 0.3458 - r_squared_linreg: 0.4216 - val_loss: 17.4009 - val_custom_mae: 0.1700 - val_custom_mean_sd: 0.6060 - val_custom_mse: 0.0480 - val_custom_mse_scaled: 0.1307 - val_gaussian_reconstruction_loss: 17.4009 - val_r_squared: 0.3956 - val_r_squared_linreg: 0.4389 - lr: 0.0500 - 362ms/epoch - 362ms/step\n",
      "\n",
      "-------------------------------------------------------------------------------------------------\n",
      "\n",
      "                                       REP: 12\n",
      "\n",
      "-------------------------------------------------------------------------------------------------\n",
      "\n",
      "Loading data from raw files\n",
      "registering celldata\n"
     ]
    },
    {
     "name": "stderr",
     "output_type": "stream",
     "text": [
      "/home/ifichtner/mambaforge/envs/squidpyTF/lib/python3.8/site-packages/ncem/data.py:2389: FutureWarning: X.dtype being converted to np.float32 from float64. In the next version of anndata (0.9) conversion will not be automatic. Pass dtype explicitly to avoid this warning. Pass `AnnData(X, dtype=X.dtype, ...)` to get the future behavour.\n",
      "  celldata = AnnData(\n",
      "/home/ifichtner/mambaforge/envs/squidpyTF/lib/python3.8/site-packages/anndata/_core/anndata.py:121: ImplicitModificationWarning: Transforming to str index.\n",
      "  warnings.warn(\"Transforming to str index.\", ImplicitModificationWarning)\n"
     ]
    },
    {
     "name": "stdout",
     "output_type": "stream",
     "text": [
      "collecting image-wise celldata\n",
      "adding graph-level covariates\n"
     ]
    },
    {
     "name": "stderr",
     "output_type": "stream",
     "text": [
      "100%|██████████| 58/58 [00:01<00:00, 53.56it/s]\n"
     ]
    },
    {
     "name": "stdout",
     "output_type": "stream",
     "text": [
      "Loaded 58 images with complete data from 4 patients over 63747 cells with 36 cell features and 8 distinct celltypes.\n",
      "Mean of mean node degree per images across images: 4.416036\n",
      "Using split method: node. \n",
      " Train-test-validation split is based on total number of nodes per patients over all images.\n",
      "\n",
      "Excluded 0 cells with the following unannotated cell type: [None] \n",
      "\n",
      "Whole dataset: 63747 cells out of 58 images from 4 patients.\n",
      "Test dataset: 6376 cells out of 58 images from 4 patients.\n",
      "Training dataset: 51930 cells out of 58 images from 4 patients.\n",
      "Validation dataset: 5738 cells out of 58 images from 4 patients. \n",
      "\n",
      "Epoch 1/10\n",
      "1/1 - 1s - loss: 38.8576 - custom_mae: 0.4641 - custom_mean_sd: 1.0000 - custom_mse: 0.3209 - custom_mse_scaled: 0.3209 - gaussian_reconstruction_loss: 38.8576 - r_squared: -2.8788e+00 - r_squared_linreg: 0.0046 - val_loss: 34.0576 - val_custom_mae: 0.2975 - val_custom_mean_sd: 0.9512 - val_custom_mse: 0.1395 - val_custom_mse_scaled: 0.1542 - val_gaussian_reconstruction_loss: 34.0576 - val_r_squared: -7.6379e-01 - val_r_squared_linreg: 0.0440 - lr: 0.0500 - 1s/epoch - 1s/step\n",
      "Epoch 2/10\n",
      "1/1 - 0s - loss: 34.1724 - custom_mae: 0.3025 - custom_mean_sd: 0.9512 - custom_mse: 0.1453 - custom_mse_scaled: 0.1606 - gaussian_reconstruction_loss: 34.1724 - r_squared: -7.8848e-01 - r_squared_linreg: 0.0484 - val_loss: 31.6097 - val_custom_mae: 0.2465 - val_custom_mean_sd: 0.9051 - val_custom_mse: 0.0964 - val_custom_mse_scaled: 0.1177 - val_gaussian_reconstruction_loss: 31.6097 - val_r_squared: -2.1902e-01 - val_r_squared_linreg: 0.1960 - lr: 0.0500 - 379ms/epoch - 379ms/step\n",
      "Epoch 3/10\n",
      "1/1 - 0s - loss: 31.5802 - custom_mae: 0.2455 - custom_mean_sd: 0.9051 - custom_mse: 0.0951 - custom_mse_scaled: 0.1160 - gaussian_reconstruction_loss: 31.5802 - r_squared: -1.5792e-01 - r_squared_linreg: 0.2216 - val_loss: 30.2318 - val_custom_mae: 0.2563 - val_custom_mean_sd: 0.8610 - val_custom_mse: 0.1045 - val_custom_mse_scaled: 0.1409 - val_gaussian_reconstruction_loss: 30.2318 - val_r_squared: -3.2613e-01 - val_r_squared_linreg: 0.3577 - lr: 0.0500 - 341ms/epoch - 341ms/step\n",
      "Epoch 4/10\n",
      "1/1 - 0s - loss: 30.1518 - custom_mae: 0.2517 - custom_mean_sd: 0.8610 - custom_mse: 0.1012 - custom_mse_scaled: 0.1365 - gaussian_reconstruction_loss: 30.1518 - r_squared: -2.1734e-01 - r_squared_linreg: 0.3549 - val_loss: 28.7422 - val_custom_mae: 0.2539 - val_custom_mean_sd: 0.8190 - val_custom_mse: 0.1062 - val_custom_mse_scaled: 0.1582 - val_gaussian_reconstruction_loss: 28.7422 - val_r_squared: -3.5962e-01 - val_r_squared_linreg: 0.4197 - lr: 0.0500 - 348ms/epoch - 348ms/step\n",
      "Epoch 5/10\n",
      "1/1 - 0s - loss: 28.6132 - custom_mae: 0.2475 - custom_mean_sd: 0.8190 - custom_mse: 0.1014 - custom_mse_scaled: 0.1510 - gaussian_reconstruction_loss: 28.6132 - r_squared: -2.4216e-01 - r_squared_linreg: 0.4324 - val_loss: 26.7962 - val_custom_mae: 0.2305 - val_custom_mean_sd: 0.7790 - val_custom_mse: 0.0912 - val_custom_mse_scaled: 0.1502 - val_gaussian_reconstruction_loss: 26.7962 - val_r_squared: -1.4127e-01 - val_r_squared_linreg: 0.4372 - lr: 0.0500 - 364ms/epoch - 364ms/step\n",
      "Epoch 6/10\n",
      "1/1 - 0s - loss: 26.8922 - custom_mae: 0.2349 - custom_mean_sd: 0.7790 - custom_mse: 0.0945 - custom_mse_scaled: 0.1556 - gaussian_reconstruction_loss: 26.8922 - r_squared: -1.4832e-01 - r_squared_linreg: 0.4399 - val_loss: 24.7472 - val_custom_mae: 0.2066 - val_custom_mean_sd: 0.7410 - val_custom_mse: 0.0751 - val_custom_mse_scaled: 0.1366 - val_gaussian_reconstruction_loss: 24.7472 - val_r_squared: 0.0458 - val_r_squared_linreg: 0.4411 - lr: 0.0500 - 366ms/epoch - 366ms/step\n",
      "Epoch 7/10\n",
      "1/1 - 0s - loss: 24.8826 - custom_mae: 0.2149 - custom_mean_sd: 0.7410 - custom_mse: 0.0792 - custom_mse_scaled: 0.1441 - gaussian_reconstruction_loss: 24.8826 - r_squared: 0.0378 - r_squared_linreg: 0.4415 - val_loss: 22.8231 - val_custom_mae: 0.1951 - val_custom_mean_sd: 0.7047 - val_custom_mse: 0.0646 - val_custom_mse_scaled: 0.1300 - val_gaussian_reconstruction_loss: 22.8231 - val_r_squared: 0.1826 - val_r_squared_linreg: 0.4147 - lr: 0.0500 - 362ms/epoch - 362ms/step\n",
      "Epoch 8/10\n",
      "1/1 - 0s - loss: 22.7889 - custom_mae: 0.1942 - custom_mean_sd: 0.7047 - custom_mse: 0.0637 - custom_mse_scaled: 0.1281 - gaussian_reconstruction_loss: 22.7889 - r_squared: 0.2165 - r_squared_linreg: 0.4234 - val_loss: 20.9117 - val_custom_mae: 0.1833 - val_custom_mean_sd: 0.6702 - val_custom_mse: 0.0558 - val_custom_mse_scaled: 0.1243 - val_gaussian_reconstruction_loss: 20.9117 - val_r_squared: 0.2939 - val_r_squared_linreg: 0.4045 - lr: 0.0500 - 359ms/epoch - 359ms/step\n",
      "Epoch 9/10\n",
      "1/1 - 0s - loss: 21.0570 - custom_mae: 0.1891 - custom_mean_sd: 0.6702 - custom_mse: 0.0595 - custom_mse_scaled: 0.1323 - gaussian_reconstruction_loss: 21.0570 - r_squared: 0.2805 - r_squared_linreg: 0.3949 - val_loss: 19.2991 - val_custom_mae: 0.1834 - val_custom_mean_sd: 0.6373 - val_custom_mse: 0.0549 - val_custom_mse_scaled: 0.1352 - val_gaussian_reconstruction_loss: 19.2991 - val_r_squared: 0.3061 - val_r_squared_linreg: 0.3867 - lr: 0.0500 - 353ms/epoch - 353ms/step\n",
      "Epoch 10/10\n",
      "1/1 - 0s - loss: 19.2975 - custom_mae: 0.1835 - custom_mean_sd: 0.6373 - custom_mse: 0.0549 - custom_mse_scaled: 0.1351 - gaussian_reconstruction_loss: 19.2975 - r_squared: 0.3290 - r_squared_linreg: 0.4042 - val_loss: 17.6644 - val_custom_mae: 0.1794 - val_custom_mean_sd: 0.6061 - val_custom_mse: 0.0533 - val_custom_mse_scaled: 0.1450 - val_gaussian_reconstruction_loss: 17.6644 - val_r_squared: 0.3252 - val_r_squared_linreg: 0.3862 - lr: 0.0500 - 333ms/epoch - 333ms/step\n",
      "\n",
      "-------------------------------------------------------------------------------------------------\n",
      "\n",
      "                                       REP: 13\n",
      "\n",
      "-------------------------------------------------------------------------------------------------\n",
      "\n",
      "Loading data from raw files\n",
      "registering celldata\n"
     ]
    },
    {
     "name": "stderr",
     "output_type": "stream",
     "text": [
      "/home/ifichtner/mambaforge/envs/squidpyTF/lib/python3.8/site-packages/ncem/data.py:2389: FutureWarning: X.dtype being converted to np.float32 from float64. In the next version of anndata (0.9) conversion will not be automatic. Pass dtype explicitly to avoid this warning. Pass `AnnData(X, dtype=X.dtype, ...)` to get the future behavour.\n",
      "  celldata = AnnData(\n",
      "/home/ifichtner/mambaforge/envs/squidpyTF/lib/python3.8/site-packages/anndata/_core/anndata.py:121: ImplicitModificationWarning: Transforming to str index.\n",
      "  warnings.warn(\"Transforming to str index.\", ImplicitModificationWarning)\n"
     ]
    },
    {
     "name": "stdout",
     "output_type": "stream",
     "text": [
      "collecting image-wise celldata\n",
      "adding graph-level covariates\n"
     ]
    },
    {
     "name": "stderr",
     "output_type": "stream",
     "text": [
      "100%|██████████| 58/58 [00:01<00:00, 53.59it/s]\n"
     ]
    },
    {
     "name": "stdout",
     "output_type": "stream",
     "text": [
      "Loaded 58 images with complete data from 4 patients over 63747 cells with 36 cell features and 8 distinct celltypes.\n",
      "Mean of mean node degree per images across images: 4.416036\n",
      "Using split method: node. \n",
      " Train-test-validation split is based on total number of nodes per patients over all images.\n",
      "\n",
      "Excluded 0 cells with the following unannotated cell type: [None] \n",
      "\n",
      "Whole dataset: 63747 cells out of 58 images from 4 patients.\n",
      "Test dataset: 6376 cells out of 58 images from 4 patients.\n",
      "Training dataset: 51930 cells out of 58 images from 4 patients.\n",
      "Validation dataset: 5738 cells out of 58 images from 4 patients. \n",
      "\n",
      "Epoch 1/10\n",
      "1/1 - 1s - loss: 38.6509 - custom_mae: 0.4480 - custom_mean_sd: 1.0000 - custom_mse: 0.3094 - custom_mse_scaled: 0.3094 - gaussian_reconstruction_loss: 38.6509 - r_squared: -2.7401e+00 - r_squared_linreg: 1.6469e-06 - val_loss: 34.1288 - val_custom_mae: 0.2969 - val_custom_mean_sd: 0.9512 - val_custom_mse: 0.1431 - val_custom_mse_scaled: 0.1582 - val_gaussian_reconstruction_loss: 34.1288 - val_r_squared: -8.1737e-01 - val_r_squared_linreg: 0.0527 - lr: 0.0500 - 1s/epoch - 1s/step\n",
      "Epoch 2/10\n",
      "1/1 - 0s - loss: 34.2057 - custom_mae: 0.3013 - custom_mean_sd: 0.9512 - custom_mse: 0.1470 - custom_mse_scaled: 0.1624 - gaussian_reconstruction_loss: 34.2057 - r_squared: -8.0911e-01 - r_squared_linreg: 0.0573 - val_loss: 31.7135 - val_custom_mae: 0.2508 - val_custom_mean_sd: 0.9051 - val_custom_mse: 0.1012 - val_custom_mse_scaled: 0.1235 - val_gaussian_reconstruction_loss: 31.7135 - val_r_squared: -2.8984e-01 - val_r_squared_linreg: 0.2151 - lr: 0.0500 - 345ms/epoch - 345ms/step\n",
      "Epoch 3/10\n",
      "1/1 - 0s - loss: 31.6358 - custom_mae: 0.2471 - custom_mean_sd: 0.9051 - custom_mse: 0.0976 - custom_mse_scaled: 0.1192 - gaussian_reconstruction_loss: 31.6358 - r_squared: -1.8914e-01 - r_squared_linreg: 0.2314 - val_loss: 30.0483 - val_custom_mae: 0.2451 - val_custom_mean_sd: 0.8610 - val_custom_mse: 0.0970 - val_custom_mse_scaled: 0.1308 - val_gaussian_reconstruction_loss: 30.0483 - val_r_squared: -2.2579e-01 - val_r_squared_linreg: 0.3501 - lr: 0.0500 - 348ms/epoch - 348ms/step\n",
      "Epoch 4/10\n",
      "1/1 - 0s - loss: 30.0971 - custom_mae: 0.2466 - custom_mean_sd: 0.8610 - custom_mse: 0.0990 - custom_mse_scaled: 0.1335 - gaussian_reconstruction_loss: 30.0971 - r_squared: -1.9240e-01 - r_squared_linreg: 0.3500 - val_loss: 28.6336 - val_custom_mae: 0.2465 - val_custom_mean_sd: 0.8190 - val_custom_mse: 0.1021 - val_custom_mse_scaled: 0.1522 - val_gaussian_reconstruction_loss: 28.6336 - val_r_squared: -3.0781e-01 - val_r_squared_linreg: 0.4013 - lr: 0.0500 - 338ms/epoch - 338ms/step\n",
      "Epoch 5/10\n",
      "1/1 - 0s - loss: 28.5693 - custom_mae: 0.2441 - custom_mean_sd: 0.8190 - custom_mse: 0.0997 - custom_mse_scaled: 0.1486 - gaussian_reconstruction_loss: 28.5693 - r_squared: -2.1370e-01 - r_squared_linreg: 0.4142 - val_loss: 26.7262 - val_custom_mae: 0.2269 - val_custom_mean_sd: 0.7790 - val_custom_mse: 0.0889 - val_custom_mse_scaled: 0.1464 - val_gaussian_reconstruction_loss: 26.7262 - val_r_squared: -1.2561e-01 - val_r_squared_linreg: 0.4346 - lr: 0.0500 - 363ms/epoch - 363ms/step\n",
      "Epoch 6/10\n",
      "1/1 - 0s - loss: 26.5620 - custom_mae: 0.2212 - custom_mean_sd: 0.7790 - custom_mse: 0.0834 - custom_mse_scaled: 0.1373 - gaussian_reconstruction_loss: 26.5620 - r_squared: -1.3509e-02 - r_squared_linreg: 0.4391 - val_loss: 24.7143 - val_custom_mae: 0.2047 - val_custom_mean_sd: 0.7409 - val_custom_mse: 0.0741 - val_custom_mse_scaled: 0.1349 - val_gaussian_reconstruction_loss: 24.7143 - val_r_squared: 0.0634 - val_r_squared_linreg: 0.4238 - lr: 0.0500 - 343ms/epoch - 343ms/step\n",
      "Epoch 7/10\n",
      "1/1 - 0s - loss: 24.7709 - custom_mae: 0.2091 - custom_mean_sd: 0.7409 - custom_mse: 0.0759 - custom_mse_scaled: 0.1380 - gaussian_reconstruction_loss: 24.7709 - r_squared: 0.0740 - r_squared_linreg: 0.4246 - val_loss: 22.8056 - val_custom_mae: 0.1921 - val_custom_mean_sd: 0.7046 - val_custom_mse: 0.0642 - val_custom_mse_scaled: 0.1292 - val_gaussian_reconstruction_loss: 22.8057 - val_r_squared: 0.1915 - val_r_squared_linreg: 0.4079 - lr: 0.0500 - 367ms/epoch - 367ms/step\n",
      "Epoch 8/10\n",
      "1/1 - 0s - loss: 22.8722 - custom_mae: 0.1966 - custom_mean_sd: 0.7046 - custom_mse: 0.0661 - custom_mse_scaled: 0.1329 - gaussian_reconstruction_loss: 22.8722 - r_squared: 0.2013 - r_squared_linreg: 0.4106 - val_loss: 20.9495 - val_custom_mae: 0.1834 - val_custom_mean_sd: 0.6701 - val_custom_mse: 0.0569 - val_custom_mse_scaled: 0.1266 - val_gaussian_reconstruction_loss: 20.9495 - val_r_squared: 0.2819 - val_r_squared_linreg: 0.3980 - lr: 0.0500 - 342ms/epoch - 342ms/step\n",
      "Epoch 9/10\n",
      "1/1 - 0s - loss: 20.9967 - custom_mae: 0.1865 - custom_mean_sd: 0.6701 - custom_mse: 0.0580 - custom_mse_scaled: 0.1292 - gaussian_reconstruction_loss: 20.9967 - r_squared: 0.2962 - r_squared_linreg: 0.4019 - val_loss: 19.1835 - val_custom_mae: 0.1773 - val_custom_mean_sd: 0.6373 - val_custom_mse: 0.0524 - val_custom_mse_scaled: 0.1290 - val_gaussian_reconstruction_loss: 19.1835 - val_r_squared: 0.3321 - val_r_squared_linreg: 0.4026 - lr: 0.0500 - 396ms/epoch - 396ms/step\n",
      "Epoch 10/10\n",
      "1/1 - 0s - loss: 19.2719 - custom_mae: 0.1815 - custom_mean_sd: 0.6373 - custom_mse: 0.0544 - custom_mse_scaled: 0.1339 - gaussian_reconstruction_loss: 19.2719 - r_squared: 0.3341 - r_squared_linreg: 0.4071 - val_loss: 17.4396 - val_custom_mae: 0.1701 - val_custom_mean_sd: 0.6060 - val_custom_mse: 0.0488 - val_custom_mse_scaled: 0.1327 - val_gaussian_reconstruction_loss: 17.4396 - val_r_squared: 0.3797 - val_r_squared_linreg: 0.4267 - lr: 0.0500 - 467ms/epoch - 467ms/step\n",
      "\n",
      "-------------------------------------------------------------------------------------------------\n",
      "\n",
      "                                       REP: 14\n",
      "\n",
      "-------------------------------------------------------------------------------------------------\n",
      "\n",
      "Loading data from raw files\n",
      "registering celldata\n"
     ]
    },
    {
     "name": "stderr",
     "output_type": "stream",
     "text": [
      "/home/ifichtner/mambaforge/envs/squidpyTF/lib/python3.8/site-packages/ncem/data.py:2389: FutureWarning: X.dtype being converted to np.float32 from float64. In the next version of anndata (0.9) conversion will not be automatic. Pass dtype explicitly to avoid this warning. Pass `AnnData(X, dtype=X.dtype, ...)` to get the future behavour.\n",
      "  celldata = AnnData(\n",
      "/home/ifichtner/mambaforge/envs/squidpyTF/lib/python3.8/site-packages/anndata/_core/anndata.py:121: ImplicitModificationWarning: Transforming to str index.\n",
      "  warnings.warn(\"Transforming to str index.\", ImplicitModificationWarning)\n"
     ]
    },
    {
     "name": "stdout",
     "output_type": "stream",
     "text": [
      "collecting image-wise celldata\n",
      "adding graph-level covariates\n"
     ]
    },
    {
     "name": "stderr",
     "output_type": "stream",
     "text": [
      "100%|██████████| 58/58 [00:01<00:00, 54.14it/s]\n"
     ]
    },
    {
     "name": "stdout",
     "output_type": "stream",
     "text": [
      "Loaded 58 images with complete data from 4 patients over 63747 cells with 36 cell features and 8 distinct celltypes.\n",
      "Mean of mean node degree per images across images: 4.416036\n",
      "Using split method: node. \n",
      " Train-test-validation split is based on total number of nodes per patients over all images.\n",
      "\n",
      "Excluded 0 cells with the following unannotated cell type: [None] \n",
      "\n",
      "Whole dataset: 63747 cells out of 58 images from 4 patients.\n",
      "Test dataset: 6376 cells out of 58 images from 4 patients.\n",
      "Training dataset: 51930 cells out of 58 images from 4 patients.\n",
      "Validation dataset: 5738 cells out of 58 images from 4 patients. \n",
      "\n",
      "Epoch 1/10\n",
      "1/1 - 1s - loss: 38.7877 - custom_mae: 0.4623 - custom_mean_sd: 1.0000 - custom_mse: 0.3170 - custom_mse_scaled: 0.3170 - gaussian_reconstruction_loss: 38.7877 - r_squared: -2.8319e+00 - r_squared_linreg: 3.8430e-04 - val_loss: 34.0857 - val_custom_mae: 0.2996 - val_custom_mean_sd: 0.9512 - val_custom_mse: 0.1410 - val_custom_mse_scaled: 0.1558 - val_gaussian_reconstruction_loss: 34.0857 - val_r_squared: -7.8647e-01 - val_r_squared_linreg: 0.0700 - lr: 0.0500 - 1s/epoch - 1s/step\n",
      "Epoch 2/10\n",
      "1/1 - 0s - loss: 34.2001 - custom_mae: 0.3059 - custom_mean_sd: 0.9512 - custom_mse: 0.1467 - custom_mse_scaled: 0.1621 - gaussian_reconstruction_loss: 34.2001 - r_squared: -8.0565e-01 - r_squared_linreg: 0.0653 - val_loss: 31.6482 - val_custom_mae: 0.2478 - val_custom_mean_sd: 0.9051 - val_custom_mse: 0.0982 - val_custom_mse_scaled: 0.1198 - val_gaussian_reconstruction_loss: 31.6482 - val_r_squared: -2.4436e-01 - val_r_squared_linreg: 0.2299 - lr: 0.0500 - 381ms/epoch - 381ms/step\n",
      "Epoch 3/10\n",
      "1/1 - 0s - loss: 31.6075 - custom_mae: 0.2461 - custom_mean_sd: 0.9051 - custom_mse: 0.0963 - custom_mse_scaled: 0.1175 - gaussian_reconstruction_loss: 31.6075 - r_squared: -1.7285e-01 - r_squared_linreg: 0.2477 - val_loss: 30.2451 - val_custom_mae: 0.2554 - val_custom_mean_sd: 0.8610 - val_custom_mse: 0.1050 - val_custom_mse_scaled: 0.1416 - val_gaussian_reconstruction_loss: 30.2451 - val_r_squared: -3.2526e-01 - val_r_squared_linreg: 0.3582 - lr: 0.0500 - 377ms/epoch - 377ms/step\n",
      "Epoch 4/10\n",
      "1/1 - 0s - loss: 30.2044 - custom_mae: 0.2530 - custom_mean_sd: 0.8610 - custom_mse: 0.1033 - custom_mse_scaled: 0.1394 - gaussian_reconstruction_loss: 30.2044 - r_squared: -2.5799e-01 - r_squared_linreg: 0.3676 - val_loss: 28.8336 - val_custom_mae: 0.2573 - val_custom_mean_sd: 0.8190 - val_custom_mse: 0.1096 - val_custom_mse_scaled: 0.1632 - val_gaussian_reconstruction_loss: 28.8336 - val_r_squared: -3.9974e-01 - val_r_squared_linreg: 0.4212 - lr: 0.0500 - 379ms/epoch - 379ms/step\n",
      "Epoch 5/10\n",
      "1/1 - 0s - loss: 28.6958 - custom_mae: 0.2514 - custom_mean_sd: 0.8190 - custom_mse: 0.1044 - custom_mse_scaled: 0.1556 - gaussian_reconstruction_loss: 28.6958 - r_squared: -2.6003e-01 - r_squared_linreg: 0.4163 - val_loss: 26.8821 - val_custom_mae: 0.2350 - val_custom_mean_sd: 0.7790 - val_custom_mse: 0.0942 - val_custom_mse_scaled: 0.1550 - val_gaussian_reconstruction_loss: 26.8821 - val_r_squared: -2.0617e-01 - val_r_squared_linreg: 0.4204 - lr: 0.0500 - 379ms/epoch - 379ms/step\n",
      "Epoch 6/10\n",
      "1/1 - 0s - loss: 26.7700 - custom_mae: 0.2314 - custom_mean_sd: 0.7790 - custom_mse: 0.0904 - custom_mse_scaled: 0.1487 - gaussian_reconstruction_loss: 26.7701 - r_squared: -9.2236e-02 - r_squared_linreg: 0.4272 - val_loss: 24.7818 - val_custom_mae: 0.2109 - val_custom_mean_sd: 0.7410 - val_custom_mse: 0.0762 - val_custom_mse_scaled: 0.1385 - val_gaussian_reconstruction_loss: 24.7818 - val_r_squared: 0.0289 - val_r_squared_linreg: 0.4143 - lr: 0.0500 - 360ms/epoch - 360ms/step\n",
      "Epoch 7/10\n",
      "1/1 - 0s - loss: 24.9323 - custom_mae: 0.2176 - custom_mean_sd: 0.7410 - custom_mse: 0.0808 - custom_mse_scaled: 0.1469 - gaussian_reconstruction_loss: 24.9323 - r_squared: 0.0177 - r_squared_linreg: 0.4189 - val_loss: 22.9305 - val_custom_mae: 0.1989 - val_custom_mean_sd: 0.7047 - val_custom_mse: 0.0676 - val_custom_mse_scaled: 0.1359 - val_gaussian_reconstruction_loss: 22.9305 - val_r_squared: 0.1529 - val_r_squared_linreg: 0.3839 - lr: 0.0500 - 391ms/epoch - 391ms/step\n",
      "Epoch 8/10\n",
      "1/1 - 0s - loss: 22.8435 - custom_mae: 0.1964 - custom_mean_sd: 0.7047 - custom_mse: 0.0652 - custom_mse_scaled: 0.1311 - gaussian_reconstruction_loss: 22.8435 - r_squared: 0.2077 - r_squared_linreg: 0.4052 - val_loss: 20.8642 - val_custom_mae: 0.1819 - val_custom_mean_sd: 0.6702 - val_custom_mse: 0.0547 - val_custom_mse_scaled: 0.1216 - val_gaussian_reconstruction_loss: 20.8642 - val_r_squared: 0.3061 - val_r_squared_linreg: 0.4053 - lr: 0.0500 - 418ms/epoch - 418ms/step\n",
      "Epoch 9/10\n",
      "1/1 - 0s - loss: 20.9824 - custom_mae: 0.1869 - custom_mean_sd: 0.6702 - custom_mse: 0.0576 - custom_mse_scaled: 0.1282 - gaussian_reconstruction_loss: 20.9824 - r_squared: 0.2886 - r_squared_linreg: 0.4003 - val_loss: 19.2518 - val_custom_mae: 0.1806 - val_custom_mean_sd: 0.6373 - val_custom_mse: 0.0539 - val_custom_mse_scaled: 0.1326 - val_gaussian_reconstruction_loss: 19.2518 - val_r_squared: 0.3211 - val_r_squared_linreg: 0.3905 - lr: 0.0500 - 445ms/epoch - 445ms/step\n",
      "Epoch 10/10\n",
      "1/1 - 0s - loss: 19.2660 - custom_mae: 0.1822 - custom_mean_sd: 0.6373 - custom_mse: 0.0542 - custom_mse_scaled: 0.1334 - gaussian_reconstruction_loss: 19.2660 - r_squared: 0.3359 - r_squared_linreg: 0.4073 - val_loss: 17.4868 - val_custom_mae: 0.1736 - val_custom_mean_sd: 0.6061 - val_custom_mse: 0.0497 - val_custom_mse_scaled: 0.1351 - val_gaussian_reconstruction_loss: 17.4868 - val_r_squared: 0.3709 - val_r_squared_linreg: 0.4175 - lr: 0.0500 - 408ms/epoch - 408ms/step\n",
      "\n",
      "-------------------------------------------------------------------------------------------------\n",
      "\n",
      "                                       RUN: 0.5\n",
      "\n",
      "-------------------------------------------------------------------------------------------------\n",
      "\n",
      "\n",
      "-------------------------------------------------------------------------------------------------\n",
      "\n",
      "                                       REP: 0\n",
      "\n",
      "-------------------------------------------------------------------------------------------------\n",
      "\n",
      "Loading data from raw files\n",
      "registering celldata\n"
     ]
    },
    {
     "name": "stderr",
     "output_type": "stream",
     "text": [
      "/home/ifichtner/mambaforge/envs/squidpyTF/lib/python3.8/site-packages/ncem/data.py:2389: FutureWarning: X.dtype being converted to np.float32 from float64. In the next version of anndata (0.9) conversion will not be automatic. Pass dtype explicitly to avoid this warning. Pass `AnnData(X, dtype=X.dtype, ...)` to get the future behavour.\n",
      "  celldata = AnnData(\n",
      "/home/ifichtner/mambaforge/envs/squidpyTF/lib/python3.8/site-packages/anndata/_core/anndata.py:121: ImplicitModificationWarning: Transforming to str index.\n",
      "  warnings.warn(\"Transforming to str index.\", ImplicitModificationWarning)\n"
     ]
    },
    {
     "name": "stdout",
     "output_type": "stream",
     "text": [
      "collecting image-wise celldata\n",
      "adding graph-level covariates\n"
     ]
    },
    {
     "name": "stderr",
     "output_type": "stream",
     "text": [
      "100%|██████████| 58/58 [00:01<00:00, 44.60it/s]\n"
     ]
    },
    {
     "name": "stdout",
     "output_type": "stream",
     "text": [
      "Loaded 58 images with complete data from 4 patients over 63747 cells with 36 cell features and 8 distinct celltypes.\n",
      "Mean of mean node degree per images across images: 4.416036\n",
      "Using split method: node. \n",
      " Train-test-validation split is based on total number of nodes per patients over all images.\n",
      "\n",
      "Excluded 0 cells with the following unannotated cell type: [None] \n",
      "\n",
      "Whole dataset: 63747 cells out of 58 images from 4 patients.\n",
      "Test dataset: 6376 cells out of 58 images from 4 patients.\n",
      "Training dataset: 51930 cells out of 58 images from 4 patients.\n",
      "Validation dataset: 5738 cells out of 58 images from 4 patients. \n",
      "\n",
      "Epoch 1/10\n",
      "1/1 - 2s - loss: 39.1364 - custom_mae: 0.4749 - custom_mean_sd: 1.0000 - custom_mse: 0.3364 - custom_mse_scaled: 0.3364 - gaussian_reconstruction_loss: 39.1364 - r_squared: -3.0661e+00 - r_squared_linreg: 0.0011 - val_loss: 34.2444 - val_custom_mae: 0.3067 - val_custom_mean_sd: 0.9512 - val_custom_mse: 0.1489 - val_custom_mse_scaled: 0.1646 - val_gaussian_reconstruction_loss: 34.2444 - val_r_squared: -8.4915e-01 - val_r_squared_linreg: 0.0421 - lr: 0.0500 - 2s/epoch - 2s/step\n",
      "Epoch 2/10\n",
      "1/1 - 0s - loss: 34.2826 - custom_mae: 0.3085 - custom_mean_sd: 0.9512 - custom_mse: 0.1508 - custom_mse_scaled: 0.1667 - gaussian_reconstruction_loss: 34.2826 - r_squared: -8.5668e-01 - r_squared_linreg: 0.0506 - val_loss: 31.6157 - val_custom_mae: 0.2453 - val_custom_mean_sd: 0.9051 - val_custom_mse: 0.0966 - val_custom_mse_scaled: 0.1180 - val_gaussian_reconstruction_loss: 31.6157 - val_r_squared: -2.3088e-01 - val_r_squared_linreg: 0.2205 - lr: 0.0500 - 428ms/epoch - 428ms/step\n",
      "Epoch 3/10\n",
      "1/1 - 0s - loss: 31.6229 - custom_mae: 0.2461 - custom_mean_sd: 0.9051 - custom_mse: 0.0970 - custom_mse_scaled: 0.1184 - gaussian_reconstruction_loss: 31.6229 - r_squared: -1.8643e-01 - r_squared_linreg: 0.2367 - val_loss: 30.2668 - val_custom_mae: 0.2542 - val_custom_mean_sd: 0.8611 - val_custom_mse: 0.1059 - val_custom_mse_scaled: 0.1428 - val_gaussian_reconstruction_loss: 30.2668 - val_r_squared: -3.2815e-01 - val_r_squared_linreg: 0.3641 - lr: 0.0500 - 461ms/epoch - 461ms/step\n",
      "Epoch 4/10\n",
      "1/1 - 0s - loss: 30.2156 - custom_mae: 0.2517 - custom_mean_sd: 0.8611 - custom_mse: 0.1038 - custom_mse_scaled: 0.1399 - gaussian_reconstruction_loss: 30.2156 - r_squared: -2.7492e-01 - r_squared_linreg: 0.3692 - val_loss: 28.8428 - val_custom_mae: 0.2541 - val_custom_mean_sd: 0.8191 - val_custom_mse: 0.1099 - val_custom_mse_scaled: 0.1637 - val_gaussian_reconstruction_loss: 28.8428 - val_r_squared: -3.9830e-01 - val_r_squared_linreg: 0.4115 - lr: 0.0500 - 481ms/epoch - 481ms/step\n",
      "Epoch 5/10\n",
      "1/1 - 0s - loss: 28.8198 - custom_mae: 0.2549 - custom_mean_sd: 0.8191 - custom_mse: 0.1090 - custom_mse_scaled: 0.1624 - gaussian_reconstruction_loss: 28.8198 - r_squared: -3.2640e-01 - r_squared_linreg: 0.4289 - val_loss: 27.1399 - val_custom_mae: 0.2430 - val_custom_mean_sd: 0.7791 - val_custom_mse: 0.1028 - val_custom_mse_scaled: 0.1692 - val_gaussian_reconstruction_loss: 27.1399 - val_r_squared: -2.9870e-01 - val_r_squared_linreg: 0.4126 - lr: 0.0500 - 429ms/epoch - 429ms/step\n",
      "Epoch 6/10\n",
      "1/1 - 0s - loss: 27.0043 - custom_mae: 0.2399 - custom_mean_sd: 0.7791 - custom_mse: 0.0982 - custom_mse_scaled: 0.1617 - gaussian_reconstruction_loss: 27.0043 - r_squared: -1.8989e-01 - r_squared_linreg: 0.4333 - val_loss: 25.0141 - val_custom_mae: 0.2187 - val_custom_mean_sd: 0.7410 - val_custom_mse: 0.0831 - val_custom_mse_scaled: 0.1513 - val_gaussian_reconstruction_loss: 25.0141 - val_r_squared: -6.0511e-02 - val_r_squared_linreg: 0.4157 - lr: 0.0500 - 424ms/epoch - 424ms/step\n",
      "Epoch 7/10\n",
      "1/1 - 0s - loss: 25.0031 - custom_mae: 0.2200 - custom_mean_sd: 0.7410 - custom_mse: 0.0828 - custom_mse_scaled: 0.1507 - gaussian_reconstruction_loss: 25.0031 - r_squared: 0.0030 - r_squared_linreg: 0.4057 - val_loss: 22.9111 - val_custom_mae: 0.1967 - val_custom_mean_sd: 0.7048 - val_custom_mse: 0.0670 - val_custom_mse_scaled: 0.1348 - val_gaussian_reconstruction_loss: 22.9111 - val_r_squared: 0.1434 - val_r_squared_linreg: 0.3934 - lr: 0.0500 - 461ms/epoch - 461ms/step\n",
      "Epoch 8/10\n",
      "1/1 - 0s - loss: 22.8893 - custom_mae: 0.1983 - custom_mean_sd: 0.7048 - custom_mse: 0.0664 - custom_mse_scaled: 0.1336 - gaussian_reconstruction_loss: 22.8893 - r_squared: 0.1998 - r_squared_linreg: 0.4077 - val_loss: 20.9864 - val_custom_mae: 0.1863 - val_custom_mean_sd: 0.6702 - val_custom_mse: 0.0576 - val_custom_mse_scaled: 0.1283 - val_gaussian_reconstruction_loss: 20.9864 - val_r_squared: 0.2687 - val_r_squared_linreg: 0.3883 - lr: 0.0500 - 417ms/epoch - 417ms/step\n",
      "Epoch 9/10\n",
      "1/1 - 0s - loss: 21.0499 - custom_mae: 0.1883 - custom_mean_sd: 0.6702 - custom_mse: 0.0592 - custom_mse_scaled: 0.1318 - gaussian_reconstruction_loss: 21.0499 - r_squared: 0.2848 - r_squared_linreg: 0.3969 - val_loss: 19.3095 - val_custom_mae: 0.1829 - val_custom_mean_sd: 0.6374 - val_custom_mse: 0.0551 - val_custom_mse_scaled: 0.1357 - val_gaussian_reconstruction_loss: 19.3095 - val_r_squared: 0.3006 - val_r_squared_linreg: 0.3920 - lr: 0.0500 - 392ms/epoch - 392ms/step\n",
      "Epoch 10/10\n",
      "1/1 - 0s - loss: 19.5105 - custom_mae: 0.1902 - custom_mean_sd: 0.6374 - custom_mse: 0.0597 - custom_mse_scaled: 0.1469 - gaussian_reconstruction_loss: 19.5105 - r_squared: 0.2750 - r_squared_linreg: 0.3851 - val_loss: 17.6321 - val_custom_mae: 0.1789 - val_custom_mean_sd: 0.6061 - val_custom_mse: 0.0526 - val_custom_mse_scaled: 0.1431 - val_gaussian_reconstruction_loss: 17.6321 - val_r_squared: 0.3343 - val_r_squared_linreg: 0.4009 - lr: 0.0500 - 402ms/epoch - 402ms/step\n",
      "\n",
      "-------------------------------------------------------------------------------------------------\n",
      "\n",
      "                                       REP: 1\n",
      "\n",
      "-------------------------------------------------------------------------------------------------\n",
      "\n",
      "Loading data from raw files\n",
      "registering celldata\n"
     ]
    },
    {
     "name": "stderr",
     "output_type": "stream",
     "text": [
      "/home/ifichtner/mambaforge/envs/squidpyTF/lib/python3.8/site-packages/ncem/data.py:2389: FutureWarning: X.dtype being converted to np.float32 from float64. In the next version of anndata (0.9) conversion will not be automatic. Pass dtype explicitly to avoid this warning. Pass `AnnData(X, dtype=X.dtype, ...)` to get the future behavour.\n",
      "  celldata = AnnData(\n",
      "/home/ifichtner/mambaforge/envs/squidpyTF/lib/python3.8/site-packages/anndata/_core/anndata.py:121: ImplicitModificationWarning: Transforming to str index.\n",
      "  warnings.warn(\"Transforming to str index.\", ImplicitModificationWarning)\n"
     ]
    },
    {
     "name": "stdout",
     "output_type": "stream",
     "text": [
      "collecting image-wise celldata\n",
      "adding graph-level covariates\n"
     ]
    },
    {
     "name": "stderr",
     "output_type": "stream",
     "text": [
      "100%|██████████| 58/58 [00:01<00:00, 53.69it/s]\n"
     ]
    },
    {
     "name": "stdout",
     "output_type": "stream",
     "text": [
      "Loaded 58 images with complete data from 4 patients over 63747 cells with 36 cell features and 8 distinct celltypes.\n",
      "Mean of mean node degree per images across images: 4.416036\n",
      "Using split method: node. \n",
      " Train-test-validation split is based on total number of nodes per patients over all images.\n",
      "\n",
      "Excluded 0 cells with the following unannotated cell type: [None] \n",
      "\n",
      "Whole dataset: 63747 cells out of 58 images from 4 patients.\n",
      "Test dataset: 6376 cells out of 58 images from 4 patients.\n",
      "Training dataset: 51930 cells out of 58 images from 4 patients.\n",
      "Validation dataset: 5738 cells out of 58 images from 4 patients. \n",
      "\n",
      "Epoch 1/10\n",
      "1/1 - 2s - loss: 38.9763 - custom_mae: 0.4705 - custom_mean_sd: 1.0000 - custom_mse: 0.3275 - custom_mse_scaled: 0.3275 - gaussian_reconstruction_loss: 38.9763 - r_squared: -2.9586e+00 - r_squared_linreg: 6.5215e-05 - val_loss: 34.1928 - val_custom_mae: 0.3042 - val_custom_mean_sd: 0.9512 - val_custom_mse: 0.1463 - val_custom_mse_scaled: 0.1617 - val_gaussian_reconstruction_loss: 34.1928 - val_r_squared: -8.3230e-01 - val_r_squared_linreg: 0.0355 - lr: 0.0500 - 2s/epoch - 2s/step\n",
      "Epoch 2/10\n",
      "1/1 - 0s - loss: 34.2425 - custom_mae: 0.3072 - custom_mean_sd: 0.9512 - custom_mse: 0.1488 - custom_mse_scaled: 0.1645 - gaussian_reconstruction_loss: 34.2425 - r_squared: -8.3188e-01 - r_squared_linreg: 0.0407 - val_loss: 31.6626 - val_custom_mae: 0.2493 - val_custom_mean_sd: 0.9053 - val_custom_mse: 0.0985 - val_custom_mse_scaled: 0.1201 - val_gaussian_reconstruction_loss: 31.6626 - val_r_squared: -2.3560e-01 - val_r_squared_linreg: 0.2107 - lr: 0.0500 - 399ms/epoch - 399ms/step\n",
      "Epoch 3/10\n",
      "1/1 - 0s - loss: 31.6441 - custom_mae: 0.2479 - custom_mean_sd: 0.9053 - custom_mse: 0.0977 - custom_mse_scaled: 0.1191 - gaussian_reconstruction_loss: 31.6441 - r_squared: -1.9222e-01 - r_squared_linreg: 0.2224 - val_loss: 30.3086 - val_custom_mae: 0.2568 - val_custom_mean_sd: 0.8614 - val_custom_mse: 0.1072 - val_custom_mse_scaled: 0.1444 - val_gaussian_reconstruction_loss: 30.3086 - val_r_squared: -3.5001e-01 - val_r_squared_linreg: 0.3412 - lr: 0.0500 - 384ms/epoch - 384ms/step\n",
      "Epoch 4/10\n",
      "1/1 - 0s - loss: 30.1821 - custom_mae: 0.2508 - custom_mean_sd: 0.8614 - custom_mse: 0.1020 - custom_mse_scaled: 0.1374 - gaussian_reconstruction_loss: 30.1821 - r_squared: -2.3542e-01 - r_squared_linreg: 0.3600 - val_loss: 28.8069 - val_custom_mae: 0.2537 - val_custom_mean_sd: 0.8194 - val_custom_mse: 0.1081 - val_custom_mse_scaled: 0.1608 - val_gaussian_reconstruction_loss: 28.8069 - val_r_squared: -3.4828e-01 - val_r_squared_linreg: 0.4210 - lr: 0.0500 - 382ms/epoch - 382ms/step\n",
      "Epoch 5/10\n",
      "1/1 - 0s - loss: 28.8876 - custom_mae: 0.2589 - custom_mean_sd: 0.8194 - custom_mse: 0.1111 - custom_mse_scaled: 0.1653 - gaussian_reconstruction_loss: 28.8876 - r_squared: -3.5697e-01 - r_squared_linreg: 0.4260 - val_loss: 27.0325 - val_custom_mae: 0.2398 - val_custom_mean_sd: 0.7795 - val_custom_mse: 0.0988 - val_custom_mse_scaled: 0.1622 - val_gaussian_reconstruction_loss: 27.0325 - val_r_squared: -2.6874e-01 - val_r_squared_linreg: 0.4215 - lr: 0.0500 - 391ms/epoch - 391ms/step\n",
      "Epoch 6/10\n",
      "1/1 - 0s - loss: 27.1573 - custom_mae: 0.2465 - custom_mean_sd: 0.7795 - custom_mse: 0.1030 - custom_mse_scaled: 0.1691 - gaussian_reconstruction_loss: 27.1573 - r_squared: -2.5236e-01 - r_squared_linreg: 0.4249 - val_loss: 24.9514 - val_custom_mae: 0.2158 - val_custom_mean_sd: 0.7415 - val_custom_mse: 0.0809 - val_custom_mse_scaled: 0.1466 - val_gaussian_reconstruction_loss: 24.9514 - val_r_squared: -3.1480e-02 - val_r_squared_linreg: 0.4194 - lr: 0.0500 - 369ms/epoch - 369ms/step\n",
      "Epoch 7/10\n",
      "1/1 - 0s - loss: 25.0005 - custom_mae: 0.2184 - custom_mean_sd: 0.7415 - custom_mse: 0.0824 - custom_mse_scaled: 0.1493 - gaussian_reconstruction_loss: 25.0005 - r_squared: 0.0053 - r_squared_linreg: 0.4110 - val_loss: 22.9944 - val_custom_mae: 0.2012 - val_custom_mean_sd: 0.7053 - val_custom_mse: 0.0689 - val_custom_mse_scaled: 0.1380 - val_gaussian_reconstruction_loss: 22.9944 - val_r_squared: 0.1355 - val_r_squared_linreg: 0.3877 - lr: 0.0500 - 381ms/epoch - 381ms/step\n",
      "Epoch 8/10\n",
      "1/1 - 0s - loss: 22.9752 - custom_mae: 0.2008 - custom_mean_sd: 0.7053 - custom_mse: 0.0683 - custom_mse_scaled: 0.1369 - gaussian_reconstruction_loss: 22.9752 - r_squared: 0.1767 - r_squared_linreg: 0.4056 - val_loss: 21.1577 - val_custom_mae: 0.1922 - val_custom_mean_sd: 0.6708 - val_custom_mse: 0.0614 - val_custom_mse_scaled: 0.1362 - val_gaussian_reconstruction_loss: 21.1577 - val_r_squared: 0.2251 - val_r_squared_linreg: 0.3735 - lr: 0.0500 - 379ms/epoch - 379ms/step\n",
      "Epoch 9/10\n",
      "1/1 - 0s - loss: 21.1937 - custom_mae: 0.1949 - custom_mean_sd: 0.6708 - custom_mse: 0.0623 - custom_mse_scaled: 0.1382 - gaussian_reconstruction_loss: 21.1937 - r_squared: 0.2412 - r_squared_linreg: 0.3886 - val_loss: 19.3803 - val_custom_mae: 0.1863 - val_custom_mean_sd: 0.6379 - val_custom_mse: 0.0562 - val_custom_mse_scaled: 0.1379 - val_gaussian_reconstruction_loss: 19.3803 - val_r_squared: 0.2901 - val_r_squared_linreg: 0.3730 - lr: 0.0500 - 392ms/epoch - 392ms/step\n",
      "Epoch 10/10\n",
      "1/1 - 0s - loss: 19.5137 - custom_mae: 0.1920 - custom_mean_sd: 0.6379 - custom_mse: 0.0592 - custom_mse_scaled: 0.1453 - gaussian_reconstruction_loss: 19.5137 - r_squared: 0.2778 - r_squared_linreg: 0.3761 - val_loss: 17.5702 - val_custom_mae: 0.1771 - val_custom_mean_sd: 0.6067 - val_custom_mse: 0.0508 - val_custom_mse_scaled: 0.1378 - val_gaussian_reconstruction_loss: 17.5702 - val_r_squared: 0.3540 - val_r_squared_linreg: 0.4004 - lr: 0.0500 - 375ms/epoch - 375ms/step\n",
      "\n",
      "-------------------------------------------------------------------------------------------------\n",
      "\n",
      "                                       REP: 2\n",
      "\n",
      "-------------------------------------------------------------------------------------------------\n",
      "\n",
      "Loading data from raw files\n",
      "registering celldata\n"
     ]
    },
    {
     "name": "stderr",
     "output_type": "stream",
     "text": [
      "/home/ifichtner/mambaforge/envs/squidpyTF/lib/python3.8/site-packages/ncem/data.py:2389: FutureWarning: X.dtype being converted to np.float32 from float64. In the next version of anndata (0.9) conversion will not be automatic. Pass dtype explicitly to avoid this warning. Pass `AnnData(X, dtype=X.dtype, ...)` to get the future behavour.\n",
      "  celldata = AnnData(\n",
      "/home/ifichtner/mambaforge/envs/squidpyTF/lib/python3.8/site-packages/anndata/_core/anndata.py:121: ImplicitModificationWarning: Transforming to str index.\n",
      "  warnings.warn(\"Transforming to str index.\", ImplicitModificationWarning)\n"
     ]
    },
    {
     "name": "stdout",
     "output_type": "stream",
     "text": [
      "collecting image-wise celldata\n",
      "adding graph-level covariates\n"
     ]
    },
    {
     "name": "stderr",
     "output_type": "stream",
     "text": [
      "100%|██████████| 58/58 [00:01<00:00, 51.33it/s]\n"
     ]
    },
    {
     "name": "stdout",
     "output_type": "stream",
     "text": [
      "Loaded 58 images with complete data from 4 patients over 63747 cells with 36 cell features and 8 distinct celltypes.\n",
      "Mean of mean node degree per images across images: 4.416036\n",
      "Using split method: node. \n",
      " Train-test-validation split is based on total number of nodes per patients over all images.\n",
      "\n",
      "Excluded 0 cells with the following unannotated cell type: [None] \n",
      "\n",
      "Whole dataset: 63747 cells out of 58 images from 4 patients.\n",
      "Test dataset: 6376 cells out of 58 images from 4 patients.\n",
      "Training dataset: 51930 cells out of 58 images from 4 patients.\n",
      "Validation dataset: 5738 cells out of 58 images from 4 patients. \n",
      "\n",
      "Epoch 1/10\n",
      "1/1 - 2s - loss: 38.5064 - custom_mae: 0.4436 - custom_mean_sd: 1.0000 - custom_mse: 0.3014 - custom_mse_scaled: 0.3014 - gaussian_reconstruction_loss: 38.5064 - r_squared: -2.6430e+00 - r_squared_linreg: 5.0973e-05 - val_loss: 33.9889 - val_custom_mae: 0.2919 - val_custom_mean_sd: 0.9512 - val_custom_mse: 0.1361 - val_custom_mse_scaled: 0.1504 - val_gaussian_reconstruction_loss: 33.9889 - val_r_squared: -7.1674e-01 - val_r_squared_linreg: 0.0627 - lr: 0.0500 - 2s/epoch - 2s/step\n",
      "Epoch 2/10\n",
      "1/1 - 0s - loss: 34.1435 - custom_mae: 0.3002 - custom_mean_sd: 0.9512 - custom_mse: 0.1439 - custom_mse_scaled: 0.1590 - gaussian_reconstruction_loss: 34.1435 - r_squared: -7.7058e-01 - r_squared_linreg: 0.0620 - val_loss: 31.7448 - val_custom_mae: 0.2555 - val_custom_mean_sd: 0.9050 - val_custom_mse: 0.1026 - val_custom_mse_scaled: 0.1253 - val_gaussian_reconstruction_loss: 31.7448 - val_r_squared: -2.8964e-01 - val_r_squared_linreg: 0.2190 - lr: 0.0500 - 423ms/epoch - 423ms/step\n",
      "Epoch 3/10\n",
      "1/1 - 0s - loss: 31.6762 - custom_mae: 0.2515 - custom_mean_sd: 0.9050 - custom_mse: 0.0995 - custom_mse_scaled: 0.1215 - gaussian_reconstruction_loss: 31.6762 - r_squared: -2.1353e-01 - r_squared_linreg: 0.2391 - val_loss: 30.2535 - val_custom_mae: 0.2553 - val_custom_mean_sd: 0.8610 - val_custom_mse: 0.1055 - val_custom_mse_scaled: 0.1423 - val_gaussian_reconstruction_loss: 30.2535 - val_r_squared: -3.2989e-01 - val_r_squared_linreg: 0.3521 - lr: 0.0500 - 430ms/epoch - 430ms/step\n",
      "Epoch 4/10\n",
      "1/1 - 0s - loss: 30.1787 - custom_mae: 0.2516 - custom_mean_sd: 0.8610 - custom_mse: 0.1024 - custom_mse_scaled: 0.1381 - gaussian_reconstruction_loss: 30.1787 - r_squared: -2.6441e-01 - r_squared_linreg: 0.3695 - val_loss: 28.6591 - val_custom_mae: 0.2480 - val_custom_mean_sd: 0.8189 - val_custom_mse: 0.1032 - val_custom_mse_scaled: 0.1538 - val_gaussian_reconstruction_loss: 28.6591 - val_r_squared: -3.0182e-01 - val_r_squared_linreg: 0.4124 - lr: 0.0500 - 406ms/epoch - 406ms/step\n",
      "Epoch 5/10\n",
      "1/1 - 0s - loss: 28.7586 - custom_mae: 0.2528 - custom_mean_sd: 0.8189 - custom_mse: 0.1069 - custom_mse_scaled: 0.1593 - gaussian_reconstruction_loss: 28.7586 - r_squared: -2.9823e-01 - r_squared_linreg: 0.4167 - val_loss: 26.8162 - val_custom_mae: 0.2318 - val_custom_mean_sd: 0.7790 - val_custom_mse: 0.0920 - val_custom_mse_scaled: 0.1515 - val_gaussian_reconstruction_loss: 26.8162 - val_r_squared: -1.6923e-01 - val_r_squared_linreg: 0.4100 - lr: 0.0500 - 447ms/epoch - 447ms/step\n",
      "Epoch 6/10\n",
      "1/1 - 0s - loss: 26.6593 - custom_mae: 0.2257 - custom_mean_sd: 0.7790 - custom_mse: 0.0867 - custom_mse_scaled: 0.1428 - gaussian_reconstruction_loss: 26.6593 - r_squared: -6.1623e-02 - r_squared_linreg: 0.4398 - val_loss: 24.7204 - val_custom_mae: 0.2069 - val_custom_mean_sd: 0.7409 - val_custom_mse: 0.0743 - val_custom_mse_scaled: 0.1353 - val_gaussian_reconstruction_loss: 24.7204 - val_r_squared: 0.0580 - val_r_squared_linreg: 0.4065 - lr: 0.0500 - 384ms/epoch - 384ms/step\n",
      "Epoch 7/10\n",
      "1/1 - 0s - loss: 24.8174 - custom_mae: 0.2131 - custom_mean_sd: 0.7409 - custom_mse: 0.0773 - custom_mse_scaled: 0.1407 - gaussian_reconstruction_loss: 24.8174 - r_squared: 0.0716 - r_squared_linreg: 0.4089 - val_loss: 22.6739 - val_custom_mae: 0.1897 - val_custom_mean_sd: 0.7046 - val_custom_mse: 0.0606 - val_custom_mse_scaled: 0.1220 - val_gaussian_reconstruction_loss: 22.6739 - val_r_squared: 0.2369 - val_r_squared_linreg: 0.4021 - lr: 0.0500 - 394ms/epoch - 394ms/step\n",
      "Epoch 8/10\n",
      "1/1 - 0s - loss: 22.8178 - custom_mae: 0.1955 - custom_mean_sd: 0.7046 - custom_mse: 0.0646 - custom_mse_scaled: 0.1300 - gaussian_reconstruction_loss: 22.8178 - r_squared: 0.2243 - r_squared_linreg: 0.3989 - val_loss: 20.9229 - val_custom_mae: 0.1861 - val_custom_mean_sd: 0.6701 - val_custom_mse: 0.0562 - val_custom_mse_scaled: 0.1251 - val_gaussian_reconstruction_loss: 20.9229 - val_r_squared: 0.2878 - val_r_squared_linreg: 0.3727 - lr: 0.0500 - 383ms/epoch - 383ms/step\n",
      "Epoch 9/10\n",
      "1/1 - 0s - loss: 20.9654 - custom_mae: 0.1873 - custom_mean_sd: 0.6701 - custom_mse: 0.0573 - custom_mse_scaled: 0.1275 - gaussian_reconstruction_loss: 20.9654 - r_squared: 0.3073 - r_squared_linreg: 0.3864 - val_loss: 19.1761 - val_custom_mae: 0.1800 - val_custom_mean_sd: 0.6373 - val_custom_mse: 0.0522 - val_custom_mse_scaled: 0.1286 - val_gaussian_reconstruction_loss: 19.1761 - val_r_squared: 0.3366 - val_r_squared_linreg: 0.3807 - lr: 0.0500 - 389ms/epoch - 389ms/step\n",
      "Epoch 10/10\n",
      "1/1 - 0s - loss: 19.3198 - custom_mae: 0.1858 - custom_mean_sd: 0.6373 - custom_mse: 0.0555 - custom_mse_scaled: 0.1366 - gaussian_reconstruction_loss: 19.3198 - r_squared: 0.3324 - r_squared_linreg: 0.3852 - val_loss: 17.5281 - val_custom_mae: 0.1759 - val_custom_mean_sd: 0.6060 - val_custom_mse: 0.0506 - val_custom_mse_scaled: 0.1377 - val_gaussian_reconstruction_loss: 17.5281 - val_r_squared: 0.3613 - val_r_squared_linreg: 0.4008 - lr: 0.0500 - 385ms/epoch - 385ms/step\n",
      "\n",
      "-------------------------------------------------------------------------------------------------\n",
      "\n",
      "                                       REP: 3\n",
      "\n",
      "-------------------------------------------------------------------------------------------------\n",
      "\n",
      "Loading data from raw files\n",
      "registering celldata\n"
     ]
    },
    {
     "name": "stderr",
     "output_type": "stream",
     "text": [
      "/home/ifichtner/mambaforge/envs/squidpyTF/lib/python3.8/site-packages/ncem/data.py:2389: FutureWarning: X.dtype being converted to np.float32 from float64. In the next version of anndata (0.9) conversion will not be automatic. Pass dtype explicitly to avoid this warning. Pass `AnnData(X, dtype=X.dtype, ...)` to get the future behavour.\n",
      "  celldata = AnnData(\n",
      "/home/ifichtner/mambaforge/envs/squidpyTF/lib/python3.8/site-packages/anndata/_core/anndata.py:121: ImplicitModificationWarning: Transforming to str index.\n",
      "  warnings.warn(\"Transforming to str index.\", ImplicitModificationWarning)\n"
     ]
    },
    {
     "name": "stdout",
     "output_type": "stream",
     "text": [
      "collecting image-wise celldata\n",
      "adding graph-level covariates\n"
     ]
    },
    {
     "name": "stderr",
     "output_type": "stream",
     "text": [
      "100%|██████████| 58/58 [00:01<00:00, 50.42it/s]\n"
     ]
    },
    {
     "name": "stdout",
     "output_type": "stream",
     "text": [
      "Loaded 58 images with complete data from 4 patients over 63747 cells with 36 cell features and 8 distinct celltypes.\n",
      "Mean of mean node degree per images across images: 4.416036\n",
      "Using split method: node. \n",
      " Train-test-validation split is based on total number of nodes per patients over all images.\n",
      "\n",
      "Excluded 0 cells with the following unannotated cell type: [None] \n",
      "\n",
      "Whole dataset: 63747 cells out of 58 images from 4 patients.\n",
      "Test dataset: 6376 cells out of 58 images from 4 patients.\n",
      "Training dataset: 51930 cells out of 58 images from 4 patients.\n",
      "Validation dataset: 5738 cells out of 58 images from 4 patients. \n",
      "\n",
      "Epoch 1/10\n",
      "1/1 - 2s - loss: 39.1541 - custom_mae: 0.4772 - custom_mean_sd: 1.0000 - custom_mse: 0.3374 - custom_mse_scaled: 0.3374 - gaussian_reconstruction_loss: 39.1541 - r_squared: -3.0780e+00 - r_squared_linreg: 3.3790e-05 - val_loss: 34.2578 - val_custom_mae: 0.3071 - val_custom_mean_sd: 0.9512 - val_custom_mse: 0.1496 - val_custom_mse_scaled: 0.1653 - val_gaussian_reconstruction_loss: 34.2578 - val_r_squared: -8.7190e-01 - val_r_squared_linreg: 0.0476 - lr: 0.0500 - 2s/epoch - 2s/step\n",
      "Epoch 2/10\n",
      "1/1 - 0s - loss: 34.2839 - custom_mae: 0.3076 - custom_mean_sd: 0.9512 - custom_mse: 0.1509 - custom_mse_scaled: 0.1668 - gaussian_reconstruction_loss: 34.2839 - r_squared: -8.5748e-01 - r_squared_linreg: 0.0570 - val_loss: 31.7460 - val_custom_mae: 0.2545 - val_custom_mean_sd: 0.9051 - val_custom_mse: 0.1026 - val_custom_mse_scaled: 0.1252 - val_gaussian_reconstruction_loss: 31.7460 - val_r_squared: -2.9088e-01 - val_r_squared_linreg: 0.2092 - lr: 0.0500 - 405ms/epoch - 405ms/step\n",
      "Epoch 3/10\n",
      "1/1 - 0s - loss: 31.7040 - custom_mae: 0.2506 - custom_mean_sd: 0.9051 - custom_mse: 0.1007 - custom_mse_scaled: 0.1229 - gaussian_reconstruction_loss: 31.7040 - r_squared: -2.3007e-01 - r_squared_linreg: 0.2269 - val_loss: 30.3212 - val_custom_mae: 0.2589 - val_custom_mean_sd: 0.8610 - val_custom_mse: 0.1081 - val_custom_mse_scaled: 0.1459 - val_gaussian_reconstruction_loss: 30.3211 - val_r_squared: -3.5484e-01 - val_r_squared_linreg: 0.3461 - lr: 0.0500 - 390ms/epoch - 390ms/step\n",
      "Epoch 4/10\n",
      "1/1 - 0s - loss: 30.1315 - custom_mae: 0.2489 - custom_mean_sd: 0.8610 - custom_mse: 0.1003 - custom_mse_scaled: 0.1353 - gaussian_reconstruction_loss: 30.1315 - r_squared: -2.1572e-01 - r_squared_linreg: 0.3644 - val_loss: 28.9511 - val_custom_mae: 0.2617 - val_custom_mean_sd: 0.8190 - val_custom_mse: 0.1139 - val_custom_mse_scaled: 0.1698 - val_gaussian_reconstruction_loss: 28.9511 - val_r_squared: -4.4905e-01 - val_r_squared_linreg: 0.4110 - lr: 0.0500 - 397ms/epoch - 397ms/step\n",
      "Epoch 5/10\n",
      "1/1 - 0s - loss: 28.8918 - custom_mae: 0.2587 - custom_mean_sd: 0.8190 - custom_mse: 0.1117 - custom_mse_scaled: 0.1665 - gaussian_reconstruction_loss: 28.8918 - r_squared: -3.6486e-01 - r_squared_linreg: 0.4260 - val_loss: 27.1285 - val_custom_mae: 0.2462 - val_custom_mean_sd: 0.7790 - val_custom_mse: 0.1024 - val_custom_mse_scaled: 0.1687 - val_gaussian_reconstruction_loss: 27.1285 - val_r_squared: -2.8021e-01 - val_r_squared_linreg: 0.4244 - lr: 0.0500 - 401ms/epoch - 401ms/step\n",
      "Epoch 6/10\n",
      "1/1 - 0s - loss: 27.1287 - custom_mae: 0.2452 - custom_mean_sd: 0.7790 - custom_mse: 0.1024 - custom_mse_scaled: 0.1687 - gaussian_reconstruction_loss: 27.1287 - r_squared: -2.3474e-01 - r_squared_linreg: 0.4386 - val_loss: 24.9961 - val_custom_mae: 0.2186 - val_custom_mean_sd: 0.7410 - val_custom_mse: 0.0826 - val_custom_mse_scaled: 0.1503 - val_gaussian_reconstruction_loss: 24.9961 - val_r_squared: -4.7897e-02 - val_r_squared_linreg: 0.4244 - lr: 0.0500 - 407ms/epoch - 407ms/step\n",
      "Epoch 7/10\n",
      "1/1 - 0s - loss: 25.0618 - custom_mae: 0.2218 - custom_mean_sd: 0.7410 - custom_mse: 0.0846 - custom_mse_scaled: 0.1540 - gaussian_reconstruction_loss: 25.0618 - r_squared: -8.1474e-03 - r_squared_linreg: 0.4174 - val_loss: 22.9459 - val_custom_mae: 0.1999 - val_custom_mean_sd: 0.7048 - val_custom_mse: 0.0679 - val_custom_mse_scaled: 0.1367 - val_gaussian_reconstruction_loss: 22.9459 - val_r_squared: 0.1372 - val_r_squared_linreg: 0.3976 - lr: 0.0500 - 388ms/epoch - 388ms/step\n",
      "Epoch 8/10\n",
      "1/1 - 0s - loss: 22.9599 - custom_mae: 0.2010 - custom_mean_sd: 0.7048 - custom_mse: 0.0683 - custom_mse_scaled: 0.1375 - gaussian_reconstruction_loss: 22.9599 - r_squared: 0.1770 - r_squared_linreg: 0.4063 - val_loss: 21.1365 - val_custom_mae: 0.1926 - val_custom_mean_sd: 0.6702 - val_custom_mse: 0.0614 - val_custom_mse_scaled: 0.1366 - val_gaussian_reconstruction_loss: 21.1365 - val_r_squared: 0.2269 - val_r_squared_linreg: 0.3700 - lr: 0.0500 - 383ms/epoch - 383ms/step\n",
      "Epoch 9/10\n",
      "1/1 - 0s - loss: 21.1258 - custom_mae: 0.1935 - custom_mean_sd: 0.6702 - custom_mse: 0.0611 - custom_mse_scaled: 0.1360 - gaussian_reconstruction_loss: 21.1258 - r_squared: 0.2586 - r_squared_linreg: 0.3873 - val_loss: 19.3008 - val_custom_mae: 0.1840 - val_custom_mean_sd: 0.6374 - val_custom_mse: 0.0549 - val_custom_mse_scaled: 0.1352 - val_gaussian_reconstruction_loss: 19.3008 - val_r_squared: 0.2966 - val_r_squared_linreg: 0.3746 - lr: 0.0500 - 401ms/epoch - 401ms/step\n",
      "Epoch 10/10\n",
      "1/1 - 0s - loss: 19.4108 - custom_mae: 0.1878 - custom_mean_sd: 0.6374 - custom_mse: 0.0574 - custom_mse_scaled: 0.1413 - gaussian_reconstruction_loss: 19.4108 - r_squared: 0.2955 - r_squared_linreg: 0.3872 - val_loss: 17.6671 - val_custom_mae: 0.1811 - val_custom_mean_sd: 0.6061 - val_custom_mse: 0.0533 - val_custom_mse_scaled: 0.1450 - val_gaussian_reconstruction_loss: 17.6671 - val_r_squared: 0.3230 - val_r_squared_linreg: 0.3848 - lr: 0.0500 - 392ms/epoch - 392ms/step\n",
      "\n",
      "-------------------------------------------------------------------------------------------------\n",
      "\n",
      "                                       REP: 4\n",
      "\n",
      "-------------------------------------------------------------------------------------------------\n",
      "\n",
      "Loading data from raw files\n",
      "registering celldata\n"
     ]
    },
    {
     "name": "stderr",
     "output_type": "stream",
     "text": [
      "/home/ifichtner/mambaforge/envs/squidpyTF/lib/python3.8/site-packages/ncem/data.py:2389: FutureWarning: X.dtype being converted to np.float32 from float64. In the next version of anndata (0.9) conversion will not be automatic. Pass dtype explicitly to avoid this warning. Pass `AnnData(X, dtype=X.dtype, ...)` to get the future behavour.\n",
      "  celldata = AnnData(\n",
      "/home/ifichtner/mambaforge/envs/squidpyTF/lib/python3.8/site-packages/anndata/_core/anndata.py:121: ImplicitModificationWarning: Transforming to str index.\n",
      "  warnings.warn(\"Transforming to str index.\", ImplicitModificationWarning)\n"
     ]
    },
    {
     "name": "stdout",
     "output_type": "stream",
     "text": [
      "collecting image-wise celldata\n",
      "adding graph-level covariates\n"
     ]
    },
    {
     "name": "stderr",
     "output_type": "stream",
     "text": [
      "100%|██████████| 58/58 [00:01<00:00, 52.10it/s]\n"
     ]
    },
    {
     "name": "stdout",
     "output_type": "stream",
     "text": [
      "Loaded 58 images with complete data from 4 patients over 63747 cells with 36 cell features and 8 distinct celltypes.\n",
      "Mean of mean node degree per images across images: 4.416036\n",
      "Using split method: node. \n",
      " Train-test-validation split is based on total number of nodes per patients over all images.\n",
      "\n",
      "Excluded 0 cells with the following unannotated cell type: [None] \n",
      "\n",
      "Whole dataset: 63747 cells out of 58 images from 4 patients.\n",
      "Test dataset: 6376 cells out of 58 images from 4 patients.\n",
      "Training dataset: 51930 cells out of 58 images from 4 patients.\n",
      "Validation dataset: 5738 cells out of 58 images from 4 patients. \n",
      "\n",
      "Epoch 1/10\n",
      "1/1 - 1s - loss: 38.7447 - custom_mae: 0.4561 - custom_mean_sd: 1.0000 - custom_mse: 0.3146 - custom_mse_scaled: 0.3146 - gaussian_reconstruction_loss: 38.7447 - r_squared: -2.8030e+00 - r_squared_linreg: 2.1215e-04 - val_loss: 34.1032 - val_custom_mae: 0.2968 - val_custom_mean_sd: 0.9512 - val_custom_mse: 0.1418 - val_custom_mse_scaled: 0.1567 - val_gaussian_reconstruction_loss: 34.1033 - val_r_squared: -8.0594e-01 - val_r_squared_linreg: 0.0636 - lr: 0.0500 - 1s/epoch - 1s/step\n",
      "Epoch 2/10\n",
      "1/1 - 0s - loss: 34.1418 - custom_mae: 0.2981 - custom_mean_sd: 0.9512 - custom_mse: 0.1438 - custom_mse_scaled: 0.1589 - gaussian_reconstruction_loss: 34.1418 - r_squared: -7.6957e-01 - r_squared_linreg: 0.0727 - val_loss: 31.6828 - val_custom_mae: 0.2489 - val_custom_mean_sd: 0.9050 - val_custom_mse: 0.0998 - val_custom_mse_scaled: 0.1219 - val_gaussian_reconstruction_loss: 31.6828 - val_r_squared: -2.5573e-01 - val_r_squared_linreg: 0.2426 - lr: 0.0500 - 416ms/epoch - 416ms/step\n",
      "Epoch 3/10\n",
      "1/1 - 0s - loss: 31.6393 - custom_mae: 0.2467 - custom_mean_sd: 0.9050 - custom_mse: 0.0979 - custom_mse_scaled: 0.1195 - gaussian_reconstruction_loss: 31.6393 - r_squared: -1.9570e-01 - r_squared_linreg: 0.2590 - val_loss: 30.2556 - val_custom_mae: 0.2554 - val_custom_mean_sd: 0.8609 - val_custom_mse: 0.1056 - val_custom_mse_scaled: 0.1425 - val_gaussian_reconstruction_loss: 30.2556 - val_r_squared: -3.2897e-01 - val_r_squared_linreg: 0.3501 - lr: 0.0500 - 423ms/epoch - 423ms/step\n",
      "Epoch 4/10\n",
      "1/1 - 0s - loss: 30.2495 - custom_mae: 0.2545 - custom_mean_sd: 0.8609 - custom_mse: 0.1054 - custom_mse_scaled: 0.1422 - gaussian_reconstruction_loss: 30.2495 - r_squared: -2.7471e-01 - r_squared_linreg: 0.3697 - val_loss: 28.7662 - val_custom_mae: 0.2539 - val_custom_mean_sd: 0.8189 - val_custom_mse: 0.1072 - val_custom_mse_scaled: 0.1599 - val_gaussian_reconstruction_loss: 28.7662 - val_r_squared: -3.6240e-01 - val_r_squared_linreg: 0.4082 - lr: 0.0500 - 398ms/epoch - 398ms/step\n",
      "Epoch 5/10\n",
      "1/1 - 0s - loss: 28.7394 - custom_mae: 0.2542 - custom_mean_sd: 0.8189 - custom_mse: 0.1062 - custom_mse_scaled: 0.1584 - gaussian_reconstruction_loss: 28.7394 - r_squared: -2.8418e-01 - r_squared_linreg: 0.4280 - val_loss: 26.8367 - val_custom_mae: 0.2338 - val_custom_mean_sd: 0.7789 - val_custom_mse: 0.0928 - val_custom_mse_scaled: 0.1529 - val_gaussian_reconstruction_loss: 26.8367 - val_r_squared: -1.5947e-01 - val_r_squared_linreg: 0.4084 - lr: 0.0500 - 406ms/epoch - 406ms/step\n",
      "Epoch 6/10\n",
      "1/1 - 0s - loss: 26.8828 - custom_mae: 0.2368 - custom_mean_sd: 0.7789 - custom_mse: 0.0943 - custom_mse_scaled: 0.1554 - gaussian_reconstruction_loss: 26.8828 - r_squared: -1.4062e-01 - r_squared_linreg: 0.4301 - val_loss: 24.7520 - val_custom_mae: 0.2100 - val_custom_mean_sd: 0.7408 - val_custom_mse: 0.0754 - val_custom_mse_scaled: 0.1373 - val_gaussian_reconstruction_loss: 24.7520 - val_r_squared: 0.0473 - val_r_squared_linreg: 0.4091 - lr: 0.0500 - 403ms/epoch - 403ms/step\n",
      "Epoch 7/10\n",
      "1/1 - 0s - loss: 24.8204 - custom_mae: 0.2128 - custom_mean_sd: 0.7408 - custom_mse: 0.0775 - custom_mse_scaled: 0.1411 - gaussian_reconstruction_loss: 24.8204 - r_squared: 0.0588 - r_squared_linreg: 0.4150 - val_loss: 22.7684 - val_custom_mae: 0.1945 - val_custom_mean_sd: 0.7045 - val_custom_mse: 0.0633 - val_custom_mse_scaled: 0.1275 - val_gaussian_reconstruction_loss: 22.7684 - val_r_squared: 0.2066 - val_r_squared_linreg: 0.3980 - lr: 0.0500 - 395ms/epoch - 395ms/step\n",
      "Epoch 8/10\n",
      "1/1 - 0s - loss: 22.8037 - custom_mae: 0.1949 - custom_mean_sd: 0.7045 - custom_mse: 0.0642 - custom_mse_scaled: 0.1294 - gaussian_reconstruction_loss: 22.8037 - r_squared: 0.2241 - r_squared_linreg: 0.4025 - val_loss: 20.9774 - val_custom_mae: 0.1870 - val_custom_mean_sd: 0.6700 - val_custom_mse: 0.0577 - val_custom_mse_scaled: 0.1285 - val_gaussian_reconstruction_loss: 20.9774 - val_r_squared: 0.2738 - val_r_squared_linreg: 0.3843 - lr: 0.0500 - 435ms/epoch - 435ms/step\n",
      "Epoch 9/10\n",
      "1/1 - 0s - loss: 21.0450 - custom_mae: 0.1895 - custom_mean_sd: 0.6700 - custom_mse: 0.0594 - custom_mse_scaled: 0.1322 - gaussian_reconstruction_loss: 21.0450 - r_squared: 0.2799 - r_squared_linreg: 0.3874 - val_loss: 19.3028 - val_custom_mae: 0.1836 - val_custom_mean_sd: 0.6371 - val_custom_mse: 0.0552 - val_custom_mse_scaled: 0.1360 - val_gaussian_reconstruction_loss: 19.3028 - val_r_squared: 0.3037 - val_r_squared_linreg: 0.3777 - lr: 0.0500 - 390ms/epoch - 390ms/step\n",
      "Epoch 10/10\n",
      "1/1 - 0s - loss: 19.3264 - custom_mae: 0.1848 - custom_mean_sd: 0.6371 - custom_mse: 0.0557 - custom_mse_scaled: 0.1373 - gaussian_reconstruction_loss: 19.3264 - r_squared: 0.3206 - r_squared_linreg: 0.3940 - val_loss: 17.5892 - val_custom_mae: 0.1779 - val_custom_mean_sd: 0.6059 - val_custom_mse: 0.0519 - val_custom_mse_scaled: 0.1414 - val_gaussian_reconstruction_loss: 17.5892 - val_r_squared: 0.3441 - val_r_squared_linreg: 0.3953 - lr: 0.0500 - 409ms/epoch - 409ms/step\n",
      "\n",
      "-------------------------------------------------------------------------------------------------\n",
      "\n",
      "                                       REP: 5\n",
      "\n",
      "-------------------------------------------------------------------------------------------------\n",
      "\n",
      "Loading data from raw files\n",
      "registering celldata\n"
     ]
    },
    {
     "name": "stderr",
     "output_type": "stream",
     "text": [
      "/home/ifichtner/mambaforge/envs/squidpyTF/lib/python3.8/site-packages/ncem/data.py:2389: FutureWarning: X.dtype being converted to np.float32 from float64. In the next version of anndata (0.9) conversion will not be automatic. Pass dtype explicitly to avoid this warning. Pass `AnnData(X, dtype=X.dtype, ...)` to get the future behavour.\n",
      "  celldata = AnnData(\n",
      "/home/ifichtner/mambaforge/envs/squidpyTF/lib/python3.8/site-packages/anndata/_core/anndata.py:121: ImplicitModificationWarning: Transforming to str index.\n",
      "  warnings.warn(\"Transforming to str index.\", ImplicitModificationWarning)\n"
     ]
    },
    {
     "name": "stdout",
     "output_type": "stream",
     "text": [
      "collecting image-wise celldata\n",
      "adding graph-level covariates\n"
     ]
    },
    {
     "name": "stderr",
     "output_type": "stream",
     "text": [
      "100%|██████████| 58/58 [00:01<00:00, 48.49it/s]\n"
     ]
    },
    {
     "name": "stdout",
     "output_type": "stream",
     "text": [
      "Loaded 58 images with complete data from 4 patients over 63747 cells with 36 cell features and 8 distinct celltypes.\n",
      "Mean of mean node degree per images across images: 4.416036\n",
      "Using split method: node. \n",
      " Train-test-validation split is based on total number of nodes per patients over all images.\n",
      "\n",
      "Excluded 0 cells with the following unannotated cell type: [None] \n",
      "\n",
      "Whole dataset: 63747 cells out of 58 images from 4 patients.\n",
      "Test dataset: 6376 cells out of 58 images from 4 patients.\n",
      "Training dataset: 51930 cells out of 58 images from 4 patients.\n",
      "Validation dataset: 5738 cells out of 58 images from 4 patients. \n",
      "\n",
      "Epoch 1/10\n",
      "1/1 - 1s - loss: 38.9157 - custom_mae: 0.4646 - custom_mean_sd: 1.0000 - custom_mse: 0.3241 - custom_mse_scaled: 0.3241 - gaussian_reconstruction_loss: 38.9157 - r_squared: -2.9179e+00 - r_squared_linreg: 6.3798e-04 - val_loss: 34.0420 - val_custom_mae: 0.2950 - val_custom_mean_sd: 0.9512 - val_custom_mse: 0.1388 - val_custom_mse_scaled: 0.1533 - val_gaussian_reconstruction_loss: 34.0420 - val_r_squared: -7.5481e-01 - val_r_squared_linreg: 0.0528 - lr: 0.0500 - 1s/epoch - 1s/step\n",
      "Epoch 2/10\n",
      "1/1 - 0s - loss: 34.1441 - custom_mae: 0.2990 - custom_mean_sd: 0.9512 - custom_mse: 0.1439 - custom_mse_scaled: 0.1590 - gaussian_reconstruction_loss: 34.1441 - r_squared: -7.7099e-01 - r_squared_linreg: 0.0457 - val_loss: 31.7158 - val_custom_mae: 0.2530 - val_custom_mean_sd: 0.9051 - val_custom_mse: 0.1012 - val_custom_mse_scaled: 0.1235 - val_gaussian_reconstruction_loss: 31.7158 - val_r_squared: -2.8157e-01 - val_r_squared_linreg: 0.1959 - lr: 0.0500 - 387ms/epoch - 387ms/step\n",
      "Epoch 3/10\n",
      "1/1 - 0s - loss: 31.6582 - custom_mae: 0.2493 - custom_mean_sd: 0.9051 - custom_mse: 0.0985 - custom_mse_scaled: 0.1203 - gaussian_reconstruction_loss: 31.6582 - r_squared: -2.0252e-01 - r_squared_linreg: 0.2187 - val_loss: 30.2435 - val_custom_mae: 0.2538 - val_custom_mean_sd: 0.8611 - val_custom_mse: 0.1048 - val_custom_mse_scaled: 0.1414 - val_gaussian_reconstruction_loss: 30.2435 - val_r_squared: -3.1106e-01 - val_r_squared_linreg: 0.3557 - lr: 0.0500 - 389ms/epoch - 389ms/step\n",
      "Epoch 4/10\n",
      "1/1 - 0s - loss: 30.2995 - custom_mae: 0.2573 - custom_mean_sd: 0.8611 - custom_mse: 0.1071 - custom_mse_scaled: 0.1445 - gaussian_reconstruction_loss: 30.2995 - r_squared: -3.0589e-01 - r_squared_linreg: 0.3423 - val_loss: 28.7783 - val_custom_mae: 0.2549 - val_custom_mean_sd: 0.8191 - val_custom_mse: 0.1074 - val_custom_mse_scaled: 0.1599 - val_gaussian_reconstruction_loss: 28.7783 - val_r_squared: -3.5298e-01 - val_r_squared_linreg: 0.4329 - lr: 0.0500 - 390ms/epoch - 390ms/step\n",
      "Epoch 5/10\n",
      "1/1 - 0s - loss: 28.7019 - custom_mae: 0.2517 - custom_mean_sd: 0.8191 - custom_mse: 0.1045 - custom_mse_scaled: 0.1557 - gaussian_reconstruction_loss: 28.7019 - r_squared: -2.6435e-01 - r_squared_linreg: 0.4301 - val_loss: 27.0300 - val_custom_mae: 0.2413 - val_custom_mean_sd: 0.7792 - val_custom_mse: 0.0990 - val_custom_mse_scaled: 0.1628 - val_gaussian_reconstruction_loss: 27.0300 - val_r_squared: -2.2696e-01 - val_r_squared_linreg: 0.4252 - lr: 0.0500 - 372ms/epoch - 372ms/step\n",
      "Epoch 6/10\n",
      "1/1 - 0s - loss: 26.9290 - custom_mae: 0.2374 - custom_mean_sd: 0.7792 - custom_mse: 0.0956 - custom_mse_scaled: 0.1572 - gaussian_reconstruction_loss: 26.9290 - r_squared: -1.5450e-01 - r_squared_linreg: 0.4433 - val_loss: 24.9093 - val_custom_mae: 0.2140 - val_custom_mean_sd: 0.7411 - val_custom_mse: 0.0799 - val_custom_mse_scaled: 0.1452 - val_gaussian_reconstruction_loss: 24.9093 - val_r_squared: -1.4226e-02 - val_r_squared_linreg: 0.4328 - lr: 0.0500 - 354ms/epoch - 354ms/step\n",
      "Epoch 7/10\n",
      "1/1 - 0s - loss: 25.0614 - custom_mae: 0.2216 - custom_mean_sd: 0.7411 - custom_mse: 0.0845 - custom_mse_scaled: 0.1536 - gaussian_reconstruction_loss: 25.0614 - r_squared: -1.9223e-02 - r_squared_linreg: 0.4250 - val_loss: 22.8685 - val_custom_mae: 0.1966 - val_custom_mean_sd: 0.7049 - val_custom_mse: 0.0657 - val_custom_mse_scaled: 0.1320 - val_gaussian_reconstruction_loss: 22.8685 - val_r_squared: 0.1756 - val_r_squared_linreg: 0.4029 - lr: 0.0500 - 378ms/epoch - 378ms/step\n",
      "Epoch 8/10\n",
      "1/1 - 0s - loss: 22.9068 - custom_mae: 0.1985 - custom_mean_sd: 0.7049 - custom_mse: 0.0667 - custom_mse_scaled: 0.1341 - gaussian_reconstruction_loss: 22.9068 - r_squared: 0.1808 - r_squared_linreg: 0.4077 - val_loss: 21.0015 - val_custom_mae: 0.1871 - val_custom_mean_sd: 0.6704 - val_custom_mse: 0.0578 - val_custom_mse_scaled: 0.1286 - val_gaussian_reconstruction_loss: 21.0015 - val_r_squared: 0.2726 - val_r_squared_linreg: 0.3855 - lr: 0.0500 - 372ms/epoch - 372ms/step\n",
      "Epoch 9/10\n",
      "1/1 - 0s - loss: 21.0448 - custom_mae: 0.1885 - custom_mean_sd: 0.6704 - custom_mse: 0.0589 - custom_mse_scaled: 0.1310 - gaussian_reconstruction_loss: 21.0448 - r_squared: 0.2785 - r_squared_linreg: 0.3950 - val_loss: 19.2738 - val_custom_mae: 0.1821 - val_custom_mean_sd: 0.6375 - val_custom_mse: 0.0541 - val_custom_mse_scaled: 0.1332 - val_gaussian_reconstruction_loss: 19.2738 - val_r_squared: 0.3190 - val_r_squared_linreg: 0.3912 - lr: 0.0500 - 423ms/epoch - 423ms/step\n",
      "Epoch 10/10\n",
      "1/1 - 0s - loss: 19.3885 - custom_mae: 0.1869 - custom_mean_sd: 0.6375 - custom_mse: 0.0567 - custom_mse_scaled: 0.1395 - gaussian_reconstruction_loss: 19.3885 - r_squared: 0.3117 - r_squared_linreg: 0.3959 - val_loss: 17.5079 - val_custom_mae: 0.1737 - val_custom_mean_sd: 0.6063 - val_custom_mse: 0.0499 - val_custom_mse_scaled: 0.1356 - val_gaussian_reconstruction_loss: 17.5079 - val_r_squared: 0.3686 - val_r_squared_linreg: 0.4167 - lr: 0.0500 - 434ms/epoch - 434ms/step\n",
      "\n",
      "-------------------------------------------------------------------------------------------------\n",
      "\n",
      "                                       REP: 6\n",
      "\n",
      "-------------------------------------------------------------------------------------------------\n",
      "\n",
      "Loading data from raw files\n",
      "registering celldata\n"
     ]
    },
    {
     "name": "stderr",
     "output_type": "stream",
     "text": [
      "/home/ifichtner/mambaforge/envs/squidpyTF/lib/python3.8/site-packages/ncem/data.py:2389: FutureWarning: X.dtype being converted to np.float32 from float64. In the next version of anndata (0.9) conversion will not be automatic. Pass dtype explicitly to avoid this warning. Pass `AnnData(X, dtype=X.dtype, ...)` to get the future behavour.\n",
      "  celldata = AnnData(\n",
      "/home/ifichtner/mambaforge/envs/squidpyTF/lib/python3.8/site-packages/anndata/_core/anndata.py:121: ImplicitModificationWarning: Transforming to str index.\n",
      "  warnings.warn(\"Transforming to str index.\", ImplicitModificationWarning)\n"
     ]
    },
    {
     "name": "stdout",
     "output_type": "stream",
     "text": [
      "collecting image-wise celldata\n",
      "adding graph-level covariates\n"
     ]
    },
    {
     "name": "stderr",
     "output_type": "stream",
     "text": [
      "100%|██████████| 58/58 [00:01<00:00, 51.21it/s]\n"
     ]
    },
    {
     "name": "stdout",
     "output_type": "stream",
     "text": [
      "Loaded 58 images with complete data from 4 patients over 63747 cells with 36 cell features and 8 distinct celltypes.\n",
      "Mean of mean node degree per images across images: 4.416036\n",
      "Using split method: node. \n",
      " Train-test-validation split is based on total number of nodes per patients over all images.\n",
      "\n",
      "Excluded 0 cells with the following unannotated cell type: [None] \n",
      "\n",
      "Whole dataset: 63747 cells out of 58 images from 4 patients.\n",
      "Test dataset: 6376 cells out of 58 images from 4 patients.\n",
      "Training dataset: 51930 cells out of 58 images from 4 patients.\n",
      "Validation dataset: 5738 cells out of 58 images from 4 patients. \n",
      "\n",
      "Epoch 1/10\n",
      "1/1 - 1s - loss: 38.8594 - custom_mae: 0.4651 - custom_mean_sd: 1.0000 - custom_mse: 0.3210 - custom_mse_scaled: 0.3210 - gaussian_reconstruction_loss: 38.8594 - r_squared: -2.8801e+00 - r_squared_linreg: 8.8297e-06 - val_loss: 34.0466 - val_custom_mae: 0.2932 - val_custom_mean_sd: 0.9512 - val_custom_mse: 0.1390 - val_custom_mse_scaled: 0.1536 - val_gaussian_reconstruction_loss: 34.0466 - val_r_squared: -7.7338e-01 - val_r_squared_linreg: 0.0639 - lr: 0.0500 - 1s/epoch - 1s/step\n",
      "Epoch 2/10\n",
      "1/1 - 0s - loss: 34.1205 - custom_mae: 0.2996 - custom_mean_sd: 0.9512 - custom_mse: 0.1427 - custom_mse_scaled: 0.1577 - gaussian_reconstruction_loss: 34.1205 - r_squared: -7.5639e-01 - r_squared_linreg: 0.0711 - val_loss: 31.6272 - val_custom_mae: 0.2462 - val_custom_mean_sd: 0.9051 - val_custom_mse: 0.0972 - val_custom_mse_scaled: 0.1187 - val_gaussian_reconstruction_loss: 31.6272 - val_r_squared: -2.2662e-01 - val_r_squared_linreg: 0.2222 - lr: 0.0500 - 386ms/epoch - 386ms/step\n",
      "Epoch 3/10\n",
      "1/1 - 0s - loss: 31.6411 - custom_mae: 0.2485 - custom_mean_sd: 0.9051 - custom_mse: 0.0978 - custom_mse_scaled: 0.1194 - gaussian_reconstruction_loss: 31.6411 - r_squared: -1.9570e-01 - r_squared_linreg: 0.2382 - val_loss: 30.2697 - val_custom_mae: 0.2565 - val_custom_mean_sd: 0.8610 - val_custom_mse: 0.1060 - val_custom_mse_scaled: 0.1430 - val_gaussian_reconstruction_loss: 30.2697 - val_r_squared: -3.5462e-01 - val_r_squared_linreg: 0.3544 - lr: 0.0500 - 430ms/epoch - 430ms/step\n",
      "Epoch 4/10\n",
      "1/1 - 0s - loss: 30.2303 - custom_mae: 0.2538 - custom_mean_sd: 0.8610 - custom_mse: 0.1044 - custom_mse_scaled: 0.1408 - gaussian_reconstruction_loss: 30.2303 - r_squared: -2.7747e-01 - r_squared_linreg: 0.3733 - val_loss: 28.7770 - val_custom_mae: 0.2538 - val_custom_mean_sd: 0.8190 - val_custom_mse: 0.1075 - val_custom_mse_scaled: 0.1601 - val_gaussian_reconstruction_loss: 28.7770 - val_r_squared: -3.4713e-01 - val_r_squared_linreg: 0.4048 - lr: 0.0500 - 417ms/epoch - 417ms/step\n",
      "Epoch 5/10\n",
      "1/1 - 0s - loss: 28.8255 - custom_mae: 0.2560 - custom_mean_sd: 0.8190 - custom_mse: 0.1093 - custom_mse_scaled: 0.1628 - gaussian_reconstruction_loss: 28.8255 - r_squared: -3.2163e-01 - r_squared_linreg: 0.4169 - val_loss: 26.9967 - val_custom_mae: 0.2403 - val_custom_mean_sd: 0.7790 - val_custom_mse: 0.0980 - val_custom_mse_scaled: 0.1613 - val_gaussian_reconstruction_loss: 26.9967 - val_r_squared: -2.5849e-01 - val_r_squared_linreg: 0.4373 - lr: 0.0500 - 395ms/epoch - 395ms/step\n",
      "Epoch 6/10\n",
      "1/1 - 0s - loss: 26.9728 - custom_mae: 0.2389 - custom_mean_sd: 0.7790 - custom_mse: 0.0972 - custom_mse_scaled: 0.1600 - gaussian_reconstruction_loss: 26.9728 - r_squared: -1.6891e-01 - r_squared_linreg: 0.4316 - val_loss: 24.8501 - val_custom_mae: 0.2134 - val_custom_mean_sd: 0.7410 - val_custom_mse: 0.0782 - val_custom_mse_scaled: 0.1422 - val_gaussian_reconstruction_loss: 24.8501 - val_r_squared: 0.0011 - val_r_squared_linreg: 0.4063 - lr: 0.0500 - 366ms/epoch - 366ms/step\n",
      "Epoch 7/10\n",
      "1/1 - 0s - loss: 24.9333 - custom_mae: 0.2169 - custom_mean_sd: 0.7410 - custom_mse: 0.0807 - custom_mse_scaled: 0.1468 - gaussian_reconstruction_loss: 24.9333 - r_squared: 0.0316 - r_squared_linreg: 0.4261 - val_loss: 22.7560 - val_custom_mae: 0.1930 - val_custom_mean_sd: 0.7048 - val_custom_mse: 0.0627 - val_custom_mse_scaled: 0.1261 - val_gaussian_reconstruction_loss: 22.7560 - val_r_squared: 0.2032 - val_r_squared_linreg: 0.4170 - lr: 0.0500 - 372ms/epoch - 372ms/step\n",
      "Epoch 8/10\n",
      "1/1 - 0s - loss: 22.8327 - custom_mae: 0.1964 - custom_mean_sd: 0.7048 - custom_mse: 0.0648 - custom_mse_scaled: 0.1304 - gaussian_reconstruction_loss: 22.8327 - r_squared: 0.2159 - r_squared_linreg: 0.4115 - val_loss: 20.9692 - val_custom_mae: 0.1852 - val_custom_mean_sd: 0.6702 - val_custom_mse: 0.0572 - val_custom_mse_scaled: 0.1273 - val_gaussian_reconstruction_loss: 20.9692 - val_r_squared: 0.2810 - val_r_squared_linreg: 0.3983 - lr: 0.0500 - 364ms/epoch - 364ms/step\n",
      "Epoch 9/10\n",
      "1/1 - 0s - loss: 20.9846 - custom_mae: 0.1867 - custom_mean_sd: 0.6702 - custom_mse: 0.0576 - custom_mse_scaled: 0.1282 - gaussian_reconstruction_loss: 20.9846 - r_squared: 0.3004 - r_squared_linreg: 0.4092 - val_loss: 19.2353 - val_custom_mae: 0.1809 - val_custom_mean_sd: 0.6374 - val_custom_mse: 0.0535 - val_custom_mse_scaled: 0.1315 - val_gaussian_reconstruction_loss: 19.2354 - val_r_squared: 0.3268 - val_r_squared_linreg: 0.3967 - lr: 0.0500 - 359ms/epoch - 359ms/step\n",
      "Epoch 10/10\n",
      "1/1 - 0s - loss: 19.3902 - custom_mae: 0.1867 - custom_mean_sd: 0.6374 - custom_mse: 0.0569 - custom_mse_scaled: 0.1401 - gaussian_reconstruction_loss: 19.3902 - r_squared: 0.3122 - r_squared_linreg: 0.3939 - val_loss: 17.6300 - val_custom_mae: 0.1793 - val_custom_mean_sd: 0.6061 - val_custom_mse: 0.0525 - val_custom_mse_scaled: 0.1430 - val_gaussian_reconstruction_loss: 17.6300 - val_r_squared: 0.3349 - val_r_squared_linreg: 0.3868 - lr: 0.0500 - 385ms/epoch - 385ms/step\n",
      "\n",
      "-------------------------------------------------------------------------------------------------\n",
      "\n",
      "                                       REP: 7\n",
      "\n",
      "-------------------------------------------------------------------------------------------------\n",
      "\n",
      "Loading data from raw files\n",
      "registering celldata\n"
     ]
    },
    {
     "name": "stderr",
     "output_type": "stream",
     "text": [
      "/home/ifichtner/mambaforge/envs/squidpyTF/lib/python3.8/site-packages/ncem/data.py:2389: FutureWarning: X.dtype being converted to np.float32 from float64. In the next version of anndata (0.9) conversion will not be automatic. Pass dtype explicitly to avoid this warning. Pass `AnnData(X, dtype=X.dtype, ...)` to get the future behavour.\n",
      "  celldata = AnnData(\n",
      "/home/ifichtner/mambaforge/envs/squidpyTF/lib/python3.8/site-packages/anndata/_core/anndata.py:121: ImplicitModificationWarning: Transforming to str index.\n",
      "  warnings.warn(\"Transforming to str index.\", ImplicitModificationWarning)\n"
     ]
    },
    {
     "name": "stdout",
     "output_type": "stream",
     "text": [
      "collecting image-wise celldata\n",
      "adding graph-level covariates\n"
     ]
    },
    {
     "name": "stderr",
     "output_type": "stream",
     "text": [
      "100%|██████████| 58/58 [00:01<00:00, 49.46it/s]\n"
     ]
    },
    {
     "name": "stdout",
     "output_type": "stream",
     "text": [
      "Loaded 58 images with complete data from 4 patients over 63747 cells with 36 cell features and 8 distinct celltypes.\n",
      "Mean of mean node degree per images across images: 4.416036\n",
      "Using split method: node. \n",
      " Train-test-validation split is based on total number of nodes per patients over all images.\n",
      "\n",
      "Excluded 0 cells with the following unannotated cell type: [None] \n",
      "\n",
      "Whole dataset: 63747 cells out of 58 images from 4 patients.\n",
      "Test dataset: 6376 cells out of 58 images from 4 patients.\n",
      "Training dataset: 51930 cells out of 58 images from 4 patients.\n",
      "Validation dataset: 5738 cells out of 58 images from 4 patients. \n",
      "\n",
      "Epoch 1/10\n",
      "1/1 - 2s - loss: 38.8029 - custom_mae: 0.4584 - custom_mean_sd: 1.0000 - custom_mse: 0.3178 - custom_mse_scaled: 0.3178 - gaussian_reconstruction_loss: 38.8029 - r_squared: -2.8421e+00 - r_squared_linreg: 0.0053 - val_loss: 34.1266 - val_custom_mae: 0.2992 - val_custom_mean_sd: 0.9512 - val_custom_mse: 0.1430 - val_custom_mse_scaled: 0.1580 - val_gaussian_reconstruction_loss: 34.1266 - val_r_squared: -8.0250e-01 - val_r_squared_linreg: 0.0371 - lr: 0.0500 - 2s/epoch - 2s/step\n",
      "Epoch 2/10\n",
      "1/1 - 0s - loss: 34.1587 - custom_mae: 0.3004 - custom_mean_sd: 0.9512 - custom_mse: 0.1446 - custom_mse_scaled: 0.1598 - gaussian_reconstruction_loss: 34.1587 - r_squared: -7.8001e-01 - r_squared_linreg: 0.0431 - val_loss: 31.6563 - val_custom_mae: 0.2474 - val_custom_mean_sd: 0.9052 - val_custom_mse: 0.0983 - val_custom_mse_scaled: 0.1200 - val_gaussian_reconstruction_loss: 31.6563 - val_r_squared: -2.4014e-01 - val_r_squared_linreg: 0.2201 - lr: 0.0500 - 437ms/epoch - 437ms/step\n",
      "Epoch 3/10\n",
      "1/1 - 0s - loss: 31.5856 - custom_mae: 0.2428 - custom_mean_sd: 0.9052 - custom_mse: 0.0951 - custom_mse_scaled: 0.1160 - gaussian_reconstruction_loss: 31.5856 - r_squared: -1.6802e-01 - r_squared_linreg: 0.2415 - val_loss: 30.2529 - val_custom_mae: 0.2524 - val_custom_mean_sd: 0.8613 - val_custom_mse: 0.1050 - val_custom_mse_scaled: 0.1415 - val_gaussian_reconstruction_loss: 30.2529 - val_r_squared: -3.4048e-01 - val_r_squared_linreg: 0.3699 - lr: 0.0500 - 449ms/epoch - 449ms/step\n",
      "Epoch 4/10\n",
      "1/1 - 0s - loss: 30.3142 - custom_mae: 0.2561 - custom_mean_sd: 0.8613 - custom_mse: 0.1075 - custom_mse_scaled: 0.1449 - gaussian_reconstruction_loss: 30.3142 - r_squared: -3.1534e-01 - r_squared_linreg: 0.3719 - val_loss: 28.8769 - val_custom_mae: 0.2561 - val_custom_mean_sd: 0.8193 - val_custom_mse: 0.1108 - val_custom_mse_scaled: 0.1649 - val_gaussian_reconstruction_loss: 28.8769 - val_r_squared: -4.0681e-01 - val_r_squared_linreg: 0.4190 - lr: 0.0500 - 432ms/epoch - 432ms/step\n",
      "Epoch 5/10\n",
      "1/1 - 0s - loss: 28.7374 - custom_mae: 0.2503 - custom_mean_sd: 0.8193 - custom_mse: 0.1056 - custom_mse_scaled: 0.1572 - gaussian_reconstruction_loss: 28.7374 - r_squared: -2.8472e-01 - r_squared_linreg: 0.4289 - val_loss: 26.9078 - val_custom_mae: 0.2347 - val_custom_mean_sd: 0.7794 - val_custom_mse: 0.0946 - val_custom_mse_scaled: 0.1555 - val_gaussian_reconstruction_loss: 26.9078 - val_r_squared: -1.9440e-01 - val_r_squared_linreg: 0.4262 - lr: 0.0500 - 407ms/epoch - 407ms/step\n",
      "Epoch 6/10\n",
      "1/1 - 0s - loss: 26.9273 - custom_mae: 0.2353 - custom_mean_sd: 0.7794 - custom_mse: 0.0953 - custom_mse_scaled: 0.1565 - gaussian_reconstruction_loss: 26.9273 - r_squared: -1.4800e-01 - r_squared_linreg: 0.4293 - val_loss: 24.8936 - val_custom_mae: 0.2156 - val_custom_mean_sd: 0.7414 - val_custom_mse: 0.0791 - val_custom_mse_scaled: 0.1436 - val_gaussian_reconstruction_loss: 24.8936 - val_r_squared: -3.4392e-03 - val_r_squared_linreg: 0.4061 - lr: 0.0500 - 399ms/epoch - 399ms/step\n",
      "Epoch 7/10\n",
      "1/1 - 0s - loss: 24.8146 - custom_mae: 0.2135 - custom_mean_sd: 0.7414 - custom_mse: 0.0767 - custom_mse_scaled: 0.1392 - gaussian_reconstruction_loss: 24.8146 - r_squared: 0.0780 - r_squared_linreg: 0.4096 - val_loss: 22.8527 - val_custom_mae: 0.1983 - val_custom_mean_sd: 0.7051 - val_custom_mse: 0.0650 - val_custom_mse_scaled: 0.1304 - val_gaussian_reconstruction_loss: 22.8527 - val_r_squared: 0.1742 - val_r_squared_linreg: 0.3822 - lr: 0.0500 - 396ms/epoch - 396ms/step\n",
      "Epoch 8/10\n",
      "1/1 - 0s - loss: 22.8395 - custom_mae: 0.1980 - custom_mean_sd: 0.7051 - custom_mse: 0.0646 - custom_mse_scaled: 0.1297 - gaussian_reconstruction_loss: 22.8395 - r_squared: 0.2085 - r_squared_linreg: 0.3882 - val_loss: 20.9661 - val_custom_mae: 0.1850 - val_custom_mean_sd: 0.6706 - val_custom_mse: 0.0567 - val_custom_mse_scaled: 0.1260 - val_gaussian_reconstruction_loss: 20.9661 - val_r_squared: 0.2729 - val_r_squared_linreg: 0.3901 - lr: 0.0500 - 378ms/epoch - 378ms/step\n",
      "Epoch 9/10\n",
      "1/1 - 0s - loss: 21.1271 - custom_mae: 0.1913 - custom_mean_sd: 0.6706 - custom_mse: 0.0608 - custom_mse_scaled: 0.1349 - gaussian_reconstruction_loss: 21.1271 - r_squared: 0.2704 - r_squared_linreg: 0.3842 - val_loss: 19.3252 - val_custom_mae: 0.1809 - val_custom_mean_sd: 0.6378 - val_custom_mse: 0.0551 - val_custom_mse_scaled: 0.1353 - val_gaussian_reconstruction_loss: 19.3252 - val_r_squared: 0.3024 - val_r_squared_linreg: 0.3925 - lr: 0.0500 - 433ms/epoch - 433ms/step\n",
      "Epoch 10/10\n",
      "1/1 - 0s - loss: 19.3680 - custom_mae: 0.1837 - custom_mean_sd: 0.6378 - custom_mse: 0.0560 - custom_mse_scaled: 0.1377 - gaussian_reconstruction_loss: 19.3680 - r_squared: 0.3229 - r_squared_linreg: 0.4091 - val_loss: 17.6002 - val_custom_mae: 0.1742 - val_custom_mean_sd: 0.6065 - val_custom_mse: 0.0515 - val_custom_mse_scaled: 0.1400 - val_gaussian_reconstruction_loss: 17.6002 - val_r_squared: 0.3467 - val_r_squared_linreg: 0.4094 - lr: 0.0500 - 406ms/epoch - 406ms/step\n",
      "\n",
      "-------------------------------------------------------------------------------------------------\n",
      "\n",
      "                                       REP: 8\n",
      "\n",
      "-------------------------------------------------------------------------------------------------\n",
      "\n",
      "Loading data from raw files\n",
      "registering celldata\n"
     ]
    },
    {
     "name": "stderr",
     "output_type": "stream",
     "text": [
      "/home/ifichtner/mambaforge/envs/squidpyTF/lib/python3.8/site-packages/ncem/data.py:2389: FutureWarning: X.dtype being converted to np.float32 from float64. In the next version of anndata (0.9) conversion will not be automatic. Pass dtype explicitly to avoid this warning. Pass `AnnData(X, dtype=X.dtype, ...)` to get the future behavour.\n",
      "  celldata = AnnData(\n",
      "/home/ifichtner/mambaforge/envs/squidpyTF/lib/python3.8/site-packages/anndata/_core/anndata.py:121: ImplicitModificationWarning: Transforming to str index.\n",
      "  warnings.warn(\"Transforming to str index.\", ImplicitModificationWarning)\n"
     ]
    },
    {
     "name": "stdout",
     "output_type": "stream",
     "text": [
      "collecting image-wise celldata\n",
      "adding graph-level covariates\n"
     ]
    },
    {
     "name": "stderr",
     "output_type": "stream",
     "text": [
      "100%|██████████| 58/58 [00:01<00:00, 48.58it/s]\n"
     ]
    },
    {
     "name": "stdout",
     "output_type": "stream",
     "text": [
      "Loaded 58 images with complete data from 4 patients over 63747 cells with 36 cell features and 8 distinct celltypes.\n",
      "Mean of mean node degree per images across images: 4.416036\n",
      "Using split method: node. \n",
      " Train-test-validation split is based on total number of nodes per patients over all images.\n",
      "\n",
      "Excluded 0 cells with the following unannotated cell type: [None] \n",
      "\n",
      "Whole dataset: 63747 cells out of 58 images from 4 patients.\n",
      "Test dataset: 6376 cells out of 58 images from 4 patients.\n",
      "Training dataset: 51930 cells out of 58 images from 4 patients.\n",
      "Validation dataset: 5738 cells out of 58 images from 4 patients. \n",
      "\n",
      "Epoch 1/10\n",
      "1/1 - 1s - loss: 38.7739 - custom_mae: 0.4573 - custom_mean_sd: 1.0000 - custom_mse: 0.3162 - custom_mse_scaled: 0.3162 - gaussian_reconstruction_loss: 38.7739 - r_squared: -2.8227e+00 - r_squared_linreg: 0.0025 - val_loss: 34.1116 - val_custom_mae: 0.2993 - val_custom_mean_sd: 0.9512 - val_custom_mse: 0.1423 - val_custom_mse_scaled: 0.1572 - val_gaussian_reconstruction_loss: 34.1116 - val_r_squared: -7.7806e-01 - val_r_squared_linreg: 0.0482 - lr: 0.0500 - 1s/epoch - 1s/step\n",
      "Epoch 2/10\n",
      "1/1 - 0s - loss: 34.1854 - custom_mae: 0.3020 - custom_mean_sd: 0.9512 - custom_mse: 0.1460 - custom_mse_scaled: 0.1613 - gaussian_reconstruction_loss: 34.1854 - r_squared: -7.9654e-01 - r_squared_linreg: 0.0504 - val_loss: 31.6093 - val_custom_mae: 0.2462 - val_custom_mean_sd: 0.9051 - val_custom_mse: 0.0964 - val_custom_mse_scaled: 0.1177 - val_gaussian_reconstruction_loss: 31.6093 - val_r_squared: -2.3132e-01 - val_r_squared_linreg: 0.2304 - lr: 0.0500 - 410ms/epoch - 410ms/step\n",
      "Epoch 3/10\n",
      "1/1 - 0s - loss: 31.6199 - custom_mae: 0.2455 - custom_mean_sd: 0.9051 - custom_mse: 0.0969 - custom_mse_scaled: 0.1182 - gaussian_reconstruction_loss: 31.6199 - r_squared: -1.7984e-01 - r_squared_linreg: 0.2311 - val_loss: 30.1497 - val_custom_mae: 0.2480 - val_custom_mean_sd: 0.8610 - val_custom_mse: 0.1011 - val_custom_mse_scaled: 0.1363 - val_gaussian_reconstruction_loss: 30.1497 - val_r_squared: -2.8818e-01 - val_r_squared_linreg: 0.3622 - lr: 0.0500 - 440ms/epoch - 440ms/step\n",
      "Epoch 4/10\n",
      "1/1 - 0s - loss: 30.1531 - custom_mae: 0.2492 - custom_mean_sd: 0.8610 - custom_mse: 0.1012 - custom_mse_scaled: 0.1365 - gaussian_reconstruction_loss: 30.1531 - r_squared: -2.2329e-01 - r_squared_linreg: 0.3731 - val_loss: 28.7056 - val_custom_mae: 0.2499 - val_custom_mean_sd: 0.8190 - val_custom_mse: 0.1048 - val_custom_mse_scaled: 0.1561 - val_gaussian_reconstruction_loss: 28.7056 - val_r_squared: -3.0498e-01 - val_r_squared_linreg: 0.4243 - lr: 0.0500 - 396ms/epoch - 396ms/step\n",
      "Epoch 5/10\n",
      "1/1 - 0s - loss: 28.7558 - custom_mae: 0.2536 - custom_mean_sd: 0.8190 - custom_mse: 0.1067 - custom_mse_scaled: 0.1589 - gaussian_reconstruction_loss: 28.7558 - r_squared: -3.0081e-01 - r_squared_linreg: 0.4157 - val_loss: 26.8568 - val_custom_mae: 0.2335 - val_custom_mean_sd: 0.7791 - val_custom_mse: 0.0932 - val_custom_mse_scaled: 0.1535 - val_gaussian_reconstruction_loss: 26.8568 - val_r_squared: -1.6810e-01 - val_r_squared_linreg: 0.4332 - lr: 0.0500 - 400ms/epoch - 400ms/step\n",
      "Epoch 6/10\n",
      "1/1 - 0s - loss: 26.9024 - custom_mae: 0.2362 - custom_mean_sd: 0.7791 - custom_mse: 0.0948 - custom_mse_scaled: 0.1561 - gaussian_reconstruction_loss: 26.9024 - r_squared: -1.4420e-01 - r_squared_linreg: 0.4403 - val_loss: 24.8793 - val_custom_mae: 0.2125 - val_custom_mean_sd: 0.7410 - val_custom_mse: 0.0790 - val_custom_mse_scaled: 0.1438 - val_gaussian_reconstruction_loss: 24.8793 - val_r_squared: -5.0294e-03 - val_r_squared_linreg: 0.4166 - lr: 0.0500 - 405ms/epoch - 405ms/step\n",
      "Epoch 7/10\n",
      "1/1 - 0s - loss: 24.8726 - custom_mae: 0.2126 - custom_mean_sd: 0.7410 - custom_mse: 0.0788 - custom_mse_scaled: 0.1435 - gaussian_reconstruction_loss: 24.8726 - r_squared: 0.0331 - r_squared_linreg: 0.4302 - val_loss: 22.8076 - val_custom_mae: 0.1917 - val_custom_mean_sd: 0.7048 - val_custom_mse: 0.0641 - val_custom_mse_scaled: 0.1290 - val_gaussian_reconstruction_loss: 22.8076 - val_r_squared: 0.1939 - val_r_squared_linreg: 0.4157 - lr: 0.0500 - 420ms/epoch - 420ms/step\n",
      "Epoch 8/10\n",
      "1/1 - 0s - loss: 22.8238 - custom_mae: 0.1934 - custom_mean_sd: 0.7048 - custom_mse: 0.0646 - custom_mse_scaled: 0.1299 - gaussian_reconstruction_loss: 22.8238 - r_squared: 0.2166 - r_squared_linreg: 0.4163 - val_loss: 20.8748 - val_custom_mae: 0.1805 - val_custom_mean_sd: 0.6702 - val_custom_mse: 0.0548 - val_custom_mse_scaled: 0.1221 - val_gaussian_reconstruction_loss: 20.8748 - val_r_squared: 0.3049 - val_r_squared_linreg: 0.4094 - lr: 0.0500 - 422ms/epoch - 422ms/step\n",
      "Epoch 9/10\n",
      "1/1 - 0s - loss: 21.0030 - custom_mae: 0.1859 - custom_mean_sd: 0.6702 - custom_mse: 0.0580 - custom_mse_scaled: 0.1292 - gaussian_reconstruction_loss: 21.0030 - r_squared: 0.2858 - r_squared_linreg: 0.3951 - val_loss: 19.2936 - val_custom_mae: 0.1829 - val_custom_mean_sd: 0.6374 - val_custom_mse: 0.0548 - val_custom_mse_scaled: 0.1348 - val_gaussian_reconstruction_loss: 19.2936 - val_r_squared: 0.3123 - val_r_squared_linreg: 0.3801 - lr: 0.0500 - 407ms/epoch - 407ms/step\n",
      "Epoch 10/10\n",
      "1/1 - 0s - loss: 19.3988 - custom_mae: 0.1875 - custom_mean_sd: 0.6374 - custom_mse: 0.0571 - custom_mse_scaled: 0.1406 - gaussian_reconstruction_loss: 19.3988 - r_squared: 0.3120 - r_squared_linreg: 0.3838 - val_loss: 17.5424 - val_custom_mae: 0.1760 - val_custom_mean_sd: 0.6061 - val_custom_mse: 0.0507 - val_custom_mse_scaled: 0.1381 - val_gaussian_reconstruction_loss: 17.5424 - val_r_squared: 0.3524 - val_r_squared_linreg: 0.3969 - lr: 0.0500 - 393ms/epoch - 393ms/step\n",
      "\n",
      "-------------------------------------------------------------------------------------------------\n",
      "\n",
      "                                       REP: 9\n",
      "\n",
      "-------------------------------------------------------------------------------------------------\n",
      "\n",
      "Loading data from raw files\n",
      "registering celldata\n"
     ]
    },
    {
     "name": "stderr",
     "output_type": "stream",
     "text": [
      "/home/ifichtner/mambaforge/envs/squidpyTF/lib/python3.8/site-packages/ncem/data.py:2389: FutureWarning: X.dtype being converted to np.float32 from float64. In the next version of anndata (0.9) conversion will not be automatic. Pass dtype explicitly to avoid this warning. Pass `AnnData(X, dtype=X.dtype, ...)` to get the future behavour.\n",
      "  celldata = AnnData(\n",
      "/home/ifichtner/mambaforge/envs/squidpyTF/lib/python3.8/site-packages/anndata/_core/anndata.py:121: ImplicitModificationWarning: Transforming to str index.\n",
      "  warnings.warn(\"Transforming to str index.\", ImplicitModificationWarning)\n"
     ]
    },
    {
     "name": "stdout",
     "output_type": "stream",
     "text": [
      "collecting image-wise celldata\n",
      "adding graph-level covariates\n"
     ]
    },
    {
     "name": "stderr",
     "output_type": "stream",
     "text": [
      "100%|██████████| 58/58 [00:01<00:00, 51.32it/s]\n"
     ]
    },
    {
     "name": "stdout",
     "output_type": "stream",
     "text": [
      "Loaded 58 images with complete data from 4 patients over 63747 cells with 36 cell features and 8 distinct celltypes.\n",
      "Mean of mean node degree per images across images: 4.416036\n",
      "Using split method: node. \n",
      " Train-test-validation split is based on total number of nodes per patients over all images.\n",
      "\n",
      "Excluded 0 cells with the following unannotated cell type: [None] \n",
      "\n",
      "Whole dataset: 63747 cells out of 58 images from 4 patients.\n",
      "Test dataset: 6376 cells out of 58 images from 4 patients.\n",
      "Training dataset: 51930 cells out of 58 images from 4 patients.\n",
      "Validation dataset: 5738 cells out of 58 images from 4 patients. \n",
      "\n",
      "Epoch 1/10\n",
      "1/1 - 2s - loss: 38.8410 - custom_mae: 0.4664 - custom_mean_sd: 1.0000 - custom_mse: 0.3200 - custom_mse_scaled: 0.3200 - gaussian_reconstruction_loss: 38.8410 - r_squared: -2.8677e+00 - r_squared_linreg: 0.0053 - val_loss: 34.1314 - val_custom_mae: 0.3010 - val_custom_mean_sd: 0.9512 - val_custom_mse: 0.1432 - val_custom_mse_scaled: 0.1583 - val_gaussian_reconstruction_loss: 34.1314 - val_r_squared: -8.0590e-01 - val_r_squared_linreg: 0.0541 - lr: 0.0500 - 2s/epoch - 2s/step\n",
      "Epoch 2/10\n",
      "1/1 - 0s - loss: 34.0846 - custom_mae: 0.2993 - custom_mean_sd: 0.9512 - custom_mse: 0.1409 - custom_mse_scaled: 0.1557 - gaussian_reconstruction_loss: 34.0846 - r_squared: -7.3415e-01 - r_squared_linreg: 0.0664 - val_loss: 31.7200 - val_custom_mae: 0.2542 - val_custom_mean_sd: 0.9052 - val_custom_mse: 0.1013 - val_custom_mse_scaled: 0.1236 - val_gaussian_reconstruction_loss: 31.7200 - val_r_squared: -2.7364e-01 - val_r_squared_linreg: 0.2044 - lr: 0.0500 - 418ms/epoch - 418ms/step\n",
      "Epoch 3/10\n",
      "1/1 - 0s - loss: 31.6516 - custom_mae: 0.2500 - custom_mean_sd: 0.9052 - custom_mse: 0.0982 - custom_mse_scaled: 0.1199 - gaussian_reconstruction_loss: 31.6516 - r_squared: -1.9743e-01 - r_squared_linreg: 0.2242 - val_loss: 30.2698 - val_custom_mae: 0.2563 - val_custom_mean_sd: 0.8611 - val_custom_mse: 0.1059 - val_custom_mse_scaled: 0.1428 - val_gaussian_reconstruction_loss: 30.2698 - val_r_squared: -3.2339e-01 - val_r_squared_linreg: 0.3357 - lr: 0.0500 - 403ms/epoch - 403ms/step\n",
      "Epoch 4/10\n",
      "1/1 - 0s - loss: 30.1972 - custom_mae: 0.2543 - custom_mean_sd: 0.8611 - custom_mse: 0.1029 - custom_mse_scaled: 0.1387 - gaussian_reconstruction_loss: 30.1972 - r_squared: -2.4029e-01 - r_squared_linreg: 0.3544 - val_loss: 28.8834 - val_custom_mae: 0.2593 - val_custom_mean_sd: 0.8192 - val_custom_mse: 0.1112 - val_custom_mse_scaled: 0.1657 - val_gaussian_reconstruction_loss: 28.8834 - val_r_squared: -3.9289e-01 - val_r_squared_linreg: 0.3973 - lr: 0.0500 - 394ms/epoch - 394ms/step\n",
      "Epoch 5/10\n",
      "1/1 - 0s - loss: 28.7944 - custom_mae: 0.2574 - custom_mean_sd: 0.8192 - custom_mse: 0.1079 - custom_mse_scaled: 0.1608 - gaussian_reconstruction_loss: 28.7944 - r_squared: -3.1206e-01 - r_squared_linreg: 0.4275 - val_loss: 26.8661 - val_custom_mae: 0.2351 - val_custom_mean_sd: 0.7792 - val_custom_mse: 0.0935 - val_custom_mse_scaled: 0.1537 - val_gaussian_reconstruction_loss: 26.8661 - val_r_squared: -1.8966e-01 - val_r_squared_linreg: 0.4341 - lr: 0.0500 - 390ms/epoch - 390ms/step\n",
      "Epoch 6/10\n",
      "1/1 - 0s - loss: 26.9217 - custom_mae: 0.2376 - custom_mean_sd: 0.7792 - custom_mse: 0.0953 - custom_mse_scaled: 0.1568 - gaussian_reconstruction_loss: 26.9217 - r_squared: -1.5873e-01 - r_squared_linreg: 0.4313 - val_loss: 24.8581 - val_custom_mae: 0.2142 - val_custom_mean_sd: 0.7412 - val_custom_mse: 0.0783 - val_custom_mse_scaled: 0.1422 - val_gaussian_reconstruction_loss: 24.8581 - val_r_squared: 0.0141 - val_r_squared_linreg: 0.4193 - lr: 0.0500 - 412ms/epoch - 412ms/step\n",
      "Epoch 7/10\n",
      "1/1 - 0s - loss: 24.8735 - custom_mae: 0.2142 - custom_mean_sd: 0.7412 - custom_mse: 0.0788 - custom_mse_scaled: 0.1431 - gaussian_reconstruction_loss: 24.8735 - r_squared: 0.0480 - r_squared_linreg: 0.4356 - val_loss: 22.8675 - val_custom_mae: 0.1978 - val_custom_mean_sd: 0.7049 - val_custom_mse: 0.0657 - val_custom_mse_scaled: 0.1319 - val_gaussian_reconstruction_loss: 22.8675 - val_r_squared: 0.1639 - val_r_squared_linreg: 0.3994 - lr: 0.0500 - 385ms/epoch - 385ms/step\n",
      "Epoch 8/10\n",
      "1/1 - 0s - loss: 22.9499 - custom_mae: 0.2020 - custom_mean_sd: 0.7049 - custom_mse: 0.0679 - custom_mse_scaled: 0.1365 - gaussian_reconstruction_loss: 22.9499 - r_squared: 0.1886 - r_squared_linreg: 0.4090 - val_loss: 21.0649 - val_custom_mae: 0.1901 - val_custom_mean_sd: 0.6704 - val_custom_mse: 0.0595 - val_custom_mse_scaled: 0.1321 - val_gaussian_reconstruction_loss: 21.0649 - val_r_squared: 0.2510 - val_r_squared_linreg: 0.3880 - lr: 0.0500 - 363ms/epoch - 363ms/step\n",
      "Epoch 9/10\n",
      "1/1 - 0s - loss: 21.1029 - custom_mae: 0.1928 - custom_mean_sd: 0.6704 - custom_mse: 0.0604 - custom_mse_scaled: 0.1342 - gaussian_reconstruction_loss: 21.1029 - r_squared: 0.2620 - r_squared_linreg: 0.3926 - val_loss: 19.2606 - val_custom_mae: 0.1828 - val_custom_mean_sd: 0.6376 - val_custom_mse: 0.0538 - val_custom_mse_scaled: 0.1323 - val_gaussian_reconstruction_loss: 19.2606 - val_r_squared: 0.3121 - val_r_squared_linreg: 0.3882 - lr: 0.0500 - 380ms/epoch - 380ms/step\n",
      "Epoch 10/10\n",
      "1/1 - 0s - loss: 19.4295 - custom_mae: 0.1890 - custom_mean_sd: 0.6376 - custom_mse: 0.0576 - custom_mse_scaled: 0.1417 - gaussian_reconstruction_loss: 19.4295 - r_squared: 0.3027 - r_squared_linreg: 0.3908 - val_loss: 17.5808 - val_custom_mae: 0.1785 - val_custom_mean_sd: 0.6063 - val_custom_mse: 0.0513 - val_custom_mse_scaled: 0.1395 - val_gaussian_reconstruction_loss: 17.5808 - val_r_squared: 0.3573 - val_r_squared_linreg: 0.4055 - lr: 0.0500 - 395ms/epoch - 395ms/step\n",
      "\n",
      "-------------------------------------------------------------------------------------------------\n",
      "\n",
      "                                       REP: 10\n",
      "\n",
      "-------------------------------------------------------------------------------------------------\n",
      "\n",
      "Loading data from raw files\n",
      "registering celldata\n"
     ]
    },
    {
     "name": "stderr",
     "output_type": "stream",
     "text": [
      "/home/ifichtner/mambaforge/envs/squidpyTF/lib/python3.8/site-packages/ncem/data.py:2389: FutureWarning: X.dtype being converted to np.float32 from float64. In the next version of anndata (0.9) conversion will not be automatic. Pass dtype explicitly to avoid this warning. Pass `AnnData(X, dtype=X.dtype, ...)` to get the future behavour.\n",
      "  celldata = AnnData(\n",
      "/home/ifichtner/mambaforge/envs/squidpyTF/lib/python3.8/site-packages/anndata/_core/anndata.py:121: ImplicitModificationWarning: Transforming to str index.\n",
      "  warnings.warn(\"Transforming to str index.\", ImplicitModificationWarning)\n"
     ]
    },
    {
     "name": "stdout",
     "output_type": "stream",
     "text": [
      "collecting image-wise celldata\n",
      "adding graph-level covariates\n"
     ]
    },
    {
     "name": "stderr",
     "output_type": "stream",
     "text": [
      "100%|██████████| 58/58 [00:01<00:00, 51.97it/s]\n"
     ]
    },
    {
     "name": "stdout",
     "output_type": "stream",
     "text": [
      "Loaded 58 images with complete data from 4 patients over 63747 cells with 36 cell features and 8 distinct celltypes.\n",
      "Mean of mean node degree per images across images: 4.416036\n",
      "Using split method: node. \n",
      " Train-test-validation split is based on total number of nodes per patients over all images.\n",
      "\n",
      "Excluded 0 cells with the following unannotated cell type: [None] \n",
      "\n",
      "Whole dataset: 63747 cells out of 58 images from 4 patients.\n",
      "Test dataset: 6376 cells out of 58 images from 4 patients.\n",
      "Training dataset: 51930 cells out of 58 images from 4 patients.\n",
      "Validation dataset: 5738 cells out of 58 images from 4 patients. \n",
      "\n",
      "Epoch 1/10\n",
      "1/1 - 1s - loss: 38.8503 - custom_mae: 0.4625 - custom_mean_sd: 1.0000 - custom_mse: 0.3205 - custom_mse_scaled: 0.3205 - gaussian_reconstruction_loss: 38.8503 - r_squared: -2.8739e+00 - r_squared_linreg: 0.0021 - val_loss: 34.1298 - val_custom_mae: 0.3005 - val_custom_mean_sd: 0.9512 - val_custom_mse: 0.1432 - val_custom_mse_scaled: 0.1582 - val_gaussian_reconstruction_loss: 34.1298 - val_r_squared: -8.1241e-01 - val_r_squared_linreg: 0.0595 - lr: 0.0500 - 1s/epoch - 1s/step\n",
      "Epoch 2/10\n",
      "1/1 - 0s - loss: 34.2401 - custom_mae: 0.3054 - custom_mean_sd: 0.9512 - custom_mse: 0.1487 - custom_mse_scaled: 0.1644 - gaussian_reconstruction_loss: 34.2401 - r_squared: -8.3037e-01 - r_squared_linreg: 0.0685 - val_loss: 31.7692 - val_custom_mae: 0.2556 - val_custom_mean_sd: 0.9051 - val_custom_mse: 0.1037 - val_custom_mse_scaled: 0.1265 - val_gaussian_reconstruction_loss: 31.7692 - val_r_squared: -3.1189e-01 - val_r_squared_linreg: 0.2055 - lr: 0.0500 - 388ms/epoch - 388ms/step\n",
      "Epoch 3/10\n",
      "1/1 - 0s - loss: 31.7197 - custom_mae: 0.2529 - custom_mean_sd: 0.9051 - custom_mse: 0.1014 - custom_mse_scaled: 0.1238 - gaussian_reconstruction_loss: 31.7197 - r_squared: -2.3573e-01 - r_squared_linreg: 0.2195 - val_loss: 30.2908 - val_custom_mae: 0.2592 - val_custom_mean_sd: 0.8610 - val_custom_mse: 0.1069 - val_custom_mse_scaled: 0.1442 - val_gaussian_reconstruction_loss: 30.2908 - val_r_squared: -3.5573e-01 - val_r_squared_linreg: 0.3398 - lr: 0.0500 - 401ms/epoch - 401ms/step\n",
      "Epoch 4/10\n",
      "1/1 - 0s - loss: 30.1394 - custom_mae: 0.2518 - custom_mean_sd: 0.8610 - custom_mse: 0.1007 - custom_mse_scaled: 0.1357 - gaussian_reconstruction_loss: 30.1394 - r_squared: -2.0738e-01 - r_squared_linreg: 0.3566 - val_loss: 28.7480 - val_custom_mae: 0.2533 - val_custom_mean_sd: 0.8190 - val_custom_mse: 0.1064 - val_custom_mse_scaled: 0.1585 - val_gaussian_reconstruction_loss: 28.7480 - val_r_squared: -3.6085e-01 - val_r_squared_linreg: 0.4068 - lr: 0.0500 - 407ms/epoch - 407ms/step\n",
      "Epoch 5/10\n",
      "1/1 - 0s - loss: 28.7164 - custom_mae: 0.2527 - custom_mean_sd: 0.8190 - custom_mse: 0.1052 - custom_mse_scaled: 0.1567 - gaussian_reconstruction_loss: 28.7164 - r_squared: -2.7469e-01 - r_squared_linreg: 0.4059 - val_loss: 27.0369 - val_custom_mae: 0.2409 - val_custom_mean_sd: 0.7791 - val_custom_mse: 0.0994 - val_custom_mse_scaled: 0.1635 - val_gaussian_reconstruction_loss: 27.0369 - val_r_squared: -2.4493e-01 - val_r_squared_linreg: 0.4017 - lr: 0.0500 - 379ms/epoch - 379ms/step\n",
      "Epoch 6/10\n",
      "1/1 - 0s - loss: 26.8937 - custom_mae: 0.2354 - custom_mean_sd: 0.7791 - custom_mse: 0.0945 - custom_mse_scaled: 0.1556 - gaussian_reconstruction_loss: 26.8937 - r_squared: -1.4651e-01 - r_squared_linreg: 0.4332 - val_loss: 24.8354 - val_custom_mae: 0.2126 - val_custom_mean_sd: 0.7410 - val_custom_mse: 0.0778 - val_custom_mse_scaled: 0.1414 - val_gaussian_reconstruction_loss: 24.8354 - val_r_squared: 0.0082 - val_r_squared_linreg: 0.4223 - lr: 0.0500 - 384ms/epoch - 384ms/step\n",
      "Epoch 7/10\n",
      "1/1 - 0s - loss: 24.9262 - custom_mae: 0.2170 - custom_mean_sd: 0.7410 - custom_mse: 0.0805 - custom_mse_scaled: 0.1465 - gaussian_reconstruction_loss: 24.9262 - r_squared: 0.0323 - r_squared_linreg: 0.4154 - val_loss: 23.0262 - val_custom_mae: 0.2026 - val_custom_mean_sd: 0.7047 - val_custom_mse: 0.0702 - val_custom_mse_scaled: 0.1412 - val_gaussian_reconstruction_loss: 23.0262 - val_r_squared: 0.1141 - val_r_squared_linreg: 0.3825 - lr: 0.0500 - 380ms/epoch - 380ms/step\n",
      "Epoch 8/10\n",
      "1/1 - 0s - loss: 22.9738 - custom_mae: 0.2015 - custom_mean_sd: 0.7047 - custom_mse: 0.0688 - custom_mse_scaled: 0.1383 - gaussian_reconstruction_loss: 22.9738 - r_squared: 0.1585 - r_squared_linreg: 0.3964 - val_loss: 21.0626 - val_custom_mae: 0.1884 - val_custom_mean_sd: 0.6702 - val_custom_mse: 0.0596 - val_custom_mse_scaled: 0.1325 - val_gaussian_reconstruction_loss: 21.0626 - val_r_squared: 0.2488 - val_r_squared_linreg: 0.3770 - lr: 0.0500 - 388ms/epoch - 388ms/step\n",
      "Epoch 9/10\n",
      "1/1 - 0s - loss: 21.0604 - custom_mae: 0.1887 - custom_mean_sd: 0.6702 - custom_mse: 0.0595 - custom_mse_scaled: 0.1324 - gaussian_reconstruction_loss: 21.0604 - r_squared: 0.2724 - r_squared_linreg: 0.3933 - val_loss: 19.2543 - val_custom_mae: 0.1812 - val_custom_mean_sd: 0.6374 - val_custom_mse: 0.0539 - val_custom_mse_scaled: 0.1326 - val_gaussian_reconstruction_loss: 19.2543 - val_r_squared: 0.3166 - val_r_squared_linreg: 0.3925 - lr: 0.0500 - 418ms/epoch - 418ms/step\n",
      "Epoch 10/10\n",
      "1/1 - 0s - loss: 19.2804 - custom_mae: 0.1834 - custom_mean_sd: 0.6374 - custom_mse: 0.0545 - custom_mse_scaled: 0.1340 - gaussian_reconstruction_loss: 19.2804 - r_squared: 0.3422 - r_squared_linreg: 0.4106 - val_loss: 17.5647 - val_custom_mae: 0.1761 - val_custom_mean_sd: 0.6061 - val_custom_mse: 0.0512 - val_custom_mse_scaled: 0.1393 - val_gaussian_reconstruction_loss: 17.5647 - val_r_squared: 0.3555 - val_r_squared_linreg: 0.4031 - lr: 0.0500 - 403ms/epoch - 403ms/step\n",
      "\n",
      "-------------------------------------------------------------------------------------------------\n",
      "\n",
      "                                       REP: 11\n",
      "\n",
      "-------------------------------------------------------------------------------------------------\n",
      "\n",
      "Loading data from raw files\n",
      "registering celldata\n"
     ]
    },
    {
     "name": "stderr",
     "output_type": "stream",
     "text": [
      "/home/ifichtner/mambaforge/envs/squidpyTF/lib/python3.8/site-packages/ncem/data.py:2389: FutureWarning: X.dtype being converted to np.float32 from float64. In the next version of anndata (0.9) conversion will not be automatic. Pass dtype explicitly to avoid this warning. Pass `AnnData(X, dtype=X.dtype, ...)` to get the future behavour.\n",
      "  celldata = AnnData(\n",
      "/home/ifichtner/mambaforge/envs/squidpyTF/lib/python3.8/site-packages/anndata/_core/anndata.py:121: ImplicitModificationWarning: Transforming to str index.\n",
      "  warnings.warn(\"Transforming to str index.\", ImplicitModificationWarning)\n"
     ]
    },
    {
     "name": "stdout",
     "output_type": "stream",
     "text": [
      "collecting image-wise celldata\n",
      "adding graph-level covariates\n"
     ]
    },
    {
     "name": "stderr",
     "output_type": "stream",
     "text": [
      "100%|██████████| 58/58 [00:01<00:00, 49.17it/s]\n"
     ]
    },
    {
     "name": "stdout",
     "output_type": "stream",
     "text": [
      "Loaded 58 images with complete data from 4 patients over 63747 cells with 36 cell features and 8 distinct celltypes.\n",
      "Mean of mean node degree per images across images: 4.416036\n",
      "Using split method: node. \n",
      " Train-test-validation split is based on total number of nodes per patients over all images.\n",
      "\n",
      "Excluded 0 cells with the following unannotated cell type: [None] \n",
      "\n",
      "Whole dataset: 63747 cells out of 58 images from 4 patients.\n",
      "Test dataset: 6376 cells out of 58 images from 4 patients.\n",
      "Training dataset: 51930 cells out of 58 images from 4 patients.\n",
      "Validation dataset: 5738 cells out of 58 images from 4 patients. \n",
      "\n",
      "Epoch 1/10\n",
      "1/1 - 2s - loss: 38.4403 - custom_mae: 0.4428 - custom_mean_sd: 1.0000 - custom_mse: 0.2977 - custom_mse_scaled: 0.2977 - gaussian_reconstruction_loss: 38.4403 - r_squared: -2.5986e+00 - r_squared_linreg: 0.0010 - val_loss: 33.9368 - val_custom_mae: 0.2906 - val_custom_mean_sd: 0.9512 - val_custom_mse: 0.1335 - val_custom_mse_scaled: 0.1475 - val_gaussian_reconstruction_loss: 33.9368 - val_r_squared: -6.9658e-01 - val_r_squared_linreg: 0.0699 - lr: 0.0500 - 2s/epoch - 2s/step\n",
      "Epoch 2/10\n",
      "1/1 - 0s - loss: 34.0620 - custom_mae: 0.2975 - custom_mean_sd: 0.9512 - custom_mse: 0.1398 - custom_mse_scaled: 0.1545 - gaussian_reconstruction_loss: 34.0620 - r_squared: -7.2019e-01 - r_squared_linreg: 0.0622 - val_loss: 31.7359 - val_custom_mae: 0.2532 - val_custom_mean_sd: 0.9050 - val_custom_mse: 0.1022 - val_custom_mse_scaled: 0.1248 - val_gaussian_reconstruction_loss: 31.7359 - val_r_squared: -2.8403e-01 - val_r_squared_linreg: 0.2298 - lr: 0.0500 - 407ms/epoch - 407ms/step\n",
      "Epoch 3/10\n",
      "1/1 - 0s - loss: 31.7065 - custom_mae: 0.2516 - custom_mean_sd: 0.9050 - custom_mse: 0.1009 - custom_mse_scaled: 0.1232 - gaussian_reconstruction_loss: 31.7065 - r_squared: -2.2612e-01 - r_squared_linreg: 0.2342 - val_loss: 30.2004 - val_custom_mae: 0.2510 - val_custom_mean_sd: 0.8610 - val_custom_mse: 0.1033 - val_custom_mse_scaled: 0.1393 - val_gaussian_reconstruction_loss: 30.2004 - val_r_squared: -2.9524e-01 - val_r_squared_linreg: 0.3539 - lr: 0.0500 - 375ms/epoch - 375ms/step\n",
      "Epoch 4/10\n",
      "1/1 - 0s - loss: 30.2240 - custom_mae: 0.2528 - custom_mean_sd: 0.8610 - custom_mse: 0.1043 - custom_mse_scaled: 0.1407 - gaussian_reconstruction_loss: 30.2240 - r_squared: -2.7112e-01 - r_squared_linreg: 0.3613 - val_loss: 28.6513 - val_custom_mae: 0.2479 - val_custom_mean_sd: 0.8189 - val_custom_mse: 0.1029 - val_custom_mse_scaled: 0.1533 - val_gaussian_reconstruction_loss: 28.6513 - val_r_squared: -2.9929e-01 - val_r_squared_linreg: 0.4126 - lr: 0.0500 - 388ms/epoch - 388ms/step\n",
      "Epoch 5/10\n",
      "1/1 - 0s - loss: 28.6390 - custom_mae: 0.2479 - custom_mean_sd: 0.8189 - custom_mse: 0.1024 - custom_mse_scaled: 0.1527 - gaussian_reconstruction_loss: 28.6390 - r_squared: -2.3808e-01 - r_squared_linreg: 0.4171 - val_loss: 26.8091 - val_custom_mae: 0.2327 - val_custom_mean_sd: 0.7790 - val_custom_mse: 0.0918 - val_custom_mse_scaled: 0.1511 - val_gaussian_reconstruction_loss: 26.8091 - val_r_squared: -1.7069e-01 - val_r_squared_linreg: 0.4133 - lr: 0.0500 - 373ms/epoch - 373ms/step\n",
      "Epoch 6/10\n",
      "1/1 - 0s - loss: 26.6806 - custom_mae: 0.2283 - custom_mean_sd: 0.7790 - custom_mse: 0.0875 - custom_mse_scaled: 0.1440 - gaussian_reconstruction_loss: 26.6806 - r_squared: -7.3102e-02 - r_squared_linreg: 0.4205 - val_loss: 24.8621 - val_custom_mae: 0.2143 - val_custom_mean_sd: 0.7409 - val_custom_mse: 0.0787 - val_custom_mse_scaled: 0.1432 - val_gaussian_reconstruction_loss: 24.8621 - val_r_squared: 0.0146 - val_r_squared_linreg: 0.3909 - lr: 0.0500 - 386ms/epoch - 386ms/step\n",
      "Epoch 7/10\n",
      "1/1 - 0s - loss: 24.7413 - custom_mae: 0.2105 - custom_mean_sd: 0.7409 - custom_mse: 0.0750 - custom_mse_scaled: 0.1365 - gaussian_reconstruction_loss: 24.7413 - r_squared: 0.0913 - r_squared_linreg: 0.4105 - val_loss: 22.7027 - val_custom_mae: 0.1900 - val_custom_mean_sd: 0.7046 - val_custom_mse: 0.0614 - val_custom_mse_scaled: 0.1236 - val_gaussian_reconstruction_loss: 22.7027 - val_r_squared: 0.2284 - val_r_squared_linreg: 0.4053 - lr: 0.0500 - 371ms/epoch - 371ms/step\n",
      "Epoch 8/10\n",
      "1/1 - 0s - loss: 22.7691 - custom_mae: 0.1952 - custom_mean_sd: 0.7046 - custom_mse: 0.0632 - custom_mse_scaled: 0.1273 - gaussian_reconstruction_loss: 22.7691 - r_squared: 0.2275 - r_squared_linreg: 0.4029 - val_loss: 20.8466 - val_custom_mae: 0.1817 - val_custom_mean_sd: 0.6701 - val_custom_mse: 0.0543 - val_custom_mse_scaled: 0.1209 - val_gaussian_reconstruction_loss: 20.8466 - val_r_squared: 0.3123 - val_r_squared_linreg: 0.4020 - lr: 0.0500 - 386ms/epoch - 386ms/step\n",
      "Epoch 9/10\n",
      "1/1 - 0s - loss: 20.9113 - custom_mae: 0.1845 - custom_mean_sd: 0.6701 - custom_mse: 0.0559 - custom_mse_scaled: 0.1245 - gaussian_reconstruction_loss: 20.9113 - r_squared: 0.3159 - r_squared_linreg: 0.4046 - val_loss: 19.1851 - val_custom_mae: 0.1791 - val_custom_mean_sd: 0.6372 - val_custom_mse: 0.0525 - val_custom_mse_scaled: 0.1292 - val_gaussian_reconstruction_loss: 19.1851 - val_r_squared: 0.3390 - val_r_squared_linreg: 0.3934 - lr: 0.0500 - 401ms/epoch - 401ms/step\n",
      "Epoch 10/10\n",
      "1/1 - 0s - loss: 19.3279 - custom_mae: 0.1844 - custom_mean_sd: 0.6372 - custom_mse: 0.0557 - custom_mse_scaled: 0.1371 - gaussian_reconstruction_loss: 19.3279 - r_squared: 0.3326 - r_squared_linreg: 0.4009 - val_loss: 17.4864 - val_custom_mae: 0.1746 - val_custom_mean_sd: 0.6060 - val_custom_mse: 0.0497 - val_custom_mse_scaled: 0.1354 - val_gaussian_reconstruction_loss: 17.4864 - val_r_squared: 0.3720 - val_r_squared_linreg: 0.4086 - lr: 0.0500 - 387ms/epoch - 387ms/step\n",
      "\n",
      "-------------------------------------------------------------------------------------------------\n",
      "\n",
      "                                       REP: 12\n",
      "\n",
      "-------------------------------------------------------------------------------------------------\n",
      "\n",
      "Loading data from raw files\n",
      "registering celldata\n"
     ]
    },
    {
     "name": "stderr",
     "output_type": "stream",
     "text": [
      "/home/ifichtner/mambaforge/envs/squidpyTF/lib/python3.8/site-packages/ncem/data.py:2389: FutureWarning: X.dtype being converted to np.float32 from float64. In the next version of anndata (0.9) conversion will not be automatic. Pass dtype explicitly to avoid this warning. Pass `AnnData(X, dtype=X.dtype, ...)` to get the future behavour.\n",
      "  celldata = AnnData(\n",
      "/home/ifichtner/mambaforge/envs/squidpyTF/lib/python3.8/site-packages/anndata/_core/anndata.py:121: ImplicitModificationWarning: Transforming to str index.\n",
      "  warnings.warn(\"Transforming to str index.\", ImplicitModificationWarning)\n"
     ]
    },
    {
     "name": "stdout",
     "output_type": "stream",
     "text": [
      "collecting image-wise celldata\n",
      "adding graph-level covariates\n"
     ]
    },
    {
     "name": "stderr",
     "output_type": "stream",
     "text": [
      "100%|██████████| 58/58 [00:01<00:00, 52.76it/s]\n"
     ]
    },
    {
     "name": "stdout",
     "output_type": "stream",
     "text": [
      "Loaded 58 images with complete data from 4 patients over 63747 cells with 36 cell features and 8 distinct celltypes.\n",
      "Mean of mean node degree per images across images: 4.416036\n",
      "Using split method: node. \n",
      " Train-test-validation split is based on total number of nodes per patients over all images.\n",
      "\n",
      "Excluded 0 cells with the following unannotated cell type: [None] \n",
      "\n",
      "Whole dataset: 63747 cells out of 58 images from 4 patients.\n",
      "Test dataset: 6376 cells out of 58 images from 4 patients.\n",
      "Training dataset: 51930 cells out of 58 images from 4 patients.\n",
      "Validation dataset: 5738 cells out of 58 images from 4 patients. \n",
      "\n",
      "Epoch 1/10\n",
      "1/1 - 1s - loss: 39.0207 - custom_mae: 0.4687 - custom_mean_sd: 1.0000 - custom_mse: 0.3299 - custom_mse_scaled: 0.3299 - gaussian_reconstruction_loss: 39.0207 - r_squared: -2.9884e+00 - r_squared_linreg: 2.3043e-04 - val_loss: 34.1999 - val_custom_mae: 0.3022 - val_custom_mean_sd: 0.9512 - val_custom_mse: 0.1467 - val_custom_mse_scaled: 0.1621 - val_gaussian_reconstruction_loss: 34.1999 - val_r_squared: -8.4773e-01 - val_r_squared_linreg: 0.0408 - lr: 0.0500 - 1s/epoch - 1s/step\n",
      "Epoch 2/10\n",
      "1/1 - 0s - loss: 34.2679 - custom_mae: 0.3060 - custom_mean_sd: 0.9512 - custom_mse: 0.1501 - custom_mse_scaled: 0.1659 - gaussian_reconstruction_loss: 34.2679 - r_squared: -8.4756e-01 - r_squared_linreg: 0.0464 - val_loss: 31.6668 - val_custom_mae: 0.2485 - val_custom_mean_sd: 0.9052 - val_custom_mse: 0.0989 - val_custom_mse_scaled: 0.1207 - val_gaussian_reconstruction_loss: 31.6668 - val_r_squared: -2.4983e-01 - val_r_squared_linreg: 0.2220 - lr: 0.0500 - 379ms/epoch - 379ms/step\n",
      "Epoch 3/10\n",
      "1/1 - 0s - loss: 31.6531 - custom_mae: 0.2477 - custom_mean_sd: 0.9052 - custom_mse: 0.0983 - custom_mse_scaled: 0.1199 - gaussian_reconstruction_loss: 31.6531 - r_squared: -1.9719e-01 - r_squared_linreg: 0.2389 - val_loss: 30.3727 - val_custom_mae: 0.2596 - val_custom_mean_sd: 0.8612 - val_custom_mse: 0.1101 - val_custom_mse_scaled: 0.1485 - val_gaussian_reconstruction_loss: 30.3727 - val_r_squared: -3.9361e-01 - val_r_squared_linreg: 0.3678 - lr: 0.0500 - 389ms/epoch - 389ms/step\n",
      "Epoch 4/10\n",
      "1/1 - 0s - loss: 30.2645 - custom_mae: 0.2534 - custom_mean_sd: 0.8612 - custom_mse: 0.1057 - custom_mse_scaled: 0.1424 - gaussian_reconstruction_loss: 30.2645 - r_squared: -2.6885e-01 - r_squared_linreg: 0.3808 - val_loss: 28.8802 - val_custom_mae: 0.2571 - val_custom_mean_sd: 0.8192 - val_custom_mse: 0.1111 - val_custom_mse_scaled: 0.1655 - val_gaussian_reconstruction_loss: 28.8803 - val_r_squared: -4.0247e-01 - val_r_squared_linreg: 0.4130 - lr: 0.0500 - 425ms/epoch - 425ms/step\n",
      "Epoch 5/10\n",
      "1/1 - 0s - loss: 28.6676 - custom_mae: 0.2491 - custom_mean_sd: 0.8192 - custom_mse: 0.1032 - custom_mse_scaled: 0.1537 - gaussian_reconstruction_loss: 28.6676 - r_squared: -2.5618e-01 - r_squared_linreg: 0.4179 - val_loss: 26.9532 - val_custom_mae: 0.2371 - val_custom_mean_sd: 0.7792 - val_custom_mse: 0.0964 - val_custom_mse_scaled: 0.1585 - val_gaussian_reconstruction_loss: 26.9532 - val_r_squared: -2.3158e-01 - val_r_squared_linreg: 0.4121 - lr: 0.0500 - 411ms/epoch - 411ms/step\n",
      "Epoch 6/10\n",
      "1/1 - 0s - loss: 26.9865 - custom_mae: 0.2388 - custom_mean_sd: 0.7792 - custom_mse: 0.0975 - custom_mse_scaled: 0.1604 - gaussian_reconstruction_loss: 26.9865 - r_squared: -1.7825e-01 - r_squared_linreg: 0.4033 - val_loss: 24.8808 - val_custom_mae: 0.2150 - val_custom_mean_sd: 0.7411 - val_custom_mse: 0.0790 - val_custom_mse_scaled: 0.1435 - val_gaussian_reconstruction_loss: 24.8808 - val_r_squared: -2.2108e-03 - val_r_squared_linreg: 0.3956 - lr: 0.0500 - 389ms/epoch - 389ms/step\n",
      "Epoch 7/10\n",
      "1/1 - 0s - loss: 24.9932 - custom_mae: 0.2194 - custom_mean_sd: 0.7411 - custom_mse: 0.0824 - custom_mse_scaled: 0.1498 - gaussian_reconstruction_loss: 24.9932 - r_squared: -3.1608e-03 - r_squared_linreg: 0.4055 - val_loss: 22.9269 - val_custom_mae: 0.1971 - val_custom_mean_sd: 0.7049 - val_custom_mse: 0.0673 - val_custom_mse_scaled: 0.1352 - val_gaussian_reconstruction_loss: 22.9269 - val_r_squared: 0.1421 - val_r_squared_linreg: 0.3825 - lr: 0.0500 - 400ms/epoch - 400ms/step\n",
      "Epoch 8/10\n",
      "1/1 - 0s - loss: 23.0207 - custom_mae: 0.2032 - custom_mean_sd: 0.7049 - custom_mse: 0.0699 - custom_mse_scaled: 0.1404 - gaussian_reconstruction_loss: 23.0207 - r_squared: 0.1459 - r_squared_linreg: 0.3856 - val_loss: 21.0527 - val_custom_mae: 0.1882 - val_custom_mean_sd: 0.6704 - val_custom_mse: 0.0592 - val_custom_mse_scaled: 0.1315 - val_gaussian_reconstruction_loss: 21.0527 - val_r_squared: 0.2474 - val_r_squared_linreg: 0.3857 - lr: 0.0500 - 380ms/epoch - 380ms/step\n",
      "Epoch 9/10\n",
      "1/1 - 0s - loss: 21.1963 - custom_mae: 0.1942 - custom_mean_sd: 0.6704 - custom_mse: 0.0627 - custom_mse_scaled: 0.1395 - gaussian_reconstruction_loss: 21.1963 - r_squared: 0.2382 - r_squared_linreg: 0.3785 - val_loss: 19.4785 - val_custom_mae: 0.1878 - val_custom_mean_sd: 0.6376 - val_custom_mse: 0.0588 - val_custom_mse_scaled: 0.1445 - val_gaussian_reconstruction_loss: 19.4785 - val_r_squared: 0.2567 - val_r_squared_linreg: 0.3682 - lr: 0.0500 - 368ms/epoch - 368ms/step\n",
      "Epoch 10/10\n",
      "1/1 - 0s - loss: 19.4594 - custom_mae: 0.1886 - custom_mean_sd: 0.6376 - custom_mse: 0.0583 - custom_mse_scaled: 0.1434 - gaussian_reconstruction_loss: 19.4594 - r_squared: 0.2843 - r_squared_linreg: 0.3887 - val_loss: 17.6661 - val_custom_mae: 0.1788 - val_custom_mean_sd: 0.6063 - val_custom_mse: 0.0531 - val_custom_mse_scaled: 0.1443 - val_gaussian_reconstruction_loss: 17.6661 - val_r_squared: 0.3283 - val_r_squared_linreg: 0.4011 - lr: 0.0500 - 384ms/epoch - 384ms/step\n",
      "\n",
      "-------------------------------------------------------------------------------------------------\n",
      "\n",
      "                                       REP: 13\n",
      "\n",
      "-------------------------------------------------------------------------------------------------\n",
      "\n",
      "Loading data from raw files\n",
      "registering celldata\n"
     ]
    },
    {
     "name": "stderr",
     "output_type": "stream",
     "text": [
      "/home/ifichtner/mambaforge/envs/squidpyTF/lib/python3.8/site-packages/ncem/data.py:2389: FutureWarning: X.dtype being converted to np.float32 from float64. In the next version of anndata (0.9) conversion will not be automatic. Pass dtype explicitly to avoid this warning. Pass `AnnData(X, dtype=X.dtype, ...)` to get the future behavour.\n",
      "  celldata = AnnData(\n",
      "/home/ifichtner/mambaforge/envs/squidpyTF/lib/python3.8/site-packages/anndata/_core/anndata.py:121: ImplicitModificationWarning: Transforming to str index.\n",
      "  warnings.warn(\"Transforming to str index.\", ImplicitModificationWarning)\n"
     ]
    },
    {
     "name": "stdout",
     "output_type": "stream",
     "text": [
      "collecting image-wise celldata\n",
      "adding graph-level covariates\n"
     ]
    },
    {
     "name": "stderr",
     "output_type": "stream",
     "text": [
      "100%|██████████| 58/58 [00:01<00:00, 43.63it/s]\n"
     ]
    },
    {
     "name": "stdout",
     "output_type": "stream",
     "text": [
      "Loaded 58 images with complete data from 4 patients over 63747 cells with 36 cell features and 8 distinct celltypes.\n",
      "Mean of mean node degree per images across images: 4.416036\n",
      "Using split method: node. \n",
      " Train-test-validation split is based on total number of nodes per patients over all images.\n",
      "\n",
      "Excluded 0 cells with the following unannotated cell type: [None] \n",
      "\n",
      "Whole dataset: 63747 cells out of 58 images from 4 patients.\n",
      "Test dataset: 6376 cells out of 58 images from 4 patients.\n",
      "Training dataset: 51930 cells out of 58 images from 4 patients.\n",
      "Validation dataset: 5738 cells out of 58 images from 4 patients. \n",
      "\n",
      "Epoch 1/10\n",
      "1/1 - 2s - loss: 39.2026 - custom_mae: 0.4711 - custom_mean_sd: 1.0000 - custom_mse: 0.3400 - custom_mse_scaled: 0.3400 - gaussian_reconstruction_loss: 39.2026 - r_squared: -3.1105e+00 - r_squared_linreg: 4.4930e-04 - val_loss: 34.3638 - val_custom_mae: 0.3078 - val_custom_mean_sd: 0.9512 - val_custom_mse: 0.1549 - val_custom_mse_scaled: 0.1712 - val_gaussian_reconstruction_loss: 34.3638 - val_r_squared: -9.3793e-01 - val_r_squared_linreg: 0.0564 - lr: 0.0500 - 2s/epoch - 2s/step\n",
      "Epoch 2/10\n",
      "1/1 - 0s - loss: 34.4361 - custom_mae: 0.3114 - custom_mean_sd: 0.9512 - custom_mse: 0.1586 - custom_mse_scaled: 0.1752 - gaussian_reconstruction_loss: 34.4361 - r_squared: -9.5164e-01 - r_squared_linreg: 0.0621 - val_loss: 31.7913 - val_custom_mae: 0.2579 - val_custom_mean_sd: 0.9053 - val_custom_mse: 0.1044 - val_custom_mse_scaled: 0.1273 - val_gaussian_reconstruction_loss: 31.7913 - val_r_squared: -3.0780e-01 - val_r_squared_linreg: 0.1979 - lr: 0.0500 - 467ms/epoch - 467ms/step\n",
      "Epoch 3/10\n",
      "1/1 - 0s - loss: 31.7875 - custom_mae: 0.2564 - custom_mean_sd: 0.9053 - custom_mse: 0.1042 - custom_mse_scaled: 0.1271 - gaussian_reconstruction_loss: 31.7875 - r_squared: -2.7199e-01 - r_squared_linreg: 0.2052 - val_loss: 30.1842 - val_custom_mae: 0.2522 - val_custom_mean_sd: 0.8614 - val_custom_mse: 0.1020 - val_custom_mse_scaled: 0.1375 - val_gaussian_reconstruction_loss: 30.1842 - val_r_squared: -2.7964e-01 - val_r_squared_linreg: 0.3207 - lr: 0.0500 - 419ms/epoch - 419ms/step\n",
      "Epoch 4/10\n",
      "1/1 - 0s - loss: 30.2657 - custom_mae: 0.2561 - custom_mean_sd: 0.8614 - custom_mse: 0.1054 - custom_mse_scaled: 0.1420 - gaussian_reconstruction_loss: 30.2657 - r_squared: -2.7516e-01 - r_squared_linreg: 0.3235 - val_loss: 28.7904 - val_custom_mae: 0.2531 - val_custom_mean_sd: 0.8195 - val_custom_mse: 0.1074 - val_custom_mse_scaled: 0.1598 - val_gaussian_reconstruction_loss: 28.7904 - val_r_squared: -3.6407e-01 - val_r_squared_linreg: 0.3780 - lr: 0.0500 - 446ms/epoch - 446ms/step\n",
      "Epoch 5/10\n",
      "1/1 - 0s - loss: 28.6846 - custom_mae: 0.2498 - custom_mean_sd: 0.8195 - custom_mse: 0.1035 - custom_mse_scaled: 0.1540 - gaussian_reconstruction_loss: 28.6846 - r_squared: -2.5947e-01 - r_squared_linreg: 0.4010 - val_loss: 27.0286 - val_custom_mae: 0.2385 - val_custom_mean_sd: 0.7795 - val_custom_mse: 0.0986 - val_custom_mse_scaled: 0.1620 - val_gaussian_reconstruction_loss: 27.0286 - val_r_squared: -2.5006e-01 - val_r_squared_linreg: 0.3993 - lr: 0.0500 - 453ms/epoch - 453ms/step\n",
      "Epoch 6/10\n",
      "1/1 - 0s - loss: 26.9113 - custom_mae: 0.2351 - custom_mean_sd: 0.7795 - custom_mse: 0.0947 - custom_mse_scaled: 0.1555 - gaussian_reconstruction_loss: 26.9113 - r_squared: -1.5018e-01 - r_squared_linreg: 0.4244 - val_loss: 24.9274 - val_custom_mae: 0.2126 - val_custom_mean_sd: 0.7414 - val_custom_mse: 0.0802 - val_custom_mse_scaled: 0.1454 - val_gaussian_reconstruction_loss: 24.9274 - val_r_squared: -1.6408e-02 - val_r_squared_linreg: 0.4082 - lr: 0.0500 - 419ms/epoch - 419ms/step\n",
      "Epoch 7/10\n",
      "1/1 - 0s - loss: 24.9226 - custom_mae: 0.2146 - custom_mean_sd: 0.7414 - custom_mse: 0.0800 - custom_mse_scaled: 0.1451 - gaussian_reconstruction_loss: 24.9226 - r_squared: 0.0398 - r_squared_linreg: 0.4112 - val_loss: 23.0611 - val_custom_mae: 0.2012 - val_custom_mean_sd: 0.7052 - val_custom_mse: 0.0708 - val_custom_mse_scaled: 0.1420 - val_gaussian_reconstruction_loss: 23.0611 - val_r_squared: 0.1116 - val_r_squared_linreg: 0.3842 - lr: 0.0500 - 410ms/epoch - 410ms/step\n",
      "Epoch 8/10\n",
      "1/1 - 0s - loss: 23.0760 - custom_mae: 0.2027 - custom_mean_sd: 0.7052 - custom_mse: 0.0712 - custom_mse_scaled: 0.1428 - gaussian_reconstruction_loss: 23.0760 - r_squared: 0.1342 - r_squared_linreg: 0.3941 - val_loss: 21.0994 - val_custom_mae: 0.1880 - val_custom_mean_sd: 0.6706 - val_custom_mse: 0.0601 - val_custom_mse_scaled: 0.1334 - val_gaussian_reconstruction_loss: 21.0994 - val_r_squared: 0.2315 - val_r_squared_linreg: 0.3798 - lr: 0.0500 - 437ms/epoch - 437ms/step\n",
      "Epoch 9/10\n",
      "1/1 - 0s - loss: 21.2083 - custom_mae: 0.1938 - custom_mean_sd: 0.6706 - custom_mse: 0.0628 - custom_mse_scaled: 0.1395 - gaussian_reconstruction_loss: 21.2083 - r_squared: 0.2419 - r_squared_linreg: 0.3850 - val_loss: 19.3596 - val_custom_mae: 0.1832 - val_custom_mean_sd: 0.6378 - val_custom_mse: 0.0559 - val_custom_mse_scaled: 0.1373 - val_gaussian_reconstruction_loss: 19.3596 - val_r_squared: 0.2875 - val_r_squared_linreg: 0.3821 - lr: 0.0500 - 392ms/epoch - 392ms/step\n",
      "Epoch 10/10\n",
      "1/1 - 0s - loss: 19.4141 - custom_mae: 0.1866 - custom_mean_sd: 0.6378 - custom_mse: 0.0571 - custom_mse_scaled: 0.1403 - gaussian_reconstruction_loss: 19.4141 - r_squared: 0.3057 - r_squared_linreg: 0.3913 - val_loss: 17.5771 - val_custom_mae: 0.1754 - val_custom_mean_sd: 0.6065 - val_custom_mse: 0.0511 - val_custom_mse_scaled: 0.1388 - val_gaussian_reconstruction_loss: 17.5771 - val_r_squared: 0.3466 - val_r_squared_linreg: 0.4015 - lr: 0.0500 - 436ms/epoch - 436ms/step\n",
      "\n",
      "-------------------------------------------------------------------------------------------------\n",
      "\n",
      "                                       REP: 14\n",
      "\n",
      "-------------------------------------------------------------------------------------------------\n",
      "\n",
      "Loading data from raw files\n",
      "registering celldata\n"
     ]
    },
    {
     "name": "stderr",
     "output_type": "stream",
     "text": [
      "/home/ifichtner/mambaforge/envs/squidpyTF/lib/python3.8/site-packages/ncem/data.py:2389: FutureWarning: X.dtype being converted to np.float32 from float64. In the next version of anndata (0.9) conversion will not be automatic. Pass dtype explicitly to avoid this warning. Pass `AnnData(X, dtype=X.dtype, ...)` to get the future behavour.\n",
      "  celldata = AnnData(\n",
      "/home/ifichtner/mambaforge/envs/squidpyTF/lib/python3.8/site-packages/anndata/_core/anndata.py:121: ImplicitModificationWarning: Transforming to str index.\n",
      "  warnings.warn(\"Transforming to str index.\", ImplicitModificationWarning)\n"
     ]
    },
    {
     "name": "stdout",
     "output_type": "stream",
     "text": [
      "collecting image-wise celldata\n",
      "adding graph-level covariates\n"
     ]
    },
    {
     "name": "stderr",
     "output_type": "stream",
     "text": [
      "100%|██████████| 58/58 [00:01<00:00, 48.44it/s]\n"
     ]
    },
    {
     "name": "stdout",
     "output_type": "stream",
     "text": [
      "Loaded 58 images with complete data from 4 patients over 63747 cells with 36 cell features and 8 distinct celltypes.\n",
      "Mean of mean node degree per images across images: 4.416036\n",
      "Using split method: node. \n",
      " Train-test-validation split is based on total number of nodes per patients over all images.\n",
      "\n",
      "Excluded 0 cells with the following unannotated cell type: [None] \n",
      "\n",
      "Whole dataset: 63747 cells out of 58 images from 4 patients.\n",
      "Test dataset: 6376 cells out of 58 images from 4 patients.\n",
      "Training dataset: 51930 cells out of 58 images from 4 patients.\n",
      "Validation dataset: 5738 cells out of 58 images from 4 patients. \n",
      "\n",
      "Epoch 1/10\n",
      "1/1 - 2s - loss: 39.3395 - custom_mae: 0.4858 - custom_mean_sd: 1.0000 - custom_mse: 0.3476 - custom_mse_scaled: 0.3476 - gaussian_reconstruction_loss: 39.3395 - r_squared: -3.2024e+00 - r_squared_linreg: 0.0035 - val_loss: 34.3268 - val_custom_mae: 0.3103 - val_custom_mean_sd: 0.9512 - val_custom_mse: 0.1531 - val_custom_mse_scaled: 0.1692 - val_gaussian_reconstruction_loss: 34.3268 - val_r_squared: -9.1406e-01 - val_r_squared_linreg: 0.0600 - lr: 0.0500 - 2s/epoch - 2s/step\n",
      "Epoch 2/10\n",
      "1/1 - 0s - loss: 34.4068 - custom_mae: 0.3146 - custom_mean_sd: 0.9512 - custom_mse: 0.1571 - custom_mse_scaled: 0.1736 - gaussian_reconstruction_loss: 34.4068 - r_squared: -9.3351e-01 - r_squared_linreg: 0.0594 - val_loss: 31.6880 - val_custom_mae: 0.2492 - val_custom_mean_sd: 0.9052 - val_custom_mse: 0.0999 - val_custom_mse_scaled: 0.1219 - val_gaussian_reconstruction_loss: 31.6880 - val_r_squared: -2.7223e-01 - val_r_squared_linreg: 0.2032 - lr: 0.0500 - 489ms/epoch - 489ms/step\n",
      "Epoch 3/10\n",
      "1/1 - 0s - loss: 31.6454 - custom_mae: 0.2458 - custom_mean_sd: 0.9052 - custom_mse: 0.0979 - custom_mse_scaled: 0.1195 - gaussian_reconstruction_loss: 31.6454 - r_squared: -2.0305e-01 - r_squared_linreg: 0.2258 - val_loss: 30.2986 - val_custom_mae: 0.2579 - val_custom_mean_sd: 0.8612 - val_custom_mse: 0.1070 - val_custom_mse_scaled: 0.1443 - val_gaussian_reconstruction_loss: 30.2986 - val_r_squared: -3.4318e-01 - val_r_squared_linreg: 0.3315 - lr: 0.0500 - 448ms/epoch - 448ms/step\n",
      "Epoch 4/10\n",
      "1/1 - 0s - loss: 30.2883 - custom_mae: 0.2560 - custom_mean_sd: 0.8612 - custom_mse: 0.1066 - custom_mse_scaled: 0.1437 - gaussian_reconstruction_loss: 30.2883 - r_squared: -3.0508e-01 - r_squared_linreg: 0.3474 - val_loss: 29.0995 - val_custom_mae: 0.2683 - val_custom_mean_sd: 0.8192 - val_custom_mse: 0.1193 - val_custom_mse_scaled: 0.1777 - val_gaussian_reconstruction_loss: 29.0995 - val_r_squared: -5.2748e-01 - val_r_squared_linreg: 0.3903 - lr: 0.0500 - 488ms/epoch - 488ms/step\n",
      "Epoch 5/10\n",
      "1/1 - 0s - loss: 28.8866 - custom_mae: 0.2586 - custom_mean_sd: 0.8192 - custom_mse: 0.1113 - custom_mse_scaled: 0.1658 - gaussian_reconstruction_loss: 28.8866 - r_squared: -3.5152e-01 - r_squared_linreg: 0.4042 - val_loss: 27.3412 - val_custom_mae: 0.2532 - val_custom_mean_sd: 0.7792 - val_custom_mse: 0.1094 - val_custom_mse_scaled: 0.1800 - val_gaussian_reconstruction_loss: 27.3412 - val_r_squared: -3.8568e-01 - val_r_squared_linreg: 0.4109 - lr: 0.0500 - 476ms/epoch - 476ms/step\n",
      "Epoch 6/10\n",
      "1/1 - 0s - loss: 27.1132 - custom_mae: 0.2447 - custom_mean_sd: 0.7792 - custom_mse: 0.1017 - custom_mse_scaled: 0.1674 - gaussian_reconstruction_loss: 27.1132 - r_squared: -2.3893e-01 - r_squared_linreg: 0.4244 - val_loss: 25.2294 - val_custom_mae: 0.2267 - val_custom_mean_sd: 0.7411 - val_custom_mse: 0.0896 - val_custom_mse_scaled: 0.1629 - val_gaussian_reconstruction_loss: 25.2294 - val_r_squared: -1.2802e-01 - val_r_squared_linreg: 0.4133 - lr: 0.0500 - 464ms/epoch - 464ms/step\n",
      "Epoch 7/10\n",
      "1/1 - 0s - loss: 25.1054 - custom_mae: 0.2234 - custom_mean_sd: 0.7411 - custom_mse: 0.0858 - custom_mse_scaled: 0.1560 - gaussian_reconstruction_loss: 25.1054 - r_squared: -2.8515e-02 - r_squared_linreg: 0.4229 - val_loss: 22.9830 - val_custom_mae: 0.1993 - val_custom_mean_sd: 0.7049 - val_custom_mse: 0.0688 - val_custom_mse_scaled: 0.1383 - val_gaussian_reconstruction_loss: 22.9830 - val_r_squared: 0.1302 - val_r_squared_linreg: 0.4182 - lr: 0.0500 - 449ms/epoch - 449ms/step\n",
      "Epoch 8/10\n",
      "1/1 - 0s - loss: 22.9767 - custom_mae: 0.1994 - custom_mean_sd: 0.7049 - custom_mse: 0.0686 - custom_mse_scaled: 0.1380 - gaussian_reconstruction_loss: 22.9767 - r_squared: 0.1617 - r_squared_linreg: 0.4250 - val_loss: 21.0257 - val_custom_mae: 0.1861 - val_custom_mean_sd: 0.6704 - val_custom_mse: 0.0585 - val_custom_mse_scaled: 0.1300 - val_gaussian_reconstruction_loss: 21.0257 - val_r_squared: 0.2574 - val_r_squared_linreg: 0.3980 - lr: 0.0500 - 458ms/epoch - 458ms/step\n",
      "Epoch 9/10\n",
      "1/1 - 0s - loss: 21.0921 - custom_mae: 0.1895 - custom_mean_sd: 0.6704 - custom_mse: 0.0601 - custom_mse_scaled: 0.1337 - gaussian_reconstruction_loss: 21.0921 - r_squared: 0.2697 - r_squared_linreg: 0.4051 - val_loss: 19.3401 - val_custom_mae: 0.1829 - val_custom_mean_sd: 0.6375 - val_custom_mse: 0.0557 - val_custom_mse_scaled: 0.1369 - val_gaussian_reconstruction_loss: 19.3401 - val_r_squared: 0.2961 - val_r_squared_linreg: 0.3852 - lr: 0.0500 - 459ms/epoch - 459ms/step\n",
      "Epoch 10/10\n",
      "1/1 - 0s - loss: 19.4800 - custom_mae: 0.1891 - custom_mean_sd: 0.6375 - custom_mse: 0.0588 - custom_mse_scaled: 0.1447 - gaussian_reconstruction_loss: 19.4800 - r_squared: 0.2892 - r_squared_linreg: 0.3860 - val_loss: 17.7358 - val_custom_mae: 0.1828 - val_custom_mean_sd: 0.6062 - val_custom_mse: 0.0546 - val_custom_mse_scaled: 0.1485 - val_gaussian_reconstruction_loss: 17.7358 - val_r_squared: 0.3007 - val_r_squared_linreg: 0.3710 - lr: 0.0500 - 457ms/epoch - 457ms/step\n",
      "\n",
      "-------------------------------------------------------------------------------------------------\n",
      "\n",
      "                                       RUN: 1.0\n",
      "\n",
      "-------------------------------------------------------------------------------------------------\n",
      "\n",
      "\n",
      "-------------------------------------------------------------------------------------------------\n",
      "\n",
      "                                       REP: 0\n",
      "\n",
      "-------------------------------------------------------------------------------------------------\n",
      "\n",
      "Loading data from raw files\n",
      "registering celldata\n"
     ]
    },
    {
     "name": "stderr",
     "output_type": "stream",
     "text": [
      "/home/ifichtner/mambaforge/envs/squidpyTF/lib/python3.8/site-packages/ncem/data.py:2389: FutureWarning: X.dtype being converted to np.float32 from float64. In the next version of anndata (0.9) conversion will not be automatic. Pass dtype explicitly to avoid this warning. Pass `AnnData(X, dtype=X.dtype, ...)` to get the future behavour.\n",
      "  celldata = AnnData(\n",
      "/home/ifichtner/mambaforge/envs/squidpyTF/lib/python3.8/site-packages/anndata/_core/anndata.py:121: ImplicitModificationWarning: Transforming to str index.\n",
      "  warnings.warn(\"Transforming to str index.\", ImplicitModificationWarning)\n"
     ]
    },
    {
     "name": "stdout",
     "output_type": "stream",
     "text": [
      "collecting image-wise celldata\n",
      "adding graph-level covariates\n"
     ]
    },
    {
     "name": "stderr",
     "output_type": "stream",
     "text": [
      "100%|██████████| 58/58 [00:01<00:00, 42.61it/s]\n"
     ]
    },
    {
     "name": "stdout",
     "output_type": "stream",
     "text": [
      "Loaded 58 images with complete data from 4 patients over 63747 cells with 36 cell features and 8 distinct celltypes.\n",
      "Mean of mean node degree per images across images: 4.416036\n",
      "Using split method: node. \n",
      " Train-test-validation split is based on total number of nodes per patients over all images.\n",
      "\n",
      "Excluded 0 cells with the following unannotated cell type: [None] \n",
      "\n",
      "Whole dataset: 63747 cells out of 58 images from 4 patients.\n",
      "Test dataset: 6376 cells out of 58 images from 4 patients.\n",
      "Training dataset: 51930 cells out of 58 images from 4 patients.\n",
      "Validation dataset: 5738 cells out of 58 images from 4 patients. \n",
      "\n",
      "Epoch 1/10\n",
      "1/1 - 2s - loss: 38.9075 - custom_mae: 0.4608 - custom_mean_sd: 1.0000 - custom_mse: 0.3237 - custom_mse_scaled: 0.3237 - gaussian_reconstruction_loss: 38.9075 - r_squared: -2.9123e+00 - r_squared_linreg: 0.0027 - val_loss: 34.1362 - val_custom_mae: 0.3012 - val_custom_mean_sd: 0.9512 - val_custom_mse: 0.1435 - val_custom_mse_scaled: 0.1586 - val_gaussian_reconstruction_loss: 34.1362 - val_r_squared: -8.3409e-01 - val_r_squared_linreg: 0.0397 - lr: 0.0500 - 2s/epoch - 2s/step\n",
      "Epoch 2/10\n",
      "1/1 - 0s - loss: 34.2251 - custom_mae: 0.3062 - custom_mean_sd: 0.9512 - custom_mse: 0.1480 - custom_mse_scaled: 0.1635 - gaussian_reconstruction_loss: 34.2251 - r_squared: -8.2112e-01 - r_squared_linreg: 0.0422 - val_loss: 31.6883 - val_custom_mae: 0.2508 - val_custom_mean_sd: 0.9051 - val_custom_mse: 0.0999 - val_custom_mse_scaled: 0.1219 - val_gaussian_reconstruction_loss: 31.6883 - val_r_squared: -2.6604e-01 - val_r_squared_linreg: 0.2012 - lr: 0.0500 - 487ms/epoch - 487ms/step\n",
      "Epoch 3/10\n",
      "1/1 - 0s - loss: 31.6494 - custom_mae: 0.2481 - custom_mean_sd: 0.9051 - custom_mse: 0.0981 - custom_mse_scaled: 0.1198 - gaussian_reconstruction_loss: 31.6494 - r_squared: -1.9742e-01 - r_squared_linreg: 0.2121 - val_loss: 30.1801 - val_custom_mae: 0.2516 - val_custom_mean_sd: 0.8611 - val_custom_mse: 0.1022 - val_custom_mse_scaled: 0.1378 - val_gaussian_reconstruction_loss: 30.1801 - val_r_squared: -2.8169e-01 - val_r_squared_linreg: 0.3533 - lr: 0.0500 - 473ms/epoch - 473ms/step\n",
      "Epoch 4/10\n",
      "1/1 - 1s - loss: 30.1895 - custom_mae: 0.2524 - custom_mean_sd: 0.8611 - custom_mse: 0.1026 - custom_mse_scaled: 0.1383 - gaussian_reconstruction_loss: 30.1895 - r_squared: -2.5885e-01 - r_squared_linreg: 0.3559 - val_loss: 28.6329 - val_custom_mae: 0.2476 - val_custom_mean_sd: 0.8192 - val_custom_mse: 0.1019 - val_custom_mse_scaled: 0.1518 - val_gaussian_reconstruction_loss: 28.6329 - val_r_squared: -2.6954e-01 - val_r_squared_linreg: 0.4211 - lr: 0.0500 - 526ms/epoch - 526ms/step\n",
      "Epoch 5/10\n",
      "1/1 - 1s - loss: 28.6549 - custom_mae: 0.2490 - custom_mean_sd: 0.8192 - custom_mse: 0.1027 - custom_mse_scaled: 0.1530 - gaussian_reconstruction_loss: 28.6549 - r_squared: -2.4991e-01 - r_squared_linreg: 0.4213 - val_loss: 26.9361 - val_custom_mae: 0.2352 - val_custom_mean_sd: 0.7792 - val_custom_mse: 0.0958 - val_custom_mse_scaled: 0.1576 - val_gaussian_reconstruction_loss: 26.9361 - val_r_squared: -1.9327e-01 - val_r_squared_linreg: 0.4186 - lr: 0.0500 - 508ms/epoch - 508ms/step\n",
      "Epoch 6/10\n",
      "1/1 - 0s - loss: 26.8983 - custom_mae: 0.2358 - custom_mean_sd: 0.7792 - custom_mse: 0.0945 - custom_mse_scaled: 0.1555 - gaussian_reconstruction_loss: 26.8983 - r_squared: -1.5249e-01 - r_squared_linreg: 0.4498 - val_loss: 24.9349 - val_custom_mae: 0.2158 - val_custom_mean_sd: 0.7411 - val_custom_mse: 0.0806 - val_custom_mse_scaled: 0.1466 - val_gaussian_reconstruction_loss: 24.9349 - val_r_squared: -2.0285e-02 - val_r_squared_linreg: 0.4248 - lr: 0.0500 - 488ms/epoch - 488ms/step\n",
      "Epoch 7/10\n",
      "1/1 - 0s - loss: 24.8942 - custom_mae: 0.2149 - custom_mean_sd: 0.7411 - custom_mse: 0.0794 - custom_mse_scaled: 0.1443 - gaussian_reconstruction_loss: 24.8942 - r_squared: 0.0296 - r_squared_linreg: 0.4376 - val_loss: 22.8097 - val_custom_mae: 0.1937 - val_custom_mean_sd: 0.7049 - val_custom_mse: 0.0640 - val_custom_mse_scaled: 0.1288 - val_gaussian_reconstruction_loss: 22.8097 - val_r_squared: 0.1848 - val_r_squared_linreg: 0.4184 - lr: 0.0500 - 487ms/epoch - 487ms/step\n",
      "Epoch 8/10\n",
      "1/1 - 0s - loss: 22.8575 - custom_mae: 0.1947 - custom_mean_sd: 0.7049 - custom_mse: 0.0654 - custom_mse_scaled: 0.1314 - gaussian_reconstruction_loss: 22.8575 - r_squared: 0.2055 - r_squared_linreg: 0.4241 - val_loss: 21.0221 - val_custom_mae: 0.1866 - val_custom_mean_sd: 0.6704 - val_custom_mse: 0.0584 - val_custom_mse_scaled: 0.1299 - val_gaussian_reconstruction_loss: 21.0221 - val_r_squared: 0.2643 - val_r_squared_linreg: 0.3963 - lr: 0.0500 - 495ms/epoch - 495ms/step\n",
      "Epoch 9/10\n",
      "1/1 - 1s - loss: 21.0658 - custom_mae: 0.1894 - custom_mean_sd: 0.6704 - custom_mse: 0.0595 - custom_mse_scaled: 0.1323 - gaussian_reconstruction_loss: 21.0658 - r_squared: 0.2713 - r_squared_linreg: 0.4098 - val_loss: 19.2641 - val_custom_mae: 0.1816 - val_custom_mean_sd: 0.6375 - val_custom_mse: 0.0540 - val_custom_mse_scaled: 0.1327 - val_gaussian_reconstruction_loss: 19.2641 - val_r_squared: 0.3140 - val_r_squared_linreg: 0.3836 - lr: 0.0500 - 507ms/epoch - 507ms/step\n",
      "Epoch 10/10\n",
      "1/1 - 0s - loss: 19.3636 - custom_mae: 0.1866 - custom_mean_sd: 0.6375 - custom_mse: 0.0562 - custom_mse_scaled: 0.1383 - gaussian_reconstruction_loss: 19.3636 - r_squared: 0.3190 - r_squared_linreg: 0.3960 - val_loss: 17.5936 - val_custom_mae: 0.1785 - val_custom_mean_sd: 0.6062 - val_custom_mse: 0.0517 - val_custom_mse_scaled: 0.1405 - val_gaussian_reconstruction_loss: 17.5936 - val_r_squared: 0.3475 - val_r_squared_linreg: 0.4002 - lr: 0.0500 - 476ms/epoch - 476ms/step\n",
      "\n",
      "-------------------------------------------------------------------------------------------------\n",
      "\n",
      "                                       REP: 1\n",
      "\n",
      "-------------------------------------------------------------------------------------------------\n",
      "\n",
      "Loading data from raw files\n",
      "registering celldata\n"
     ]
    },
    {
     "name": "stderr",
     "output_type": "stream",
     "text": [
      "/home/ifichtner/mambaforge/envs/squidpyTF/lib/python3.8/site-packages/ncem/data.py:2389: FutureWarning: X.dtype being converted to np.float32 from float64. In the next version of anndata (0.9) conversion will not be automatic. Pass dtype explicitly to avoid this warning. Pass `AnnData(X, dtype=X.dtype, ...)` to get the future behavour.\n",
      "  celldata = AnnData(\n",
      "/home/ifichtner/mambaforge/envs/squidpyTF/lib/python3.8/site-packages/anndata/_core/anndata.py:121: ImplicitModificationWarning: Transforming to str index.\n",
      "  warnings.warn(\"Transforming to str index.\", ImplicitModificationWarning)\n"
     ]
    },
    {
     "name": "stdout",
     "output_type": "stream",
     "text": [
      "collecting image-wise celldata\n",
      "adding graph-level covariates\n"
     ]
    },
    {
     "name": "stderr",
     "output_type": "stream",
     "text": [
      "100%|██████████| 58/58 [00:01<00:00, 43.36it/s]\n"
     ]
    },
    {
     "name": "stdout",
     "output_type": "stream",
     "text": [
      "Loaded 58 images with complete data from 4 patients over 63747 cells with 36 cell features and 8 distinct celltypes.\n",
      "Mean of mean node degree per images across images: 4.416036\n",
      "Using split method: node. \n",
      " Train-test-validation split is based on total number of nodes per patients over all images.\n",
      "\n",
      "Excluded 0 cells with the following unannotated cell type: [None] \n",
      "\n",
      "Whole dataset: 63747 cells out of 58 images from 4 patients.\n",
      "Test dataset: 6376 cells out of 58 images from 4 patients.\n",
      "Training dataset: 51930 cells out of 58 images from 4 patients.\n",
      "Validation dataset: 5738 cells out of 58 images from 4 patients. \n",
      "\n",
      "Epoch 1/10\n",
      "1/1 - 2s - loss: 39.3656 - custom_mae: 0.4848 - custom_mean_sd: 1.0000 - custom_mse: 0.3491 - custom_mse_scaled: 0.3491 - gaussian_reconstruction_loss: 39.3656 - r_squared: -3.2200e+00 - r_squared_linreg: 2.2539e-04 - val_loss: 34.2252 - val_custom_mae: 0.3043 - val_custom_mean_sd: 0.9512 - val_custom_mse: 0.1480 - val_custom_mse_scaled: 0.1635 - val_gaussian_reconstruction_loss: 34.2252 - val_r_squared: -8.5878e-01 - val_r_squared_linreg: 0.0417 - lr: 0.0500 - 2s/epoch - 2s/step\n",
      "Epoch 2/10\n",
      "1/1 - 1s - loss: 34.3208 - custom_mae: 0.3089 - custom_mean_sd: 0.9512 - custom_mse: 0.1528 - custom_mse_scaled: 0.1688 - gaussian_reconstruction_loss: 34.3208 - r_squared: -8.8027e-01 - r_squared_linreg: 0.0449 - val_loss: 31.7478 - val_custom_mae: 0.2530 - val_custom_mean_sd: 0.9053 - val_custom_mse: 0.1024 - val_custom_mse_scaled: 0.1248 - val_gaussian_reconstruction_loss: 31.7478 - val_r_squared: -2.8190e-01 - val_r_squared_linreg: 0.1798 - lr: 0.0500 - 526ms/epoch - 526ms/step\n",
      "Epoch 3/10\n",
      "1/1 - 1s - loss: 31.6229 - custom_mae: 0.2482 - custom_mean_sd: 0.9053 - custom_mse: 0.0967 - custom_mse_scaled: 0.1179 - gaussian_reconstruction_loss: 31.6229 - r_squared: -1.8569e-01 - r_squared_linreg: 0.2116 - val_loss: 30.2562 - val_custom_mae: 0.2544 - val_custom_mean_sd: 0.8614 - val_custom_mse: 0.1049 - val_custom_mse_scaled: 0.1414 - val_gaussian_reconstruction_loss: 30.2562 - val_r_squared: -3.3738e-01 - val_r_squared_linreg: 0.3430 - lr: 0.0500 - 517ms/epoch - 517ms/step\n",
      "Epoch 4/10\n",
      "1/1 - 1s - loss: 30.2370 - custom_mae: 0.2534 - custom_mean_sd: 0.8614 - custom_mse: 0.1041 - custom_mse_scaled: 0.1403 - gaussian_reconstruction_loss: 30.2370 - r_squared: -2.6328e-01 - r_squared_linreg: 0.3603 - val_loss: 28.8111 - val_custom_mae: 0.2561 - val_custom_mean_sd: 0.8195 - val_custom_mse: 0.1081 - val_custom_mse_scaled: 0.1609 - val_gaussian_reconstruction_loss: 28.8111 - val_r_squared: -3.5980e-01 - val_r_squared_linreg: 0.4113 - lr: 0.0500 - 588ms/epoch - 588ms/step\n",
      "Epoch 5/10\n",
      "1/1 - 1s - loss: 28.7555 - custom_mae: 0.2539 - custom_mean_sd: 0.8195 - custom_mse: 0.1061 - custom_mse_scaled: 0.1578 - gaussian_reconstruction_loss: 28.7555 - r_squared: -2.7983e-01 - r_squared_linreg: 0.4375 - val_loss: 27.0747 - val_custom_mae: 0.2415 - val_custom_mean_sd: 0.7795 - val_custom_mse: 0.1001 - val_custom_mse_scaled: 0.1644 - val_gaussian_reconstruction_loss: 27.0747 - val_r_squared: -2.6432e-01 - val_r_squared_linreg: 0.4297 - lr: 0.0500 - 586ms/epoch - 586ms/step\n",
      "Epoch 6/10\n",
      "1/1 - 1s - loss: 27.0194 - custom_mae: 0.2413 - custom_mean_sd: 0.7795 - custom_mse: 0.0982 - custom_mse_scaled: 0.1613 - gaussian_reconstruction_loss: 27.0194 - r_squared: -2.0940e-01 - r_squared_linreg: 0.4400 - val_loss: 24.9673 - val_custom_mae: 0.2179 - val_custom_mean_sd: 0.7415 - val_custom_mse: 0.0812 - val_custom_mse_scaled: 0.1474 - val_gaussian_reconstruction_loss: 24.9673 - val_r_squared: -3.5851e-02 - val_r_squared_linreg: 0.4225 - lr: 0.0500 - 536ms/epoch - 536ms/step\n",
      "Epoch 7/10\n",
      "1/1 - 1s - loss: 25.0902 - custom_mae: 0.2232 - custom_mean_sd: 0.7415 - custom_mse: 0.0850 - custom_mse_scaled: 0.1542 - gaussian_reconstruction_loss: 25.0902 - r_squared: -2.5412e-02 - r_squared_linreg: 0.4200 - val_loss: 22.9199 - val_custom_mae: 0.1971 - val_custom_mean_sd: 0.7053 - val_custom_mse: 0.0667 - val_custom_mse_scaled: 0.1338 - val_gaussian_reconstruction_loss: 22.9199 - val_r_squared: 0.1469 - val_r_squared_linreg: 0.3971 - lr: 0.0500 - 606ms/epoch - 606ms/step\n",
      "Epoch 8/10\n",
      "1/1 - 1s - loss: 23.0783 - custom_mae: 0.2056 - custom_mean_sd: 0.7053 - custom_mse: 0.0711 - custom_mse_scaled: 0.1426 - gaussian_reconstruction_loss: 23.0783 - r_squared: 0.1407 - r_squared_linreg: 0.3971 - val_loss: 21.0723 - val_custom_mae: 0.1879 - val_custom_mean_sd: 0.6708 - val_custom_mse: 0.0592 - val_custom_mse_scaled: 0.1315 - val_gaussian_reconstruction_loss: 21.0723 - val_r_squared: 0.2516 - val_r_squared_linreg: 0.3837 - lr: 0.0500 - 547ms/epoch - 547ms/step\n",
      "Epoch 9/10\n",
      "1/1 - 1s - loss: 21.1220 - custom_mae: 0.1915 - custom_mean_sd: 0.6708 - custom_mse: 0.0605 - custom_mse_scaled: 0.1343 - gaussian_reconstruction_loss: 21.1220 - r_squared: 0.2722 - r_squared_linreg: 0.3923 - val_loss: 19.4083 - val_custom_mae: 0.1847 - val_custom_mean_sd: 0.6379 - val_custom_mse: 0.0568 - val_custom_mse_scaled: 0.1395 - val_gaussian_reconstruction_loss: 19.4083 - val_r_squared: 0.2786 - val_r_squared_linreg: 0.3740 - lr: 0.0500 - 534ms/epoch - 534ms/step\n",
      "Epoch 10/10\n",
      "1/1 - 1s - loss: 19.5178 - custom_mae: 0.1897 - custom_mean_sd: 0.6379 - custom_mse: 0.0593 - custom_mse_scaled: 0.1456 - gaussian_reconstruction_loss: 19.5178 - r_squared: 0.2818 - r_squared_linreg: 0.3804 - val_loss: 17.7718 - val_custom_mae: 0.1824 - val_custom_mean_sd: 0.6066 - val_custom_mse: 0.0549 - val_custom_mse_scaled: 0.1492 - val_gaussian_reconstruction_loss: 17.7718 - val_r_squared: 0.3084 - val_r_squared_linreg: 0.3761 - lr: 0.0500 - 539ms/epoch - 539ms/step\n",
      "\n",
      "-------------------------------------------------------------------------------------------------\n",
      "\n",
      "                                       REP: 2\n",
      "\n",
      "-------------------------------------------------------------------------------------------------\n",
      "\n",
      "Loading data from raw files\n",
      "registering celldata\n"
     ]
    },
    {
     "name": "stderr",
     "output_type": "stream",
     "text": [
      "/home/ifichtner/mambaforge/envs/squidpyTF/lib/python3.8/site-packages/ncem/data.py:2389: FutureWarning: X.dtype being converted to np.float32 from float64. In the next version of anndata (0.9) conversion will not be automatic. Pass dtype explicitly to avoid this warning. Pass `AnnData(X, dtype=X.dtype, ...)` to get the future behavour.\n",
      "  celldata = AnnData(\n",
      "/home/ifichtner/mambaforge/envs/squidpyTF/lib/python3.8/site-packages/anndata/_core/anndata.py:121: ImplicitModificationWarning: Transforming to str index.\n",
      "  warnings.warn(\"Transforming to str index.\", ImplicitModificationWarning)\n"
     ]
    },
    {
     "name": "stdout",
     "output_type": "stream",
     "text": [
      "collecting image-wise celldata\n",
      "adding graph-level covariates\n"
     ]
    },
    {
     "name": "stderr",
     "output_type": "stream",
     "text": [
      "100%|██████████| 58/58 [00:01<00:00, 43.46it/s]\n"
     ]
    },
    {
     "name": "stdout",
     "output_type": "stream",
     "text": [
      "Loaded 58 images with complete data from 4 patients over 63747 cells with 36 cell features and 8 distinct celltypes.\n",
      "Mean of mean node degree per images across images: 4.416036\n",
      "Using split method: node. \n",
      " Train-test-validation split is based on total number of nodes per patients over all images.\n",
      "\n",
      "Excluded 0 cells with the following unannotated cell type: [None] \n",
      "\n",
      "Whole dataset: 63747 cells out of 58 images from 4 patients.\n",
      "Test dataset: 6376 cells out of 58 images from 4 patients.\n",
      "Training dataset: 51930 cells out of 58 images from 4 patients.\n",
      "Validation dataset: 5738 cells out of 58 images from 4 patients. \n",
      "\n",
      "Epoch 1/10\n",
      "1/1 - 2s - loss: 38.6686 - custom_mae: 0.4524 - custom_mean_sd: 1.0000 - custom_mse: 0.3104 - custom_mse_scaled: 0.3104 - gaussian_reconstruction_loss: 38.6686 - r_squared: -2.7519e+00 - r_squared_linreg: 6.7393e-05 - val_loss: 34.0834 - val_custom_mae: 0.2961 - val_custom_mean_sd: 0.9512 - val_custom_mse: 0.1408 - val_custom_mse_scaled: 0.1556 - val_gaussian_reconstruction_loss: 34.0834 - val_r_squared: -7.7413e-01 - val_r_squared_linreg: 0.0479 - lr: 0.0500 - 2s/epoch - 2s/step\n",
      "Epoch 2/10\n",
      "1/1 - 0s - loss: 34.0943 - custom_mae: 0.2976 - custom_mean_sd: 0.9512 - custom_mse: 0.1414 - custom_mse_scaled: 0.1562 - gaussian_reconstruction_loss: 34.0943 - r_squared: -7.4014e-01 - r_squared_linreg: 0.0530 - val_loss: 31.6333 - val_custom_mae: 0.2480 - val_custom_mean_sd: 0.9052 - val_custom_mse: 0.0973 - val_custom_mse_scaled: 0.1187 - val_gaussian_reconstruction_loss: 31.6333 - val_r_squared: -2.2108e-01 - val_r_squared_linreg: 0.2069 - lr: 0.0500 - 426ms/epoch - 426ms/step\n",
      "Epoch 3/10\n",
      "1/1 - 0s - loss: 31.5976 - custom_mae: 0.2462 - custom_mean_sd: 0.9052 - custom_mse: 0.0957 - custom_mse_scaled: 0.1167 - gaussian_reconstruction_loss: 31.5976 - r_squared: -1.6673e-01 - r_squared_linreg: 0.2331 - val_loss: 30.0726 - val_custom_mae: 0.2453 - val_custom_mean_sd: 0.8613 - val_custom_mse: 0.0976 - val_custom_mse_scaled: 0.1315 - val_gaussian_reconstruction_loss: 30.0726 - val_r_squared: -2.2867e-01 - val_r_squared_linreg: 0.3436 - lr: 0.0500 - 402ms/epoch - 402ms/step\n",
      "Epoch 4/10\n",
      "1/1 - 0s - loss: 30.1431 - custom_mae: 0.2480 - custom_mean_sd: 0.8613 - custom_mse: 0.1005 - custom_mse_scaled: 0.1354 - gaussian_reconstruction_loss: 30.1431 - r_squared: -2.2380e-01 - r_squared_linreg: 0.3526 - val_loss: 28.6220 - val_custom_mae: 0.2463 - val_custom_mean_sd: 0.8193 - val_custom_mse: 0.1013 - val_custom_mse_scaled: 0.1508 - val_gaussian_reconstruction_loss: 28.6220 - val_r_squared: -2.7254e-01 - val_r_squared_linreg: 0.4037 - lr: 0.0500 - 402ms/epoch - 402ms/step\n",
      "Epoch 5/10\n",
      "1/1 - 0s - loss: 28.4888 - custom_mae: 0.2395 - custom_mean_sd: 0.8193 - custom_mse: 0.0963 - custom_mse_scaled: 0.1434 - gaussian_reconstruction_loss: 28.4888 - r_squared: -1.6939e-01 - r_squared_linreg: 0.4241 - val_loss: 26.8780 - val_custom_mae: 0.2337 - val_custom_mean_sd: 0.7794 - val_custom_mse: 0.0936 - val_custom_mse_scaled: 0.1539 - val_gaussian_reconstruction_loss: 26.8780 - val_r_squared: -1.7907e-01 - val_r_squared_linreg: 0.4220 - lr: 0.0500 - 394ms/epoch - 394ms/step\n",
      "Epoch 6/10\n",
      "1/1 - 0s - loss: 26.8424 - custom_mae: 0.2327 - custom_mean_sd: 0.7794 - custom_mse: 0.0924 - custom_mse_scaled: 0.1519 - gaussian_reconstruction_loss: 26.8424 - r_squared: -1.2578e-01 - r_squared_linreg: 0.4418 - val_loss: 24.7607 - val_custom_mae: 0.2078 - val_custom_mean_sd: 0.7413 - val_custom_mse: 0.0751 - val_custom_mse_scaled: 0.1364 - val_gaussian_reconstruction_loss: 24.7607 - val_r_squared: 0.0452 - val_r_squared_linreg: 0.4357 - lr: 0.0500 - 370ms/epoch - 370ms/step\n",
      "Epoch 7/10\n",
      "1/1 - 0s - loss: 24.8825 - custom_mae: 0.2135 - custom_mean_sd: 0.7413 - custom_mse: 0.0788 - custom_mse_scaled: 0.1431 - gaussian_reconstruction_loss: 24.8825 - r_squared: 0.0482 - r_squared_linreg: 0.4307 - val_loss: 22.8179 - val_custom_mae: 0.1927 - val_custom_mean_sd: 0.7051 - val_custom_mse: 0.0641 - val_custom_mse_scaled: 0.1286 - val_gaussian_reconstruction_loss: 22.8179 - val_r_squared: 0.1839 - val_r_squared_linreg: 0.4058 - lr: 0.0500 - 383ms/epoch - 383ms/step\n",
      "Epoch 8/10\n",
      "1/1 - 0s - loss: 22.8824 - custom_mae: 0.1963 - custom_mean_sd: 0.7051 - custom_mse: 0.0658 - custom_mse_scaled: 0.1322 - gaussian_reconstruction_loss: 22.8824 - r_squared: 0.1991 - r_squared_linreg: 0.4006 - val_loss: 20.9888 - val_custom_mae: 0.1862 - val_custom_mean_sd: 0.6706 - val_custom_mse: 0.0573 - val_custom_mse_scaled: 0.1273 - val_gaussian_reconstruction_loss: 20.9888 - val_r_squared: 0.2795 - val_r_squared_linreg: 0.3900 - lr: 0.0500 - 381ms/epoch - 381ms/step\n",
      "Epoch 9/10\n",
      "1/1 - 0s - loss: 21.0419 - custom_mae: 0.1891 - custom_mean_sd: 0.6706 - custom_mse: 0.0586 - custom_mse_scaled: 0.1302 - gaussian_reconstruction_loss: 21.0419 - r_squared: 0.2902 - r_squared_linreg: 0.3956 - val_loss: 19.2451 - val_custom_mae: 0.1808 - val_custom_mean_sd: 0.6378 - val_custom_mse: 0.0532 - val_custom_mse_scaled: 0.1308 - val_gaussian_reconstruction_loss: 19.2451 - val_r_squared: 0.3184 - val_r_squared_linreg: 0.3865 - lr: 0.0500 - 388ms/epoch - 388ms/step\n",
      "Epoch 10/10\n",
      "1/1 - 0s - loss: 19.3947 - custom_mae: 0.1864 - custom_mean_sd: 0.6378 - custom_mse: 0.0566 - custom_mse_scaled: 0.1392 - gaussian_reconstruction_loss: 19.3947 - r_squared: 0.3165 - r_squared_linreg: 0.3912 - val_loss: 17.5991 - val_custom_mae: 0.1772 - val_custom_mean_sd: 0.6065 - val_custom_mse: 0.0515 - val_custom_mse_scaled: 0.1398 - val_gaussian_reconstruction_loss: 17.5990 - val_r_squared: 0.3519 - val_r_squared_linreg: 0.3990 - lr: 0.0500 - 383ms/epoch - 383ms/step\n",
      "\n",
      "-------------------------------------------------------------------------------------------------\n",
      "\n",
      "                                       REP: 3\n",
      "\n",
      "-------------------------------------------------------------------------------------------------\n",
      "\n",
      "Loading data from raw files\n",
      "registering celldata\n"
     ]
    },
    {
     "name": "stderr",
     "output_type": "stream",
     "text": [
      "/home/ifichtner/mambaforge/envs/squidpyTF/lib/python3.8/site-packages/ncem/data.py:2389: FutureWarning: X.dtype being converted to np.float32 from float64. In the next version of anndata (0.9) conversion will not be automatic. Pass dtype explicitly to avoid this warning. Pass `AnnData(X, dtype=X.dtype, ...)` to get the future behavour.\n",
      "  celldata = AnnData(\n",
      "/home/ifichtner/mambaforge/envs/squidpyTF/lib/python3.8/site-packages/anndata/_core/anndata.py:121: ImplicitModificationWarning: Transforming to str index.\n",
      "  warnings.warn(\"Transforming to str index.\", ImplicitModificationWarning)\n"
     ]
    },
    {
     "name": "stdout",
     "output_type": "stream",
     "text": [
      "collecting image-wise celldata\n",
      "adding graph-level covariates\n"
     ]
    },
    {
     "name": "stderr",
     "output_type": "stream",
     "text": [
      "100%|██████████| 58/58 [00:01<00:00, 55.71it/s]\n"
     ]
    },
    {
     "name": "stdout",
     "output_type": "stream",
     "text": [
      "Loaded 58 images with complete data from 4 patients over 63747 cells with 36 cell features and 8 distinct celltypes.\n",
      "Mean of mean node degree per images across images: 4.416036\n",
      "Using split method: node. \n",
      " Train-test-validation split is based on total number of nodes per patients over all images.\n",
      "\n",
      "Excluded 0 cells with the following unannotated cell type: [None] \n",
      "\n",
      "Whole dataset: 63747 cells out of 58 images from 4 patients.\n",
      "Test dataset: 6376 cells out of 58 images from 4 patients.\n",
      "Training dataset: 51930 cells out of 58 images from 4 patients.\n",
      "Validation dataset: 5738 cells out of 58 images from 4 patients. \n",
      "\n",
      "Epoch 1/10\n",
      "1/1 - 1s - loss: 38.9829 - custom_mae: 0.4707 - custom_mean_sd: 1.0000 - custom_mse: 0.3278 - custom_mse_scaled: 0.3278 - gaussian_reconstruction_loss: 38.9829 - r_squared: -2.9630e+00 - r_squared_linreg: 0.0019 - val_loss: 34.2166 - val_custom_mae: 0.3058 - val_custom_mean_sd: 0.9512 - val_custom_mse: 0.1475 - val_custom_mse_scaled: 0.1630 - val_gaussian_reconstruction_loss: 34.2166 - val_r_squared: -8.3327e-01 - val_r_squared_linreg: 0.0552 - lr: 0.0500 - 1s/epoch - 1s/step\n",
      "Epoch 2/10\n",
      "1/1 - 0s - loss: 34.2667 - custom_mae: 0.3074 - custom_mean_sd: 0.9512 - custom_mse: 0.1500 - custom_mse_scaled: 0.1658 - gaussian_reconstruction_loss: 34.2667 - r_squared: -8.4681e-01 - r_squared_linreg: 0.0617 - val_loss: 31.6678 - val_custom_mae: 0.2479 - val_custom_mean_sd: 0.9051 - val_custom_mse: 0.0991 - val_custom_mse_scaled: 0.1210 - val_gaussian_reconstruction_loss: 31.6678 - val_r_squared: -2.5051e-01 - val_r_squared_linreg: 0.2227 - lr: 0.0500 - 383ms/epoch - 383ms/step\n",
      "Epoch 3/10\n",
      "1/1 - 0s - loss: 31.5765 - custom_mae: 0.2427 - custom_mean_sd: 0.9051 - custom_mse: 0.0949 - custom_mse_scaled: 0.1159 - gaussian_reconstruction_loss: 31.5765 - r_squared: -1.5898e-01 - r_squared_linreg: 0.2603 - val_loss: 30.3489 - val_custom_mae: 0.2579 - val_custom_mean_sd: 0.8610 - val_custom_mse: 0.1093 - val_custom_mse_scaled: 0.1475 - val_gaussian_reconstruction_loss: 30.3489 - val_r_squared: -3.7304e-01 - val_r_squared_linreg: 0.3546 - lr: 0.0500 - 379ms/epoch - 379ms/step\n",
      "Epoch 4/10\n",
      "1/1 - 0s - loss: 30.2271 - custom_mae: 0.2516 - custom_mean_sd: 0.8610 - custom_mse: 0.1043 - custom_mse_scaled: 0.1407 - gaussian_reconstruction_loss: 30.2271 - r_squared: -2.7058e-01 - r_squared_linreg: 0.3820 - val_loss: 28.8774 - val_custom_mae: 0.2560 - val_custom_mean_sd: 0.8190 - val_custom_mse: 0.1112 - val_custom_mse_scaled: 0.1658 - val_gaussian_reconstruction_loss: 28.8774 - val_r_squared: -4.0768e-01 - val_r_squared_linreg: 0.4062 - lr: 0.0500 - 368ms/epoch - 368ms/step\n",
      "Epoch 5/10\n",
      "1/1 - 0s - loss: 28.8502 - custom_mae: 0.2569 - custom_mean_sd: 0.8190 - custom_mse: 0.1102 - custom_mse_scaled: 0.1643 - gaussian_reconstruction_loss: 28.8502 - r_squared: -3.4341e-01 - r_squared_linreg: 0.4274 - val_loss: 27.1236 - val_custom_mae: 0.2447 - val_custom_mean_sd: 0.7790 - val_custom_mse: 0.1023 - val_custom_mse_scaled: 0.1685 - val_gaussian_reconstruction_loss: 27.1236 - val_r_squared: -2.9901e-01 - val_r_squared_linreg: 0.4058 - lr: 0.0500 - 368ms/epoch - 368ms/step\n",
      "Epoch 6/10\n",
      "1/1 - 0s - loss: 27.1054 - custom_mae: 0.2446 - custom_mean_sd: 0.7790 - custom_mse: 0.1017 - custom_mse_scaled: 0.1675 - gaussian_reconstruction_loss: 27.1054 - r_squared: -2.3572e-01 - r_squared_linreg: 0.4209 - val_loss: 24.9401 - val_custom_mae: 0.2186 - val_custom_mean_sd: 0.7410 - val_custom_mse: 0.0809 - val_custom_mse_scaled: 0.1473 - val_gaussian_reconstruction_loss: 24.9401 - val_r_squared: -2.7340e-02 - val_r_squared_linreg: 0.4043 - lr: 0.0500 - 384ms/epoch - 384ms/step\n",
      "Epoch 7/10\n",
      "1/1 - 0s - loss: 24.9668 - custom_mae: 0.2203 - custom_mean_sd: 0.7410 - custom_mse: 0.0817 - custom_mse_scaled: 0.1488 - gaussian_reconstruction_loss: 24.9668 - r_squared: 0.0126 - r_squared_linreg: 0.4035 - val_loss: 22.9024 - val_custom_mae: 0.1989 - val_custom_mean_sd: 0.7047 - val_custom_mse: 0.0668 - val_custom_mse_scaled: 0.1343 - val_gaussian_reconstruction_loss: 22.9024 - val_r_squared: 0.1683 - val_r_squared_linreg: 0.3843 - lr: 0.0500 - 381ms/epoch - 381ms/step\n",
      "Epoch 8/10\n",
      "1/1 - 0s - loss: 22.9078 - custom_mae: 0.2006 - custom_mean_sd: 0.7047 - custom_mse: 0.0669 - custom_mse_scaled: 0.1346 - gaussian_reconstruction_loss: 22.9078 - r_squared: 0.1978 - r_squared_linreg: 0.3896 - val_loss: 20.9156 - val_custom_mae: 0.1839 - val_custom_mean_sd: 0.6702 - val_custom_mse: 0.0559 - val_custom_mse_scaled: 0.1244 - val_gaussian_reconstruction_loss: 20.9156 - val_r_squared: 0.2869 - val_r_squared_linreg: 0.4010 - lr: 0.0500 - 365ms/epoch - 365ms/step\n",
      "Epoch 9/10\n",
      "1/1 - 0s - loss: 21.0754 - custom_mae: 0.1899 - custom_mean_sd: 0.6702 - custom_mse: 0.0599 - custom_mse_scaled: 0.1333 - gaussian_reconstruction_loss: 21.0754 - r_squared: 0.2762 - r_squared_linreg: 0.3915 - val_loss: 19.2150 - val_custom_mae: 0.1792 - val_custom_mean_sd: 0.6374 - val_custom_mse: 0.0530 - val_custom_mse_scaled: 0.1304 - val_gaussian_reconstruction_loss: 19.2150 - val_r_squared: 0.3300 - val_r_squared_linreg: 0.4048 - lr: 0.0500 - 375ms/epoch - 375ms/step\n",
      "Epoch 10/10\n",
      "1/1 - 0s - loss: 19.5031 - custom_mae: 0.1903 - custom_mean_sd: 0.6374 - custom_mse: 0.0595 - custom_mse_scaled: 0.1465 - gaussian_reconstruction_loss: 19.5031 - r_squared: 0.2847 - r_squared_linreg: 0.3824 - val_loss: 17.6286 - val_custom_mae: 0.1781 - val_custom_mean_sd: 0.6061 - val_custom_mse: 0.0525 - val_custom_mse_scaled: 0.1429 - val_gaussian_reconstruction_loss: 17.6286 - val_r_squared: 0.3370 - val_r_squared_linreg: 0.4012 - lr: 0.0500 - 376ms/epoch - 376ms/step\n",
      "\n",
      "-------------------------------------------------------------------------------------------------\n",
      "\n",
      "                                       REP: 4\n",
      "\n",
      "-------------------------------------------------------------------------------------------------\n",
      "\n",
      "Loading data from raw files\n",
      "registering celldata\n"
     ]
    },
    {
     "name": "stderr",
     "output_type": "stream",
     "text": [
      "/home/ifichtner/mambaforge/envs/squidpyTF/lib/python3.8/site-packages/ncem/data.py:2389: FutureWarning: X.dtype being converted to np.float32 from float64. In the next version of anndata (0.9) conversion will not be automatic. Pass dtype explicitly to avoid this warning. Pass `AnnData(X, dtype=X.dtype, ...)` to get the future behavour.\n",
      "  celldata = AnnData(\n",
      "/home/ifichtner/mambaforge/envs/squidpyTF/lib/python3.8/site-packages/anndata/_core/anndata.py:121: ImplicitModificationWarning: Transforming to str index.\n",
      "  warnings.warn(\"Transforming to str index.\", ImplicitModificationWarning)\n"
     ]
    },
    {
     "name": "stdout",
     "output_type": "stream",
     "text": [
      "collecting image-wise celldata\n",
      "adding graph-level covariates\n"
     ]
    },
    {
     "name": "stderr",
     "output_type": "stream",
     "text": [
      "100%|██████████| 58/58 [00:01<00:00, 55.31it/s]\n"
     ]
    },
    {
     "name": "stdout",
     "output_type": "stream",
     "text": [
      "Loaded 58 images with complete data from 4 patients over 63747 cells with 36 cell features and 8 distinct celltypes.\n",
      "Mean of mean node degree per images across images: 4.416036\n",
      "Using split method: node. \n",
      " Train-test-validation split is based on total number of nodes per patients over all images.\n",
      "\n",
      "Excluded 0 cells with the following unannotated cell type: [None] \n",
      "\n",
      "Whole dataset: 63747 cells out of 58 images from 4 patients.\n",
      "Test dataset: 6376 cells out of 58 images from 4 patients.\n",
      "Training dataset: 51930 cells out of 58 images from 4 patients.\n",
      "Validation dataset: 5738 cells out of 58 images from 4 patients. \n",
      "\n",
      "Epoch 1/10\n",
      "1/1 - 1s - loss: 39.1803 - custom_mae: 0.4740 - custom_mean_sd: 1.0000 - custom_mse: 0.3388 - custom_mse_scaled: 0.3388 - gaussian_reconstruction_loss: 39.1803 - r_squared: -3.0956e+00 - r_squared_linreg: 4.9577e-04 - val_loss: 34.3098 - val_custom_mae: 0.3066 - val_custom_mean_sd: 0.9512 - val_custom_mse: 0.1522 - val_custom_mse_scaled: 0.1682 - val_gaussian_reconstruction_loss: 34.3098 - val_r_squared: -9.0691e-01 - val_r_squared_linreg: 0.0445 - lr: 0.0500 - 1s/epoch - 1s/step\n",
      "Epoch 2/10\n",
      "1/1 - 0s - loss: 34.3472 - custom_mae: 0.3103 - custom_mean_sd: 0.9512 - custom_mse: 0.1541 - custom_mse_scaled: 0.1703 - gaussian_reconstruction_loss: 34.3472 - r_squared: -8.9665e-01 - r_squared_linreg: 0.0503 - val_loss: 31.7366 - val_custom_mae: 0.2532 - val_custom_mean_sd: 0.9052 - val_custom_mse: 0.1021 - val_custom_mse_scaled: 0.1245 - val_gaussian_reconstruction_loss: 31.7366 - val_r_squared: -2.7611e-01 - val_r_squared_linreg: 0.1973 - lr: 0.0500 - 361ms/epoch - 361ms/step\n",
      "Epoch 3/10\n",
      "1/1 - 0s - loss: 31.6780 - custom_mae: 0.2503 - custom_mean_sd: 0.9052 - custom_mse: 0.0994 - custom_mse_scaled: 0.1213 - gaussian_reconstruction_loss: 31.6780 - r_squared: -2.2027e-01 - r_squared_linreg: 0.2201 - val_loss: 30.2619 - val_custom_mae: 0.2554 - val_custom_mean_sd: 0.8612 - val_custom_mse: 0.1055 - val_custom_mse_scaled: 0.1422 - val_gaussian_reconstruction_loss: 30.2619 - val_r_squared: -3.1984e-01 - val_r_squared_linreg: 0.3425 - lr: 0.0500 - 376ms/epoch - 376ms/step\n",
      "Epoch 4/10\n",
      "1/1 - 0s - loss: 30.2214 - custom_mae: 0.2540 - custom_mean_sd: 0.8612 - custom_mse: 0.1038 - custom_mse_scaled: 0.1400 - gaussian_reconstruction_loss: 30.2214 - r_squared: -2.5444e-01 - r_squared_linreg: 0.3590 - val_loss: 28.7083 - val_custom_mae: 0.2490 - val_custom_mean_sd: 0.8192 - val_custom_mse: 0.1047 - val_custom_mse_scaled: 0.1559 - val_gaussian_reconstruction_loss: 28.7083 - val_r_squared: -3.1399e-01 - val_r_squared_linreg: 0.4014 - lr: 0.0500 - 388ms/epoch - 388ms/step\n",
      "Epoch 5/10\n",
      "1/1 - 0s - loss: 28.8089 - custom_mae: 0.2547 - custom_mean_sd: 0.8192 - custom_mse: 0.1084 - custom_mse_scaled: 0.1614 - gaussian_reconstruction_loss: 28.8089 - r_squared: -3.1092e-01 - r_squared_linreg: 0.4247 - val_loss: 26.9435 - val_custom_mae: 0.2350 - val_custom_mean_sd: 0.7792 - val_custom_mse: 0.0960 - val_custom_mse_scaled: 0.1579 - val_gaussian_reconstruction_loss: 26.9435 - val_r_squared: -2.0166e-01 - val_r_squared_linreg: 0.4104 - lr: 0.0500 - 369ms/epoch - 369ms/step\n",
      "Epoch 6/10\n",
      "1/1 - 0s - loss: 26.9969 - custom_mae: 0.2397 - custom_mean_sd: 0.7792 - custom_mse: 0.0978 - custom_mse_scaled: 0.1608 - gaussian_reconstruction_loss: 26.9969 - r_squared: -1.8995e-01 - r_squared_linreg: 0.4271 - val_loss: 24.9655 - val_custom_mae: 0.2163 - val_custom_mean_sd: 0.7412 - val_custom_mse: 0.0815 - val_custom_mse_scaled: 0.1481 - val_gaussian_reconstruction_loss: 24.9655 - val_r_squared: -1.8738e-02 - val_r_squared_linreg: 0.4004 - lr: 0.0500 - 394ms/epoch - 394ms/step\n",
      "Epoch 7/10\n",
      "1/1 - 0s - loss: 25.0344 - custom_mae: 0.2201 - custom_mean_sd: 0.7412 - custom_mse: 0.0836 - custom_mse_scaled: 0.1520 - gaussian_reconstruction_loss: 25.0344 - r_squared: -8.8092e-03 - r_squared_linreg: 0.4133 - val_loss: 22.9263 - val_custom_mae: 0.1981 - val_custom_mean_sd: 0.7049 - val_custom_mse: 0.0672 - val_custom_mse_scaled: 0.1351 - val_gaussian_reconstruction_loss: 22.9263 - val_r_squared: 0.1442 - val_r_squared_linreg: 0.3865 - lr: 0.0500 - 370ms/epoch - 370ms/step\n",
      "Epoch 8/10\n",
      "1/1 - 0s - loss: 22.9348 - custom_mae: 0.1999 - custom_mean_sd: 0.7049 - custom_mse: 0.0674 - custom_mse_scaled: 0.1356 - gaussian_reconstruction_loss: 22.9348 - r_squared: 0.1774 - r_squared_linreg: 0.3968 - val_loss: 20.9770 - val_custom_mae: 0.1867 - val_custom_mean_sd: 0.6704 - val_custom_mse: 0.0572 - val_custom_mse_scaled: 0.1272 - val_gaussian_reconstruction_loss: 20.9770 - val_r_squared: 0.2764 - val_r_squared_linreg: 0.3930 - lr: 0.0500 - 396ms/epoch - 396ms/step\n",
      "Epoch 9/10\n",
      "1/1 - 0s - loss: 21.1326 - custom_mae: 0.1929 - custom_mean_sd: 0.6704 - custom_mse: 0.0611 - custom_mse_scaled: 0.1359 - gaussian_reconstruction_loss: 21.1326 - r_squared: 0.2564 - r_squared_linreg: 0.3874 - val_loss: 19.3527 - val_custom_mae: 0.1849 - val_custom_mean_sd: 0.6375 - val_custom_mse: 0.0559 - val_custom_mse_scaled: 0.1375 - val_gaussian_reconstruction_loss: 19.3527 - val_r_squared: 0.2892 - val_r_squared_linreg: 0.3648 - lr: 0.0500 - 393ms/epoch - 393ms/step\n",
      "Epoch 10/10\n",
      "1/1 - 0s - loss: 19.3715 - custom_mae: 0.1856 - custom_mean_sd: 0.6375 - custom_mse: 0.0563 - custom_mse_scaled: 0.1386 - gaussian_reconstruction_loss: 19.3715 - r_squared: 0.3199 - r_squared_linreg: 0.3898 - val_loss: 17.6551 - val_custom_mae: 0.1786 - val_custom_mean_sd: 0.6063 - val_custom_mse: 0.0529 - val_custom_mse_scaled: 0.1438 - val_gaussian_reconstruction_loss: 17.6551 - val_r_squared: 0.3285 - val_r_squared_linreg: 0.3808 - lr: 0.0500 - 371ms/epoch - 371ms/step\n",
      "\n",
      "-------------------------------------------------------------------------------------------------\n",
      "\n",
      "                                       REP: 5\n",
      "\n",
      "-------------------------------------------------------------------------------------------------\n",
      "\n",
      "Loading data from raw files\n",
      "registering celldata\n"
     ]
    },
    {
     "name": "stderr",
     "output_type": "stream",
     "text": [
      "/home/ifichtner/mambaforge/envs/squidpyTF/lib/python3.8/site-packages/ncem/data.py:2389: FutureWarning: X.dtype being converted to np.float32 from float64. In the next version of anndata (0.9) conversion will not be automatic. Pass dtype explicitly to avoid this warning. Pass `AnnData(X, dtype=X.dtype, ...)` to get the future behavour.\n",
      "  celldata = AnnData(\n",
      "/home/ifichtner/mambaforge/envs/squidpyTF/lib/python3.8/site-packages/anndata/_core/anndata.py:121: ImplicitModificationWarning: Transforming to str index.\n",
      "  warnings.warn(\"Transforming to str index.\", ImplicitModificationWarning)\n"
     ]
    },
    {
     "name": "stdout",
     "output_type": "stream",
     "text": [
      "collecting image-wise celldata\n",
      "adding graph-level covariates\n"
     ]
    },
    {
     "name": "stderr",
     "output_type": "stream",
     "text": [
      "100%|██████████| 58/58 [00:01<00:00, 55.21it/s]\n"
     ]
    },
    {
     "name": "stdout",
     "output_type": "stream",
     "text": [
      "Loaded 58 images with complete data from 4 patients over 63747 cells with 36 cell features and 8 distinct celltypes.\n",
      "Mean of mean node degree per images across images: 4.416036\n",
      "Using split method: node. \n",
      " Train-test-validation split is based on total number of nodes per patients over all images.\n",
      "\n",
      "Excluded 0 cells with the following unannotated cell type: [None] \n",
      "\n",
      "Whole dataset: 63747 cells out of 58 images from 4 patients.\n",
      "Test dataset: 6376 cells out of 58 images from 4 patients.\n",
      "Training dataset: 51930 cells out of 58 images from 4 patients.\n",
      "Validation dataset: 5738 cells out of 58 images from 4 patients. \n",
      "\n",
      "Epoch 1/10\n",
      "1/1 - 1s - loss: 39.0326 - custom_mae: 0.4692 - custom_mean_sd: 1.0000 - custom_mse: 0.3306 - custom_mse_scaled: 0.3306 - gaussian_reconstruction_loss: 39.0326 - r_squared: -2.9963e+00 - r_squared_linreg: 0.0017 - val_loss: 34.1587 - val_custom_mae: 0.3023 - val_custom_mean_sd: 0.9512 - val_custom_mse: 0.1446 - val_custom_mse_scaled: 0.1598 - val_gaussian_reconstruction_loss: 34.1587 - val_r_squared: -8.3226e-01 - val_r_squared_linreg: 0.0534 - lr: 0.0500 - 1s/epoch - 1s/step\n",
      "Epoch 2/10\n",
      "1/1 - 0s - loss: 34.2320 - custom_mae: 0.3059 - custom_mean_sd: 0.9512 - custom_mse: 0.1483 - custom_mse_scaled: 0.1639 - gaussian_reconstruction_loss: 34.2320 - r_squared: -8.2539e-01 - r_squared_linreg: 0.0589 - val_loss: 31.6231 - val_custom_mae: 0.2463 - val_custom_mean_sd: 0.9051 - val_custom_mse: 0.0969 - val_custom_mse_scaled: 0.1183 - val_gaussian_reconstruction_loss: 31.6231 - val_r_squared: -2.2561e-01 - val_r_squared_linreg: 0.2124 - lr: 0.0500 - 379ms/epoch - 379ms/step\n",
      "Epoch 3/10\n",
      "1/1 - 0s - loss: 31.6260 - custom_mae: 0.2465 - custom_mean_sd: 0.9051 - custom_mse: 0.0971 - custom_mse_scaled: 0.1185 - gaussian_reconstruction_loss: 31.6260 - r_squared: -1.8216e-01 - r_squared_linreg: 0.2287 - val_loss: 30.0319 - val_custom_mae: 0.2425 - val_custom_mean_sd: 0.8611 - val_custom_mse: 0.0961 - val_custom_mse_scaled: 0.1296 - val_gaussian_reconstruction_loss: 30.0319 - val_r_squared: -2.2002e-01 - val_r_squared_linreg: 0.3613 - lr: 0.0500 - 407ms/epoch - 407ms/step\n",
      "Epoch 4/10\n",
      "1/1 - 0s - loss: 30.1626 - custom_mae: 0.2489 - custom_mean_sd: 0.8611 - custom_mse: 0.1015 - custom_mse_scaled: 0.1368 - gaussian_reconstruction_loss: 30.1626 - r_squared: -2.3641e-01 - r_squared_linreg: 0.3601 - val_loss: 28.7276 - val_custom_mae: 0.2500 - val_custom_mean_sd: 0.8192 - val_custom_mse: 0.1055 - val_custom_mse_scaled: 0.1571 - val_gaussian_reconstruction_loss: 28.7276 - val_r_squared: -3.3008e-01 - val_r_squared_linreg: 0.4078 - lr: 0.0500 - 363ms/epoch - 363ms/step\n",
      "Epoch 5/10\n",
      "1/1 - 0s - loss: 28.6900 - custom_mae: 0.2493 - custom_mean_sd: 0.8192 - custom_mse: 0.1041 - custom_mse_scaled: 0.1550 - gaussian_reconstruction_loss: 28.6900 - r_squared: -2.6235e-01 - r_squared_linreg: 0.4188 - val_loss: 26.9145 - val_custom_mae: 0.2365 - val_custom_mean_sd: 0.7792 - val_custom_mse: 0.0951 - val_custom_mse_scaled: 0.1564 - val_gaussian_reconstruction_loss: 26.9145 - val_r_squared: -2.1611e-01 - val_r_squared_linreg: 0.4264 - lr: 0.0500 - 382ms/epoch - 382ms/step\n",
      "Epoch 6/10\n",
      "1/1 - 0s - loss: 26.8855 - custom_mae: 0.2356 - custom_mean_sd: 0.7792 - custom_mse: 0.0941 - custom_mse_scaled: 0.1548 - gaussian_reconstruction_loss: 26.8855 - r_squared: -1.2911e-01 - r_squared_linreg: 0.4304 - val_loss: 24.9449 - val_custom_mae: 0.2179 - val_custom_mean_sd: 0.7411 - val_custom_mse: 0.0809 - val_custom_mse_scaled: 0.1472 - val_gaussian_reconstruction_loss: 24.9449 - val_r_squared: -1.9511e-02 - val_r_squared_linreg: 0.4196 - lr: 0.0500 - 367ms/epoch - 367ms/step\n",
      "Epoch 7/10\n",
      "1/1 - 0s - loss: 25.0866 - custom_mae: 0.2228 - custom_mean_sd: 0.7411 - custom_mse: 0.0852 - custom_mse_scaled: 0.1551 - gaussian_reconstruction_loss: 25.0866 - r_squared: -3.2283e-02 - r_squared_linreg: 0.4215 - val_loss: 22.8947 - val_custom_mae: 0.1969 - val_custom_mean_sd: 0.7049 - val_custom_mse: 0.0664 - val_custom_mse_scaled: 0.1335 - val_gaussian_reconstruction_loss: 22.8947 - val_r_squared: 0.1637 - val_r_squared_linreg: 0.3967 - lr: 0.0500 - 401ms/epoch - 401ms/step\n",
      "Epoch 8/10\n",
      "1/1 - 0s - loss: 22.9073 - custom_mae: 0.1998 - custom_mean_sd: 0.7049 - custom_mse: 0.0667 - custom_mse_scaled: 0.1342 - gaussian_reconstruction_loss: 22.9073 - r_squared: 0.1911 - r_squared_linreg: 0.3987 - val_loss: 21.0262 - val_custom_mae: 0.1866 - val_custom_mean_sd: 0.6704 - val_custom_mse: 0.0585 - val_custom_mse_scaled: 0.1301 - val_gaussian_reconstruction_loss: 21.0262 - val_r_squared: 0.2629 - val_r_squared_linreg: 0.3906 - lr: 0.0500 - 376ms/epoch - 376ms/step\n",
      "Epoch 9/10\n",
      "1/1 - 0s - loss: 21.0528 - custom_mae: 0.1884 - custom_mean_sd: 0.6704 - custom_mse: 0.0591 - custom_mse_scaled: 0.1316 - gaussian_reconstruction_loss: 21.0528 - r_squared: 0.2772 - r_squared_linreg: 0.4029 - val_loss: 19.2916 - val_custom_mae: 0.1818 - val_custom_mean_sd: 0.6375 - val_custom_mse: 0.0546 - val_custom_mse_scaled: 0.1343 - val_gaussian_reconstruction_loss: 19.2916 - val_r_squared: 0.3149 - val_r_squared_linreg: 0.3885 - lr: 0.0500 - 376ms/epoch - 376ms/step\n",
      "Epoch 10/10\n",
      "1/1 - 0s - loss: 19.4511 - custom_mae: 0.1883 - custom_mean_sd: 0.6375 - custom_mse: 0.0582 - custom_mse_scaled: 0.1431 - gaussian_reconstruction_loss: 19.4511 - r_squared: 0.3044 - r_squared_linreg: 0.3915 - val_loss: 17.6509 - val_custom_mae: 0.1789 - val_custom_mean_sd: 0.6063 - val_custom_mse: 0.0528 - val_custom_mse_scaled: 0.1437 - val_gaussian_reconstruction_loss: 17.6509 - val_r_squared: 0.3325 - val_r_squared_linreg: 0.3900 - lr: 0.0500 - 380ms/epoch - 380ms/step\n",
      "\n",
      "-------------------------------------------------------------------------------------------------\n",
      "\n",
      "                                       REP: 6\n",
      "\n",
      "-------------------------------------------------------------------------------------------------\n",
      "\n",
      "Loading data from raw files\n",
      "registering celldata\n"
     ]
    },
    {
     "name": "stderr",
     "output_type": "stream",
     "text": [
      "/home/ifichtner/mambaforge/envs/squidpyTF/lib/python3.8/site-packages/ncem/data.py:2389: FutureWarning: X.dtype being converted to np.float32 from float64. In the next version of anndata (0.9) conversion will not be automatic. Pass dtype explicitly to avoid this warning. Pass `AnnData(X, dtype=X.dtype, ...)` to get the future behavour.\n",
      "  celldata = AnnData(\n",
      "/home/ifichtner/mambaforge/envs/squidpyTF/lib/python3.8/site-packages/anndata/_core/anndata.py:121: ImplicitModificationWarning: Transforming to str index.\n",
      "  warnings.warn(\"Transforming to str index.\", ImplicitModificationWarning)\n"
     ]
    },
    {
     "name": "stdout",
     "output_type": "stream",
     "text": [
      "collecting image-wise celldata\n",
      "adding graph-level covariates\n"
     ]
    },
    {
     "name": "stderr",
     "output_type": "stream",
     "text": [
      "100%|██████████| 58/58 [00:01<00:00, 53.76it/s]\n"
     ]
    },
    {
     "name": "stdout",
     "output_type": "stream",
     "text": [
      "Loaded 58 images with complete data from 4 patients over 63747 cells with 36 cell features and 8 distinct celltypes.\n",
      "Mean of mean node degree per images across images: 4.416036\n",
      "Using split method: node. \n",
      " Train-test-validation split is based on total number of nodes per patients over all images.\n",
      "\n",
      "Excluded 0 cells with the following unannotated cell type: [None] \n",
      "\n",
      "Whole dataset: 63747 cells out of 58 images from 4 patients.\n",
      "Test dataset: 6376 cells out of 58 images from 4 patients.\n",
      "Training dataset: 51930 cells out of 58 images from 4 patients.\n",
      "Validation dataset: 5738 cells out of 58 images from 4 patients. \n",
      "\n",
      "Epoch 1/10\n",
      "1/1 - 2s - loss: 38.7895 - custom_mae: 0.4588 - custom_mean_sd: 1.0000 - custom_mse: 0.3171 - custom_mse_scaled: 0.3171 - gaussian_reconstruction_loss: 38.7895 - r_squared: -2.8331e+00 - r_squared_linreg: 0.0011 - val_loss: 34.0502 - val_custom_mae: 0.2949 - val_custom_mean_sd: 0.9512 - val_custom_mse: 0.1392 - val_custom_mse_scaled: 0.1538 - val_gaussian_reconstruction_loss: 34.0502 - val_r_squared: -7.6084e-01 - val_r_squared_linreg: 0.0702 - lr: 0.0500 - 2s/epoch - 2s/step\n",
      "Epoch 2/10\n",
      "1/1 - 0s - loss: 34.1573 - custom_mae: 0.3010 - custom_mean_sd: 0.9512 - custom_mse: 0.1446 - custom_mse_scaled: 0.1598 - gaussian_reconstruction_loss: 34.1573 - r_squared: -7.7915e-01 - r_squared_linreg: 0.0785 - val_loss: 31.6960 - val_custom_mae: 0.2495 - val_custom_mean_sd: 0.9051 - val_custom_mse: 0.1003 - val_custom_mse_scaled: 0.1224 - val_gaussian_reconstruction_loss: 31.6960 - val_r_squared: -2.6461e-01 - val_r_squared_linreg: 0.2397 - lr: 0.0500 - 381ms/epoch - 381ms/step\n",
      "Epoch 3/10\n",
      "1/1 - 0s - loss: 31.6939 - custom_mae: 0.2494 - custom_mean_sd: 0.9051 - custom_mse: 0.1002 - custom_mse_scaled: 0.1222 - gaussian_reconstruction_loss: 31.6939 - r_squared: -2.2052e-01 - r_squared_linreg: 0.2542 - val_loss: 30.2771 - val_custom_mae: 0.2547 - val_custom_mean_sd: 0.8611 - val_custom_mse: 0.1062 - val_custom_mse_scaled: 0.1432 - val_gaussian_reconstruction_loss: 30.2771 - val_r_squared: -3.5398e-01 - val_r_squared_linreg: 0.3555 - lr: 0.0500 - 368ms/epoch - 368ms/step\n",
      "Epoch 4/10\n",
      "1/1 - 0s - loss: 30.1365 - custom_mae: 0.2481 - custom_mean_sd: 0.8611 - custom_mse: 0.1004 - custom_mse_scaled: 0.1354 - gaussian_reconstruction_loss: 30.1365 - r_squared: -2.1745e-01 - r_squared_linreg: 0.3696 - val_loss: 28.7837 - val_custom_mae: 0.2544 - val_custom_mean_sd: 0.8191 - val_custom_mse: 0.1076 - val_custom_mse_scaled: 0.1602 - val_gaussian_reconstruction_loss: 28.7837 - val_r_squared: -3.7560e-01 - val_r_squared_linreg: 0.3978 - lr: 0.0500 - 381ms/epoch - 381ms/step\n",
      "Epoch 5/10\n",
      "1/1 - 0s - loss: 28.6380 - custom_mae: 0.2483 - custom_mean_sd: 0.8191 - custom_mse: 0.1021 - custom_mse_scaled: 0.1521 - gaussian_reconstruction_loss: 28.6380 - r_squared: -2.4097e-01 - r_squared_linreg: 0.4233 - val_loss: 26.8959 - val_custom_mae: 0.2355 - val_custom_mean_sd: 0.7791 - val_custom_mse: 0.0945 - val_custom_mse_scaled: 0.1555 - val_gaussian_reconstruction_loss: 26.8959 - val_r_squared: -1.8227e-01 - val_r_squared_linreg: 0.4000 - lr: 0.0500 - 406ms/epoch - 406ms/step\n",
      "Epoch 6/10\n",
      "1/1 - 0s - loss: 26.9104 - custom_mae: 0.2359 - custom_mean_sd: 0.7791 - custom_mse: 0.0950 - custom_mse_scaled: 0.1563 - gaussian_reconstruction_loss: 26.9104 - r_squared: -1.4887e-01 - r_squared_linreg: 0.4020 - val_loss: 24.8114 - val_custom_mae: 0.2120 - val_custom_mean_sd: 0.7411 - val_custom_mse: 0.0769 - val_custom_mse_scaled: 0.1398 - val_gaussian_reconstruction_loss: 24.8114 - val_r_squared: 0.0228 - val_r_squared_linreg: 0.3871 - lr: 0.0500 - 369ms/epoch - 369ms/step\n",
      "Epoch 7/10\n",
      "1/1 - 0s - loss: 25.0268 - custom_mae: 0.2202 - custom_mean_sd: 0.7411 - custom_mse: 0.0835 - custom_mse_scaled: 0.1518 - gaussian_reconstruction_loss: 25.0268 - r_squared: -1.6106e-02 - r_squared_linreg: 0.3789 - val_loss: 22.9445 - val_custom_mae: 0.1999 - val_custom_mean_sd: 0.7049 - val_custom_mse: 0.0678 - val_custom_mse_scaled: 0.1363 - val_gaussian_reconstruction_loss: 22.9445 - val_r_squared: 0.1505 - val_r_squared_linreg: 0.3723 - lr: 0.0500 - 390ms/epoch - 390ms/step\n",
      "Epoch 8/10\n",
      "1/1 - 0s - loss: 22.9263 - custom_mae: 0.1997 - custom_mean_sd: 0.7049 - custom_mse: 0.0673 - custom_mse_scaled: 0.1353 - gaussian_reconstruction_loss: 22.9263 - r_squared: 0.1814 - r_squared_linreg: 0.3914 - val_loss: 21.0169 - val_custom_mae: 0.1874 - val_custom_mean_sd: 0.6704 - val_custom_mse: 0.0583 - val_custom_mse_scaled: 0.1296 - val_gaussian_reconstruction_loss: 21.0169 - val_r_squared: 0.2707 - val_r_squared_linreg: 0.3816 - lr: 0.0500 - 373ms/epoch - 373ms/step\n",
      "Epoch 9/10\n",
      "1/1 - 0s - loss: 21.1050 - custom_mae: 0.1915 - custom_mean_sd: 0.6704 - custom_mse: 0.0605 - custom_mse_scaled: 0.1345 - gaussian_reconstruction_loss: 21.1050 - r_squared: 0.2668 - r_squared_linreg: 0.3865 - val_loss: 19.2701 - val_custom_mae: 0.1815 - val_custom_mean_sd: 0.6375 - val_custom_mse: 0.0541 - val_custom_mse_scaled: 0.1330 - val_gaussian_reconstruction_loss: 19.2701 - val_r_squared: 0.3184 - val_r_squared_linreg: 0.3887 - lr: 0.0500 - 394ms/epoch - 394ms/step\n",
      "Epoch 10/10\n",
      "1/1 - 0s - loss: 19.4006 - custom_mae: 0.1876 - custom_mean_sd: 0.6375 - custom_mse: 0.0571 - custom_mse_scaled: 0.1403 - gaussian_reconstruction_loss: 19.4006 - r_squared: 0.3134 - r_squared_linreg: 0.3922 - val_loss: 17.5094 - val_custom_mae: 0.1735 - val_custom_mean_sd: 0.6063 - val_custom_mse: 0.0499 - val_custom_mse_scaled: 0.1357 - val_gaussian_reconstruction_loss: 17.5094 - val_r_squared: 0.3670 - val_r_squared_linreg: 0.4114 - lr: 0.0500 - 386ms/epoch - 386ms/step\n",
      "\n",
      "-------------------------------------------------------------------------------------------------\n",
      "\n",
      "                                       REP: 7\n",
      "\n",
      "-------------------------------------------------------------------------------------------------\n",
      "\n",
      "Loading data from raw files\n",
      "registering celldata\n"
     ]
    },
    {
     "name": "stderr",
     "output_type": "stream",
     "text": [
      "/home/ifichtner/mambaforge/envs/squidpyTF/lib/python3.8/site-packages/ncem/data.py:2389: FutureWarning: X.dtype being converted to np.float32 from float64. In the next version of anndata (0.9) conversion will not be automatic. Pass dtype explicitly to avoid this warning. Pass `AnnData(X, dtype=X.dtype, ...)` to get the future behavour.\n",
      "  celldata = AnnData(\n",
      "/home/ifichtner/mambaforge/envs/squidpyTF/lib/python3.8/site-packages/anndata/_core/anndata.py:121: ImplicitModificationWarning: Transforming to str index.\n",
      "  warnings.warn(\"Transforming to str index.\", ImplicitModificationWarning)\n"
     ]
    },
    {
     "name": "stdout",
     "output_type": "stream",
     "text": [
      "collecting image-wise celldata\n",
      "adding graph-level covariates\n"
     ]
    },
    {
     "name": "stderr",
     "output_type": "stream",
     "text": [
      "100%|██████████| 58/58 [00:01<00:00, 53.57it/s]\n"
     ]
    },
    {
     "name": "stdout",
     "output_type": "stream",
     "text": [
      "Loaded 58 images with complete data from 4 patients over 63747 cells with 36 cell features and 8 distinct celltypes.\n",
      "Mean of mean node degree per images across images: 4.416036\n",
      "Using split method: node. \n",
      " Train-test-validation split is based on total number of nodes per patients over all images.\n",
      "\n",
      "Excluded 0 cells with the following unannotated cell type: [None] \n",
      "\n",
      "Whole dataset: 63747 cells out of 58 images from 4 patients.\n",
      "Test dataset: 6376 cells out of 58 images from 4 patients.\n",
      "Training dataset: 51930 cells out of 58 images from 4 patients.\n",
      "Validation dataset: 5738 cells out of 58 images from 4 patients. \n",
      "\n",
      "Epoch 1/10\n",
      "1/1 - 1s - loss: 39.0438 - custom_mae: 0.4709 - custom_mean_sd: 1.0000 - custom_mse: 0.3312 - custom_mse_scaled: 0.3312 - gaussian_reconstruction_loss: 39.0438 - r_squared: -3.0039e+00 - r_squared_linreg: 4.6956e-04 - val_loss: 34.0469 - val_custom_mae: 0.2948 - val_custom_mean_sd: 0.9512 - val_custom_mse: 0.1390 - val_custom_mse_scaled: 0.1536 - val_gaussian_reconstruction_loss: 34.0469 - val_r_squared: -7.5241e-01 - val_r_squared_linreg: 0.0628 - lr: 0.0500 - 1s/epoch - 1s/step\n",
      "Epoch 2/10\n",
      "1/1 - 0s - loss: 34.2052 - custom_mae: 0.3024 - custom_mean_sd: 0.9512 - custom_mse: 0.1470 - custom_mse_scaled: 0.1624 - gaussian_reconstruction_loss: 34.2052 - r_squared: -8.0879e-01 - r_squared_linreg: 0.0622 - val_loss: 31.6925 - val_custom_mae: 0.2515 - val_custom_mean_sd: 0.9051 - val_custom_mse: 0.1001 - val_custom_mse_scaled: 0.1222 - val_gaussian_reconstruction_loss: 31.6925 - val_r_squared: -2.6505e-01 - val_r_squared_linreg: 0.1987 - lr: 0.0500 - 383ms/epoch - 383ms/step\n",
      "Epoch 3/10\n",
      "1/1 - 0s - loss: 31.6936 - custom_mae: 0.2519 - custom_mean_sd: 0.9051 - custom_mse: 0.1002 - custom_mse_scaled: 0.1223 - gaussian_reconstruction_loss: 31.6936 - r_squared: -2.2017e-01 - r_squared_linreg: 0.2082 - val_loss: 30.3085 - val_custom_mae: 0.2595 - val_custom_mean_sd: 0.8611 - val_custom_mse: 0.1076 - val_custom_mse_scaled: 0.1450 - val_gaussian_reconstruction_loss: 30.3085 - val_r_squared: -3.5528e-01 - val_r_squared_linreg: 0.3422 - lr: 0.0500 - 385ms/epoch - 385ms/step\n",
      "Epoch 4/10\n",
      "1/1 - 0s - loss: 30.2925 - custom_mae: 0.2583 - custom_mean_sd: 0.8611 - custom_mse: 0.1069 - custom_mse_scaled: 0.1442 - gaussian_reconstruction_loss: 30.2925 - r_squared: -3.0115e-01 - r_squared_linreg: 0.3569 - val_loss: 28.8107 - val_custom_mae: 0.2559 - val_custom_mean_sd: 0.8191 - val_custom_mse: 0.1086 - val_custom_mse_scaled: 0.1618 - val_gaussian_reconstruction_loss: 28.8107 - val_r_squared: -3.5580e-01 - val_r_squared_linreg: 0.4081 - lr: 0.0500 - 388ms/epoch - 388ms/step\n",
      "Epoch 5/10\n",
      "1/1 - 0s - loss: 28.7252 - custom_mae: 0.2523 - custom_mean_sd: 0.8191 - custom_mse: 0.1054 - custom_mse_scaled: 0.1571 - gaussian_reconstruction_loss: 28.7252 - r_squared: -2.8458e-01 - r_squared_linreg: 0.4159 - val_loss: 26.9608 - val_custom_mae: 0.2370 - val_custom_mean_sd: 0.7791 - val_custom_mse: 0.0967 - val_custom_mse_scaled: 0.1592 - val_gaussian_reconstruction_loss: 26.9608 - val_r_squared: -1.9326e-01 - val_r_squared_linreg: 0.4082 - lr: 0.0500 - 382ms/epoch - 382ms/step\n",
      "Epoch 6/10\n",
      "1/1 - 0s - loss: 26.8897 - custom_mae: 0.2340 - custom_mean_sd: 0.7791 - custom_mse: 0.0943 - custom_mse_scaled: 0.1552 - gaussian_reconstruction_loss: 26.8897 - r_squared: -1.4879e-01 - r_squared_linreg: 0.4302 - val_loss: 24.8392 - val_custom_mae: 0.2131 - val_custom_mean_sd: 0.7410 - val_custom_mse: 0.0778 - val_custom_mse_scaled: 0.1415 - val_gaussian_reconstruction_loss: 24.8392 - val_r_squared: 0.0077 - val_r_squared_linreg: 0.4234 - lr: 0.0500 - 366ms/epoch - 366ms/step\n",
      "Epoch 7/10\n",
      "1/1 - 0s - loss: 25.0410 - custom_mae: 0.2208 - custom_mean_sd: 0.7410 - custom_mse: 0.0840 - custom_mse_scaled: 0.1527 - gaussian_reconstruction_loss: 25.0410 - r_squared: -2.3176e-02 - r_squared_linreg: 0.4071 - val_loss: 22.9408 - val_custom_mae: 0.1994 - val_custom_mean_sd: 0.7048 - val_custom_mse: 0.0678 - val_custom_mse_scaled: 0.1363 - val_gaussian_reconstruction_loss: 22.9407 - val_r_squared: 0.1476 - val_r_squared_linreg: 0.3843 - lr: 0.0500 - 398ms/epoch - 398ms/step\n",
      "Epoch 8/10\n",
      "1/1 - 0s - loss: 22.9991 - custom_mae: 0.2024 - custom_mean_sd: 0.7048 - custom_mse: 0.0694 - custom_mse_scaled: 0.1396 - gaussian_reconstruction_loss: 22.9991 - r_squared: 0.1665 - r_squared_linreg: 0.3894 - val_loss: 20.9861 - val_custom_mae: 0.1862 - val_custom_mean_sd: 0.6703 - val_custom_mse: 0.0576 - val_custom_mse_scaled: 0.1282 - val_gaussian_reconstruction_loss: 20.9861 - val_r_squared: 0.2611 - val_r_squared_linreg: 0.3785 - lr: 0.0500 - 375ms/epoch - 375ms/step\n",
      "Epoch 9/10\n",
      "1/1 - 0s - loss: 21.0986 - custom_mae: 0.1916 - custom_mean_sd: 0.6703 - custom_mse: 0.0604 - custom_mse_scaled: 0.1344 - gaussian_reconstruction_loss: 21.0986 - r_squared: 0.2739 - r_squared_linreg: 0.3883 - val_loss: 19.3004 - val_custom_mae: 0.1835 - val_custom_mean_sd: 0.6374 - val_custom_mse: 0.0549 - val_custom_mse_scaled: 0.1350 - val_gaussian_reconstruction_loss: 19.3004 - val_r_squared: 0.3037 - val_r_squared_linreg: 0.3791 - lr: 0.0500 - 400ms/epoch - 400ms/step\n",
      "Epoch 10/10\n",
      "1/1 - 0s - loss: 19.3606 - custom_mae: 0.1867 - custom_mean_sd: 0.6374 - custom_mse: 0.0562 - custom_mse_scaled: 0.1384 - gaussian_reconstruction_loss: 19.3606 - r_squared: 0.3215 - r_squared_linreg: 0.3946 - val_loss: 17.5543 - val_custom_mae: 0.1758 - val_custom_mean_sd: 0.6061 - val_custom_mse: 0.0509 - val_custom_mse_scaled: 0.1386 - val_gaussian_reconstruction_loss: 17.5543 - val_r_squared: 0.3575 - val_r_squared_linreg: 0.4035 - lr: 0.0500 - 376ms/epoch - 376ms/step\n",
      "\n",
      "-------------------------------------------------------------------------------------------------\n",
      "\n",
      "                                       REP: 8\n",
      "\n",
      "-------------------------------------------------------------------------------------------------\n",
      "\n",
      "Loading data from raw files\n",
      "registering celldata\n"
     ]
    },
    {
     "name": "stderr",
     "output_type": "stream",
     "text": [
      "/home/ifichtner/mambaforge/envs/squidpyTF/lib/python3.8/site-packages/ncem/data.py:2389: FutureWarning: X.dtype being converted to np.float32 from float64. In the next version of anndata (0.9) conversion will not be automatic. Pass dtype explicitly to avoid this warning. Pass `AnnData(X, dtype=X.dtype, ...)` to get the future behavour.\n",
      "  celldata = AnnData(\n",
      "/home/ifichtner/mambaforge/envs/squidpyTF/lib/python3.8/site-packages/anndata/_core/anndata.py:121: ImplicitModificationWarning: Transforming to str index.\n",
      "  warnings.warn(\"Transforming to str index.\", ImplicitModificationWarning)\n"
     ]
    },
    {
     "name": "stdout",
     "output_type": "stream",
     "text": [
      "collecting image-wise celldata\n",
      "adding graph-level covariates\n"
     ]
    },
    {
     "name": "stderr",
     "output_type": "stream",
     "text": [
      "100%|██████████| 58/58 [00:01<00:00, 50.87it/s]\n"
     ]
    },
    {
     "name": "stdout",
     "output_type": "stream",
     "text": [
      "Loaded 58 images with complete data from 4 patients over 63747 cells with 36 cell features and 8 distinct celltypes.\n",
      "Mean of mean node degree per images across images: 4.416036\n",
      "Using split method: node. \n",
      " Train-test-validation split is based on total number of nodes per patients over all images.\n",
      "\n",
      "Excluded 0 cells with the following unannotated cell type: [None] \n",
      "\n",
      "Whole dataset: 63747 cells out of 58 images from 4 patients.\n",
      "Test dataset: 6376 cells out of 58 images from 4 patients.\n",
      "Training dataset: 51930 cells out of 58 images from 4 patients.\n",
      "Validation dataset: 5738 cells out of 58 images from 4 patients. \n",
      "\n",
      "Epoch 1/10\n",
      "1/1 - 1s - loss: 38.6552 - custom_mae: 0.4543 - custom_mean_sd: 1.0000 - custom_mse: 0.3096 - custom_mse_scaled: 0.3096 - gaussian_reconstruction_loss: 38.6552 - r_squared: -2.7429e+00 - r_squared_linreg: 0.0045 - val_loss: 34.0789 - val_custom_mae: 0.2978 - val_custom_mean_sd: 0.9512 - val_custom_mse: 0.1406 - val_custom_mse_scaled: 0.1554 - val_gaussian_reconstruction_loss: 34.0789 - val_r_squared: -7.7516e-01 - val_r_squared_linreg: 0.0564 - lr: 0.0500 - 1s/epoch - 1s/step\n",
      "Epoch 2/10\n",
      "1/1 - 0s - loss: 34.0659 - custom_mae: 0.2969 - custom_mean_sd: 0.9512 - custom_mse: 0.1400 - custom_mse_scaled: 0.1547 - gaussian_reconstruction_loss: 34.0659 - r_squared: -7.2260e-01 - r_squared_linreg: 0.0695 - val_loss: 31.7663 - val_custom_mae: 0.2562 - val_custom_mean_sd: 0.9050 - val_custom_mse: 0.1036 - val_custom_mse_scaled: 0.1265 - val_gaussian_reconstruction_loss: 31.7663 - val_r_squared: -2.8770e-01 - val_r_squared_linreg: 0.2185 - lr: 0.0500 - 391ms/epoch - 391ms/step\n",
      "Epoch 3/10\n",
      "1/1 - 0s - loss: 31.6770 - custom_mae: 0.2511 - custom_mean_sd: 0.9050 - custom_mse: 0.0996 - custom_mse_scaled: 0.1215 - gaussian_reconstruction_loss: 31.6770 - r_squared: -2.1918e-01 - r_squared_linreg: 0.2395 - val_loss: 30.2647 - val_custom_mae: 0.2561 - val_custom_mean_sd: 0.8609 - val_custom_mse: 0.1060 - val_custom_mse_scaled: 0.1430 - val_gaussian_reconstruction_loss: 30.2647 - val_r_squared: -3.3656e-01 - val_r_squared_linreg: 0.3382 - lr: 0.0500 - 373ms/epoch - 373ms/step\n",
      "Epoch 4/10\n",
      "1/1 - 0s - loss: 30.3633 - custom_mae: 0.2613 - custom_mean_sd: 0.8609 - custom_mse: 0.1100 - custom_mse_scaled: 0.1484 - gaussian_reconstruction_loss: 30.3633 - r_squared: -3.4181e-01 - r_squared_linreg: 0.3620 - val_loss: 28.7494 - val_custom_mae: 0.2526 - val_custom_mean_sd: 0.8189 - val_custom_mse: 0.1066 - val_custom_mse_scaled: 0.1588 - val_gaussian_reconstruction_loss: 28.7494 - val_r_squared: -3.4697e-01 - val_r_squared_linreg: 0.3944 - lr: 0.0500 - 367ms/epoch - 367ms/step\n",
      "Epoch 5/10\n",
      "1/1 - 0s - loss: 28.8286 - custom_mae: 0.2575 - custom_mean_sd: 0.8189 - custom_mse: 0.1095 - custom_mse_scaled: 0.1632 - gaussian_reconstruction_loss: 28.8286 - r_squared: -3.3555e-01 - r_squared_linreg: 0.4126 - val_loss: 26.7352 - val_custom_mae: 0.2282 - val_custom_mean_sd: 0.7789 - val_custom_mse: 0.0893 - val_custom_mse_scaled: 0.1471 - val_gaussian_reconstruction_loss: 26.7352 - val_r_squared: -1.2418e-01 - val_r_squared_linreg: 0.4184 - lr: 0.0500 - 367ms/epoch - 367ms/step\n",
      "Epoch 6/10\n",
      "1/1 - 0s - loss: 26.6883 - custom_mae: 0.2254 - custom_mean_sd: 0.7789 - custom_mse: 0.0877 - custom_mse_scaled: 0.1445 - gaussian_reconstruction_loss: 26.6883 - r_squared: -6.7033e-02 - r_squared_linreg: 0.4223 - val_loss: 24.7280 - val_custom_mae: 0.2084 - val_custom_mean_sd: 0.7409 - val_custom_mse: 0.0746 - val_custom_mse_scaled: 0.1358 - val_gaussian_reconstruction_loss: 24.7280 - val_r_squared: 0.0698 - val_r_squared_linreg: 0.4076 - lr: 0.0500 - 377ms/epoch - 377ms/step\n",
      "Epoch 7/10\n",
      "1/1 - 0s - loss: 24.8072 - custom_mae: 0.2129 - custom_mean_sd: 0.7409 - custom_mse: 0.0770 - custom_mse_scaled: 0.1402 - gaussian_reconstruction_loss: 24.8072 - r_squared: 0.0734 - r_squared_linreg: 0.3991 - val_loss: 22.7441 - val_custom_mae: 0.1924 - val_custom_mean_sd: 0.7046 - val_custom_mse: 0.0626 - val_custom_mse_scaled: 0.1259 - val_gaussian_reconstruction_loss: 22.7441 - val_r_squared: 0.2028 - val_r_squared_linreg: 0.3867 - lr: 0.0500 - 383ms/epoch - 383ms/step\n",
      "Epoch 8/10\n",
      "1/1 - 0s - loss: 22.8839 - custom_mae: 0.2003 - custom_mean_sd: 0.7046 - custom_mse: 0.0664 - custom_mse_scaled: 0.1337 - gaussian_reconstruction_loss: 22.8839 - r_squared: 0.1885 - r_squared_linreg: 0.3940 - val_loss: 20.9336 - val_custom_mae: 0.1854 - val_custom_mean_sd: 0.6701 - val_custom_mse: 0.0565 - val_custom_mse_scaled: 0.1258 - val_gaussian_reconstruction_loss: 20.9336 - val_r_squared: 0.2768 - val_r_squared_linreg: 0.3814 - lr: 0.0500 - 372ms/epoch - 372ms/step\n",
      "Epoch 9/10\n",
      "1/1 - 0s - loss: 21.0127 - custom_mae: 0.1893 - custom_mean_sd: 0.6701 - custom_mse: 0.0585 - custom_mse_scaled: 0.1302 - gaussian_reconstruction_loss: 21.0127 - r_squared: 0.2902 - r_squared_linreg: 0.3927 - val_loss: 19.2749 - val_custom_mae: 0.1830 - val_custom_mean_sd: 0.6372 - val_custom_mse: 0.0545 - val_custom_mse_scaled: 0.1343 - val_gaussian_reconstruction_loss: 19.2749 - val_r_squared: 0.3088 - val_r_squared_linreg: 0.3762 - lr: 0.0500 - 378ms/epoch - 378ms/step\n",
      "Epoch 10/10\n",
      "1/1 - 0s - loss: 19.3927 - custom_mae: 0.1883 - custom_mean_sd: 0.6372 - custom_mse: 0.0572 - custom_mse_scaled: 0.1408 - gaussian_reconstruction_loss: 19.3927 - r_squared: 0.3041 - r_squared_linreg: 0.3798 - val_loss: 17.5944 - val_custom_mae: 0.1784 - val_custom_mean_sd: 0.6060 - val_custom_mse: 0.0520 - val_custom_mse_scaled: 0.1415 - val_gaussian_reconstruction_loss: 17.5944 - val_r_squared: 0.3432 - val_r_squared_linreg: 0.3914 - lr: 0.0500 - 381ms/epoch - 381ms/step\n",
      "\n",
      "-------------------------------------------------------------------------------------------------\n",
      "\n",
      "                                       REP: 9\n",
      "\n",
      "-------------------------------------------------------------------------------------------------\n",
      "\n",
      "Loading data from raw files\n",
      "registering celldata\n"
     ]
    },
    {
     "name": "stderr",
     "output_type": "stream",
     "text": [
      "/home/ifichtner/mambaforge/envs/squidpyTF/lib/python3.8/site-packages/ncem/data.py:2389: FutureWarning: X.dtype being converted to np.float32 from float64. In the next version of anndata (0.9) conversion will not be automatic. Pass dtype explicitly to avoid this warning. Pass `AnnData(X, dtype=X.dtype, ...)` to get the future behavour.\n",
      "  celldata = AnnData(\n",
      "/home/ifichtner/mambaforge/envs/squidpyTF/lib/python3.8/site-packages/anndata/_core/anndata.py:121: ImplicitModificationWarning: Transforming to str index.\n",
      "  warnings.warn(\"Transforming to str index.\", ImplicitModificationWarning)\n"
     ]
    },
    {
     "name": "stdout",
     "output_type": "stream",
     "text": [
      "collecting image-wise celldata\n",
      "adding graph-level covariates\n"
     ]
    },
    {
     "name": "stderr",
     "output_type": "stream",
     "text": [
      "100%|██████████| 58/58 [00:01<00:00, 54.08it/s]\n"
     ]
    },
    {
     "name": "stdout",
     "output_type": "stream",
     "text": [
      "Loaded 58 images with complete data from 4 patients over 63747 cells with 36 cell features and 8 distinct celltypes.\n",
      "Mean of mean node degree per images across images: 4.416036\n",
      "Using split method: node. \n",
      " Train-test-validation split is based on total number of nodes per patients over all images.\n",
      "\n",
      "Excluded 0 cells with the following unannotated cell type: [None] \n",
      "\n",
      "Whole dataset: 63747 cells out of 58 images from 4 patients.\n",
      "Test dataset: 6376 cells out of 58 images from 4 patients.\n",
      "Training dataset: 51930 cells out of 58 images from 4 patients.\n",
      "Validation dataset: 5738 cells out of 58 images from 4 patients. \n",
      "\n",
      "Epoch 1/10\n",
      "1/1 - 1s - loss: 38.8298 - custom_mae: 0.4635 - custom_mean_sd: 1.0000 - custom_mse: 0.3193 - custom_mse_scaled: 0.3193 - gaussian_reconstruction_loss: 38.8298 - r_squared: -2.8602e+00 - r_squared_linreg: 0.0041 - val_loss: 34.0621 - val_custom_mae: 0.2963 - val_custom_mean_sd: 0.9512 - val_custom_mse: 0.1398 - val_custom_mse_scaled: 0.1545 - val_gaussian_reconstruction_loss: 34.0621 - val_r_squared: -7.6615e-01 - val_r_squared_linreg: 0.0833 - lr: 0.0500 - 1s/epoch - 1s/step\n",
      "Epoch 2/10\n",
      "1/1 - 0s - loss: 34.1066 - custom_mae: 0.2988 - custom_mean_sd: 0.9512 - custom_mse: 0.1420 - custom_mse_scaled: 0.1569 - gaussian_reconstruction_loss: 34.1066 - r_squared: -7.4775e-01 - r_squared_linreg: 0.0875 - val_loss: 31.6349 - val_custom_mae: 0.2465 - val_custom_mean_sd: 0.9050 - val_custom_mse: 0.0977 - val_custom_mse_scaled: 0.1192 - val_gaussian_reconstruction_loss: 31.6349 - val_r_squared: -2.2817e-01 - val_r_squared_linreg: 0.2401 - lr: 0.0500 - 418ms/epoch - 418ms/step\n",
      "Epoch 3/10\n",
      "1/1 - 0s - loss: 31.6027 - custom_mae: 0.2464 - custom_mean_sd: 0.9050 - custom_mse: 0.0962 - custom_mse_scaled: 0.1174 - gaussian_reconstruction_loss: 31.6027 - r_squared: -1.7527e-01 - r_squared_linreg: 0.2560 - val_loss: 30.1720 - val_custom_mae: 0.2517 - val_custom_mean_sd: 0.8609 - val_custom_mse: 0.1022 - val_custom_mse_scaled: 0.1378 - val_gaussian_reconstruction_loss: 30.1720 - val_r_squared: -2.8586e-01 - val_r_squared_linreg: 0.3623 - lr: 0.0500 - 388ms/epoch - 388ms/step\n",
      "Epoch 4/10\n",
      "1/1 - 0s - loss: 30.1750 - custom_mae: 0.2522 - custom_mean_sd: 0.8609 - custom_mse: 0.1023 - custom_mse_scaled: 0.1380 - gaussian_reconstruction_loss: 30.1750 - r_squared: -2.5575e-01 - r_squared_linreg: 0.3932 - val_loss: 28.7608 - val_custom_mae: 0.2538 - val_custom_mean_sd: 0.8189 - val_custom_mse: 0.1070 - val_custom_mse_scaled: 0.1596 - val_gaussian_reconstruction_loss: 28.7608 - val_r_squared: -3.4674e-01 - val_r_squared_linreg: 0.4196 - lr: 0.0500 - 381ms/epoch - 381ms/step\n",
      "Epoch 5/10\n",
      "1/1 - 0s - loss: 28.7171 - custom_mae: 0.2530 - custom_mean_sd: 0.8189 - custom_mse: 0.1054 - custom_mse_scaled: 0.1571 - gaussian_reconstruction_loss: 28.7171 - r_squared: -2.9938e-01 - r_squared_linreg: 0.4207 - val_loss: 26.8174 - val_custom_mae: 0.2320 - val_custom_mean_sd: 0.7789 - val_custom_mse: 0.0921 - val_custom_mse_scaled: 0.1518 - val_gaussian_reconstruction_loss: 26.8174 - val_r_squared: -1.4891e-01 - val_r_squared_linreg: 0.4230 - lr: 0.0500 - 383ms/epoch - 383ms/step\n",
      "Epoch 6/10\n",
      "1/1 - 0s - loss: 26.8269 - custom_mae: 0.2331 - custom_mean_sd: 0.7789 - custom_mse: 0.0924 - custom_mse_scaled: 0.1523 - gaussian_reconstruction_loss: 26.8269 - r_squared: -1.2435e-01 - r_squared_linreg: 0.4278 - val_loss: 24.7216 - val_custom_mae: 0.2088 - val_custom_mean_sd: 0.7408 - val_custom_mse: 0.0744 - val_custom_mse_scaled: 0.1356 - val_gaussian_reconstruction_loss: 24.7216 - val_r_squared: 0.0587 - val_r_squared_linreg: 0.4199 - lr: 0.0500 - 383ms/epoch - 383ms/step\n",
      "Epoch 7/10\n",
      "1/1 - 0s - loss: 24.7732 - custom_mae: 0.2104 - custom_mean_sd: 0.7408 - custom_mse: 0.0760 - custom_mse_scaled: 0.1385 - gaussian_reconstruction_loss: 24.7732 - r_squared: 0.0683 - r_squared_linreg: 0.4098 - val_loss: 22.7380 - val_custom_mae: 0.1920 - val_custom_mean_sd: 0.7045 - val_custom_mse: 0.0625 - val_custom_mse_scaled: 0.1258 - val_gaussian_reconstruction_loss: 22.7380 - val_r_squared: 0.2079 - val_r_squared_linreg: 0.3944 - lr: 0.0500 - 382ms/epoch - 382ms/step\n",
      "Epoch 8/10\n",
      "1/1 - 0s - loss: 22.7974 - custom_mae: 0.1948 - custom_mean_sd: 0.7045 - custom_mse: 0.0641 - custom_mse_scaled: 0.1291 - gaussian_reconstruction_loss: 22.7974 - r_squared: 0.2212 - r_squared_linreg: 0.3947 - val_loss: 20.9555 - val_custom_mae: 0.1871 - val_custom_mean_sd: 0.6700 - val_custom_mse: 0.0571 - val_custom_mse_scaled: 0.1273 - val_gaussian_reconstruction_loss: 20.9555 - val_r_squared: 0.2721 - val_r_squared_linreg: 0.3711 - lr: 0.0500 - 379ms/epoch - 379ms/step\n",
      "Epoch 9/10\n",
      "1/1 - 0s - loss: 21.0238 - custom_mae: 0.1901 - custom_mean_sd: 0.6700 - custom_mse: 0.0588 - custom_mse_scaled: 0.1311 - gaussian_reconstruction_loss: 21.0238 - r_squared: 0.2808 - r_squared_linreg: 0.3817 - val_loss: 19.3419 - val_custom_mae: 0.1860 - val_custom_mean_sd: 0.6371 - val_custom_mse: 0.0561 - val_custom_mse_scaled: 0.1382 - val_gaussian_reconstruction_loss: 19.3419 - val_r_squared: 0.2912 - val_r_squared_linreg: 0.3584 - lr: 0.0500 - 378ms/epoch - 378ms/step\n",
      "Epoch 10/10\n",
      "1/1 - 0s - loss: 19.4904 - custom_mae: 0.1914 - custom_mean_sd: 0.6371 - custom_mse: 0.0595 - custom_mse_scaled: 0.1465 - gaussian_reconstruction_loss: 19.4904 - r_squared: 0.2896 - r_squared_linreg: 0.3710 - val_loss: 17.5396 - val_custom_mae: 0.1773 - val_custom_mean_sd: 0.6059 - val_custom_mse: 0.0509 - val_custom_mse_scaled: 0.1387 - val_gaussian_reconstruction_loss: 17.5396 - val_r_squared: 0.3582 - val_r_squared_linreg: 0.4054 - lr: 0.0500 - 411ms/epoch - 411ms/step\n",
      "\n",
      "-------------------------------------------------------------------------------------------------\n",
      "\n",
      "                                       REP: 10\n",
      "\n",
      "-------------------------------------------------------------------------------------------------\n",
      "\n",
      "Loading data from raw files\n",
      "registering celldata\n"
     ]
    },
    {
     "name": "stderr",
     "output_type": "stream",
     "text": [
      "/home/ifichtner/mambaforge/envs/squidpyTF/lib/python3.8/site-packages/ncem/data.py:2389: FutureWarning: X.dtype being converted to np.float32 from float64. In the next version of anndata (0.9) conversion will not be automatic. Pass dtype explicitly to avoid this warning. Pass `AnnData(X, dtype=X.dtype, ...)` to get the future behavour.\n",
      "  celldata = AnnData(\n",
      "/home/ifichtner/mambaforge/envs/squidpyTF/lib/python3.8/site-packages/anndata/_core/anndata.py:121: ImplicitModificationWarning: Transforming to str index.\n",
      "  warnings.warn(\"Transforming to str index.\", ImplicitModificationWarning)\n"
     ]
    },
    {
     "name": "stdout",
     "output_type": "stream",
     "text": [
      "collecting image-wise celldata\n",
      "adding graph-level covariates\n"
     ]
    },
    {
     "name": "stderr",
     "output_type": "stream",
     "text": [
      "100%|██████████| 58/58 [00:01<00:00, 54.41it/s]\n"
     ]
    },
    {
     "name": "stdout",
     "output_type": "stream",
     "text": [
      "Loaded 58 images with complete data from 4 patients over 63747 cells with 36 cell features and 8 distinct celltypes.\n",
      "Mean of mean node degree per images across images: 4.416036\n",
      "Using split method: node. \n",
      " Train-test-validation split is based on total number of nodes per patients over all images.\n",
      "\n",
      "Excluded 0 cells with the following unannotated cell type: [None] \n",
      "\n",
      "Whole dataset: 63747 cells out of 58 images from 4 patients.\n",
      "Test dataset: 6376 cells out of 58 images from 4 patients.\n",
      "Training dataset: 51930 cells out of 58 images from 4 patients.\n",
      "Validation dataset: 5738 cells out of 58 images from 4 patients. \n",
      "\n",
      "Epoch 1/10\n",
      "1/1 - 1s - loss: 38.7322 - custom_mae: 0.4522 - custom_mean_sd: 1.0000 - custom_mse: 0.3139 - custom_mse_scaled: 0.3139 - gaussian_reconstruction_loss: 38.7322 - r_squared: -2.7946e+00 - r_squared_linreg: 0.0019 - val_loss: 34.1065 - val_custom_mae: 0.2947 - val_custom_mean_sd: 0.9512 - val_custom_mse: 0.1420 - val_custom_mse_scaled: 0.1569 - val_gaussian_reconstruction_loss: 34.1065 - val_r_squared: -7.8847e-01 - val_r_squared_linreg: 0.0743 - lr: 0.0500 - 1s/epoch - 1s/step\n",
      "Epoch 2/10\n",
      "1/1 - 0s - loss: 34.1672 - custom_mae: 0.2974 - custom_mean_sd: 0.9512 - custom_mse: 0.1450 - custom_mse_scaled: 0.1603 - gaussian_reconstruction_loss: 34.1672 - r_squared: -7.8529e-01 - r_squared_linreg: 0.0805 - val_loss: 31.6535 - val_custom_mae: 0.2473 - val_custom_mean_sd: 0.9051 - val_custom_mse: 0.0983 - val_custom_mse_scaled: 0.1200 - val_gaussian_reconstruction_loss: 31.6535 - val_r_squared: -2.3974e-01 - val_r_squared_linreg: 0.2346 - lr: 0.0500 - 400ms/epoch - 400ms/step\n",
      "Epoch 3/10\n",
      "1/1 - 0s - loss: 31.6273 - custom_mae: 0.2466 - custom_mean_sd: 0.9051 - custom_mse: 0.0971 - custom_mse_scaled: 0.1185 - gaussian_reconstruction_loss: 31.6273 - r_squared: -1.8541e-01 - r_squared_linreg: 0.2510 - val_loss: 30.1961 - val_custom_mae: 0.2526 - val_custom_mean_sd: 0.8611 - val_custom_mse: 0.1029 - val_custom_mse_scaled: 0.1387 - val_gaussian_reconstruction_loss: 30.1961 - val_r_squared: -2.9500e-01 - val_r_squared_linreg: 0.3512 - lr: 0.0500 - 406ms/epoch - 406ms/step\n",
      "Epoch 4/10\n",
      "1/1 - 0s - loss: 30.1017 - custom_mae: 0.2470 - custom_mean_sd: 0.8611 - custom_mse: 0.0990 - custom_mse_scaled: 0.1334 - gaussian_reconstruction_loss: 30.1017 - r_squared: -1.9860e-01 - r_squared_linreg: 0.3616 - val_loss: 28.6676 - val_custom_mae: 0.2498 - val_custom_mean_sd: 0.8192 - val_custom_mse: 0.1032 - val_custom_mse_scaled: 0.1537 - val_gaussian_reconstruction_loss: 28.6676 - val_r_squared: -2.7673e-01 - val_r_squared_linreg: 0.3977 - lr: 0.0500 - 401ms/epoch - 401ms/step\n",
      "Epoch 5/10\n",
      "1/1 - 0s - loss: 28.6528 - custom_mae: 0.2493 - custom_mean_sd: 0.8192 - custom_mse: 0.1027 - custom_mse_scaled: 0.1529 - gaussian_reconstruction_loss: 28.6528 - r_squared: -2.5412e-01 - r_squared_linreg: 0.4093 - val_loss: 26.9429 - val_custom_mae: 0.2378 - val_custom_mean_sd: 0.7792 - val_custom_mse: 0.0960 - val_custom_mse_scaled: 0.1580 - val_gaussian_reconstruction_loss: 26.9429 - val_r_squared: -2.2472e-01 - val_r_squared_linreg: 0.4025 - lr: 0.0500 - 395ms/epoch - 395ms/step\n",
      "Epoch 6/10\n",
      "1/1 - 0s - loss: 27.0055 - custom_mae: 0.2405 - custom_mean_sd: 0.7792 - custom_mse: 0.0981 - custom_mse_scaled: 0.1615 - gaussian_reconstruction_loss: 27.0055 - r_squared: -1.8871e-01 - r_squared_linreg: 0.4078 - val_loss: 24.9925 - val_custom_mae: 0.2185 - val_custom_mean_sd: 0.7411 - val_custom_mse: 0.0824 - val_custom_mse_scaled: 0.1497 - val_gaussian_reconstruction_loss: 24.9925 - val_r_squared: -5.0037e-02 - val_r_squared_linreg: 0.4038 - lr: 0.0500 - 379ms/epoch - 379ms/step\n",
      "Epoch 7/10\n",
      "1/1 - 0s - loss: 24.9857 - custom_mae: 0.2191 - custom_mean_sd: 0.7411 - custom_mse: 0.0822 - custom_mse_scaled: 0.1493 - gaussian_reconstruction_loss: 24.9857 - r_squared: 0.0065 - r_squared_linreg: 0.4130 - val_loss: 22.8422 - val_custom_mae: 0.1942 - val_custom_mean_sd: 0.7049 - val_custom_mse: 0.0649 - val_custom_mse_scaled: 0.1304 - val_gaussian_reconstruction_loss: 22.8422 - val_r_squared: 0.1805 - val_r_squared_linreg: 0.4108 - lr: 0.0500 - 405ms/epoch - 405ms/step\n",
      "Epoch 8/10\n",
      "1/1 - 0s - loss: 22.9083 - custom_mae: 0.1974 - custom_mean_sd: 0.7049 - custom_mse: 0.0667 - custom_mse_scaled: 0.1341 - gaussian_reconstruction_loss: 22.9083 - r_squared: 0.1894 - r_squared_linreg: 0.4048 - val_loss: 21.0518 - val_custom_mae: 0.1868 - val_custom_mean_sd: 0.6704 - val_custom_mse: 0.0591 - val_custom_mse_scaled: 0.1313 - val_gaussian_reconstruction_loss: 21.0518 - val_r_squared: 0.2514 - val_r_squared_linreg: 0.3948 - lr: 0.0500 - 377ms/epoch - 377ms/step\n",
      "Epoch 9/10\n",
      "1/1 - 0s - loss: 21.0688 - custom_mae: 0.1874 - custom_mean_sd: 0.6704 - custom_mse: 0.0595 - custom_mse_scaled: 0.1323 - gaussian_reconstruction_loss: 21.0688 - r_squared: 0.2783 - r_squared_linreg: 0.4024 - val_loss: 19.2911 - val_custom_mae: 0.1809 - val_custom_mean_sd: 0.6376 - val_custom_mse: 0.0545 - val_custom_mse_scaled: 0.1339 - val_gaussian_reconstruction_loss: 19.2911 - val_r_squared: 0.3199 - val_r_squared_linreg: 0.3961 - lr: 0.0500 - 374ms/epoch - 374ms/step\n",
      "Epoch 10/10\n",
      "1/1 - 0s - loss: 19.2161 - custom_mae: 0.1785 - custom_mean_sd: 0.6376 - custom_mse: 0.0528 - custom_mse_scaled: 0.1298 - gaussian_reconstruction_loss: 19.2161 - r_squared: 0.3455 - r_squared_linreg: 0.4157 - val_loss: 17.6280 - val_custom_mae: 0.1777 - val_custom_mean_sd: 0.6063 - val_custom_mse: 0.0523 - val_custom_mse_scaled: 0.1421 - val_gaussian_reconstruction_loss: 17.6280 - val_r_squared: 0.3444 - val_r_squared_linreg: 0.3935 - lr: 0.0500 - 361ms/epoch - 361ms/step\n",
      "\n",
      "-------------------------------------------------------------------------------------------------\n",
      "\n",
      "                                       REP: 11\n",
      "\n",
      "-------------------------------------------------------------------------------------------------\n",
      "\n",
      "Loading data from raw files\n",
      "registering celldata\n"
     ]
    },
    {
     "name": "stderr",
     "output_type": "stream",
     "text": [
      "/home/ifichtner/mambaforge/envs/squidpyTF/lib/python3.8/site-packages/ncem/data.py:2389: FutureWarning: X.dtype being converted to np.float32 from float64. In the next version of anndata (0.9) conversion will not be automatic. Pass dtype explicitly to avoid this warning. Pass `AnnData(X, dtype=X.dtype, ...)` to get the future behavour.\n",
      "  celldata = AnnData(\n",
      "/home/ifichtner/mambaforge/envs/squidpyTF/lib/python3.8/site-packages/anndata/_core/anndata.py:121: ImplicitModificationWarning: Transforming to str index.\n",
      "  warnings.warn(\"Transforming to str index.\", ImplicitModificationWarning)\n"
     ]
    },
    {
     "name": "stdout",
     "output_type": "stream",
     "text": [
      "collecting image-wise celldata\n",
      "adding graph-level covariates\n"
     ]
    },
    {
     "name": "stderr",
     "output_type": "stream",
     "text": [
      "100%|██████████| 58/58 [00:01<00:00, 51.91it/s]\n"
     ]
    },
    {
     "name": "stdout",
     "output_type": "stream",
     "text": [
      "Loaded 58 images with complete data from 4 patients over 63747 cells with 36 cell features and 8 distinct celltypes.\n",
      "Mean of mean node degree per images across images: 4.416036\n",
      "Using split method: node. \n",
      " Train-test-validation split is based on total number of nodes per patients over all images.\n",
      "\n",
      "Excluded 0 cells with the following unannotated cell type: [None] \n",
      "\n",
      "Whole dataset: 63747 cells out of 58 images from 4 patients.\n",
      "Test dataset: 6376 cells out of 58 images from 4 patients.\n",
      "Training dataset: 51930 cells out of 58 images from 4 patients.\n",
      "Validation dataset: 5738 cells out of 58 images from 4 patients. \n",
      "\n",
      "Epoch 1/10\n",
      "1/1 - 2s - loss: 38.5365 - custom_mae: 0.4459 - custom_mean_sd: 1.0000 - custom_mse: 0.3030 - custom_mse_scaled: 0.3030 - gaussian_reconstruction_loss: 38.5365 - r_squared: -2.6632e+00 - r_squared_linreg: 1.3574e-04 - val_loss: 33.9767 - val_custom_mae: 0.2884 - val_custom_mean_sd: 0.9512 - val_custom_mse: 0.1355 - val_custom_mse_scaled: 0.1497 - val_gaussian_reconstruction_loss: 33.9767 - val_r_squared: -6.9457e-01 - val_r_squared_linreg: 0.0769 - lr: 0.0500 - 2s/epoch - 2s/step\n",
      "Epoch 2/10\n",
      "1/1 - 0s - loss: 34.0345 - custom_mae: 0.2924 - custom_mean_sd: 0.9512 - custom_mse: 0.1384 - custom_mse_scaled: 0.1529 - gaussian_reconstruction_loss: 34.0345 - r_squared: -7.0315e-01 - r_squared_linreg: 0.0793 - val_loss: 31.6945 - val_custom_mae: 0.2503 - val_custom_mean_sd: 0.9052 - val_custom_mse: 0.1001 - val_custom_mse_scaled: 0.1221 - val_gaussian_reconstruction_loss: 31.6945 - val_r_squared: -2.7033e-01 - val_r_squared_linreg: 0.2151 - lr: 0.0500 - 397ms/epoch - 397ms/step\n",
      "Epoch 3/10\n",
      "1/1 - 0s - loss: 31.7051 - custom_mae: 0.2506 - custom_mean_sd: 0.9052 - custom_mse: 0.1006 - custom_mse_scaled: 0.1227 - gaussian_reconstruction_loss: 31.7051 - r_squared: -2.2521e-01 - r_squared_linreg: 0.2273 - val_loss: 30.1752 - val_custom_mae: 0.2524 - val_custom_mean_sd: 0.8612 - val_custom_mse: 0.1019 - val_custom_mse_scaled: 0.1373 - val_gaussian_reconstruction_loss: 30.1752 - val_r_squared: -2.8589e-01 - val_r_squared_linreg: 0.3343 - lr: 0.0500 - 369ms/epoch - 369ms/step\n",
      "Epoch 4/10\n",
      "1/1 - 0s - loss: 30.1262 - custom_mae: 0.2490 - custom_mean_sd: 0.8612 - custom_mse: 0.0998 - custom_mse_scaled: 0.1346 - gaussian_reconstruction_loss: 30.1262 - r_squared: -2.0675e-01 - r_squared_linreg: 0.3495 - val_loss: 28.6927 - val_custom_mae: 0.2515 - val_custom_mean_sd: 0.8193 - val_custom_mse: 0.1040 - val_custom_mse_scaled: 0.1548 - val_gaussian_reconstruction_loss: 28.6927 - val_r_squared: -2.9525e-01 - val_r_squared_linreg: 0.4029 - lr: 0.0500 - 379ms/epoch - 379ms/step\n",
      "Epoch 5/10\n",
      "1/1 - 0s - loss: 28.6075 - custom_mae: 0.2456 - custom_mean_sd: 0.8193 - custom_mse: 0.1009 - custom_mse_scaled: 0.1501 - gaussian_reconstruction_loss: 28.6075 - r_squared: -2.2504e-01 - r_squared_linreg: 0.3921 - val_loss: 26.8097 - val_custom_mae: 0.2312 - val_custom_mean_sd: 0.7793 - val_custom_mse: 0.0915 - val_custom_mse_scaled: 0.1503 - val_gaussian_reconstruction_loss: 26.8097 - val_r_squared: -1.4631e-01 - val_r_squared_linreg: 0.4097 - lr: 0.0500 - 370ms/epoch - 370ms/step\n",
      "Epoch 6/10\n",
      "1/1 - 0s - loss: 26.7655 - custom_mae: 0.2299 - custom_mean_sd: 0.7793 - custom_mse: 0.0900 - custom_mse_scaled: 0.1478 - gaussian_reconstruction_loss: 26.7655 - r_squared: -9.2613e-02 - r_squared_linreg: 0.4131 - val_loss: 24.7949 - val_custom_mae: 0.2110 - val_custom_mean_sd: 0.7413 - val_custom_mse: 0.0763 - val_custom_mse_scaled: 0.1385 - val_gaussian_reconstruction_loss: 24.7949 - val_r_squared: 0.0288 - val_r_squared_linreg: 0.3996 - lr: 0.0500 - 380ms/epoch - 380ms/step\n",
      "Epoch 7/10\n",
      "1/1 - 0s - loss: 24.8252 - custom_mae: 0.2118 - custom_mean_sd: 0.7413 - custom_mse: 0.0773 - custom_mse_scaled: 0.1401 - gaussian_reconstruction_loss: 24.8252 - r_squared: 0.0556 - r_squared_linreg: 0.4108 - val_loss: 22.9362 - val_custom_mae: 0.1992 - val_custom_mean_sd: 0.7050 - val_custom_mse: 0.0676 - val_custom_mse_scaled: 0.1354 - val_gaussian_reconstruction_loss: 22.9362 - val_r_squared: 0.1338 - val_r_squared_linreg: 0.3922 - lr: 0.0500 - 401ms/epoch - 401ms/step\n",
      "Epoch 8/10\n",
      "1/1 - 0s - loss: 22.9137 - custom_mae: 0.1992 - custom_mean_sd: 0.7050 - custom_mse: 0.0669 - custom_mse_scaled: 0.1342 - gaussian_reconstruction_loss: 22.9137 - r_squared: 0.1869 - r_squared_linreg: 0.4063 - val_loss: 20.9774 - val_custom_mae: 0.1844 - val_custom_mean_sd: 0.6705 - val_custom_mse: 0.0572 - val_custom_mse_scaled: 0.1269 - val_gaussian_reconstruction_loss: 20.9774 - val_r_squared: 0.2798 - val_r_squared_linreg: 0.4044 - lr: 0.0500 - 386ms/epoch - 386ms/step\n",
      "Epoch 9/10\n",
      "1/1 - 0s - loss: 21.0109 - custom_mae: 0.1864 - custom_mean_sd: 0.6705 - custom_mse: 0.0580 - custom_mse_scaled: 0.1288 - gaussian_reconstruction_loss: 21.0109 - r_squared: 0.2912 - r_squared_linreg: 0.4158 - val_loss: 19.2191 - val_custom_mae: 0.1762 - val_custom_mean_sd: 0.6377 - val_custom_mse: 0.0528 - val_custom_mse_scaled: 0.1297 - val_gaussian_reconstruction_loss: 19.2191 - val_r_squared: 0.3375 - val_r_squared_linreg: 0.4138 - lr: 0.0500 - 378ms/epoch - 378ms/step\n",
      "Epoch 10/10\n",
      "1/1 - 0s - loss: 19.2424 - custom_mae: 0.1779 - custom_mean_sd: 0.6377 - custom_mse: 0.0533 - custom_mse_scaled: 0.1310 - gaussian_reconstruction_loss: 19.2424 - r_squared: 0.3523 - r_squared_linreg: 0.4260 - val_loss: 17.4698 - val_custom_mae: 0.1711 - val_custom_mean_sd: 0.6064 - val_custom_mse: 0.0490 - val_custom_mse_scaled: 0.1330 - val_gaussian_reconstruction_loss: 17.4698 - val_r_squared: 0.3835 - val_r_squared_linreg: 0.4239 - lr: 0.0500 - 403ms/epoch - 403ms/step\n",
      "\n",
      "-------------------------------------------------------------------------------------------------\n",
      "\n",
      "                                       REP: 12\n",
      "\n",
      "-------------------------------------------------------------------------------------------------\n",
      "\n",
      "Loading data from raw files\n",
      "registering celldata\n"
     ]
    },
    {
     "name": "stderr",
     "output_type": "stream",
     "text": [
      "/home/ifichtner/mambaforge/envs/squidpyTF/lib/python3.8/site-packages/ncem/data.py:2389: FutureWarning: X.dtype being converted to np.float32 from float64. In the next version of anndata (0.9) conversion will not be automatic. Pass dtype explicitly to avoid this warning. Pass `AnnData(X, dtype=X.dtype, ...)` to get the future behavour.\n",
      "  celldata = AnnData(\n",
      "/home/ifichtner/mambaforge/envs/squidpyTF/lib/python3.8/site-packages/anndata/_core/anndata.py:121: ImplicitModificationWarning: Transforming to str index.\n",
      "  warnings.warn(\"Transforming to str index.\", ImplicitModificationWarning)\n"
     ]
    },
    {
     "name": "stdout",
     "output_type": "stream",
     "text": [
      "collecting image-wise celldata\n",
      "adding graph-level covariates\n"
     ]
    },
    {
     "name": "stderr",
     "output_type": "stream",
     "text": [
      "100%|██████████| 58/58 [00:01<00:00, 54.07it/s]\n"
     ]
    },
    {
     "name": "stdout",
     "output_type": "stream",
     "text": [
      "Loaded 58 images with complete data from 4 patients over 63747 cells with 36 cell features and 8 distinct celltypes.\n",
      "Mean of mean node degree per images across images: 4.416036\n",
      "Using split method: node. \n",
      " Train-test-validation split is based on total number of nodes per patients over all images.\n",
      "\n",
      "Excluded 0 cells with the following unannotated cell type: [None] \n",
      "\n",
      "Whole dataset: 63747 cells out of 58 images from 4 patients.\n",
      "Test dataset: 6376 cells out of 58 images from 4 patients.\n",
      "Training dataset: 51930 cells out of 58 images from 4 patients.\n",
      "Validation dataset: 5738 cells out of 58 images from 4 patients. \n",
      "\n",
      "Epoch 1/10\n",
      "1/1 - 2s - loss: 39.1526 - custom_mae: 0.4770 - custom_mean_sd: 1.0000 - custom_mse: 0.3373 - custom_mse_scaled: 0.3373 - gaussian_reconstruction_loss: 39.1526 - r_squared: -3.0770e+00 - r_squared_linreg: 4.8462e-05 - val_loss: 34.2602 - val_custom_mae: 0.3058 - val_custom_mean_sd: 0.9512 - val_custom_mse: 0.1497 - val_custom_mse_scaled: 0.1655 - val_gaussian_reconstruction_loss: 34.2602 - val_r_squared: -8.8880e-01 - val_r_squared_linreg: 0.0514 - lr: 0.0500 - 2s/epoch - 2s/step\n",
      "Epoch 2/10\n",
      "1/1 - 0s - loss: 34.3001 - custom_mae: 0.3094 - custom_mean_sd: 0.9512 - custom_mse: 0.1517 - custom_mse_scaled: 0.1677 - gaussian_reconstruction_loss: 34.3001 - r_squared: -8.6753e-01 - r_squared_linreg: 0.0551 - val_loss: 31.7589 - val_custom_mae: 0.2535 - val_custom_mean_sd: 0.9052 - val_custom_mse: 0.1031 - val_custom_mse_scaled: 0.1258 - val_gaussian_reconstruction_loss: 31.7589 - val_r_squared: -3.0515e-01 - val_r_squared_linreg: 0.1969 - lr: 0.0500 - 384ms/epoch - 384ms/step\n",
      "Epoch 3/10\n",
      "1/1 - 0s - loss: 31.7217 - custom_mae: 0.2509 - custom_mean_sd: 0.9052 - custom_mse: 0.1014 - custom_mse_scaled: 0.1237 - gaussian_reconstruction_loss: 31.7217 - r_squared: -2.3470e-01 - r_squared_linreg: 0.2100 - val_loss: 30.2403 - val_custom_mae: 0.2527 - val_custom_mean_sd: 0.8612 - val_custom_mse: 0.1046 - val_custom_mse_scaled: 0.1411 - val_gaussian_reconstruction_loss: 30.2403 - val_r_squared: -3.3020e-01 - val_r_squared_linreg: 0.3359 - lr: 0.0500 - 373ms/epoch - 373ms/step\n",
      "Epoch 4/10\n",
      "1/1 - 0s - loss: 30.2566 - custom_mae: 0.2549 - custom_mean_sd: 0.8612 - custom_mse: 0.1053 - custom_mse_scaled: 0.1420 - gaussian_reconstruction_loss: 30.2566 - r_squared: -2.7377e-01 - r_squared_linreg: 0.3425 - val_loss: 28.7147 - val_custom_mae: 0.2500 - val_custom_mean_sd: 0.8192 - val_custom_mse: 0.1049 - val_custom_mse_scaled: 0.1562 - val_gaussian_reconstruction_loss: 28.7147 - val_r_squared: -3.2902e-01 - val_r_squared_linreg: 0.4000 - lr: 0.0500 - 414ms/epoch - 414ms/step\n",
      "Epoch 5/10\n",
      "1/1 - 0s - loss: 28.6596 - custom_mae: 0.2484 - custom_mean_sd: 0.8192 - custom_mse: 0.1029 - custom_mse_scaled: 0.1532 - gaussian_reconstruction_loss: 28.6596 - r_squared: -2.4763e-01 - r_squared_linreg: 0.4197 - val_loss: 27.0519 - val_custom_mae: 0.2417 - val_custom_mean_sd: 0.7792 - val_custom_mse: 0.0997 - val_custom_mse_scaled: 0.1640 - val_gaussian_reconstruction_loss: 27.0519 - val_r_squared: -2.7690e-01 - val_r_squared_linreg: 0.4202 - lr: 0.0500 - 374ms/epoch - 374ms/step\n",
      "Epoch 6/10\n",
      "1/1 - 0s - loss: 27.0334 - custom_mae: 0.2421 - custom_mean_sd: 0.7792 - custom_mse: 0.0990 - custom_mse_scaled: 0.1629 - gaussian_reconstruction_loss: 27.0334 - r_squared: -1.9720e-01 - r_squared_linreg: 0.4165 - val_loss: 24.9385 - val_custom_mae: 0.2175 - val_custom_mean_sd: 0.7411 - val_custom_mse: 0.0807 - val_custom_mse_scaled: 0.1467 - val_gaussian_reconstruction_loss: 24.9385 - val_r_squared: -1.3329e-02 - val_r_squared_linreg: 0.4029 - lr: 0.0500 - 374ms/epoch - 374ms/step\n",
      "Epoch 7/10\n",
      "1/1 - 0s - loss: 25.0173 - custom_mae: 0.2198 - custom_mean_sd: 0.7411 - custom_mse: 0.0831 - custom_mse_scaled: 0.1511 - gaussian_reconstruction_loss: 25.0173 - r_squared: -1.9242e-02 - r_squared_linreg: 0.4238 - val_loss: 22.9862 - val_custom_mae: 0.2007 - val_custom_mean_sd: 0.7049 - val_custom_mse: 0.0689 - val_custom_mse_scaled: 0.1385 - val_gaussian_reconstruction_loss: 22.9862 - val_r_squared: 0.1346 - val_r_squared_linreg: 0.3914 - lr: 0.0500 - 401ms/epoch - 401ms/step\n",
      "Epoch 8/10\n",
      "1/1 - 0s - loss: 23.0444 - custom_mae: 0.2034 - custom_mean_sd: 0.7049 - custom_mse: 0.0705 - custom_mse_scaled: 0.1418 - gaussian_reconstruction_loss: 23.0444 - r_squared: 0.1475 - r_squared_linreg: 0.3958 - val_loss: 20.9353 - val_custom_mae: 0.1841 - val_custom_mean_sd: 0.6704 - val_custom_mse: 0.0562 - val_custom_mse_scaled: 0.1250 - val_gaussian_reconstruction_loss: 20.9353 - val_r_squared: 0.2882 - val_r_squared_linreg: 0.4015 - lr: 0.0500 - 370ms/epoch - 370ms/step\n",
      "Epoch 9/10\n",
      "1/1 - 0s - loss: 21.0921 - custom_mae: 0.1905 - custom_mean_sd: 0.6704 - custom_mse: 0.0601 - custom_mse_scaled: 0.1337 - gaussian_reconstruction_loss: 21.0921 - r_squared: 0.2699 - r_squared_linreg: 0.3968 - val_loss: 19.2738 - val_custom_mae: 0.1812 - val_custom_mean_sd: 0.6375 - val_custom_mse: 0.0542 - val_custom_mse_scaled: 0.1332 - val_gaussian_reconstruction_loss: 19.2738 - val_r_squared: 0.3187 - val_r_squared_linreg: 0.3914 - lr: 0.0500 - 377ms/epoch - 377ms/step\n",
      "Epoch 10/10\n",
      "1/1 - 0s - loss: 19.3516 - custom_mae: 0.1849 - custom_mean_sd: 0.6375 - custom_mse: 0.0559 - custom_mse_scaled: 0.1375 - gaussian_reconstruction_loss: 19.3516 - r_squared: 0.3179 - r_squared_linreg: 0.3945 - val_loss: 17.5860 - val_custom_mae: 0.1774 - val_custom_mean_sd: 0.6062 - val_custom_mse: 0.0515 - val_custom_mse_scaled: 0.1401 - val_gaussian_reconstruction_loss: 17.5860 - val_r_squared: 0.3465 - val_r_squared_linreg: 0.3935 - lr: 0.0500 - 368ms/epoch - 368ms/step\n",
      "\n",
      "-------------------------------------------------------------------------------------------------\n",
      "\n",
      "                                       REP: 13\n",
      "\n",
      "-------------------------------------------------------------------------------------------------\n",
      "\n",
      "Loading data from raw files\n",
      "registering celldata\n"
     ]
    },
    {
     "name": "stderr",
     "output_type": "stream",
     "text": [
      "/home/ifichtner/mambaforge/envs/squidpyTF/lib/python3.8/site-packages/ncem/data.py:2389: FutureWarning: X.dtype being converted to np.float32 from float64. In the next version of anndata (0.9) conversion will not be automatic. Pass dtype explicitly to avoid this warning. Pass `AnnData(X, dtype=X.dtype, ...)` to get the future behavour.\n",
      "  celldata = AnnData(\n",
      "/home/ifichtner/mambaforge/envs/squidpyTF/lib/python3.8/site-packages/anndata/_core/anndata.py:121: ImplicitModificationWarning: Transforming to str index.\n",
      "  warnings.warn(\"Transforming to str index.\", ImplicitModificationWarning)\n"
     ]
    },
    {
     "name": "stdout",
     "output_type": "stream",
     "text": [
      "collecting image-wise celldata\n",
      "adding graph-level covariates\n"
     ]
    },
    {
     "name": "stderr",
     "output_type": "stream",
     "text": [
      "100%|██████████| 58/58 [00:01<00:00, 52.39it/s]\n"
     ]
    },
    {
     "name": "stdout",
     "output_type": "stream",
     "text": [
      "Loaded 58 images with complete data from 4 patients over 63747 cells with 36 cell features and 8 distinct celltypes.\n",
      "Mean of mean node degree per images across images: 4.416036\n",
      "Using split method: node. \n",
      " Train-test-validation split is based on total number of nodes per patients over all images.\n",
      "\n",
      "Excluded 0 cells with the following unannotated cell type: [None] \n",
      "\n",
      "Whole dataset: 63747 cells out of 58 images from 4 patients.\n",
      "Test dataset: 6376 cells out of 58 images from 4 patients.\n",
      "Training dataset: 51930 cells out of 58 images from 4 patients.\n",
      "Validation dataset: 5738 cells out of 58 images from 4 patients. \n",
      "\n",
      "Epoch 1/10\n",
      "1/1 - 1s - loss: 38.4899 - custom_mae: 0.4472 - custom_mean_sd: 1.0000 - custom_mse: 0.3005 - custom_mse_scaled: 0.3005 - gaussian_reconstruction_loss: 38.4899 - r_squared: -2.6319e+00 - r_squared_linreg: 0.0028 - val_loss: 33.9382 - val_custom_mae: 0.2901 - val_custom_mean_sd: 0.9512 - val_custom_mse: 0.1335 - val_custom_mse_scaled: 0.1476 - val_gaussian_reconstruction_loss: 33.9382 - val_r_squared: -6.8997e-01 - val_r_squared_linreg: 0.0670 - lr: 0.0500 - 1s/epoch - 1s/step\n",
      "Epoch 2/10\n",
      "1/1 - 0s - loss: 33.9956 - custom_mae: 0.2921 - custom_mean_sd: 0.9512 - custom_mse: 0.1364 - custom_mse_scaled: 0.1508 - gaussian_reconstruction_loss: 33.9956 - r_squared: -6.7909e-01 - r_squared_linreg: 0.0711 - val_loss: 31.7244 - val_custom_mae: 0.2522 - val_custom_mean_sd: 0.9050 - val_custom_mse: 0.1017 - val_custom_mse_scaled: 0.1241 - val_gaussian_reconstruction_loss: 31.7244 - val_r_squared: -2.7104e-01 - val_r_squared_linreg: 0.2296 - lr: 0.0500 - 375ms/epoch - 375ms/step\n",
      "Epoch 3/10\n",
      "1/1 - 0s - loss: 31.6366 - custom_mae: 0.2475 - custom_mean_sd: 0.9050 - custom_mse: 0.0977 - custom_mse_scaled: 0.1193 - gaussian_reconstruction_loss: 31.6366 - r_squared: -1.8989e-01 - r_squared_linreg: 0.2465 - val_loss: 30.2948 - val_custom_mae: 0.2570 - val_custom_mean_sd: 0.8610 - val_custom_mse: 0.1072 - val_custom_mse_scaled: 0.1445 - val_gaussian_reconstruction_loss: 30.2948 - val_r_squared: -3.4180e-01 - val_r_squared_linreg: 0.3518 - lr: 0.0500 - 367ms/epoch - 367ms/step\n",
      "Epoch 4/10\n",
      "1/1 - 0s - loss: 30.1926 - custom_mae: 0.2504 - custom_mean_sd: 0.8610 - custom_mse: 0.1029 - custom_mse_scaled: 0.1389 - gaussian_reconstruction_loss: 30.1926 - r_squared: -2.6166e-01 - r_squared_linreg: 0.3622 - val_loss: 28.6236 - val_custom_mae: 0.2472 - val_custom_mean_sd: 0.8190 - val_custom_mse: 0.1018 - val_custom_mse_scaled: 0.1517 - val_gaussian_reconstruction_loss: 28.6236 - val_r_squared: -2.9306e-01 - val_r_squared_linreg: 0.4066 - lr: 0.0500 - 397ms/epoch - 397ms/step\n",
      "Epoch 5/10\n",
      "1/1 - 0s - loss: 28.5421 - custom_mae: 0.2433 - custom_mean_sd: 0.8190 - custom_mse: 0.0988 - custom_mse_scaled: 0.1472 - gaussian_reconstruction_loss: 28.5421 - r_squared: -2.0450e-01 - r_squared_linreg: 0.4333 - val_loss: 26.7415 - val_custom_mae: 0.2294 - val_custom_mean_sd: 0.7790 - val_custom_mse: 0.0895 - val_custom_mse_scaled: 0.1473 - val_gaussian_reconstruction_loss: 26.7415 - val_r_squared: -1.2479e-01 - val_r_squared_linreg: 0.4213 - lr: 0.0500 - 373ms/epoch - 373ms/step\n",
      "Epoch 6/10\n",
      "1/1 - 0s - loss: 26.7504 - custom_mae: 0.2294 - custom_mean_sd: 0.7790 - custom_mse: 0.0898 - custom_mse_scaled: 0.1478 - gaussian_reconstruction_loss: 26.7504 - r_squared: -8.9757e-02 - r_squared_linreg: 0.4286 - val_loss: 24.6719 - val_custom_mae: 0.2072 - val_custom_mean_sd: 0.7409 - val_custom_mse: 0.0728 - val_custom_mse_scaled: 0.1325 - val_gaussian_reconstruction_loss: 24.6719 - val_r_squared: 0.0647 - val_r_squared_linreg: 0.4092 - lr: 0.0500 - 364ms/epoch - 364ms/step\n",
      "Epoch 7/10\n",
      "1/1 - 0s - loss: 24.7490 - custom_mae: 0.2104 - custom_mean_sd: 0.7409 - custom_mse: 0.0752 - custom_mse_scaled: 0.1368 - gaussian_reconstruction_loss: 24.7490 - r_squared: 0.0924 - r_squared_linreg: 0.4047 - val_loss: 22.7550 - val_custom_mae: 0.1935 - val_custom_mean_sd: 0.7047 - val_custom_mse: 0.0628 - val_custom_mse_scaled: 0.1264 - val_gaussian_reconstruction_loss: 22.7550 - val_r_squared: 0.2040 - val_r_squared_linreg: 0.3916 - lr: 0.0500 - 368ms/epoch - 368ms/step\n",
      "Epoch 8/10\n",
      "1/1 - 0s - loss: 22.8420 - custom_mae: 0.1981 - custom_mean_sd: 0.7047 - custom_mse: 0.0652 - custom_mse_scaled: 0.1312 - gaussian_reconstruction_loss: 22.8420 - r_squared: 0.2128 - r_squared_linreg: 0.3908 - val_loss: 20.9394 - val_custom_mae: 0.1849 - val_custom_mean_sd: 0.6702 - val_custom_mse: 0.0566 - val_custom_mse_scaled: 0.1259 - val_gaussian_reconstruction_loss: 20.9394 - val_r_squared: 0.2892 - val_r_squared_linreg: 0.3793 - lr: 0.0500 - 372ms/epoch - 372ms/step\n",
      "Epoch 9/10\n",
      "1/1 - 0s - loss: 20.9966 - custom_mae: 0.1878 - custom_mean_sd: 0.6702 - custom_mse: 0.0580 - custom_mse_scaled: 0.1291 - gaussian_reconstruction_loss: 20.9966 - r_squared: 0.2981 - r_squared_linreg: 0.3923 - val_loss: 19.1639 - val_custom_mae: 0.1778 - val_custom_mean_sd: 0.6373 - val_custom_mse: 0.0519 - val_custom_mse_scaled: 0.1278 - val_gaussian_reconstruction_loss: 19.1639 - val_r_squared: 0.3488 - val_r_squared_linreg: 0.4083 - lr: 0.0500 - 396ms/epoch - 396ms/step\n",
      "Epoch 10/10\n",
      "1/1 - 0s - loss: 19.2209 - custom_mae: 0.1798 - custom_mean_sd: 0.6373 - custom_mse: 0.0532 - custom_mse_scaled: 0.1309 - gaussian_reconstruction_loss: 19.2209 - r_squared: 0.3518 - r_squared_linreg: 0.4178 - val_loss: 17.5129 - val_custom_mae: 0.1741 - val_custom_mean_sd: 0.6061 - val_custom_mse: 0.0502 - val_custom_mse_scaled: 0.1366 - val_gaussian_reconstruction_loss: 17.5129 - val_r_squared: 0.3697 - val_r_squared_linreg: 0.4135 - lr: 0.0500 - 402ms/epoch - 402ms/step\n",
      "\n",
      "-------------------------------------------------------------------------------------------------\n",
      "\n",
      "                                       REP: 14\n",
      "\n",
      "-------------------------------------------------------------------------------------------------\n",
      "\n",
      "Loading data from raw files\n",
      "registering celldata\n"
     ]
    },
    {
     "name": "stderr",
     "output_type": "stream",
     "text": [
      "/home/ifichtner/mambaforge/envs/squidpyTF/lib/python3.8/site-packages/ncem/data.py:2389: FutureWarning: X.dtype being converted to np.float32 from float64. In the next version of anndata (0.9) conversion will not be automatic. Pass dtype explicitly to avoid this warning. Pass `AnnData(X, dtype=X.dtype, ...)` to get the future behavour.\n",
      "  celldata = AnnData(\n",
      "/home/ifichtner/mambaforge/envs/squidpyTF/lib/python3.8/site-packages/anndata/_core/anndata.py:121: ImplicitModificationWarning: Transforming to str index.\n",
      "  warnings.warn(\"Transforming to str index.\", ImplicitModificationWarning)\n"
     ]
    },
    {
     "name": "stdout",
     "output_type": "stream",
     "text": [
      "collecting image-wise celldata\n",
      "adding graph-level covariates\n"
     ]
    },
    {
     "name": "stderr",
     "output_type": "stream",
     "text": [
      "100%|██████████| 58/58 [00:01<00:00, 54.69it/s]\n"
     ]
    },
    {
     "name": "stdout",
     "output_type": "stream",
     "text": [
      "Loaded 58 images with complete data from 4 patients over 63747 cells with 36 cell features and 8 distinct celltypes.\n",
      "Mean of mean node degree per images across images: 4.416036\n",
      "Using split method: node. \n",
      " Train-test-validation split is based on total number of nodes per patients over all images.\n",
      "\n",
      "Excluded 0 cells with the following unannotated cell type: [None] \n",
      "\n",
      "Whole dataset: 63747 cells out of 58 images from 4 patients.\n",
      "Test dataset: 6376 cells out of 58 images from 4 patients.\n",
      "Training dataset: 51930 cells out of 58 images from 4 patients.\n",
      "Validation dataset: 5738 cells out of 58 images from 4 patients. \n",
      "\n",
      "Epoch 1/10\n",
      "1/1 - 1s - loss: 38.6278 - custom_mae: 0.4506 - custom_mean_sd: 1.0000 - custom_mse: 0.3081 - custom_mse_scaled: 0.3081 - gaussian_reconstruction_loss: 38.6278 - r_squared: -2.7245e+00 - r_squared_linreg: 0.0035 - val_loss: 34.0016 - val_custom_mae: 0.2915 - val_custom_mean_sd: 0.9512 - val_custom_mse: 0.1367 - val_custom_mse_scaled: 0.1511 - val_gaussian_reconstruction_loss: 34.0016 - val_r_squared: -7.3170e-01 - val_r_squared_linreg: 0.0605 - lr: 0.0500 - 1s/epoch - 1s/step\n",
      "Epoch 2/10\n",
      "1/1 - 0s - loss: 34.1393 - custom_mae: 0.3001 - custom_mean_sd: 0.9512 - custom_mse: 0.1436 - custom_mse_scaled: 0.1588 - gaussian_reconstruction_loss: 34.1393 - r_squared: -7.6803e-01 - r_squared_linreg: 0.0598 - val_loss: 31.6591 - val_custom_mae: 0.2485 - val_custom_mean_sd: 0.9051 - val_custom_mse: 0.0987 - val_custom_mse_scaled: 0.1204 - val_gaussian_reconstruction_loss: 31.6591 - val_r_squared: -2.5849e-01 - val_r_squared_linreg: 0.2314 - lr: 0.0500 - 364ms/epoch - 364ms/step\n",
      "Epoch 3/10\n",
      "1/1 - 0s - loss: 31.6443 - custom_mae: 0.2484 - custom_mean_sd: 0.9051 - custom_mse: 0.0980 - custom_mse_scaled: 0.1196 - gaussian_reconstruction_loss: 31.6443 - r_squared: -1.9261e-01 - r_squared_linreg: 0.2282 - val_loss: 30.2891 - val_custom_mae: 0.2565 - val_custom_mean_sd: 0.8610 - val_custom_mse: 0.1068 - val_custom_mse_scaled: 0.1441 - val_gaussian_reconstruction_loss: 30.2891 - val_r_squared: -3.5077e-01 - val_r_squared_linreg: 0.3631 - lr: 0.0500 - 407ms/epoch - 407ms/step\n",
      "Epoch 4/10\n",
      "1/1 - 0s - loss: 30.1753 - custom_mae: 0.2510 - custom_mean_sd: 0.8610 - custom_mse: 0.1021 - custom_mse_scaled: 0.1377 - gaussian_reconstruction_loss: 30.1753 - r_squared: -2.3184e-01 - r_squared_linreg: 0.3792 - val_loss: 28.6375 - val_custom_mae: 0.2463 - val_custom_mean_sd: 0.8190 - val_custom_mse: 0.1022 - val_custom_mse_scaled: 0.1523 - val_gaussian_reconstruction_loss: 28.6375 - val_r_squared: -3.0270e-01 - val_r_squared_linreg: 0.4152 - lr: 0.0500 - 377ms/epoch - 377ms/step\n",
      "Epoch 5/10\n",
      "1/1 - 0s - loss: 28.6528 - custom_mae: 0.2478 - custom_mean_sd: 0.8190 - custom_mse: 0.1028 - custom_mse_scaled: 0.1532 - gaussian_reconstruction_loss: 28.6528 - r_squared: -2.5965e-01 - r_squared_linreg: 0.4304 - val_loss: 26.7877 - val_custom_mae: 0.2299 - val_custom_mean_sd: 0.7790 - val_custom_mse: 0.0910 - val_custom_mse_scaled: 0.1497 - val_gaussian_reconstruction_loss: 26.7877 - val_r_squared: -1.6331e-01 - val_r_squared_linreg: 0.4324 - lr: 0.0500 - 384ms/epoch - 384ms/step\n",
      "Epoch 6/10\n",
      "1/1 - 0s - loss: 26.7367 - custom_mae: 0.2281 - custom_mean_sd: 0.7790 - custom_mse: 0.0893 - custom_mse_scaled: 0.1469 - gaussian_reconstruction_loss: 26.7367 - r_squared: -7.7535e-02 - r_squared_linreg: 0.4326 - val_loss: 24.8397 - val_custom_mae: 0.2133 - val_custom_mean_sd: 0.7410 - val_custom_mse: 0.0779 - val_custom_mse_scaled: 0.1417 - val_gaussian_reconstruction_loss: 24.8397 - val_r_squared: 0.0100 - val_r_squared_linreg: 0.3990 - lr: 0.0500 - 378ms/epoch - 378ms/step\n",
      "Epoch 7/10\n",
      "1/1 - 0s - loss: 24.8876 - custom_mae: 0.2155 - custom_mean_sd: 0.7410 - custom_mse: 0.0794 - custom_mse_scaled: 0.1444 - gaussian_reconstruction_loss: 24.8876 - r_squared: 0.0447 - r_squared_linreg: 0.4018 - val_loss: 22.8822 - val_custom_mae: 0.1977 - val_custom_mean_sd: 0.7047 - val_custom_mse: 0.0663 - val_custom_mse_scaled: 0.1332 - val_gaussian_reconstruction_loss: 22.8822 - val_r_squared: 0.1618 - val_r_squared_linreg: 0.3769 - lr: 0.0500 - 391ms/epoch - 391ms/step\n",
      "Epoch 8/10\n",
      "1/1 - 0s - loss: 22.8678 - custom_mae: 0.1990 - custom_mean_sd: 0.7047 - custom_mse: 0.0659 - custom_mse_scaled: 0.1324 - gaussian_reconstruction_loss: 22.8678 - r_squared: 0.1957 - r_squared_linreg: 0.3871 - val_loss: 20.9933 - val_custom_mae: 0.1864 - val_custom_mean_sd: 0.6702 - val_custom_mse: 0.0579 - val_custom_mse_scaled: 0.1287 - val_gaussian_reconstruction_loss: 20.9933 - val_r_squared: 0.2770 - val_r_squared_linreg: 0.3840 - lr: 0.0500 - 370ms/epoch - 370ms/step\n",
      "Epoch 9/10\n",
      "1/1 - 0s - loss: 21.0367 - custom_mae: 0.1884 - custom_mean_sd: 0.6702 - custom_mse: 0.0589 - custom_mse_scaled: 0.1311 - gaussian_reconstruction_loss: 21.0367 - r_squared: 0.2870 - r_squared_linreg: 0.3916 - val_loss: 19.1970 - val_custom_mae: 0.1771 - val_custom_mean_sd: 0.6374 - val_custom_mse: 0.0526 - val_custom_mse_scaled: 0.1294 - val_gaussian_reconstruction_loss: 19.1970 - val_r_squared: 0.3355 - val_r_squared_linreg: 0.4032 - lr: 0.0500 - 387ms/epoch - 387ms/step\n",
      "Epoch 10/10\n",
      "1/1 - 0s - loss: 19.2331 - custom_mae: 0.1799 - custom_mean_sd: 0.6374 - custom_mse: 0.0534 - custom_mse_scaled: 0.1314 - gaussian_reconstruction_loss: 19.2331 - r_squared: 0.3451 - r_squared_linreg: 0.4091 - val_loss: 17.4732 - val_custom_mae: 0.1715 - val_custom_mean_sd: 0.6061 - val_custom_mse: 0.0493 - val_custom_mse_scaled: 0.1342 - val_gaussian_reconstruction_loss: 17.4732 - val_r_squared: 0.3734 - val_r_squared_linreg: 0.4243 - lr: 0.0500 - 368ms/epoch - 368ms/step\n"
     ]
    }
   ],
   "source": [
    "for i in frac_list:\n",
    "\n",
    "    print(\"\\n-------------------------------------------------------------------------------------------------\\n\")\n",
    "    print(\"                                       RUN: \" + str(i))\n",
    "    print(\"\\n-------------------------------------------------------------------------------------------------\\n\")\n",
    "\n",
    "    ncem_stats = ncem_stats + ncem_run(shuffle_frac=i, reps=reps)"
   ]
  },
  {
   "cell_type": "code",
   "execution_count": 13,
   "metadata": {},
   "outputs": [
    {
     "data": {
      "text/html": [
       "<div>\n",
       "<style scoped>\n",
       "    .dataframe tbody tr th:only-of-type {\n",
       "        vertical-align: middle;\n",
       "    }\n",
       "\n",
       "    .dataframe tbody tr th {\n",
       "        vertical-align: top;\n",
       "    }\n",
       "\n",
       "    .dataframe thead th {\n",
       "        text-align: right;\n",
       "    }\n",
       "</style>\n",
       "<table border=\"1\" class=\"dataframe\">\n",
       "  <thead>\n",
       "    <tr style=\"text-align: right;\">\n",
       "      <th></th>\n",
       "      <th>loss</th>\n",
       "      <th>custom_mae</th>\n",
       "      <th>custom_mean_sd</th>\n",
       "      <th>custom_mse</th>\n",
       "      <th>custom_mse_scaled</th>\n",
       "      <th>gaussian_reconstruction_loss</th>\n",
       "      <th>r_squared</th>\n",
       "      <th>r_squared_linreg</th>\n",
       "      <th>run</th>\n",
       "    </tr>\n",
       "  </thead>\n",
       "  <tbody>\n",
       "    <tr>\n",
       "      <th>0</th>\n",
       "      <td>16.993790</td>\n",
       "      <td>0.152366</td>\n",
       "      <td>0.605925</td>\n",
       "      <td>0.039729</td>\n",
       "      <td>0.108233</td>\n",
       "      <td>16.993792</td>\n",
       "      <td>0.490276</td>\n",
       "      <td>0.592929</td>\n",
       "      <td>0.0</td>\n",
       "    </tr>\n",
       "    <tr>\n",
       "      <th>1</th>\n",
       "      <td>16.902565</td>\n",
       "      <td>0.151126</td>\n",
       "      <td>0.605529</td>\n",
       "      <td>0.038299</td>\n",
       "      <td>0.104470</td>\n",
       "      <td>16.902567</td>\n",
       "      <td>0.509631</td>\n",
       "      <td>0.588677</td>\n",
       "      <td>0.0</td>\n",
       "    </tr>\n",
       "    <tr>\n",
       "      <th>2</th>\n",
       "      <td>16.989515</td>\n",
       "      <td>0.152790</td>\n",
       "      <td>0.606211</td>\n",
       "      <td>0.039370</td>\n",
       "      <td>0.107052</td>\n",
       "      <td>16.989508</td>\n",
       "      <td>0.495382</td>\n",
       "      <td>0.593995</td>\n",
       "      <td>0.0</td>\n",
       "    </tr>\n",
       "    <tr>\n",
       "      <th>3</th>\n",
       "      <td>16.909864</td>\n",
       "      <td>0.150554</td>\n",
       "      <td>0.605751</td>\n",
       "      <td>0.038201</td>\n",
       "      <td>0.104133</td>\n",
       "      <td>16.909857</td>\n",
       "      <td>0.511372</td>\n",
       "      <td>0.589544</td>\n",
       "      <td>0.0</td>\n",
       "    </tr>\n",
       "    <tr>\n",
       "      <th>4</th>\n",
       "      <td>16.975536</td>\n",
       "      <td>0.153765</td>\n",
       "      <td>0.605843</td>\n",
       "      <td>0.039442</td>\n",
       "      <td>0.107477</td>\n",
       "      <td>16.975546</td>\n",
       "      <td>0.493151</td>\n",
       "      <td>0.589809</td>\n",
       "      <td>0.0</td>\n",
       "    </tr>\n",
       "    <tr>\n",
       "      <th>...</th>\n",
       "      <td>...</td>\n",
       "      <td>...</td>\n",
       "      <td>...</td>\n",
       "      <td>...</td>\n",
       "      <td>...</td>\n",
       "      <td>...</td>\n",
       "      <td>...</td>\n",
       "      <td>...</td>\n",
       "      <td>...</td>\n",
       "    </tr>\n",
       "    <tr>\n",
       "      <th>85</th>\n",
       "      <td>17.700157</td>\n",
       "      <td>0.181544</td>\n",
       "      <td>0.606343</td>\n",
       "      <td>0.053752</td>\n",
       "      <td>0.146102</td>\n",
       "      <td>17.700148</td>\n",
       "      <td>0.308911</td>\n",
       "      <td>0.425215</td>\n",
       "      <td>1.0</td>\n",
       "    </tr>\n",
       "    <tr>\n",
       "      <th>86</th>\n",
       "      <td>17.497068</td>\n",
       "      <td>0.172681</td>\n",
       "      <td>0.606443</td>\n",
       "      <td>0.049509</td>\n",
       "      <td>0.134516</td>\n",
       "      <td>17.497063</td>\n",
       "      <td>0.360257</td>\n",
       "      <td>0.460668</td>\n",
       "      <td>1.0</td>\n",
       "    </tr>\n",
       "    <tr>\n",
       "      <th>87</th>\n",
       "      <td>17.690031</td>\n",
       "      <td>0.181532</td>\n",
       "      <td>0.606242</td>\n",
       "      <td>0.053628</td>\n",
       "      <td>0.145850</td>\n",
       "      <td>17.690039</td>\n",
       "      <td>0.311145</td>\n",
       "      <td>0.426858</td>\n",
       "      <td>1.0</td>\n",
       "    </tr>\n",
       "    <tr>\n",
       "      <th>88</th>\n",
       "      <td>17.460945</td>\n",
       "      <td>0.172785</td>\n",
       "      <td>0.606069</td>\n",
       "      <td>0.049140</td>\n",
       "      <td>0.133711</td>\n",
       "      <td>17.460934</td>\n",
       "      <td>0.369192</td>\n",
       "      <td>0.464950</td>\n",
       "      <td>1.0</td>\n",
       "    </tr>\n",
       "    <tr>\n",
       "      <th>89</th>\n",
       "      <td>17.537531</td>\n",
       "      <td>0.175042</td>\n",
       "      <td>0.606110</td>\n",
       "      <td>0.050657</td>\n",
       "      <td>0.137821</td>\n",
       "      <td>17.537531</td>\n",
       "      <td>0.348794</td>\n",
       "      <td>0.460232</td>\n",
       "      <td>1.0</td>\n",
       "    </tr>\n",
       "  </tbody>\n",
       "</table>\n",
       "<p>90 rows × 9 columns</p>\n",
       "</div>"
      ],
      "text/plain": [
       "         loss  custom_mae  custom_mean_sd  custom_mse  custom_mse_scaled  \\\n",
       "0   16.993790    0.152366        0.605925    0.039729           0.108233   \n",
       "1   16.902565    0.151126        0.605529    0.038299           0.104470   \n",
       "2   16.989515    0.152790        0.606211    0.039370           0.107052   \n",
       "3   16.909864    0.150554        0.605751    0.038201           0.104133   \n",
       "4   16.975536    0.153765        0.605843    0.039442           0.107477   \n",
       "..        ...         ...             ...         ...                ...   \n",
       "85  17.700157    0.181544        0.606343    0.053752           0.146102   \n",
       "86  17.497068    0.172681        0.606443    0.049509           0.134516   \n",
       "87  17.690031    0.181532        0.606242    0.053628           0.145850   \n",
       "88  17.460945    0.172785        0.606069    0.049140           0.133711   \n",
       "89  17.537531    0.175042        0.606110    0.050657           0.137821   \n",
       "\n",
       "    gaussian_reconstruction_loss  r_squared  r_squared_linreg  run  \n",
       "0                      16.993792   0.490276          0.592929  0.0  \n",
       "1                      16.902567   0.509631          0.588677  0.0  \n",
       "2                      16.989508   0.495382          0.593995  0.0  \n",
       "3                      16.909857   0.511372          0.589544  0.0  \n",
       "4                      16.975546   0.493151          0.589809  0.0  \n",
       "..                           ...        ...               ...  ...  \n",
       "85                     17.700148   0.308911          0.425215  1.0  \n",
       "86                     17.497063   0.360257          0.460668  1.0  \n",
       "87                     17.690039   0.311145          0.426858  1.0  \n",
       "88                     17.460934   0.369192          0.464950  1.0  \n",
       "89                     17.537531   0.348794          0.460232  1.0  \n",
       "\n",
       "[90 rows x 9 columns]"
      ]
     },
     "execution_count": 13,
     "metadata": {},
     "output_type": "execute_result"
    }
   ],
   "source": [
    "ncem_stats_df = pd.DataFrame(ncem_stats, dtype='float64')\n",
    "ncem_stats_df['run'] = pd.Categorical(ncem_stats_df['run'])\n",
    "ncem_stats_df"
   ]
  },
  {
   "cell_type": "markdown",
   "metadata": {},
   "source": [
    "### Recover original csv"
   ]
  },
  {
   "cell_type": "code",
   "execution_count": 14,
   "metadata": {},
   "outputs": [],
   "source": [
    "os.remove(\"../input-data/raw-data/Hartmann-2021/scMEP_MIBI_singlecell/scMEP_MIBI_singlecell.csv\")\n",
    "\n",
    "os.rename(\n",
    "    \"../input-data/raw-data/Hartmann-2021/scMEP_MIBI_singlecell/scMEP_MIBI_singlecell_BACKUP.csv\",\n",
    "    \"../input-data/raw-data/Hartmann-2021/scMEP_MIBI_singlecell/scMEP_MIBI_singlecell.csv\",\n",
    ")"
   ]
  },
  {
   "cell_type": "markdown",
   "metadata": {},
   "source": [
    "# Plot"
   ]
  },
  {
   "cell_type": "code",
   "execution_count": 15,
   "metadata": {},
   "outputs": [
    {
     "data": {
      "image/png": "[encoded data removed]",
      "text/plain": [
       "<Figure size 700x500 with 1 Axes>"
      ]
     },
     "metadata": {},
     "output_type": "display_data"
    }
   ],
   "source": [
    "fig, ax = plt.subplots(figsize=(7,5))\n",
    "\n",
    "sns.boxplot(\n",
    "\n",
    "    data=ncem_stats_df, \n",
    "    x='run', \n",
    "    y='r_squared', \n",
    "    flierprops={\"marker\": \"o\"},\n",
    "\n",
    "    width=0.6,\n",
    "\n",
    "    ax=ax\n",
    "\n",
    ")\n",
    "\n",
    "ax.set_title(\"Variance explained by shuffle fraction\", fontsize=20, y=1.05)\n",
    "ax.set_xticklabels([\"0%\", \"0.1%\", \"1%\", \"10%\", \"50%\", \"100%\"])\n",
    "ax.set_xlabel(\"Schuffle fraction\")\n",
    "\n",
    "plt.savefig(\"../figures/hartmann/ncem_interactions_cell-type_shuffling.png\")\n",
    "plt.show()"
   ]
  },
  {
   "attachments": {},
   "cell_type": "markdown",
   "metadata": {},
   "source": [
    "# Save the dataframe"
   ]
  },
  {
   "cell_type": "code",
   "execution_count": 16,
   "metadata": {},
   "outputs": [],
   "source": [
    "ncem_stats_df.to_csv(\"../output-data/hartmann/hartmann_ncem_cell-type-shuffling.csv\")"
   ]
  }
 ],
 "metadata": {
  "kernelspec": {
   "display_name": "squidpyTF",
   "language": "python",
   "name": "python3"
  },
  "language_info": {
   "codemirror_mode": {
    "name": "ipython",
    "version": 3
   },
   "file_extension": ".py",
   "mimetype": "text/x-python",
   "name": "python",
   "nbconvert_exporter": "python",
   "pygments_lexer": "ipython3",
   "version": "3.8.15"
  },
  "orig_nbformat": 4,
  "vscode": {
   "interpreter": {
    "hash": "97543237a6bcd86b2473d592fc25336dd1965b4a1315473dfbc595ecc291a458"
   }
  }
 },
 "nbformat": 4,
 "nbformat_minor": 2
}
