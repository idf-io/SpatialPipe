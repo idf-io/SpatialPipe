{
 "cells": [
  {
   "attachments": {},
   "cell_type": "markdown",
   "id": "4e843312",
   "metadata": {},
   "source": [
    "# Hartmann-2021 dataset\n",
    "[Hartmann, FJ et al. (2021). Single-cell metabolic profiling of human cytotoxic T cells. Nat Biotechnol 39, 186–197](https://www.nature.com/articles/s41587-020-0651-8)\n",
    "\n",
    "[Download link](https://zenodo.org/record/3951613)\n",
    "\n",
    "Focused on MIBI-TOF multiplexed images and segmented single-cell data of colorectal carcinoma and healthy adjacent colon tissue.\n",
    "\n",
    "- MIBI-TOF images have undergone noise removal as described in Keren et al. (2018)\n",
    "- Cell Segmentation masks for MIBI-TOF data contain large non-cellular regions that need to be removed during downstream processing (Not corrected in this script)\n",
    "- MIBI-TOF derived single-cell data is cell size normalized, arcsinh transformed and percentile normalized and contains manually annotated FlowSOM clustering results\n",
    "- Image properties:\n",
    "  - 1024 x 1024 pixels\n",
    "  - 400 µm x 400 µm\n",
    "  - 1100 ± 524 mean spots per image\n",
    "  - 1 cell per row\n",
    "\n",
    "\n",
    "This script takes some inspiration from the scanpy and squidpy tutorials."
   ]
  },
  {
   "cell_type": "markdown",
   "metadata": {},
   "source": [
    "# User input"
   ]
  },
  {
   "cell_type": "code",
   "execution_count": null,
   "metadata": {},
   "outputs": [],
   "source": [
    "# Healthy sample image\n",
    "# Will come in handy later and can be changed post-hoc\n",
    "point_healthy = 49\n",
    "Point_healthy = \"Point49\"\n",
    "\n",
    "# Cancer sample image\n",
    "# Will come in handy later and can be changed post-hoc\n",
    "point_cancer = 23\n",
    "Point_cancer = \"Point23\"\n",
    "\n",
    "# Optional\n",
    "lineage_markers = ['vimentin', 'SMA', 'CD45', 'CD4', 'CD14', 'Ecad', 'CD3', 'CD8', 'CD31', 'CK', 'CD11c', 'CD68']\n",
    "custom_markers = ['CD45', 'CK', 'vimentin']\n",
    "scale_factor = 400/1024 # Can be used for acccurate scalebar insertion in spatial plots. Scale factor must be equal between spatial points (`adata.obsm'spatial`) and image (adata.uns['spatial']['PointX']['scalefactors']['tissue_hires_scalef'])\n",
    "# colours = ['#1E77B3', '#E2191B', '#B15827', '#7F7F7F', '#98BAE2', '#FCBF6E', '#329F2B', '#DD73EF']\n",
    "\n",
    "# ccmap = ListedColormap(colours)\n",
    "\n",
    "# Replace user_input_channels from `hartmann_data-preparation`\n",
    "# user_input_channels_names = ['145_CD45_RGB-0', '174_CK_RGB-1', '113_vimentin_RGB-2']\n",
    "\n",
    "# ccmap"
   ]
  },
  {
   "cell_type": "markdown",
   "metadata": {},
   "source": [
    "# Load libraries"
   ]
  },
  {
   "cell_type": "code",
   "execution_count": null,
   "id": "dabeb298",
   "metadata": {},
   "outputs": [],
   "source": [
    "#mpl.rcParams['savefig.dpi'] = 100 \n",
    "# Keep modules updated if they change within the session\n",
    "%load_ext autoreload\n",
    "%autoreload 2\n",
    "%matplotlib inline\n",
    "\n",
    "# Load modules\n",
    "import os\n",
    "import pickle\n",
    "import numpy as np\n",
    "import pandas as pd\n",
    "import matplotlib as mpl\n",
    "from matplotlib import pyplot as plt\n",
    "import matplotlib.colors as mplc\n",
    "import squidpy as sq\n",
    "import anndata as ad\n",
    "import scanpy as sc\n",
    "import scipy as sp\n",
    "\n",
    "# Settings\n",
    "import warnings\n",
    "warnings.filterwarnings('ignore')\n",
    "mpl.rcParams['savefig.dpi'] = 600\n",
    "\n",
    "# Print versions\n",
    "sc.logging.print_header()\n",
    "print(f\"squidpy=={sq.__version__}\")"
   ]
  },
  {
   "cell_type": "markdown",
   "metadata": {},
   "source": [
    "# Import prepped H5AD file"
   ]
  },
  {
   "cell_type": "code",
   "execution_count": null,
   "metadata": {},
   "outputs": [],
   "source": [
    "adata = ad.read_h5ad('../output-data/hartmann/hartmann.h5ad')\n",
    "adata_light = ad.read_h5ad('../output-data/hartmann/hartmann_light.h5ad')\n",
    "\n",
    "# Add a single image in adata_light to make sq.pl.spatial_scatter work\n",
    "# CANCER\n",
    "adata_light.uns['spatial'] = {}\n",
    "adata_light.uns['spatial'][Point_cancer] = {}\n",
    "adata_light.uns['spatial'][Point_cancer]['images'] = {}\n",
    "adata_light.uns['spatial'][Point_cancer]['images']['hires'] = {}\n",
    "adata_light.uns['spatial'][Point_cancer]['images']['hires'] = np.zeros([1024,1024,3], dtype='uint8')\n",
    "\n",
    "# Add a single image in adata_light to make sq.pl.spatial_scatter work\n",
    "# HEALTHY\n",
    "adata_light.uns['spatial'] = {}\n",
    "adata_light.uns['spatial'][Point_healthy] = {}\n",
    "adata_light.uns['spatial'][Point_healthy]['images'] = {}\n",
    "adata_light.uns['spatial'][Point_healthy]['images']['hires'] = {}\n",
    "adata_light.uns['spatial'][Point_healthy]['images']['hires'] = np.zeros([1024,1024,3], dtype='uint8')"
   ]
  },
  {
   "cell_type": "code",
   "execution_count": null,
   "metadata": {},
   "outputs": [],
   "source": [
    "\n",
    "# Data subsets\n",
    "adata_cancer = adata_light[adata_light.obs['diagnosis'] == 'Colorectal carcinoma'].copy()\n",
    "# adata_tib= adata_light[adata_light.obs['tumour_immune_border'] == True].copy()\n",
    "adata_healthy = adata_light[adata_light.obs['diagnosis'] == 'Healthy', :].copy()\n",
    "\n",
    "# Subsets of a single representing sample\n",
    "adata_pCancer= adata_light[adata_light.obs['point'] == point_cancer].copy()\n",
    "adata_pHealthy= adata_light[adata_light.obs['point'] == point_healthy].copy()\n",
    "\n",
    "# Free up unused space\n",
    "# del adata_light\n",
    "\n",
    "print(\n",
    "    adata, \n",
    "    adata_cancer, \n",
    "    # adata_tib,\n",
    "    adata_healthy, \n",
    "    adata_pCancer,\n",
    "    adata_pHealthy,\n",
    "    sep=\"\\n\\n\"\n",
    ")\n"
   ]
  },
  {
   "cell_type": "code",
   "execution_count": null,
   "metadata": {},
   "outputs": [],
   "source": [
    "# Get existing user-input channels\n",
    "\n",
    "# del user_input_channels\n",
    "\n",
    "# Get RGB channels names\n",
    "if 'user_input_channels_names' in globals():\n",
    "\n",
    "    user_input_channels = user_input_channels_names\n",
    "\n",
    "else:\n",
    "\n",
    "    user_input_channels_names = [rgb_channel for rgb_channel in adata.uns['spatial']['Point1']['channel_keys'].keys() if \"_RGB-\" in rgb_channel]\n",
    "\n",
    "\n",
    "\n",
    "user_input_channels = [adata.uns['spatial']['Point1']['channel_keys'][ch] for ch in user_input_channels_names]\n",
    "\n",
    "print(f'`user_input_channels_names`: \\t {user_input_channels_names}')\n",
    "print(f'`user_input_channels`: \\t\\t {user_input_channels}')"
   ]
  },
  {
   "attachments": {},
   "cell_type": "markdown",
   "metadata": {},
   "source": [
    "# Samples"
   ]
  },
  {
   "cell_type": "markdown",
   "metadata": {},
   "source": [
    "### Segmentation images"
   ]
  },
  {
   "cell_type": "code",
   "execution_count": null,
   "metadata": {},
   "outputs": [],
   "source": [
    "# Chose 4 pseudo-arbitrary samples to show\n",
    "\n",
    "sample_dict = {\n",
    "    '90de': ['Point8', 'Point16', 'Point9', 'Point13'], # Patient 90de - colorectal carcinoma - Points 8 and 16 have a tumour-immune border per Hartmann-2021 and Points 9 and 13 don't\n",
    "    '21d7': ['Point23', 'Point36', 'Point25', 'Point28'], # Patient 21d7 - colorectal carcinoma - Points 23 and 36 have a tumour-immune border per Hartmann-2021 and Points 25 and 28 don't\n",
    "\n",
    "    'd3d3': ['Point' + str(i) for i in range(41, 45)], # Patient d3d3 - healthy colon\n",
    "    '99c0': ['Point48', 'Point49', 'Point52', 'Point57'] # Patient 99c0 - healthy colon\n",
    "}"
   ]
  },
  {
   "cell_type": "code",
   "execution_count": null,
   "metadata": {},
   "outputs": [],
   "source": [
    "for donor in sample_dict.keys():\n",
    "\n",
    "    sq.pl.spatial_segment(\n",
    "\n",
    "        adata, \n",
    "        library_key='library_id', \n",
    "        seg_cell_id='cell_id', \n",
    "        color='Cluster', \n",
    "        library_id=sample_dict[donor],\n",
    "    \n",
    "        # Aesthetics\n",
    "        img=False,\n",
    "        outline=True,\n",
    "        # seg_outline=True,\n",
    "        scalebar_dx=scale_factor,\n",
    "        scalebar_kwargs={'scale_loc': 'bottom', 'location': 'lower right'},\n",
    "        ncols=2,\n",
    "        # palette=[]\n",
    "    \n",
    "        # Format\n",
    "        figsize=[5,5],\n",
    "        dpi=300,\n",
    "        legend_fontsize=10,\n",
    "        wspace= 0.25,\n",
    "        hspace=0.1,\n",
    "        legend_na=True,\n",
    "    \n",
    "        # Labels\n",
    "        title=[point for point in sample_dict[donor]],\n",
    "        axis_label=[\"\", \"\"],\n",
    "    \n",
    "        save=\"../../figures/hartmann/spatial_segment_\" + donor + \".png\"\n",
    "    \n",
    "    )\n",
    "    plt.show()"
   ]
  },
  {
   "cell_type": "code",
   "execution_count": null,
   "metadata": {},
   "outputs": [],
   "source": [
    "# For individual sample exploration\n",
    "\n",
    "# sq.pl.spatial_segment(\n",
    "#     adata, \n",
    "#     img=False,\n",
    "#     library_key='library_id', \n",
    "#     seg_cell_id='cell_id', \n",
    "#     color='Cluster', \n",
    "#     # library_id=['Point' + str(i) for i in range(1, 21)], # Patient 90de - colorectal carcinoma\n",
    "#     library_id=sample_dict['90de'],\n",
    "#     # library_id=['Point' + str(i) for i in range(21, 41)], # Patient 21d7 - colorectal carcinoma\n",
    "#     # library_id=sample_dict['21d7'],\n",
    "#     # library_id=['Point' + str(i) for i in range(41, 45)],# Patient d3d3 - healthy colon\n",
    "#     # library_id=['Point' + str(i) for i in range(45, 59)], # Patient 99c0 - healthy colon\n",
    "#     # library_id=sample_dict['99c0'],\n",
    "#     seg_outline=True,\n",
    "#     img_channel=0,\n",
    "#     # img_cmap='magma',\n",
    "#     legend=False\n",
    "# )"
   ]
  },
  {
   "cell_type": "markdown",
   "metadata": {},
   "source": [
    "### MIBI images"
   ]
  },
  {
   "cell_type": "code",
   "execution_count": null,
   "metadata": {},
   "outputs": [],
   "source": [
    "# CANCER\n",
    "\n",
    "channels = sorted(adata.uns['spatial'][Point_cancer]['channel_keys'].keys(), key=lambda a: a[4:])\n",
    "channels = [i for i in channels if 'RGB' not in i]\n",
    "\n",
    "ncols = 5\n",
    "tot = len(channels)\n",
    "nrows = tot // ncols + 1\n",
    "\n",
    "fig, axs = plt.subplots(nrows, ncols, figsize=(20,40))\n",
    "\n",
    "counter = 0\n",
    "\n",
    "for channel in channels:\n",
    "\n",
    "    ch = adata.uns['spatial'][Point_cancer]['channel_keys'][channel]\n",
    "\n",
    "    if counter == tot - 1:\n",
    "        \n",
    "        sf = scale_factor\n",
    "        skw = {'scale_loc': 'bottom', 'location': 'lower right'}\n",
    "\n",
    "    else:\n",
    "\n",
    "        sf = None\n",
    "        skw = {}\n",
    "\n",
    "    \n",
    "    sq.pl.spatial_scatter(\n",
    "\n",
    "        adata,\n",
    "        library_key='library_id',\n",
    "\n",
    "        library_id=Point_cancer,\n",
    "\n",
    "        color=None,\n",
    "        img_channel=int(ch),\n",
    "        img_cmap='Greys_r',\n",
    "\n",
    "        # Plot elements\n",
    "        scalebar_dx=sf,\n",
    "        scalebar_kwargs=skw,\n",
    "\n",
    "        wspace= 0.00,\n",
    "        hspace=0.00,\n",
    "        legend_na=True,\n",
    "\n",
    "        # Labels\n",
    "        title=channel[4:],\n",
    "        axis_label=[\"\", \"\"],\n",
    "\n",
    "        ax=axs[counter // ncols, counter % ncols]\n",
    "\n",
    "    )\n",
    "\n",
    "    axs[counter // ncols, counter % ncols].set_title(channel[4:], fontsize=20)\n",
    "    \n",
    "\n",
    "    counter += 1\n",
    "\n",
    "\n",
    "# Remove empty axes\n",
    "for e in range(1, ncols - (tot % ncols) + 1):\n",
    "\n",
    "    axs[-1, -e].axis('off')\n",
    "\n",
    "\n",
    "# Colour bar\n",
    "cmap = plt.get_cmap('Greys_r')\n",
    "norm = mpl.colors.Normalize(vmin=0, vmax=1)\n",
    "sm = plt.cm.ScalarMappable(cmap=cmap, norm=norm)\n",
    "sm.set_array([])\n",
    "plt.colorbar(sm, ax=axs.ravel().tolist()[-4], anchor=(-8.2,0.5), label='Signal', shrink=0.45)\n",
    "\n",
    "# Subplot spacing\n",
    "plt.subplots_adjust(wspace=0.02, hspace=-0.5)\n",
    "\n",
    "plt.savefig(\"../figures/hartmann/cancer_sample_mibi_image.jpg\")\n",
    "\n",
    "plt.show()"
   ]
  },
  {
   "cell_type": "code",
   "execution_count": null,
   "metadata": {},
   "outputs": [],
   "source": [
    "# HEALTHY\n",
    "\n",
    "channels = sorted(adata.uns['spatial'][Point_healthy]['channel_keys'].keys(), key=lambda a: a[4:])\n",
    "channels = [i for i in channels if 'RGB' not in i]\n",
    "\n",
    "ncols = 5\n",
    "tot = len(channels)\n",
    "nrows = tot // ncols + 1\n",
    "\n",
    "fig, axs = plt.subplots(nrows, ncols, figsize=(20,40))\n",
    "\n",
    "counter = 0\n",
    "\n",
    "for channel in channels:\n",
    "\n",
    "    ch = adata.uns['spatial'][Point_cancer]['channel_keys'][channel]\n",
    "\n",
    "    if counter == tot - 1:\n",
    "        \n",
    "        sf = scale_factor\n",
    "        skw = {'scale_loc': 'bottom', 'location': 'lower right'}\n",
    "\n",
    "    else:\n",
    "\n",
    "        sf = None\n",
    "        skw = {}\n",
    "\n",
    "    \n",
    "    sq.pl.spatial_scatter(\n",
    "\n",
    "        adata,\n",
    "        library_key='library_id',\n",
    "\n",
    "        library_id=Point_cancer,\n",
    "\n",
    "        color=None,\n",
    "        img_channel=int(ch),\n",
    "        img_cmap='Greys_r',\n",
    "\n",
    "        # Plot elements\n",
    "        scalebar_dx=sf,\n",
    "        scalebar_kwargs=skw,\n",
    "\n",
    "        wspace= 0.00,\n",
    "        hspace=0.00,\n",
    "        legend_na=True,\n",
    "\n",
    "        # Labels\n",
    "        title=channel[4:],\n",
    "        axis_label=[\"\", \"\"],\n",
    "\n",
    "        ax=axs[counter // ncols, counter % ncols]\n",
    "\n",
    "    )\n",
    "\n",
    "    axs[counter // ncols, counter % ncols].set_title(channel[4:], fontsize=20)\n",
    "    \n",
    "\n",
    "    counter += 1\n",
    "\n",
    "\n",
    "# Remove empty axes\n",
    "for e in range(1, ncols - (tot % ncols) + 1):\n",
    "\n",
    "    axs[-1, -e].axis('off')\n",
    "\n",
    "\n",
    "# Colour bar\n",
    "cmap = plt.get_cmap('Greys_r')\n",
    "norm = mpl.colors.Normalize(vmin=0, vmax=1)\n",
    "sm = plt.cm.ScalarMappable(cmap=cmap, norm=norm)\n",
    "sm.set_array([])\n",
    "plt.colorbar(sm, ax=axs.ravel().tolist()[-4], anchor=(-8.2,0.5), label='Signal', shrink=0.45)\n",
    "\n",
    "# Subplot spacing\n",
    "plt.subplots_adjust(wspace=0.02, hspace=-0.3)\n",
    "\n",
    "plt.savefig(\"../figures/hartmann/healthy_sample_mibi_image.jpg\")\n",
    "\n",
    "plt.show()"
   ]
  },
  {
   "cell_type": "markdown",
   "metadata": {},
   "source": [
    "### PCA & UMAP by sample"
   ]
  },
  {
   "cell_type": "code",
   "execution_count": null,
   "metadata": {},
   "outputs": [],
   "source": [
    "# PCA single cancer sample\n",
    "sc.pp.pca(adata_pCancer)\n",
    "sc.pl.pca(adata_pCancer, color=['Cluster'])\n",
    "\n",
    "# UMAP single cancer sample\n",
    "sc.pp.neighbors(adata_pCancer, n_pcs=10)#, n_neighbors=3)\n",
    "sc.tl.umap(adata_pCancer)\n",
    "sc.pl.umap(adata_pCancer, color=['Cluster'])"
   ]
  },
  {
   "cell_type": "code",
   "execution_count": null,
   "metadata": {},
   "outputs": [],
   "source": [
    "# PCA single cancer sample\n",
    "sc.pp.pca(adata_pHealthy)\n",
    "sc.pl.pca(adata_pHealthy, color=['Cluster'])\n",
    "\n",
    "# UMAP single cancer sample\n",
    "sc.pp.neighbors(adata_pHealthy, n_pcs=10)#, n_neighbors=20)\n",
    "sc.tl.umap(adata_pHealthy, spread=3)#, min_dist=3)#maxiter=80)\n",
    "sc.pl.umap(adata_pHealthy, color=['Cluster'])"
   ]
  },
  {
   "cell_type": "markdown",
   "metadata": {},
   "source": [
    "# Cell-type distributions"
   ]
  },
  {
   "attachments": {},
   "cell_type": "markdown",
   "metadata": {},
   "source": [
    "### By sample"
   ]
  },
  {
   "cell_type": "code",
   "execution_count": null,
   "metadata": {},
   "outputs": [],
   "source": [
    "df_raw = adata.obs[['library_id', 'Cluster']].groupby(['library_id', 'Cluster']).size().unstack() #'cell_id' is an arbitrary column as the point is to count the rows\n",
    "df = df_raw.div(df_raw.sum(axis=1), axis=0)"
   ]
  },
  {
   "cell_type": "code",
   "execution_count": null,
   "metadata": {},
   "outputs": [],
   "source": [
    "fig, ax = plt.subplots(figsize=[18,5])\n",
    "\n",
    "df.plot(\n",
    "    kind='bar', \n",
    "    stacked=True, \n",
    "    ax=ax,\n",
    "# color=[\"orange\", \"cyan\"])\n",
    "# colormap='viridis',\n",
    ")\n",
    "\n",
    "ax.set_title(\"Cell-type distribution per sample\", fontsize=20, y=1.05, x=0.55)\n",
    "ax.set_xlabel(None)\n",
    "ax.set_xticklabels([str(i) for i in range(1, 59)], rotation=90, fontsize=13)\n",
    "ax.set_yticks(np.linspace(0,1,5))\n",
    "ax.set_yticklabels(np.linspace(0,1,5), fontsize=16)\n",
    "lgd = ax.legend(bbox_to_anchor=(0,0,1.2,1), loc='right', fontsize=16)\n",
    "\n",
    "fig.savefig('../figures/hartmann/cell-type_distribution_by_samples.png', bbox_extra_artists=(lgd,), bbox_inches='tight')"
   ]
  },
  {
   "attachments": {},
   "cell_type": "markdown",
   "metadata": {},
   "source": [
    "### Across all samples"
   ]
  },
  {
   "cell_type": "code",
   "execution_count": null,
   "metadata": {},
   "outputs": [],
   "source": [
    "ct_data = np.unique(adata.obs['Cluster'], return_counts=True)\n",
    "ct = ct_data[0]\n",
    "pct = ct_data[1]# / sum(ct_data[1])\n",
    "\n",
    "plt.pie(pct, labels=ct, autopct='%1.1f%%', startangle=90, labeldistance=1.15, pctdistance=0.75, textprops={'fontsize':14})\n",
    "plt.title(\"\") #'Cell-type distribution across all samples and donors')\n",
    "plt.axis('equal')\n",
    "plt.savefig(\"../figures/hartmann/cell-type_distribution_all.png\")\n"
   ]
  },
  {
   "attachments": {},
   "cell_type": "markdown",
   "metadata": {},
   "source": [
    "### By tumour-immune border"
   ]
  },
  {
   "cell_type": "code",
   "execution_count": null,
   "metadata": {},
   "outputs": [],
   "source": [
    "df = adata_light.obs[['Cluster', 'diagnosis', 'tumour_immune_border']]\n",
    "df['tumour_immune_border'] = np.where(df['tumour_immune_border'], 'tumour imm border', 'no tumour imm border')\n",
    "df = df.groupby(['Cluster', 'diagnosis', 'tumour_immune_border']).size().unstack(level=['diagnosis', 'tumour_immune_border'], fill_value=np.nan)\n",
    "\n",
    "df.columns=df.columns.map(' - '.join)\n",
    "df = df.loc[:, df.columns!='Healthy - tumour imm border']\n",
    "df['Healthy'] = df['Healthy - no tumour imm border']\n",
    "df = df.drop('Healthy - no tumour imm border', axis=1)"
   ]
  },
  {
   "cell_type": "code",
   "execution_count": null,
   "metadata": {},
   "outputs": [],
   "source": [
    "colours = ['#C1C1C1', '#6A6868', '#000000']\n",
    "ccmap2 = mplc.ListedColormap(colours)\n",
    "\n",
    "\n",
    "fig, ax = plt.subplots(figsize=[7,4])\n",
    "\n",
    "df.plot(kind='bar', ax=ax, colormap=ccmap2)\n",
    "\n",
    "ax.set_title(\"\") #(\"Cell-type distribution by diagnosis\", fontsize=20, y=1.05, x=0.48)\n",
    "ax.set_xlabel(None)\n",
    "ax.set_xticklabels([item.get_text() for item in ax.get_xticklabels()], fontsize=13)\n",
    "ax.set_yticklabels([item.get_text() for item in ax.get_yticklabels()], fontsize=16)\n",
    "ax.legend(loc='upper center', framealpha=0.3, fontsize=13)\n",
    "# lgd = ax.legend(bbox_to_anchor=(0,0,1.9,1), loc='right', fontsize=12)\n",
    "\n",
    "fig.savefig('../figures/hartmann/cell-type_distribution_by_diagnosis.png', bbox_extra_artists=(lgd,), bbox_inches='tight')"
   ]
  },
  {
   "cell_type": "markdown",
   "metadata": {},
   "source": [
    "# Global exploration"
   ]
  },
  {
   "cell_type": "code",
   "execution_count": null,
   "metadata": {},
   "outputs": [],
   "source": [
    "sc.set_figure_params(fontsize=16, dpi=150, dpi_save=300, format='jpg')"
   ]
  },
  {
   "attachments": {},
   "cell_type": "markdown",
   "metadata": {},
   "source": [
    "### Gene expression of pooled single-cell data by cell-type "
   ]
  },
  {
   "cell_type": "code",
   "execution_count": null,
   "metadata": {},
   "outputs": [],
   "source": [
    "fig = sc.pl.matrixplot(\n",
    "    \n",
    "    adata, \n",
    "    sorted(adata.var_names), \n",
    "    groupby='Cluster', \n",
    "    \n",
    "    cmap='magma',\n",
    "\n",
    "    swap_axes=True,\n",
    "    return_fig=True\n",
    ")\n",
    "\n",
    "\n",
    "fig.savefig('../figures/hartmann/feature_expression_by_cell-type_heatmap.png', bbox_inches=\"tight\")"
   ]
  },
  {
   "cell_type": "markdown",
   "metadata": {},
   "source": [
    "### Additional complementary plots"
   ]
  },
  {
   "cell_type": "code",
   "execution_count": null,
   "metadata": {},
   "outputs": [],
   "source": [
    "# sc.pl.stacked_violin(adata, adata.var_names, groupby='Cluster', rotation=90);"
   ]
  },
  {
   "cell_type": "code",
   "execution_count": null,
   "metadata": {},
   "outputs": [],
   "source": [
    "# fig, ax = plt.subplots(figsize=[13,4])\n",
    "\n",
    "# sc.pl.dotplot(\n",
    "\n",
    "#     adata, \n",
    "#     var_names=sorted(adata.var_names), \n",
    "#     groupby='Cluster',\n",
    "\n",
    "#     cmap='Reds',\n",
    "\n",
    "#     ax=ax,\n",
    "\n",
    "# )\n",
    "\n",
    "# ax.set_title(None)\n",
    "\n",
    "# fig.savefig('../figures/hartmann/feature_expression_by_cell-type_dotplot.png', bbox_inches=\"tight\")"
   ]
  },
  {
   "attachments": {},
   "cell_type": "markdown",
   "metadata": {},
   "source": [
    "### PCA & UMAP"
   ]
  },
  {
   "cell_type": "code",
   "execution_count": null,
   "metadata": {},
   "outputs": [],
   "source": [
    "# PCA\n",
    "sc.pp.pca(adata)\n",
    "\n",
    "fig = sc.pl.pca(adata, color='Cluster', title=\"\", size=10, return_fig=True)\n",
    "fig.savefig(\"../figures/hartmann/all-samples_PCA_cell-type.png\")\n",
    "plt.show()\n",
    "\n",
    "fig = sc.pl.pca(adata, color='library_id', title=\"\", size=10, return_fig=True)\n",
    "fig.savefig(\"../figures/hartmann/all-samples_PCA_sample-image.png\")\n",
    "plt.show()\n",
    "\n",
    "fig = sc.pl.pca(adata, color='donor', title=\"\", size=10, return_fig=True)\n",
    "fig.savefig(\"../figures/hartmann/all-samples_PCA_donor.png\")\n",
    "plt.show()\n",
    "\n",
    "fig = sc.pl.pca(adata, color='diagnosis', title=\"\", save=\"../figures/hartmann/all-images_PCA_condition\", size =10, return_fig=True)\n",
    "fig.savefig(\"../figures/hartmann/all-samples_PCA_condition.png\")\n",
    "plt.show()"
   ]
  },
  {
   "cell_type": "code",
   "execution_count": null,
   "metadata": {},
   "outputs": [],
   "source": [
    "sc.pl.pca_variance_ratio(adata)\n",
    "sc.pl.pca_loadings(adata, components=[1,2,3])"
   ]
  },
  {
   "cell_type": "markdown",
   "metadata": {},
   "source": [
    "PCA by all markers"
   ]
  },
  {
   "cell_type": "code",
   "execution_count": null,
   "metadata": {},
   "outputs": [],
   "source": [
    "# sc.pl.pca(\n",
    "#     adata, \n",
    "#     color=[i for i in sorted(adata.var_names)]\n",
    "# )"
   ]
  },
  {
   "cell_type": "code",
   "execution_count": null,
   "metadata": {},
   "outputs": [],
   "source": [
    "# UMAP\n",
    "sc.pp.neighbors(adata, n_pcs=10)\n",
    "sc.tl.umap(adata)\n",
    "\n",
    "sc.pl.umap(adata, color=['Cluster'])\n",
    "sc.pl.umap(adata, color=['library_id'])\n",
    "sc.pl.umap(adata, color=['donor'])\n",
    "sc.pl.umap(adata, color=['diagnosis'])"
   ]
  },
  {
   "cell_type": "markdown",
   "metadata": {},
   "source": [
    "## Major immune lineage marker recovery"
   ]
  },
  {
   "attachments": {},
   "cell_type": "markdown",
   "metadata": {},
   "source": [
    "### Feature expression"
   ]
  },
  {
   "cell_type": "code",
   "execution_count": null,
   "metadata": {},
   "outputs": [],
   "source": [
    "fig, ax = plt.subplots(figsize=[6,4])\n",
    "\n",
    "sc.pl.matrixplot(\n",
    "    \n",
    "    adata, \n",
    "    lineage_markers, \n",
    "    groupby='Cluster', \n",
    "\n",
    "    cmap='magma',\n",
    "\n",
    "    ax=ax\n",
    "\n",
    ")\n",
    "\n",
    "ax.set_title(None)\n",
    "\n",
    "fig.savefig('../figures/hartmann/feature_expression_by_cell-type_lineage-markers_heatmap.png', bbox_inches=\"tight\")"
   ]
  },
  {
   "cell_type": "markdown",
   "metadata": {},
   "source": [
    "### UMAP"
   ]
  },
  {
   "cell_type": "code",
   "execution_count": null,
   "metadata": {},
   "outputs": [],
   "source": [
    "sc.set_figure_params(fontsize=16)\n",
    "\n",
    "sc.pl.umap(\n",
    "    adata,\n",
    "    color=sorted(lineage_markers),\n",
    "    cmap='magma',\n",
    "    ncols=3,\n",
    "    hspace=0.23,\n",
    "    wspace=0.27,\n",
    ")"
   ]
  },
  {
   "cell_type": "markdown",
   "metadata": {},
   "source": [
    "## HVGs "
   ]
  },
  {
   "cell_type": "code",
   "execution_count": null,
   "metadata": {},
   "outputs": [],
   "source": [
    "sc.pp.highly_variable_genes(adata, min_disp=0.5) #, min_mean=0.0125, max_mean=3\n",
    "highly_vargs = list(adata.var_names[adata.var.highly_variable])\n",
    "\n",
    "highly_vargs"
   ]
  },
  {
   "cell_type": "code",
   "execution_count": null,
   "metadata": {},
   "outputs": [],
   "source": [
    "hvgs_non_lin = set(highly_vargs).difference(set(lineage_markers))\n",
    "hvgs_non_lin"
   ]
  },
  {
   "cell_type": "code",
   "execution_count": null,
   "metadata": {},
   "outputs": [],
   "source": [
    "sc.pl.umap(\n",
    "    adata,\n",
    "    color=sorted(hvgs_non_lin),\n",
    "    cmap='magma',\n",
    "    ncols=3,\n",
    "    hspace=0.18,\n",
    "    wspace=0.27\n",
    ")"
   ]
  },
  {
   "attachments": {},
   "cell_type": "markdown",
   "metadata": {},
   "source": [
    "# Specific exploration: cancer vs non-cancer"
   ]
  },
  {
   "attachments": {},
   "cell_type": "markdown",
   "metadata": {},
   "source": [
    "### Removed dimentionality reduction on different levels"
   ]
  },
  {
   "cell_type": "code",
   "execution_count": null,
   "metadata": {},
   "outputs": [],
   "source": [
    "# # PCA cancer\n",
    "# sc.pp.pca(adata_cancer)\n",
    "# sc.pl.pca(adata_cancer, color=['Cluster', 'library_id', 'donor', 'diagnosis'], wspace=0.6)\n",
    "\n",
    "# # UMAP cancer\n",
    "# sc.pp.neighbors(adata_cancer)\n",
    "# sc.tl.umap(adata_cancer)\n",
    "# sc.pl.umap(adata_cancer, color=['Cluster', 'library_id', 'donor', 'diagnosis'], wspace=0.6)"
   ]
  },
  {
   "cell_type": "code",
   "execution_count": null,
   "metadata": {},
   "outputs": [],
   "source": [
    "# # PCA tib\n",
    "# sc.pp.pca(adata_tib)\n",
    "# sc.pl.pca(adata_tib, color=['Cluster', 'library_id', 'donor', 'diagnosis'], wspace=0.6)\n",
    "\n",
    "# # UMAP tib\n",
    "# sc.pp.neighbors(adata_tib)\n",
    "# sc.tl.umap(adata_tib)\n",
    "# sc.pl.umap(adata_tib, color=['Cluster', 'library_id', 'donor', 'diagnosis'], wspace=0.6)"
   ]
  },
  {
   "cell_type": "code",
   "execution_count": null,
   "metadata": {},
   "outputs": [],
   "source": [
    "# # PCA healthy\n",
    "# sc.pp.pca(adata_healthy)\n",
    "# sc.pl.pca(adata_healthy, color=['Cluster', 'library_id', 'donor', 'diagnosis'], wspace=0.6)\n",
    "\n",
    "# # UMAP healthy\n",
    "# sc.pp.neighbors(adata_healthy)\n",
    "# sc.tl.umap(adata_healthy)\n",
    "# sc.pl.umap(adata_healthy, color=['Cluster', 'library_id', 'donor', 'diagnosis'], wspace=0.6)"
   ]
  },
  {
   "attachments": {},
   "cell_type": "markdown",
   "metadata": {},
   "source": [
    "### Segmentation by cell-type"
   ]
  },
  {
   "cell_type": "code",
   "execution_count": null,
   "metadata": {},
   "outputs": [],
   "source": [
    "fig, axs = plt.subplots(1, 2, figsize=(10,20))\n",
    "\n",
    "figs = [Point_cancer, Point_healthy]\n",
    "\n",
    "for count, point in enumerate(figs):\n",
    "\n",
    "    sq.pl.spatial_segment(\n",
    "\n",
    "        adata,\n",
    "        library_key='library_id',\n",
    "        seg_cell_id='cell_id', \n",
    "        library_id=point,\n",
    "\n",
    "        color='Cluster',\n",
    "\n",
    "       # Aesthetics\n",
    "        img=False,\n",
    "        outline=True,\n",
    "        scalebar_dx=scale_factor,\n",
    "        scalebar_kwargs={'scale_loc': 'bottom', 'location': 'lower right'},\n",
    "\n",
    "        # Format\n",
    "        legend_fontsize=15,\n",
    "        wspace= 0.25,\n",
    "        hspace=0.1,\n",
    "        legend_na=True,\n",
    "\n",
    "        # Labels\n",
    "        # title=\"Segmentation mask\", #[point],\n",
    "        axis_label=[\"\", \"\"],\n",
    "\n",
    "        ax=axs[count]\n",
    "\n",
    "    )\n",
    "\n",
    "    axs[count].set_title(\"Segmentation mask\", y=1.05, fontdict={'fontsize': 25})\n",
    "\n",
    "plt.subplots_adjust(\n",
    "    bottom=0.1,\n",
    "    left=0.1,\n",
    "    top=0.9,\n",
    "    right=0.9,\n",
    "    wspace=0.05,\n",
    "    hspace=0.5\n",
    ")\n",
    "\n",
    "\n",
    "plt.show()"
   ]
  },
  {
   "attachments": {},
   "cell_type": "markdown",
   "metadata": {},
   "source": [
    "### Lineage marker recovery"
   ]
  },
  {
   "cell_type": "code",
   "execution_count": null,
   "metadata": {},
   "outputs": [],
   "source": [
    "# CANCER\n",
    "markers = sorted(lineage_markers)\n",
    "\n",
    "ncols = 4\n",
    "tot = len(markers)\n",
    "nrows = tot // ncols\n",
    "\n",
    "fig, axs = plt.subplots(nrows, ncols, figsize=(40,20))\n",
    "\n",
    "counter = 0\n",
    "\n",
    "for marker in markers:\n",
    "\n",
    "    sq.pl.spatial_segment(\n",
    "\n",
    "        adata,\n",
    "        color=marker,\n",
    "        library_key='library_id',\n",
    "        library_id=Point_cancer,\n",
    "        seg_cell_id='cell_id',\n",
    "\n",
    "        # Aesthetics\n",
    "        img=False,\n",
    "        outline=True,\n",
    "        # seg_outline=True,\n",
    "        scalebar_dx=scale_factor,\n",
    "        scalebar_kwargs={'scale_loc': 'bottom', 'location': 'lower right'},\n",
    "        # ncols=4,\n",
    "        cmap='viridis',\n",
    "\n",
    "        # Format\n",
    "        # figsize=[5,5],\n",
    "        # dpi=300,\n",
    "        legend_fontsize=10,\n",
    "        legend_na=True,\n",
    "\n",
    "        # Labels\n",
    "        # title= [Point_cancer],\n",
    "        axis_label=[\"\", \"\"],\n",
    "\n",
    "        ax=axs[counter // ncols, counter % ncols]\n",
    "\n",
    "    )\n",
    "\n",
    "    axs[counter // ncols, counter % ncols].set_title(marker, fontsize=40)\n",
    "    \n",
    "\n",
    "    counter += 1\n",
    "\n",
    "\n",
    "# Subplot spacing\n",
    "plt.subplots_adjust(wspace=-0.5, hspace=0.15)"
   ]
  },
  {
   "cell_type": "code",
   "execution_count": null,
   "metadata": {},
   "outputs": [],
   "source": [
    "# HEALTHY\n",
    "markers = sorted(lineage_markers)\n",
    "\n",
    "ncols = 4\n",
    "tot = len(markers)\n",
    "nrows = tot // ncols\n",
    "\n",
    "fig, axs = plt.subplots(nrows, ncols, figsize=(40,20))\n",
    "\n",
    "counter = 0\n",
    "\n",
    "for marker in markers:\n",
    "\n",
    "    sq.pl.spatial_segment(\n",
    "\n",
    "        adata,\n",
    "        color=marker,\n",
    "        library_key='library_id',\n",
    "        library_id=Point_healthy,\n",
    "        seg_cell_id='cell_id',\n",
    "\n",
    "        # Aesthetics\n",
    "        img=False,\n",
    "        outline=True,\n",
    "        # seg_outline=True,\n",
    "        scalebar_dx=scale_factor,\n",
    "        scalebar_kwargs={'scale_loc': 'bottom', 'location': 'lower right'},\n",
    "        # ncols=4,\n",
    "        cmap='viridis',\n",
    "\n",
    "        # Format\n",
    "        # figsize=[5,5],\n",
    "        # dpi=300,\n",
    "        legend_fontsize=10,\n",
    "        legend_na=True,\n",
    "\n",
    "        # Labels\n",
    "        # title= [Point_cancer],\n",
    "        axis_label=[\"\", \"\"],\n",
    "\n",
    "        ax=axs[counter // ncols, counter % ncols]\n",
    "\n",
    "    )\n",
    "\n",
    "    axs[counter // ncols, counter % ncols].set_title(marker, fontsize=40)\n",
    "    \n",
    "\n",
    "    counter += 1\n",
    "\n",
    "\n",
    "# Subplot spacing\n",
    "plt.subplots_adjust(wspace=-0.5, hspace=0.15)"
   ]
  },
  {
   "attachments": {},
   "cell_type": "markdown",
   "metadata": {},
   "source": [
    "## PCA & UMAP"
   ]
  },
  {
   "cell_type": "code",
   "execution_count": null,
   "metadata": {},
   "outputs": [],
   "source": [
    "sc.set_figure_params(fontsize=16, dpi=150, dpi_save=300, format='jpg')"
   ]
  },
  {
   "cell_type": "code",
   "execution_count": null,
   "metadata": {},
   "outputs": [],
   "source": [
    "# CANCER\n",
    "sc.pp.pca(adata_pCancer)\n",
    "fig = sc.pl.pca(adata_pCancer, color='Cluster', title=\"\", size=30, return_fig=True)"
   ]
  },
  {
   "cell_type": "code",
   "execution_count": null,
   "metadata": {},
   "outputs": [],
   "source": [
    "\n",
    "sc.pp.neighbors(adata_pCancer, n_pcs=10)\n",
    "sc.tl.umap(adata_pCancer)\n",
    "sc.pl.umap(adata_pCancer, color='Cluster', size=30, title=\"\")"
   ]
  },
  {
   "cell_type": "code",
   "execution_count": null,
   "metadata": {},
   "outputs": [],
   "source": [
    "# HEALTHY\n",
    "sc.pp.pca(adata_pHealthy)\n",
    "fig = sc.pl.pca(adata_pHealthy, color='Cluster', title=\"\", size=30, return_fig=True)"
   ]
  },
  {
   "cell_type": "code",
   "execution_count": null,
   "metadata": {},
   "outputs": [],
   "source": [
    "\n",
    "sc.pp.neighbors(adata_pHealthy, n_pcs=10)\n",
    "sc.tl.umap(adata_pHealthy)\n",
    "sc.pl.umap(adata_pHealthy, color='Cluster', size=30, title=\"\")"
   ]
  },
  {
   "cell_type": "markdown",
   "metadata": {},
   "source": [
    "## UMAP marker expression"
   ]
  },
  {
   "cell_type": "code",
   "execution_count": null,
   "metadata": {},
   "outputs": [],
   "source": [
    "# CANCER\n",
    "sc.pp.neighbors(adata_pCancer, n_pcs=10)\n",
    "sc.tl.umap(adata_pCancer)\n",
    "sc.pl.umap(adata_pCancer, color=lineage_markers)"
   ]
  },
  {
   "cell_type": "code",
   "execution_count": null,
   "metadata": {},
   "outputs": [],
   "source": [
    "# HEALTHY\n",
    "\n",
    "sc.pl.umap(adata_pHealthy, color=lineage_markers)"
   ]
  },
  {
   "cell_type": "markdown",
   "metadata": {},
   "source": [
    "## Spatial marker expression"
   ]
  },
  {
   "cell_type": "code",
   "execution_count": null,
   "metadata": {},
   "outputs": [],
   "source": [
    "# CANCER\n",
    "\n",
    "sq.pl.spatial_segment(\n",
    "\n",
    "    adata,\n",
    "    color=lineage_markers+['Cluster'],\n",
    "    library_key='library_id',\n",
    "    library_id=Point_cancer,\n",
    "    seg_cell_id='cell_id',\n",
    "    \n",
    "    # Aesthetics\n",
    "    img=False,\n",
    "    outline=True,\n",
    "    # seg_outline=True,\n",
    "    scalebar_dx=scale_factor,\n",
    "    scalebar_kwargs={'scale_loc': 'bottom', 'location': 'lower right'},\n",
    "    ncols=4,\n",
    "    cmap='viridis',\n",
    "    # palette=[]\n",
    "\n",
    "    # Format\n",
    "    figsize=[5,5],\n",
    "    dpi=300,\n",
    "    legend_fontsize=10,\n",
    "    wspace= 0.25,\n",
    "    hspace=0.1,\n",
    "    legend_na=True,\n",
    "    \n",
    "    # Labels\n",
    "    # title= [Point_cancer],\n",
    "    axis_label=[\"\", \"\"],\n",
    "    \n",
    "    save=\"../../figures/hartmann/spatial_segment_\" + \"point-cancer_lineage_markers\" + \".png\" \n",
    "\n",
    ")"
   ]
  },
  {
   "cell_type": "code",
   "execution_count": null,
   "metadata": {},
   "outputs": [],
   "source": [
    "# HEALTHY\n",
    "\n",
    "sq.pl.spatial_segment(\n",
    "\n",
    "    adata,\n",
    "    color=lineage_markers+['Cluster'],\n",
    "    library_key='library_id',\n",
    "    library_id=Point_healthy,\n",
    "    seg_cell_id='cell_id',\n",
    "    \n",
    "    # Aesthetics\n",
    "    img=False,\n",
    "    outline=True,\n",
    "    # seg_outline=True,\n",
    "    scalebar_dx=scale_factor,\n",
    "    scalebar_kwargs={'scale_loc': 'bottom', 'location': 'lower right'},\n",
    "    ncols=4,\n",
    "    cmap='viridis',\n",
    "    # palette=[]\n",
    "\n",
    "    # Format\n",
    "    figsize=[5,5],\n",
    "    dpi=300,\n",
    "    legend_fontsize=10,\n",
    "    wspace= 0.25,\n",
    "    hspace=0.1,\n",
    "    legend_na=True,\n",
    "    \n",
    "    # Labels\n",
    "    # title= [Point_healthy],\n",
    "    axis_label=[\"\", \"\"],\n",
    "    \n",
    "    save=\"../../figures/hartmann/spatial_segment_\" + \"point-healthy\" + \".png\" \n",
    "\n",
    ")"
   ]
  },
  {
   "attachments": {},
   "cell_type": "markdown",
   "metadata": {},
   "source": [
    "# Highly variable genes "
   ]
  },
  {
   "cell_type": "code",
   "execution_count": null,
   "metadata": {},
   "outputs": [],
   "source": [
    "## All samples\n",
    "sc.pp.highly_variable_genes(adata, min_disp=0.5) #, min_mean=0.0125, max_mean=3"
   ]
  },
  {
   "cell_type": "code",
   "execution_count": null,
   "metadata": {},
   "outputs": [],
   "source": [
    "## Sample subsets\n",
    "sc.pp.highly_variable_genes(adata_cancer, min_disp=0.5) #, min_mean=0.0125, max_mean=3\n",
    "sc.pp.highly_variable_genes(adata_healthy, min_disp=0.5) #, min_mean=0.0125, max_mean=3"
   ]
  },
  {
   "cell_type": "code",
   "execution_count": null,
   "metadata": {},
   "outputs": [],
   "source": [
    "# Highly variable genes list dataframe\n",
    "hvg_dict = {\n",
    "\n",
    "    'global': adata.var.highly_variable,\n",
    "    'cancer': adata_cancer.var.highly_variable,\n",
    "    'healthy': adata_healthy.var.highly_variable\n",
    "\n",
    "}\n",
    "\n",
    "hvg_df = pd.DataFrame(hvg_dict)\n",
    "hvg_df.T"
   ]
  },
  {
   "cell_type": "code",
   "execution_count": null,
   "metadata": {},
   "outputs": [],
   "source": [
    "mpl.rcParams['axes.grid'] = False\n",
    "fig, ax = plt.subplots(figsize=(15, 5))\n",
    "\n",
    "fig = ax.imshow(hvg_df.T, cmap='viridis')\n",
    "ax.set_yticks([i for i in range(0, len(hvg_df.columns.values))], labels=hvg_df.columns.values)\n",
    "ax.set_xticks([i for i in range(0, len(hvg_df.index.values))], labels=hvg_df.index.values, rotation=90)\n",
    "ax.set_title(\"Highly variable genes in different sample subsets\", y=1.1, fontsize=18)\n",
    "\n",
    "plt.show()"
   ]
  },
  {
   "cell_type": "code",
   "execution_count": null,
   "metadata": {},
   "outputs": [],
   "source": [
    "from matplotlib_venn import venn3\n",
    "venn3(\n",
    "\n",
    "    subsets=[\n",
    "        set(adata.var_names[adata.var.highly_variable]),\n",
    "        set(adata_cancer.var_names[adata_cancer.var.highly_variable]),\n",
    "        set(adata_healthy.var_names[adata_healthy.var.highly_variable])\n",
    "    ],\n",
    "\n",
    "    set_labels=('Global', 'Cancer', 'Healthy')\n",
    "    \n",
    ")"
   ]
  },
  {
   "cell_type": "code",
   "execution_count": null,
   "metadata": {},
   "outputs": [],
   "source": [
    "hvgs = list(hvg_df.index[hvg_df['global'] | hvg_df['cancer'] | hvg_df['healthy']])\n",
    "hvg_set = set(hvgs)\n",
    "\n",
    "hvgs"
   ]
  },
  {
   "cell_type": "markdown",
   "metadata": {},
   "source": [
    "## HVGs not in lineage markers"
   ]
  },
  {
   "cell_type": "code",
   "execution_count": null,
   "metadata": {},
   "outputs": [],
   "source": [
    "lineage_markers_set = set(lineage_markers)\n",
    "hvg_cancer_set = set(adata_cancer.var_names[adata_cancer.var.highly_variable])\n",
    "hvg_healthy_set = set(adata_healthy.var_names[adata_healthy.var.highly_variable])"
   ]
  },
  {
   "cell_type": "code",
   "execution_count": null,
   "metadata": {},
   "outputs": [],
   "source": [
    "hvg_cancer_diff = sorted(list(hvg_cancer_set.difference(lineage_markers_set)))\n",
    "hvg_healthy_diff = sorted(list(hvg_healthy_set.difference(lineage_markers_set)))"
   ]
  },
  {
   "cell_type": "code",
   "execution_count": null,
   "metadata": {},
   "outputs": [],
   "source": [
    "# # CANCER\n",
    "# # First run on all cancer hvgs, then selected interesting ones\n",
    "\n",
    "# sq.pl.spatial_segment(\n",
    "\n",
    "#     adata,\n",
    "#     color=hvg_cancer_diff+['Cluster'],\n",
    "#     library_key='library_id',\n",
    "#     library_id=Point_cancer,\n",
    "#     seg_cell_id='cell_id',\n",
    "    \n",
    "#     # Aesthetics\n",
    "#     img=False,\n",
    "#     outline=True,\n",
    "#     # seg_outline=True,\n",
    "#     scalebar_dx=scale_factor,\n",
    "#     scalebar_kwargs={'scale_loc': 'bottom', 'location': 'lower right'},\n",
    "#     ncols=4,\n",
    "#     cmap='viridis',\n",
    "#     # palette=[]\n",
    "\n",
    "#     # Format\n",
    "#     figsize=[5,5],\n",
    "#     dpi=300,\n",
    "#     legend_fontsize=10,\n",
    "#     wspace= 0.25,\n",
    "#     hspace=0.1,\n",
    "#     legend_na=True,\n",
    "    \n",
    "#     # Labels\n",
    "#     # title= [Point_healthy],\n",
    "#     axis_label=[\"\", \"\"],\n",
    "    \n",
    "#     save=\"../../figures/hartmann/spatial_segment_\" + \"point-cancer_hvg_diff\" + \".png\" \n",
    "\n",
    "# )"
   ]
  },
  {
   "cell_type": "code",
   "execution_count": null,
   "metadata": {},
   "outputs": [],
   "source": [
    "sc.set_figure_params(fontsize=20, dpi=150, dpi_save=300, format='jpg')\n",
    "\n",
    "sq.pl.spatial_segment(\n",
    "\n",
    "    adata,\n",
    "    color=['CD98', 'Ki67', 'NaKATPase'],\n",
    "    library_key='library_id',\n",
    "    library_id=Point_cancer,\n",
    "    seg_cell_id='cell_id',\n",
    "\n",
    "    # Aesthetics\n",
    "    img=False,\n",
    "    outline=True,\n",
    "    scalebar_dx=scale_factor,\n",
    "    scalebar_kwargs={'scale_loc': 'bottom', 'location': 'lower right'},\n",
    "    cmap='viridis',\n",
    "\n",
    "    # Format\n",
    "    # figsize=[5,5],\n",
    "    # dpi=300,\n",
    "    # legend_fontsize=10,\n",
    "    legend_na=True,\n",
    "\n",
    "    # Labels\n",
    "    # title= [Point_cancer],\n",
    "    axis_label=[\"\", \"\"],\n",
    "\n",
    "    # ax=axs[counter]\n",
    "\n",
    ")"
   ]
  },
  {
   "cell_type": "code",
   "execution_count": null,
   "metadata": {},
   "outputs": [],
   "source": [
    "# # HEALTHY\n",
    "# # First run on all cancer hvgs, then selected interesting ones\n",
    "\n",
    "# sq.pl.spatial_segment(\n",
    "\n",
    "#     adata,\n",
    "#     color=hvg_cancer_diff+['Cluster'],\n",
    "#     library_key='library_id',\n",
    "#     library_id=Point_healthy,\n",
    "#     seg_cell_id='cell_id',\n",
    "    \n",
    "#     # Aesthetics\n",
    "#     img=False,\n",
    "#     outline=True,\n",
    "#     # seg_outline=True,\n",
    "#     scalebar_dx=scale_factor,\n",
    "#     scalebar_kwargs={'scale_loc': 'bottom', 'location': 'lower right'},\n",
    "#     ncols=4,\n",
    "#     cmap='viridis',\n",
    "#     # palette=[]\n",
    "\n",
    "#     # Format\n",
    "#     figsize=[5,5],\n",
    "#     dpi=300,\n",
    "#     legend_fontsize=10,\n",
    "#     wspace= 0.25,\n",
    "#     hspace=0.1,\n",
    "#     legend_na=True,\n",
    "    \n",
    "#     # Labels\n",
    "#     # title= [Point_healthy],\n",
    "#     axis_label=[\"\", \"\"],\n",
    "    \n",
    "#     save=\"../../figures/hartmann/spatial_segment_\" + \"point-healthy_hvg_diff\" + \".png\" \n",
    "\n",
    "# )"
   ]
  },
  {
   "cell_type": "code",
   "execution_count": null,
   "metadata": {},
   "outputs": [],
   "source": [
    "# HEALTHY\n",
    "# First run on all cancer hvgs, then selected interesting ones\n",
    "\n",
    "sq.pl.spatial_segment(\n",
    "\n",
    "    adata,\n",
    "    color=['CD98', 'Ki67', 'LDHA', 'NaKATPase'], #hvg_cancer_diff+['Cluster'],\n",
    "    library_key='library_id',\n",
    "    library_id=Point_healthy,\n",
    "    seg_cell_id='cell_id',\n",
    "    \n",
    "    # Aesthetics\n",
    "    img=False,\n",
    "    outline=True,\n",
    "    # seg_outline=True,\n",
    "    scalebar_dx=scale_factor,\n",
    "    scalebar_kwargs={'scale_loc': 'bottom', 'location': 'lower right'},\n",
    "    ncols=4,\n",
    "    cmap='viridis',\n",
    "    # palette=[]\n",
    "\n",
    "    # Format\n",
    "    legend_fontsize=10,\n",
    "    wspace= 0.25,\n",
    "    hspace=0.1,\n",
    "    legend_na=True,\n",
    "    \n",
    "    # Labels\n",
    "    # title= [Point_healthy],\n",
    "    axis_label=[\"\", \"\"],\n",
    "    \n",
    ")"
   ]
  },
  {
   "attachments": {},
   "cell_type": "markdown",
   "metadata": {},
   "source": [
    "# Spatial pattern analysis"
   ]
  },
  {
   "attachments": {},
   "cell_type": "markdown",
   "id": "7c36279d",
   "metadata": {},
   "source": [
    "### Compute spatial neighbours graph\n",
    "! spatial_scatter(connectivity_key=True) requires adata to only have one image saved!"
   ]
  },
  {
   "cell_type": "code",
   "execution_count": null,
   "id": "aa588c21",
   "metadata": {},
   "outputs": [],
   "source": [
    "sq.gr.spatial_neighbors(adata, radius=35, coord_type='generic')\n",
    "sq.gr.spatial_neighbors(adata_pCancer, radius=35, coord_type='generic')\n",
    "sq.gr.spatial_neighbors(adata_pHealthy, radius=35, coord_type='generic')"
   ]
  },
  {
   "cell_type": "code",
   "execution_count": null,
   "id": "5a1e7470",
   "metadata": {},
   "outputs": [],
   "source": [
    "# CANCER\n",
    "\n",
    "sq.pl.spatial_scatter(\n",
    "    adata_pCancer,\n",
    "    img=None,\n",
    "    shape=None,\n",
    "    color='Cluster',\n",
    "    library_key='library_id',\n",
    "    connectivity_key='spatial_connectivities',\n",
    "    edges_width=0.5,\n",
    "    size=[30],\n",
    "    scalebar_dx=400/1024,\n",
    "    scalebar_kwargs={\"scale_loc\": \"bottom\", \"location\": \"lower right\"},\n",
    "    axis_label=[\"\", \"\"],\n",
    "    title=\"\",\n",
    "    figsize=(8, 8)\n",
    ")\n",
    "\n",
    "sq.pl.spatial_scatter(\n",
    "    adata_pCancer,\n",
    "    img=None,\n",
    "    shape=None,\n",
    "    color='Cluster',\n",
    "    library_key='library_id',\n",
    "    connectivity_key='spatial_connectivities',\n",
    "    edges_width=0.5,\n",
    "    size=[180],\n",
    "    scalebar_dx=400/1024,\n",
    "    scalebar_kwargs={\"scale_loc\": \"bottom\", \"location\": \"lower right\"},\n",
    "    crop_coord=[(50, 0, 500, 450)],\n",
    "    axis_label=[\"\", \"\"],\n",
    "    title=\"\",\n",
    "    figsize=(8, 8)\n",
    ")"
   ]
  },
  {
   "cell_type": "code",
   "execution_count": null,
   "metadata": {},
   "outputs": [],
   "source": [
    "# HEALTHY\n",
    "\n",
    "sq.pl.spatial_scatter(\n",
    "    adata_pHealthy,\n",
    "    img=None,\n",
    "    shape=None,\n",
    "    color='Cluster',\n",
    "    library_key='library_id',\n",
    "    connectivity_key='spatial_connectivities',\n",
    "    edges_width=0.5,\n",
    "    size=[30],\n",
    "    scalebar_dx=400/1024,\n",
    "    scalebar_kwargs={\"scale_loc\": \"bottom\", \"location\": \"lower right\"},\n",
    "    axis_label=[\"\", \"\"],\n",
    "    title=\"\",\n",
    "    figsize=(8, 8)\n",
    ")\n",
    "\n",
    "sq.pl.spatial_scatter(\n",
    "    adata_pHealthy,\n",
    "    img=None,\n",
    "    shape=None,\n",
    "    color='Cluster',\n",
    "    library_key='library_id',\n",
    "    connectivity_key='spatial_connectivities',\n",
    "    edges_width=0.5,\n",
    "    size=[180],\n",
    "    scalebar_dx=400/1024,\n",
    "    scalebar_kwargs={\"scale_loc\": \"bottom\", \"location\": \"lower right\"},\n",
    "    crop_coord=[(50, 0, 500, 450)],\n",
    "    axis_label=[\"\", \"\"],\n",
    "    title=\"\",\n",
    "    figsize=(8, 8)\n",
    ")"
   ]
  },
  {
   "cell_type": "markdown",
   "metadata": {},
   "source": [
    "## Annotation/Cell-type based statistics"
   ]
  },
  {
   "attachments": {},
   "cell_type": "markdown",
   "id": "c433b828",
   "metadata": {},
   "source": [
    "### Interaction matrix"
   ]
  },
  {
   "cell_type": "code",
   "execution_count": null,
   "id": "53723fd5",
   "metadata": {},
   "outputs": [],
   "source": [
    "sq.gr.interaction_matrix(adata_pCancer, cluster_key='Cluster')\n",
    "sq.pl.interaction_matrix(adata_pCancer, cluster_key='Cluster')\n",
    "\n",
    "sq.gr.interaction_matrix(adata_pCancer, cluster_key='Cluster', normalized=True)\n",
    "sq.pl.interaction_matrix(adata_pCancer, cluster_key='Cluster')"
   ]
  },
  {
   "cell_type": "code",
   "execution_count": null,
   "metadata": {},
   "outputs": [],
   "source": [
    "sq.gr.interaction_matrix(adata_pHealthy, cluster_key='Cluster')\n",
    "sq.pl.interaction_matrix(adata_pHealthy, cluster_key='Cluster')\n",
    "\n",
    "sq.gr.interaction_matrix(adata_pHealthy, cluster_key='Cluster', normalized=True)\n",
    "sq.pl.interaction_matrix(adata_pHealthy, cluster_key='Cluster')"
   ]
  },
  {
   "cell_type": "markdown",
   "metadata": {},
   "source": [
    "### Neighbours enrichment analysis"
   ]
  },
  {
   "cell_type": "code",
   "execution_count": null,
   "metadata": {},
   "outputs": [],
   "source": [
    "# CANCER\n",
    "sq.gr.nhood_enrichment(adata_pCancer, cluster_key='Cluster')\n",
    "sq.pl.nhood_enrichment(adata_pCancer, cluster_key='Cluster')\n",
    "\n",
    "# HEALTHY\n",
    "sq.gr.nhood_enrichment(adata_pHealthy, cluster_key='Cluster')\n",
    "sq.pl.nhood_enrichment(adata_pHealthy, cluster_key='Cluster')"
   ]
  },
  {
   "attachments": {},
   "cell_type": "markdown",
   "id": "76eb564a",
   "metadata": {},
   "source": [
    "### Co-occurence probability"
   ]
  },
  {
   "cell_type": "code",
   "execution_count": null,
   "id": "d0f5070b",
   "metadata": {},
   "outputs": [],
   "source": [
    "sq.pl.spatial_segment(adata, color='Cluster', library_key='library_id', seg_cell_id='cell_id', library_id=[Point_cancer], img=None, axis_label=[\"\", \"\"], title=\"\", figsize=(5, 5))"
   ]
  },
  {
   "cell_type": "code",
   "execution_count": null,
   "metadata": {},
   "outputs": [],
   "source": [
    "np.unique(adata_pCancer.obs['Cluster'])"
   ]
  },
  {
   "cell_type": "code",
   "execution_count": null,
   "metadata": {},
   "outputs": [],
   "source": [
    "mpl.rcParams['axes.grid'] = False"
   ]
  },
  {
   "cell_type": "code",
   "execution_count": null,
   "id": "32854013",
   "metadata": {},
   "outputs": [],
   "source": [
    "sq.gr.co_occurrence(adata_pCancer, cluster_key='Cluster', n_jobs=16)\n",
    "sq.pl.co_occurrence(adata_pCancer, cluster_key='Cluster', clusters='Epithelial')"
   ]
  },
  {
   "cell_type": "code",
   "execution_count": null,
   "metadata": {},
   "outputs": [],
   "source": [
    "sq.pl.spatial_segment(adata, color='Cluster', library_key='library_id', seg_cell_id='cell_id', library_id=[Point_healthy], img=None, axis_label=[\"\", \"\"], title=\"\", figsize=(5, 5))"
   ]
  },
  {
   "cell_type": "code",
   "execution_count": null,
   "metadata": {},
   "outputs": [],
   "source": [
    "sq.gr.co_occurrence(adata_pHealthy, cluster_key='Cluster', n_jobs=16)\n",
    "sq.pl.co_occurrence(adata_pHealthy, cluster_key='Cluster', clusters='Epithelial')"
   ]
  },
  {
   "attachments": {},
   "cell_type": "markdown",
   "metadata": {},
   "source": [
    "### Ripley's L statistic\n",
    "\n",
    "The Ripley’s L function is a descriptive statistics generally used to determine whether points have a random, dispersed or clustered distribution pattern at certain scale. The Ripley’s L is a variance-normalized version of the Ripley’s K statistic."
   ]
  },
  {
   "cell_type": "code",
   "execution_count": null,
   "metadata": {},
   "outputs": [],
   "source": [
    "# CANCER\n",
    "sq.gr.ripley(adata_pCancer, cluster_key=\"Cluster\", mode=\"L\")\n",
    "sq.pl.ripley(adata_pCancer, cluster_key=\"Cluster\", mode=\"L\")\n",
    "\n",
    "# HEALTHY\n",
    "sq.gr.ripley(adata_pHealthy, cluster_key=\"Cluster\", mode=\"L\")\n",
    "sq.pl.ripley(adata_pHealthy, cluster_key=\"Cluster\", mode=\"L\")"
   ]
  },
  {
   "attachments": {},
   "cell_type": "markdown",
   "metadata": {},
   "source": [
    "### Centrality scores\n",
    "\n",
    "This example shows how to compute centrality scores, given a spatial graph and cell type annotation.\n",
    "\n",
    "The scores calculated are closeness centrality, degree centrality and clustering coefficient with the following properties:\n",
    "- closeness centrality - measure of how close the group is to other nodes.\n",
    "- clustering coefficient - measure of the degree to which nodes cluster together.\n",
    "- degree centrality - fraction of non-group members connected to group members.\n",
    "\n",
    "All scores are descriptive statistics of the spatial graph."
   ]
  },
  {
   "cell_type": "code",
   "execution_count": null,
   "metadata": {},
   "outputs": [],
   "source": [
    "# CANCER\n",
    "\n",
    "sq.gr.centrality_scores(adata_pCancer, 'Cluster')\n",
    "sq.pl.centrality_scores(adata_pCancer, 'Cluster', score='closeness_centrality')\n",
    "sq.pl.centrality_scores(adata_pCancer, 'Cluster', score='average_clustering')\n",
    "sq.pl.centrality_scores(adata_pCancer, 'Cluster', score='degree_centrality')"
   ]
  },
  {
   "cell_type": "code",
   "execution_count": null,
   "metadata": {},
   "outputs": [],
   "source": [
    "# HEALTHY\n",
    "\n",
    "sq.gr.centrality_scores(adata_pHealthy, 'Cluster')\n",
    "sq.pl.centrality_scores(adata_pHealthy, 'Cluster', score='closeness_centrality')\n",
    "sq.pl.centrality_scores(adata_pHealthy, 'Cluster', score='average_clustering')\n",
    "sq.pl.centrality_scores(adata_pHealthy, 'Cluster', score='degree_centrality')"
   ]
  },
  {
   "attachments": {},
   "cell_type": "markdown",
   "metadata": {},
   "source": [
    "## Feature-based statistics"
   ]
  },
  {
   "attachments": {},
   "cell_type": "markdown",
   "metadata": {},
   "source": [
    "### Moran's score\n",
    "\n",
    "This example shows how to compute the Moran’s I global spatial auto-correlation statistics.\n",
    "\n",
    "The Moran’s I global spatial auto-correlation statistics evaluates whether features (i.e. genes) shows a pattern that is clustered, dispersed or random in the tissue are under consideration."
   ]
  },
  {
   "cell_type": "code",
   "execution_count": null,
   "metadata": {},
   "outputs": [],
   "source": [
    "# CANCER\n",
    "sq.gr.spatial_autocorr(\n",
    "    adata_pCancer,\n",
    "    mode=\"moran\",\n",
    "    genes=adata_pCancer.var_names,\n",
    "    n_perms=100,\n",
    "    n_jobs=8,\n",
    ")\n",
    "\n",
    "moran_cancer = adata_pCancer.uns['moranI'][['I', 'pval_norm']].sort_index()\n",
    "moran_cancer.head(10)"
   ]
  },
  {
   "cell_type": "code",
   "execution_count": null,
   "metadata": {},
   "outputs": [],
   "source": [
    "moran_cancer_top10 = list(adata_pCancer.uns['moranI'].head(10).index)\n",
    "moran_cancer_top10"
   ]
  },
  {
   "cell_type": "code",
   "execution_count": null,
   "metadata": {},
   "outputs": [],
   "source": [
    "moran_cancer_top10_diff = set(moran_cancer_top10).difference(set(lineage_markers))\n",
    "moran_cancer_top10_diff"
   ]
  },
  {
   "cell_type": "code",
   "execution_count": null,
   "metadata": {},
   "outputs": [],
   "source": [
    "adata.var_names[adata_cancer.var.highly_variable]"
   ]
  },
  {
   "cell_type": "code",
   "execution_count": null,
   "metadata": {},
   "outputs": [],
   "source": [
    "moran_cancer_top10_diff2 = moran_cancer_top10_diff.difference(hvg_cancer_set)\n",
    "moran_cancer_top10_diff2"
   ]
  },
  {
   "cell_type": "code",
   "execution_count": null,
   "metadata": {},
   "outputs": [],
   "source": [
    "sq.pl.spatial_segment(\n",
    "    adata,\n",
    "    img=None,\n",
    "    color=moran_cancer_top10_diff2,\n",
    "    library_key='library_id',\n",
    "    library_id=Point_cancer,\n",
    "\n",
    "    seg_cell_id='cell_id',\n",
    "    scalebar_dx=scale_factor,\n",
    "    scalebar_kwargs={'scale_loc': 'bottom', 'location': 'lower right'},\n",
    "    axis_label=[\"\", \"\"],\n",
    "\n",
    "    ncols=3,\n",
    "    figsize=[3, 3],\n",
    "    wspace=0.25,\n",
    "    dpi=600\n",
    "\n",
    ")"
   ]
  },
  {
   "cell_type": "code",
   "execution_count": null,
   "metadata": {},
   "outputs": [],
   "source": [
    "# HEALTHY\n",
    "sq.gr.spatial_autocorr(\n",
    "    adata_pHealthy,\n",
    "    mode=\"moran\",\n",
    "    genes=adata_pHealthy.var_names,\n",
    "    n_perms=100,\n",
    "    n_jobs=8,\n",
    ")\n",
    "\n",
    "moran_healthy = adata_pHealthy.uns['moranI'][['I', 'pval_norm_fdr_bh']].sort_index()\n",
    "moran_healthy.head(10)\n"
   ]
  },
  {
   "cell_type": "code",
   "execution_count": null,
   "metadata": {},
   "outputs": [],
   "source": [
    "moran_healthy_top10 = list(adata_pHealthy.uns['moranI'].head(10).index)\n",
    "moran_healthy_top10"
   ]
  },
  {
   "cell_type": "code",
   "execution_count": null,
   "metadata": {},
   "outputs": [],
   "source": [
    "moran_healthy_top10_diff = set(moran_healthy_top10).difference(set(lineage_markers))\n",
    "moran_healthy_top10_diff"
   ]
  },
  {
   "cell_type": "code",
   "execution_count": null,
   "metadata": {},
   "outputs": [],
   "source": [
    "moran_healthy_top10_diff2 = moran_healthy_top10_diff.difference(hvg_healthy_set)\n",
    "moran_healthy_top10_diff2"
   ]
  },
  {
   "cell_type": "code",
   "execution_count": null,
   "metadata": {},
   "outputs": [],
   "source": [
    "sq.pl.spatial_segment(\n",
    "    adata,\n",
    "    img=None,\n",
    "    color=moran_healthy_top10_diff2,\n",
    "    library_key='library_id',\n",
    "    library_id=Point_healthy,\n",
    "    seg_cell_id='cell_id',\n",
    "    scalebar_dx=scale_factor,\n",
    "    scalebar_kwargs={'scale_loc': 'bottom', 'location': 'lower right'},\n",
    ")"
   ]
  },
  {
   "cell_type": "code",
   "execution_count": null,
   "metadata": {},
   "outputs": [],
   "source": [
    "moran_healthy"
   ]
  },
  {
   "cell_type": "code",
   "execution_count": null,
   "metadata": {},
   "outputs": [],
   "source": [
    "moran = moran_cancer.copy()\n",
    "moran.columns = ['I_cancer', 'pval_norm_fdr_bh_cancer']\n",
    "moran = pd.concat([moran, moran_healthy], axis=1)\n",
    "moran.columns = list(moran.columns)[0:2] + ['I_heathy', 'pval_norm_healthy_fdr_bh']\n",
    "moran.to_markdown()"
   ]
  },
  {
   "attachments": {},
   "cell_type": "markdown",
   "metadata": {},
   "source": [
    "## Sepal score\n",
    "\n",
    "- Only accepts grid-like spatial graphs\n",
    "- It is useful to filter out genes that are expressed in very few observations and might be wrongly identified as being spatially variable. If you are performing pre-processing with Scanpy, there is a convenient function that can be used BEFORE normalization scanpy.pp.calculate_qc_metrics(). It computes several useful summary statistics on both observation and feature axis. We will be using the n_cells columns in adata.var to filter out genes that are expressed in less than 100 observations. "
   ]
  },
  {
   "cell_type": "code",
   "execution_count": null,
   "metadata": {},
   "outputs": [],
   "source": [
    "# genes = adata.var_names[(adata.var.n_cells > 100) & adata.var.highly_variable][0:100]\n",
    "# sq.gr.sepal(adata, max_neighs=6, genes=genes, n_jobs=1)\n",
    "# adata.uns[\"sepal_score\"].head(10)\n",
    "\n",
    "# sq.pl.spatial_scatter(adata, color=<top features found>)"
   ]
  },
  {
   "attachments": {},
   "cell_type": "markdown",
   "metadata": {},
   "source": [
    "## Receptor-ligand analysis: CellPhoneDB\n",
    "\n",
    "It uses an efficient re-implementation of the [Efremova et al., 2020] algorithm which can handle large number of interacting pairs (100k+) and cluster combinations (100+).\n",
    "\n",
    "In this specific case it is not applyable since there are no interacting features (e.g. L-R)"
   ]
  },
  {
   "cell_type": "code",
   "execution_count": null,
   "metadata": {},
   "outputs": [],
   "source": [
    "# rla = sq.gr.ligrec(\n",
    "#     adata_pCancer,\n",
    "#     n_perms=1000,\n",
    "#     cluster_key='Cluster',\n",
    "#     copy=True,\n",
    "#     use_raw=False,\n",
    "#     transmitter_params={\"categories\": \"ligand\"},\n",
    "#     receiver_params={\"categories\": \"receptor\"},\n",
    "#     corr_method='bonferroni'\n",
    "# )"
   ]
  },
  {
   "cell_type": "code",
   "execution_count": null,
   "metadata": {},
   "outputs": [],
   "source": [
    "# rla['means'].head()"
   ]
  },
  {
   "cell_type": "code",
   "execution_count": null,
   "metadata": {},
   "outputs": [],
   "source": [
    "# rla['pvalues'].head()"
   ]
  },
  {
   "cell_type": "code",
   "execution_count": null,
   "metadata": {},
   "outputs": [],
   "source": [
    "# rla['metadata'].head()"
   ]
  },
  {
   "cell_type": "code",
   "execution_count": null,
   "metadata": {},
   "outputs": [],
   "source": [
    "# In the plot below, to highlight significance, we’ve marked all p-values <= 0.005 with tori.\n",
    "# sq.pl.ligrec(rla, target_groups='Epithelial', alpha=0.005)"
   ]
  },
  {
   "attachments": {},
   "cell_type": "markdown",
   "metadata": {},
   "source": [
    "# Temporary plots to inspect Tanevskis's results"
   ]
  },
  {
   "cell_type": "markdown",
   "metadata": {},
   "source": [
    "\"In particular, the gain for markers CD68, ki67, and SMA were found  to be the highest, suggesting that proliferation, presence, or absence of CD68 and  changes in vascularization in different grades and clinical subtypes are significantly  affected by the change in regulation as a result of intercellular interactions. \" - Tanevski2022"
   ]
  },
  {
   "cell_type": "code",
   "execution_count": null,
   "metadata": {},
   "outputs": [],
   "source": [
    "sq.pl.spatial_segment(\n",
    "\n",
    "    adata,\n",
    "    img=None,\n",
    "    library_key='library_id',\n",
    "    library_id=Point_cancer,\n",
    "    seg_cell_id='cell_id',\n",
    "\n",
    "    color=['CD11c', 'SMA', 'Ki67', 'Cluster'],\n",
    "\n",
    "    scalebar_dx=scale_factor,\n",
    "    scalebar_kwargs={'scale_loc': 'bottom', 'location': 'lower right'},\n",
    "    outline=True, \n",
    "\n",
    "    ncols=3\n",
    "\n",
    ")"
   ]
  },
  {
   "attachments": {},
   "cell_type": "markdown",
   "metadata": {},
   "source": [
    "# Temporary plots to inspect Hartmann's results (paper)"
   ]
  },
  {
   "cell_type": "code",
   "execution_count": null,
   "metadata": {},
   "outputs": [],
   "source": [
    "adata.obs['cat_epithelial'] = np.where(np.in1d(adata.obs['Cluster'], ['Epithelial', 'Tcell_CD8']), adata.obs['Cluster'], 'Other')"
   ]
  },
  {
   "cell_type": "code",
   "execution_count": null,
   "metadata": {},
   "outputs": [],
   "source": [
    "sq.pl.spatial_segment(\n",
    "    adata,\n",
    "    library_key='library_id',\n",
    "    library_id=Point_cancer,\n",
    "    seg_cell_id='cell_id',\n",
    "    color='cat_epithelial',\n",
    "    scalebar_dx=scale_factor,\n",
    "    scalebar_kwargs={'scale_loc': 'bottom', 'location': 'lower right'},\n",
    "    # palette='magma_r' #adata_cancer.obs['cat_epithelial'].map({'Epithelial': 'tab:red', 'Tcell_CD8': 'tab:blue', 'Other': 'tab:gray'})\n",
    ")"
   ]
  },
  {
   "cell_type": "markdown",
   "metadata": {},
   "source": [
    "Hartmann-2022 et al. defined the tumour-immune border making the assumption that all epithelial cells were malign and had undergone carcinogenesis."
   ]
  },
  {
   "attachments": {},
   "cell_type": "markdown",
   "metadata": {},
   "source": [
    "# Analysis to include\n",
    "- Image processing and feature extraction\n",
    "    - Smooth image!"
   ]
  },
  {
   "cell_type": "markdown",
   "metadata": {},
   "source": [
    "# Napari"
   ]
  },
  {
   "cell_type": "code",
   "execution_count": null,
   "metadata": {},
   "outputs": [],
   "source": [
    "# viewer = img.interactive(adata)"
   ]
  },
  {
   "cell_type": "code",
   "execution_count": null,
   "metadata": {},
   "outputs": [],
   "source": [
    "# viewer.close"
   ]
  }
 ],
 "metadata": {
  "kernelspec": {
   "display_name": "squidpyLatest",
   "language": "python",
   "name": "python3"
  },
  "language_info": {
   "codemirror_mode": {
    "name": "ipython",
    "version": 3
   },
   "file_extension": ".py",
   "mimetype": "text/x-python",
   "name": "python",
   "nbconvert_exporter": "python",
   "pygments_lexer": "ipython3",
   "version": "3.8.16"
  },
  "orig_nbformat": 4,
  "vscode": {
   "interpreter": {
    "hash": "9b22b2ba62a4655375d3a9c508680dae7e48249452a5ffa08150b81ad9eb0779"
   }
  }
 },
 "nbformat": 4,
 "nbformat_minor": 2
}
