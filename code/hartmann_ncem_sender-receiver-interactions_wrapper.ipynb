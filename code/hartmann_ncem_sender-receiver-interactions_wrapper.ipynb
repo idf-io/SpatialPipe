{
 "cells": [
  {
   "attachments": {},
   "cell_type": "markdown",
   "id": "36cb8d40",
   "metadata": {},
   "source": [
    "# NCEM\n",
    "\n",
    "Input:\n",
    " - Hartmann raw-data in correct file and directory structure as described in `hartmann_data-preparation.ipynb`\n",
    "\n",
    "Output:\n",
    " - Sender_receiver_effects matrix\n",
    "   - A cell-type x cell-type x features matrix with the interaction terms representing the sender-receiver effects between cells\n",
    " - Custom sender_receiver_effects() matrices\n",
    "    1. L1 norm of indicator function of significant sender-receiver interactions on feature-level\n",
    "        - In other words, for each sender-receiver cell-type pair, the sum of all significant features (hypothesis test on interaction terms: FDR corrected Wald test)\n",
    "    2. L2 norm of sender-receiver interaction terms on feature-level\n",
    "        - In other words, for each sender-receiver cell-type pair, the euclidean distance of the data point in all feature dimensions\n",
    "\n",
    "Outlook:\n",
    "- Future custom loader"
   ]
  },
  {
   "cell_type": "code",
   "execution_count": 1,
   "id": "0cc8f69a",
   "metadata": {},
   "outputs": [
    {
     "name": "stderr",
     "output_type": "stream",
     "text": [
      "2023-02-09 01:29:42.471083: I tensorflow/core/platform/cpu_feature_guard.cc:193] This TensorFlow binary is optimized with oneAPI Deep Neural Network Library (oneDNN) to use the following CPU instructions in performance-critical operations:  AVX2 AVX512F AVX512_VNNI FMA\n",
      "To enable them in other operations, rebuild TensorFlow with the appropriate compiler flags.\n",
      "2023-02-09 01:29:42.582355: I tensorflow/core/util/port.cc:104] oneDNN custom operations are on. You may see slightly different numerical results due to floating-point round-off errors from different computation orders. To turn them off, set the environment variable `TF_ENABLE_ONEDNN_OPTS=0`.\n",
      "2023-02-09 01:29:43.049095: W tensorflow/compiler/xla/stream_executor/platform/default/dso_loader.cc:64] Could not load dynamic library 'libnvinfer.so.7'; dlerror: libnvinfer.so.7: cannot open shared object file: No such file or directory\n",
      "2023-02-09 01:29:43.049151: W tensorflow/compiler/xla/stream_executor/platform/default/dso_loader.cc:64] Could not load dynamic library 'libnvinfer_plugin.so.7'; dlerror: libnvinfer_plugin.so.7: cannot open shared object file: No such file or directory\n",
      "2023-02-09 01:29:43.049155: W tensorflow/compiler/tf2tensorrt/utils/py_utils.cc:38] TF-TRT Warning: Cannot dlopen some TensorRT libraries. If you would like to use Nvidia GPU with TensorRT, please make sure the missing libraries mentioned above are installed properly.\n"
     ]
    },
    {
     "name": "stdout",
     "output_type": "stream",
     "text": [
      "sender_receiver_custom module is loaded!\n"
     ]
    }
   ],
   "source": [
    "import ncem\n",
    "import sender_receiver_custom as custom"
   ]
  },
  {
   "cell_type": "code",
   "execution_count": 2,
   "id": "aecb7878",
   "metadata": {},
   "outputs": [
    {
     "name": "stderr",
     "output_type": "stream",
     "text": [
      "/home/ifichtner/mambaforge/envs/squidpy/lib/python3.8/site-packages/tqdm/auto.py:22: TqdmWarning: IProgress not found. Please update jupyter and ipywidgets. See https://ipywidgets.readthedocs.io/en/stable/user_install.html\n",
      "  from .autonotebook import tqdm as notebook_tqdm\n"
     ]
    },
    {
     "name": "stdout",
     "output_type": "stream",
     "text": [
      "Loading data from raw files\n",
      "registering celldata\n"
     ]
    },
    {
     "name": "stderr",
     "output_type": "stream",
     "text": [
      "/home/ifichtner/mambaforge/envs/squidpy/lib/python3.8/site-packages/ncem/data.py:2389: FutureWarning: X.dtype being converted to np.float32 from float64. In the next version of anndata (0.9) conversion will not be automatic. Pass dtype explicitly to avoid this warning. Pass `AnnData(X, dtype=X.dtype, ...)` to get the future behavour.\n",
      "  celldata = AnnData(\n",
      "/home/ifichtner/mambaforge/envs/squidpy/lib/python3.8/site-packages/anndata/_core/anndata.py:121: ImplicitModificationWarning: Transforming to str index.\n",
      "  warnings.warn(\"Transforming to str index.\", ImplicitModificationWarning)\n"
     ]
    },
    {
     "name": "stdout",
     "output_type": "stream",
     "text": [
      "collecting image-wise celldata\n",
      "adding graph-level covariates\n"
     ]
    },
    {
     "name": "stderr",
     "output_type": "stream",
     "text": [
      "100%|██████████| 58/58 [00:01<00:00, 48.07it/s]\n"
     ]
    },
    {
     "name": "stdout",
     "output_type": "stream",
     "text": [
      "Loaded 58 images with complete data from 4 patients over 63747 cells with 36 cell features and 8 distinct celltypes.\n",
      "Mean of mean node degree per images across images: 4.416036\n",
      "Using split method: node. \n",
      " Train-test-validation split is based on total number of nodes per patients over all images.\n",
      "\n",
      "Excluded 0 cells with the following unannotated cell type: [None] \n",
      "\n",
      "Whole dataset: 63747 cells out of 58 images from 4 patients.\n",
      "Test dataset: 6376 cells out of 58 images from 4 patients.\n",
      "Training dataset: 51914 cells out of 58 images from 4 patients.\n",
      "Validation dataset: 5738 cells out of 58 images from 4 patients. \n",
      "\n"
     ]
    },
    {
     "name": "stderr",
     "output_type": "stream",
     "text": [
      "2023-02-09 01:29:51.743732: I tensorflow/compiler/xla/stream_executor/cuda/cuda_gpu_executor.cc:981] successful NUMA node read from SysFS had negative value (-1), but there must be at least one NUMA node, so returning NUMA node zero\n",
      "2023-02-09 01:29:51.749821: I tensorflow/compiler/xla/stream_executor/cuda/cuda_gpu_executor.cc:981] successful NUMA node read from SysFS had negative value (-1), but there must be at least one NUMA node, so returning NUMA node zero\n",
      "2023-02-09 01:29:51.750011: I tensorflow/compiler/xla/stream_executor/cuda/cuda_gpu_executor.cc:981] successful NUMA node read from SysFS had negative value (-1), but there must be at least one NUMA node, so returning NUMA node zero\n",
      "2023-02-09 01:29:51.750772: I tensorflow/core/platform/cpu_feature_guard.cc:193] This TensorFlow binary is optimized with oneAPI Deep Neural Network Library (oneDNN) to use the following CPU instructions in performance-critical operations:  AVX2 AVX512F AVX512_VNNI FMA\n",
      "To enable them in other operations, rebuild TensorFlow with the appropriate compiler flags.\n",
      "2023-02-09 01:29:51.751596: I tensorflow/compiler/xla/stream_executor/cuda/cuda_gpu_executor.cc:981] successful NUMA node read from SysFS had negative value (-1), but there must be at least one NUMA node, so returning NUMA node zero\n",
      "2023-02-09 01:29:51.751804: I tensorflow/compiler/xla/stream_executor/cuda/cuda_gpu_executor.cc:981] successful NUMA node read from SysFS had negative value (-1), but there must be at least one NUMA node, so returning NUMA node zero\n",
      "2023-02-09 01:29:51.751887: I tensorflow/compiler/xla/stream_executor/cuda/cuda_gpu_executor.cc:981] successful NUMA node read from SysFS had negative value (-1), but there must be at least one NUMA node, so returning NUMA node zero\n",
      "2023-02-09 01:29:52.122008: I tensorflow/compiler/xla/stream_executor/cuda/cuda_gpu_executor.cc:981] successful NUMA node read from SysFS had negative value (-1), but there must be at least one NUMA node, so returning NUMA node zero\n",
      "2023-02-09 01:29:52.122167: I tensorflow/compiler/xla/stream_executor/cuda/cuda_gpu_executor.cc:981] successful NUMA node read from SysFS had negative value (-1), but there must be at least one NUMA node, so returning NUMA node zero\n",
      "2023-02-09 01:29:52.122259: I tensorflow/compiler/xla/stream_executor/cuda/cuda_gpu_executor.cc:981] successful NUMA node read from SysFS had negative value (-1), but there must be at least one NUMA node, so returning NUMA node zero\n",
      "2023-02-09 01:29:52.122337: I tensorflow/core/common_runtime/gpu/gpu_device.cc:1613] Created device /job:localhost/replica:0/task:0/device:GPU:0 with 574 MB memory:  -> device: 0, name: NVIDIA GeForce RTX 3050 Laptop GPU, pci bus id: 0000:01:00.0, compute capability: 8.6\n",
      "100%|█████████▉| 6351/6374 [00:26<00:00, 237.49it/s]\n"
     ]
    },
    {
     "name": "stdout",
     "output_type": "stream",
     "text": [
      "using ols parameters.\n",
      "calculating inv fim.\n"
     ]
    },
    {
     "ename": "NameError",
     "evalue": "name 'plt' is not defined",
     "output_type": "error",
     "traceback": [
      "\u001b[0;31m---------------------------------------------------------------------------\u001b[0m",
      "\u001b[0;31mNameError\u001b[0m                                 Traceback (most recent call last)",
      "Cell \u001b[0;32mIn[2], line 2\u001b[0m\n\u001b[1;32m      1\u001b[0m \u001b[39m# Applying the function\u001b[39;00m\n\u001b[0;32m----> 2\u001b[0m ncem_interactions \u001b[39m=\u001b[39m custom\u001b[39m.\u001b[39;49mncem_sender_receiver_interactions_Hartmann(\n\u001b[1;32m      3\u001b[0m     data_loader\u001b[39m=\u001b[39;49m\u001b[39m'\u001b[39;49m\u001b[39mhartmann\u001b[39;49m\u001b[39m'\u001b[39;49m,\n\u001b[1;32m      4\u001b[0m     data_path\u001b[39m=\u001b[39;49m\u001b[39m'\u001b[39;49m\u001b[39m../input-data/raw-data/Hartmann-2021/\u001b[39;49m\u001b[39m'\u001b[39;49m,\n\u001b[1;32m      5\u001b[0m     radius\u001b[39m=\u001b[39;49m\u001b[39m35\u001b[39;49m,\n\u001b[1;32m      6\u001b[0m     n_eval_nodes\u001b[39m=\u001b[39;49m\u001b[39m10\u001b[39;49m,\n\u001b[1;32m      7\u001b[0m     qval_thresh\u001b[39m=\u001b[39;49m\u001b[39m0.05\u001b[39;49m,\n\u001b[1;32m      8\u001b[0m     l1_thresh\u001b[39m=\u001b[39;49m\u001b[39m0\u001b[39;49m,\n\u001b[1;32m      9\u001b[0m     fc_thresh\u001b[39m=\u001b[39;49m\u001b[39m0\u001b[39;49m,\n\u001b[1;32m     10\u001b[0m     l2_thresh\u001b[39m=\u001b[39;49m\u001b[39m0\u001b[39;49m\n\u001b[1;32m     11\u001b[0m )\n",
      "File \u001b[0;32m~/Documents/SpatialPipe/code/sender_receiver_custom.py:173\u001b[0m, in \u001b[0;36mncem_sender_receiver_interactions_Hartmann\u001b[0;34m(data_loader, data_path, radius, n_eval_nodes, qval_thresh, l1_thresh, fc_thresh, l2_thresh, plot)\u001b[0m\n\u001b[1;32m    170\u001b[0m \u001b[39m# Heatmap\u001b[39;00m\n\u001b[1;32m    171\u001b[0m \u001b[39mif\u001b[39;00m plot \u001b[39m==\u001b[39m \u001b[39mTrue\u001b[39;00m:\n\u001b[0;32m--> 173\u001b[0m     fig, (ax0, ax1) \u001b[39m=\u001b[39m plt\u001b[39m.\u001b[39msubplots(\u001b[39m1\u001b[39m, \u001b[39m2\u001b[39m, sharex\u001b[39m=\u001b[39m\u001b[39mTrue\u001b[39;00m)\n\u001b[1;32m    175\u001b[0m     im0 \u001b[39m=\u001b[39m ax0\u001b[39m.\u001b[39mimshow(l1_effects, cmap\u001b[39m=\u001b[39m\u001b[39m'\u001b[39m\u001b[39mgray_r\u001b[39m\u001b[39m'\u001b[39m)\n\u001b[1;32m    176\u001b[0m     im1 \u001b[39m=\u001b[39m ax1\u001b[39m.\u001b[39mimshow(l2_effects, cmap\u001b[39m=\u001b[39m\u001b[39m'\u001b[39m\u001b[39mgray_r\u001b[39m\u001b[39m'\u001b[39m)\n",
      "\u001b[0;31mNameError\u001b[0m: name 'plt' is not defined"
     ]
    }
   ],
   "source": [
    "# Applying the function\n",
    "ncem_interactions = custom.ncem_sender_receiver_interactions_Hartmann(\n",
    "    data_loader='hartmann',\n",
    "    data_path='../input-data/raw-data/Hartmann-2021/',\n",
    "    radius=35,\n",
    "    n_eval_nodes=10,\n",
    "    qval_thresh=0.05,\n",
    "    l1_thresh=0,\n",
    "    fc_thresh=0,\n",
    "    l2_thresh=0\n",
    ")\n"
   ]
  },
  {
   "attachments": {},
   "cell_type": "markdown",
   "metadata": {},
   "source": [
    "# Save the matrices"
   ]
  },
  {
   "cell_type": "code",
   "execution_count": null,
   "metadata": {},
   "outputs": [],
   "source": []
  }
 ],
 "metadata": {
  "kernelspec": {
   "display_name": "squidpy",
   "language": "python",
   "name": "python3"
  },
  "language_info": {
   "codemirror_mode": {
    "name": "ipython",
    "version": 3
   },
   "file_extension": ".py",
   "mimetype": "text/x-python",
   "name": "python",
   "nbconvert_exporter": "python",
   "pygments_lexer": "ipython3",
   "version": "3.8.15"
  },
  "orig_nbformat": 4,
  "vscode": {
   "interpreter": {
    "hash": "2ab285a313c0334e232d53d6b5ed1f370ce7dc764449a1e1d776ae6a1fa99a56"
   }
  }
 },
 "nbformat": 4,
 "nbformat_minor": 2
}
