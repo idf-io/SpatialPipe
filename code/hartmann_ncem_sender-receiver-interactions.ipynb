{
 "cells": [
  {
   "cell_type": "markdown",
   "metadata": {},
   "source": [
    "# NCEM\n",
    "\n",
    "Package output:\n",
    " - Coupling analysis: DEGs\n",
    " - Coupling analysis circular: DEGs or magnitude\n",
    " - Sender effect on receiving cell\n",
    " - Sender-receiver vulcano plot\n",
    " - **Sender similarity analysis**\n",
    " - **custom_sender_receiver_\n",
    "\n",
    "Not functioning:\n",
    " - Grid searches over neighbourhood sizes + Length scales of dependencies for different target cell-types\n",
    " - (Squidpy CellPhoneDB)\n",
    "\n",
    "Outlook:\n",
    "- Future custom loader\n"
   ]
  },
  {
   "cell_type": "code",
   "execution_count": 1,
   "metadata": {},
   "outputs": [
    {
     "ename": "ModuleNotFoundError",
     "evalue": "No module named 'ncem'",
     "output_type": "error",
     "traceback": [
      "\u001b[0;31m---------------------------------------------------------------------------\u001b[0m",
      "\u001b[0;31mModuleNotFoundError\u001b[0m                       Traceback (most recent call last)",
      "\u001b[0;32m/tmp/ipykernel_53378/589586641.py\u001b[0m in \u001b[0;36m<module>\u001b[0;34m\u001b[0m\n\u001b[0;32m----> 1\u001b[0;31m \u001b[0;32mimport\u001b[0m \u001b[0mncem\u001b[0m\u001b[0;34m\u001b[0m\u001b[0;34m\u001b[0m\u001b[0m\n\u001b[0m\u001b[1;32m      2\u001b[0m \u001b[0;32mimport\u001b[0m \u001b[0mnumpy\u001b[0m\u001b[0;34m\u001b[0m\u001b[0;34m\u001b[0m\u001b[0m\n\u001b[1;32m      3\u001b[0m \u001b[0;32mfrom\u001b[0m \u001b[0mmatplotlib\u001b[0m \u001b[0;32mimport\u001b[0m \u001b[0mpyplot\u001b[0m \u001b[0;32mas\u001b[0m \u001b[0mplt\u001b[0m\u001b[0;34m\u001b[0m\u001b[0;34m\u001b[0m\u001b[0m\n",
      "\u001b[0;31mModuleNotFoundError\u001b[0m: No module named 'ncem'"
     ]
    }
   ],
   "source": [
    "import ncem\n",
    "import numpy\n",
    "from matplotlib import pyplot as plt"
   ]
  },
  {
   "cell_type": "markdown",
   "metadata": {},
   "source": [
    "### 0. Loading the data with the predefined data loader"
   ]
  },
  {
   "cell_type": "code",
   "execution_count": null,
   "metadata": {},
   "outputs": [],
   "source": [
    "interpreter = ncem.interpretation.interpreter.InterpreterInteraction()\n",
    "interpreter.get_data(\n",
    "    data_origin='hartmann', # Reference to specfic DataLoader (see notes in Dropbox paper)\n",
    "    data_path='input-data/raw-data/Hartmann-2021/',\n",
    "    radius=35,\n",
    "    node_label_space_id='type',\n",
    "    node_feature_space_id='standard',\n",
    ")\n",
    "print('\\n Celldata metadata:', interpreter.data.celldata.uns['metadata'])"
   ]
  },
  {
   "cell_type": "code",
   "execution_count": null,
   "metadata": {},
   "outputs": [],
   "source": [
    "# node degrees for different radii (real distance)\n",
    "interpreter.data.plot_degree_vs_dist(\n",
    "    max_distances=[0, 10, 50, 200, 1000],\n",
    "    lateral_resolution=400/1024, # Physical cell resolution\n",
    ")"
   ]
  },
  {
   "cell_type": "markdown",
   "metadata": {},
   "source": [
    "### 1 Data exploration\n"
   ]
  },
  {
   "cell_type": "markdown",
   "metadata": {},
   "source": [
    "##### Variance decomposition"
   ]
  },
  {
   "cell_type": "code",
   "execution_count": null,
   "metadata": {},
   "outputs": [],
   "source": [
    "var_decomp = interpreter.data.compute_variance_decomposition(undefined_type='other')\n",
    "interpreter.data.variance_decomposition(var_decomp)\n",
    "\n"
   ]
  },
  {
   "cell_type": "code",
   "execution_count": null,
   "metadata": {},
   "outputs": [],
   "source": [
    "var_decomp.mean(axis=0)[['intra cell type variance', 'inter cell type variance', 'gene variance']]"
   ]
  },
  {
   "cell_type": "markdown",
   "metadata": {},
   "source": [
    "##### Normalised contact frequencies of cell-types in spatial neighborhoods\n"
   ]
  },
  {
   "cell_type": "code",
   "execution_count": null,
   "metadata": {},
   "outputs": [],
   "source": [
    "interpreter.data.celldata_interaction_matrix(figsize=(3,3))"
   ]
  },
  {
   "cell_type": "markdown",
   "metadata": {},
   "source": [
    "#### Distributional characteristics of gene expression measurements of single cells from spatial molecular profiling assays."
   ]
  },
  {
   "cell_type": "code",
   "execution_count": null,
   "metadata": {},
   "outputs": [],
   "source": [
    "interpreter.data.noise_structure()\n"
   ]
  },
  {
   "cell_type": "markdown",
   "metadata": {},
   "source": [
    "### 1. Grid searches over neighbourhood sizes"
   ]
  },
  {
   "cell_type": "code",
   "execution_count": null,
   "metadata": {},
   "outputs": [],
   "source": [
    "# gs = ncem.train.GridSearchContainer(\n",
    "#     source_path=os.path.join('input-data/raw-data/Hartmann-2021/' + 'grid_searches_gen/'), \n",
    "#     gs_ids=[\n",
    "#         \"210419_INTERACTIONS_BASELINE_NONE_NODES_IMAGE_1_HARTMANN\",\n",
    "#         \"210419_INTERACTIONS_MAX_NODES_IMAGE_1_HARTMANN\",\n",
    "#     ],\n",
    "#     lateral_resolution = 400/1024\n",
    "# )\n",
    "# gs.load_gs()\n",
    "\n",
    "# gs.plot_best_model_by_hyperparam(\n",
    "#     graph_model_class='interactions',\n",
    "#     baseline_model_class='interactions_baseline',\n",
    "#     rename_levels = [\n",
    "#         (\"model\", {\n",
    "#             \"INTERACTIONS_BASELINE_NONE_NODES_IMAGE_1\": \"baseline\",\n",
    "#             \"INTERACTIONS_MAX_NODES_IMAGE_1\": \"NCEM\",\n",
    "#         })\n",
    "#     ],\n",
    "#     xticks=[0, 10, 50, 200, 1000],\n",
    ")"
   ]
  },
  {
   "cell_type": "markdown",
   "metadata": {},
   "source": [
    "#### Length scales of dependencies for different target cell-types."
   ]
  },
  {
   "cell_type": "code",
   "execution_count": null,
   "metadata": {},
   "outputs": [],
   "source": [
    "# gs.load_target_cell_evaluation()\n",
    "# gs.plot_target_cell_evaluation(\n",
    "#     metric_show=\"r_squared_linreg\",\n",
    "#     metric_select=\"r_squared_linreg\",\n",
    "#     param_x=\"um_radius\",\n",
    "# )"
   ]
  },
  {
   "cell_type": "markdown",
   "metadata": {},
   "source": [
    "### 2. Extracting sender-receiver effects with NCEM"
   ]
  },
  {
   "cell_type": "code",
   "execution_count": null,
   "metadata": {},
   "outputs": [],
   "source": [
    "# splitting data into test and validation sets, can be ignored for non sender-receiver focused analysis\n",
    "interpreter.split_data_node(0.1, 0.1)\n",
    "interpreter.n_eval_nodes_per_graph = 10\n",
    "interpreter.cell_names = list(interpreter.data.celldata.uns['node_type_names'].values())"
   ]
  },
  {
   "cell_type": "code",
   "execution_count": null,
   "metadata": {},
   "outputs": [],
   "source": [
    "interpreter.get_sender_receiver_effects()"
   ]
  },
  {
   "cell_type": "markdown",
   "metadata": {},
   "source": [
    "### Type coupling analysis\n",
    "\n",
    "Heatmap color is proportional to the number of differentially expressed genes at a FDR-corrected p-value threshold of 0.05 for each pair of sender and receiver cell types. "
   ]
  },
  {
   "cell_type": "code",
   "execution_count": null,
   "metadata": {},
   "outputs": [],
   "source": [
    "interpreter.type_coupling_analysis(figsize=(6.5, 5.5))"
   ]
  },
  {
   "cell_type": "markdown",
   "metadata": {},
   "source": [
    "Edge width proportional to the number of differentially expressed genes at a FDR-corrected p-value threshold of 0.05 for each pair of sender and receiver cell types. Only edges with eat least 24 differentially expressed genes are shown.\n",
    "\n",
    "\n",
    "**Arrow thickness:** strength of directional dependencies between cell types as the magnitude of the corresponding coefficient vector"
   ]
  },
  {
   "cell_type": "code",
   "execution_count": null,
   "metadata": {},
   "outputs": [],
   "source": [
    "interpreter.type_coupling_analysis_circular(\n",
    "    edge_attr='magnitude', # IDF: Alternatives should be: [\"magnitude\", 'de_genes', 'de_genes_abs']\n",
    "    edge_width_scale=3.5,\n",
    "    de_genes_threshold=24,\n",
    "    figsize=(9,9),\n",
    "    text_space=1.35\n",
    ")"
   ]
  },
  {
   "cell_type": "markdown",
   "metadata": {},
   "source": [
    "### IDF: edge thickness = #(DEGs) to relate to the coupling analysis heatmap"
   ]
  },
  {
   "cell_type": "code",
   "execution_count": null,
   "metadata": {},
   "outputs": [],
   "source": [
    "interpreter.type_coupling_analysis_circular(\n",
    "    edge_attr='de_genes',\n",
    "    edge_width_scale=3.5,\n",
    "    de_genes_threshold=1,\n",
    "    figsize=(9,9),\n",
    "    text_space=1.35\n",
    ")"
   ]
  },
  {
   "cell_type": "markdown",
   "metadata": {},
   "source": [
    "### 3. Directional sender effects for Epithelial cells and CD8 T cells\n",
    "\n",
    "We dissected these couplings based on the gene-wise effects of all senders on one receiver type for CD8T cells and Epithelial cells which contextualizes differential expression results of the CD8T cell–Epithelial cell axis.\n",
    "\n",
    "NCEM correctly identifies genes and proteins that play roles in T-cell activation, regulation of T-cell antigen receptor signalling and immune response."
   ]
  },
  {
   "cell_type": "markdown",
   "metadata": {},
   "source": [
    "### a) Sender effects on CD8 T cells \n",
    "\n",
    "“Sender effect” analysis heatmap for CD8 T cells. Shown is the estimated log fold change that the sender cell type on the x-axis induces in the gene on the y axis in receiving CD8 T cells."
   ]
  },
  {
   "cell_type": "code",
   "execution_count": null,
   "metadata": {},
   "outputs": [],
   "source": [
    "interpreter.sender_effect(\n",
    "    receiver='CD8 T cells', \n",
    "    gene_subset=['CD8A', 'CD4', 'PTPRC', 'ENTPD1', 'PDCD1', 'CD247'], \n",
    "    figsize=(4,5)\n",
    ")"
   ]
  },
  {
   "cell_type": "markdown",
   "metadata": {},
   "source": [
    "### b) Sender effects on Epithelial cells\n",
    "\n",
    "“Sender effect” analysis heatmap for Epithelial cells. Shown is the estimated log fold change that the sender cell type on the y-axis induces in the gene on the x axis in receiving Epithelial cells."
   ]
  },
  {
   "cell_type": "code",
   "execution_count": null,
   "metadata": {},
   "outputs": [],
   "source": [
    "interpreter.sender_effect(\n",
    "    receiver='Epithelial', \n",
    "    gene_subset=['CD8A', 'CD4', 'PTPRC', 'ENTPD1', 'PDCD1', 'CD247'], \n",
    "    figsize=(4,5)\n",
    ")"
   ]
  },
  {
   "cell_type": "markdown",
   "metadata": {},
   "source": [
    "### c) Directional effect for sender-receiver axis for CD8 T cells on Epithelial cells \n",
    "\n",
    "This analysis contextualizes differential expression results of the CD8 Tcell – Epithelial cell axis."
   ]
  },
  {
   "cell_type": "markdown",
   "metadata": {},
   "source": [
    "Volcano plot of differentially expressed genes of Epithelial cells in the neighborhood of CD8 T cells."
   ]
  },
  {
   "cell_type": "code",
   "execution_count": null,
   "metadata": {},
   "outputs": [],
   "source": [
    "interpreter.sender_receiver_effect_vulcanoplot(\n",
    "    sender='CD8 T cells', \n",
    "    receiver='Epithelial',\n",
    "    fold_change_threshold=0.04,\n",
    "    figsize=(3,5)\n",
    ")"
   ]
  },
  {
   "cell_type": "code",
   "execution_count": null,
   "metadata": {},
   "outputs": [],
   "source": [
    "# low fold change\n",
    "interpreter.sender_receiver_values(\n",
    "    sender='CD8 T cells', \n",
    "    receiver='Epithelial'\n",
    ").sort_values(by='fold change').head(5)"
   ]
  },
  {
   "cell_type": "code",
   "execution_count": null,
   "metadata": {},
   "outputs": [],
   "source": [
    "# high fold change\n",
    "interpreter.sender_receiver_values(\n",
    "    sender='CD8 T cells', \n",
    "    receiver='Epithelial'\n",
    ").sort_values(by='fold change', ascending=False).head(5)"
   ]
  },
  {
   "cell_type": "markdown",
   "metadata": {},
   "source": [
    "### d) Squidpy: Ligand-receptor interactions\n",
    "Again, these core associations are reproduced by CellphoneDB. However only on receptor signaling genes. The shown result can be extracted with Squidpy.\n",
    "\n",
    "NCEM is not limited to receptor signaling genes only."
   ]
  },
  {
   "cell_type": "code",
   "execution_count": null,
   "metadata": {},
   "outputs": [],
   "source": [
    "# interpreter.data.ligrec(\n",
    "#     fraction=0.70,\n",
    "# )"
   ]
  },
  {
   "cell_type": "markdown",
   "metadata": {},
   "source": [
    "### 4. Sender similarity analysis for Epithelial cells\n",
    "\n",
    "“Sender similarity analysis” of all sender cell types with respect to Epithelial cell receivers. Shown is a clustered heatmap of Pearson correlation coefficients of the coefficient vectors of each sender type that corresponds to Epithelial cell receivers.\n",
    "\n",
    "T cell clusters and other immune cells had a similar effect on Epithelial cells in a “sender similarity analysis”, in which we correlated the coefficient vectors of sender cell types that correspond to Epithelial cell receivers, which demonstrates conservation of cell type identity in the sender profile."
   ]
  },
  {
   "cell_type": "code",
   "execution_count": null,
   "metadata": {},
   "outputs": [],
   "source": [
    "interpreter.sender_similarity_analysis(receiver='Epithelial')"
   ]
  },
  {
   "cell_type": "markdown",
   "metadata": {},
   "source": [
    "### 5. Custom directional sender-receiver graph\n",
    "\n",
    "`cusom_effect_graph()`"
   ]
  },
  {
   "cell_type": "markdown",
   "metadata": {},
   "source": [
    "Basis for custom wrapper\n",
    " - Equivalent to type-coupling analysis but introducing two optional parameters:\n",
    "    - q-value threshold\n",
    "    - fold-change threshold\n"
   ]
  },
  {
   "cell_type": "code",
   "execution_count": null,
   "metadata": {},
   "outputs": [],
   "source": [
    "# Custom wrapper function\n",
    "def ncem_sender_receiver_interactions(\n",
    "    radius: int=35,\n",
    "    n_eval_nodes: int=10,\n",
    "    qval_thresh: float=0.05, \n",
    "    l1_thresh: int=0,\n",
    "    fc_thresh=[0.00, 0.00],\n",
    "    l2_thresh=0,\n",
    "    plot: bool=True\n",
    "    ):\n",
    "    '''\n",
    "    Calculates a custom sender-receiver graph based on interpreter.sender_effect()\n",
    "     affected gene numbers per sender-receiver pair.\n",
    "\n",
    "    Prerequisites:\n",
    "     - import ncem\n",
    "     - know what data loader you want to use\n",
    "     - spatial data directories and files structured after the data loaders structure\n",
    "\n",
    "    Input\n",
    "     - Spatial features data\n",
    "     - Parameters:\n",
    "        - qval_thresh: FDR corrected p-value to be used as an upper-bound significance threshold\n",
    "           (both L1 and L2 arrays)\n",
    "        - l1_thresh: Minimum number of significant genes threshold for the L1 array.\n",
    "        - fc_thresh:\n",
    "            - Option 1: a list of two int or float numbers to be used as an upper-bound (first number)\n",
    "               and lower-bound (second number)\n",
    "               thresholds for the original coefficient values (only applied to L2 array).\n",
    "            - Option 2: an int or float number. Assuming a normal distribution of coefficient values,\n",
    "               the number indicates the standard deviation to be used as a cutoff. Only values above and\n",
    "               below the mean +/- the standard deviation will be included (only on L2 norm array).\n",
    "        - l2_thresh:\n",
    "            - Option 1: Lower-bound threshold for computed L2 norm values (L2 array only).\n",
    "            - Option 2: Use a specific percentile as a lower-bound threshold for computed\n",
    "               L2 norm values (L2 array only).\n",
    "               Notation str('AXX'), where 'A' is short for 'Above' and the 'XX' are strictly\n",
    "               two numbers (int) to be considered as the lower-bound percentile threshold.\n",
    "\n",
    "    Output:\n",
    "     - List of 2 numpy arrays:\n",
    "        - 1. Type-coupling (Sender-receiver effect) interaction matrix\n",
    "            L1 norm of the number of significant interaction terms per cell\n",
    "        - 2. Sender-receiver magnitude effect interaction matrix\n",
    "            L2 norm of interacton term coefficients of genes per cell\n",
    "        - dim(cell-types x cell-types)\n",
    "            - [receiver, sender]\n",
    "    '''\n",
    "\n",
    "    # Some relevant variables\n",
    "    clusters = interpreter.cell_names\n",
    "    num_clusters = len(clusters)\n",
    "    vars = interpreter.data.var_names\n",
    "    num_vars = len(vars)\n",
    "    qvals = interpreter.qvalues\n",
    "\n",
    "    # interpreter.fold_change\n",
    "    #  - numpy array of shape [8, 8 , 36] = [receiver clusters, sender clusters, features]\n",
    "    #  - dtype=float32\n",
    "\n",
    "\n",
    "\n",
    "    # L1-signigicance interaction matrix\n",
    "\n",
    "    l1_effects = interpreter.fold_change\n",
    "\n",
    "    # Filter out genes under corrected qval\n",
    "    l1_effects = l1_effects * (qvals < qval_thresh)\n",
    "\n",
    "    # L1 norm AKA Count genes > 0 per sender-receiver pair\n",
    "    l1_effects = np.sum(l1_effects != 0, axis=2)\n",
    "\n",
    "    # Filter out sender-receiver effects A.K.A node edges > nr_genes_thresh\n",
    "    l1_effects = np.where(l1_effects > l1_thresh, l1_effects, np.zeros([num_clusters, num_clusters]))\n",
    "\n",
    "    np.fill_diagonal(l1_effects, 0)\n",
    "\n",
    "\n",
    "\n",
    "    # L2-coefficient interaction matrix\n",
    "\n",
    "    l2_effects = interpreter.fold_change\n",
    "\n",
    "    # Filter out genes under/over fc_thresh\n",
    "\n",
    "    try:\n",
    "\n",
    "        if isinstance(fc_thresh, list) & (len(fc_thresh) == 2) & isinstance(fc_thresh[0], (int, float)) & isinstance(fc_thresh[1], (int, float)):\n",
    "\n",
    "            l2_effects = np.where((l2_effects < fc_thresh[0]) | (l2_effects > (fc_thresh[1])), l2_effects, np.zeros([num_clusters, num_clusters, num_vars]))\n",
    "\n",
    "    except: \n",
    "\n",
    "        if isinstance(fc_thresh, (int, float)):\n",
    "            \n",
    "            mean = np.mean(l2_effects)\n",
    "            std = np.std(l2_effects)\n",
    "\n",
    "            l2_effects = np.where((l2_effects < (mean - (fc_thresh * std))) | (l2_effects > (mean + (fc_thresh * std))), l2_effects, np.zeros([num_clusters, num_clusters, num_vars]))\n",
    "        \n",
    "        else:\n",
    "            raise Exception(f'{fc_thresh} doesnt comply with possible parameter types.')\n",
    "\n",
    "\n",
    "    # Filter out genes under corrected qval\n",
    "    print(qvals[3,5, 16])\n",
    "    print(qval_thresh)\n",
    "    print(\"Before\")\n",
    "    print(l2_effects[3,5,16])\n",
    "    l2_effects = l2_effects * (qvals < qval_thresh)\n",
    "    print(\"After\")\n",
    "    print(l2_effects[3,5,16])\n",
    "    qvals = np.where(qvals < 0.01, qvals, np.zeros([8,8,36]))\n",
    "    print(sp.stats.describe(qvals.flatten()))\n",
    "\n",
    "    # L2 norm\n",
    "    l2_effects = np.sqrt(np.sum(l2_effects ** 2, axis=-1))\n",
    "\n",
    "    # Filter out sender-receiver effects A.K.A L2 score > l2_thresh\n",
    "    if isinstance(l2_thresh, (int, float)):\n",
    "\n",
    "        l2_effects = np.where(l2_effects > l2_thresh, l2_effects, np.zeros([num_clusters, num_clusters]))\n",
    "    \n",
    "    elif isinstance(l2_thresh, str) & len(l2_thresh) == 3:\n",
    "        \n",
    "        try:\n",
    "\n",
    "            _ = l2_thresh[0] == 'A'\n",
    "            int_number = int(l2_thresh[1, 3])\n",
    "\n",
    "            percentile =  np.percentile(l2_effects, int_number)\n",
    "\n",
    "            l2_effects = np.where(l2_effects > percentile, l2_effects, np.zeros([num_clusters, num_clusters]))\n",
    "\n",
    "\n",
    "        except ValueError:\n",
    "\n",
    "            print('l2_thresh doesnt comply with the parameter possibilities.')\n",
    "    \n",
    "    else:\n",
    "\n",
    "        print('l2_thresh doesnt comply with the parameter possibilities.')\n",
    "\n",
    "    np.fill_diagonal(l2_effects, 0)\n",
    "\n",
    "\n",
    "    # Heatmap\n",
    "    if plot == True:\n",
    "\n",
    "        fig, (ax0, ax1) = plt.subplots(1, 2, sharex=True)\n",
    "\n",
    "        im0 = ax0.imshow(l1_effects, cmap='gray_r')\n",
    "        im1 = ax1.imshow(l2_effects, cmap='gray_r')\n",
    "        ax0.set_title('Sender-receiver effects:\\nL1(significance)')\n",
    "        ax1.set_title(\"Sender-receiver effects:\\nL2(interaction terms)\")\n",
    "\n",
    "        for ax in fig.get_axes():\n",
    "            \n",
    "            ax.set_xlabel('Senders')\n",
    "            ax.set_xticks([i for i in range(0,8)])\n",
    "            ax.set_xticklabels(interpreter.cell_names, rotation=90)\n",
    "\n",
    "            ax.set_ylabel('Receivers')\n",
    "            ax.set_yticks([i for i in range(0,8)])\n",
    "            ax.set_yticklabels(interpreter.cell_names)\n",
    "\n",
    "            ax.label_outer()\n",
    "\n",
    "        fig.colorbar(im0, ax=ax0, shrink=0.49)\n",
    "        fig.colorbar(im1, ax=ax1, shrink=0.49)\n",
    "\n",
    "        plt.show()\n",
    "\n",
    "    return [l1_effects, l2_effects]"
   ]
  },
  {
   "cell_type": "code",
   "execution_count": null,
   "metadata": {},
   "outputs": [],
   "source": [
    "# Applying the function\n",
    "ncem_interactions = ncem_sender_receiver_interactions(\n",
    "    radius=35,\n",
    "    n_eval_nodes=10,\n",
    "    qval_thresh=0.05,\n",
    "    l1_thresh=0,\n",
    "    fc_thresh=0,\n",
    "    l2_thresh=0\n",
    ")\n"
   ]
  }
 ],
 "metadata": {
  "kernelspec": {
   "display_name": "Python 3",
   "language": "python",
   "name": "python3"
  },
  "language_info": {
   "codemirror_mode": {
    "name": "ipython",
    "version": 3
   },
   "file_extension": ".py",
   "mimetype": "text/x-python",
   "name": "python",
   "nbconvert_exporter": "python",
   "pygments_lexer": "ipython3",
   "version": "3.10.6"
  },
  "orig_nbformat": 4,
  "vscode": {
   "interpreter": {
    "hash": "916dbcbb3f70747c44a77c7bcd40155683ae19c65e1c03b4aa3499c5328201f1"
   }
  }
 },
 "nbformat": 4,
 "nbformat_minor": 2
}
